{
  "nbformat": 4,
  "nbformat_minor": 0,
  "metadata": {
    "colab": {
      "provenance": [],
      "authorship_tag": "ABX9TyPaoa5R2+GHeAcQDfcAkM0S",
      "include_colab_link": true
    },
    "kernelspec": {
      "name": "python3",
      "display_name": "Python 3"
    },
    "language_info": {
      "name": "python"
    }
  },
  "cells": [
    {
      "cell_type": "markdown",
      "metadata": {
        "id": "view-in-github",
        "colab_type": "text"
      },
      "source": [
        "<a href=\"https://colab.research.google.com/github/qus0in/Python/blob/main/submission/qus0in/ch03_02_%ED%81%B4%EB%9E%98%EC%8A%A4_qus0in.ipynb\" target=\"_parent\"><img src=\"https://colab.research.google.com/assets/colab-badge.svg\" alt=\"Open In Colab\"/></a>"
      ]
    },
    {
      "cell_type": "markdown",
      "source": [
        "# 클래스"
      ],
      "metadata": {
        "id": "8kU8l8cS3AlY"
      }
    },
    {
      "cell_type": "markdown",
      "source": [
        "​클래스는 객체를 표현하기 위한 문법입니다. 예를 들어 게임을 만든다고 하면 기사, 마법사, 궁수, 사제 등 직업별로 클래스를 만들어서 표현할 수 있습니다.\n",
        "\n",
        "물론 집, 자동차, 나무 등도 클래스로 표현할 수 있습니다. 특히 프로그래밍에서는 현실 세계에 있는 개념들뿐만 아니라 컴퓨터 안에서만 쓰이는 개념들도 클래스로 만들어서 표현합니다. 웹 브라우저에서 내용이 길어지면 보이는 스크롤 바, 프로그램에서 주로 볼 수 있는 버튼, 체크 박스 등이 대표적입니다.\n",
        "\n",
        "지금까지 나온 기사, 마법사, 궁수, 사제, 집, 자동차, 나무, 스크롤 바, 버튼, 체크 박스처럼 특정한 개념이나 모양으로 존재하는 것을 객체(object)라고 부릅니다. 그리고 프로그래밍으로 객체를 만들 때 사용하는 것이 클래스입니다.\n",
        "\n",
        "그럼 게임의 기사 캐릭터를 클래스로 표현하려면 무엇이 필요할까요? 간단합니다. 일단 게임 캐릭터는 체력, 마나, 물리 공격력, 주문력 등이 필요합니다. 그리고 기사 캐릭터는 칼로 베기, 찌르기 등의 스킬이 있어야 합니다.\n",
        "\n",
        "여기서 체력, 마나, 물리 공격력, 주문력 등의 데이터를 클래스의 속성(attribute)이라 부르고, 베기, 찌르기 등의 기능을 메서드(method)라고 부릅니다.\n",
        "\n",
        "이렇게 프로그래밍 방법을 객체지향(object oriented) 프로그래밍이라고 합니다. 객체지향 프로그래밍은 복잡한 문제를 잘게 나누어 객체로 만들고, 객체를 조합해서 문제를 해결합니다. 따라서 현실 세계의 복잡한 문제를 처리하는데 유용하며 기능을 개선하고 발전시킬 때도 해당 클래스만 수정하면 되므로 유지 보수에도 효율적입니다.\n",
        "\n",
        "지금까지 숫자 1, 2, 3 문자 'a', 'b', 'c', 리스트, 딕셔너리 등을 조합해서 프로그램을 만들었는데 사실 파이썬에서는 이 모든 것이 객체입니다. 이번에는 클래스를 사용해서 객체를 표현하고 만드는 방법을 알아보겠습니다."
      ],
      "metadata": {
        "id": "voNSiaBg3DuC"
      }
    },
    {
      "cell_type": "markdown",
      "source": [
        "## 클래스와 메서드 만들기"
      ],
      "metadata": {
        "id": "w_mpoVuS3Kh5"
      }
    },
    {
      "cell_type": "markdown",
      "source": [
        "\n",
        "클래스는 class에 클래스 이름을 지정하고 :(콜론)을 붙인 뒤 다음 줄부터 def로 메서드를 작성하면 됩니다. 여기서 메서드는 클래스 안에 들어있는 함수를 뜻합니다.\n",
        "\n",
        "클래스 이름을 짓는 방법은 변수와 같습니다. 보통 파이썬에서는 클래스의 이름은 대문자로 시작합니다. 그리고 메서드 작성 방법은 함수와 같으며 코드는 반드시 들여쓰기를 해야 합니다(들여쓰기 규칙은 if, for, while과 같습니다). 특히 메서드의 첫 번째 매개변수는 반드시 self를 지정해야 합니다.\n",
        "\n",
        "```\n",
        "class 클래스이름:\n",
        "    def 메서드(self):\n",
        "        코드\n",
        "```"
      ],
      "metadata": {
        "id": "Zg3_tVXs3NKM"
      }
    },
    {
      "cell_type": "code",
      "execution_count": 1,
      "metadata": {
        "id": "nzS17w5p25ci"
      },
      "outputs": [],
      "source": [
        "# something_special : 스네이크 케이스\n",
        "# somethingSpecial : 카멜 케이스\n",
        "# something-special : 케밥 케이스\n",
        "class AwesomeTeacher: # 파스칼 케이스\n",
        "    def chat(self):\n",
        "        print(\"헛소리는 참을 수 없지!\")"
      ]
    },
    {
      "cell_type": "markdown",
      "source": [
        "그럼 이 클래스를 사용해봐야겠죠? 다음과 같이 클래스에 ()(괄호)를 붙인 뒤 변수에 할당합니다.\n",
        "\n",
        "* `인스턴스 = 클래스()`"
      ],
      "metadata": {
        "id": "yufRvbF03Ufr"
      }
    },
    {
      "cell_type": "code",
      "source": [
        "teacher = AwesomeTeacher()"
      ],
      "metadata": {
        "id": "QIqY3_Sz3SaZ"
      },
      "execution_count": 2,
      "outputs": []
    },
    {
      "cell_type": "markdown",
      "source": [
        "Person으로 변수 james를 만들었는데 이 james가 Person의 인스턴스(instance)입니다. 클래스는 특정 개념을 표현만 할뿐 사용을 하려면 인스턴스를 생성해야 합니다."
      ],
      "metadata": {
        "id": "lBdCLhtT3ZP4"
      }
    },
    {
      "cell_type": "markdown",
      "source": [
        "### 메서드 호출하기"
      ],
      "metadata": {
        "id": "dEEFutPa3bUF"
      }
    },
    {
      "cell_type": "markdown",
      "source": [
        "이제 메서드를 호출해보겠습니다. 메서드는 클래스가 아니라 인스턴스를 통해 호출합니다. 다음과 같이 인스턴스 뒤에 .(점)을 붙이고 메서드를 호출하면 됩니다.\n",
        "\n",
        "* `인스턴스.메서드()`"
      ],
      "metadata": {
        "id": "FSxwAtKc3d_r"
      }
    },
    {
      "cell_type": "code",
      "source": [
        "teacher.chat()"
      ],
      "metadata": {
        "colab": {
          "base_uri": "https://localhost:8080/"
        },
        "id": "LaF5pEoM3Xji",
        "outputId": "42ab4bcc-30f3-49b4-93b4-631ac83f4cc2"
      },
      "execution_count": 3,
      "outputs": [
        {
          "output_type": "stream",
          "name": "stdout",
          "text": [
            "헛소리는 참을 수 없지!\n"
          ]
        }
      ]
    },
    {
      "cell_type": "code",
      "source": [
        "a = list()\n",
        "a.append(\"a\")\n",
        "a"
      ],
      "metadata": {
        "colab": {
          "base_uri": "https://localhost:8080/"
        },
        "id": "uWhKERd35cuW",
        "outputId": "0071352e-531e-4532-d46f-a9233684a158"
      },
      "execution_count": 4,
      "outputs": [
        {
          "output_type": "execute_result",
          "data": {
            "text/plain": [
              "['a']"
            ]
          },
          "metadata": {},
          "execution_count": 4
        }
      ]
    },
    {
      "cell_type": "markdown",
      "source": [
        "인스턴스를 통해 호출하는 메서드를 인스턴스 메서드라고 부릅니다."
      ],
      "metadata": {
        "id": "HQtBu2ks3iWl"
      }
    },
    {
      "cell_type": "markdown",
      "source": [
        "### 파이썬에서 흔히 볼 수 있는 클래스"
      ],
      "metadata": {
        "id": "xhEQN8ul3lMr"
      }
    },
    {
      "cell_type": "markdown",
      "source": [
        "지금까지 사용한 int, list, dict 등도 사실 클래스입니다. 우리는 이 클래스로 인스턴스를 만들고 메서드를 사용했습니다."
      ],
      "metadata": {
        "id": "GuUGH_jQ3oxI"
      }
    },
    {
      "cell_type": "markdown",
      "source": [
        "파이썬에서는 자료형도 클래스입니다. 다음과 같이 type을 사용하면 객체(인스턴스)가 어떤 클래스인지 확인할 수 있습니다.\n",
        "\n",
        "* `type(객체)`"
      ],
      "metadata": {
        "id": "3GzyzEZk3uVA"
      }
    },
    {
      "cell_type": "code",
      "source": [
        "print(type(teacher))\n",
        "print(type([]))\n",
        "print(type({}))"
      ],
      "metadata": {
        "colab": {
          "base_uri": "https://localhost:8080/"
        },
        "id": "hXMDY6DC3sR2",
        "outputId": "63bf3ccb-191e-4be6-b4bf-4551fcb047b3"
      },
      "execution_count": 9,
      "outputs": [
        {
          "output_type": "stream",
          "name": "stdout",
          "text": [
            "<class '__main__.AwesomeTeacher'>\n",
            "<class 'list'>\n",
            "<class 'dict'>\n"
          ]
        }
      ]
    },
    {
      "cell_type": "markdown",
      "source": [
        "### 인스턴스와 객체의 차이점?"
      ],
      "metadata": {
        "id": "_cGp42zp39HX"
      }
    },
    {
      "cell_type": "markdown",
      "source": [
        "클래스는 객체를 표현하는 문법이라고 했는데, 클래스로 인스턴스를 만든다고 하니 좀 헷갈리죠? 사실 인스턴스와 객체는 같은 것을 뜻합니다. 보통 객체만 지칭할 때는 그냥 객체(object)라고 부릅니다. 하지만 클래스와 연관지어서 말할 때는 인스턴스(instance)라고 부릅니다. 그래서 다음과 같이 리스트 변수 a, b가 있으면 a, b는 객체입니다. 그리고 a와 b는 list 클래스의 인스턴스입니다."
      ],
      "metadata": {
        "id": "tVpP9ey93_l9"
      }
    },
    {
      "cell_type": "code",
      "source": [
        "a = list(range(10))\n",
        "b = list(range(20))"
      ],
      "metadata": {
        "id": "m69P_DEc37PD"
      },
      "execution_count": 10,
      "outputs": []
    },
    {
      "cell_type": "markdown",
      "source": [
        "### 빈 클래스 만들기"
      ],
      "metadata": {
        "id": "t9ogtZEA4LzK"
      }
    },
    {
      "cell_type": "code",
      "source": [
        "# 내용이 없는 빈 클래스를 만들 때는 코드 부분에 pass를 넣어줍니다.\n",
        "class Empty:\n",
        "    pass"
      ],
      "metadata": {
        "id": "PsgUZVaJ4D_q"
      },
      "execution_count": 11,
      "outputs": []
    },
    {
      "cell_type": "markdown",
      "source": [
        "### 메서드 안에서 메서드 호출하기"
      ],
      "metadata": {
        "id": "Eg8qgXCh4SAw"
      }
    },
    {
      "cell_type": "markdown",
      "source": [
        "메서드 안에서 메서드를 호출할 때는 다음과 같이 self.메서드() 형식으로 호출해야 합니다. self 없이 메서드 이름만 사용하면 클래스 바깥쪽에 있는 함수를 호출한다는 뜻이 되므로 주의해야 합니다.\n",
        "\n"
      ],
      "metadata": {
        "id": "2bO_llEl4UBH"
      }
    },
    {
      "cell_type": "code",
      "source": [
        "class FishBread:\n",
        "    def eat(self): #2-2 # self가 맨 처음에 있어야 함 (메소드 공통)\n",
        "        print(\"냠냠\") #2-2-1\n",
        "    \n",
        "    def smell(self): # 2\n",
        "        print(\"맛있는 냄새~\") # 2-1\n",
        "        self.eat() # 2-2\n",
        "    \n",
        "    def light(self):\n",
        "        print(\"빛이 난다아아아!\")\n",
        "        self.eat()"
      ],
      "metadata": {
        "id": "o1DTyQGY4QcS"
      },
      "execution_count": 14,
      "outputs": []
    },
    {
      "cell_type": "code",
      "source": [
        "box = FishBread() # 1\n",
        "box.smell() # 2\n",
        "box.light() # 2"
      ],
      "metadata": {
        "colab": {
          "base_uri": "https://localhost:8080/"
        },
        "id": "VVBLsAKA7DjV",
        "outputId": "1d088ff8-404f-485c-f60d-5a2f401890ed"
      },
      "execution_count": 15,
      "outputs": [
        {
          "output_type": "stream",
          "name": "stdout",
          "text": [
            "맛있는 냄새~\n",
            "냠냠\n",
            "빛이 난다아아아!\n",
            "냠냠\n"
          ]
        }
      ]
    },
    {
      "cell_type": "markdown",
      "source": [
        "### 특정 클래스의 인스턴스인지 확인하기"
      ],
      "metadata": {
        "id": "hsrR8ZJV4XWj"
      }
    },
    {
      "cell_type": "markdown",
      "source": [
        "현재 인스턴스가 특정 클래스의 인스턴스인지 확인할 때는 isinstance 함수를 사용합니다. 특정 클래스의 인스턴스가 맞으면 True, 아니면 False를 반환합니다.\n",
        "\n",
        "* `isinstance(인스턴스, 클래스)`"
      ],
      "metadata": {
        "id": "bdtKTAcU4Za4"
      }
    },
    {
      "cell_type": "code",
      "source": [
        "isinstance(box, FishBread), isinstance(teacher, FishBread)"
      ],
      "metadata": {
        "colab": {
          "base_uri": "https://localhost:8080/"
        },
        "id": "BWyBLHyh4WO1",
        "outputId": "aa39038c-23dc-40b2-914d-d062c995bbd7"
      },
      "execution_count": 17,
      "outputs": [
        {
          "output_type": "execute_result",
          "data": {
            "text/plain": [
              "(True, False)"
            ]
          },
          "metadata": {},
          "execution_count": 17
        }
      ]
    },
    {
      "cell_type": "markdown",
      "source": [
        "isinstance는 주로 객체의 자료형을 판단할 때 사용합니다. 예를 들어 팩토리얼 함수는 1부터 n까지 양의 정수를 차례대로 곱해야 하는데, 실수와 음의 정수는 계산할 수 없습니다. 이런 경우에 isinstance를 사용하여 숫자(객체)가 정수일 때만 계산하도록 만들 수 있습니다."
      ],
      "metadata": {
        "id": "TeWnvjOT4go2"
      }
    },
    {
      "cell_type": "code",
      "source": [
        "# n! = n * (n-1)! = ... = n * ... * 1\n",
        "# factorial 자연수 -> int\n",
        "def factorial(n):\n",
        "    print(n, end=' ')\n",
        "    if n == 1 : return 1\n",
        "    return n * factorial(n-1)"
      ],
      "metadata": {
        "id": "8W0Wzvoa4fNC"
      },
      "execution_count": 22,
      "outputs": []
    },
    {
      "cell_type": "code",
      "source": [
        "factorial(10)"
      ],
      "metadata": {
        "colab": {
          "base_uri": "https://localhost:8080/"
        },
        "id": "moto5YAM4iM_",
        "outputId": "439f89e9-726f-412e-8bc5-21459b7b4146"
      },
      "execution_count": 23,
      "outputs": [
        {
          "output_type": "stream",
          "name": "stdout",
          "text": [
            "10 9 8 7 6 5 4 3 2 1 "
          ]
        },
        {
          "output_type": "execute_result",
          "data": {
            "text/plain": [
              "3628800"
            ]
          },
          "metadata": {},
          "execution_count": 23
        }
      ]
    },
    {
      "cell_type": "code",
      "source": [
        "# n! = n * (n-1)! = ... = n * ... * 1\n",
        "# factorial 자연수 -> int\n",
        "def factorial(n: int):\n",
        "    # if isinstance(n, int) and n > 0:\n",
        "    #     print(n, end=' ')\n",
        "    #     if n == 1 : return 1\n",
        "    #     return n * factorial(n-1)\n",
        "    if not isinstance(n, int) or n <= 0:\n",
        "        print(\"양의 정수를 넣어주세요!\")\n",
        "        # return None\n",
        "        return\n",
        "    print(n, end=' ')\n",
        "    if n == 1 : return 1\n",
        "    return n * factorial(n-1)"
      ],
      "metadata": {
        "id": "xe-FTkvb8b8k"
      },
      "execution_count": 24,
      "outputs": []
    },
    {
      "cell_type": "code",
      "source": [
        "factorial(\"1\"), factorial(-100), factorial(100)"
      ],
      "metadata": {
        "colab": {
          "base_uri": "https://localhost:8080/"
        },
        "id": "eYltIzFe82iW",
        "outputId": "dd95c570-c292-422c-b0e4-399c82d83cc9"
      },
      "execution_count": 27,
      "outputs": [
        {
          "output_type": "stream",
          "name": "stdout",
          "text": [
            "양의 정수를 넣어주세요!\n",
            "양의 정수를 넣어주세요!\n",
            "100 99 98 97 96 95 94 93 92 91 90 89 88 87 86 85 84 83 82 81 80 79 78 77 76 75 74 73 72 71 70 69 68 67 66 65 64 63 62 61 60 59 58 57 56 55 54 53 52 51 50 49 48 47 46 45 44 43 42 41 40 39 38 37 36 35 34 33 32 31 30 29 28 27 26 25 24 23 22 21 20 19 18 17 16 15 14 13 12 11 10 9 8 7 6 5 4 3 2 1 "
          ]
        },
        {
          "output_type": "execute_result",
          "data": {
            "text/plain": [
              "(None,\n",
              " None,\n",
              " 93326215443944152681699238856266700490715968264381621468592963895217599993229915608941463976156518286253697920827223758251185210916864000000000000000000000000)"
            ]
          },
          "metadata": {},
          "execution_count": 27
        }
      ]
    },
    {
      "cell_type": "markdown",
      "source": [
        "## 속성 사용하기"
      ],
      "metadata": {
        "id": "n5YKthte9qC8"
      }
    },
    {
      "cell_type": "markdown",
      "source": [
        "지금까지 클래스에서 메서드를 만들고 호출해보았습니다. 이번에는 클래스에서 속성을 만들고 사용해보겠습니다. 속성(attribute)을 만들 때는 `__init__` 메서드 안에서 self.속성에 값을 할당합니다.\n",
        "\n",
        "```\n",
        "class 클래스이름:\n",
        "    def __init__(self):\n",
        "        self.속성 = 값\n",
        "```"
      ],
      "metadata": {
        "id": "WaV4TdzR9usU"
      }
    },
    {
      "cell_type": "code",
      "source": [
        "class Student:\n",
        "    def __init__(self) -> None:\n",
        "        print(\"생성자~\")\n",
        "        self.computer = \"맥북\"\n",
        "        self.books = [\"혼자서하는 파이썬\", \"혼자서하는 점심먹기\"]"
      ],
      "metadata": {
        "id": "CYzTrTQ99tcf"
      },
      "execution_count": 35,
      "outputs": []
    },
    {
      "cell_type": "code",
      "source": [
        "kim = Student()"
      ],
      "metadata": {
        "colab": {
          "base_uri": "https://localhost:8080/"
        },
        "id": "55WPJw-C-CBg",
        "outputId": "bb684456-c72d-40b8-9ab6-fe04a55ebcaa"
      },
      "execution_count": 36,
      "outputs": [
        {
          "output_type": "stream",
          "name": "stdout",
          "text": [
            "생성자~\n"
          ]
        }
      ]
    },
    {
      "cell_type": "code",
      "source": [
        "kim.computer"
      ],
      "metadata": {
        "colab": {
          "base_uri": "https://localhost:8080/",
          "height": 36
        },
        "id": "vwudsfq6-FUu",
        "outputId": "3eccef96-43cf-46d1-f288-905fe7faa4d5"
      },
      "execution_count": 31,
      "outputs": [
        {
          "output_type": "execute_result",
          "data": {
            "text/plain": [
              "'맥북'"
            ],
            "application/vnd.google.colaboratory.intrinsic+json": {
              "type": "string"
            }
          },
          "metadata": {},
          "execution_count": 31
        }
      ]
    },
    {
      "cell_type": "code",
      "source": [
        "kim.books"
      ],
      "metadata": {
        "colab": {
          "base_uri": "https://localhost:8080/"
        },
        "id": "VcOSXEJd-IGO",
        "outputId": "839291f0-5b6b-425a-8f22-1aa3aaac66ef"
      },
      "execution_count": 34,
      "outputs": [
        {
          "output_type": "execute_result",
          "data": {
            "text/plain": [
              "['혼자서하는 파이썬', '혼자서하는 점심먹기']"
            ]
          },
          "metadata": {},
          "execution_count": 34
        }
      ]
    },
    {
      "cell_type": "markdown",
      "source": [
        "```\n",
        "__init__ 메서드는 james = Person()처럼 클래스에 ( )(괄호)를 붙여서 인스턴스를 만들 때 호출되는 특별한 메서드입니다.\n",
        "즉, __init__(initialize)이라는 이름 그대로 인스턴스(객체)를 초기화합니다.\n",
        "\n",
        "특히 이렇게 앞 뒤로 __(밑줄 두 개)가 붙은 메서드는 파이썬이 자동으로 호출해주는 메서드인데,\n",
        "스페셜 메서드(special method) 또는 매직 메서드(magic method)라고 부릅니다.\n",
        "앞으로 파이썬의 여러 가지 기능을 사용할 때 이 스페셜 메서드를 채우는 식으로 사용하게 됩니다.\n",
        "```"
      ],
      "metadata": {
        "id": "daH1yQUy976_"
      }
    },
    {
      "cell_type": "markdown",
      "source": [
        "```\n",
        "속성은 __init__ 메서드에서 만든다는 점과 self에 .(점)을 붙인 뒤 값을 할당한다는 점이 중요합니다.\n",
        "클래스 안에서 속성을 사용할 때도 self.hello처럼 self에 점을 붙여서 사용하면 됩니다.\n",
        "```"
      ],
      "metadata": {
        "id": "cH13USFz-GvM"
      }
    },
    {
      "cell_type": "code",
      "source": [
        "kim = Student()\n",
        "lee = kim"
      ],
      "metadata": {
        "colab": {
          "base_uri": "https://localhost:8080/"
        },
        "id": "eXnrt7eS-vnD",
        "outputId": "df144639-4505-440f-f535-77a1f73a4d04"
      },
      "execution_count": 37,
      "outputs": [
        {
          "output_type": "stream",
          "name": "stdout",
          "text": [
            "생성자~\n"
          ]
        }
      ]
    },
    {
      "cell_type": "code",
      "source": [
        "lee.computer = 'LG Gram 뉴진스 에디션'\n",
        "kim.computer"
      ],
      "metadata": {
        "colab": {
          "base_uri": "https://localhost:8080/",
          "height": 36
        },
        "id": "zV4CzAcD-10G",
        "outputId": "58d3aec7-cbf4-4143-8620-f76c1132af55"
      },
      "execution_count": 39,
      "outputs": [
        {
          "output_type": "execute_result",
          "data": {
            "text/plain": [
              "'LG Gram 뉴진스 에디션'"
            ],
            "application/vnd.google.colaboratory.intrinsic+json": {
              "type": "string"
            }
          },
          "metadata": {},
          "execution_count": 39
        }
      ]
    },
    {
      "cell_type": "code",
      "source": [
        "kim.copy()"
      ],
      "metadata": {
        "colab": {
          "base_uri": "https://localhost:8080/",
          "height": 176
        },
        "id": "TzDZa3is-_3M",
        "outputId": "3e3810dd-bbbd-4ec7-d15f-baff81108914"
      },
      "execution_count": 40,
      "outputs": [
        {
          "output_type": "error",
          "ename": "AttributeError",
          "evalue": "ignored",
          "traceback": [
            "\u001b[0;31m---------------------------------------------------------------------------\u001b[0m",
            "\u001b[0;31mAttributeError\u001b[0m                            Traceback (most recent call last)",
            "\u001b[0;32m<ipython-input-40-91b576ac7c62>\u001b[0m in \u001b[0;36m<module>\u001b[0;34m\u001b[0m\n\u001b[0;32m----> 1\u001b[0;31m \u001b[0mkim\u001b[0m\u001b[0;34m.\u001b[0m\u001b[0mcopy\u001b[0m\u001b[0;34m(\u001b[0m\u001b[0;34m)\u001b[0m\u001b[0;34m\u001b[0m\u001b[0;34m\u001b[0m\u001b[0m\n\u001b[0m",
            "\u001b[0;31mAttributeError\u001b[0m: 'Student' object has no attribute 'copy'"
          ]
        }
      ]
    },
    {
      "cell_type": "code",
      "source": [
        "import copy\n",
        "\n",
        "park = copy.deepcopy(kim)\n",
        "park.computer = \"한성컴퓨터 보스몬스터\"\n",
        "kim.computer, park.computer"
      ],
      "metadata": {
        "colab": {
          "base_uri": "https://localhost:8080/"
        },
        "id": "xcXnJ488_DZj",
        "outputId": "a5d8fdc2-0e65-4c98-9145-4004ca197402"
      },
      "execution_count": 41,
      "outputs": [
        {
          "output_type": "execute_result",
          "data": {
            "text/plain": [
              "('LG Gram 뉴진스 에디션', '한성컴퓨터 보스몬스터')"
            ]
          },
          "metadata": {},
          "execution_count": 41
        }
      ]
    },
    {
      "cell_type": "markdown",
      "source": [
        "### self의 의미"
      ],
      "metadata": {
        "id": "wuM2FwFp-M9z"
      }
    },
    {
      "cell_type": "markdown",
      "source": [
        "그런데 도데체 self는 뭘까요? self는 인스턴스 자기 자신을 의미합니다. 우리는 인스턴스가 생성될 때 self.hello = '안녕하세요.'처럼 자기 자신에 속성을 추가했습니다. 여기서 `__init__`의 매개변수 self에 들어가는 값은 Person()이라 할 수 있습니다. 그리고 self가 완성된 뒤 james에 할당됩니다. 이후 메서드를 호출하면 현재 인스턴스가 자동으로 매개변수 self에 들어옵니다. 그래서 greeting 메서드에서 print(self.hello)처럼 속성을 출력할 수 있었던 것입니다."
      ],
      "metadata": {
        "id": "SfXz7IVa-QG2"
      }
    },
    {
      "cell_type": "markdown",
      "source": [
        "### 인스턴스를 만들 때 값 받기"
      ],
      "metadata": {
        "id": "K8pSifuN-WPK"
      }
    },
    {
      "cell_type": "markdown",
      "source": [
        "`__init__` 메서드에서 self 다음에 값을 받을 매개변수를 지정합니다. 그리고 매개변수를 self.속성에 넣어줍니다.\n",
        "\n",
        "```\n",
        "class 클래스이름:\n",
        "    def __init__(self, 매개변수1, 매개변수2):\n",
        "        self.속성1 = 매개변수1\n",
        "        self.속성2 = 매개변수2\n",
        "```"
      ],
      "metadata": {
        "id": "49pRycS_-alN"
      }
    },
    {
      "cell_type": "code",
      "source": [
        "class BreadMachine:\n",
        "    def __init__(self, source, price, option) -> None:\n",
        "        self.source = source\n",
        "        self.price = price\n",
        "        self.option = option\n",
        "    \n",
        "    def describe(self):\n",
        "        print(f\"재료 : {self.source}\")\n",
        "        print(f\"가격 : {self.price}\")\n",
        "        print(f\"굽기 : {self.option}\")\n",
        "\n",
        "bread1 = BreadMachine(\"팥\", 1200, \"웰던\")\n",
        "bread1.describe()\n",
        "bread2 = BreadMachine(\"슈크림\", 1500, \"레어\")\n",
        "bread2.describe()"
      ],
      "metadata": {
        "colab": {
          "base_uri": "https://localhost:8080/"
        },
        "id": "GUYznt7g936h",
        "outputId": "9d402a25-e8c5-48d2-f423-62ce7ac3d917"
      },
      "execution_count": 44,
      "outputs": [
        {
          "output_type": "stream",
          "name": "stdout",
          "text": [
            "재료 : 팥\n",
            "가격 : 1200\n",
            "굽기 : 웰던\n",
            "재료 : 슈크림\n",
            "가격 : 1500\n",
            "굽기 : 레어\n"
          ]
        }
      ]
    },
    {
      "cell_type": "markdown",
      "source": [
        "### 클래스의 위치 인수, 키워드 인수"
      ],
      "metadata": {
        "id": "V2ysLkFB-mvh"
      }
    },
    {
      "cell_type": "markdown",
      "source": [
        "클래스로 인스턴스를 만들 때 위치 인수와 키워드 인수를 사용할 수 있습니다. 규칙은 함수와 같습니다. 위치 인수와 리스트 언패킹을 사용하려면 다음과 같이 *args를 사용하면 됩니다. 이때 매개변수에서 값을 가져오려면 args[0]처럼 사용해야 합니다."
      ],
      "metadata": {
        "id": "SVif_Bp2-pRE"
      }
    },
    {
      "cell_type": "code",
      "source": [
        "# class 클래스명: \n",
        "# (1) class (2) ' ' (3) 클래스명:\n",
        "class BungeoppangStore:\n",
        "    # 생성자 -> 매개변수들 전달 -> 내부의 속성(변수) 지정\n",
        "    # 생성자 = 함수 -> 위치 인수, 가변 인수, 키워드 가변인수, 기본값...\n",
        "    def __init__(self, name, *args, price=1200, **kwargs) -> None:\n",
        "        self.name = name # 필수\n",
        "        self.menu = args # 메뉴들\n",
        "        self.price = price # 기본값이 있어서 입력 안해줘도 됨\n",
        "        self.visitors = kwargs\n",
        "    \n",
        "    def introduce(self):\n",
        "        print(f\"안녕하세요 여러분! {self.name} 붕어빵 가게가 오픈했습니다\")\n",
        "        for i in self.menu:\n",
        "            print(f\"저희는 {i} 메뉴가 있습니다\")\n",
        "    \n",
        "    # def sell(self, visitor):\n",
        "    #     if visitor in self.visitors:\n",
        "    #         print(f\"단골은 반값이에요! {self.price // 2}원만 내세요\")\n",
        "    #         # self.visitors[visitor] += self.price // 2\n",
        "    #         self.visitors.update({visitor :\n",
        "    #                              self.visitors[visitor] + (self.price // 2)})\n",
        "    #         return\n",
        "    #     self.visitors[visitor] = self.price\n",
        "    #     print(\"처음 방문이시네요~ 자주 오세요!\")\n",
        "\n",
        "    def sell(self, visitor, item=\"치약붕어빵\"):\n",
        "        if item not in self.menu:\n",
        "            print(f\"{item}은 판매하는 메뉴중에 없습니다!\")\n",
        "            return\n",
        "        if item == '치약붕어빵':\n",
        "            print(f\"오늘 재료소진으로 치약붕어빵은 마감입니다\")\n",
        "            return\n",
        "        if visitor in self.visitors:\n",
        "            print(f\"단골은 반값이에요! {self.price // 2}원만 내세요\")\n",
        "            # self.visitors[visitor] += self.price // 2\n",
        "            self.visitors.update({visitor :\n",
        "                                 self.visitors[visitor] + (self.price // 2)})\n",
        "            return\n",
        "        self.visitors[visitor] = self.price\n",
        "        print(\"처음 방문이시네요~ 자주 오세요!\")"
      ],
      "metadata": {
        "id": "qiYCRAQB-jE4"
      },
      "execution_count": 75,
      "outputs": []
    },
    {
      "cell_type": "code",
      "source": [
        "store1 = BungeoppangStore('민트초코붕어빵 1호점',\n",
        "                          '치약붕어빵', '번데기붕어빵', '취두부붕어빵',\n",
        "                          price=2000,\n",
        "                          james=5000, john=2000, kate=500\n",
        "                          )\n",
        "store1"
      ],
      "metadata": {
        "colab": {
          "base_uri": "https://localhost:8080/"
        },
        "id": "2FzvNnZ2FUPH",
        "outputId": "eb1555ac-1544-4c4a-8ba1-ffa913026a45"
      },
      "execution_count": 76,
      "outputs": [
        {
          "output_type": "execute_result",
          "data": {
            "text/plain": [
              "<__main__.BungeoppangStore at 0x7fefc8eca400>"
            ]
          },
          "metadata": {},
          "execution_count": 76
        }
      ]
    },
    {
      "cell_type": "code",
      "source": [
        "store1.visitors, store1.menu, store1.price"
      ],
      "metadata": {
        "colab": {
          "base_uri": "https://localhost:8080/"
        },
        "id": "8Yl2yUKYF1A8",
        "outputId": "34fbeb82-6bf4-421c-8f04-15d92aed7088"
      },
      "execution_count": 71,
      "outputs": [
        {
          "output_type": "execute_result",
          "data": {
            "text/plain": [
              "({'james': 5000, 'john': 2000, 'kate': 500},\n",
              " ('치약붕어빵', '번데기붕어빵', '취두부붕어빵'),\n",
              " 2000)"
            ]
          },
          "metadata": {},
          "execution_count": 71
        }
      ]
    },
    {
      "cell_type": "code",
      "source": [
        "store1.introduce()"
      ],
      "metadata": {
        "colab": {
          "base_uri": "https://localhost:8080/"
        },
        "id": "8qz-vffjF7H-",
        "outputId": "37999279-5138-4b7c-d62d-18dfe1d55e67"
      },
      "execution_count": 72,
      "outputs": [
        {
          "output_type": "stream",
          "name": "stdout",
          "text": [
            "안녕하세요 여러분! 민트초코붕어빵 1호점 붕어빵 가게가 오픈했습니다\n",
            "저희는 치약붕어빵 메뉴가 있습니다\n",
            "저희는 번데기붕어빵 메뉴가 있습니다\n",
            "저희는 취두부붕어빵 메뉴가 있습니다\n"
          ]
        }
      ]
    },
    {
      "cell_type": "code",
      "source": [
        "store1.sell('dongdong')"
      ],
      "metadata": {
        "colab": {
          "base_uri": "https://localhost:8080/"
        },
        "id": "w5lHHVP5GAti",
        "outputId": "f175b017-709d-4e85-ff88-b6835cdd69cc"
      },
      "execution_count": 73,
      "outputs": [
        {
          "output_type": "stream",
          "name": "stdout",
          "text": [
            "오늘 재료소진으로 치약붕어빵은 마감입니다\n",
            "처음 방문이시네요~ 자주 오세요!\n"
          ]
        }
      ]
    },
    {
      "cell_type": "code",
      "source": [
        "store1.sell('dongdong', '마약붕어빵')"
      ],
      "metadata": {
        "colab": {
          "base_uri": "https://localhost:8080/"
        },
        "id": "QR_vm0pTIIS8",
        "outputId": "4a188a46-2d9e-4f03-f713-0833a2c0518a"
      },
      "execution_count": 74,
      "outputs": [
        {
          "output_type": "stream",
          "name": "stdout",
          "text": [
            "마약붕어빵은 판매하는 메뉴중에 없습니다!\n",
            "단골은 반값이에요! 1000원만 내세요\n"
          ]
        }
      ]
    },
    {
      "cell_type": "code",
      "source": [
        "store1.visitors"
      ],
      "metadata": {
        "colab": {
          "base_uri": "https://localhost:8080/"
        },
        "id": "5dZLTHvpGJjk",
        "outputId": "3514e682-3dee-45a6-8692-fdef384264bf"
      },
      "execution_count": 63,
      "outputs": [
        {
          "output_type": "execute_result",
          "data": {
            "text/plain": [
              "{'james': 5000, 'john': 2000, 'kate': 500, 'dongdong': 2000}"
            ]
          },
          "metadata": {},
          "execution_count": 63
        }
      ]
    },
    {
      "cell_type": "code",
      "source": [
        "store1.sell('james')"
      ],
      "metadata": {
        "colab": {
          "base_uri": "https://localhost:8080/"
        },
        "id": "_djAJqGzGLx_",
        "outputId": "8751728e-62a4-4eef-9e7a-1c9149ac423b"
      },
      "execution_count": 64,
      "outputs": [
        {
          "output_type": "stream",
          "name": "stdout",
          "text": [
            "단골은 반값이에요! 1000원만 내세요\n"
          ]
        }
      ]
    },
    {
      "cell_type": "code",
      "source": [
        "store1.visitors"
      ],
      "metadata": {
        "colab": {
          "base_uri": "https://localhost:8080/"
        },
        "id": "gEY7SMP-GWNG",
        "outputId": "93d5ed12-031a-4458-f481-0c2770f6c96d"
      },
      "execution_count": 65,
      "outputs": [
        {
          "output_type": "execute_result",
          "data": {
            "text/plain": [
              "{'james': 6000, 'john': 2000, 'kate': 500, 'dongdong': 2000}"
            ]
          },
          "metadata": {},
          "execution_count": 65
        }
      ]
    },
    {
      "cell_type": "code",
      "source": [
        "store1.sell('dongdong')\n",
        "store1.sell('dongdong', '마약붕어빵')\n",
        "store1.sell('dongdong', '번데기붕어빵')"
      ],
      "metadata": {
        "colab": {
          "base_uri": "https://localhost:8080/"
        },
        "id": "IxqgQt3yGX3r",
        "outputId": "ef9de2af-8517-45ea-ad88-448aae8161a1"
      },
      "execution_count": 79,
      "outputs": [
        {
          "output_type": "stream",
          "name": "stdout",
          "text": [
            "오늘 재료소진으로 치약붕어빵은 마감입니다\n",
            "마약붕어빵은 판매하는 메뉴중에 없습니다!\n",
            "처음 방문이시네요~ 자주 오세요!\n"
          ]
        }
      ]
    },
    {
      "cell_type": "code",
      "source": [
        "store1.visitors"
      ],
      "metadata": {
        "colab": {
          "base_uri": "https://localhost:8080/"
        },
        "id": "DynuFLXNGZQX",
        "outputId": "9c082b62-dab9-4a18-c6c7-d33ce471232c"
      },
      "execution_count": 67,
      "outputs": [
        {
          "output_type": "execute_result",
          "data": {
            "text/plain": [
              "{'james': 6000, 'john': 2000, 'kate': 500, 'dongdong': 3000}"
            ]
          },
          "metadata": {},
          "execution_count": 67
        }
      ]
    },
    {
      "cell_type": "markdown",
      "source": [
        "키워드 인수와 딕셔너리 언패킹을 사용하려면 다음과 같이 **kwargs를 사용하면 됩니다. 이때 매개변수에서 값을 가져오려면 kwargs['name']처럼 사용해야 합니다."
      ],
      "metadata": {
        "id": "9Gb0fXXZ-tMl"
      }
    },
    {
      "cell_type": "code",
      "source": [
        "store2 = BungeoppangStore('민트초코붕어빵 2호점',\n",
        "                          '신발깔창붕어빵', '어제먹다남은붕어빵',\n",
        "                          price=20000)"
      ],
      "metadata": {
        "id": "_WAo0v-vIWWp"
      },
      "execution_count": 81,
      "outputs": []
    },
    {
      "cell_type": "code",
      "source": [
        "store2.sell('김강사', '치약붕어빵')\n",
        "store2.sell('김강사')\n",
        "store2.sell('김강사', '신발깔창붕어빵')"
      ],
      "metadata": {
        "colab": {
          "base_uri": "https://localhost:8080/"
        },
        "id": "3SZwPzMwIgDP",
        "outputId": "dbd16be0-84e9-4c56-ffdd-21709bb12053"
      },
      "execution_count": 84,
      "outputs": [
        {
          "output_type": "stream",
          "name": "stdout",
          "text": [
            "치약붕어빵은 판매하는 메뉴중에 없습니다!\n",
            "치약붕어빵은 판매하는 메뉴중에 없습니다!\n",
            "처음 방문이시네요~ 자주 오세요!\n"
          ]
        }
      ]
    },
    {
      "cell_type": "markdown",
      "source": [
        "### 인스턴스를 생성한 뒤에 속성 추가하기, 특정 속성만 허용하기"
      ],
      "metadata": {
        "id": "LO2leNnY-xuk"
      }
    },
    {
      "cell_type": "markdown",
      "source": [
        "지금까지 클래스의 인스턴스 속성은 `__init__` 메서드에서 추가한 뒤 사용했습니다. 하지만 클래스로 인스턴스를 만든 뒤에도 인스턴스.속성 = 값 형식으로 속성을 계속 추가할 수 있습니다. 다음 Person 클래스는 빈 클래스이지만 인스턴스를 만든 뒤 name 속성을 추가합니다.\n",
        "\n"
      ],
      "metadata": {
        "id": "Hn_9jNBL-5jC"
      }
    },
    {
      "cell_type": "code",
      "source": [
        "class Room:\n",
        "    pass # 클래스 안에서 self로 지정된 경우에는 클래스로 만들어진 인스턴스간에 해당 속성이 공유"
      ],
      "metadata": {
        "id": "wdBJn0T4-v0n"
      },
      "execution_count": 85,
      "outputs": []
    },
    {
      "cell_type": "code",
      "source": [
        "doksan = Room()\n",
        "# 생성 후에, 직접 attribute를 지정해서 할당해준 경우, 클래스를 공유하는 인스터스 간에 해당 속성은 공유되지 X\n",
        "doksan.name = \"행복한 자취방\"\n",
        "doksan.name"
      ],
      "metadata": {
        "colab": {
          "base_uri": "https://localhost:8080/",
          "height": 36
        },
        "id": "gbNP2WYhKkQN",
        "outputId": "ff7dfb63-13ef-4b65-fe0e-cca52e4af4e2"
      },
      "execution_count": 86,
      "outputs": [
        {
          "output_type": "execute_result",
          "data": {
            "text/plain": [
              "'행복한 자취방'"
            ],
            "application/vnd.google.colaboratory.intrinsic+json": {
              "type": "string"
            }
          },
          "metadata": {},
          "execution_count": 86
        }
      ]
    },
    {
      "cell_type": "code",
      "source": [
        "# 이렇게 추가한 속성은 해당 인스턴스에만 생성됩니다.\n",
        "# 따라서 클래스로 다른 인스턴스를 만들었을 때는 추가한 속성이 생성되지 않습니다.\n",
        "sindorim = Room()\n",
        "sindorim.name"
      ],
      "metadata": {
        "colab": {
          "base_uri": "https://localhost:8080/",
          "height": 194
        },
        "id": "RCRPp_AaKsqQ",
        "outputId": "ffdf9d54-d2b0-45da-b462-3b094223abb2"
      },
      "execution_count": 87,
      "outputs": [
        {
          "output_type": "error",
          "ename": "AttributeError",
          "evalue": "ignored",
          "traceback": [
            "\u001b[0;31m---------------------------------------------------------------------------\u001b[0m",
            "\u001b[0;31mAttributeError\u001b[0m                            Traceback (most recent call last)",
            "\u001b[0;32m<ipython-input-87-99353b704243>\u001b[0m in \u001b[0;36m<module>\u001b[0;34m\u001b[0m\n\u001b[1;32m      1\u001b[0m \u001b[0msindorim\u001b[0m \u001b[0;34m=\u001b[0m \u001b[0mRoom\u001b[0m\u001b[0;34m(\u001b[0m\u001b[0;34m)\u001b[0m\u001b[0;34m\u001b[0m\u001b[0;34m\u001b[0m\u001b[0m\n\u001b[0;32m----> 2\u001b[0;31m \u001b[0msindorim\u001b[0m\u001b[0;34m.\u001b[0m\u001b[0mname\u001b[0m\u001b[0;34m\u001b[0m\u001b[0;34m\u001b[0m\u001b[0m\n\u001b[0m",
            "\u001b[0;31mAttributeError\u001b[0m: 'Room' object has no attribute 'name'"
          ]
        }
      ]
    },
    {
      "cell_type": "code",
      "source": [
        "# 인스턴스는 생성한 뒤에 속성을 추가할 수 있으므로 __init__ 메서드가 아닌\n",
        "# 다른 메서드에서도 속성을 추가할 수 있습니다. 단, 이때는 메서드를 호출해야 속성이 생성됩니다.\n",
        "class Car:\n",
        "    def fuel(self):\n",
        "        self.oil = 500\n",
        "\n",
        "car = Car()\n",
        "car.oil"
      ],
      "metadata": {
        "colab": {
          "base_uri": "https://localhost:8080/",
          "height": 213
        },
        "id": "lqrRPLVS_FYr",
        "outputId": "11cf0d22-88d5-4a45-c713-0f8eec8dc0ef"
      },
      "execution_count": 88,
      "outputs": [
        {
          "output_type": "error",
          "ename": "AttributeError",
          "evalue": "ignored",
          "traceback": [
            "\u001b[0;31m---------------------------------------------------------------------------\u001b[0m",
            "\u001b[0;31mAttributeError\u001b[0m                            Traceback (most recent call last)",
            "\u001b[0;32m<ipython-input-88-5e1a5e73209b>\u001b[0m in \u001b[0;36m<module>\u001b[0;34m\u001b[0m\n\u001b[1;32m      6\u001b[0m \u001b[0;34m\u001b[0m\u001b[0m\n\u001b[1;32m      7\u001b[0m \u001b[0mcar\u001b[0m \u001b[0;34m=\u001b[0m \u001b[0mCar\u001b[0m\u001b[0;34m(\u001b[0m\u001b[0;34m)\u001b[0m\u001b[0;34m\u001b[0m\u001b[0;34m\u001b[0m\u001b[0m\n\u001b[0;32m----> 8\u001b[0;31m \u001b[0mcar\u001b[0m\u001b[0;34m.\u001b[0m\u001b[0moil\u001b[0m\u001b[0;34m\u001b[0m\u001b[0;34m\u001b[0m\u001b[0m\n\u001b[0m",
            "\u001b[0;31mAttributeError\u001b[0m: 'Car' object has no attribute 'oil'"
          ]
        }
      ]
    },
    {
      "cell_type": "code",
      "source": [
        "car.fuel()\n",
        "car.oil"
      ],
      "metadata": {
        "colab": {
          "base_uri": "https://localhost:8080/"
        },
        "id": "qmpRCb5L_QXr",
        "outputId": "4e93086c-7cd1-4a59-dbb5-3bab644d8b35"
      },
      "execution_count": 89,
      "outputs": [
        {
          "output_type": "execute_result",
          "data": {
            "text/plain": [
              "500"
            ]
          },
          "metadata": {},
          "execution_count": 89
        }
      ]
    },
    {
      "cell_type": "markdown",
      "source": [
        "## 클래스 속성과 인스턴스 속성 알아보기"
      ],
      "metadata": {
        "id": "kkZfupB6B4i8"
      }
    },
    {
      "cell_type": "markdown",
      "source": [
        "속성에는 클래스 속성과 인스턴스 속성 두 가지 종류가 있습니다. `__init__` 메서드에서 만들었던 속성은 인스턴스 속성입니다."
      ],
      "metadata": {
        "id": "i4HfuLL2B8Cg"
      }
    },
    {
      "cell_type": "markdown",
      "source": [
        "### 클래스 속성 사용하기"
      ],
      "metadata": {
        "id": "-5qGPIcYB_bZ"
      }
    },
    {
      "cell_type": "markdown",
      "source": [
        "```\n",
        "class 클래스이름:\n",
        "    속성 = 값\n",
        "```"
      ],
      "metadata": {
        "id": "nyNn7_s7CBvL"
      }
    },
    {
      "cell_type": "code",
      "source": [
        "class Store:\n",
        "    name = \"붕어빵가게\"\n",
        "    worker = [\"김나나\", \"박순철\", \"공형식\"]\n",
        "\n",
        "    def hire(self, name):\n",
        "        self.worker.append(name)"
      ],
      "metadata": {
        "id": "VSNvev17_TKX"
      },
      "execution_count": 90,
      "outputs": []
    },
    {
      "cell_type": "code",
      "source": [
        "s1 = Store()\n",
        "s1.hire('이형근')\n",
        "\n",
        "s2 = Store()\n",
        "s2.hire('썬칩')\n",
        "\n",
        "print(s1.worker)\n",
        "print(s2.worker)"
      ],
      "metadata": {
        "colab": {
          "base_uri": "https://localhost:8080/"
        },
        "id": "RfL7uCPMeXQh",
        "outputId": "b7f61ab1-f742-4a3c-c89e-c0a6d0694eae"
      },
      "execution_count": 91,
      "outputs": [
        {
          "output_type": "stream",
          "name": "stdout",
          "text": [
            "['김나나', '박순철', '공형식', '이형근', '썬칩']\n",
            "['김나나', '박순철', '공형식', '이형근', '썬칩']\n"
          ]
        }
      ]
    },
    {
      "cell_type": "code",
      "source": [
        "class Store:\n",
        "    name = \"붕어빵가게\"\n",
        "    \n",
        "    def __init__(self):\n",
        "        self.worker = [\"김나나\", \"박순철\", \"공형식\"]\n",
        "\n",
        "    def hire(self, name):\n",
        "        self.worker.append(name)"
      ],
      "metadata": {
        "id": "PfiH_-PjevKR"
      },
      "execution_count": 92,
      "outputs": []
    },
    {
      "cell_type": "code",
      "source": [
        "s1 = Store()\n",
        "s1.hire('이형근')\n",
        "\n",
        "s2 = Store()\n",
        "s2.hire('썬칩')\n",
        "\n",
        "print(s1.worker)\n",
        "print(s2.worker)"
      ],
      "metadata": {
        "colab": {
          "base_uri": "https://localhost:8080/"
        },
        "id": "IprP3zSKe0cN",
        "outputId": "404550e7-93ac-4026-b895-f49445be2924"
      },
      "execution_count": 93,
      "outputs": [
        {
          "output_type": "stream",
          "name": "stdout",
          "text": [
            "['김나나', '박순철', '공형식', '이형근']\n",
            "['김나나', '박순철', '공형식', '썬칩']\n"
          ]
        }
      ]
    },
    {
      "cell_type": "markdown",
      "source": [
        "put_bag 메서드에서 클래스 속성 bag에 접근할 때 self를 사용했습니다. 사실 self는 현재 인스턴스를 뜻하므로 클래스 속성을 지칭하기에는 조금 모호합니다."
      ],
      "metadata": {
        "id": "WByeye1SCIO_"
      }
    },
    {
      "cell_type": "code",
      "source": [
        "class Store:\n",
        "    name = \"붕어빵가게\"\n",
        "    worker = [\"김나나\", \"박순철\", \"공형식\"]\n",
        "\n",
        "    def hire(self, name):\n",
        "        Store.worker.append(name)"
      ],
      "metadata": {
        "id": "CJNRXrJGCF4m"
      },
      "execution_count": 94,
      "outputs": []
    },
    {
      "cell_type": "markdown",
      "source": [
        "그래서 클래스 속성에 접근할 때는 다음과 같이 클래스 이름으로 접근하면 좀 더 코드가 명확해집니다.\n",
        "\n",
        "* `클래스.속성`"
      ],
      "metadata": {
        "id": "tUt-1pucCMTk"
      }
    },
    {
      "cell_type": "markdown",
      "source": [
        "Person.bag이라고 하니 클래스 Person에 속한 bag 속성이라는 것을 바로 알 수 있습니다. 마찬가지로 클래스 바깥에서도 다음과 같이 클래스 이름으로 클래스 속성에 접근하면 됩니다."
      ],
      "metadata": {
        "id": "NmH5z3zZCWHW"
      }
    },
    {
      "cell_type": "markdown",
      "source": [
        "### 인스턴스 속성 사용하기"
      ],
      "metadata": {
        "id": "2NflnJUOCaKy"
      }
    },
    {
      "cell_type": "markdown",
      "source": [
        "* 클래스 속성: 모든 인스턴스가 공유. 인스턴스 전체가 사용해야 하는 값을 저장할 때 사용\n",
        "* 인스턴스 속성: 인스턴스별로 독립되어 있음. 각 인스턴스가 값을 따로 저장해야 할 때 사용"
      ],
      "metadata": {
        "id": "um_Xg6gWCgoO"
      }
    },
    {
      "cell_type": "markdown",
      "source": [
        "## 클래스 상속 사용하기"
      ],
      "metadata": {
        "id": "PMshhQv3H0vm"
      }
    },
    {
      "cell_type": "markdown",
      "source": [
        "지금까지 클래스의 기본적인 사용 방법을 알아보았습니다. 이번에는 클래스 상속(inheritance)을 사용해보겠습니다.\n",
        "\n",
        "상속은 무언가를 물려받는다는 뜻입니다. 그래서 클래스 상속은 물려받은 기능을 유지한채로 다른 기능을 추가할 때 사용하는 기능입니다. 여기서 기능을 물려주는 클래스를 기반 클래스(base class), 상속을 받아 새롭게 만드는 클래스를 파생 클래스(derived class)라고 합니다.\n",
        "\n"
      ],
      "metadata": {
        "id": "j-0NWz0OH3jm"
      }
    },
    {
      "cell_type": "markdown",
      "source": [
        "보통 기반 클래스는 부모 클래스(parent class), 슈퍼 클래스(superclass)라고 부르고, 파생 클래스는 자식 클래스(child class), 서브 클래스(subclass)라고도 부릅니다.\n",
        "\n",
        "클래스 상속은 생물 분류를 떠올리면 이해하기 쉽습니다. 예를 들어 조류, 어류는 공통된 조상인 척추동물로부터 물려받은 특성을 공유하면서 각자 고유한 특성을 가집니다. 척추를 가졌다는 특성은 변함이 없지만 날개를 가졌으면 조류, 물속에 살면 어류인 식입니다. 즉, 같은 계통으로 특성을 공유하며 전혀 상관없이 어류가 꽃식물의 특성을 가지지는 않습니다."
      ],
      "metadata": {
        "id": "SuAjAzh2H6Gu"
      }
    },
    {
      "cell_type": "markdown",
      "source": [
        "마찬가지로 클래스 상속도 기반 클래스의 능력을 그대로 활용하면서 새로운 클래스를 만들 때 사용합니다. 동물을 예로 들면 척추동물에서 포유류, 조류, 파충류 등을 만드는 식이죠.\n",
        "\n",
        "그런데 그냥 새로운 클래스를 만들면 되지 왜 이런 상속 개념을 만들었을까요? 만약 새로운 기능이 필요할 때마다 계속 클래스를 만든다면 중복되는 부분을 반복해서 만들어야 합니다. 이럴 때 상속을 사용하면 중복되는 기능을 만들지 않아도 됩니다. 따라서 상속은 기존 기능을 재사용할 수 있어서 효율적입니다."
      ],
      "metadata": {
        "id": "EEzOF-11H8P-"
      }
    },
    {
      "cell_type": "markdown",
      "source": [
        "클래스 상속은 다음과 같이 클래스를 만들 때 ( )(괄호)를 붙이고 안에 기반 클래스 이름을 넣습니다.\n",
        "\n",
        "```\n",
        "class 기반클래스이름:\n",
        "    코드\n",
        " \n",
        "class 파생클래스이름(기반클래스이름):\n",
        "    코드\n",
        "```"
      ],
      "metadata": {
        "id": "CJi8U6CRH9tE"
      }
    },
    {
      "cell_type": "code",
      "source": [
        "class PizzaStore:\n",
        "    def __init__(self, name, *args) -> None:\n",
        "        self.name = name\n",
        "        self.menu = args\n",
        "    \n",
        "    def eat_here(self, item):\n",
        "        if item not in self.menu:\n",
        "            print(\"지원하는 메뉴가 아닙니다\")\n",
        "            return\n",
        "        print(f\"맛있게 드세요 : {item}\")"
      ],
      "metadata": {
        "id": "l_U_TeAFhIVa"
      },
      "execution_count": 95,
      "outputs": []
    },
    {
      "cell_type": "code",
      "source": [
        "store1 = PizzaStore(\"프레디네 피자가게\", \"정어리피자\", \"오징어젓갈피자\")\n",
        "store1.eat_here(\"정어리피자\")"
      ],
      "metadata": {
        "colab": {
          "base_uri": "https://localhost:8080/"
        },
        "id": "wAo8Hr-phuzj",
        "outputId": "4d4f79d2-2e1c-4fbd-e7b0-7e2e699fe859"
      },
      "execution_count": 96,
      "outputs": [
        {
          "output_type": "stream",
          "name": "stdout",
          "text": [
            "맛있게 드세요 : 정어리피자\n"
          ]
        }
      ]
    },
    {
      "cell_type": "code",
      "source": [
        "class DrivePizzaStore(PizzaStore):\n",
        "    def drive_thru(self, item):\n",
        "        if item not in self.menu:\n",
        "            print(\"지원하는 메뉴가 아닙니다\")\n",
        "            return\n",
        "        print(f\"포장이 완료되었습니다 : {item}\")"
      ],
      "metadata": {
        "id": "GWinSG8CCeOo"
      },
      "execution_count": 97,
      "outputs": []
    },
    {
      "cell_type": "code",
      "source": [
        "store2 = DrivePizzaStore(\"프레디네 피자가게\", \"정어리피자\", \"오징어젓갈피자\")\n",
        "store2.drive_thru(\"오징어젓갈피자\")\n",
        "store2.eat_here(\"오징어젓갈피자\")"
      ],
      "metadata": {
        "colab": {
          "base_uri": "https://localhost:8080/"
        },
        "id": "jTDOtiXFic2e",
        "outputId": "d5eeff2c-0176-4d2e-86dd-c9c5bf3fc90c"
      },
      "execution_count": 99,
      "outputs": [
        {
          "output_type": "stream",
          "name": "stdout",
          "text": [
            "포장이 완료되었습니다 : 오징어젓갈피자\n",
            "맛있게 드세요 : 오징어젓갈피자\n"
          ]
        }
      ]
    },
    {
      "cell_type": "markdown",
      "source": [
        "이처럼 클래스 상속은 기반 클래스의 기능을 유지하면서 새로운 기능을 추가할 수 있습니다. 특히 클래스 상속은 연관되면서 동등한 기능일 때 사용합니다. 즉, 학생은 사람이므로 연관된 개념이고, 학생은 사람에서 역할만 확장되었을 뿐 동등한 개념입니다."
      ],
      "metadata": {
        "id": "AULPOz91IFLc"
      }
    },
    {
      "cell_type": "markdown",
      "source": [
        "## 기반 클래스의 속성 사용하기"
      ],
      "metadata": {
        "id": "ojAK6jUIIKlF"
      }
    },
    {
      "cell_type": "markdown",
      "source": [
        "이번에는 기반 클래스에 들어있는 인스턴스 속성을 사용해보겠습니다. 다음과 같이 Person 클래스에 hello 속성이 있고, Person 클래스를 상속받아 Student 클래스를 만듭니다. 그다음에 Student로 인스턴스를 만들고 hello 속성에 접근해봅니다.\n",
        "\n"
      ],
      "metadata": {
        "id": "bSmSqV8OIOGH"
      }
    },
    {
      "cell_type": "code",
      "source": [
        "class Programmer:\n",
        "    def __init__(self) -> None:\n",
        "        self.habit = \"머리를 쥐어 뜯는다\"\n",
        "        self.money = 20000\n",
        "\n",
        "class PythonProgrammer(Programmer):\n",
        "    def __init__(self, habit) -> None:\n",
        "        self.habit = habit"
      ],
      "metadata": {
        "id": "azED8RKYIBDd"
      },
      "execution_count": 102,
      "outputs": []
    },
    {
      "cell_type": "code",
      "source": [
        "kim = Programmer()\n",
        "kim.habit, kim.money"
      ],
      "metadata": {
        "colab": {
          "base_uri": "https://localhost:8080/"
        },
        "id": "DSlxNXdpj3Dy",
        "outputId": "c8fb005d-3518-44bb-b695-cc97a210fba8"
      },
      "execution_count": 103,
      "outputs": [
        {
          "output_type": "execute_result",
          "data": {
            "text/plain": [
              "('머리를 쥐어 뜯는다', 20000)"
            ]
          },
          "metadata": {},
          "execution_count": 103
        }
      ]
    },
    {
      "cell_type": "code",
      "source": [
        "# lee = PythonProgrammer()\n",
        "lee = PythonProgrammer('손톱 물어뜯기')\n",
        "print(lee.habit)\n",
        "print(lee.money)"
      ],
      "metadata": {
        "colab": {
          "base_uri": "https://localhost:8080/",
          "height": 232
        },
        "id": "VCmaW7PekFRo",
        "outputId": "63c2a4b7-8fe0-4c75-f386-8289c8ca5bc1"
      },
      "execution_count": 106,
      "outputs": [
        {
          "output_type": "stream",
          "name": "stdout",
          "text": [
            "손톱 물어뜯기\n"
          ]
        },
        {
          "output_type": "error",
          "ename": "AttributeError",
          "evalue": "ignored",
          "traceback": [
            "\u001b[0;31m---------------------------------------------------------------------------\u001b[0m",
            "\u001b[0;31mAttributeError\u001b[0m                            Traceback (most recent call last)",
            "\u001b[0;32m<ipython-input-106-69dcd9de7c7a>\u001b[0m in \u001b[0;36m<module>\u001b[0;34m\u001b[0m\n\u001b[1;32m      2\u001b[0m \u001b[0mlee\u001b[0m \u001b[0;34m=\u001b[0m \u001b[0mPythonProgrammer\u001b[0m\u001b[0;34m(\u001b[0m\u001b[0;34m'손톱 물어뜯기'\u001b[0m\u001b[0;34m)\u001b[0m\u001b[0;34m\u001b[0m\u001b[0;34m\u001b[0m\u001b[0m\n\u001b[1;32m      3\u001b[0m \u001b[0mprint\u001b[0m\u001b[0;34m(\u001b[0m\u001b[0mlee\u001b[0m\u001b[0;34m.\u001b[0m\u001b[0mhabit\u001b[0m\u001b[0;34m)\u001b[0m\u001b[0;34m\u001b[0m\u001b[0;34m\u001b[0m\u001b[0m\n\u001b[0;32m----> 4\u001b[0;31m \u001b[0mprint\u001b[0m\u001b[0;34m(\u001b[0m\u001b[0mlee\u001b[0m\u001b[0;34m.\u001b[0m\u001b[0mmoney\u001b[0m\u001b[0;34m)\u001b[0m\u001b[0;34m\u001b[0m\u001b[0;34m\u001b[0m\u001b[0m\n\u001b[0m",
            "\u001b[0;31mAttributeError\u001b[0m: 'PythonProgrammer' object has no attribute 'money'"
          ]
        }
      ]
    },
    {
      "cell_type": "markdown",
      "source": [
        "```\n",
        "실행을 해보면 에러가 발생합니다.\n",
        "왜냐하면 기반 클래스 Person의 __init__ 메서드가 호출되지 않았기 때문입니다.\n",
        "실행 결과를 잘 보면 'Student __init__'만 출력되었습니다.\n",
        "\n",
        "즉, Person의 __init__ 메서드가 호출되지 않으면,\n",
        "self.hello = '안녕하세요.'도 실행되지 않아서 속성이 만들어지지 않습니다.\n",
        "```"
      ],
      "metadata": {
        "id": "UkYFULulIR3j"
      }
    },
    {
      "cell_type": "markdown",
      "source": [
        "### super()로 기반 클래스 초기화하기"
      ],
      "metadata": {
        "id": "FjvWYQcZIT8l"
      }
    },
    {
      "cell_type": "markdown",
      "source": [
        "이때는 super()를 사용해서 기반 클래스의 __init__ 메서드를 호출해줍니다. 다음과 같이 super() 뒤에 .(점)을 붙여서 메서드를 호출하는 방식입니다.\n",
        "\n",
        "* `super().메서드()`\n"
      ],
      "metadata": {
        "id": "25HyxJUwIV7F"
      }
    },
    {
      "cell_type": "code",
      "source": [
        "class PythonProgrammer(Programmer):\n",
        "    def __init__(self, habit) -> None:\n",
        "        super().__init__()\n",
        "        print(\"*\", self.habit, self.money)\n",
        "        self.habit = habit\n",
        "\n",
        "lee = PythonProgrammer('손톱 물어뜯기')\n",
        "print(lee.habit)\n",
        "print(lee.money)"
      ],
      "metadata": {
        "colab": {
          "base_uri": "https://localhost:8080/"
        },
        "id": "6sRYa0L0IP7d",
        "outputId": "d103a036-9980-4142-b996-f265a6c2b450"
      },
      "execution_count": 109,
      "outputs": [
        {
          "output_type": "stream",
          "name": "stdout",
          "text": [
            "* 머리를 쥐어 뜯는다 20000\n",
            "손톱 물어뜯기\n",
            "20000\n"
          ]
        }
      ]
    },
    {
      "cell_type": "code",
      "source": [
        "class PythonProgrammer(Programmer):\n",
        "    def __init__(self, habit) -> None:\n",
        "        self.habit = habit\n",
        "        super().__init__() # 내가 매개변수를 통해 부여한 habit이 상위클래스로 인해서 덮어씌워짐\n",
        "        print(\"*\", self.habit, self.money)\n",
        "\n",
        "lee = PythonProgrammer('손톱 물어뜯기')\n",
        "print(lee.habit)\n",
        "print(lee.money)"
      ],
      "metadata": {
        "colab": {
          "base_uri": "https://localhost:8080/"
        },
        "id": "5Y1fdhlSk20E",
        "outputId": "7f102651-a9a8-4fe3-f71f-018c4fa9d887"
      },
      "execution_count": 113,
      "outputs": [
        {
          "output_type": "stream",
          "name": "stdout",
          "text": [
            "* 머리를 쥐어 뜯는다 20000\n",
            "머리를 쥐어 뜯는다\n",
            "20000\n"
          ]
        }
      ]
    },
    {
      "cell_type": "markdown",
      "source": [
        "### 기반 클래스를 초기화하지 않아도 되는 경우"
      ],
      "metadata": {
        "id": "P6l6bR3FIb1E"
      }
    },
    {
      "cell_type": "markdown",
      "source": [
        "`만약 파생 클래스에서 __init__ 메서드를 생략한다면 기반 클래스의 __init__이 자동으로 호출되므로 super()는 사용하지 않아도 됩니다.`"
      ],
      "metadata": {
        "id": "NWxDcf6zIdv9"
      }
    },
    {
      "cell_type": "code",
      "source": [
        "class PythonProgrammer(Programmer):\n",
        "    pass\n",
        "\n",
        "john = PythonProgrammer()\n",
        "john.habit, john.money"
      ],
      "metadata": {
        "colab": {
          "base_uri": "https://localhost:8080/"
        },
        "id": "ksPkmYszIZFJ",
        "outputId": "dd622f2a-ce67-415f-acfe-5ecc94b3b500"
      },
      "execution_count": 114,
      "outputs": [
        {
          "output_type": "execute_result",
          "data": {
            "text/plain": [
              "('머리를 쥐어 뜯는다', 20000)"
            ]
          },
          "metadata": {},
          "execution_count": 114
        }
      ]
    },
    {
      "cell_type": "markdown",
      "source": [
        "### 좀 더 명확하게 super 사용하기"
      ],
      "metadata": {
        "id": "HDJIzx-_Ik45"
      }
    },
    {
      "cell_type": "markdown",
      "source": [
        "super는 다음과 같이 파생 클래스와 self를 넣어서 현재 클래스가 어떤 클래스인지 명확하게 표시하는 방법도 있습니다. 물론 super()와 기능은 같습니다.\n",
        "\n",
        "* `super(파생클래스, self).메서드`"
      ],
      "metadata": {
        "id": "gtNOtkcsInmH"
      }
    },
    {
      "cell_type": "code",
      "source": [
        "class Human:\n",
        "    def run(self):\n",
        "        print(\"달려간다\")\n",
        "\n",
        "class MetaHuman(Human):\n",
        "    def run(self):\n",
        "        super().run()\n",
        "        print(\"더 빠르게 달려간다\")\n",
        "\n",
        "class MetaMetaHuman(MetaHuman):\n",
        "    def run(self):\n",
        "        # super().run()\n",
        "        # super(MetaMetaHuman, self).run()\n",
        "        super(MetaHuman, self).run()\n",
        "        print(\"상당히 더 빠르게 달려간다\")"
      ],
      "metadata": {
        "id": "PDSjm1mtIiI0"
      },
      "execution_count": 121,
      "outputs": []
    },
    {
      "cell_type": "code",
      "source": [
        "joy = MetaMetaHuman()\n",
        "joy.run()"
      ],
      "metadata": {
        "colab": {
          "base_uri": "https://localhost:8080/"
        },
        "id": "zWX27x8XmSF5",
        "outputId": "d9d0c8c0-b101-4489-bfc6-e726e3c88181"
      },
      "execution_count": 122,
      "outputs": [
        {
          "output_type": "stream",
          "name": "stdout",
          "text": [
            "달려간다\n",
            "상당히 더 빠르게 달려간다\n"
          ]
        }
      ]
    },
    {
      "cell_type": "markdown",
      "source": [
        "## 메서드 오버라이딩 사용하기"
      ],
      "metadata": {
        "id": "2Er9Qj7FItQI"
      }
    },
    {
      "cell_type": "markdown",
      "source": [
        "이번에는 파생 클래스에서 기반 클래스의 메서드를 새로 정의하는 메서드 오버라이딩에 대해 알아보겠습니다. 다음과 같이 Person의 greeting 메서드가 있는 상태에서 Student에도 greeting 메서드를 만듭니다.\n",
        "\n"
      ],
      "metadata": {
        "id": "w3mT1wS8IxfX"
      }
    },
    {
      "cell_type": "code",
      "source": [
        "class TeslaCar:\n",
        "    def hello(self):\n",
        "        print(\"화성 갈끄니까\")\n",
        "\n",
        "class SuperTeslaCar(TeslaCar):\n",
        "    def hello(self):\n",
        "        print(\"목성 갈끄니까\")\n",
        "    \n",
        "a = TeslaCar()\n",
        "a.hello()\n",
        "b = SuperTeslaCar()\n",
        "b.hello()"
      ],
      "metadata": {
        "colab": {
          "base_uri": "https://localhost:8080/"
        },
        "id": "NORegmYnIqiM",
        "outputId": "7c397bdf-a62c-4ae7-8540-9c12cbb17f3a"
      },
      "execution_count": 124,
      "outputs": [
        {
          "output_type": "stream",
          "name": "stdout",
          "text": [
            "화성 갈끄니까\n",
            "목성 갈끄니까\n"
          ]
        }
      ]
    },
    {
      "cell_type": "markdown",
      "source": [
        "오버라이딩(overriding)은 무시하다, 우선하다라는 뜻을 가지고 있는데 말 그대로 기반 클래스의 메서드를 무시하고 새로운 메서드를 만든다는 뜻입니다. 여기서는 Person 클래스의 greeting 메서드를 무시하고 Student 클래스에서 새로운 greeting 메서드를 만들었습니다.\n",
        "\n",
        "그럼 메서드 오버라이딩은 왜 사용할까요? 보통 프로그램에서 어떤 기능이 같은 메서드 이름으로 계속 사용되어야 할 때 메서드 오버라이딩을 활용합니다."
      ],
      "metadata": {
        "id": "e9jvc7E1I2zi"
      }
    },
    {
      "cell_type": "markdown",
      "source": [
        "기반 클래스의 메서드를 재활용하면 중복을 줄일 수 있습니다. 다음과 같이 오버라이딩된 메서드에서 super()로 기반 클래스의 메서드를 호출해봅니다."
      ],
      "metadata": {
        "id": "8QAkCmaRI3bC"
      }
    },
    {
      "cell_type": "code",
      "source": [
        "class TeslaCar:\n",
        "    def hello(self, place=\"화성\"):\n",
        "        print(f\"{place} 갈끄니까\")\n",
        "\n",
        "class SuperTeslaCar(TeslaCar):\n",
        "    def hello(self):\n",
        "        super().hello(\"목성\")\n",
        "    \n",
        "a = TeslaCar()\n",
        "a.hello()\n",
        "b = SuperTeslaCar()\n",
        "b.hello()"
      ],
      "metadata": {
        "colab": {
          "base_uri": "https://localhost:8080/"
        },
        "id": "RMhMSnTHIzDx",
        "outputId": "4343378f-0938-4e95-ef09-a79edc429c71"
      },
      "execution_count": 125,
      "outputs": [
        {
          "output_type": "stream",
          "name": "stdout",
          "text": [
            "화성 갈끄니까\n",
            "목성 갈끄니까\n"
          ]
        }
      ]
    }
  ]
}