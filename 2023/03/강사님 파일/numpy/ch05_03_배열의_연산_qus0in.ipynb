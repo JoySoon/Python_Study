{
  "cells": [
    {
      "attachments": {},
      "cell_type": "markdown",
      "metadata": {
        "colab_type": "text",
        "id": "view-in-github"
      },
      "source": [
        "<a href=\"https://colab.research.google.com/github/qus0in/DataAnalysis/blob/main/qus0in/ch05_03_%EB%B0%B0%EC%97%B4%EC%9D%98_%EC%97%B0%EC%82%B0_qus0in.ipynb\" target=\"_parent\"><img src=\"https://colab.research.google.com/assets/colab-badge.svg\" alt=\"Open In Colab\"/></a>"
      ]
    },
    {
      "cell_type": "markdown",
      "metadata": {
        "id": "0bu09Yqa7q4u"
      },
      "source": [
        "# 배열의 연산"
      ]
    },
    {
      "cell_type": "markdown",
      "metadata": {
        "id": "VyUPscjA8Lf8"
      },
      "source": [
        "## 벡터화 연산 (vectorized operation)\n",
        "* 명시적으로 반복문을 사용하지 않고도 배열의 모든 원소에 대해 반복 연산을 할 수 있음\n",
        "* 선형 대수 공식과 동일한 아주 간단한 파이썬 코드를 작성할 수 있음\n",
        "\n",
        "<br>\n",
        "$$\n",
        "x = \\begin{bmatrix}1\\\\2\\\\3\\\\⋯\\\\10000\\end{bmatrix},\\quad\n",
        "y = \\begin{bmatrix}10001\\\\10002\\\\10003\\\\⋯\\\\20000\\end{bmatrix}\n",
        "$$\n",
        "\n",
        "<br>\n",
        "$$\n",
        "z = x + y\n",
        "$$\n",
        "\n",
        "<br>\n",
        "$$\n",
        "\\begin{bmatrix}1\\\\2\\\\3\\\\⋯\\\\10000\\end{bmatrix}\n",
        "+ \\begin{bmatrix}10001\\\\10002\\\\10003\\\\⋯\\\\20000\\end{bmatrix}\n",
        "= \\begin{bmatrix}1+10001\\\\2+10002\\\\3+10003\\\\⋯\\\\10000+20000\\end{bmatrix}\n",
        "= \\begin{bmatrix}10002\\\\10004\\\\10006\\\\⋯\\\\30000\\end{bmatrix}\n",
        "$$\n",
        "\n"
      ]
    },
    {
      "cell_type": "code",
      "execution_count": 2,
      "metadata": {
        "id": "VEIfjEzG9chC"
      },
      "outputs": [],
      "source": [
        "import numpy as np\n",
        "\n",
        "# x = np.array(range(1, 10001))\n",
        "x = np.arange(1, 10001)\n",
        "y = np.arange(10001, 20001)"
      ]
    },
    {
      "cell_type": "code",
      "execution_count": 4,
      "metadata": {
        "colab": {
          "base_uri": "https://localhost:8080/"
        },
        "id": "RA5HZKLe9eaf",
        "outputId": "fd5e970f-c47d-41a1-8d51-5fddec1cd25c"
      },
      "outputs": [
        {
          "name": "stdout",
          "output_type": "stream",
          "text": [
            "CPU times: user 8.4 ms, sys: 0 ns, total: 8.4 ms\n",
            "Wall time: 21.7 ms\n"
          ]
        }
      ],
      "source": [
        "%%time\n",
        "z = np.zeros_like(x)\n",
        "for i in range(len(z)):\n",
        "    z[i] = x[i] + y[i]"
      ]
    },
    {
      "cell_type": "code",
      "execution_count": 5,
      "metadata": {
        "colab": {
          "base_uri": "https://localhost:8080/"
        },
        "id": "d60TTFpoEMOD",
        "outputId": "f2b78f1c-9164-4de1-b7c9-5af684d823de"
      },
      "outputs": [
        {
          "name": "stdout",
          "output_type": "stream",
          "text": [
            "3.59 ms ± 88.7 µs per loop (mean ± std. dev. of 7 runs, 100 loops each)\n"
          ]
        }
      ],
      "source": [
        "%%timeit\n",
        "z = np.zeros_like(x)\n",
        "for i in range(len(z)):\n",
        "    z[i] = x[i] + y[i]"
      ]
    },
    {
      "cell_type": "code",
      "execution_count": 6,
      "metadata": {
        "colab": {
          "base_uri": "https://localhost:8080/"
        },
        "id": "9tQ3ZsSe9iyl",
        "outputId": "b08ca0dd-7ea0-4982-f6fa-09312937abff"
      },
      "outputs": [
        {
          "name": "stdout",
          "output_type": "stream",
          "text": [
            "CPU times: user 210 µs, sys: 0 ns, total: 210 µs\n",
            "Wall time: 4.17 ms\n"
          ]
        }
      ],
      "source": [
        "%%time\n",
        "z = x + y"
      ]
    },
    {
      "cell_type": "code",
      "execution_count": 7,
      "metadata": {
        "colab": {
          "base_uri": "https://localhost:8080/"
        },
        "id": "PA_D4HdC9kXC",
        "outputId": "49b3a700-d1d3-40d0-e0fc-5d489e46e131"
      },
      "outputs": [
        {
          "name": "stdout",
          "output_type": "stream",
          "text": [
            "6.97 µs ± 1.2 µs per loop (mean ± std. dev. of 7 runs, 100000 loops each)\n"
          ]
        }
      ],
      "source": [
        "%%timeit\n",
        "z = x + y"
      ]
    },
    {
      "cell_type": "code",
      "execution_count": null,
      "metadata": {
        "id": "iHMb2Zcs9mvv"
      },
      "outputs": [],
      "source": [
        "# 사칙 연산뿐 아니라 비교 연산과 같은 논리 연산도 벡터화 연산이 가능"
      ]
    },
    {
      "cell_type": "code",
      "execution_count": 10,
      "metadata": {
        "colab": {
          "base_uri": "https://localhost:8080/"
        },
        "id": "YgmskotEFB7N",
        "outputId": "22436bcc-d9a5-406d-d3e8-bda937a4c620"
      },
      "outputs": [
        {
          "data": {
            "text/plain": [
              "array([False, False, False, ..., False, False, False])"
            ]
          },
          "execution_count": 10,
          "metadata": {},
          "output_type": "execute_result"
        }
      ],
      "source": [
        "x == y"
      ]
    },
    {
      "cell_type": "code",
      "execution_count": 13,
      "metadata": {
        "colab": {
          "base_uri": "https://localhost:8080/"
        },
        "id": "pL6o9aPFFLA9",
        "outputId": "017cdb70-a75c-4786-c0a5-796eb48e5a57"
      },
      "outputs": [
        {
          "data": {
            "text/plain": [
              "array([False, False, False, ..., False, False, False])"
            ]
          },
          "execution_count": 13,
          "metadata": {},
          "output_type": "execute_result"
        }
      ],
      "source": [
        "(x == y) | (x > y)"
      ]
    },
    {
      "cell_type": "code",
      "execution_count": 8,
      "metadata": {
        "id": "dRQ7U6AV9u5m"
      },
      "outputs": [],
      "source": [
        "# 배열의 각 원소를 일일히 비교하는 것이 아닌 배열의 모든 원소가 다 같은지 알고 싶다면 all 명령 사용\n",
        "a = np.arange(1, 5)\n",
        "b = np.array((4, 2, 2, 4))\n",
        "c = np.arange(1, 5)"
      ]
    },
    {
      "cell_type": "code",
      "execution_count": 15,
      "metadata": {
        "colab": {
          "base_uri": "https://localhost:8080/"
        },
        "id": "1HaUa0EkFaS7",
        "outputId": "70c922e8-ec73-4012-8b89-d0bf5496cdc9"
      },
      "outputs": [
        {
          "name": "stdout",
          "output_type": "stream",
          "text": [
            "[1 2 3 4]\n",
            "[4 2 2 4]\n"
          ]
        },
        {
          "data": {
            "text/plain": [
              "array([False,  True, False,  True])"
            ]
          },
          "execution_count": 15,
          "metadata": {},
          "output_type": "execute_result"
        }
      ],
      "source": [
        "print(a)\n",
        "print(b)\n",
        "a == b"
      ]
    },
    {
      "cell_type": "code",
      "execution_count": null,
      "metadata": {
        "colab": {
          "base_uri": "https://localhost:8080/"
        },
        "id": "UvNaudEI97P3",
        "outputId": "a7e83b3c-e4b4-47bb-ecbc-3a1ff93d90a2"
      },
      "outputs": [
        {
          "data": {
            "text/plain": [
              "False"
            ]
          },
          "execution_count": 228,
          "metadata": {},
          "output_type": "execute_result"
        }
      ],
      "source": [
        "np.all(a == b)"
      ]
    },
    {
      "cell_type": "code",
      "execution_count": 17,
      "metadata": {
        "colab": {
          "base_uri": "https://localhost:8080/"
        },
        "id": "Aza_eKBf98bX",
        "outputId": "e7c1ac76-1aeb-48f1-bbb3-866d856ecbe5"
      },
      "outputs": [
        {
          "name": "stdout",
          "output_type": "stream",
          "text": [
            "[1 2 3 4]\n",
            "[1 2 3 4]\n"
          ]
        },
        {
          "data": {
            "text/plain": [
              "True"
            ]
          },
          "execution_count": 17,
          "metadata": {},
          "output_type": "execute_result"
        }
      ],
      "source": [
        "print(a)\n",
        "print(c)\n",
        "np.all(a == c)"
      ]
    },
    {
      "cell_type": "code",
      "execution_count": 18,
      "metadata": {
        "colab": {
          "base_uri": "https://localhost:8080/"
        },
        "id": "k337zBpPFxU1",
        "outputId": "cf5d3a87-1712-49d3-9f3f-d5ac84d5c130"
      },
      "outputs": [
        {
          "name": "stdout",
          "output_type": "stream",
          "text": [
            "[1 2 3 4]\n",
            "[4 2 2 4]\n"
          ]
        },
        {
          "data": {
            "text/plain": [
              "True"
            ]
          },
          "execution_count": 18,
          "metadata": {},
          "output_type": "execute_result"
        }
      ],
      "source": [
        "# any : 하나라도 성립하는지\n",
        "print(a)\n",
        "print(b)\n",
        "np.any(a == b)"
      ]
    },
    {
      "cell_type": "code",
      "execution_count": 19,
      "metadata": {
        "colab": {
          "base_uri": "https://localhost:8080/"
        },
        "id": "n-hlpfj899lo",
        "outputId": "7cf3e0a3-6a6a-4923-8aca-cfee3592a5fe"
      },
      "outputs": [
        {
          "data": {
            "text/plain": [
              "array([0, 1, 2, 3, 4])"
            ]
          },
          "execution_count": 19,
          "metadata": {},
          "output_type": "execute_result"
        }
      ],
      "source": [
        "# 지수 함수, 로그 함수 등의 수학 함수도 벡터화 연산을 지원\n",
        "a = np.arange(5)\n",
        "a"
      ]
    },
    {
      "cell_type": "code",
      "execution_count": 20,
      "metadata": {
        "colab": {
          "base_uri": "https://localhost:8080/"
        },
        "id": "ZsYR0Al2-Aoc",
        "outputId": "d2663a88-7e9a-4d94-cbe6-9593159fa70c"
      },
      "outputs": [
        {
          "data": {
            "text/plain": [
              "array([ 1.        ,  2.71828183,  7.3890561 , 20.08553692, 54.59815003])"
            ]
          },
          "execution_count": 20,
          "metadata": {},
          "output_type": "execute_result"
        }
      ],
      "source": [
        "np.exp(a)"
      ]
    },
    {
      "cell_type": "code",
      "execution_count": 21,
      "metadata": {
        "colab": {
          "base_uri": "https://localhost:8080/"
        },
        "id": "voLHjpyc-Bth",
        "outputId": "259e1c33-7966-4e78-ce9b-f7df351fd213"
      },
      "outputs": [
        {
          "data": {
            "text/plain": [
              "array([    1,    10,   100,  1000, 10000])"
            ]
          },
          "execution_count": 21,
          "metadata": {},
          "output_type": "execute_result"
        }
      ],
      "source": [
        "10 ** a"
      ]
    },
    {
      "cell_type": "code",
      "execution_count": 22,
      "metadata": {
        "colab": {
          "base_uri": "https://localhost:8080/"
        },
        "id": "4jVRQZHG-CyM",
        "outputId": "a67e384f-a6d2-4a3e-c2ac-497c756f246d"
      },
      "outputs": [
        {
          "data": {
            "text/plain": [
              "array([0.        , 0.69314718, 1.09861229, 1.38629436, 1.60943791])"
            ]
          },
          "execution_count": 22,
          "metadata": {},
          "output_type": "execute_result"
        }
      ],
      "source": [
        "np.log(a+1)"
      ]
    },
    {
      "cell_type": "markdown",
      "metadata": {
        "id": "8N5Dc5Q--Uko"
      },
      "source": [
        "## 스칼라와 벡터/행렬의 곱셈"
      ]
    },
    {
      "cell_type": "code",
      "execution_count": 23,
      "metadata": {
        "colab": {
          "base_uri": "https://localhost:8080/"
        },
        "id": "D10JF_hy-T9v",
        "outputId": "8005caaf-c4f5-43ad-eba9-9f1ddf4cc3ea"
      },
      "outputs": [
        {
          "data": {
            "text/plain": [
              "array([0, 1, 2, 3, 4, 5, 6, 7, 8, 9])"
            ]
          },
          "execution_count": 23,
          "metadata": {},
          "output_type": "execute_result"
        }
      ],
      "source": [
        "x = np.arange(10)\n",
        "x"
      ]
    },
    {
      "cell_type": "code",
      "execution_count": 24,
      "metadata": {
        "colab": {
          "base_uri": "https://localhost:8080/"
        },
        "id": "Y7tGxKgq-X5o",
        "outputId": "e89f2b56-c888-4d46-c436-ce23d2df241d"
      },
      "outputs": [
        {
          "data": {
            "text/plain": [
              "array([  0, 100, 200, 300, 400, 500, 600, 700, 800, 900])"
            ]
          },
          "execution_count": 24,
          "metadata": {},
          "output_type": "execute_result"
        }
      ],
      "source": [
        "100 * x"
      ]
    },
    {
      "cell_type": "code",
      "execution_count": 25,
      "metadata": {
        "colab": {
          "base_uri": "https://localhost:8080/"
        },
        "id": "u61-Rsr9-EE9",
        "outputId": "2b0db43b-4001-4ae5-d68a-28c38db0bebc"
      },
      "outputs": [
        {
          "data": {
            "text/plain": [
              "array([[ 0,  1,  2,  3],\n",
              "       [ 4,  5,  6,  7],\n",
              "       [ 8,  9, 10, 11]])"
            ]
          },
          "execution_count": 25,
          "metadata": {},
          "output_type": "execute_result"
        }
      ],
      "source": [
        "x = np.arange(12).reshape(3, 4)\n",
        "x"
      ]
    },
    {
      "cell_type": "code",
      "execution_count": 26,
      "metadata": {
        "colab": {
          "base_uri": "https://localhost:8080/"
        },
        "id": "aWaSxIRQ-bEy",
        "outputId": "bfcdec49-a3aa-4508-bc5e-3c1f54ca6ff1"
      },
      "outputs": [
        {
          "data": {
            "text/plain": [
              "array([[   0,  100,  200,  300],\n",
              "       [ 400,  500,  600,  700],\n",
              "       [ 800,  900, 1000, 1100]])"
            ]
          },
          "execution_count": 26,
          "metadata": {},
          "output_type": "execute_result"
        }
      ],
      "source": [
        "100 * x"
      ]
    },
    {
      "cell_type": "markdown",
      "metadata": {
        "id": "QLUTAyOg-eZh"
      },
      "source": [
        "## 브로드캐스팅\n",
        "* 벡터(또는 행렬)끼리 덧셈 혹은 뺄셈을 하려면 두 벡터(또는 행렬)의 크기가 같아야 함\n",
        "* Numpy에선 서로 다른 크기를 가진 두 배열의 사칙 연산 지원 = 브로드캐스팅(broadcasting)\n",
        "> 크기가 작은 배열을 자동으로 반복 확장하여 크기가 큰 배열에 맞추는 방법\n",
        "\n",
        "<br>\n",
        "$$\n",
        "x = \\begin{bmatrix}0\\\\1\\\\2\\\\3\\\\4\\end{bmatrix},\\quad \n",
        "x + 1 = \\begin{bmatrix}0\\\\1\\\\2\\\\3\\\\4\\end{bmatrix} + 1 = ?\n",
        "$$\n",
        "<br>\n",
        "$$\n",
        "\\begin{bmatrix}0\\\\1\\\\2\\\\3\\\\4\\end{bmatrix} + 1\n",
        "= \\begin{bmatrix}0\\\\1\\\\2\\\\3\\\\4\\end{bmatrix}\n",
        "+ \\begin{bmatrix}1\\\\1\\\\1\\\\1\\\\1\\end{bmatrix}\n",
        "= \\begin{bmatrix}1\\\\2\\\\3\\\\4\\\\5\\end{bmatrix}\n",
        "$$"
      ]
    },
    {
      "cell_type": "code",
      "execution_count": 27,
      "metadata": {
        "colab": {
          "base_uri": "https://localhost:8080/"
        },
        "id": "3CPFyxjm-ceU",
        "outputId": "ce87aee9-681f-43e5-cb90-0d733f59ae1e"
      },
      "outputs": [
        {
          "data": {
            "text/plain": [
              "array([0, 1, 2, 3, 4])"
            ]
          },
          "execution_count": 27,
          "metadata": {},
          "output_type": "execute_result"
        }
      ],
      "source": [
        "x = np.arange(5)\n",
        "x"
      ]
    },
    {
      "cell_type": "code",
      "execution_count": 28,
      "metadata": {
        "colab": {
          "base_uri": "https://localhost:8080/"
        },
        "id": "zjzZosy-_ny2",
        "outputId": "67b642b9-3110-4cd2-ed71-cca9197256b3"
      },
      "outputs": [
        {
          "data": {
            "text/plain": [
              "array([1, 1, 1, 1, 1])"
            ]
          },
          "execution_count": 28,
          "metadata": {},
          "output_type": "execute_result"
        }
      ],
      "source": [
        "y = np.ones_like(x)\n",
        "y"
      ]
    },
    {
      "cell_type": "code",
      "execution_count": 29,
      "metadata": {
        "colab": {
          "base_uri": "https://localhost:8080/"
        },
        "id": "iWiyIctf_tDo",
        "outputId": "ed3c4801-b8b8-4137-91bb-e0ea61574f75"
      },
      "outputs": [
        {
          "data": {
            "text/plain": [
              "array([1, 2, 3, 4, 5])"
            ]
          },
          "execution_count": 29,
          "metadata": {},
          "output_type": "execute_result"
        }
      ],
      "source": [
        "x + y"
      ]
    },
    {
      "cell_type": "code",
      "execution_count": 30,
      "metadata": {
        "colab": {
          "base_uri": "https://localhost:8080/"
        },
        "id": "uDVrYI84_ulY",
        "outputId": "001ff644-a7b8-4c9a-f20e-961d4272bc3f"
      },
      "outputs": [
        {
          "data": {
            "text/plain": [
              "array([1, 2, 3, 4, 5])"
            ]
          },
          "execution_count": 30,
          "metadata": {},
          "output_type": "execute_result"
        }
      ],
      "source": [
        "x + 1"
      ]
    },
    {
      "cell_type": "code",
      "execution_count": 31,
      "metadata": {
        "colab": {
          "base_uri": "https://localhost:8080/"
        },
        "id": "lNX8M8xjIA8b",
        "outputId": "e996bd4f-2aa6-4f9b-d6b9-c161908b51c2"
      },
      "outputs": [
        {
          "data": {
            "text/plain": [
              "array([2, 3, 4, 5, 6])"
            ]
          },
          "execution_count": 31,
          "metadata": {},
          "output_type": "execute_result"
        }
      ],
      "source": [
        "# x + 2\n",
        "y = np.full_like(x, 2)\n",
        "x + y"
      ]
    },
    {
      "cell_type": "code",
      "execution_count": 34,
      "metadata": {
        "colab": {
          "base_uri": "https://localhost:8080/"
        },
        "id": "hNWx7bav_vF9",
        "outputId": "5a4e30be-19b5-49f6-844b-9cd7c326a5a1"
      },
      "outputs": [
        {
          "data": {
            "text/plain": [
              "(array([[0, 1, 2],\n",
              "        [1, 2, 3],\n",
              "        [2, 3, 4],\n",
              "        [3, 4, 5],\n",
              "        [4, 5, 6]]), 2, (5, 3))"
            ]
          },
          "execution_count": 34,
          "metadata": {},
          "output_type": "execute_result"
        }
      ],
      "source": [
        "# 2차원 이상에서도 적용됨\n",
        "x = np.vstack([range(7)[i:i+3] for i in range(5)])\n",
        "x, x.ndim, x.shape"
      ]
    },
    {
      "cell_type": "code",
      "execution_count": 35,
      "metadata": {
        "colab": {
          "base_uri": "https://localhost:8080/"
        },
        "id": "aEPuC1In_08w",
        "outputId": "7f533d46-4137-42a4-a217-bb86efe60491"
      },
      "outputs": [
        {
          "data": {
            "text/plain": [
              "(array([[0],\n",
              "        [1],\n",
              "        [2],\n",
              "        [3],\n",
              "        [4]]), 2, (5, 1))"
            ]
          },
          "execution_count": 35,
          "metadata": {},
          "output_type": "execute_result"
        }
      ],
      "source": [
        "y = np.arange(5)[:, np.newaxis]\n",
        "y, y.ndim, y.shape"
      ]
    },
    {
      "cell_type": "code",
      "execution_count": 36,
      "metadata": {
        "colab": {
          "base_uri": "https://localhost:8080/"
        },
        "id": "hIrEN7MF_2-y",
        "outputId": "03eeb577-c0ab-417d-e4b5-1c4ee359df6b"
      },
      "outputs": [
        {
          "data": {
            "text/plain": [
              "array([[ 0,  1,  2],\n",
              "       [ 2,  3,  4],\n",
              "       [ 4,  5,  6],\n",
              "       [ 6,  7,  8],\n",
              "       [ 8,  9, 10]])"
            ]
          },
          "execution_count": 36,
          "metadata": {},
          "output_type": "execute_result"
        }
      ],
      "source": [
        "x + y"
      ]
    },
    {
      "cell_type": "code",
      "execution_count": 37,
      "metadata": {
        "colab": {
          "base_uri": "https://localhost:8080/"
        },
        "id": "uQqR40ZB_4Ot",
        "outputId": "ad5d7236-0579-4c93-f36c-826e1b87010f"
      },
      "outputs": [
        {
          "data": {
            "text/plain": [
              "(array([0, 1, 2]), 1, (3,))"
            ]
          },
          "execution_count": 37,
          "metadata": {},
          "output_type": "execute_result"
        }
      ],
      "source": [
        "y = np.arange(3)\n",
        "y, y.ndim, y.shape"
      ]
    },
    {
      "cell_type": "code",
      "execution_count": 38,
      "metadata": {
        "colab": {
          "base_uri": "https://localhost:8080/"
        },
        "id": "aYTW4GzV_684",
        "outputId": "7806841c-a72f-4547-f397-51c74708e958"
      },
      "outputs": [
        {
          "data": {
            "text/plain": [
              "array([[0, 2, 4],\n",
              "       [1, 3, 5],\n",
              "       [2, 4, 6],\n",
              "       [3, 5, 7],\n",
              "       [4, 6, 8]])"
            ]
          },
          "execution_count": 38,
          "metadata": {},
          "output_type": "execute_result"
        }
      ],
      "source": [
        "x + y"
      ]
    },
    {
      "cell_type": "markdown",
      "metadata": {
        "id": "c4xwPdamAFZ_"
      },
      "source": [
        "## 차원 축소 연산 (dimension reduction)\n",
        "> 행렬의 하나의 행에 있는 원소들을 하나의 데이터 집합으로 보고 각 행에 처리된 연산으로 한 차원 낮은 벡터를 구성하게 하는 연산\n",
        "* 최대/최소 : `min`, `max`, `argmin`, `argmax`\n",
        "* 통계 : `sum`, `mean`, `median`, `std`, `var`\n",
        "* 불리언 : `all`, `any`"
      ]
    },
    {
      "cell_type": "code",
      "execution_count": 39,
      "metadata": {
        "colab": {
          "base_uri": "https://localhost:8080/"
        },
        "id": "8zlZOCFfAiAZ",
        "outputId": "ff3ed303-f750-4a61-9c75-4a919760cfc3"
      },
      "outputs": [
        {
          "data": {
            "text/plain": [
              "array([1, 2, 3, 4])"
            ]
          },
          "execution_count": 39,
          "metadata": {},
          "output_type": "execute_result"
        }
      ],
      "source": [
        "x = np.arange(1, 5)\n",
        "x"
      ]
    },
    {
      "cell_type": "code",
      "execution_count": 41,
      "metadata": {
        "colab": {
          "base_uri": "https://localhost:8080/"
        },
        "id": "sSfvD2j2AiRw",
        "outputId": "2a535815-90e9-45e0-eaca-156dca236540"
      },
      "outputs": [
        {
          "data": {
            "text/plain": [
              "(10, 10)"
            ]
          },
          "execution_count": 41,
          "metadata": {},
          "output_type": "execute_result"
        }
      ],
      "source": [
        "np.sum(x), x.sum()"
      ]
    },
    {
      "cell_type": "code",
      "execution_count": 42,
      "metadata": {
        "id": "cyswMEnRAkab"
      },
      "outputs": [],
      "source": [
        "x = np.array([1, 3, 2])"
      ]
    },
    {
      "cell_type": "code",
      "execution_count": 44,
      "metadata": {
        "colab": {
          "base_uri": "https://localhost:8080/"
        },
        "id": "pKlL475YAlY9",
        "outputId": "b7cb2db9-71ed-4028-f661-7e473d927340"
      },
      "outputs": [
        {
          "data": {
            "text/plain": [
              "(1, 3)"
            ]
          },
          "execution_count": 44,
          "metadata": {},
          "output_type": "execute_result"
        }
      ],
      "source": [
        "x.min(), x.max()"
      ]
    },
    {
      "cell_type": "code",
      "execution_count": 46,
      "metadata": {
        "colab": {
          "base_uri": "https://localhost:8080/"
        },
        "id": "Zbq6zUeEAnAy",
        "outputId": "cd01a07d-24a0-4b29-a5bb-a98c0a31dbce"
      },
      "outputs": [
        {
          "data": {
            "text/plain": [
              "0"
            ]
          },
          "execution_count": 46,
          "metadata": {},
          "output_type": "execute_result"
        }
      ],
      "source": [
        "x.argmin() # 최솟값의 위치"
      ]
    },
    {
      "cell_type": "code",
      "execution_count": 47,
      "metadata": {
        "colab": {
          "base_uri": "https://localhost:8080/"
        },
        "id": "o6NkXthQAoSZ",
        "outputId": "ab87fe38-6b32-424a-a0cc-664a017fac0f"
      },
      "outputs": [
        {
          "data": {
            "text/plain": [
              "1"
            ]
          },
          "execution_count": 47,
          "metadata": {},
          "output_type": "execute_result"
        }
      ],
      "source": [
        "x.argmax() # 최댓값의 위치"
      ]
    },
    {
      "cell_type": "code",
      "execution_count": 48,
      "metadata": {
        "id": "gGNSVN69Azib"
      },
      "outputs": [],
      "source": [
        "x = np.array([1, 2, 3, 1])"
      ]
    },
    {
      "cell_type": "code",
      "execution_count": 50,
      "metadata": {
        "colab": {
          "base_uri": "https://localhost:8080/"
        },
        "id": "_ya-Gcp-A2Hz",
        "outputId": "c7464a67-150a-4ee5-8d1c-5286191b5057"
      },
      "outputs": [
        {
          "data": {
            "text/plain": [
              "(1.75, 1.75)"
            ]
          },
          "execution_count": 50,
          "metadata": {},
          "output_type": "execute_result"
        }
      ],
      "source": [
        "x.mean(), x.sum()/len(x)"
      ]
    },
    {
      "cell_type": "code",
      "execution_count": 51,
      "metadata": {
        "colab": {
          "base_uri": "https://localhost:8080/"
        },
        "id": "LSbR-7oAA3xE",
        "outputId": "a42695ed-e0d8-44b6-bb93-11dc18baea7e"
      },
      "outputs": [
        {
          "data": {
            "text/plain": [
              "1.5"
            ]
          },
          "execution_count": 51,
          "metadata": {},
          "output_type": "execute_result"
        }
      ],
      "source": [
        "np.median(x) # 1, 1, 2, 3"
      ]
    },
    {
      "cell_type": "code",
      "execution_count": 53,
      "metadata": {
        "colab": {
          "base_uri": "https://localhost:8080/"
        },
        "id": "uCsGPUDIA8Df",
        "outputId": "38e83f8c-8267-495c-a578-593258aa8c86"
      },
      "outputs": [
        {
          "data": {
            "text/plain": [
              "array([[0., 0., 0., ..., 0., 0., 0.],\n",
              "       [0., 0., 0., ..., 0., 0., 0.],\n",
              "       [0., 0., 0., ..., 0., 0., 0.],\n",
              "       ...,\n",
              "       [0., 0., 0., ..., 0., 0., 0.],\n",
              "       [0., 0., 0., ..., 0., 0., 0.],\n",
              "       [0., 0., 0., ..., 0., 0., 0.]], dtype=float32)"
            ]
          },
          "execution_count": 53,
          "metadata": {},
          "output_type": "execute_result"
        }
      ],
      "source": [
        "a = np.zeros((100, 100), dtype='f')\n",
        "a"
      ]
    },
    {
      "cell_type": "code",
      "execution_count": 54,
      "metadata": {
        "colab": {
          "base_uri": "https://localhost:8080/"
        },
        "id": "A5wy-HhpBArR",
        "outputId": "d7efc8ff-fb3b-44a4-ab61-e94fb4bd489c"
      },
      "outputs": [
        {
          "data": {
            "text/plain": [
              "False"
            ]
          },
          "execution_count": 54,
          "metadata": {},
          "output_type": "execute_result"
        }
      ],
      "source": [
        "np.any(a != 0)"
      ]
    },
    {
      "cell_type": "code",
      "execution_count": 55,
      "metadata": {
        "colab": {
          "base_uri": "https://localhost:8080/"
        },
        "id": "CjAwdeV8BCqi",
        "outputId": "14b797bd-2fc5-4813-b58f-7d3c815aa663"
      },
      "outputs": [
        {
          "data": {
            "text/plain": [
              "True"
            ]
          },
          "execution_count": 55,
          "metadata": {},
          "output_type": "execute_result"
        }
      ],
      "source": [
        "np.all(a == a)"
      ]
    },
    {
      "cell_type": "code",
      "execution_count": 58,
      "metadata": {
        "id": "huAdtJUQBD6O"
      },
      "outputs": [],
      "source": [
        "a = np.array([1, 2, 3, 2])\n",
        "b = np.array([2, 2, 3, 2])\n",
        "c = np.array([6, 4, 4, 5])"
      ]
    },
    {
      "cell_type": "code",
      "execution_count": 59,
      "metadata": {
        "colab": {
          "base_uri": "https://localhost:8080/"
        },
        "id": "aPKJctaWBF5w",
        "outputId": "3fafd027-d82d-48c2-a74e-e278921dc74d"
      },
      "outputs": [
        {
          "data": {
            "text/plain": [
              "True"
            ]
          },
          "execution_count": 59,
          "metadata": {},
          "output_type": "execute_result"
        }
      ],
      "source": [
        "((a <= b) & (b <= c)).all()"
      ]
    },
    {
      "cell_type": "markdown",
      "metadata": {
        "id": "WPEoDlcJBM9k"
      },
      "source": [
        "* 연산의 대상이 2차원 이상인 경우에는 어느 차원으로 계산을 할 지를 axis 인수를 사용하여 지시\n",
        "* axis=0인 경우는 열 연산, axis=1인 경우는 행 연산. 디폴트 값은 axis=0.\n",
        "* axis 인수는 대부분의 차원 축소 명령에 적용할 수 있음"
      ]
    },
    {
      "cell_type": "code",
      "execution_count": 61,
      "metadata": {
        "colab": {
          "base_uri": "https://localhost:8080/"
        },
        "id": "x2aY5O1DBHKl",
        "outputId": "cc89cb98-ee77-4013-c536-b1dd47921411"
      },
      "outputs": [
        {
          "data": {
            "text/plain": [
              "array([[1, 1],\n",
              "       [2, 2]])"
            ]
          },
          "execution_count": 61,
          "metadata": {},
          "output_type": "execute_result"
        }
      ],
      "source": [
        "x = np.array(((1, 1), (2, 2)))\n",
        "x"
      ]
    },
    {
      "cell_type": "code",
      "execution_count": 62,
      "metadata": {
        "colab": {
          "base_uri": "https://localhost:8080/"
        },
        "id": "TCf_XLwkBSqf",
        "outputId": "d6596655-b818-452d-fdf4-b36d8f7dff8e"
      },
      "outputs": [
        {
          "data": {
            "text/plain": [
              "6"
            ]
          },
          "execution_count": 62,
          "metadata": {},
          "output_type": "execute_result"
        }
      ],
      "source": [
        "x.sum()"
      ]
    },
    {
      "cell_type": "code",
      "execution_count": 63,
      "metadata": {
        "colab": {
          "base_uri": "https://localhost:8080/"
        },
        "id": "svBdZRipBTtx",
        "outputId": "db1ef141-e13b-4ef0-e8b4-7d00eaf61d4f"
      },
      "outputs": [
        {
          "data": {
            "text/plain": [
              "array([3, 3])"
            ]
          },
          "execution_count": 63,
          "metadata": {},
          "output_type": "execute_result"
        }
      ],
      "source": [
        "x.sum(axis=0) # 열 합계 (열들 간의 연산)"
      ]
    },
    {
      "cell_type": "code",
      "execution_count": 64,
      "metadata": {
        "colab": {
          "base_uri": "https://localhost:8080/"
        },
        "id": "Tp45fbWxBWAw",
        "outputId": "ec20accb-ee13-4058-e041-e27404fd9ff6"
      },
      "outputs": [
        {
          "data": {
            "text/plain": [
              "array([2, 4])"
            ]
          },
          "execution_count": 64,
          "metadata": {},
          "output_type": "execute_result"
        }
      ],
      "source": [
        "x.sum(axis=1) # 행 합계 (행들 간의 연산)"
      ]
    },
    {
      "cell_type": "markdown",
      "metadata": {
        "id": "wu9TlD2oBgxn"
      },
      "source": [
        "## 💡 연습문제 5\n",
        "실수로 이루어진 5 x 6 형태의 데이터 행렬을 만들고 이 데이터에 대해 다음과 같은 값 도출\n",
        "1. 전체의 최댓값\n",
        "2. 각 행의 합\n",
        "3. 각 행의 최댓값\n",
        "4. 각 열의 평균\n",
        "5. 각 열의 최솟값"
      ]
    },
    {
      "cell_type": "code",
      "execution_count": 65,
      "metadata": {
        "colab": {
          "base_uri": "https://localhost:8080/"
        },
        "id": "0wDF67eFBX6m",
        "outputId": "b766f489-88c2-4a16-c4b9-ca24c6d131f3"
      },
      "outputs": [
        {
          "data": {
            "text/plain": [
              "array([[ 0.,  1.,  2.,  3.,  4.,  5.],\n",
              "       [ 6.,  7.,  8.,  9., 10., 11.],\n",
              "       [12., 13., 14., 15., 16., 17.],\n",
              "       [18., 19., 20., 21., 22., 23.],\n",
              "       [24., 25., 26., 27., 28., 29.]], dtype=float32)"
            ]
          },
          "execution_count": 65,
          "metadata": {},
          "output_type": "execute_result"
        }
      ],
      "source": [
        "a = np.arange(30, dtype='f').reshape((5,6))\n",
        "a"
      ]
    },
    {
      "cell_type": "code",
      "execution_count": 66,
      "metadata": {
        "colab": {
          "base_uri": "https://localhost:8080/"
        },
        "id": "T1rBg-FEBxiB",
        "outputId": "7f0f4a8e-b031-4c74-e169-efb5b733be14"
      },
      "outputs": [
        {
          "data": {
            "text/plain": [
              "29.0"
            ]
          },
          "execution_count": 66,
          "metadata": {},
          "output_type": "execute_result"
        }
      ],
      "source": [
        "# 전체의 최댓값\n",
        "a.max()"
      ]
    },
    {
      "cell_type": "code",
      "execution_count": 67,
      "metadata": {
        "colab": {
          "base_uri": "https://localhost:8080/"
        },
        "id": "2MX12OYJB0z6",
        "outputId": "ee07a5f0-914f-43ef-8f0f-bb6e50c0cb91"
      },
      "outputs": [
        {
          "data": {
            "text/plain": [
              "array([ 15.,  51.,  87., 123., 159.], dtype=float32)"
            ]
          },
          "execution_count": 67,
          "metadata": {},
          "output_type": "execute_result"
        }
      ],
      "source": [
        "# 각 행의 합\n",
        "a.sum(axis=1)"
      ]
    },
    {
      "cell_type": "code",
      "execution_count": 68,
      "metadata": {
        "colab": {
          "base_uri": "https://localhost:8080/"
        },
        "id": "4mWNB5ypB4Lj",
        "outputId": "0530e34e-bfc9-4c29-c839-e5b0329f6592"
      },
      "outputs": [
        {
          "data": {
            "text/plain": [
              "array([ 5., 11., 17., 23., 29.], dtype=float32)"
            ]
          },
          "execution_count": 68,
          "metadata": {},
          "output_type": "execute_result"
        }
      ],
      "source": [
        "# 각 행의 최댓값\n",
        "a.max(axis=1)"
      ]
    },
    {
      "cell_type": "code",
      "execution_count": 69,
      "metadata": {
        "colab": {
          "base_uri": "https://localhost:8080/"
        },
        "id": "ubUjoWPBB7fB",
        "outputId": "5901690e-d48f-482f-a0a5-b84573ea2139"
      },
      "outputs": [
        {
          "data": {
            "text/plain": [
              "array([12., 13., 14., 15., 16., 17.], dtype=float32)"
            ]
          },
          "execution_count": 69,
          "metadata": {},
          "output_type": "execute_result"
        }
      ],
      "source": [
        "# 각 열의 평균\n",
        "a.mean(axis=0)"
      ]
    },
    {
      "cell_type": "code",
      "execution_count": 70,
      "metadata": {
        "colab": {
          "base_uri": "https://localhost:8080/"
        },
        "id": "Tccdtf2zCItV",
        "outputId": "cad03768-6512-4569-8335-d9ad5455206a"
      },
      "outputs": [
        {
          "data": {
            "text/plain": [
              "array([0., 1., 2., 3., 4., 5.], dtype=float32)"
            ]
          },
          "execution_count": 70,
          "metadata": {},
          "output_type": "execute_result"
        }
      ],
      "source": [
        "# 각 열의 최솟값\n",
        "a.min(axis=0)"
      ]
    },
    {
      "cell_type": "markdown",
      "metadata": {
        "id": "V1Hl_stfCNjO"
      },
      "source": [
        "## 정렬\n",
        "* `sort` : 배열 안의 원소를 크기에 따라 정렬하여 새로운 배열 생성\n",
        "* 2차원 이상인 경우에는 행이나 열을 각각 따로따로 정렬\n",
        "    * `axis=0` : 각각의 행을 따로따로 정렬\n",
        "    * `axis=1` : 각각의 열을 따로따로 정렬 \n",
        "    * `axis=-1` : 가장 안쪽(나중)의 차원 (default)"
      ]
    },
    {
      "cell_type": "code",
      "execution_count": 72,
      "metadata": {
        "colab": {
          "base_uri": "https://localhost:8080/"
        },
        "id": "8Brlt6RODt-h",
        "outputId": "18d49d8c-a8c9-41bc-c0a7-5b44758d920f"
      },
      "outputs": [
        {
          "data": {
            "text/plain": [
              "array([[ 4,  3,  5,  7],\n",
              "       [ 1, 12, 11,  9],\n",
              "       [ 2, 15,  1, 14]])"
            ]
          },
          "execution_count": 72,
          "metadata": {},
          "output_type": "execute_result"
        }
      ],
      "source": [
        "a = np.array(\n",
        "    (\n",
        "    [4, 3, 5, 7],\n",
        "    [1, 12, 11, 9],\n",
        "    [2, 15, 1, 14]\n",
        "    )\n",
        ")\n",
        "a"
      ]
    },
    {
      "cell_type": "code",
      "execution_count": 75,
      "metadata": {
        "colab": {
          "base_uri": "https://localhost:8080/"
        },
        "id": "vDlML3DSDvUj",
        "outputId": "85d00c35-32c0-4101-b9fa-3524fe5f09d8"
      },
      "outputs": [
        {
          "data": {
            "text/plain": [
              "array([[ 3,  4,  5,  7],\n",
              "       [ 1,  9, 11, 12],\n",
              "       [ 1,  2, 14, 15]])"
            ]
          },
          "execution_count": 75,
          "metadata": {},
          "output_type": "execute_result"
        }
      ],
      "source": [
        "np.sort(a) # axis=-1, axis=1 열들 간의 정렬.\n",
        "np.sort(a, axis=-1)\n",
        "np.sort(a, axis=1)"
      ]
    },
    {
      "cell_type": "code",
      "execution_count": 76,
      "metadata": {
        "colab": {
          "base_uri": "https://localhost:8080/"
        },
        "id": "71fdz0tXDw1i",
        "outputId": "2588b1f8-2f02-49c7-8a33-38a903649158"
      },
      "outputs": [
        {
          "data": {
            "text/plain": [
              "array([[ 1,  3,  1,  7],\n",
              "       [ 2, 12,  5,  9],\n",
              "       [ 4, 15, 11, 14]])"
            ]
          },
          "execution_count": 76,
          "metadata": {},
          "output_type": "execute_result"
        }
      ],
      "source": [
        "np.sort(a, axis=0) # 행들 간의 정렬"
      ]
    },
    {
      "cell_type": "code",
      "execution_count": 77,
      "metadata": {
        "colab": {
          "base_uri": "https://localhost:8080/"
        },
        "id": "Bg3m5YtMDziF",
        "outputId": "8668f57c-178c-4085-c515-6a00dc6bf6c2"
      },
      "outputs": [
        {
          "data": {
            "text/plain": [
              "array([[ 3,  4,  5,  7],\n",
              "       [ 1,  9, 11, 12],\n",
              "       [ 1,  2, 14, 15]])"
            ]
          },
          "execution_count": 77,
          "metadata": {},
          "output_type": "execute_result"
        }
      ],
      "source": [
        "# sort 메서드는 해당 객체의 자료 자체가 변화하므로 주의\n",
        "# 자체변화(in-place) 메서드 = 원본이 수정됨\n",
        "a.sort(axis=1)\n",
        "a"
      ]
    },
    {
      "cell_type": "markdown",
      "metadata": {
        "id": "83QvaXeHEE1P"
      },
      "source": [
        "* `argsort` : 자료 정렬이 아니라 순서만 알고 싶다면 사용"
      ]
    },
    {
      "cell_type": "code",
      "execution_count": 79,
      "metadata": {
        "colab": {
          "base_uri": "https://localhost:8080/"
        },
        "id": "DpLBeDjJEAUQ",
        "outputId": "38b7a4df-9900-401a-fa86-0e7f01696971"
      },
      "outputs": [
        {
          "data": {
            "text/plain": [
              "array([2, 3, 1, 0])"
            ]
          },
          "execution_count": 79,
          "metadata": {},
          "output_type": "execute_result"
        }
      ],
      "source": [
        "a = np.array([42, 38, 12, 25])\n",
        "j = np.argsort(a)\n",
        "j"
      ]
    },
    {
      "cell_type": "code",
      "execution_count": 80,
      "metadata": {
        "colab": {
          "base_uri": "https://localhost:8080/"
        },
        "id": "1F6Lqg6KEKgj",
        "outputId": "43ad317a-06df-4dce-df92-b099c5b1a2c6"
      },
      "outputs": [
        {
          "data": {
            "text/plain": [
              "array([12, 25, 38, 42])"
            ]
          },
          "execution_count": 80,
          "metadata": {},
          "output_type": "execute_result"
        }
      ],
      "source": [
        "a[j]"
      ]
    },
    {
      "cell_type": "code",
      "execution_count": 81,
      "metadata": {
        "colab": {
          "base_uri": "https://localhost:8080/"
        },
        "id": "KdFvTG6VENQF",
        "outputId": "5adb5a7b-e1eb-4322-9097-c7e67682f83d"
      },
      "outputs": [
        {
          "data": {
            "text/plain": [
              "array([12, 25, 38, 42])"
            ]
          },
          "execution_count": 81,
          "metadata": {},
          "output_type": "execute_result"
        }
      ],
      "source": [
        "np.sort(a)"
      ]
    },
    {
      "cell_type": "markdown",
      "metadata": {
        "id": "qR6INELiEUEU"
      },
      "source": [
        "## 💡 연습문제 6\n",
        "> 두 번째 행을 기준으로 각 열(column)을 재정렬\n",
        "```\n",
        "array([[  1,    2,    3,    4],\n",
        "       [ 46,   99,  100,   71],\n",
        "       [ 81,   59,   90,  100]])\n",
        "```"
      ]
    },
    {
      "cell_type": "code",
      "execution_count": 83,
      "metadata": {
        "colab": {
          "base_uri": "https://localhost:8080/"
        },
        "id": "el8EU7kYETyV",
        "outputId": "ba8b5342-3bb0-4ee3-a385-5586ce3c52aa"
      },
      "outputs": [
        {
          "data": {
            "text/plain": [
              "array([[  1,   2,   3,   4],\n",
              "       [ 46,  99, 100,  71],\n",
              "       [ 81,  59,  90, 100]])"
            ]
          },
          "execution_count": 83,
          "metadata": {},
          "output_type": "execute_result"
        }
      ],
      "source": [
        "x = np.array([\n",
        "    [1, 2, 3, 4],\n",
        "    [46, 99, 100, 71],\n",
        "    [81, 59, 90, 100]\n",
        "])\n",
        "x"
      ]
    },
    {
      "cell_type": "code",
      "execution_count": 84,
      "metadata": {
        "colab": {
          "base_uri": "https://localhost:8080/"
        },
        "id": "kIyiUdJgEOmh",
        "outputId": "914169b7-472f-4b7c-b20a-1e0465946de4"
      },
      "outputs": [
        {
          "data": {
            "text/plain": [
              "array([[  1,   2,   3,   4],\n",
              "       [ 46,  99, 100,  71],\n",
              "       [ 81,  59,  90, 100]])"
            ]
          },
          "execution_count": 84,
          "metadata": {},
          "output_type": "execute_result"
        }
      ],
      "source": [
        "x[:]"
      ]
    },
    {
      "cell_type": "code",
      "execution_count": 87,
      "metadata": {
        "colab": {
          "base_uri": "https://localhost:8080/"
        },
        "id": "k2TUOTlxTy5N",
        "outputId": "aa5077b6-1f3b-4b6b-e115-fa5b97362996"
      },
      "outputs": [
        {
          "data": {
            "text/plain": [
              "array([0, 3, 1, 2])"
            ]
          },
          "execution_count": 87,
          "metadata": {},
          "output_type": "execute_result"
        }
      ],
      "source": [
        "# np.sort(x[1])\n",
        "np.argsort(x[1])"
      ]
    },
    {
      "cell_type": "code",
      "execution_count": 88,
      "metadata": {
        "colab": {
          "base_uri": "https://localhost:8080/"
        },
        "id": "RE0IW8aUT_5k",
        "outputId": "2415fdda-1330-4b87-8e3a-d3d0124000e1"
      },
      "outputs": [
        {
          "data": {
            "text/plain": [
              "array([[  1,   4,   2,   3],\n",
              "       [ 46,  71,  99, 100],\n",
              "       [ 81, 100,  59,  90]])"
            ]
          },
          "execution_count": 88,
          "metadata": {},
          "output_type": "execute_result"
        }
      ],
      "source": [
        "x[:, np.argsort(x[1])]"
      ]
    }
  ],
  "metadata": {
    "colab": {
      "authorship_tag": "ABX9TyNke3Z1eTc8ub++9VMaHSMj",
      "include_colab_link": true,
      "provenance": []
    },
    "kernelspec": {
      "display_name": "Python 3",
      "name": "python3"
    },
    "language_info": {
      "name": "python"
    }
  },
  "nbformat": 4,
  "nbformat_minor": 0
}
