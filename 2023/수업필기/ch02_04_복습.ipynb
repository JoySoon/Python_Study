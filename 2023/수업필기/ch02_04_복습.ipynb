{
  "nbformat": 4,
  "nbformat_minor": 0,
  "metadata": {
    "colab": {
      "provenance": [],
      "include_colab_link": true
    },
    "kernelspec": {
      "name": "python3",
      "display_name": "Python 3"
    },
    "language_info": {
      "name": "python"
    }
  },
  "cells": [
    {
      "cell_type": "markdown",
      "metadata": {
        "id": "view-in-github",
        "colab_type": "text"
      },
      "source": [
        "<a href=\"https://colab.research.google.com/github/JoySoon/Python_Study/blob/main/2023/%EC%88%98%EC%97%85%ED%95%84%EA%B8%B0/ch02_04_%EB%B3%B5%EC%8A%B5.ipynb\" target=\"_parent\"><img src=\"https://colab.research.google.com/assets/colab-badge.svg\" alt=\"Open In Colab\"/></a>"
      ]
    },
    {
      "cell_type": "markdown",
      "source": [
        "# 문자열 서식"
      ],
      "metadata": {
        "id": "tWqYFUMCe7m6"
      }
    },
    {
      "cell_type": "markdown",
      "source": [
        "## f-string"
      ],
      "metadata": {
        "id": "ckanLGmOfkVA"
      }
    },
    {
      "cell_type": "code",
      "execution_count": null,
      "metadata": {
        "colab": {
          "base_uri": "https://localhost:8080/",
          "height": 36
        },
        "id": "uL7SyjPicJBV",
        "outputId": "589b3dd0-b540-435a-8590-2f597e744412"
      },
      "outputs": [
        {
          "output_type": "execute_result",
          "data": {
            "text/plain": [
              "'빅데이터 엔지니어링 과정에서는 파이썬을 배웁니다'"
            ],
            "application/vnd.google.colaboratory.intrinsic+json": {
              "type": "string"
            }
          },
          "metadata": {},
          "execution_count": 1
        }
      ],
      "source": [
        "\"빅데이터 엔지니어링 과정에서는 \" + \"파이썬\" + \"을 배웁니다\""
      ]
    },
    {
      "cell_type": "code",
      "source": [
        "def announce(keyword):\n",
        "    return \"빅데이터 엔지니어링 과정에서는 \" + keyword + \"을 배웁니다\""
      ],
      "metadata": {
        "id": "k8BiammRf0Qu"
      },
      "execution_count": null,
      "outputs": []
    },
    {
      "cell_type": "code",
      "source": [
        "announce(\"Java\")"
      ],
      "metadata": {
        "colab": {
          "base_uri": "https://localhost:8080/",
          "height": 36
        },
        "id": "nenh5kK4f9i8",
        "outputId": "cf56c0ae-c5f0-454b-ede5-f08d4816936e"
      },
      "execution_count": null,
      "outputs": [
        {
          "output_type": "execute_result",
          "data": {
            "text/plain": [
              "'빅데이터 엔지니어링 과정에서는 Java을 배웁니다'"
            ],
            "application/vnd.google.colaboratory.intrinsic+json": {
              "type": "string"
            }
          },
          "metadata": {},
          "execution_count": 4
        }
      ]
    },
    {
      "cell_type": "code",
      "source": [
        "announce(\"Python\")"
      ],
      "metadata": {
        "colab": {
          "base_uri": "https://localhost:8080/",
          "height": 36
        },
        "id": "u9_ZYeOSgALs",
        "outputId": "03e13a27-570c-4ce2-e0ca-85fb36b06336"
      },
      "execution_count": null,
      "outputs": [
        {
          "output_type": "execute_result",
          "data": {
            "text/plain": [
              "'빅데이터 엔지니어링 과정에서는 Python을 배웁니다'"
            ],
            "application/vnd.google.colaboratory.intrinsic+json": {
              "type": "string"
            }
          },
          "metadata": {},
          "execution_count": 5
        }
      ]
    },
    {
      "cell_type": "code",
      "source": [
        "def announce2(a, b, c, d):\n",
        "    return a + \"에서는 \" + b + \"와 \" + c + \"와 \" + d + \"를 배웁니다\""
      ],
      "metadata": {
        "id": "mGXEDqtBgDg6"
      },
      "execution_count": null,
      "outputs": []
    },
    {
      "cell_type": "code",
      "source": [
        "announce2(\"빅데이터 엔지니어링\", \"자바\", \"파이썬\", \"리눅스\")"
      ],
      "metadata": {
        "colab": {
          "base_uri": "https://localhost:8080/",
          "height": 36
        },
        "id": "ooQR6Nv0gjne",
        "outputId": "91e10322-4d0e-441c-8d9a-e5eb7e2e3e18"
      },
      "execution_count": null,
      "outputs": [
        {
          "output_type": "execute_result",
          "data": {
            "text/plain": [
              "'빅데이터 엔지니어링에서는 자바와 파이썬와 리눅스를 배웁니다'"
            ],
            "application/vnd.google.colaboratory.intrinsic+json": {
              "type": "string"
            }
          },
          "metadata": {},
          "execution_count": 10
        }
      ]
    },
    {
      "cell_type": "code",
      "source": [
        "def announce3(name, count, subject1, subject2):\n",
        "    return name + \" \" + str(count) + \"기에서는 \" + subject1 + \"과 \"+ subject2 + \"를 배웁니다\""
      ],
      "metadata": {
        "id": "Y9FE40h4gPWt"
      },
      "execution_count": null,
      "outputs": []
    },
    {
      "cell_type": "code",
      "source": [
        "announce3(\"빅데이터\", 23, \"자바\", \"스파크\")"
      ],
      "metadata": {
        "colab": {
          "base_uri": "https://localhost:8080/",
          "height": 36
        },
        "id": "M1mu3EPRgrx9",
        "outputId": "0274109d-0c94-4013-8cd7-58930199d9c1"
      },
      "execution_count": null,
      "outputs": [
        {
          "output_type": "execute_result",
          "data": {
            "text/plain": [
              "'빅데이터 23기에서는 자바과 스파크를 배웁니다'"
            ],
            "application/vnd.google.colaboratory.intrinsic+json": {
              "type": "string"
            }
          },
          "metadata": {},
          "execution_count": 14
        }
      ]
    },
    {
      "cell_type": "code",
      "source": [
        "def announce_f(name, count, subject1, subject2):\n",
        "    return f\"{name} {count}기에서는 {subject1}, {subject2}를 배웁니다\"\n",
        "    # f'...', f\"...\", f'''...''', f\"\"\"...\"\"\""
      ],
      "metadata": {
        "id": "WcCyyy_cgzEE"
      },
      "execution_count": null,
      "outputs": []
    },
    {
      "cell_type": "code",
      "source": [
        "announce_f(\"빅데이터\", 23, \"자바\", \"스파크\")"
      ],
      "metadata": {
        "colab": {
          "base_uri": "https://localhost:8080/",
          "height": 36
        },
        "id": "iuZYvh72g_Nc",
        "outputId": "a74459ee-ec1b-46b3-f2cc-b497d96f255d"
      },
      "execution_count": null,
      "outputs": [
        {
          "output_type": "execute_result",
          "data": {
            "text/plain": [
              "'빅데이터 23기에서는 자바, 스파크를 배웁니다'"
            ],
            "application/vnd.google.colaboratory.intrinsic+json": {
              "type": "string"
            }
          },
          "metadata": {},
          "execution_count": 17
        }
      ]
    },
    {
      "cell_type": "code",
      "source": [
        "a = 76 # 취업자 수\n",
        "b = 97 # 전체 수강생 수\n",
        "\n",
        "f\"전체 취업자 수 : {a:04d}명 / 전체 수강생 수 {b:04d}명 / {(a / b):06.2f}\""
      ],
      "metadata": {
        "colab": {
          "base_uri": "https://localhost:8080/",
          "height": 36
        },
        "id": "u3d5TpLthO97",
        "outputId": "75641940-1870-4b47-92ae-204496992f02"
      },
      "execution_count": null,
      "outputs": [
        {
          "output_type": "execute_result",
          "data": {
            "text/plain": [
              "'전체 취업자 수 : 0076명 / 전체 수강생 수 0097명 / 000.78'"
            ],
            "application/vnd.google.colaboratory.intrinsic+json": {
              "type": "string"
            }
          },
          "metadata": {},
          "execution_count": 26
        }
      ]
    },
    {
      "cell_type": "markdown",
      "source": [
        "## format 메소드"
      ],
      "metadata": {
        "id": "Da8jqMpviCo9"
      }
    },
    {
      "cell_type": "code",
      "source": [
        "introduction = \"이름 : {}, 나이 : {}세\".format(\"김동동\", 20)\n",
        "introduction"
      ],
      "metadata": {
        "colab": {
          "base_uri": "https://localhost:8080/",
          "height": 36
        },
        "id": "ww_vY3VqiGle",
        "outputId": "2464e6c7-abd7-44b5-d7b6-28e7f2ec928d"
      },
      "execution_count": null,
      "outputs": [
        {
          "output_type": "execute_result",
          "data": {
            "text/plain": [
              "'이름 : 김동동, 나이 : 20세'"
            ],
            "application/vnd.google.colaboratory.intrinsic+json": {
              "type": "string"
            }
          },
          "metadata": {},
          "execution_count": 27
        }
      ]
    },
    {
      "cell_type": "code",
      "source": [
        "# introduction2 = \"이름 : {name}, 나이 : {age}세\".format(name=\"김동동\", age=20)\n",
        "introduction2 = \"이름 : {name}, 나이 : {age}세\".format(age=20, name=\"김동동\")\n",
        "introduction2"
      ],
      "metadata": {
        "colab": {
          "base_uri": "https://localhost:8080/",
          "height": 36
        },
        "id": "doTJfohKifJ9",
        "outputId": "adcaab3e-4c9b-4279-b1cd-dace625fa502"
      },
      "execution_count": null,
      "outputs": [
        {
          "output_type": "execute_result",
          "data": {
            "text/plain": [
              "'이름 : 김동동, 나이 : 20세'"
            ],
            "application/vnd.google.colaboratory.intrinsic+json": {
              "type": "string"
            }
          },
          "metadata": {},
          "execution_count": 33
        }
      ]
    },
    {
      "cell_type": "code",
      "source": [
        "def hello():\n",
        "    return \"안녕 나는 김동동이야\""
      ],
      "metadata": {
        "id": "i2X18ib8izWw"
      },
      "execution_count": null,
      "outputs": []
    },
    {
      "cell_type": "code",
      "source": [
        "hello()"
      ],
      "metadata": {
        "colab": {
          "base_uri": "https://localhost:8080/",
          "height": 36
        },
        "id": "0R0zHUvri6kl",
        "outputId": "b53638b4-670b-4d45-91a5-7706cbea3c0f"
      },
      "execution_count": null,
      "outputs": [
        {
          "output_type": "execute_result",
          "data": {
            "text/plain": [
              "'안녕 나는 김동동이야'"
            ],
            "application/vnd.google.colaboratory.intrinsic+json": {
              "type": "string"
            }
          },
          "metadata": {},
          "execution_count": 35
        }
      ]
    },
    {
      "cell_type": "code",
      "source": [
        "def hello2(name):\n",
        "    return f\"안녕 나는 {name}이야\"\n",
        "\n",
        "hello2(\"김동동\")"
      ],
      "metadata": {
        "colab": {
          "base_uri": "https://localhost:8080/",
          "height": 36
        },
        "id": "4V8L6Hyti7n1",
        "outputId": "103b34ba-5f9b-46bf-daf8-29b8587be596"
      },
      "execution_count": null,
      "outputs": [
        {
          "output_type": "execute_result",
          "data": {
            "text/plain": [
              "'안녕 나는 김동동이야'"
            ],
            "application/vnd.google.colaboratory.intrinsic+json": {
              "type": "string"
            }
          },
          "metadata": {},
          "execution_count": 36
        }
      ]
    },
    {
      "cell_type": "code",
      "source": [
        "def hello3(sentence, name):\n",
        "    # return \"안녕 나는 {}이야\".format(name)\n",
        "    return sentence.format(name)\n",
        "\n",
        "hello3(\"여러분 좋은 아침! 내 이름을 묻는다면 나는 {}!\", \"왈도\")"
      ],
      "metadata": {
        "colab": {
          "base_uri": "https://localhost:8080/",
          "height": 36
        },
        "id": "YQ9QfQHJjFuN",
        "outputId": "1263d775-5103-4caf-d0a1-251e4962ef75"
      },
      "execution_count": null,
      "outputs": [
        {
          "output_type": "execute_result",
          "data": {
            "text/plain": [
              "'여러분 좋은 아침! 내 이름을 묻는다면 나는 왈도!'"
            ],
            "application/vnd.google.colaboratory.intrinsic+json": {
              "type": "string"
            }
          },
          "metadata": {},
          "execution_count": 37
        }
      ]
    },
    {
      "cell_type": "code",
      "source": [
        "def hello4(callback, *args):\n",
        "    return list(map(callback, args))\n",
        "\n",
        "hello4(\"{}님 출석하셨습니다\".format, \"김장장\", \"공장장\", \"박술술\")"
      ],
      "metadata": {
        "colab": {
          "base_uri": "https://localhost:8080/"
        },
        "id": "x-SIiZqojm96",
        "outputId": "3fa4bc94-cde7-4128-b93f-45ac902b428f"
      },
      "execution_count": null,
      "outputs": [
        {
          "output_type": "execute_result",
          "data": {
            "text/plain": [
              "['김장장님 출석하셨습니다', '공장장님 출석하셨습니다', '박술술님 출석하셨습니다']"
            ]
          },
          "metadata": {},
          "execution_count": 39
        }
      ]
    },
    {
      "cell_type": "code",
      "source": [
        "hello4(lambda x: x+\"님\", \"김장장\", \"공장장\", \"박술술\")"
      ],
      "metadata": {
        "colab": {
          "base_uri": "https://localhost:8080/"
        },
        "id": "tc5RiaVlkN3I",
        "outputId": "198b27f9-f866-47f5-858d-18156fda2994"
      },
      "execution_count": null,
      "outputs": [
        {
          "output_type": "execute_result",
          "data": {
            "text/plain": [
              "['김장장님', '공장장님', '박술술님']"
            ]
          },
          "metadata": {},
          "execution_count": 40
        }
      ]
    },
    {
      "cell_type": "markdown",
      "source": [
        "# 딕셔너리 응용"
      ],
      "metadata": {
        "id": "f5kA44D1mvvh"
      }
    },
    {
      "cell_type": "code",
      "source": [
        "x = { \"a\" : 10, \"b\": 20, \"c\": 30, \"d\": 40}\n",
        "x"
      ],
      "metadata": {
        "colab": {
          "base_uri": "https://localhost:8080/"
        },
        "id": "1A2ann5_m1C-",
        "outputId": "daacfacb-5c52-449c-dfc5-3edfa07c0d5b"
      },
      "execution_count": null,
      "outputs": [
        {
          "output_type": "execute_result",
          "data": {
            "text/plain": [
              "{'a': 10, 'b': 20, 'c': 30, 'd': 40}"
            ]
          },
          "metadata": {},
          "execution_count": 41
        }
      ]
    },
    {
      "cell_type": "code",
      "source": [
        "x['a'] = 15\n",
        "x"
      ],
      "metadata": {
        "colab": {
          "base_uri": "https://localhost:8080/"
        },
        "id": "LbCYCTE2m6sF",
        "outputId": "92ec9471-1f8c-4ba8-b304-c7ddc9dd96d2"
      },
      "execution_count": null,
      "outputs": [
        {
          "output_type": "execute_result",
          "data": {
            "text/plain": [
              "{'a': 15, 'b': 20, 'c': 30, 'd': 40}"
            ]
          },
          "metadata": {},
          "execution_count": 42
        }
      ]
    },
    {
      "cell_type": "code",
      "source": [
        "x['e']"
      ],
      "metadata": {
        "colab": {
          "base_uri": "https://localhost:8080/",
          "height": 176
        },
        "id": "ivmwihdQm9SH",
        "outputId": "16ad04f4-7925-4e5b-f52f-aa12b848e465"
      },
      "execution_count": null,
      "outputs": [
        {
          "output_type": "error",
          "ename": "KeyError",
          "evalue": "ignored",
          "traceback": [
            "\u001b[0;31m---------------------------------------------------------------------------\u001b[0m",
            "\u001b[0;31mKeyError\u001b[0m                                  Traceback (most recent call last)",
            "\u001b[0;32m<ipython-input-44-fbf962bcb721>\u001b[0m in \u001b[0;36m<module>\u001b[0;34m\u001b[0m\n\u001b[0;32m----> 1\u001b[0;31m \u001b[0mx\u001b[0m\u001b[0;34m[\u001b[0m\u001b[0;34m'e'\u001b[0m\u001b[0;34m]\u001b[0m\u001b[0;34m\u001b[0m\u001b[0;34m\u001b[0m\u001b[0m\n\u001b[0m",
            "\u001b[0;31mKeyError\u001b[0m: 'e'"
          ]
        }
      ]
    },
    {
      "cell_type": "code",
      "source": [
        "x.get('e') # None -> 에러가 나지 X"
      ],
      "metadata": {
        "id": "tHeR1HVVnAj9"
      },
      "execution_count": null,
      "outputs": []
    },
    {
      "cell_type": "code",
      "source": [
        "x.get('e', -1) # 기본값을 지정 -> 없을 때 기본값"
      ],
      "metadata": {
        "colab": {
          "base_uri": "https://localhost:8080/"
        },
        "id": "2lolmWBjnFqe",
        "outputId": "a8c69ba9-9ebf-4a3b-ca8d-9ea92ce9ffc7"
      },
      "execution_count": null,
      "outputs": [
        {
          "output_type": "execute_result",
          "data": {
            "text/plain": [
              "-1"
            ]
          },
          "metadata": {},
          "execution_count": 47
        }
      ]
    },
    {
      "cell_type": "code",
      "source": [
        "x.get('a')"
      ],
      "metadata": {
        "colab": {
          "base_uri": "https://localhost:8080/"
        },
        "id": "mBhT04eJnI0G",
        "outputId": "1007e218-1a29-41f6-e1bc-dc0fdc0ca59a"
      },
      "execution_count": null,
      "outputs": [
        {
          "output_type": "execute_result",
          "data": {
            "text/plain": [
              "15"
            ]
          },
          "metadata": {},
          "execution_count": 48
        }
      ]
    },
    {
      "cell_type": "code",
      "source": [
        "x.update(a=20)\n",
        "x"
      ],
      "metadata": {
        "colab": {
          "base_uri": "https://localhost:8080/"
        },
        "id": "8qw9e9ONnKWd",
        "outputId": "572eb758-b12e-4dfb-a21c-8115744309f7"
      },
      "execution_count": null,
      "outputs": [
        {
          "output_type": "execute_result",
          "data": {
            "text/plain": [
              "{'a': 20, 'b': 20, 'c': 30, 'd': 40}"
            ]
          },
          "metadata": {},
          "execution_count": 49
        }
      ]
    },
    {
      "cell_type": "code",
      "source": [
        "x.update(e=200) # 변수형태로 표현될 수 없는 값들 (숫자 -> update로 사용해줄 수 없음)\n",
        "x"
      ],
      "metadata": {
        "colab": {
          "base_uri": "https://localhost:8080/"
        },
        "id": "aGA32lsTnX7F",
        "outputId": "656955b5-0b9a-4684-c076-041f5a42238f"
      },
      "execution_count": null,
      "outputs": [
        {
          "output_type": "execute_result",
          "data": {
            "text/plain": [
              "{'a': 20, 'b': 20, 'c': 30, 'd': 40, 'e': 200}"
            ]
          },
          "metadata": {},
          "execution_count": 50
        }
      ]
    },
    {
      "cell_type": "code",
      "source": [
        "x.update(1=20)\n",
        "x"
      ],
      "metadata": {
        "colab": {
          "base_uri": "https://localhost:8080/",
          "height": 138
        },
        "id": "MYIbLL9Vnp88",
        "outputId": "938bd464-6412-4209-b4ed-a27d366f06d9"
      },
      "execution_count": null,
      "outputs": [
        {
          "output_type": "error",
          "ename": "SyntaxError",
          "evalue": "ignored",
          "traceback": [
            "\u001b[0;36m  File \u001b[0;32m\"<ipython-input-53-873faa759aa9>\"\u001b[0;36m, line \u001b[0;32m1\u001b[0m\n\u001b[0;31m    x.update(1=20)\u001b[0m\n\u001b[0m             ^\u001b[0m\n\u001b[0;31mSyntaxError\u001b[0m\u001b[0;31m:\u001b[0m expression cannot contain assignment, perhaps you meant \"==\"?\n"
          ]
        }
      ]
    },
    {
      "cell_type": "code",
      "source": [
        "x.update({\n",
        "    'a': 10,\n",
        "    'b': 40,\n",
        "    1: 200,\n",
        "})\n",
        "x"
      ],
      "metadata": {
        "colab": {
          "base_uri": "https://localhost:8080/"
        },
        "id": "CGTNZ2qina8p",
        "outputId": "9f57369c-5a2d-4811-9992-3475a4e2dfd1"
      },
      "execution_count": null,
      "outputs": [
        {
          "output_type": "execute_result",
          "data": {
            "text/plain": [
              "{'a': 10, 'b': 40, 'c': 30, 'd': 40, 'e': 200, 1: 200}"
            ]
          },
          "metadata": {},
          "execution_count": 52
        }
      ]
    },
    {
      "cell_type": "code",
      "source": [
        "x.pop('a'), x"
      ],
      "metadata": {
        "colab": {
          "base_uri": "https://localhost:8080/"
        },
        "id": "mT-fNZqxnff9",
        "outputId": "f960a4e9-194f-4148-9207-3e72161ea8eb"
      },
      "execution_count": null,
      "outputs": [
        {
          "output_type": "execute_result",
          "data": {
            "text/plain": [
              "(10, {'b': 40, 'c': 30, 'd': 40, 'e': 200, 1: 200})"
            ]
          },
          "metadata": {},
          "execution_count": 54
        }
      ]
    },
    {
      "cell_type": "code",
      "source": [
        "x.pop() # 딕셔너리는 내부에 순서 X"
      ],
      "metadata": {
        "colab": {
          "base_uri": "https://localhost:8080/",
          "height": 176
        },
        "id": "l1s-fBvkn2iV",
        "outputId": "61f7c9dd-777f-4aa4-fce4-d2329b385a18"
      },
      "execution_count": null,
      "outputs": [
        {
          "output_type": "error",
          "ename": "TypeError",
          "evalue": "ignored",
          "traceback": [
            "\u001b[0;31m---------------------------------------------------------------------------\u001b[0m",
            "\u001b[0;31mTypeError\u001b[0m                                 Traceback (most recent call last)",
            "\u001b[0;32m<ipython-input-55-22e0729a7b70>\u001b[0m in \u001b[0;36m<module>\u001b[0;34m\u001b[0m\n\u001b[0;32m----> 1\u001b[0;31m \u001b[0mx\u001b[0m\u001b[0;34m.\u001b[0m\u001b[0mpop\u001b[0m\u001b[0;34m(\u001b[0m\u001b[0;34m)\u001b[0m\u001b[0;34m\u001b[0m\u001b[0;34m\u001b[0m\u001b[0m\n\u001b[0m",
            "\u001b[0;31mTypeError\u001b[0m: pop expected at least 1 argument, got 0"
          ]
        }
      ]
    },
    {
      "cell_type": "code",
      "source": [
        "x.pop('f')"
      ],
      "metadata": {
        "colab": {
          "base_uri": "https://localhost:8080/",
          "height": 176
        },
        "id": "MlUODqcioAi0",
        "outputId": "bb8c374e-5197-40ad-c375-3d7b0723c965"
      },
      "execution_count": null,
      "outputs": [
        {
          "output_type": "error",
          "ename": "KeyError",
          "evalue": "ignored",
          "traceback": [
            "\u001b[0;31m---------------------------------------------------------------------------\u001b[0m",
            "\u001b[0;31mKeyError\u001b[0m                                  Traceback (most recent call last)",
            "\u001b[0;32m<ipython-input-56-9f7f4de3e911>\u001b[0m in \u001b[0;36m<module>\u001b[0;34m\u001b[0m\n\u001b[0;32m----> 1\u001b[0;31m \u001b[0mx\u001b[0m\u001b[0;34m.\u001b[0m\u001b[0mpop\u001b[0m\u001b[0;34m(\u001b[0m\u001b[0;34m'f'\u001b[0m\u001b[0;34m)\u001b[0m\u001b[0;34m\u001b[0m\u001b[0;34m\u001b[0m\u001b[0m\n\u001b[0m",
            "\u001b[0;31mKeyError\u001b[0m: 'f'"
          ]
        }
      ]
    },
    {
      "cell_type": "code",
      "source": [
        "x.pop('f', 0)"
      ],
      "metadata": {
        "colab": {
          "base_uri": "https://localhost:8080/"
        },
        "id": "_uHq8Z-moDS4",
        "outputId": "12db4520-afff-4f41-b57f-538dfa76f0b3"
      },
      "execution_count": null,
      "outputs": [
        {
          "output_type": "execute_result",
          "data": {
            "text/plain": [
              "0"
            ]
          },
          "metadata": {},
          "execution_count": 57
        }
      ]
    },
    {
      "cell_type": "code",
      "source": [
        "print(x)\n",
        "x.clear()\n",
        "print(x)"
      ],
      "metadata": {
        "colab": {
          "base_uri": "https://localhost:8080/"
        },
        "id": "J9GcCXq6oF1u",
        "outputId": "0a9690e4-ee18-4884-9220-94cffff8a94b"
      },
      "execution_count": null,
      "outputs": [
        {
          "output_type": "stream",
          "name": "stdout",
          "text": [
            "{'b': 40, 'c': 30, 'd': 40, 'e': 200, 1: 200}\n",
            "{}\n"
          ]
        }
      ]
    },
    {
      "cell_type": "code",
      "source": [
        "x = { \"a\" : 10, \"b\": 20, \"c\": 30, \"d\": 40}\n",
        "x"
      ],
      "metadata": {
        "colab": {
          "base_uri": "https://localhost:8080/"
        },
        "id": "5ofirHZQoIYt",
        "outputId": "9576b641-22de-4ab0-8c39-d9a52cd48625"
      },
      "execution_count": null,
      "outputs": [
        {
          "output_type": "execute_result",
          "data": {
            "text/plain": [
              "{'a': 10, 'b': 20, 'c': 30, 'd': 40}"
            ]
          },
          "metadata": {},
          "execution_count": 59
        }
      ]
    },
    {
      "cell_type": "code",
      "source": [
        "# for i in x:\n",
        "#     print(i) # 키\n",
        "#     print(x[i]) # 값\n",
        "for i in x.keys():\n",
        "    print(i) # 키\n",
        "    print(x[i]) # 값"
      ],
      "metadata": {
        "colab": {
          "base_uri": "https://localhost:8080/"
        },
        "id": "Fb1syYDyoOrG",
        "outputId": "77c0758f-08c3-4de1-da89-438257d6cca5"
      },
      "execution_count": null,
      "outputs": [
        {
          "output_type": "stream",
          "name": "stdout",
          "text": [
            "a\n",
            "10\n",
            "b\n",
            "20\n",
            "c\n",
            "30\n",
            "d\n",
            "40\n"
          ]
        }
      ]
    },
    {
      "cell_type": "code",
      "source": [
        "for i in x.items():\n",
        "    # (키, 값) 쌍으로 전달 받게 됨\n",
        "    print(i)"
      ],
      "metadata": {
        "colab": {
          "base_uri": "https://localhost:8080/"
        },
        "id": "MOqZGROqoT39",
        "outputId": "6eba9f5c-6680-43b0-9328-35a1c76b98cd"
      },
      "execution_count": null,
      "outputs": [
        {
          "output_type": "stream",
          "name": "stdout",
          "text": [
            "('a', 10)\n",
            "('b', 20)\n",
            "('c', 30)\n",
            "('d', 40)\n"
          ]
        }
      ]
    },
    {
      "cell_type": "code",
      "source": [
        "for k, v in x.items():\n",
        "    print(f\"key : {k}\")\n",
        "    print(f\"value : {v}\")"
      ],
      "metadata": {
        "colab": {
          "base_uri": "https://localhost:8080/"
        },
        "id": "0-mXpcWsohEJ",
        "outputId": "f4867e64-8fc8-4398-ae57-905825b77856"
      },
      "execution_count": null,
      "outputs": [
        {
          "output_type": "stream",
          "name": "stdout",
          "text": [
            "key : a\n",
            "value : 10\n",
            "key : b\n",
            "value : 20\n",
            "key : c\n",
            "value : 30\n",
            "key : d\n",
            "value : 40\n"
          ]
        }
      ]
    },
    {
      "cell_type": "code",
      "source": [
        "for v in x.values():\n",
        "    print(f\"value : {v}\")"
      ],
      "metadata": {
        "colab": {
          "base_uri": "https://localhost:8080/"
        },
        "id": "zoAf5KKFouDf",
        "outputId": "34b1341c-4061-4898-e7cd-2265f33d503a"
      },
      "execution_count": null,
      "outputs": [
        {
          "output_type": "stream",
          "name": "stdout",
          "text": [
            "value : 10\n",
            "value : 20\n",
            "value : 30\n",
            "value : 40\n"
          ]
        }
      ]
    },
    {
      "cell_type": "code",
      "source": [
        "lesson = {\n",
        "    \"과목\" : {\n",
        "        \"자바\": {\n",
        "            \"버전\" : 1.8\n",
        "        },\n",
        "        \"파이썬\": {\n",
        "            \"버전\" : 3.9\n",
        "        },\n",
        "        \"자바스크립트\": {\n",
        "            \"버전\" : \"es6\"\n",
        "        }\n",
        "    }\n",
        "}\n",
        "\n",
        "lesson"
      ],
      "metadata": {
        "colab": {
          "base_uri": "https://localhost:8080/"
        },
        "id": "ByfyE9nro6Mn",
        "outputId": "1b0e4d2a-f230-4b5a-bf94-a5de726f623e"
      },
      "execution_count": null,
      "outputs": [
        {
          "output_type": "execute_result",
          "data": {
            "text/plain": [
              "{'과목': {'자바': {'버전': 1.8}, '파이썬': {'버전': 3.9}, '자바스크립트': {'버전': 'es6'}}}"
            ]
          },
          "metadata": {},
          "execution_count": 67
        }
      ]
    },
    {
      "cell_type": "code",
      "source": [
        "lesson['과목']['파이썬']['버전']"
      ],
      "metadata": {
        "colab": {
          "base_uri": "https://localhost:8080/"
        },
        "id": "4YcY4kYVpSZ1",
        "outputId": "903acbc5-6606-46ad-b14f-8bd80e2476f4"
      },
      "execution_count": null,
      "outputs": [
        {
          "output_type": "execute_result",
          "data": {
            "text/plain": [
              "3.9"
            ]
          },
          "metadata": {},
          "execution_count": 68
        }
      ]
    },
    {
      "cell_type": "code",
      "source": [
        "lesson['과목']['파이썬']['버전'] = '3.10'"
      ],
      "metadata": {
        "id": "YFAbI1g_pXPP"
      },
      "execution_count": null,
      "outputs": []
    },
    {
      "cell_type": "code",
      "source": [
        "lesson['과목']['파이썬']['버전']"
      ],
      "metadata": {
        "colab": {
          "base_uri": "https://localhost:8080/",
          "height": 36
        },
        "id": "QUyogWL2pZrI",
        "outputId": "ff2a4958-0ca4-4386-f648-0b445841c196"
      },
      "execution_count": null,
      "outputs": [
        {
          "output_type": "execute_result",
          "data": {
            "text/plain": [
              "'3.10'"
            ],
            "application/vnd.google.colaboratory.intrinsic+json": {
              "type": "string"
            }
          },
          "metadata": {},
          "execution_count": 70
        }
      ]
    }
  ]
}