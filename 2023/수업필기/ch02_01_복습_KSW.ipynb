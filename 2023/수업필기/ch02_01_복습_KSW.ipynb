{
  "nbformat": 4,
  "nbformat_minor": 0,
  "metadata": {
    "colab": {
      "provenance": [],
      "include_colab_link": true
    },
    "kernelspec": {
      "name": "python3",
      "display_name": "Python 3"
    },
    "language_info": {
      "name": "python"
    }
  },
  "cells": [
    {
      "cell_type": "markdown",
      "metadata": {
        "id": "view-in-github",
        "colab_type": "text"
      },
      "source": [
        "<a href=\"https://colab.research.google.com/github/JoySoon/Python_BigData23th/blob/main/submission/JoySoon/ch02_01_%EB%B3%B5%EC%8A%B5_KSW.ipynb\" target=\"_parent\"><img src=\"https://colab.research.google.com/assets/colab-badge.svg\" alt=\"Open In Colab\"/></a>"
      ]
    },
    {
      "cell_type": "code",
      "execution_count": 1,
      "metadata": {
        "id": "sPoXWs9atiKJ",
        "colab": {
          "base_uri": "https://localhost:8080/"
        },
        "outputId": "bba9a41a-46da-4d71-88d3-c231e7b76817"
      },
      "outputs": [
        {
          "output_type": "execute_result",
          "data": {
            "text/plain": [
              "(True, False)"
            ]
          },
          "metadata": {},
          "execution_count": 1
        }
      ],
      "source": [
        "# 불\n",
        "True, False # 참, 거짓. true, false"
      ]
    },
    {
      "cell_type": "code",
      "source": [
        "int(True), int(False)"
      ],
      "metadata": {
        "colab": {
          "base_uri": "https://localhost:8080/"
        },
        "id": "9cl2B-dOvKeE",
        "outputId": "5d442452-5334-4ede-c6db-4a5a956f7868"
      },
      "execution_count": 2,
      "outputs": [
        {
          "output_type": "execute_result",
          "data": {
            "text/plain": [
              "(1, 0)"
            ]
          },
          "metadata": {},
          "execution_count": 2
        }
      ]
    },
    {
      "cell_type": "code",
      "source": [
        "3 > 1"
      ],
      "metadata": {
        "colab": {
          "base_uri": "https://localhost:8080/"
        },
        "id": "4iiVicnvvRfN",
        "outputId": "dae2d2a0-7d21-4ddc-c6ec-7195db546a3e"
      },
      "execution_count": 4,
      "outputs": [
        {
          "output_type": "execute_result",
          "data": {
            "text/plain": [
              "True"
            ]
          },
          "metadata": {},
          "execution_count": 4
        }
      ]
    },
    {
      "cell_type": "code",
      "source": [
        "a = 10\n",
        "b = 20\n",
        "a > b"
      ],
      "metadata": {
        "colab": {
          "base_uri": "https://localhost:8080/"
        },
        "id": "82Kr6S-lvTjk",
        "outputId": "feb9b625-4f1b-44dc-abaa-bb33dfb1573b"
      },
      "execution_count": 5,
      "outputs": [
        {
          "output_type": "execute_result",
          "data": {
            "text/plain": [
              "False"
            ]
          },
          "metadata": {},
          "execution_count": 5
        }
      ]
    },
    {
      "cell_type": "code",
      "source": [
        "# == (동등연산자, 일치) / = (할당연산자, 대입연산자)  / === (java, type도 같은가?)\n",
        "# >, <, <=, >=\n",
        "\"python\" == 'Python', \"python\" != 'Python'"
      ],
      "metadata": {
        "colab": {
          "base_uri": "https://localhost:8080/"
        },
        "id": "6PiAJGApvYMQ",
        "outputId": "2f62b866-3dbe-4102-dc42-8070de8eca0d"
      },
      "execution_count": 6,
      "outputs": [
        {
          "output_type": "execute_result",
          "data": {
            "text/plain": [
              "(False, True)"
            ]
          },
          "metadata": {},
          "execution_count": 6
        }
      ]
    },
    {
      "cell_type": "code",
      "source": [
        "# 논리연산자 (1개 이상의 불을 처리하는 연산자)\n",
        "# and\n",
        "a = 15; b = 13 # 두 줄을 합쳐주는 방법\n",
        "c, d = 10, 20 # 언팩킹 사용하는 방법\n",
        "(a > 20) and (b > 10), (a > 20) & (b > 10)"
      ],
      "metadata": {
        "colab": {
          "base_uri": "https://localhost:8080/"
        },
        "id": "zUQEfcCPwGaB",
        "outputId": "7d458731-21c0-459e-b05d-d59b92b0b07d"
      },
      "execution_count": 8,
      "outputs": [
        {
          "output_type": "execute_result",
          "data": {
            "text/plain": [
              "(False, False)"
            ]
          },
          "metadata": {},
          "execution_count": 8
        }
      ]
    },
    {
      "cell_type": "code",
      "source": [
        "# or (또는)\n",
        "c != 10 or d < 100, c != 10 | d < 100 # 비교연산자의 우선순위가 논리 연산자보다 높다. |를 자주 쓰게 된다. \n",
        "# 웬만하면은 괄호로 우선순위를 명확하게하자"
      ],
      "metadata": {
        "colab": {
          "base_uri": "https://localhost:8080/"
        },
        "id": "zFDRARWOwriW",
        "outputId": "b754e13f-33bd-4d4c-91ee-134f4d3217a5"
      },
      "execution_count": 10,
      "outputs": [
        {
          "output_type": "execute_result",
          "data": {
            "text/plain": [
              "(True, True)"
            ]
          },
          "metadata": {},
          "execution_count": 10
        }
      ]
    },
    {
      "cell_type": "code",
      "source": [
        "not True, not False"
      ],
      "metadata": {
        "colab": {
          "base_uri": "https://localhost:8080/"
        },
        "id": "4xknOPrfw9zT",
        "outputId": "74a3a655-76d2-45fd-b890-415d7266b171"
      },
      "execution_count": 11,
      "outputs": [
        {
          "output_type": "execute_result",
          "data": {
            "text/plain": [
              "(False, True)"
            ]
          },
          "metadata": {},
          "execution_count": 11
        }
      ]
    },
    {
      "cell_type": "code",
      "source": [
        "bool(1), bool(0), bool(\"a\"), bool(\"\")"
      ],
      "metadata": {
        "colab": {
          "base_uri": "https://localhost:8080/"
        },
        "id": "5sstR6wIx-AE",
        "outputId": "da1d87df-0dfd-4f13-96b0-3364278edb82"
      },
      "execution_count": 12,
      "outputs": [
        {
          "output_type": "execute_result",
          "data": {
            "text/plain": [
              "(True, False, True, False)"
            ]
          },
          "metadata": {},
          "execution_count": 12
        }
      ]
    },
    {
      "cell_type": "code",
      "source": [
        "hell = \"hell\"\n",
        "hell"
      ],
      "metadata": {
        "colab": {
          "base_uri": "https://localhost:8080/",
          "height": 35
        },
        "id": "DNLBCAWMyKjH",
        "outputId": "c7909449-013f-4794-9d43-61c4ff89b289"
      },
      "execution_count": 13,
      "outputs": [
        {
          "output_type": "execute_result",
          "data": {
            "text/plain": [
              "'hell'"
            ],
            "application/vnd.google.colaboratory.intrinsic+json": {
              "type": "string"
            }
          },
          "metadata": {},
          "execution_count": 13
        }
      ]
    },
    {
      "cell_type": "code",
      "source": [
        "hell2 = \"hell\"\n",
        "hell3 = '''hello'''\n",
        "hell4 = \"\"\"hello\"\"\"\n",
        "hell2, hell3, hell4"
      ],
      "metadata": {
        "colab": {
          "base_uri": "https://localhost:8080/"
        },
        "id": "4Putu21XyUwk",
        "outputId": "4f4060a1-c3f2-4f1f-e316-8338732e5ece"
      },
      "execution_count": 14,
      "outputs": [
        {
          "output_type": "execute_result",
          "data": {
            "text/plain": [
              "('hell', 'hello', 'hello')"
            ]
          },
          "metadata": {},
          "execution_count": 14
        }
      ]
    },
    {
      "cell_type": "code",
      "source": [
        "# 여러줄 문자열\n",
        "s1 = \"\"\"hello\n",
        "ovne\n",
        "us\"\"\"\n",
        "print(s1)"
      ],
      "metadata": {
        "colab": {
          "base_uri": "https://localhost:8080/"
        },
        "id": "9BxDAj8GygjT",
        "outputId": "88c850ce-cb81-44f6-895a-6797b1ddcb3b"
      },
      "execution_count": 17,
      "outputs": [
        {
          "output_type": "stream",
          "name": "stdout",
          "text": [
            "hello\n",
            "ovne\n",
            "us\n"
          ]
        }
      ]
    },
    {
      "cell_type": "code",
      "source": [
        "s2 = \"\"\"cat\n",
        "holic\"\"\"\n",
        "print(s2)"
      ],
      "metadata": {
        "colab": {
          "base_uri": "https://localhost:8080/"
        },
        "id": "mOjIHW_kyqpf",
        "outputId": "f2a8d27c-cb57-483e-8165-9577f666e7ab"
      },
      "execution_count": 16,
      "outputs": [
        {
          "output_type": "stream",
          "name": "stdout",
          "text": [
            "cat\n",
            "holic\n"
          ]
        }
      ]
    },
    {
      "cell_type": "code",
      "source": [
        "# ',' 를 문자열 안에 표기하기\n",
        "print(\"\\\"를 사용해서 큰따옴표\\n 안에 큰따옴표를 표현\\nㅎㅎ\")\n",
        "print('\\'를 사용해서 작은따옴표 안에 작은따옴표를 표현')\n",
        "print('''',\"를 여러줄 문자열 안에 따옴표를 표현''')\n",
        "print(\"\"\"',\"를 여러줄 문자열 안에 따옴표를 표현\"\"\")"
      ],
      "metadata": {
        "colab": {
          "base_uri": "https://localhost:8080/"
        },
        "id": "vKJEHuFsy3aS",
        "outputId": "d645a04e-0f09-44b3-883c-72fab8da052f"
      },
      "execution_count": 24,
      "outputs": [
        {
          "output_type": "stream",
          "name": "stdout",
          "text": [
            "\"를 사용해서 큰따옴표\n",
            " 안에 큰따옴표를 표현\n",
            "ㅎㅎ\n",
            "'를 사용해서 작은따옴표 안에 작은따옴표를 표현\n",
            "',\"를 여러줄 문자열 안에 따옴표를 표현\n",
            "',\"를 여러줄 문자열 안에 따옴표를 표현\n"
          ]
        }
      ]
    },
    {
      "cell_type": "code",
      "source": [
        "a = [] # 리스트 -> 0개 이상의 요소를 묶은 자료형 \n",
        "b = [10, \"단어\", 1.0, True, 10 > 5 ]\n",
        "a, b"
      ],
      "metadata": {
        "colab": {
          "base_uri": "https://localhost:8080/"
        },
        "id": "zFJB2wMj3GJ6",
        "outputId": "31fa7866-03c1-4517-bec9-1ba18b7f04fd"
      },
      "execution_count": 25,
      "outputs": [
        {
          "output_type": "execute_result",
          "data": {
            "text/plain": [
              "([], [10, '단어', 1.0, True, True])"
            ]
          },
          "metadata": {},
          "execution_count": 25
        }
      ]
    },
    {
      "cell_type": "code",
      "source": [
        "c = list() # 리스트랑 비슷한 시퀸스 자료형  - > 리스트로 변환\n",
        "c"
      ],
      "metadata": {
        "colab": {
          "base_uri": "https://localhost:8080/"
        },
        "id": "FjwWEpdezXTZ",
        "outputId": "3995e84e-dc79-4c44-fc1d-6c7495ab7853"
      },
      "execution_count": 26,
      "outputs": [
        {
          "output_type": "execute_result",
          "data": {
            "text/plain": [
              "[]"
            ]
          },
          "metadata": {},
          "execution_count": 26
        }
      ]
    },
    {
      "cell_type": "code",
      "source": [
        "# 시작점을 지정해주지 않으면 0부터 시작함\n",
        "# 0, 5 / 1, 5 (시작점, 끝점) / 1, 3, 5, 7, 9 (시작점, 끝점, 증가폭)\n",
        "range(5), range(1, 5), range(1, 10, 2)"
      ],
      "metadata": {
        "colab": {
          "base_uri": "https://localhost:8080/"
        },
        "id": "liwRK_1K4ApY",
        "outputId": "c750ba2f-d6b3-40df-871a-bc7bb959fa50"
      },
      "execution_count": 27,
      "outputs": [
        {
          "output_type": "execute_result",
          "data": {
            "text/plain": [
              "(range(0, 5), range(1, 5), range(1, 10, 2))"
            ]
          },
          "metadata": {},
          "execution_count": 27
        }
      ]
    },
    {
      "cell_type": "code",
      "source": [
        "list(range(5)), list(range(1, 5)), list(range(1, 10, 2))"
      ],
      "metadata": {
        "colab": {
          "base_uri": "https://localhost:8080/"
        },
        "id": "8nYSbkle4yxy",
        "outputId": "a3c048a8-5d8a-48ab-8dc2-47edd8dd1846"
      },
      "execution_count": 29,
      "outputs": [
        {
          "output_type": "execute_result",
          "data": {
            "text/plain": [
              "([0, 1, 2, 3, 4], [1, 2, 3, 4], [1, 3, 5, 7, 9])"
            ]
          },
          "metadata": {},
          "execution_count": 29
        }
      ]
    },
    {
      "cell_type": "code",
      "source": [
        "list(map(list,(range(5), range(1, 5), range(1, 10, 2))))"
      ],
      "metadata": {
        "colab": {
          "base_uri": "https://localhost:8080/"
        },
        "id": "w_k3Ts4Z5DUv",
        "outputId": "ec6f0c7e-c831-48a4-ff60-d887eecef0d4"
      },
      "execution_count": 31,
      "outputs": [
        {
          "output_type": "execute_result",
          "data": {
            "text/plain": [
              "[[0, 1, 2, 3, 4], [1, 2, 3, 4], [1, 3, 5, 7, 9]]"
            ]
          },
          "metadata": {},
          "execution_count": 31
        }
      ]
    },
    {
      "cell_type": "code",
      "source": [
        "list(range(10, 1, -2))"
      ],
      "metadata": {
        "colab": {
          "base_uri": "https://localhost:8080/"
        },
        "id": "Cb1ofaSH5Jdr",
        "outputId": "c31521c0-b3c6-4102-cf70-e027042b2067"
      },
      "execution_count": 32,
      "outputs": [
        {
          "output_type": "execute_result",
          "data": {
            "text/plain": [
              "[10, 8, 6, 4, 2]"
            ]
          },
          "metadata": {},
          "execution_count": 32
        }
      ]
    },
    {
      "cell_type": "code",
      "source": [
        "t = (10, 11, 12, 13, 14)\n",
        "t"
      ],
      "metadata": {
        "colab": {
          "base_uri": "https://localhost:8080/"
        },
        "id": "3vdljyce5Uo5",
        "outputId": "c932af1d-958f-4ab8-c220-be0c1af5b3ce"
      },
      "execution_count": 33,
      "outputs": [
        {
          "output_type": "execute_result",
          "data": {
            "text/plain": [
              "(10, 11, 12, 13, 14)"
            ]
          },
          "metadata": {},
          "execution_count": 33
        }
      ]
    },
    {
      "cell_type": "code",
      "source": [
        "list(t)"
      ],
      "metadata": {
        "colab": {
          "base_uri": "https://localhost:8080/"
        },
        "id": "2nKNaXZ47XrH",
        "outputId": "3c336e32-8dd1-4c88-8483-a529899b4cc4"
      },
      "execution_count": 34,
      "outputs": [
        {
          "output_type": "execute_result",
          "data": {
            "text/plain": [
              "[10, 11, 12, 13, 14]"
            ]
          },
          "metadata": {},
          "execution_count": 34
        }
      ]
    },
    {
      "cell_type": "code",
      "source": [
        "t2 = 10, 12, 14, 16, 18\n",
        "t2"
      ],
      "metadata": {
        "colab": {
          "base_uri": "https://localhost:8080/"
        },
        "id": "eFVOvy597bIa",
        "outputId": "eedf242e-3f8b-42fa-fd1d-5b4d4d816196"
      },
      "execution_count": 35,
      "outputs": [
        {
          "output_type": "execute_result",
          "data": {
            "text/plain": [
              "(10, 12, 14, 16, 18)"
            ]
          },
          "metadata": {},
          "execution_count": 35
        }
      ]
    },
    {
      "cell_type": "code",
      "source": [
        "t3 = (10, True, \"hello\", 1.2)\n",
        "t3"
      ],
      "metadata": {
        "colab": {
          "base_uri": "https://localhost:8080/"
        },
        "id": "hny2kJ2d7f3m",
        "outputId": "460043bd-1285-4598-aed6-f8563462672c"
      },
      "execution_count": 36,
      "outputs": [
        {
          "output_type": "execute_result",
          "data": {
            "text/plain": [
              "(10, True, 'hello', 1.2)"
            ]
          },
          "metadata": {},
          "execution_count": 36
        }
      ]
    },
    {
      "cell_type": "code",
      "source": [
        "a = [1, 2, 3, 4]\n",
        "tuple(a)"
      ],
      "metadata": {
        "colab": {
          "base_uri": "https://localhost:8080/"
        },
        "id": "sx1frdXQ7m4J",
        "outputId": "23a2a9ba-b5e0-4ab4-9922-adaa196243f8"
      },
      "execution_count": 37,
      "outputs": [
        {
          "output_type": "execute_result",
          "data": {
            "text/plain": [
              "(1, 2, 3, 4)"
            ]
          },
          "metadata": {},
          "execution_count": 37
        }
      ]
    },
    {
      "cell_type": "code",
      "source": [
        "a, b, c = [1, 2, 3]\n",
        "a, b, c"
      ],
      "metadata": {
        "colab": {
          "base_uri": "https://localhost:8080/"
        },
        "id": "gTdoSAwA7-m2",
        "outputId": "e34b04b2-a0bb-4dc7-99cd-88b0d188c02e"
      },
      "execution_count": 38,
      "outputs": [
        {
          "output_type": "execute_result",
          "data": {
            "text/plain": [
              "(1, 2, 3)"
            ]
          },
          "metadata": {},
          "execution_count": 38
        }
      ]
    },
    {
      "cell_type": "code",
      "source": [
        "d, e, f = (4, 5, 6)\n",
        "d, e, f"
      ],
      "metadata": {
        "colab": {
          "base_uri": "https://localhost:8080/"
        },
        "id": "jPNqin2b8HWX",
        "outputId": "ec0a32fc-62d5-4bf2-894b-112af05aee25"
      },
      "execution_count": 39,
      "outputs": [
        {
          "output_type": "execute_result",
          "data": {
            "text/plain": [
              "(4, 5, 6)"
            ]
          },
          "metadata": {},
          "execution_count": 39
        }
      ]
    },
    {
      "cell_type": "code",
      "source": [
        "g = [7, 8 ,9]\n",
        "h = (10, 11, 12)\n",
        "g, h"
      ],
      "metadata": {
        "colab": {
          "base_uri": "https://localhost:8080/"
        },
        "id": "yN_fDocD8MG3",
        "outputId": "e8f861ee-9d45-4247-f836-2815f5280e55"
      },
      "execution_count": 40,
      "outputs": [
        {
          "output_type": "execute_result",
          "data": {
            "text/plain": [
              "([7, 8, 9], (10, 11, 12))"
            ]
          },
          "metadata": {},
          "execution_count": 40
        }
      ]
    },
    {
      "cell_type": "code",
      "source": [],
      "metadata": {
        "id": "BLhrPs4r8SGr"
      },
      "execution_count": null,
      "outputs": []
    }
  ]
}