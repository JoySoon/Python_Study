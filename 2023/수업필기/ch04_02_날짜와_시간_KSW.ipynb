{
  "nbformat": 4,
  "nbformat_minor": 0,
  "metadata": {
    "colab": {
      "provenance": [],
      "include_colab_link": true
    },
    "kernelspec": {
      "name": "python3",
      "display_name": "Python 3"
    },
    "language_info": {
      "name": "python"
    }
  },
  "cells": [
    {
      "cell_type": "markdown",
      "metadata": {
        "id": "view-in-github",
        "colab_type": "text"
      },
      "source": [
        "<a href=\"https://colab.research.google.com/github/JoySoon/Python_BigData23th/blob/backup/submission/JoySoon/ch04_02_%EB%82%A0%EC%A7%9C%EC%99%80_%EC%8B%9C%EA%B0%84_KSW.ipynb\" target=\"_parent\"><img src=\"https://colab.research.google.com/assets/colab-badge.svg\" alt=\"Open In Colab\"/></a>"
      ]
    },
    {
      "cell_type": "markdown",
      "source": [
        "# 날짜/시간"
      ],
      "metadata": {
        "id": "lBBnXFmbZXEW"
      }
    },
    {
      "cell_type": "markdown",
      "source": [
        "파이썬으로 프로그래밍을 하다보면 날짜와 시간 처리를 해야 하는 경우가 자주 생깁니다. 여기서는 날짜와 시간을 표현하는 time과 datetime 모듈을 소개하겠습니다.\n",
        "\n"
      ],
      "metadata": {
        "id": "Ui8b9t97Za9b"
      }
    },
    {
      "cell_type": "markdown",
      "source": [
        "## time 모듈로 현재 시간 구하기"
      ],
      "metadata": {
        "id": "SQjfLwHJZcaY"
      }
    },
    {
      "cell_type": "markdown",
      "source": [
        "먼저 시간을 표현하는 time 모듈입니다. 다음과 같이 time 모듈의 time 함수를 호출하면 1970년 1월 1일 0시 0분 0초 이후 경과한 시간을 초단위로 반환합니다. 시간대는 UTC(Universal Time Coordinated, 협정 세계시)를 사용합니다.\n",
        "\n"
      ],
      "metadata": {
        "id": "1ybHwoSLZeO2"
      }
    },
    {
      "cell_type": "code",
      "execution_count": 1,
      "metadata": {
        "colab": {
          "base_uri": "https://localhost:8080/"
        },
        "id": "k04USPUEZUWz",
        "outputId": "1b10e3ee-f56a-4139-fced-443345752e48"
      },
      "outputs": [
        {
          "output_type": "execute_result",
          "data": {
            "text/plain": [
              "1678176574.044664"
            ]
          },
          "metadata": {},
          "execution_count": 1
        }
      ],
      "source": [
        "import time\n",
        "\n",
        "time.time()"
      ]
    },
    {
      "cell_type": "markdown",
      "source": [
        "## 날짜와 시간 형태로 변환하기"
      ],
      "metadata": {
        "id": "pOwgiAn2Zh7S"
      }
    },
    {
      "cell_type": "markdown",
      "source": [
        "time 모듈의 localtime 함수를 사용하면 time에서 반환한 값을 날짜와 시간 형태로 변환해줍니다. 특히 localtime이라는 이름 그대로 현재 지역의 시간대를 사용합니다. 우리나라에서 실행했다면 UTC에 9시간을 더한 KST(Korea Standard Time, 한국 표준시)를 사용합니다(UTC+09:00).\n",
        "\n",
        "* time.localtime(초)"
      ],
      "metadata": {
        "id": "8HPJxZo6Zkh8"
      }
    },
    {
      "cell_type": "code",
      "source": [
        "time.localtime(time.time())"
      ],
      "metadata": {
        "colab": {
          "base_uri": "https://localhost:8080/"
        },
        "id": "Q70fGpcFZj8Y",
        "outputId": "7a2c5820-539c-49e0-b6b7-9b4664ecd063"
      },
      "execution_count": 2,
      "outputs": [
        {
          "output_type": "execute_result",
          "data": {
            "text/plain": [
              "time.struct_time(tm_year=2023, tm_mon=3, tm_mday=7, tm_hour=8, tm_min=10, tm_sec=5, tm_wday=1, tm_yday=66, tm_isdst=0)"
            ]
          },
          "metadata": {},
          "execution_count": 2
        }
      ]
    },
    {
      "cell_type": "markdown",
      "source": [
        "`여기서 tm_wday는 요일(월요일~일요일, 0~6), tm_yday는 1월 1일부터 경과한 일수, tm_isdst는 서머타임 여부입니다.`\n",
        "\n"
      ],
      "metadata": {
        "id": "A0Zu0IZXZz0Y"
      }
    },
    {
      "cell_type": "markdown",
      "source": [
        "## 날짜/시간 포맷에 맞춰서 출력하기"
      ],
      "metadata": {
        "id": "Ws5c3Pn8ZtXq"
      }
    },
    {
      "cell_type": "markdown",
      "source": [
        "time.localtime으로 만든 객체는 time.strftime 함수를 사용하여 원하는 날짜/시간 포맷으로 출력할 수 있습니다.\n",
        "\n"
      ],
      "metadata": {
        "id": "oWgXauOlZ3Rc"
      }
    },
    {
      "cell_type": "markdown",
      "source": [
        "* time.strftime('포맷', 시간객체)\n"
      ],
      "metadata": {
        "id": "c2VYHIbKZ4iy"
      }
    },
    {
      "cell_type": "code",
      "source": [
        "time.strftime('%Y-%m-%d', time.localtime(time.time())) # 가장 많이 쓰임"
      ],
      "metadata": {
        "colab": {
          "base_uri": "https://localhost:8080/",
          "height": 35
        },
        "id": "BO8TNKfzZ3rE",
        "outputId": "9db46dc5-9780-4d6a-e4b1-e31bc948739f"
      },
      "execution_count": 3,
      "outputs": [
        {
          "output_type": "execute_result",
          "data": {
            "text/plain": [
              "'2023-03-07'"
            ],
            "application/vnd.google.colaboratory.intrinsic+json": {
              "type": "string"
            }
          },
          "metadata": {},
          "execution_count": 3
        }
      ]
    },
    {
      "cell_type": "code",
      "source": [
        "time.strftime('%c', time.localtime(time.time()))"
      ],
      "metadata": {
        "colab": {
          "base_uri": "https://localhost:8080/",
          "height": 35
        },
        "id": "BHCWlFdcZ8BJ",
        "outputId": "901d93bb-fb26-41a9-e4a4-5d6f59c0af92"
      },
      "execution_count": 5,
      "outputs": [
        {
          "output_type": "execute_result",
          "data": {
            "text/plain": [
              "'Tue Mar  7 08:13:15 2023'"
            ],
            "application/vnd.google.colaboratory.intrinsic+json": {
              "type": "string"
            }
          },
          "metadata": {},
          "execution_count": 5
        }
      ]
    },
    {
      "cell_type": "markdown",
      "source": [
        "### 날짜/시간 포맷 코드\n"
      ],
      "metadata": {
        "id": "hS9VRGCoaQHp"
      }
    },
    {
      "cell_type": "markdown",
      "source": [
        "|코드|설명|예|\n",
        "|-|-|-|\n",
        "|%a|요일 줄임말|Sun, Mon, ... Sat|\n",
        "|%A|요일|Sunday, Monday, ..., Saturday|\n",
        "|%w|요일을 숫자로 표시, 월요일 ~ 일요일, 0~6|0, 1, ..., 6|\n",
        "|%d|일|01, 02, ..., 31|\n",
        "|%b|월 줄임말|Jan, Feb, ..., Dec|\n",
        "|%B|월|January, February, …, December|\n",
        "|%m|숫자 월|01, 02, ..., 12|\n",
        "|%y|두 자릿수 연도|01, 02, ..., 99|\n",
        "|%Y|네 자릿수 연도|0001, 0002, ..., 2017, 2018, 9999|\n",
        "|%H|시간(24시간)|00, 01, ..., 23|\n",
        "|%I|시간(12시간)|01, 02, ..., 12|\n",
        "|%p|AM, PM|AM, PM|\n",
        "|%M|분|00, 01, ..., 59|\n",
        "|%S|초|00, 01, ..., 59|\n",
        "|%Z|시간대|대한민국 표준시|\n",
        "|%j|1월 1일부터 경과한 일수|001, 002, ..., 366|\n",
        "|%U|1년중 주차, 월요일이 한 주의 시작으로|00, 01, ..., 53|\n",
        "|%W|1년중 주차, 월요일이 한 주의 시작으로|00, 01, ..., 53|\n",
        "|%c|날짜, 요일, 시간을 출력, 현재 시간대 기준|Sat May 19 11:14:27 2018|\n",
        "|%x|날짜를 출력, 현재 시간대 기준|05/19/18|\n",
        "|%X|시간을 출력, 현재 시간대 기준|'11:44:22'|"
      ],
      "metadata": {
        "id": "ceUquRB-bBh0"
      }
    },
    {
      "cell_type": "code",
      "source": [
        "from time import sleep\n",
        "\n",
        "sleep(10)\n",
        "print(\"10초대기\")"
      ],
      "metadata": {
        "colab": {
          "base_uri": "https://localhost:8080/"
        },
        "id": "L7eFHlMwIk81",
        "outputId": "87c72eb4-497c-4438-cc41-8b431ed9b3be"
      },
      "execution_count": 6,
      "outputs": [
        {
          "output_type": "stream",
          "name": "stdout",
          "text": [
            "10초대기\n"
          ]
        }
      ]
    },
    {
      "cell_type": "markdown",
      "source": [
        "### datetime 모듈로 현재 날짜와 시간 구하기"
      ],
      "metadata": {
        "id": "wlpMFuSvbDrT"
      }
    },
    {
      "cell_type": "markdown",
      "source": [
        "datetime.datetime으로 현재 날짜와 시간을 구할 때는 today 메서드를 사용합니다(현재 시간대 기준, KST).\n",
        "\n",
        "* datetime.datetime.today()"
      ],
      "metadata": {
        "id": "cERMMsGLbFyy"
      }
    },
    {
      "cell_type": "code",
      "source": [
        "from datetime import datetime\n",
        "\n",
        "datetime.today() #  현재 컴퓨터 시간기준"
      ],
      "metadata": {
        "colab": {
          "base_uri": "https://localhost:8080/"
        },
        "id": "WlwVQ9vhZ8s_",
        "outputId": "dcc78ab2-5c76-4a01-a6dd-915cc6ff536f"
      },
      "execution_count": 9,
      "outputs": [
        {
          "output_type": "execute_result",
          "data": {
            "text/plain": [
              "datetime.datetime(2023, 3, 7, 8, 15, 47, 262494)"
            ]
          },
          "metadata": {},
          "execution_count": 9
        }
      ]
    },
    {
      "cell_type": "markdown",
      "source": [
        "만약 datetime 모듈로 현재 시간을 구할 때 UTC를 기준으로 구하고 싶다면 now 메서드에 pytz 모듈로 시간대를 지정해주어야 합니다.\n",
        "\n",
        "* datetime.datetime.now(시간대객체)"
      ],
      "metadata": {
        "id": "31tumMbHbLMF"
      }
    },
    {
      "cell_type": "code",
      "source": [
        "# pip install pytz\n",
        "import pytz # py.tz\n",
        "# UTC 기준\n",
        "datetime.now(pytz.timezone(\"UTC\"))"
      ],
      "metadata": {
        "colab": {
          "base_uri": "https://localhost:8080/"
        },
        "id": "ryVfnysRbJ5x",
        "outputId": "8b161ddb-3a44-4e39-eba9-06123528911d"
      },
      "execution_count": 10,
      "outputs": [
        {
          "output_type": "execute_result",
          "data": {
            "text/plain": [
              "datetime.datetime(2023, 3, 7, 8, 16, 54, 648257, tzinfo=<UTC>)"
            ]
          },
          "metadata": {},
          "execution_count": 10
        }
      ]
    },
    {
      "cell_type": "code",
      "source": [
        "datetime.now(pytz.timezone(\"Asia/Seoul\"))"
      ],
      "metadata": {
        "colab": {
          "base_uri": "https://localhost:8080/"
        },
        "id": "aF3rfjzUbQnl",
        "outputId": "8edca24e-a1fa-44e9-9a57-d3b8834f7254"
      },
      "execution_count": 11,
      "outputs": [
        {
          "output_type": "execute_result",
          "data": {
            "text/plain": [
              "datetime.datetime(2023, 3, 7, 17, 17, 38, 245012, tzinfo=<DstTzInfo 'Asia/Seoul' KST+9:00:00 STD>)"
            ]
          },
          "metadata": {},
          "execution_count": 11
        }
      ]
    },
    {
      "cell_type": "markdown",
      "source": [
        "### 특정 날짜와 시간으로 객체 만들기\n",
        "\n",
        "또는, datetime.datetime에 연, 월, 일, 시, 분, 초, 마이크로초를 넣어서 객체를 만들 수도 있습니다.\n",
        "\n",
        "* datetime.datetime(year, month, day, hour=0, minute=0, second=0, microsecond=0)"
      ],
      "metadata": {
        "id": "7abexDuDbXGj"
      }
    },
    {
      "cell_type": "code",
      "source": [
        "print(datetime(2023, 3, 7))\n",
        "print(datetime(2023, 3, 7, 5))\n",
        "print(datetime(2023, 3, 7, 5, 18))\n",
        "datetime(2023, 3, 7, 5, 18, 0, 0)"
      ],
      "metadata": {
        "colab": {
          "base_uri": "https://localhost:8080/"
        },
        "id": "rzD8nMDzbdMv",
        "outputId": "9bed3bd3-75cf-4c53-c03d-d7561e99d68d"
      },
      "execution_count": 12,
      "outputs": [
        {
          "output_type": "stream",
          "name": "stdout",
          "text": [
            "2023-03-07 00:00:00\n",
            "2023-03-07 05:00:00\n",
            "2023-03-07 05:18:00\n"
          ]
        },
        {
          "output_type": "execute_result",
          "data": {
            "text/plain": [
              "datetime.datetime(2023, 3, 7, 5, 18)"
            ]
          },
          "metadata": {},
          "execution_count": 12
        }
      ]
    },
    {
      "cell_type": "markdown",
      "source": [
        "### 문자열로 날짜/시간 객체 만들기"
      ],
      "metadata": {
        "id": "WinuUyMTbgok"
      }
    },
    {
      "cell_type": "markdown",
      "source": [
        "strptime 메서드를 사용하면 문자열 형태의 날짜를 datetime.datetime 객체로 만들 수 있습니다. 이때는 날짜/시간 포맷을 지정해줘야 합니다.\n",
        "\n",
        "* datetime.datetime.strptime('날짜문자열', '포맷')\n"
      ],
      "metadata": {
        "id": "Ow-M2fULbilR"
      }
    },
    {
      "cell_type": "code",
      "source": [
        "datetime.strptime(\"2023-03-07\", \"%Y-%m-%d\") # 파싱 문자열"
      ],
      "metadata": {
        "colab": {
          "base_uri": "https://localhost:8080/"
        },
        "id": "7Rn7HkwUbduf",
        "outputId": "b575edcb-d0e2-4229-a1b8-5f8229d7c23e"
      },
      "execution_count": 13,
      "outputs": [
        {
          "output_type": "execute_result",
          "data": {
            "text/plain": [
              "datetime.datetime(2023, 3, 7, 0, 0)"
            ]
          },
          "metadata": {},
          "execution_count": 13
        }
      ]
    },
    {
      "cell_type": "markdown",
      "source": [
        "### 날짜/시간 객체를 문자열로 만들기"
      ],
      "metadata": {
        "id": "8tLfO9nPbnHj"
      }
    },
    {
      "cell_type": "markdown",
      "source": [
        "반대로 datetime 객체를 문자열로 만들 수도 있습니다. 이때는 strftime 메서드를 사용합니다.\n",
        "\n",
        "* datetime객체.strftime('포맷')"
      ],
      "metadata": {
        "id": "yRGOLghybsA2"
      }
    },
    {
      "cell_type": "code",
      "source": [
        "d = datetime(2023, 3, 7, 5, 18, 0, 0)\n",
        "d.strftime('%Y-%m-%d'), d.strftime('%c') # f포맷 string으로 바꿔줌"
      ],
      "metadata": {
        "colab": {
          "base_uri": "https://localhost:8080/"
        },
        "id": "LluszLzpbqWw",
        "outputId": "c74eb0e0-a538-4bc9-e5d4-ac83e22d7dc6"
      },
      "execution_count": 16,
      "outputs": [
        {
          "output_type": "execute_result",
          "data": {
            "text/plain": [
              "('2023-03-07', 'Tue Mar  7 05:18:00 2023')"
            ]
          },
          "metadata": {},
          "execution_count": 16
        }
      ]
    },
    {
      "cell_type": "markdown",
      "source": [
        "### 날짜와 시간 속성에 접근하기"
      ],
      "metadata": {
        "id": "eWEHL1EGbwlG"
      }
    },
    {
      "cell_type": "markdown",
      "source": [
        "datetime.datetime 객체는 연( year), 월(month), 일(day), 시(hour), 분(minute), 초(second), 마이크로초(microsecond) 속성을 따로 가져올 수 있습니다."
      ],
      "metadata": {
        "id": "PYk0ySoZbySW"
      }
    },
    {
      "cell_type": "code",
      "source": [
        "d.year, d.month, d.day, d.hour, d.minute, d.second, d.microsecond"
      ],
      "metadata": {
        "colab": {
          "base_uri": "https://localhost:8080/"
        },
        "id": "0K1oEE6IblwX",
        "outputId": "c4922d8b-bbdc-4a4e-c01f-1c70a5e292e1"
      },
      "execution_count": 18,
      "outputs": [
        {
          "output_type": "execute_result",
          "data": {
            "text/plain": [
              "(2023, 3, 7, 5, 18, 0, 0)"
            ]
          },
          "metadata": {},
          "execution_count": 18
        }
      ]
    },
    {
      "cell_type": "markdown",
      "source": [
        "### 날짜와 시간 차이 계산하기"
      ],
      "metadata": {
        "id": "0gWA-pOWb9I-"
      }
    },
    {
      "cell_type": "markdown",
      "source": [
        "datetime 모듈에서 유용한 기능이 바로 datetime.timedelta입니다. datetime.timedelta는 두 날짜와 시간 사이의 차이를 계산할 때 사용합니다.\n",
        "```\n",
        "datetime.timedelta(days=0, seconds=0, microseconds=0, milliseconds=0,\n",
        "                   minutes=0, hours=0, weeks=0)\n",
        "```"
      ],
      "metadata": {
        "id": "rB8Jnvm-cAHC"
      }
    },
    {
      "cell_type": "code",
      "source": [
        "from datetime import timedelta\n",
        "\n",
        "d = datetime.now()\n",
        "d"
      ],
      "metadata": {
        "colab": {
          "base_uri": "https://localhost:8080/"
        },
        "id": "e-S-7lbIb1wb",
        "outputId": "fa528f02-809b-47a1-94f0-837518b24709"
      },
      "execution_count": 19,
      "outputs": [
        {
          "output_type": "execute_result",
          "data": {
            "text/plain": [
              "datetime.datetime(2023, 3, 7, 8, 25, 30, 589968)"
            ]
          },
          "metadata": {},
          "execution_count": 19
        }
      ]
    },
    {
      "cell_type": "code",
      "source": [
        "d - timedelta(days=20)"
      ],
      "metadata": {
        "colab": {
          "base_uri": "https://localhost:8080/"
        },
        "id": "x00s1mn7cVZ-",
        "outputId": "e911f0eb-30fe-4335-ffd5-adfa50d98da8"
      },
      "execution_count": 20,
      "outputs": [
        {
          "output_type": "execute_result",
          "data": {
            "text/plain": [
              "datetime.datetime(2023, 2, 15, 8, 25, 30, 589968)"
            ]
          },
          "metadata": {},
          "execution_count": 20
        }
      ]
    },
    {
      "cell_type": "code",
      "source": [
        "# timedelta() - ~일 간의 차이, ~시간 차..."
      ],
      "metadata": {
        "id": "0-JMfRUEcZv0"
      },
      "execution_count": 21,
      "outputs": []
    },
    {
      "cell_type": "code",
      "source": [
        "datetime(2023, 3, 10) - datetime(2023, 3, 7)"
      ],
      "metadata": {
        "colab": {
          "base_uri": "https://localhost:8080/"
        },
        "id": "-X26iRyDLmsF",
        "outputId": "3b9a8d3e-48c5-4df3-f432-4a317af6283b"
      },
      "execution_count": 23,
      "outputs": [
        {
          "output_type": "execute_result",
          "data": {
            "text/plain": [
              "datetime.timedelta(days=3)"
            ]
          },
          "metadata": {},
          "execution_count": 23
        }
      ]
    },
    {
      "cell_type": "code",
      "source": [
        "from dateutil.relativedelta import relativedelta\n",
        "\n",
        "datetime.now() - relativedelta(months=3)"
      ],
      "metadata": {
        "colab": {
          "base_uri": "https://localhost:8080/"
        },
        "id": "Q7VoclNhLtJB",
        "outputId": "2338862b-d9a9-4888-e3a7-76df92d82c20"
      },
      "execution_count": 24,
      "outputs": [
        {
          "output_type": "execute_result",
          "data": {
            "text/plain": [
              "datetime.datetime(2022, 12, 7, 8, 28, 50, 791976)"
            ]
          },
          "metadata": {},
          "execution_count": 24
        }
      ]
    }
  ]
}