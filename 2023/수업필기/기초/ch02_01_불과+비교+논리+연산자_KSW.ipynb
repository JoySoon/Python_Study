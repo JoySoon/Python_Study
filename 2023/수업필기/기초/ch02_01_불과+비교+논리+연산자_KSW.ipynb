{
  "nbformat": 4,
  "nbformat_minor": 0,
  "metadata": {
    "colab": {
      "provenance": [],
      "toc_visible": true,
      "include_colab_link": true
    },
    "kernelspec": {
      "name": "python3",
      "display_name": "Python 3"
    },
    "language_info": {
      "name": "python"
    }
  },
  "cells": [
    {
      "cell_type": "markdown",
      "metadata": {
        "id": "view-in-github",
        "colab_type": "text"
      },
      "source": [
        "<a href=\"https://colab.research.google.com/github/JoySoon/Python_BigData23th/blob/main/submission/JoySoon/ch02_01_%EB%B6%88%EA%B3%BC%2B%EB%B9%84%EA%B5%90%2B%EB%85%BC%EB%A6%AC%2B%EC%97%B0%EC%82%B0%EC%9E%90_KSW.ipynb\" target=\"_parent\"><img src=\"https://colab.research.google.com/assets/colab-badge.svg\" alt=\"Open In Colab\"/></a>"
      ]
    },
    {
      "cell_type": "markdown",
      "source": [
        "# 불과 비교, 논리 연산자 (Boolean)"
      ],
      "metadata": {
        "id": "v6Jmzk1w7z3P"
      }
    },
    {
      "cell_type": "markdown",
      "source": [
        "## 불과 비교 연산자 사용하기"
      ],
      "metadata": {
        "id": "bkxhmLXW744g"
      }
    },
    {
      "cell_type": "markdown",
      "source": [
        "* 프로그래밍을 하다 보면 참, 거짓을 판단해야 할 때가 많습니다. 참은 무엇인가가 맞다, 거짓은 틀리다(아니다)를 표현합니다.\n",
        "\n",
        "* 이번에는 `참(True), 거짓(False)`을 나타내는 불(boolean)을 알아보겠습니다. 그리고 두 값의 관계를 판단하는 비교 연산자와 두 값의 논릿값을 판단하는 논리 연산자도 함께 알아보겠습니다.\n",
        "\n",
        "* 여기서 비교, 논리 연산자는 프로그래밍에서 매우 광범위하게 쓰입니다. 특히 앞으로 배울 if, while 구문을 작성할 때 비교, 논리 연산자를 자주 사용합니다."
      ],
      "metadata": {
        "id": "t2CK-l1N78CN"
      }
    },
    {
      "cell_type": "code",
      "execution_count": 1,
      "metadata": {
        "colab": {
          "base_uri": "https://localhost:8080/"
        },
        "id": "ransbEYH7vej",
        "outputId": "af52d0ec-eab6-4ffd-ffbf-556b7129e9ec"
      },
      "outputs": [
        {
          "output_type": "execute_result",
          "data": {
            "text/plain": [
              "(True, False)"
            ]
          },
          "metadata": {},
          "execution_count": 1
        }
      ],
      "source": [
        "int(True), int(False)"
      ]
    },
    {
      "cell_type": "code",
      "source": [
        "# 불은 True, False로 표현하며 1, 3.6, 'Python'처럼 값의 일종\n",
        "True, False # true, false"
      ],
      "metadata": {
        "id": "UvoeXIvxsmSv"
      },
      "execution_count": null,
      "outputs": []
    },
    {
      "cell_type": "markdown",
      "source": [
        "### 비교 연산자의 판단 결과"
      ],
      "metadata": {
        "id": "p9NtI5JO8HeC"
      }
    },
    {
      "cell_type": "markdown",
      "source": [
        "* 파이썬에서는 비교 연산자와 논리 연산자의 판단 결과로 True, False를 사용합니다. 즉, 비교 결과가 맞으면 True, 아니면 False입니다."
      ],
      "metadata": {
        "id": "asgRbPl_8K-2"
      }
    },
    {
      "cell_type": "code",
      "source": [
        "10 > 5"
      ],
      "metadata": {
        "colab": {
          "base_uri": "https://localhost:8080/"
        },
        "id": "1meAx_QL8FDD",
        "outputId": "f0e2dcd4-32f1-4cda-ec6c-074ef9eb8c06"
      },
      "execution_count": 4,
      "outputs": [
        {
          "output_type": "execute_result",
          "data": {
            "text/plain": [
              "True"
            ]
          },
          "metadata": {},
          "execution_count": 4
        }
      ]
    },
    {
      "cell_type": "code",
      "source": [
        "10 < 5"
      ],
      "metadata": {
        "colab": {
          "base_uri": "https://localhost:8080/"
        },
        "id": "qheZuGPKs7MJ",
        "outputId": "32f332ef-d1dc-4e3a-e4ac-afd02cb3799d"
      },
      "execution_count": 5,
      "outputs": [
        {
          "output_type": "execute_result",
          "data": {
            "text/plain": [
              "False"
            ]
          },
          "metadata": {},
          "execution_count": 5
        }
      ]
    },
    {
      "cell_type": "markdown",
      "source": [
        "### 숫자가 같은지 다른지 비교하기"
      ],
      "metadata": {
        "id": "l93GfkAK8Rwp"
      }
    },
    {
      "cell_type": "markdown",
      "source": [
        "* 이제 두 숫자가 같은지 또는 다른지 비교해보겠습니다. 두 숫자가 같은지 비교할 때는 ==(equal), 다른지 비교할 때는 !=(not equal)을 사용합니다."
      ],
      "metadata": {
        "id": "lddOoWJi8TyS"
      }
    },
    {
      "cell_type": "code",
      "source": [
        "# = : 대입연산자, 할당연산자\n",
        "# == : 동등연산자\n",
        "1 == 1, 2 == 1"
      ],
      "metadata": {
        "colab": {
          "base_uri": "https://localhost:8080/"
        },
        "id": "k4JB04rd8Rbg",
        "outputId": "0c10024d-1ae7-4596-a278-e3e3aee008c3"
      },
      "execution_count": 8,
      "outputs": [
        {
          "output_type": "execute_result",
          "data": {
            "text/plain": [
              "(True, False)"
            ]
          },
          "metadata": {},
          "execution_count": 8
        }
      ]
    },
    {
      "cell_type": "code",
      "source": [
        "2 != 1"
      ],
      "metadata": {
        "colab": {
          "base_uri": "https://localhost:8080/"
        },
        "id": "Yq7XeDsS8Mm4",
        "outputId": "0b178390-016b-4bb4-e8b8-b686b208a060"
      },
      "execution_count": 7,
      "outputs": [
        {
          "output_type": "execute_result",
          "data": {
            "text/plain": [
              "True"
            ]
          },
          "metadata": {},
          "execution_count": 7
        }
      ]
    },
    {
      "cell_type": "markdown",
      "source": [
        "* 10과 10은 같으므로 True, 10과 5는 다르므로 True가 나옵니다. 파이썬에서 두 값이 같은지 비교할 때는 =이 아닌 ==을 사용합니다. 왜냐하면 =은 할당 연산자로 이미 사용되고 있기 때문입니다."
      ],
      "metadata": {
        "id": "A7ZPskZG8ciB"
      }
    },
    {
      "cell_type": "markdown",
      "source": [
        "### 문자열이 같은지 다른지 비교하기"
      ],
      "metadata": {
        "id": "F-qZPpwZ8fVj"
      }
    },
    {
      "cell_type": "markdown",
      "source": [
        "숫자뿐만 아니라 문자열도 ==와 != 연산자로 비교할 수 있습니다. 이때 문자열은 비교할 때 대소문자를 구분합니다. 다음과 같이 단어가 같아도 대소문자가 다르면 다른 문자열로 판단합니다."
      ],
      "metadata": {
        "id": "gVpeqKpi8kzR"
      }
    },
    {
      "cell_type": "code",
      "source": [
        "\"young\" == \"young\""
      ],
      "metadata": {
        "colab": {
          "base_uri": "https://localhost:8080/"
        },
        "id": "a8gUw9ax8bF2",
        "outputId": "f6314d68-0287-4dd1-fc55-578f3a4919b7"
      },
      "execution_count": 11,
      "outputs": [
        {
          "output_type": "execute_result",
          "data": {
            "text/plain": [
              "True"
            ]
          },
          "metadata": {},
          "execution_count": 11
        }
      ]
    },
    {
      "cell_type": "code",
      "source": [
        "\"Young\" == \"young\", \"YOUNG\" == \"young\""
      ],
      "metadata": {
        "colab": {
          "base_uri": "https://localhost:8080/"
        },
        "id": "eXD8KjlE8pTv",
        "outputId": "81065244-79ad-461f-8435-733aee24ac65"
      },
      "execution_count": 9,
      "outputs": [
        {
          "output_type": "execute_result",
          "data": {
            "text/plain": [
              "(False, False)"
            ]
          },
          "metadata": {},
          "execution_count": 9
        }
      ]
    },
    {
      "cell_type": "code",
      "source": [
        "\"YOUNG\" != \"young\""
      ],
      "metadata": {
        "colab": {
          "base_uri": "https://localhost:8080/"
        },
        "id": "ru8eZuDm8qGX",
        "outputId": "5ef82c31-3f60-4ac4-97a6-bd77dd85078f"
      },
      "execution_count": 10,
      "outputs": [
        {
          "output_type": "execute_result",
          "data": {
            "text/plain": [
              "True"
            ]
          },
          "metadata": {},
          "execution_count": 10
        }
      ]
    },
    {
      "cell_type": "markdown",
      "source": [
        "### 부등호 사용하기"
      ],
      "metadata": {
        "id": "j1anba4g8rF4"
      }
    },
    {
      "cell_type": "markdown",
      "source": [
        "* 부등호는 수학 시간에 배운 내용과 같습니다. 큰지, 작은지, 크거나 같은지, 작거나 같은지를 판단해봅니다."
      ],
      "metadata": {
        "id": "frEVRs3e8xp7"
      }
    },
    {
      "cell_type": "code",
      "source": [
        "10 > 20 # 초과, 미만"
      ],
      "metadata": {
        "colab": {
          "base_uri": "https://localhost:8080/"
        },
        "id": "V_R7oqqA8yxX",
        "outputId": "a763bdc3-eb04-49e8-a172-d19135020c2b"
      },
      "execution_count": 12,
      "outputs": [
        {
          "output_type": "execute_result",
          "data": {
            "text/plain": [
              "False"
            ]
          },
          "metadata": {},
          "execution_count": 12
        }
      ]
    },
    {
      "cell_type": "code",
      "source": [
        "10 < 20 # 초과, 미만"
      ],
      "metadata": {
        "colab": {
          "base_uri": "https://localhost:8080/"
        },
        "id": "9Bqhy0zn82gO",
        "outputId": "2c59a070-2b76-4ac8-93c2-51221dfc2c31"
      },
      "execution_count": 13,
      "outputs": [
        {
          "output_type": "execute_result",
          "data": {
            "text/plain": [
              "True"
            ]
          },
          "metadata": {},
          "execution_count": 13
        }
      ]
    },
    {
      "cell_type": "code",
      "source": [
        "10 >= 20 # 이상, 이하"
      ],
      "metadata": {
        "colab": {
          "base_uri": "https://localhost:8080/"
        },
        "id": "L4jCEqpJ83dK",
        "outputId": "92a0508b-0e19-4394-9852-8cf91a7465f3"
      },
      "execution_count": 14,
      "outputs": [
        {
          "output_type": "execute_result",
          "data": {
            "text/plain": [
              "False"
            ]
          },
          "metadata": {},
          "execution_count": 14
        }
      ]
    },
    {
      "cell_type": "code",
      "source": [
        "10 <= 10 # 이상, 이하"
      ],
      "metadata": {
        "colab": {
          "base_uri": "https://localhost:8080/"
        },
        "id": "DTGWPeUj84EC",
        "outputId": "a2fa9dec-a120-4485-fe81-1e144b92d481"
      },
      "execution_count": 15,
      "outputs": [
        {
          "output_type": "execute_result",
          "data": {
            "text/plain": [
              "True"
            ]
          },
          "metadata": {},
          "execution_count": 15
        }
      ]
    },
    {
      "cell_type": "markdown",
      "source": [
        "* 여기서 비교 기준은 첫 번째 값입니다. 따라서 첫 번째 값보다 큰지, 작은지처럼 읽습니다. 항상 이점을 기억해두세요.\n",
        "\n",
        "* 특히 부등호를 말로 설명할 때 >은 초과, <은 미만, >=은 이상, <=은 이하라고도 합니다. 그리고 >, <은 비교할 값과 같으면 무조건 거짓입니다. 하지만 >=, <=은 비교할 값과 같으면 참입니다. 따라서 이상, 이하는 비교할 값도 포함된다는 점이 중요합니다."
      ],
      "metadata": {
        "id": "5PrlTb6v846d"
      }
    },
    {
      "cell_type": "markdown",
      "source": [
        "### 객체가 같은지 다른지 비교하기"
      ],
      "metadata": {
        "id": "4htPUGrS9Ayr"
      }
    },
    {
      "cell_type": "markdown",
      "source": [
        "* 이번에는 is와 is not입니다. 같다는 ==, 다르다는 !=이 이미 있는데 왜 is, is not을 만들었을까요? is, is not도 같다, 다르다지만 ==, !=는 값 자체를 비교하고, is, is not은 객체(object)를 비교합니다."
      ],
      "metadata": {
        "id": "XMeNSti39Djj"
      }
    },
    {
      "cell_type": "code",
      "source": [
        "1 == 1.0 # 1은 정수, 1.0은 실수"
      ],
      "metadata": {
        "colab": {
          "base_uri": "https://localhost:8080/"
        },
        "id": "22ODPs_k88ZK",
        "outputId": "068b6e70-cd60-40e1-967d-5ccdf5e3add3"
      },
      "execution_count": 16,
      "outputs": [
        {
          "output_type": "execute_result",
          "data": {
            "text/plain": [
              "True"
            ]
          },
          "metadata": {},
          "execution_count": 16
        }
      ]
    },
    {
      "cell_type": "code",
      "source": [
        "1 is 1.0"
      ],
      "metadata": {
        "colab": {
          "base_uri": "https://localhost:8080/"
        },
        "id": "C2qiVURH9MXg",
        "outputId": "5264f190-a4a4-4857-d344-a29e7842ed8c"
      },
      "execution_count": 17,
      "outputs": [
        {
          "output_type": "stream",
          "name": "stderr",
          "text": [
            "<>:1: SyntaxWarning: \"is\" with a literal. Did you mean \"==\"?\n",
            "<>:1: SyntaxWarning: \"is\" with a literal. Did you mean \"==\"?\n",
            "<ipython-input-17-2ebf4c947f31>:1: SyntaxWarning: \"is\" with a literal. Did you mean \"==\"?\n",
            "  1 is 1.0\n"
          ]
        },
        {
          "output_type": "execute_result",
          "data": {
            "text/plain": [
              "False"
            ]
          },
          "metadata": {},
          "execution_count": 17
        }
      ]
    },
    {
      "cell_type": "code",
      "source": [
        "1 is 1"
      ],
      "metadata": {
        "colab": {
          "base_uri": "https://localhost:8080/"
        },
        "id": "U7WvRzdb9aYS",
        "outputId": "fd24d71a-07fc-4696-90c1-1134a6ad0632"
      },
      "execution_count": 18,
      "outputs": [
        {
          "output_type": "stream",
          "name": "stderr",
          "text": [
            "<>:1: SyntaxWarning: \"is\" with a literal. Did you mean \"==\"?\n",
            "<>:1: SyntaxWarning: \"is\" with a literal. Did you mean \"==\"?\n",
            "<ipython-input-18-c4ba21148a2b>:1: SyntaxWarning: \"is\" with a literal. Did you mean \"==\"?\n",
            "  1 is 1\n"
          ]
        },
        {
          "output_type": "execute_result",
          "data": {
            "text/plain": [
              "True"
            ]
          },
          "metadata": {},
          "execution_count": 18
        }
      ]
    },
    {
      "cell_type": "code",
      "source": [
        "1 is not 1.0"
      ],
      "metadata": {
        "colab": {
          "base_uri": "https://localhost:8080/"
        },
        "id": "VyW0H8L09NEs",
        "outputId": "64777e31-4a19-46c0-a265-e5501e6bd4cd"
      },
      "execution_count": 19,
      "outputs": [
        {
          "output_type": "stream",
          "name": "stderr",
          "text": [
            "<>:1: SyntaxWarning: \"is not\" with a literal. Did you mean \"!=\"?\n",
            "<>:1: SyntaxWarning: \"is not\" with a literal. Did you mean \"!=\"?\n",
            "<ipython-input-19-7a2cea8bf2ec>:1: SyntaxWarning: \"is not\" with a literal. Did you mean \"!=\"?\n",
            "  1 is not 1.0\n"
          ]
        },
        {
          "output_type": "execute_result",
          "data": {
            "text/plain": [
              "True"
            ]
          },
          "metadata": {},
          "execution_count": 19
        }
      ]
    },
    {
      "cell_type": "markdown",
      "source": [
        "* 1과 1.0은 정수와 실수라는 차이점이 있지만 값은 같습니다. 따라서 ==로 비교해보면 True가 나옵니다. 하지만 1과 1.0을 is로 비교해보면 False가 나옵니다. 왜냐하면 1은 정수 객체, 1.0은 실수 객체이므로 두 객체는 서로 다르기 때문입니다. 물론 1과 1.0을 is not으로 비교하면 True가 나오겠죠?"
      ],
      "metadata": {
        "id": "Uf7SCw7k9VFP"
      }
    },
    {
      "cell_type": "markdown",
      "source": [
        "## 논리 연산자 사용하기"
      ],
      "metadata": {
        "id": "J6XyB2i79gNT"
      }
    },
    {
      "cell_type": "markdown",
      "source": [
        "* 이번에는 논리 연산자를 사용해보겠습니다. 논리 연산자는 and, or, not이 있는데 먼저 and입니다.\n",
        "* `a and b`"
      ],
      "metadata": {
        "id": "zzj7078Y9tUE"
      }
    },
    {
      "cell_type": "code",
      "source": [
        "True and True # and : 둘 다 True -> True"
      ],
      "metadata": {
        "colab": {
          "base_uri": "https://localhost:8080/"
        },
        "id": "a46F0OEO9uRd",
        "outputId": "72a3be76-9936-48ac-b914-40ea3a6a21d5"
      },
      "execution_count": null,
      "outputs": [
        {
          "output_type": "execute_result",
          "data": {
            "text/plain": [
              "True"
            ]
          },
          "metadata": {},
          "execution_count": 17
        }
      ]
    },
    {
      "cell_type": "code",
      "source": [
        "True and False"
      ],
      "metadata": {
        "colab": {
          "base_uri": "https://localhost:8080/"
        },
        "id": "_uQSlquo927f",
        "outputId": "25d61c1f-c67d-4ee2-93a9-457be3f85990"
      },
      "execution_count": 20,
      "outputs": [
        {
          "output_type": "execute_result",
          "data": {
            "text/plain": [
              "False"
            ]
          },
          "metadata": {},
          "execution_count": 20
        }
      ]
    },
    {
      "cell_type": "code",
      "source": [
        "False and True"
      ],
      "metadata": {
        "colab": {
          "base_uri": "https://localhost:8080/"
        },
        "id": "PcLFN7EM94Lq",
        "outputId": "a2b83f37-2890-4ec8-b84e-d73b7da3e9ca"
      },
      "execution_count": 21,
      "outputs": [
        {
          "output_type": "execute_result",
          "data": {
            "text/plain": [
              "False"
            ]
          },
          "metadata": {},
          "execution_count": 21
        }
      ]
    },
    {
      "cell_type": "code",
      "source": [
        "False and False"
      ],
      "metadata": {
        "colab": {
          "base_uri": "https://localhost:8080/"
        },
        "id": "0zfAY_kS96fz",
        "outputId": "f736923d-3ace-4340-b1ca-553c38c22072"
      },
      "execution_count": 23,
      "outputs": [
        {
          "output_type": "execute_result",
          "data": {
            "text/plain": [
              "False"
            ]
          },
          "metadata": {},
          "execution_count": 23
        }
      ]
    },
    {
      "cell_type": "code",
      "source": [
        "True & True, True & False, False & True # and(&) 연산자"
      ],
      "metadata": {
        "colab": {
          "base_uri": "https://localhost:8080/"
        },
        "id": "ugQu6KnRvlQF",
        "outputId": "3329b51b-1caf-4bcc-acc6-a8087ffe37d6"
      },
      "execution_count": 24,
      "outputs": [
        {
          "output_type": "execute_result",
          "data": {
            "text/plain": [
              "(True, False, False)"
            ]
          },
          "metadata": {},
          "execution_count": 24
        }
      ]
    },
    {
      "cell_type": "markdown",
      "source": [
        "* and는 두 값이 모두 True라야 True입니다. 하나라도 False이면 False가 나옵니다."
      ],
      "metadata": {
        "id": "5NY3VVAY99Ge"
      }
    },
    {
      "cell_type": "markdown",
      "source": [
        "\n",
        "* 이번에는 or입니다.\n",
        "* `a or b`"
      ],
      "metadata": {
        "id": "l1cwZ-n-9_Az"
      }
    },
    {
      "cell_type": "code",
      "source": [
        "True or True"
      ],
      "metadata": {
        "colab": {
          "base_uri": "https://localhost:8080/"
        },
        "id": "dsJ1V5lR9869",
        "outputId": "a25f0f1d-fdee-4ce8-f837-277ae0d6d6df"
      },
      "execution_count": 25,
      "outputs": [
        {
          "output_type": "execute_result",
          "data": {
            "text/plain": [
              "True"
            ]
          },
          "metadata": {},
          "execution_count": 25
        }
      ]
    },
    {
      "cell_type": "code",
      "source": [
        "True or False"
      ],
      "metadata": {
        "colab": {
          "base_uri": "https://localhost:8080/"
        },
        "id": "WRqaykE--Lod",
        "outputId": "54c4200c-552e-46d2-96d3-576f9696f1ad"
      },
      "execution_count": 26,
      "outputs": [
        {
          "output_type": "execute_result",
          "data": {
            "text/plain": [
              "True"
            ]
          },
          "metadata": {},
          "execution_count": 26
        }
      ]
    },
    {
      "cell_type": "code",
      "source": [
        "False or True"
      ],
      "metadata": {
        "colab": {
          "base_uri": "https://localhost:8080/"
        },
        "id": "WvIoohpm-MGM",
        "outputId": "fc1e0bb9-e6fc-499a-a210-f188a5130538"
      },
      "execution_count": 27,
      "outputs": [
        {
          "output_type": "execute_result",
          "data": {
            "text/plain": [
              "True"
            ]
          },
          "metadata": {},
          "execution_count": 27
        }
      ]
    },
    {
      "cell_type": "code",
      "source": [
        "False or False"
      ],
      "metadata": {
        "colab": {
          "base_uri": "https://localhost:8080/"
        },
        "id": "TTZfD4iI-MXG",
        "outputId": "f4992211-1619-4717-fe18-38494363260f"
      },
      "execution_count": 30,
      "outputs": [
        {
          "output_type": "execute_result",
          "data": {
            "text/plain": [
              "False"
            ]
          },
          "metadata": {},
          "execution_count": 30
        }
      ]
    },
    {
      "cell_type": "code",
      "source": [
        "True | True, True | False, False | False  # |(or) 논리연산자"
      ],
      "metadata": {
        "colab": {
          "base_uri": "https://localhost:8080/"
        },
        "id": "Z1nGvNjrwHOv",
        "outputId": "eabcc796-a462-419a-c401-feea9f59c74f"
      },
      "execution_count": 31,
      "outputs": [
        {
          "output_type": "execute_result",
          "data": {
            "text/plain": [
              "(True, True, False)"
            ]
          },
          "metadata": {},
          "execution_count": 31
        }
      ]
    },
    {
      "cell_type": "markdown",
      "source": [
        "* or는 두 값 중 하나라도 True이면 True입니다. 두 값이 모두 False라야 False가 되죠."
      ],
      "metadata": {
        "id": "zYArLXR4-P9T"
      }
    },
    {
      "cell_type": "markdown",
      "source": [
        "* 마지막으로 not입니다.\n",
        "* `not x`"
      ],
      "metadata": {
        "id": "20iv4w1y-SX4"
      }
    },
    {
      "cell_type": "code",
      "source": [
        "not True # 반전"
      ],
      "metadata": {
        "colab": {
          "base_uri": "https://localhost:8080/"
        },
        "id": "7XVanr2R97nj",
        "outputId": "12f31ddb-e0a1-4d5f-9811-c3899f27cbed"
      },
      "execution_count": 33,
      "outputs": [
        {
          "output_type": "execute_result",
          "data": {
            "text/plain": [
              "False"
            ]
          },
          "metadata": {},
          "execution_count": 33
        }
      ]
    },
    {
      "cell_type": "code",
      "source": [
        "not False"
      ],
      "metadata": {
        "colab": {
          "base_uri": "https://localhost:8080/"
        },
        "id": "Vv5zWmNz-Zmq",
        "outputId": "e56c20f5-82c3-41b1-e5a2-3dc761f7efa5"
      },
      "execution_count": 34,
      "outputs": [
        {
          "output_type": "execute_result",
          "data": {
            "text/plain": [
              "True"
            ]
          },
          "metadata": {},
          "execution_count": 34
        }
      ]
    },
    {
      "cell_type": "markdown",
      "source": [
        "* not은 논릿값을 뒤집습니다. 그래서 not True는 False가 되고, not False는 True가 됩니다."
      ],
      "metadata": {
        "id": "XFSeIUk9-cVw"
      }
    },
    {
      "cell_type": "markdown",
      "source": [
        "* 여기서 and, or, not 논리 연산자가 식 하나에 들어있으면 not, and, or 순으로 판단합니다."
      ],
      "metadata": {
        "id": "iN8vhwC9-g-C"
      }
    },
    {
      "cell_type": "code",
      "source": [
        "not True and False and not False"
      ],
      "metadata": {
        "colab": {
          "base_uri": "https://localhost:8080/"
        },
        "id": "E3uX3i4--jGs",
        "outputId": "018770ae-69b0-4843-82e4-63b54e059db7"
      },
      "execution_count": 36,
      "outputs": [
        {
          "output_type": "execute_result",
          "data": {
            "text/plain": [
              "False"
            ]
          },
          "metadata": {},
          "execution_count": 36
        }
      ]
    },
    {
      "cell_type": "code",
      "source": [
        "not True and False or not False"
      ],
      "metadata": {
        "colab": {
          "base_uri": "https://localhost:8080/"
        },
        "id": "uHivXjPewokD",
        "outputId": "89ab691f-2a9f-4fb5-ef7a-35fe53d3528e"
      },
      "execution_count": 40,
      "outputs": [
        {
          "output_type": "execute_result",
          "data": {
            "text/plain": [
              "True"
            ]
          },
          "metadata": {},
          "execution_count": 40
        }
      ]
    },
    {
      "cell_type": "markdown",
      "source": [
        "* 식이 꼬여 있어서 상당히 헷갈리죠? 가장 먼저 not True와 not False를 판단하여 False and False or True가 됩니다.\n",
        "* 그다음에 False and False를 판단하여 False가 나와서 False or True가 되므로 최종 결과는 True가 됩니다."
      ],
      "metadata": {
        "id": "uFpZ6dYg-k65"
      }
    },
    {
      "cell_type": "code",
      "source": [
        "(not True) and False or (not False)\n",
        "(False and False) or True\n",
        "False or True\n",
        "True"
      ],
      "metadata": {
        "colab": {
          "base_uri": "https://localhost:8080/"
        },
        "id": "Kz_XIdpN-p7y",
        "outputId": "bc259f63-53c5-41e8-a4f9-6702db0b450e"
      },
      "execution_count": null,
      "outputs": [
        {
          "output_type": "execute_result",
          "data": {
            "text/plain": [
              "True"
            ]
          },
          "metadata": {},
          "execution_count": 28
        }
      ]
    },
    {
      "cell_type": "code",
      "source": [
        "# 이 식을 괄호로 표현하면 다음과 같은 모양이 됩니다.\n",
        "((not True) and False) or (not False)"
      ],
      "metadata": {
        "colab": {
          "base_uri": "https://localhost:8080/"
        },
        "id": "c-BL3vTw-sa7",
        "outputId": "2088c1d4-32d0-49e1-944d-43e8504d970b"
      },
      "execution_count": 38,
      "outputs": [
        {
          "output_type": "execute_result",
          "data": {
            "text/plain": [
              "True"
            ]
          },
          "metadata": {},
          "execution_count": 38
        }
      ]
    },
    {
      "cell_type": "markdown",
      "source": [
        "* 순서가 헷갈릴 때는 괄호로 판단 순서를 명확히 나타내 주는 것이 좋습니다."
      ],
      "metadata": {
        "id": "4ebLX-TT-yMc"
      }
    },
    {
      "cell_type": "markdown",
      "source": [
        "### 논리 연산자와 비교 연산자를 함께 사용하기"
      ],
      "metadata": {
        "id": "KT1_pBHh-1NG"
      }
    },
    {
      "cell_type": "code",
      "source": [
        "10 == 10 and 10 != 5 # 논리 연산자 (무선) > 비교 연산자\n",
        "(10 == 10) and (10 != 5)\n",
        "True and True"
      ],
      "metadata": {
        "colab": {
          "base_uri": "https://localhost:8080/"
        },
        "id": "uW8ffx3y-wC8",
        "outputId": "461b7d9f-4578-49d8-947f-df6af2dfc04f"
      },
      "execution_count": 41,
      "outputs": [
        {
          "output_type": "execute_result",
          "data": {
            "text/plain": [
              "True"
            ]
          },
          "metadata": {},
          "execution_count": 41
        }
      ]
    },
    {
      "cell_type": "code",
      "source": [
        "10 > 5 or 10 < 3\n",
        "#True or Flase"
      ],
      "metadata": {
        "colab": {
          "base_uri": "https://localhost:8080/"
        },
        "id": "YxgyyDIJ-8Bm",
        "outputId": "31e66056-6425-42d3-c4d1-2f89ba6d60c1"
      },
      "execution_count": 42,
      "outputs": [
        {
          "output_type": "execute_result",
          "data": {
            "text/plain": [
              "True"
            ]
          },
          "metadata": {},
          "execution_count": 42
        }
      ]
    },
    {
      "cell_type": "code",
      "source": [
        "not 10 > 5\n",
        "# not True"
      ],
      "metadata": {
        "colab": {
          "base_uri": "https://localhost:8080/"
        },
        "id": "tqyBYVeG-8lf",
        "outputId": "ad58bda3-9f6f-4a80-e22d-cac86b3b1cf2"
      },
      "execution_count": 43,
      "outputs": [
        {
          "output_type": "execute_result",
          "data": {
            "text/plain": [
              "False"
            ]
          },
          "metadata": {},
          "execution_count": 43
        }
      ]
    },
    {
      "cell_type": "markdown",
      "source": [
        "* 비교 연산자로 비교한 결과를 논리 연산자로 다시 판단했습니다. 이때는 비교 연산자(is, is not, ==, !=, <, >, <=, >=)를 먼저 판단하고 논리 연산자(not, and, or)를 판단하게 됩니다"
      ],
      "metadata": {
        "id": "2l0QBaGk_DKD"
      }
    },
    {
      "cell_type": "markdown",
      "source": [
        "### 정수, 실수, 문자열을 불로 만들기"
      ],
      "metadata": {
        "id": "F1Gdb-Zn_GlV"
      }
    },
    {
      "cell_type": "markdown",
      "source": [
        "* 정수, 실수, 문자열을 불로 만들 때는 bool을 사용하면 됩니다. 이때 정수 1은 True, 0은 False입니다. 만약 문자열의 내용이 'False'라도 불로 만들면 True입니다. 문자열의 내용 자체는 판단하지 않으며 값이 있으면 True입니다."
      ],
      "metadata": {
        "id": "0gmm_J-r_NUn"
      }
    },
    {
      "cell_type": "code",
      "source": [
        "bool(1), bool(100), bool(0), bool(-1) # 정수나 실수를 bool에 넣었을 때 0인지 아닌지를 판단 (0이면 False)\n",
        "# (int) != 0"
      ],
      "metadata": {
        "colab": {
          "base_uri": "https://localhost:8080/"
        },
        "id": "mNM0mneu_PdL",
        "outputId": "9c71cd17-19ab-4f75-b55b-238fd909aa79"
      },
      "execution_count": 45,
      "outputs": [
        {
          "output_type": "execute_result",
          "data": {
            "text/plain": [
              "(True, True, False, True)"
            ]
          },
          "metadata": {},
          "execution_count": 45
        }
      ]
    },
    {
      "cell_type": "code",
      "source": [
        "bool(2.5), bool(0.0), bool(-1.7)"
      ],
      "metadata": {
        "colab": {
          "base_uri": "https://localhost:8080/"
        },
        "id": "ufDOIR5z_TIH",
        "outputId": "589f78a9-0993-4dbe-e0f6-403be8526473"
      },
      "execution_count": 46,
      "outputs": [
        {
          "output_type": "execute_result",
          "data": {
            "text/plain": [
              "(True, False, True)"
            ]
          },
          "metadata": {},
          "execution_count": 46
        }
      ]
    },
    {
      "cell_type": "code",
      "source": [
        "bool('hello') # 어느 길이든 True. 길이가 있는 문자열이라면"
      ],
      "metadata": {
        "colab": {
          "base_uri": "https://localhost:8080/"
        },
        "id": "aVP5kFKe_T1l",
        "outputId": "a8f6ffaf-413e-4b05-d182-f8f212377d03"
      },
      "execution_count": null,
      "outputs": [
        {
          "output_type": "execute_result",
          "data": {
            "text/plain": [
              "True"
            ]
          },
          "metadata": {},
          "execution_count": 36
        }
      ]
    },
    {
      "cell_type": "code",
      "source": [
        "bool(\"\")"
      ],
      "metadata": {
        "colab": {
          "base_uri": "https://localhost:8080/"
        },
        "id": "MS7Go6xI_Ue1",
        "outputId": "4853fc4e-e56b-4d8e-e957-b5624498288a"
      },
      "execution_count": 47,
      "outputs": [
        {
          "output_type": "execute_result",
          "data": {
            "text/plain": [
              "False"
            ]
          },
          "metadata": {},
          "execution_count": 47
        }
      ]
    }
  ]
}