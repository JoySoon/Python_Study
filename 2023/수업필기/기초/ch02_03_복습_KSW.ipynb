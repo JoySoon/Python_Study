{
  "nbformat": 4,
  "nbformat_minor": 0,
  "metadata": {
    "colab": {
      "provenance": [],
      "include_colab_link": true
    },
    "kernelspec": {
      "name": "python3",
      "display_name": "Python 3"
    },
    "language_info": {
      "name": "python"
    }
  },
  "cells": [
    {
      "cell_type": "markdown",
      "metadata": {
        "id": "view-in-github",
        "colab_type": "text"
      },
      "source": [
        "<a href=\"https://colab.research.google.com/github/JoySoon/Python_BigData23th/blob/backup/submission/JoySoon/ch02_03_%EB%B3%B5%EC%8A%B5_KSW.ipynb\" target=\"_parent\"><img src=\"https://colab.research.google.com/assets/colab-badge.svg\" alt=\"Open In Colab\"/></a>"
      ]
    },
    {
      "cell_type": "markdown",
      "source": [
        "# 리스트 응용"
      ],
      "metadata": {
        "id": "UTLYXMzgTCx4"
      }
    },
    {
      "cell_type": "code",
      "execution_count": null,
      "metadata": {
        "id": "UULHYA-VMnaM"
      },
      "outputs": [],
      "source": [
        "country = [] # 빈 리스트"
      ]
    },
    {
      "cell_type": "code",
      "source": [
        "country.append('대한민국')\n",
        "country"
      ],
      "metadata": {
        "colab": {
          "base_uri": "https://localhost:8080/"
        },
        "id": "4ldDX_s7TPLB",
        "outputId": "ff4d88c9-7451-423b-8120-e0068096d310"
      },
      "execution_count": null,
      "outputs": [
        {
          "output_type": "execute_result",
          "data": {
            "text/plain": [
              "['대한민국']"
            ]
          },
          "metadata": {},
          "execution_count": 2
        }
      ]
    },
    {
      "cell_type": "code",
      "source": [
        "country2 = [\"중국\"]"
      ],
      "metadata": {
        "id": "0bPADP5hTeob"
      },
      "execution_count": null,
      "outputs": []
    },
    {
      "cell_type": "code",
      "source": [
        "country + country2, country"
      ],
      "metadata": {
        "colab": {
          "base_uri": "https://localhost:8080/"
        },
        "id": "s2xEhwidTi-B",
        "outputId": "f25d984d-5dd9-4e04-94cc-810c76eaeaa2"
      },
      "execution_count": null,
      "outputs": [
        {
          "output_type": "execute_result",
          "data": {
            "text/plain": [
              "(['대한민국', '중국'], ['대한민국'])"
            ]
          },
          "metadata": {},
          "execution_count": 5
        }
      ]
    },
    {
      "cell_type": "code",
      "source": [
        "country += country2\n",
        "country"
      ],
      "metadata": {
        "colab": {
          "base_uri": "https://localhost:8080/"
        },
        "id": "kqVSO6nwTurm",
        "outputId": "b3d63818-a039-4dab-dc44-b9befdf6b1e0"
      },
      "execution_count": null,
      "outputs": [
        {
          "output_type": "execute_result",
          "data": {
            "text/plain": [
              "['대한민국', '중국']"
            ]
          },
          "metadata": {},
          "execution_count": 6
        }
      ]
    },
    {
      "cell_type": "code",
      "source": [
        "country3 = ['일본']\n",
        "country3"
      ],
      "metadata": {
        "colab": {
          "base_uri": "https://localhost:8080/"
        },
        "id": "R6MDLwvzTxdX",
        "outputId": "3ab83903-f651-4b27-915a-78cffd829be8"
      },
      "execution_count": null,
      "outputs": [
        {
          "output_type": "execute_result",
          "data": {
            "text/plain": [
              "['일본']"
            ]
          },
          "metadata": {},
          "execution_count": 7
        }
      ]
    },
    {
      "cell_type": "code",
      "source": [
        "country.extend(country3)\n",
        "country"
      ],
      "metadata": {
        "colab": {
          "base_uri": "https://localhost:8080/"
        },
        "id": "luKteQv4T3yP",
        "outputId": "d3a1b664-ed2f-43f0-e43a-a0e960cda5f7"
      },
      "execution_count": null,
      "outputs": [
        {
          "output_type": "execute_result",
          "data": {
            "text/plain": [
              "['대한민국', '중국', '일본']"
            ]
          },
          "metadata": {},
          "execution_count": 8
        }
      ]
    },
    {
      "cell_type": "code",
      "source": [
        "country4 = [\"프랑스\", \"영국\", \"독일\"]\n",
        "country.extend(country4)\n",
        "country"
      ],
      "metadata": {
        "colab": {
          "base_uri": "https://localhost:8080/"
        },
        "id": "__CuVt-kT-Cf",
        "outputId": "35d50b76-bc0a-4602-8621-0290749d5cbf"
      },
      "execution_count": null,
      "outputs": [
        {
          "output_type": "execute_result",
          "data": {
            "text/plain": [
              "['대한민국', '중국', '일본', '프랑스', '영국', '독일']"
            ]
          },
          "metadata": {},
          "execution_count": 9
        }
      ]
    },
    {
      "cell_type": "code",
      "source": [
        "country.append('케냐')\n",
        "country"
      ],
      "metadata": {
        "colab": {
          "base_uri": "https://localhost:8080/"
        },
        "id": "iGJ_ryx_UOac",
        "outputId": "7aeb604e-ee83-4ff3-d6e6-202fe7f0cc0b"
      },
      "execution_count": null,
      "outputs": [
        {
          "output_type": "execute_result",
          "data": {
            "text/plain": [
              "['대한민국', '중국', '일본', '프랑스', '영국', '독일', '케냐']"
            ]
          },
          "metadata": {},
          "execution_count": 10
        }
      ]
    },
    {
      "cell_type": "code",
      "source": [
        "country.insert(0, '브라질')\n",
        "country"
      ],
      "metadata": {
        "colab": {
          "base_uri": "https://localhost:8080/"
        },
        "id": "YhvzjntgUUC3",
        "outputId": "5bff7697-ac37-483a-d546-a402b9022027"
      },
      "execution_count": null,
      "outputs": [
        {
          "output_type": "execute_result",
          "data": {
            "text/plain": [
              "['브라질', '대한민국', '중국', '일본', '프랑스', '영국', '독일', '케냐']"
            ]
          },
          "metadata": {},
          "execution_count": 11
        }
      ]
    },
    {
      "cell_type": "code",
      "source": [
        "country.insert(3, '아르헨티나')\n",
        "country"
      ],
      "metadata": {
        "colab": {
          "base_uri": "https://localhost:8080/"
        },
        "id": "4WL82HbDUcMP",
        "outputId": "dff302b0-a50b-438b-89bf-b90d1621af05"
      },
      "execution_count": null,
      "outputs": [
        {
          "output_type": "execute_result",
          "data": {
            "text/plain": [
              "['브라질', '대한민국', '중국', '아르헨티나', '일본', '프랑스', '영국', '독일', '케냐']"
            ]
          },
          "metadata": {},
          "execution_count": 12
        }
      ]
    },
    {
      "cell_type": "code",
      "source": [
        "country[4:4] = [\"미국\", \"캐나다\", \"멕시코\"]"
      ],
      "metadata": {
        "id": "DuRW2hYvUgmI"
      },
      "execution_count": null,
      "outputs": []
    },
    {
      "cell_type": "code",
      "source": [
        "country"
      ],
      "metadata": {
        "colab": {
          "base_uri": "https://localhost:8080/"
        },
        "id": "y8_Zclk3U1O3",
        "outputId": "579b5450-e2ee-424f-b510-31c104cbeb5f"
      },
      "execution_count": null,
      "outputs": [
        {
          "output_type": "execute_result",
          "data": {
            "text/plain": [
              "['브라질',\n",
              " '대한민국',\n",
              " '중국',\n",
              " '아르헨티나',\n",
              " '미국',\n",
              " '캐나다',\n",
              " '멕시코',\n",
              " '일본',\n",
              " '프랑스',\n",
              " '영국',\n",
              " '독일',\n",
              " '케냐']"
            ]
          },
          "metadata": {},
          "execution_count": 14
        }
      ]
    },
    {
      "cell_type": "code",
      "source": [
        "country.pop()"
      ],
      "metadata": {
        "colab": {
          "base_uri": "https://localhost:8080/",
          "height": 36
        },
        "id": "mtGxLm1gU67s",
        "outputId": "e44c7545-d535-48fc-c79a-a4090fe3504d"
      },
      "execution_count": null,
      "outputs": [
        {
          "output_type": "execute_result",
          "data": {
            "text/plain": [
              "'케냐'"
            ],
            "application/vnd.google.colaboratory.intrinsic+json": {
              "type": "string"
            }
          },
          "metadata": {},
          "execution_count": 15
        }
      ]
    },
    {
      "cell_type": "code",
      "source": [
        "print(country[-1])\n",
        "del country[-1]"
      ],
      "metadata": {
        "colab": {
          "base_uri": "https://localhost:8080/"
        },
        "id": "JVFEZtgZVpo2",
        "outputId": "9ce25ad8-be42-4a99-d6b1-301ed35cab99"
      },
      "execution_count": null,
      "outputs": [
        {
          "output_type": "stream",
          "name": "stdout",
          "text": [
            "독일\n"
          ]
        }
      ]
    },
    {
      "cell_type": "code",
      "source": [
        "country # \"최근 해외여행 발권 리스트\""
      ],
      "metadata": {
        "colab": {
          "base_uri": "https://localhost:8080/"
        },
        "id": "-HgDISTjVzDH",
        "outputId": "590af3ad-6057-4055-ada8-00f8d7c7210c"
      },
      "execution_count": null,
      "outputs": [
        {
          "output_type": "execute_result",
          "data": {
            "text/plain": [
              "['브라질', '대한민국', '중국', '아르헨티나', '미국', '캐나다', '멕시코', '일본', '프랑스', '영국']"
            ]
          },
          "metadata": {},
          "execution_count": 18
        }
      ]
    },
    {
      "cell_type": "code",
      "source": [
        "recent = country.pop()\n",
        "recent, country"
      ],
      "metadata": {
        "colab": {
          "base_uri": "https://localhost:8080/"
        },
        "id": "fI7S93gZWoCA",
        "outputId": "b936a4fd-5426-4229-d0a0-be4b6b1f3c38"
      },
      "execution_count": null,
      "outputs": [
        {
          "output_type": "execute_result",
          "data": {
            "text/plain": [
              "('영국', ['브라질', '대한민국', '중국', '아르헨티나', '미국', '캐나다', '멕시코', '일본', '프랑스'])"
            ]
          },
          "metadata": {},
          "execution_count": 19
        }
      ]
    },
    {
      "cell_type": "code",
      "source": [
        "recent = country.pop(1)\n",
        "recent, country"
      ],
      "metadata": {
        "colab": {
          "base_uri": "https://localhost:8080/"
        },
        "id": "KcqQstEcWrK_",
        "outputId": "f44b2e5d-ddc9-4dd8-9309-a9112009d7b8"
      },
      "execution_count": null,
      "outputs": [
        {
          "output_type": "execute_result",
          "data": {
            "text/plain": [
              "('대한민국', ['브라질', '중국', '아르헨티나', '미국', '캐나다', '멕시코', '일본', '프랑스'])"
            ]
          },
          "metadata": {},
          "execution_count": 20
        }
      ]
    },
    {
      "cell_type": "code",
      "source": [
        "country.remove('중국')\n",
        "country"
      ],
      "metadata": {
        "colab": {
          "base_uri": "https://localhost:8080/"
        },
        "id": "7kcHPspuW7tH",
        "outputId": "1b04e750-2d0d-4d73-e8c9-2a6137896688"
      },
      "execution_count": null,
      "outputs": [
        {
          "output_type": "execute_result",
          "data": {
            "text/plain": [
              "['브라질', '아르헨티나', '미국', '캐나다', '멕시코', '일본', '프랑스']"
            ]
          },
          "metadata": {},
          "execution_count": 21
        }
      ]
    },
    {
      "cell_type": "code",
      "source": [
        "country.remove('미국')"
      ],
      "metadata": {
        "id": "lCt1JMBxXLE2"
      },
      "execution_count": null,
      "outputs": []
    },
    {
      "cell_type": "code",
      "source": [
        "country"
      ],
      "metadata": {
        "colab": {
          "base_uri": "https://localhost:8080/"
        },
        "id": "yHPP1VeiXNgH",
        "outputId": "877017c0-c067-4ab1-c078-83706ac32c6c"
      },
      "execution_count": null,
      "outputs": [
        {
          "output_type": "execute_result",
          "data": {
            "text/plain": [
              "['브라질', '아르헨티나', '캐나다', '멕시코', '일본', '프랑스']"
            ]
          },
          "metadata": {},
          "execution_count": 23
        }
      ]
    },
    {
      "cell_type": "code",
      "source": [
        "country.insert(2, '독일')\n",
        "country.append('독일')\n",
        "country"
      ],
      "metadata": {
        "colab": {
          "base_uri": "https://localhost:8080/"
        },
        "id": "Y-f7cqGHXPD_",
        "outputId": "7ce2c402-0674-4d8c-8818-e147dc37e0b7"
      },
      "execution_count": null,
      "outputs": [
        {
          "output_type": "execute_result",
          "data": {
            "text/plain": [
              "['브라질', '아르헨티나', '독일', '캐나다', '멕시코', '일본', '프랑스', '독일']"
            ]
          },
          "metadata": {},
          "execution_count": 24
        }
      ]
    },
    {
      "cell_type": "code",
      "source": [
        "country.remove('독일')\n",
        "country"
      ],
      "metadata": {
        "colab": {
          "base_uri": "https://localhost:8080/"
        },
        "id": "su4SqoknXsvR",
        "outputId": "ac7bd5db-8cc3-4a0d-d47d-6cf927b7fe4e"
      },
      "execution_count": null,
      "outputs": [
        {
          "output_type": "execute_result",
          "data": {
            "text/plain": [
              "['브라질', '아르헨티나', '캐나다', '멕시코', '일본', '프랑스', '독일']"
            ]
          },
          "metadata": {},
          "execution_count": 25
        }
      ]
    },
    {
      "cell_type": "code",
      "source": [
        "# 캐나다 앞에 누락된 손님이 존재한다 -> 미국\n",
        "# 캐나다의 인덱스를 알아서, 그 인덱스에 '미국'을 insert 시켜줘야함 [i:i]\n",
        "country.index('캐나다')"
      ],
      "metadata": {
        "colab": {
          "base_uri": "https://localhost:8080/"
        },
        "id": "kinO4Y7cXy_w",
        "outputId": "696cc65a-f6a1-49d3-c286-384752f31325"
      },
      "execution_count": null,
      "outputs": [
        {
          "output_type": "execute_result",
          "data": {
            "text/plain": [
              "2"
            ]
          },
          "metadata": {},
          "execution_count": 26
        }
      ]
    },
    {
      "cell_type": "code",
      "source": [
        "country.insert(2, '미국')\n",
        "country"
      ],
      "metadata": {
        "colab": {
          "base_uri": "https://localhost:8080/"
        },
        "id": "emJDiNmfYKTJ",
        "outputId": "9cf88687-287c-4ec5-edd7-89c7725e26c1"
      },
      "execution_count": null,
      "outputs": [
        {
          "output_type": "execute_result",
          "data": {
            "text/plain": [
              "['브라질', '아르헨티나', '미국', '캐나다', '멕시코', '일본', '프랑스', '독일']"
            ]
          },
          "metadata": {},
          "execution_count": 27
        }
      ]
    },
    {
      "cell_type": "code",
      "source": [
        "country.extend([\"몰디브\"] * 10)\n",
        "country"
      ],
      "metadata": {
        "colab": {
          "base_uri": "https://localhost:8080/"
        },
        "id": "_SVogzzUYcBB",
        "outputId": "a05bd46d-b26a-416f-c159-3606b49eecf6"
      },
      "execution_count": null,
      "outputs": [
        {
          "output_type": "execute_result",
          "data": {
            "text/plain": [
              "['브라질',\n",
              " '아르헨티나',\n",
              " '미국',\n",
              " '캐나다',\n",
              " '멕시코',\n",
              " '일본',\n",
              " '프랑스',\n",
              " '독일',\n",
              " '몰디브',\n",
              " '몰디브',\n",
              " '몰디브',\n",
              " '몰디브',\n",
              " '몰디브',\n",
              " '몰디브',\n",
              " '몰디브',\n",
              " '몰디브',\n",
              " '몰디브',\n",
              " '몰디브']"
            ]
          },
          "metadata": {},
          "execution_count": 28
        }
      ]
    },
    {
      "cell_type": "code",
      "source": [
        "import random\n",
        "\n",
        "random.randint(1, 20)"
      ],
      "metadata": {
        "colab": {
          "base_uri": "https://localhost:8080/"
        },
        "id": "irBn0D6GYkmG",
        "outputId": "300ae28d-06ed-46aa-f33d-12c5ab54f4da"
      },
      "execution_count": null,
      "outputs": [
        {
          "output_type": "execute_result",
          "data": {
            "text/plain": [
              "2"
            ]
          },
          "metadata": {},
          "execution_count": 31
        }
      ]
    },
    {
      "cell_type": "code",
      "source": [
        "country.extend([\"괌\"] * random.randint(50, 200))\n",
        "country"
      ],
      "metadata": {
        "id": "NeNTiPtkYu_z"
      },
      "execution_count": null,
      "outputs": []
    },
    {
      "cell_type": "code",
      "source": [
        "country.count(\"괌\")"
      ],
      "metadata": {
        "colab": {
          "base_uri": "https://localhost:8080/"
        },
        "id": "BPOLi15CY2Kv",
        "outputId": "7e3ef253-7fb9-4fdc-a67e-23ae0b52b736"
      },
      "execution_count": null,
      "outputs": [
        {
          "output_type": "execute_result",
          "data": {
            "text/plain": [
              "138"
            ]
          },
          "metadata": {},
          "execution_count": 33
        }
      ]
    },
    {
      "cell_type": "code",
      "source": [
        "country = country[0:7:1]\n",
        "country"
      ],
      "metadata": {
        "colab": {
          "base_uri": "https://localhost:8080/"
        },
        "id": "W7zhipJ6ZCGB",
        "outputId": "f62e05de-8175-4919-89bf-f1d09d4285e5"
      },
      "execution_count": null,
      "outputs": [
        {
          "output_type": "execute_result",
          "data": {
            "text/plain": [
              "['브라질', '아르헨티나', '미국', '캐나다', '멕시코', '일본', '프랑스']"
            ]
          },
          "metadata": {},
          "execution_count": 34
        }
      ]
    },
    {
      "cell_type": "code",
      "source": [
        "country.reverse()\n",
        "country"
      ],
      "metadata": {
        "colab": {
          "base_uri": "https://localhost:8080/"
        },
        "id": "pfE7F8T1ZQPi",
        "outputId": "866fd167-32ee-4ece-ee89-cbb0af72faea"
      },
      "execution_count": null,
      "outputs": [
        {
          "output_type": "execute_result",
          "data": {
            "text/plain": [
              "['프랑스', '일본', '멕시코', '캐나다', '미국', '아르헨티나', '브라질']"
            ]
          },
          "metadata": {},
          "execution_count": 35
        }
      ]
    },
    {
      "cell_type": "code",
      "source": [
        "list(reversed(country))"
      ],
      "metadata": {
        "colab": {
          "base_uri": "https://localhost:8080/"
        },
        "id": "2B3uu00JcaDX",
        "outputId": "d2fa2854-cda1-45f4-eb65-c06902fd0a35"
      },
      "execution_count": null,
      "outputs": [
        {
          "output_type": "execute_result",
          "data": {
            "text/plain": [
              "['브라질', '아르헨티나', '미국', '캐나다', '멕시코', '일본', '프랑스']"
            ]
          },
          "metadata": {},
          "execution_count": 37
        }
      ]
    },
    {
      "cell_type": "code",
      "source": [
        "country[::-1]"
      ],
      "metadata": {
        "colab": {
          "base_uri": "https://localhost:8080/"
        },
        "id": "_Vx2vbm3chyX",
        "outputId": "e98bb6d2-8307-45f6-c3a4-5ca4c9605b2b"
      },
      "execution_count": null,
      "outputs": [
        {
          "output_type": "execute_result",
          "data": {
            "text/plain": [
              "['브라질', '아르헨티나', '미국', '캐나다', '멕시코', '일본', '프랑스']"
            ]
          },
          "metadata": {},
          "execution_count": 38
        }
      ]
    },
    {
      "cell_type": "code",
      "source": [
        "# 정렬 -> 오름차순, 내림차순. \n",
        "numbers = [random.randint(20, 200) for _ in range(10)]\n",
        "numbers"
      ],
      "metadata": {
        "colab": {
          "base_uri": "https://localhost:8080/"
        },
        "id": "PaZ7IBfhdXzj",
        "outputId": "7dcbf0e6-846d-46eb-d785-c52e80f26473"
      },
      "execution_count": null,
      "outputs": [
        {
          "output_type": "execute_result",
          "data": {
            "text/plain": [
              "[186, 191, 44, 152, 138, 44, 98, 54, 145, 139]"
            ]
          },
          "metadata": {},
          "execution_count": 41
        }
      ]
    },
    {
      "cell_type": "code",
      "source": [
        "numbers2 = numbers.copy()"
      ],
      "metadata": {
        "id": "gduB_hUBeLi2"
      },
      "execution_count": null,
      "outputs": []
    },
    {
      "cell_type": "code",
      "source": [
        "numbers2.sort() # reverse=False\n",
        "numbers2"
      ],
      "metadata": {
        "colab": {
          "base_uri": "https://localhost:8080/"
        },
        "id": "9jSNiCZ0euJg",
        "outputId": "e63fe811-a325-4614-d2fb-1138a6bef76f"
      },
      "execution_count": null,
      "outputs": [
        {
          "output_type": "execute_result",
          "data": {
            "text/plain": [
              "[44, 44, 54, 98, 138, 139, 145, 152, 186, 191]"
            ]
          },
          "metadata": {},
          "execution_count": 43
        }
      ]
    },
    {
      "cell_type": "code",
      "source": [
        "sorted(numbers), numbers"
      ],
      "metadata": {
        "colab": {
          "base_uri": "https://localhost:8080/"
        },
        "id": "zmw0inPaewQ_",
        "outputId": "70d5d8e7-b013-46b2-9344-6624d8c57685"
      },
      "execution_count": null,
      "outputs": [
        {
          "output_type": "execute_result",
          "data": {
            "text/plain": [
              "([44, 44, 54, 98, 138, 139, 145, 152, 186, 191],\n",
              " [186, 191, 44, 152, 138, 44, 98, 54, 145, 139])"
            ]
          },
          "metadata": {},
          "execution_count": 44
        }
      ]
    },
    {
      "cell_type": "code",
      "source": [
        "numbers2.sort(reverse=True)\n",
        "numbers2"
      ],
      "metadata": {
        "colab": {
          "base_uri": "https://localhost:8080/"
        },
        "id": "A0vsEsyYfAy8",
        "outputId": "7ed5a181-7361-48a4-eaa3-609a6c038eab"
      },
      "execution_count": null,
      "outputs": [
        {
          "output_type": "execute_result",
          "data": {
            "text/plain": [
              "[191, 186, 152, 145, 139, 138, 98, 54, 44, 44]"
            ]
          },
          "metadata": {},
          "execution_count": 45
        }
      ]
    },
    {
      "cell_type": "code",
      "source": [
        "sorted(numbers, reverse=True), numbers"
      ],
      "metadata": {
        "colab": {
          "base_uri": "https://localhost:8080/"
        },
        "id": "JkDXoKR8fMAU",
        "outputId": "44e20993-637f-4415-90df-c418efb45db8"
      },
      "execution_count": null,
      "outputs": [
        {
          "output_type": "execute_result",
          "data": {
            "text/plain": [
              "([191, 186, 152, 145, 139, 138, 98, 54, 44, 44],\n",
              " [186, 191, 44, 152, 138, 44, 98, 54, 145, 139])"
            ]
          },
          "metadata": {},
          "execution_count": 46
        }
      ]
    },
    {
      "cell_type": "code",
      "source": [
        "sorted(country), sorted(country, reverse=True)"
      ],
      "metadata": {
        "colab": {
          "base_uri": "https://localhost:8080/"
        },
        "id": "KxlYfbmFfOQA",
        "outputId": "7d0549b8-f6bc-433f-c304-6a53137c8a2b"
      },
      "execution_count": null,
      "outputs": [
        {
          "output_type": "execute_result",
          "data": {
            "text/plain": [
              "(['멕시코', '미국', '브라질', '아르헨티나', '일본', '캐나다', '프랑스'],\n",
              " ['프랑스', '캐나다', '일본', '아르헨티나', '브라질', '미국', '멕시코'])"
            ]
          },
          "metadata": {},
          "execution_count": 47
        }
      ]
    },
    {
      "cell_type": "code",
      "source": [
        "country2 = country.copy()\n",
        "country2"
      ],
      "metadata": {
        "colab": {
          "base_uri": "https://localhost:8080/"
        },
        "id": "nOrLamUOfdPr",
        "outputId": "aa0a88db-7eb4-4e21-888e-0c8a0e7c492e"
      },
      "execution_count": null,
      "outputs": [
        {
          "output_type": "execute_result",
          "data": {
            "text/plain": [
              "['프랑스', '일본', '멕시코', '캐나다', '미국', '아르헨티나', '브라질']"
            ]
          },
          "metadata": {},
          "execution_count": 48
        }
      ]
    },
    {
      "cell_type": "code",
      "source": [
        "country2.clear()"
      ],
      "metadata": {
        "id": "t2IvpAp5fhLf"
      },
      "execution_count": null,
      "outputs": []
    },
    {
      "cell_type": "code",
      "source": [
        "country2"
      ],
      "metadata": {
        "colab": {
          "base_uri": "https://localhost:8080/"
        },
        "id": "c9Lgp-Uyfi-Z",
        "outputId": "af048718-8f22-4cd2-a299-a0799dc2d8a7"
      },
      "execution_count": null,
      "outputs": [
        {
          "output_type": "execute_result",
          "data": {
            "text/plain": [
              "[]"
            ]
          },
          "metadata": {},
          "execution_count": 50
        }
      ]
    },
    {
      "cell_type": "code",
      "source": [
        "country2 = country.copy()\n",
        "country2"
      ],
      "metadata": {
        "colab": {
          "base_uri": "https://localhost:8080/"
        },
        "id": "ErmCPmJefmtj",
        "outputId": "359fc881-53ef-479b-e957-7b82e129e391"
      },
      "execution_count": null,
      "outputs": [
        {
          "output_type": "execute_result",
          "data": {
            "text/plain": [
              "['프랑스', '일본', '멕시코', '캐나다', '미국', '아르헨티나', '브라질']"
            ]
          },
          "metadata": {},
          "execution_count": 51
        }
      ]
    },
    {
      "cell_type": "code",
      "source": [
        "del country2[:]\n",
        "country2"
      ],
      "metadata": {
        "colab": {
          "base_uri": "https://localhost:8080/"
        },
        "id": "KKPZBALYfm6o",
        "outputId": "f4d4ec1a-00a0-4ec1-ca34-44cf9e5760ba"
      },
      "execution_count": null,
      "outputs": [
        {
          "output_type": "execute_result",
          "data": {
            "text/plain": [
              "[]"
            ]
          },
          "metadata": {},
          "execution_count": 52
        }
      ]
    },
    {
      "cell_type": "code",
      "source": [
        "for c in country:\n",
        "# for country in countries:\n",
        "    print(c)"
      ],
      "metadata": {
        "colab": {
          "base_uri": "https://localhost:8080/"
        },
        "id": "kS-T4wgefp8p",
        "outputId": "2a4cf2c8-4fce-4af1-b395-40ce3be86f49"
      },
      "execution_count": null,
      "outputs": [
        {
          "output_type": "stream",
          "name": "stdout",
          "text": [
            "프랑스\n",
            "일본\n",
            "멕시코\n",
            "캐나다\n",
            "미국\n",
            "아르헨티나\n",
            "브라질\n"
          ]
        }
      ]
    },
    {
      "cell_type": "code",
      "source": [
        "for c in sorted(country):\n",
        "# for country in countries:\n",
        "    print(c)"
      ],
      "metadata": {
        "colab": {
          "base_uri": "https://localhost:8080/"
        },
        "id": "j8HBXueyf-b3",
        "outputId": "65d840e5-c3c4-4001-a97d-ae9c63fdeced"
      },
      "execution_count": null,
      "outputs": [
        {
          "output_type": "stream",
          "name": "stdout",
          "text": [
            "멕시코\n",
            "미국\n",
            "브라질\n",
            "아르헨티나\n",
            "일본\n",
            "캐나다\n",
            "프랑스\n"
          ]
        }
      ]
    },
    {
      "cell_type": "code",
      "source": [
        "for c in country[::-1]:\n",
        "# for country in countries:\n",
        "    print(c)"
      ],
      "metadata": {
        "colab": {
          "base_uri": "https://localhost:8080/"
        },
        "id": "yqgBgdY9gDKw",
        "outputId": "8e20cb1a-7f8d-4616-f139-f5db6098dab8"
      },
      "execution_count": null,
      "outputs": [
        {
          "output_type": "stream",
          "name": "stdout",
          "text": [
            "브라질\n",
            "아르헨티나\n",
            "미국\n",
            "캐나다\n",
            "멕시코\n",
            "일본\n",
            "프랑스\n"
          ]
        }
      ]
    },
    {
      "cell_type": "code",
      "source": [
        "for i in enumerate(country):\n",
        "    print(i)"
      ],
      "metadata": {
        "colab": {
          "base_uri": "https://localhost:8080/"
        },
        "id": "UTg5nhPogKxp",
        "outputId": "4198d003-2dfd-4c0e-8c23-87f6a6ccc733"
      },
      "execution_count": null,
      "outputs": [
        {
          "output_type": "stream",
          "name": "stdout",
          "text": [
            "(0, '프랑스')\n",
            "(1, '일본')\n",
            "(2, '멕시코')\n",
            "(3, '캐나다')\n",
            "(4, '미국')\n",
            "(5, '아르헨티나')\n",
            "(6, '브라질')\n"
          ]
        }
      ]
    },
    {
      "cell_type": "code",
      "source": [
        "for idx, val in enumerate(country):\n",
        "    print(idx, val)"
      ],
      "metadata": {
        "colab": {
          "base_uri": "https://localhost:8080/"
        },
        "id": "CBGm_N1wgZtl",
        "outputId": "fc866d49-f309-4653-f2a4-a023a3b44f36"
      },
      "execution_count": null,
      "outputs": [
        {
          "output_type": "stream",
          "name": "stdout",
          "text": [
            "0 프랑스\n",
            "1 일본\n",
            "2 멕시코\n",
            "3 캐나다\n",
            "4 미국\n",
            "5 아르헨티나\n",
            "6 브라질\n"
          ]
        }
      ]
    },
    {
      "cell_type": "code",
      "source": [
        "for idx, val in enumerate(country):\n",
        "    # if idx % 2 == 0:\n",
        "    # if not(idx % 2):\n",
        "    #     print(idx, val)\n",
        "    if idx % 2: # 0보다 크다\n",
        "        continue\n",
        "    print(idx, val)"
      ],
      "metadata": {
        "colab": {
          "base_uri": "https://localhost:8080/"
        },
        "id": "KnWORhL1gdux",
        "outputId": "2e58a912-125e-45c4-a5b3-6ad4b81cb408"
      },
      "execution_count": null,
      "outputs": [
        {
          "output_type": "stream",
          "name": "stdout",
          "text": [
            "0 프랑스\n",
            "2 멕시코\n",
            "4 미국\n",
            "6 브라질\n"
          ]
        }
      ]
    },
    {
      "cell_type": "code",
      "source": [
        "for idx, val in enumerate(country):\n",
        "    if len(val) == 2:\n",
        "        print(idx, val)\n",
        "        break\n",
        "    print(\"진행...\", val)"
      ],
      "metadata": {
        "colab": {
          "base_uri": "https://localhost:8080/"
        },
        "id": "79zQBhv_hB1Q",
        "outputId": "4069ad56-b2d9-4ed7-e36c-26edcab3f888"
      },
      "execution_count": null,
      "outputs": [
        {
          "output_type": "stream",
          "name": "stdout",
          "text": [
            "진행... 프랑스\n",
            "1 일본\n"
          ]
        }
      ]
    },
    {
      "cell_type": "code",
      "source": [
        "numbers"
      ],
      "metadata": {
        "colab": {
          "base_uri": "https://localhost:8080/"
        },
        "id": "PKXp61rVhRpp",
        "outputId": "f829dd34-c4d7-4156-ebc1-9bb2012b4285"
      },
      "execution_count": null,
      "outputs": [
        {
          "output_type": "execute_result",
          "data": {
            "text/plain": [
              "[186, 191, 44, 152, 138, 44, 98, 54, 145, 139]"
            ]
          },
          "metadata": {},
          "execution_count": 62
        }
      ]
    },
    {
      "cell_type": "code",
      "source": [
        "lotto = random.choices(range(1, 46), k=6)\n",
        "lotto"
      ],
      "metadata": {
        "colab": {
          "base_uri": "https://localhost:8080/"
        },
        "id": "ZxMoonvehgEq",
        "outputId": "900d2dde-f82b-4dda-a267-dae442f9c2ad"
      },
      "execution_count": null,
      "outputs": [
        {
          "output_type": "execute_result",
          "data": {
            "text/plain": [
              "[33, 9, 45, 18, 37, 42]"
            ]
          },
          "metadata": {},
          "execution_count": 68
        }
      ]
    },
    {
      "cell_type": "code",
      "source": [
        "max(lotto), min(lotto), sum(lotto)"
      ],
      "metadata": {
        "colab": {
          "base_uri": "https://localhost:8080/"
        },
        "id": "xZdFu3fmh2MH",
        "outputId": "1cf17756-b61c-4f60-d329-856c102d7204"
      },
      "execution_count": null,
      "outputs": [
        {
          "output_type": "execute_result",
          "data": {
            "text/plain": [
              "(45, 9, 184)"
            ]
          },
          "metadata": {},
          "execution_count": 70
        }
      ]
    },
    {
      "cell_type": "code",
      "source": [
        "rc = random.choices(range(1, 21), k=20)\n",
        "rc"
      ],
      "metadata": {
        "colab": {
          "base_uri": "https://localhost:8080/"
        },
        "id": "O9Aj2GiKh8gn",
        "outputId": "20727636-9f53-43b0-c87b-d47eb77c7bbe"
      },
      "execution_count": null,
      "outputs": [
        {
          "output_type": "execute_result",
          "data": {
            "text/plain": [
              "[17, 7, 3, 2, 9, 6, 15, 5, 20, 3, 13, 5, 2, 7, 10, 4, 11, 17, 13, 16]"
            ]
          },
          "metadata": {},
          "execution_count": 71
        }
      ]
    },
    {
      "cell_type": "code",
      "source": [
        "lunch = [(rc[i], rc[i+1]) for i in range(0,len(rc),2)]\n",
        "lunch"
      ],
      "metadata": {
        "colab": {
          "base_uri": "https://localhost:8080/"
        },
        "id": "m-NvwJ8KiZaL",
        "outputId": "d42fc01e-2988-4e57-9755-2d9643ab1a0d"
      },
      "execution_count": null,
      "outputs": [
        {
          "output_type": "execute_result",
          "data": {
            "text/plain": [
              "[(17, 7),\n",
              " (3, 2),\n",
              " (9, 6),\n",
              " (15, 5),\n",
              " (20, 3),\n",
              " (13, 5),\n",
              " (2, 7),\n",
              " (10, 4),\n",
              " (11, 17),\n",
              " (13, 16)]"
            ]
          },
          "metadata": {},
          "execution_count": 72
        }
      ]
    },
    {
      "cell_type": "code",
      "source": [
        "# 랜덤으로 뽑은 20명의 번호를, 2명씩 묶고 싶다\n",
        "lunch2 = []\n",
        "for i in range(0,len(rc), 2): # 20명이 랜덤하게 뽑힌 리스트를 for문으로 반복, 0부터 시작하고, 전체길이의, 증가폭 2인 range\n",
        "    # lunch2.append(rc[i]) # 인덱스가 짝수번째인 값\n",
        "    # lunch2.append(rc[i+1]) # 인덱스가 홀수번째인 값\n",
        "    # tmp = [rc[i], rc[i+1]]\n",
        "    tmp = (rc[i], rc[i+1])\n",
        "    lunch2.append(tmp)\n",
        "lunch2"
      ],
      "metadata": {
        "colab": {
          "base_uri": "https://localhost:8080/"
        },
        "id": "bIiKWdKii6HV",
        "outputId": "20b682e5-abe9-4546-ba8a-fc20f62cfb51"
      },
      "execution_count": null,
      "outputs": [
        {
          "output_type": "execute_result",
          "data": {
            "text/plain": [
              "[(17, 7),\n",
              " (3, 2),\n",
              " (9, 6),\n",
              " (15, 5),\n",
              " (20, 3),\n",
              " (13, 5),\n",
              " (2, 7),\n",
              " (10, 4),\n",
              " (11, 17),\n",
              " (13, 16)]"
            ]
          },
          "metadata": {},
          "execution_count": 75
        }
      ]
    },
    {
      "cell_type": "code",
      "source": [
        "# 랜덤으로 뽑은 20명의 번호를, 2명씩 묶고 싶다\n",
        "lunch3 = []\n",
        "for i in range(0,len(rc)): # 20명이 랜덤하게 뽑힌 리스트를 for문으로 반복, 0부터 시작하고, 전체길이의, 증가폭 2인 range\n",
        "    # tmp = [rc[i], rc[i+1]]\n",
        "    # if i % 2: # i % 2 : 짝수가 아니다 -> 나머지가 1 나오면 True -> 홀수 일때\n",
        "    #     continue\n",
        "    # tmp = (rc[i], rc[i+1])\n",
        "    # lunch3.append(tmp)\n",
        "    if not i % 2: # i % 2 : 짝수가 아니다 -> 나머지가 1 나오면 True -> 홀수 일때\n",
        "        lunch3.append((rc[i], rc[i+1]))\n",
        "lunch3"
      ],
      "metadata": {
        "colab": {
          "base_uri": "https://localhost:8080/"
        },
        "id": "i7Q99d_djrAZ",
        "outputId": "86e645ce-55cf-48ad-f3d4-a19aab0c1bfb"
      },
      "execution_count": null,
      "outputs": [
        {
          "output_type": "execute_result",
          "data": {
            "text/plain": [
              "[(17, 7),\n",
              " (3, 2),\n",
              " (9, 6),\n",
              " (15, 5),\n",
              " (20, 3),\n",
              " (13, 5),\n",
              " (2, 7),\n",
              " (10, 4),\n",
              " (11, 17),\n",
              " (13, 16)]"
            ]
          },
          "metadata": {},
          "execution_count": 76
        }
      ]
    },
    {
      "cell_type": "code",
      "source": [
        "# lunch = [(rc[i], rc[i+1]) for i in range(len(rc)) if i % 2 == 0]\n",
        "lunch = [(rc[i], rc[i+1]) for i in range(len(rc)) if not i % 2]\n",
        "lunch"
      ],
      "metadata": {
        "colab": {
          "base_uri": "https://localhost:8080/"
        },
        "id": "ZrkVm-pskkM3",
        "outputId": "a47a5b87-3716-4313-862e-9bded9978c09"
      },
      "execution_count": null,
      "outputs": [
        {
          "output_type": "execute_result",
          "data": {
            "text/plain": [
              "[(17, 7),\n",
              " (3, 2),\n",
              " (9, 6),\n",
              " (15, 5),\n",
              " (20, 3),\n",
              " (13, 5),\n",
              " (2, 7),\n",
              " (10, 4),\n",
              " (11, 17),\n",
              " (13, 16)]"
            ]
          },
          "metadata": {},
          "execution_count": 78
        }
      ]
    },
    {
      "cell_type": "markdown",
      "source": [
        "# 문자열"
      ],
      "metadata": {
        "id": "iw1sw7RwlXgQ"
      }
    },
    {
      "cell_type": "code",
      "source": [
        "s = \"오늘의 점심은 돈까스입니다\"\n",
        "s"
      ],
      "metadata": {
        "colab": {
          "base_uri": "https://localhost:8080/",
          "height": 36
        },
        "id": "LgHeM64Akvj4",
        "outputId": "985577e8-eecd-4a1f-ee06-3dbc5bf87add"
      },
      "execution_count": null,
      "outputs": [
        {
          "output_type": "execute_result",
          "data": {
            "text/plain": [
              "'오늘의 점심은 돈까스입니다'"
            ],
            "application/vnd.google.colaboratory.intrinsic+json": {
              "type": "string"
            }
          },
          "metadata": {},
          "execution_count": 79
        }
      ]
    },
    {
      "cell_type": "code",
      "source": [
        "s.replace(\"점심\", \"저녁\"), s"
      ],
      "metadata": {
        "colab": {
          "base_uri": "https://localhost:8080/"
        },
        "id": "vvJs3IGAlgrP",
        "outputId": "a615917d-f73f-4225-fa15-1c71db0572e5"
      },
      "execution_count": null,
      "outputs": [
        {
          "output_type": "execute_result",
          "data": {
            "text/plain": [
              "('오늘의 저녁은 돈까스입니다', '오늘의 점심은 돈까스입니다')"
            ]
          },
          "metadata": {},
          "execution_count": 80
        }
      ]
    },
    {
      "cell_type": "code",
      "source": [
        "s2 = \"오늘의 점심은 돈까스입니다, 오늘의 저녁은 돈까스입니다\"\n",
        "s2"
      ],
      "metadata": {
        "colab": {
          "base_uri": "https://localhost:8080/",
          "height": 36
        },
        "id": "EuvUajP0lp_g",
        "outputId": "2f8ce034-f4ac-4fe8-f13f-03bd51489911"
      },
      "execution_count": null,
      "outputs": [
        {
          "output_type": "execute_result",
          "data": {
            "text/plain": [
              "'오늘의 점심은 돈까스입니다, 오늘의 저녁은 돈까스입니다'"
            ],
            "application/vnd.google.colaboratory.intrinsic+json": {
              "type": "string"
            }
          },
          "metadata": {},
          "execution_count": 81
        }
      ]
    },
    {
      "cell_type": "code",
      "source": [
        "s2.replace(\"돈까스\", \"파스타\"), s2"
      ],
      "metadata": {
        "colab": {
          "base_uri": "https://localhost:8080/"
        },
        "id": "8vQtd4xXlzkY",
        "outputId": "45af92c8-1dee-4078-a93c-c3404825cf2f"
      },
      "execution_count": null,
      "outputs": [
        {
          "output_type": "execute_result",
          "data": {
            "text/plain": [
              "('오늘의 점심은 파스타입니다, 오늘의 저녁은 파스타입니다', '오늘의 점심은 돈까스입니다, 오늘의 저녁은 돈까스입니다')"
            ]
          },
          "metadata": {},
          "execution_count": 83
        }
      ]
    },
    {
      "cell_type": "code",
      "source": [
        "s2.replace(\"돈까스\", \"파스타\", 1)"
      ],
      "metadata": {
        "colab": {
          "base_uri": "https://localhost:8080/",
          "height": 36
        },
        "id": "2_vUszwXmAef",
        "outputId": "9a84fe2d-3173-416b-d212-031cbfae4df4"
      },
      "execution_count": null,
      "outputs": [
        {
          "output_type": "execute_result",
          "data": {
            "text/plain": [
              "'오늘의 점심은 파스타입니다, 오늘의 저녁은 돈까스입니다'"
            ],
            "application/vnd.google.colaboratory.intrinsic+json": {
              "type": "string"
            }
          },
          "metadata": {},
          "execution_count": 85
        }
      ]
    },
    {
      "cell_type": "code",
      "source": [
        "txt = \"비트코인 이더리움 리플\"\n",
        "txt.split(), txt # sep = 구분자 => ' '"
      ],
      "metadata": {
        "colab": {
          "base_uri": "https://localhost:8080/"
        },
        "id": "K8PX_W6ymKau",
        "outputId": "a1d1ce88-08ff-44dc-a267-1497ade2f071"
      },
      "execution_count": null,
      "outputs": [
        {
          "output_type": "execute_result",
          "data": {
            "text/plain": [
              "(['비트코인', '이더리움', '리플'], '비트코인 이더리움 리플')"
            ]
          },
          "metadata": {},
          "execution_count": 86
        }
      ]
    },
    {
      "cell_type": "code",
      "source": [
        "txt2 = \"비트코인,이더리움,리플\"\n",
        "txt2.split(','), txt2.split(sep=',')"
      ],
      "metadata": {
        "colab": {
          "base_uri": "https://localhost:8080/"
        },
        "id": "LUNWnDzEmRjo",
        "outputId": "d32724d5-7052-4f66-d9ac-66898e65aaf8"
      },
      "execution_count": null,
      "outputs": [
        {
          "output_type": "execute_result",
          "data": {
            "text/plain": [
              "(['비트코인', '이더리움', '리플'], ['비트코인', '이더리움', '리플'])"
            ]
          },
          "metadata": {},
          "execution_count": 87
        }
      ]
    },
    {
      "cell_type": "code",
      "source": [
        "txt.split('')"
      ],
      "metadata": {
        "colab": {
          "base_uri": "https://localhost:8080/",
          "height": 176
        },
        "id": "xeFr9EqumgkE",
        "outputId": "d5fa1c28-619d-4bed-ddba-86deb1d2e23e"
      },
      "execution_count": null,
      "outputs": [
        {
          "output_type": "error",
          "ename": "ValueError",
          "evalue": "ignored",
          "traceback": [
            "\u001b[0;31m---------------------------------------------------------------------------\u001b[0m",
            "\u001b[0;31mValueError\u001b[0m                                Traceback (most recent call last)",
            "\u001b[0;32m<ipython-input-88-8a8c7561b326>\u001b[0m in \u001b[0;36m<module>\u001b[0;34m\u001b[0m\n\u001b[0;32m----> 1\u001b[0;31m \u001b[0mtxt\u001b[0m\u001b[0;34m.\u001b[0m\u001b[0msplit\u001b[0m\u001b[0;34m(\u001b[0m\u001b[0;34m''\u001b[0m\u001b[0;34m)\u001b[0m\u001b[0;34m\u001b[0m\u001b[0;34m\u001b[0m\u001b[0m\n\u001b[0m",
            "\u001b[0;31mValueError\u001b[0m: empty separator"
          ]
        }
      ]
    },
    {
      "cell_type": "code",
      "source": [
        "[i for i in s] # 리스트 컴프리헨션하면 -> 문자열이 한 글자씩 쪼개신 글자가 됨"
      ],
      "metadata": {
        "colab": {
          "base_uri": "https://localhost:8080/"
        },
        "id": "3jZKEoOQmjlK",
        "outputId": "82c6c086-db7d-4bea-abb0-e4a5325499c3"
      },
      "execution_count": null,
      "outputs": [
        {
          "output_type": "execute_result",
          "data": {
            "text/plain": [
              "['오', '늘', '의', ' ', '점', '심', '은', ' ', '돈', '까', '스', '입', '니', '다']"
            ]
          },
          "metadata": {},
          "execution_count": 89
        }
      ]
    },
    {
      "cell_type": "code",
      "source": [
        "sep = [i for i in s]\n",
        "sep"
      ],
      "metadata": {
        "colab": {
          "base_uri": "https://localhost:8080/"
        },
        "id": "E-YZbG7YmxaW",
        "outputId": "220d196f-42e3-451a-80be-8dccd0c679f5"
      },
      "execution_count": null,
      "outputs": [
        {
          "output_type": "execute_result",
          "data": {
            "text/plain": [
              "['오', '늘', '의', ' ', '점', '심', '은', ' ', '돈', '까', '스', '입', '니', '다']"
            ]
          },
          "metadata": {},
          "execution_count": 90
        }
      ]
    },
    {
      "cell_type": "code",
      "source": [
        "sep.join(\"\")"
      ],
      "metadata": {
        "colab": {
          "base_uri": "https://localhost:8080/",
          "height": 176
        },
        "id": "y8r6gdqim1KN",
        "outputId": "d021aca2-4e41-49bc-b22d-63232baac52d"
      },
      "execution_count": null,
      "outputs": [
        {
          "output_type": "error",
          "ename": "AttributeError",
          "evalue": "ignored",
          "traceback": [
            "\u001b[0;31m---------------------------------------------------------------------------\u001b[0m",
            "\u001b[0;31mAttributeError\u001b[0m                            Traceback (most recent call last)",
            "\u001b[0;32m<ipython-input-91-abed9e2ba3e3>\u001b[0m in \u001b[0;36m<module>\u001b[0;34m\u001b[0m\n\u001b[0;32m----> 1\u001b[0;31m \u001b[0msep\u001b[0m\u001b[0;34m.\u001b[0m\u001b[0mjoin\u001b[0m\u001b[0;34m(\u001b[0m\u001b[0;34m\"\"\u001b[0m\u001b[0;34m)\u001b[0m\u001b[0;34m\u001b[0m\u001b[0;34m\u001b[0m\u001b[0m\n\u001b[0m",
            "\u001b[0;31mAttributeError\u001b[0m: 'list' object has no attribute 'join'"
          ]
        }
      ]
    },
    {
      "cell_type": "code",
      "source": [
        "\"\".join(sep)"
      ],
      "metadata": {
        "colab": {
          "base_uri": "https://localhost:8080/",
          "height": 36
        },
        "id": "OYTxAQHCm3po",
        "outputId": "d3e80021-ad3f-4402-c60d-c3d2dec9243f"
      },
      "execution_count": null,
      "outputs": [
        {
          "output_type": "execute_result",
          "data": {
            "text/plain": [
              "'오늘의 점심은 돈까스입니다'"
            ],
            "application/vnd.google.colaboratory.intrinsic+json": {
              "type": "string"
            }
          },
          "metadata": {},
          "execution_count": 92
        }
      ]
    },
    {
      "cell_type": "code",
      "source": [
        "\";\".join(sep)"
      ],
      "metadata": {
        "colab": {
          "base_uri": "https://localhost:8080/",
          "height": 36
        },
        "id": "ASiQrzy4m_dp",
        "outputId": "4c3b3136-a3f1-4403-faee-6b42561cd515"
      },
      "execution_count": null,
      "outputs": [
        {
          "output_type": "execute_result",
          "data": {
            "text/plain": [
              "'오;늘;의; ;점;심;은; ;돈;까;스;입;니;다'"
            ],
            "application/vnd.google.colaboratory.intrinsic+json": {
              "type": "string"
            }
          },
          "metadata": {},
          "execution_count": 93
        }
      ]
    },
    {
      "cell_type": "code",
      "source": [
        "\"$\".join(sep)"
      ],
      "metadata": {
        "colab": {
          "base_uri": "https://localhost:8080/",
          "height": 36
        },
        "id": "D0c0VgmanEfp",
        "outputId": "c327b409-072b-428b-dffc-450dd019bedc"
      },
      "execution_count": null,
      "outputs": [
        {
          "output_type": "execute_result",
          "data": {
            "text/plain": [
              "'오$늘$의$ $점$심$은$ $돈$까$스$입$니$다'"
            ],
            "application/vnd.google.colaboratory.intrinsic+json": {
              "type": "string"
            }
          },
          "metadata": {},
          "execution_count": 94
        }
      ]
    },
    {
      "cell_type": "code",
      "source": [
        "a = \"JamesPotato\"\n",
        "a.upper(), a.lower()"
      ],
      "metadata": {
        "colab": {
          "base_uri": "https://localhost:8080/"
        },
        "id": "DudnFiVpnH3R",
        "outputId": "b8ecefa4-8bee-4f24-ac42-dc870ea33800"
      },
      "execution_count": null,
      "outputs": [
        {
          "output_type": "execute_result",
          "data": {
            "text/plain": [
              "('JAMESPOTATO', 'jamespotato')"
            ]
          },
          "metadata": {},
          "execution_count": 95
        }
      ]
    },
    {
      "cell_type": "code",
      "source": [
        "space = \"         공백이 많다      \"\n",
        "space.strip(), space.lstrip(), space.rstrip()"
      ],
      "metadata": {
        "colab": {
          "base_uri": "https://localhost:8080/"
        },
        "id": "uRzQqWvznPL0",
        "outputId": "41908788-5c5b-45c0-cdcd-ea334d9311b5"
      },
      "execution_count": null,
      "outputs": [
        {
          "output_type": "execute_result",
          "data": {
            "text/plain": [
              "('공백이 많다', '공백이 많다      ', '         공백이 많다')"
            ]
          },
          "metadata": {},
          "execution_count": 96
        }
      ]
    },
    {
      "cell_type": "code",
      "source": [
        "a = \"35\"\n",
        "a.zfill(6)"
      ],
      "metadata": {
        "colab": {
          "base_uri": "https://localhost:8080/",
          "height": 36
        },
        "id": "hfuTMMj6nVH4",
        "outputId": "85efe916-7ddd-4bde-aba5-d7061695292e"
      },
      "execution_count": null,
      "outputs": [
        {
          "output_type": "execute_result",
          "data": {
            "text/plain": [
              "'000035'"
            ],
            "application/vnd.google.colaboratory.intrinsic+json": {
              "type": "string"
            }
          },
          "metadata": {},
          "execution_count": 97
        }
      ]
    },
    {
      "cell_type": "code",
      "source": [
        "s = \"안녕 나는 지리산 감자야\"\n",
        "s.find(\"감자\")"
      ],
      "metadata": {
        "colab": {
          "base_uri": "https://localhost:8080/"
        },
        "id": "HhQVUOKAndnT",
        "outputId": "e4267de8-6b5b-4868-eea0-b2d419332479"
      },
      "execution_count": null,
      "outputs": [
        {
          "output_type": "execute_result",
          "data": {
            "text/plain": [
              "10"
            ]
          },
          "metadata": {},
          "execution_count": 98
        }
      ]
    },
    {
      "cell_type": "code",
      "source": [
        "s = \"안녕, 속리산 감자야! 나는 지리산 감자야\"\n",
        "s.find(\"감자\")"
      ],
      "metadata": {
        "colab": {
          "base_uri": "https://localhost:8080/"
        },
        "id": "Y5Eaxt99niQ5",
        "outputId": "b7c997f2-626f-46bf-f429-b3a88946a6a2"
      },
      "execution_count": null,
      "outputs": [
        {
          "output_type": "execute_result",
          "data": {
            "text/plain": [
              "8"
            ]
          },
          "metadata": {},
          "execution_count": 99
        }
      ]
    },
    {
      "cell_type": "code",
      "source": [
        "s = \"안녕, 속리산 감자야! 나는 지리산 감자야\"\n",
        "s.find(\"고구마\")"
      ],
      "metadata": {
        "colab": {
          "base_uri": "https://localhost:8080/"
        },
        "id": "3OJavRpJnmhA",
        "outputId": "201a07db-4160-404b-96e8-816d55589899"
      },
      "execution_count": null,
      "outputs": [
        {
          "output_type": "execute_result",
          "data": {
            "text/plain": [
              "-1"
            ]
          },
          "metadata": {},
          "execution_count": 100
        }
      ]
    },
    {
      "cell_type": "code",
      "source": [
        "s = \"안녕, 속리산 감자야! 나는 지리산 감자야\"\n",
        "s.count(\"감자\")"
      ],
      "metadata": {
        "colab": {
          "base_uri": "https://localhost:8080/"
        },
        "id": "ujJpgoSfnpdW",
        "outputId": "01116bab-c83f-425b-e740-0a17ce93be86"
      },
      "execution_count": null,
      "outputs": [
        {
          "output_type": "execute_result",
          "data": {
            "text/plain": [
              "2"
            ]
          },
          "metadata": {},
          "execution_count": 101
        }
      ]
    },
    {
      "cell_type": "code",
      "source": [
        "s = \"안녕, 속리산 감자야! 나는 지리산 감자야\"\n",
        "s.count(\"고구마\")"
      ],
      "metadata": {
        "colab": {
          "base_uri": "https://localhost:8080/"
        },
        "id": "SDN8b-RjnsUA",
        "outputId": "d326a04a-63b4-47c5-9173-a24089416f8c"
      },
      "execution_count": null,
      "outputs": [
        {
          "output_type": "execute_result",
          "data": {
            "text/plain": [
              "0"
            ]
          },
          "metadata": {},
          "execution_count": 102
        }
      ]
    }
  ]
}