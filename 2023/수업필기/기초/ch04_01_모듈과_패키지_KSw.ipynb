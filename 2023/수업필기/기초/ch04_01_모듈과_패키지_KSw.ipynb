{
  "nbformat": 4,
  "nbformat_minor": 0,
  "metadata": {
    "colab": {
      "provenance": [],
      "include_colab_link": true
    },
    "kernelspec": {
      "name": "python3",
      "display_name": "Python 3"
    },
    "language_info": {
      "name": "python"
    }
  },
  "cells": [
    {
      "cell_type": "markdown",
      "metadata": {
        "id": "view-in-github",
        "colab_type": "text"
      },
      "source": [
        "<a href=\"https://colab.research.google.com/github/JoySoon/Python_BigData23th/blob/backup/submission/JoySoon/ch04_01_%EB%AA%A8%EB%93%88%EA%B3%BC_%ED%8C%A8%ED%82%A4%EC%A7%80_KSw.ipynb\" target=\"_parent\"><img src=\"https://colab.research.google.com/assets/colab-badge.svg\" alt=\"Open In Colab\"/></a>"
      ]
    },
    {
      "cell_type": "markdown",
      "source": [
        "# 모듈과 패키지"
      ],
      "metadata": {
        "id": "wv5OuXLETrnz"
      }
    },
    {
      "cell_type": "markdown",
      "source": [
        "지금까지 파이썬 코드를 작성하면서 input, print 등의 내장 함수(built-in function)를 주로 사용했는데, 내장 함수만으로는 할 수 있는게 별로 없습니다. 그래서 좀 더 복잡한 프로그램을 만들려면 파이썬의 모듈과 패키지를 사용해야 합니다. 우리가 책 중간 중간에 사용했던 random, math 등이 바로 모듈과 패키지입니다.\n",
        "\n",
        "모듈(module)은 각종 변수, 함수, 클래스를 담고 있는 파일이고, 패키지(package)는 여러 모듈을 묶은 것입니다. 파이썬을 설치할 때 다양한 모듈과 패키지가 기본으로 설치됩니다. 만약 기본 모듈과 패키지로 부족하다면 다른 사람이 만든 유명 모듈과 패키지를 설치해서 쓸 수도 있습니다."
      ],
      "metadata": {
        "id": "nELzChJaTwoZ"
      }
    },
    {
      "cell_type": "markdown",
      "source": [
        "### 모듈, 패키지, 라이브러리"
      ],
      "metadata": {
        "id": "kC1KfQa_T1p_"
      }
    },
    {
      "cell_type": "markdown",
      "source": [
        "\n",
        "파이썬을 배우다 보면 모듈, 패키지, 파이썬 표준 라이브러리와 같은 용어를 접하게 되는데 서로 비슷한 개념이지만 약간의 차이가 있습니다.\n",
        "\n",
        "모듈: 특정 기능을 .py 파일 단위로 작성한 것입니다.\n",
        "\n",
        "패키지: 특정 기능과 관련된 여러 모듈을 묶은 것입니다. 패키지는 모듈에 네임스페이스(namespace, 이름공간)를 제공합니다.\n",
        "\n",
        "파이썬 표준 라이브러리: 파이썬에 기본으로 설치된 모듈과 패키지, 내장 함수를 묶어서 파이썬 표준 라이브러리(Python Standard Library, PSL)라 부릅니다."
      ],
      "metadata": {
        "id": "9cmMgcE6T03U"
      }
    },
    {
      "cell_type": "markdown",
      "source": [
        "## 프레임워크(Framework)\n",
        "> 프레임워크는 어떤 작업을 수행하기 위한 뼈대나 틀을 제공합니다. 개발자는 프레임워크가 제공하는 구조와 규칙에 따라 코드를 작성해야 합니다. 대표적인 예시로는 Spring Framework, Django, Ruby on Rails 등이 있습니다.\n",
        "\n",
        "## 라이브러리(Library)\n",
        "> 라이브러리는 자주 사용되는 코드를 묶어서 제공하는 것입니다. 개발자는 라이브러리의 함수와 클래스를 호출하여 사용할 수 있습니다. 대표적인 예시로는 NumPy, Pandas, React 등이 있습니다.\n",
        "\n",
        "## 패키지(Package)\n",
        "> 패키지는 관련된 모듈을 모아놓은 디렉토리입니다. 패키지 내부에는 모듈 파일(.py)이 포함될 수 있습니다. 패키지는 보통 라이브러리와 함께 사용되며, 라이브러리 내부에서 여러 개의 패키지를 가질 수 있습니다.\n",
        "\n",
        "## 모듈(Module)\n",
        "> 모듈은 하나의 파일(.py)로 구성되어 있는 코드 단위입니다. 모듈은 다른 모듈이나 프로그램에서 재사용될 수 있으며, 모듈 내부에는 함수, 클래스, 변수 등이 포함될 수 있습니다. 모듈은 보통 패키지 내부에 포함되어 사용됩니다.\n",
        "\n",
        "따라서, 이들 용어는 각각 다른 개념이지만 서로 연관되어 사용될 수 있습니다. 예를 들어, 프레임워크는 라이브러리와 패키지를 사용하여 개발자가 프레임워크가 제공하는 구조에 맞추어 코드를 작성하도록 유도할 수 있습니다. 라이브러리는 패키지와 모듈로 구성되며, 모듈은 다른 모듈이나 프로그램에서 재사용될 수 있습니다."
      ],
      "metadata": {
        "id": "yE-UmfiiMXUO"
      }
    },
    {
      "cell_type": "markdown",
      "source": [
        "## import로 모듈 가져오기"
      ],
      "metadata": {
        "id": "Gm-o8YgZTuGJ"
      }
    },
    {
      "cell_type": "markdown",
      "source": [
        "모듈은 import 키워드로 가져올 수 있습니다(모듈을 여러 개 가져올 때는 모듈을 콤마로 구분).\n",
        "\n",
        "* import 모듈\n",
        "* import 모듈1, 모듈2\n",
        "* 모듈.변수\n",
        "* 모듈.함수()\n",
        "* 모듈.클래스()"
      ],
      "metadata": {
        "id": "ERT_81zvT7lh"
      }
    },
    {
      "cell_type": "code",
      "execution_count": null,
      "metadata": {
        "colab": {
          "base_uri": "https://localhost:8080/"
        },
        "id": "kZbgt9YUTaN7",
        "outputId": "dd9a2de1-897a-4d16-d0cb-c12d7bb82808"
      },
      "outputs": [
        {
          "output_type": "execute_result",
          "data": {
            "text/plain": [
              "3.141592653589793"
            ]
          },
          "metadata": {},
          "execution_count": 2
        }
      ],
      "source": [
        "import math\n",
        "\n",
        "math.pi"
      ]
    },
    {
      "cell_type": "markdown",
      "source": [
        "import에 모듈 이름을 지정하면 해당 모듈을 가져올 수 있으며 math.pi와 같이 **모듈.변수** 형식으로 모듈의 변수를 사용합니다."
      ],
      "metadata": {
        "id": "gm2GXGp0UAyu"
      }
    },
    {
      "cell_type": "code",
      "source": [
        "import random\n",
        "\n",
        "random.choice(range(0, 45))"
      ],
      "metadata": {
        "colab": {
          "base_uri": "https://localhost:8080/"
        },
        "id": "OhO7EVnET_pv",
        "outputId": "04c950b6-6c1b-4314-fbd1-bc70980ab4a1"
      },
      "execution_count": null,
      "outputs": [
        {
          "output_type": "execute_result",
          "data": {
            "text/plain": [
              "27"
            ]
          },
          "metadata": {},
          "execution_count": 3
        }
      ]
    },
    {
      "cell_type": "code",
      "source": [
        "import collections\n",
        "\n",
        "collections.Counter([\"a\", \"a\", \"b\"])"
      ],
      "metadata": {
        "colab": {
          "base_uri": "https://localhost:8080/"
        },
        "id": "OCoXBxOtMxo5",
        "outputId": "adf24093-0aaa-4991-b953-6a73484fe3f6"
      },
      "execution_count": null,
      "outputs": [
        {
          "output_type": "execute_result",
          "data": {
            "text/plain": [
              "Counter({'a': 2, 'b': 1})"
            ]
          },
          "metadata": {},
          "execution_count": 24
        }
      ]
    },
    {
      "cell_type": "markdown",
      "source": [
        "모듈의 함수는 **모듈.함수()** 형식으로 사용합니다."
      ],
      "metadata": {
        "id": "a-DDzYVaUI2J"
      }
    },
    {
      "cell_type": "markdown",
      "source": [
        "### import as로 모듈 이름 지정하기"
      ],
      "metadata": {
        "id": "bSAkwY1MUM_9"
      }
    },
    {
      "cell_type": "markdown",
      "source": [
        "모듈의 함수를 사용할 때 math.sqrt처럼 일일이 math를 입력하기 귀찮은 사람도 있겠죠? 이때는 import as를 사용하여 모듈의 이름을 지정할 수 있습니다.\n",
        "\n",
        "* import 모듈 as 이름"
      ],
      "metadata": {
        "id": "3Zgk8vh-UQTc"
      }
    },
    {
      "cell_type": "code",
      "source": [
        "import random as r\n",
        "r.randint(10, 100)"
      ],
      "metadata": {
        "colab": {
          "base_uri": "https://localhost:8080/"
        },
        "id": "ZnsG-Pw2BRrd",
        "outputId": "f5f8fbed-2477-4883-d573-5cc2ab0a3ef7"
      },
      "execution_count": null,
      "outputs": [
        {
          "output_type": "execute_result",
          "data": {
            "text/plain": [
              "63"
            ]
          },
          "metadata": {},
          "execution_count": 6
        }
      ]
    },
    {
      "cell_type": "markdown",
      "source": [
        "### from import로 모듈의 일부만 가져오기"
      ],
      "metadata": {
        "id": "y9kGUkYJUZW4"
      }
    },
    {
      "cell_type": "markdown",
      "source": [
        "import as로 모듈의 이름을 지정하는 방법보다 좀 더 편한 방법이 있습니다. 이번에는 from import로 원하는 변수만 가져와보겠습니다.\n",
        "\n",
        "* from 모듈 import 변수"
      ],
      "metadata": {
        "id": "4fg0kpnqUdYS"
      }
    },
    {
      "cell_type": "code",
      "source": [
        "from math import pi\n",
        "\n",
        "pi"
      ],
      "metadata": {
        "colab": {
          "base_uri": "https://localhost:8080/"
        },
        "id": "280ZpuqZUXOv",
        "outputId": "560a24cc-4262-426a-d977-98c3b641a0ff"
      },
      "execution_count": null,
      "outputs": [
        {
          "output_type": "execute_result",
          "data": {
            "text/plain": [
              "3.141592653589793"
            ]
          },
          "metadata": {},
          "execution_count": 7
        }
      ]
    },
    {
      "cell_type": "markdown",
      "source": [
        "모듈의 변수를 가져왔으니 이번에는 함수를 가져와보겠습니다(물론 클래스도 가져올 수 있습니다).\n",
        "\n",
        "* from 모듈 import 함수\n",
        "* from 모듈 import 클래스"
      ],
      "metadata": {
        "id": "nCAY1zitUi4G"
      }
    },
    {
      "cell_type": "code",
      "source": [
        "from random import choice\n",
        "from collections import Counter\n",
        "\n",
        "choice([1, 2, 3])\n",
        "Counter([1, 2, 3, 4, 4, 4])"
      ],
      "metadata": {
        "colab": {
          "base_uri": "https://localhost:8080/"
        },
        "id": "PLdOAfjiBfv-",
        "outputId": "6948a1f8-4517-4874-b927-c9e8e731c266"
      },
      "execution_count": null,
      "outputs": [
        {
          "output_type": "execute_result",
          "data": {
            "text/plain": [
              "Counter({1: 1, 2: 1, 3: 1, 4: 3})"
            ]
          },
          "metadata": {},
          "execution_count": 9
        }
      ]
    },
    {
      "cell_type": "markdown",
      "source": [
        "지금까지 변수나 함수를 하나만 가져왔습니다. 하지만 math 모듈에서 가져올 변수와 함수가 여러 개일 수도 있겠죠? 이때는 import 뒤에 가져올 변수, 함수, 클래스를 콤마로 구분하여 여러 개를 지정해주면 됩니다.\n",
        "\n",
        "* from 모듈 import 변수, 함수, 클래스"
      ],
      "metadata": {
        "id": "MU_301n1UnbQ"
      }
    },
    {
      "cell_type": "code",
      "source": [
        "from math import pi, ceil, floor\n",
        "\n",
        "pi, ceil (100.232923 * 100) / 100, floor(100.232329 * 100) / 100"
      ],
      "metadata": {
        "colab": {
          "base_uri": "https://localhost:8080/"
        },
        "id": "zw4vpp-VUlO3",
        "outputId": "189d8b2d-9b2c-47a2-bc5c-5f57043b143a"
      },
      "execution_count": null,
      "outputs": [
        {
          "output_type": "execute_result",
          "data": {
            "text/plain": [
              "(3.141592653589793, 100.24, 100.23)"
            ]
          },
          "metadata": {},
          "execution_count": 11
        }
      ]
    },
    {
      "cell_type": "markdown",
      "source": [
        "from import는 모듈의 모든 변수, 함수, 클래스를 가져오는 기능도 있습니다.\n",
        "\n",
        "보통 컴퓨터에서 *(asterisk, 애스터리스크) 기호는 모든 것이라는 뜻으로 사용합니다\n",
        "\n",
        "* from 모듈 import *\n"
      ],
      "metadata": {
        "id": "QFFQw5xBU2Rr"
      }
    },
    {
      "cell_type": "code",
      "source": [
        "from math import * \n",
        "\n",
        "pi, floor(100.2323)"
      ],
      "metadata": {
        "colab": {
          "base_uri": "https://localhost:8080/"
        },
        "id": "u9mH0sLeUhiw",
        "outputId": "7f1d8e0c-28b0-4325-a6ea-3503704a6010"
      },
      "execution_count": null,
      "outputs": [
        {
          "output_type": "execute_result",
          "data": {
            "text/plain": [
              "(3.141592653589793, 100)"
            ]
          },
          "metadata": {},
          "execution_count": 12
        }
      ]
    },
    {
      "cell_type": "markdown",
      "source": [
        "### from import로 모듈의 일부를 가져온 뒤 이름 지정하기\n"
      ],
      "metadata": {
        "id": "9O6amJHaWAkX"
      }
    },
    {
      "cell_type": "markdown",
      "source": [
        "이번에는 from import로 변수, 함수, 클래스를 가져온 뒤 이름을 지정해보겠습니다.\n",
        "\n",
        "* from 모듈 import 변수 as 이름\n",
        "* from 모듈 import 함수 as 이름\n",
        "* from 모듈 import 클래스 as 이름"
      ],
      "metadata": {
        "id": "s0VlLXDBWHay"
      }
    },
    {
      "cell_type": "code",
      "source": [
        "from random import choice as ch\n",
        "\n",
        "ch(range(10, 100))"
      ],
      "metadata": {
        "colab": {
          "base_uri": "https://localhost:8080/"
        },
        "id": "QszzKjSsU7uH",
        "outputId": "9f7ffd47-972a-4bc1-e5bb-842f78048bb1"
      },
      "execution_count": null,
      "outputs": [
        {
          "output_type": "execute_result",
          "data": {
            "text/plain": [
              "19"
            ]
          },
          "metadata": {},
          "execution_count": 13
        }
      ]
    },
    {
      "cell_type": "markdown",
      "source": [
        "from import로 가져온 변수, 함수, 클래스 뒤에 as로 이름을 지정해주면 됩니다.\n",
        "\n",
        "그럼 여러 개를 가져왔을 때 각각 이름을 지정할 수는 없을까요? 이때는 각 변수, 함수, 클래스 등을 콤마로 구분하여 as를 여러 개 지정하면 됩니다.\n",
        "\n",
        "from 모듈 import 변수 as 이름1, 함수 as 이름2, 클래스 as 이름3\n"
      ],
      "metadata": {
        "id": "sSpR187nWPjW"
      }
    },
    {
      "cell_type": "code",
      "source": [
        "from random import choice as ch, randint as ri\n",
        "\n",
        "ch(range(10)), ri(1, 10)"
      ],
      "metadata": {
        "colab": {
          "base_uri": "https://localhost:8080/"
        },
        "id": "X-IfMM5jWNtA",
        "outputId": "5b2204e8-5006-4b71-8a25-1b62c6683180"
      },
      "execution_count": null,
      "outputs": [
        {
          "output_type": "execute_result",
          "data": {
            "text/plain": [
              "(9, 3)"
            ]
          },
          "metadata": {},
          "execution_count": 14
        }
      ]
    },
    {
      "cell_type": "markdown",
      "source": [
        "## import로 패키지 가져오기"
      ],
      "metadata": {
        "id": "6hi4tX-jWXxh"
      }
    },
    {
      "cell_type": "markdown",
      "source": [
        "패키지는 특정 기능과 관련된 여러 모듈을 묶은 것인데, 패키지에 들어있는 모듈도 import를 사용하여 가져옵니다.\n",
        "\n",
        "* import 패키지.모듈\n",
        "* import 패키지.모듈1, 패키지.모듈2\n",
        "* 패키지.모듈.변수\n",
        "* 패키지.모듈.함수()\n",
        "* 패키지.모듈.클래스()"
      ],
      "metadata": {
        "id": "YBq-usCnWbeC"
      }
    },
    {
      "cell_type": "markdown",
      "source": [
        "### import as로 패키지 모듈 이름 지정하기"
      ],
      "metadata": {
        "id": "xAp7T6X6WjsE"
      }
    },
    {
      "cell_type": "markdown",
      "source": [
        "패키지 안에 들어있는 모듈도 import as를 사용하여 이름을 지정할 수 있습니다.\n",
        "\n",
        "* import 패키지.모듈 as 이름"
      ],
      "metadata": {
        "id": "D9Mt9G_xWmUs"
      }
    },
    {
      "cell_type": "markdown",
      "source": [
        "### from import로 패키지의 모듈에서 일부만 가져오기"
      ],
      "metadata": {
        "id": "Bh4y73nVWrXP"
      }
    },
    {
      "cell_type": "markdown",
      "source": [
        "패키지도 from import를 사용하여 모듈에서 변수, 함수, 클래스를 가져올 수 있습니다.\n",
        "\n",
        "* from 패키지.모듈 import 변수\n",
        "* from 패키지.모듈 import 함수\n",
        "* from 패키지.모듈 import 클래스\n",
        "* from 패키지.모듈 import 변수, 함수, 클래스"
      ],
      "metadata": {
        "id": "Npf8AqIBWt35"
      }
    },
    {
      "cell_type": "markdown",
      "source": [
        "패키지의 모듈에서 모든 변수, 함수, 클래스를 가져오는 방법은 다음과 같습니다.\n",
        "\n",
        "* from 패키지.모듈 import *"
      ],
      "metadata": {
        "id": "Y3QS4JNlW1fm"
      }
    },
    {
      "cell_type": "markdown",
      "source": [
        "### from import로 패키지의 모듈의 일부를 가져온 뒤 이름 지정하기"
      ],
      "metadata": {
        "id": "_ttNLzskW9ow"
      }
    },
    {
      "cell_type": "markdown",
      "source": [
        "이번에는 from import로 패키지의 모듈에서 변수, 함수, 클래스를 가져온 뒤 이름을 지정해보겠습니다.\n",
        "\n",
        "* from 패키지.모듈 import 변수 as 이름\n",
        "* from 패키지.모듈 import 변수 as 이름, 함수 as 이름, 클래스 as 이름"
      ],
      "metadata": {
        "id": "f6HaRFdwXBN-"
      }
    },
    {
      "cell_type": "markdown",
      "source": [
        "### 파이썬 패키지 인덱스에서 패키지 설치하기"
      ],
      "metadata": {
        "id": "ba-DGLwaXJND"
      }
    },
    {
      "cell_type": "markdown",
      "source": [
        "파이썬은 파이썬 표준 라이브러리(Python Standard Library, PSL) 이외에도 파이썬 패키지 인덱스(Python Package Index, PyPI)를 통해 다양한 패키지를 사용할 수 있습니다. 특히 명령만 입력하면 원하는 패키지를 인터넷에서 다운로드하여 설치해줄 뿐만 아니라 관련된 패키지(의존성)까지 자동으로 설치해주므로 매우 편리합니다."
      ],
      "metadata": {
        "id": "DPYlA8NaXMP1"
      }
    },
    {
      "cell_type": "markdown",
      "source": [
        "### pip로 패키지 설치하기\n",
        "\n",
        "* pip install 패키지"
      ],
      "metadata": {
        "id": "V50opDujXOKw"
      }
    },
    {
      "cell_type": "code",
      "source": [
        "# !pip install finance-datareader \n",
        "# !pip install finance-datareader -q\n",
        "!pip install finance-datareader --quiet"
      ],
      "metadata": {
        "id": "kywxO6AJXGD_",
        "colab": {
          "base_uri": "https://localhost:8080/"
        },
        "outputId": "9b4a3dfb-1b5b-4610-d759-3e8eb86b413f"
      },
      "execution_count": null,
      "outputs": [
        {
          "output_type": "stream",
          "name": "stdout",
          "text": [
            "Looking in indexes: https://pypi.org/simple, https://us-python.pkg.dev/colab-wheels/public/simple/\n",
            "Collecting finance-datareader\n",
            "  Downloading finance_datareader-0.9.50-py3-none-any.whl (19 kB)\n",
            "Requirement already satisfied: tqdm in /usr/local/lib/python3.8/dist-packages (from finance-datareader) (4.64.1)\n",
            "Collecting requests-file\n",
            "  Downloading requests_file-1.5.1-py2.py3-none-any.whl (3.7 kB)\n",
            "Requirement already satisfied: lxml in /usr/local/lib/python3.8/dist-packages (from finance-datareader) (4.9.2)\n",
            "Requirement already satisfied: requests>=2.3.0 in /usr/local/lib/python3.8/dist-packages (from finance-datareader) (2.25.1)\n",
            "Requirement already satisfied: pandas>=0.19.2 in /usr/local/lib/python3.8/dist-packages (from finance-datareader) (1.3.5)\n",
            "Requirement already satisfied: python-dateutil>=2.7.3 in /usr/local/lib/python3.8/dist-packages (from pandas>=0.19.2->finance-datareader) (2.8.2)\n",
            "Requirement already satisfied: pytz>=2017.3 in /usr/local/lib/python3.8/dist-packages (from pandas>=0.19.2->finance-datareader) (2022.7.1)\n",
            "Requirement already satisfied: numpy>=1.17.3 in /usr/local/lib/python3.8/dist-packages (from pandas>=0.19.2->finance-datareader) (1.22.4)\n",
            "Requirement already satisfied: idna<3,>=2.5 in /usr/local/lib/python3.8/dist-packages (from requests>=2.3.0->finance-datareader) (2.10)\n",
            "Requirement already satisfied: certifi>=2017.4.17 in /usr/local/lib/python3.8/dist-packages (from requests>=2.3.0->finance-datareader) (2022.12.7)\n",
            "Requirement already satisfied: chardet<5,>=3.0.2 in /usr/local/lib/python3.8/dist-packages (from requests>=2.3.0->finance-datareader) (4.0.0)\n",
            "Requirement already satisfied: urllib3<1.27,>=1.21.1 in /usr/local/lib/python3.8/dist-packages (from requests>=2.3.0->finance-datareader) (1.26.14)\n",
            "Requirement already satisfied: six in /usr/local/lib/python3.8/dist-packages (from requests-file->finance-datareader) (1.15.0)\n",
            "Installing collected packages: requests-file, finance-datareader\n",
            "Successfully installed finance-datareader-0.9.50 requests-file-1.5.1\n"
          ]
        }
      ]
    },
    {
      "cell_type": "markdown",
      "source": [
        "### import로 패키지 가져오기"
      ],
      "metadata": {
        "id": "l6H2L17OXgcz"
      }
    },
    {
      "cell_type": "markdown",
      "source": [
        "* import 패키지"
      ],
      "metadata": {
        "id": "BQL4k5TBXkNw"
      }
    },
    {
      "cell_type": "code",
      "source": [
        "import FinanceDataReader as fdr"
      ],
      "metadata": {
        "id": "Zoq8trlQXk6o"
      },
      "execution_count": null,
      "outputs": []
    },
    {
      "cell_type": "code",
      "source": [
        "fdr.StockListing('KOSPI')"
      ],
      "metadata": {
        "colab": {
          "base_uri": "https://localhost:8080/",
          "height": 423
        },
        "id": "hscYnSzINQoC",
        "outputId": "eaaf7d55-90c4-4495-c830-eac3c0ca1fc8"
      },
      "execution_count": null,
      "outputs": [
        {
          "output_type": "execute_result",
          "data": {
            "text/plain": [
              "       Code        ISU_CD      Name Market Dept   Close ChangeCode  Changes  \\\n",
              "0    005930  KR7005930003      삼성전자  KOSPI        60700          2     -800   \n",
              "1    373220  KR7373220003  LG에너지솔루션  KOSPI       566000          1    19000   \n",
              "2    000660  KR7000660001    SK하이닉스  KOSPI        88900          2     -800   \n",
              "3    207940  KR7207940008  삼성바이오로직스  KOSPI       794000          2    -7000   \n",
              "4    006400  KR7006400006     삼성SDI  KOSPI       793000          1    12000   \n",
              "..      ...           ...       ...    ...  ...     ...        ...      ...   \n",
              "938  002785  KR7002781003    진흥기업우B  KOSPI         5070          2      -20   \n",
              "939  001527  KR7001522002     동양2우B  KOSPI        13300          2     -540   \n",
              "940  001525  KR7001521004       동양우  KOSPI         6500          2     -220   \n",
              "941  002787  KR7002782001   진흥기업2우B  KOSPI        13110          1      100   \n",
              "942  000547  KR7000542001   흥국화재2우B  KOSPI        19670          1       50   \n",
              "\n",
              "     ChagesRatio    Open    High     Low    Volume        Amount  \\\n",
              "0          -1.30   61400   61400   60700  11466741  698507933500   \n",
              "1           3.47  548000  570000  543000    832938  467028957000   \n",
              "2          -0.89   89700   90000   88800   1610660  143963576800   \n",
              "3          -0.87  801000  804000  792000     50286   40094134000   \n",
              "4           1.54  779000  801000  768000    598805  472443974872   \n",
              "..           ...     ...     ...     ...       ...           ...   \n",
              "938        -0.39    5070    5150    5040       676       3412880   \n",
              "939        -3.90   13250   13390   13150      1241      16369210   \n",
              "940        -3.27    6500    6510    6500      2658      17277220   \n",
              "941         0.77   13030   13300   13030       236       3135670   \n",
              "942         0.25   19500   19680   19500       734      14329910   \n",
              "\n",
              "              Marcap      Stocks MarketId  \n",
              "0    362365800785000  5969782550      STK  \n",
              "1    132444000000000   234000000      STK  \n",
              "2     64719410248500   728002365      STK  \n",
              "3     56512156000000    71174000      STK  \n",
              "4     54530272290000    68764530      STK  \n",
              "..               ...         ...      ...  \n",
              "938       4346095260      857218      STK  \n",
              "939       4103967700      308569      STK  \n",
              "940       4015251500      617731      STK  \n",
              "941       3864932880      294808      STK  \n",
              "942       3021312000      153600      STK  \n",
              "\n",
              "[943 rows x 17 columns]"
            ],
            "text/html": [
              "\n",
              "  <div id=\"df-697beba9-eaa9-4791-8314-eb435c8ec5f5\">\n",
              "    <div class=\"colab-df-container\">\n",
              "      <div>\n",
              "<style scoped>\n",
              "    .dataframe tbody tr th:only-of-type {\n",
              "        vertical-align: middle;\n",
              "    }\n",
              "\n",
              "    .dataframe tbody tr th {\n",
              "        vertical-align: top;\n",
              "    }\n",
              "\n",
              "    .dataframe thead th {\n",
              "        text-align: right;\n",
              "    }\n",
              "</style>\n",
              "<table border=\"1\" class=\"dataframe\">\n",
              "  <thead>\n",
              "    <tr style=\"text-align: right;\">\n",
              "      <th></th>\n",
              "      <th>Code</th>\n",
              "      <th>ISU_CD</th>\n",
              "      <th>Name</th>\n",
              "      <th>Market</th>\n",
              "      <th>Dept</th>\n",
              "      <th>Close</th>\n",
              "      <th>ChangeCode</th>\n",
              "      <th>Changes</th>\n",
              "      <th>ChagesRatio</th>\n",
              "      <th>Open</th>\n",
              "      <th>High</th>\n",
              "      <th>Low</th>\n",
              "      <th>Volume</th>\n",
              "      <th>Amount</th>\n",
              "      <th>Marcap</th>\n",
              "      <th>Stocks</th>\n",
              "      <th>MarketId</th>\n",
              "    </tr>\n",
              "  </thead>\n",
              "  <tbody>\n",
              "    <tr>\n",
              "      <th>0</th>\n",
              "      <td>005930</td>\n",
              "      <td>KR7005930003</td>\n",
              "      <td>삼성전자</td>\n",
              "      <td>KOSPI</td>\n",
              "      <td></td>\n",
              "      <td>60700</td>\n",
              "      <td>2</td>\n",
              "      <td>-800</td>\n",
              "      <td>-1.30</td>\n",
              "      <td>61400</td>\n",
              "      <td>61400</td>\n",
              "      <td>60700</td>\n",
              "      <td>11466741</td>\n",
              "      <td>698507933500</td>\n",
              "      <td>362365800785000</td>\n",
              "      <td>5969782550</td>\n",
              "      <td>STK</td>\n",
              "    </tr>\n",
              "    <tr>\n",
              "      <th>1</th>\n",
              "      <td>373220</td>\n",
              "      <td>KR7373220003</td>\n",
              "      <td>LG에너지솔루션</td>\n",
              "      <td>KOSPI</td>\n",
              "      <td></td>\n",
              "      <td>566000</td>\n",
              "      <td>1</td>\n",
              "      <td>19000</td>\n",
              "      <td>3.47</td>\n",
              "      <td>548000</td>\n",
              "      <td>570000</td>\n",
              "      <td>543000</td>\n",
              "      <td>832938</td>\n",
              "      <td>467028957000</td>\n",
              "      <td>132444000000000</td>\n",
              "      <td>234000000</td>\n",
              "      <td>STK</td>\n",
              "    </tr>\n",
              "    <tr>\n",
              "      <th>2</th>\n",
              "      <td>000660</td>\n",
              "      <td>KR7000660001</td>\n",
              "      <td>SK하이닉스</td>\n",
              "      <td>KOSPI</td>\n",
              "      <td></td>\n",
              "      <td>88900</td>\n",
              "      <td>2</td>\n",
              "      <td>-800</td>\n",
              "      <td>-0.89</td>\n",
              "      <td>89700</td>\n",
              "      <td>90000</td>\n",
              "      <td>88800</td>\n",
              "      <td>1610660</td>\n",
              "      <td>143963576800</td>\n",
              "      <td>64719410248500</td>\n",
              "      <td>728002365</td>\n",
              "      <td>STK</td>\n",
              "    </tr>\n",
              "    <tr>\n",
              "      <th>3</th>\n",
              "      <td>207940</td>\n",
              "      <td>KR7207940008</td>\n",
              "      <td>삼성바이오로직스</td>\n",
              "      <td>KOSPI</td>\n",
              "      <td></td>\n",
              "      <td>794000</td>\n",
              "      <td>2</td>\n",
              "      <td>-7000</td>\n",
              "      <td>-0.87</td>\n",
              "      <td>801000</td>\n",
              "      <td>804000</td>\n",
              "      <td>792000</td>\n",
              "      <td>50286</td>\n",
              "      <td>40094134000</td>\n",
              "      <td>56512156000000</td>\n",
              "      <td>71174000</td>\n",
              "      <td>STK</td>\n",
              "    </tr>\n",
              "    <tr>\n",
              "      <th>4</th>\n",
              "      <td>006400</td>\n",
              "      <td>KR7006400006</td>\n",
              "      <td>삼성SDI</td>\n",
              "      <td>KOSPI</td>\n",
              "      <td></td>\n",
              "      <td>793000</td>\n",
              "      <td>1</td>\n",
              "      <td>12000</td>\n",
              "      <td>1.54</td>\n",
              "      <td>779000</td>\n",
              "      <td>801000</td>\n",
              "      <td>768000</td>\n",
              "      <td>598805</td>\n",
              "      <td>472443974872</td>\n",
              "      <td>54530272290000</td>\n",
              "      <td>68764530</td>\n",
              "      <td>STK</td>\n",
              "    </tr>\n",
              "    <tr>\n",
              "      <th>...</th>\n",
              "      <td>...</td>\n",
              "      <td>...</td>\n",
              "      <td>...</td>\n",
              "      <td>...</td>\n",
              "      <td>...</td>\n",
              "      <td>...</td>\n",
              "      <td>...</td>\n",
              "      <td>...</td>\n",
              "      <td>...</td>\n",
              "      <td>...</td>\n",
              "      <td>...</td>\n",
              "      <td>...</td>\n",
              "      <td>...</td>\n",
              "      <td>...</td>\n",
              "      <td>...</td>\n",
              "      <td>...</td>\n",
              "      <td>...</td>\n",
              "    </tr>\n",
              "    <tr>\n",
              "      <th>938</th>\n",
              "      <td>002785</td>\n",
              "      <td>KR7002781003</td>\n",
              "      <td>진흥기업우B</td>\n",
              "      <td>KOSPI</td>\n",
              "      <td></td>\n",
              "      <td>5070</td>\n",
              "      <td>2</td>\n",
              "      <td>-20</td>\n",
              "      <td>-0.39</td>\n",
              "      <td>5070</td>\n",
              "      <td>5150</td>\n",
              "      <td>5040</td>\n",
              "      <td>676</td>\n",
              "      <td>3412880</td>\n",
              "      <td>4346095260</td>\n",
              "      <td>857218</td>\n",
              "      <td>STK</td>\n",
              "    </tr>\n",
              "    <tr>\n",
              "      <th>939</th>\n",
              "      <td>001527</td>\n",
              "      <td>KR7001522002</td>\n",
              "      <td>동양2우B</td>\n",
              "      <td>KOSPI</td>\n",
              "      <td></td>\n",
              "      <td>13300</td>\n",
              "      <td>2</td>\n",
              "      <td>-540</td>\n",
              "      <td>-3.90</td>\n",
              "      <td>13250</td>\n",
              "      <td>13390</td>\n",
              "      <td>13150</td>\n",
              "      <td>1241</td>\n",
              "      <td>16369210</td>\n",
              "      <td>4103967700</td>\n",
              "      <td>308569</td>\n",
              "      <td>STK</td>\n",
              "    </tr>\n",
              "    <tr>\n",
              "      <th>940</th>\n",
              "      <td>001525</td>\n",
              "      <td>KR7001521004</td>\n",
              "      <td>동양우</td>\n",
              "      <td>KOSPI</td>\n",
              "      <td></td>\n",
              "      <td>6500</td>\n",
              "      <td>2</td>\n",
              "      <td>-220</td>\n",
              "      <td>-3.27</td>\n",
              "      <td>6500</td>\n",
              "      <td>6510</td>\n",
              "      <td>6500</td>\n",
              "      <td>2658</td>\n",
              "      <td>17277220</td>\n",
              "      <td>4015251500</td>\n",
              "      <td>617731</td>\n",
              "      <td>STK</td>\n",
              "    </tr>\n",
              "    <tr>\n",
              "      <th>941</th>\n",
              "      <td>002787</td>\n",
              "      <td>KR7002782001</td>\n",
              "      <td>진흥기업2우B</td>\n",
              "      <td>KOSPI</td>\n",
              "      <td></td>\n",
              "      <td>13110</td>\n",
              "      <td>1</td>\n",
              "      <td>100</td>\n",
              "      <td>0.77</td>\n",
              "      <td>13030</td>\n",
              "      <td>13300</td>\n",
              "      <td>13030</td>\n",
              "      <td>236</td>\n",
              "      <td>3135670</td>\n",
              "      <td>3864932880</td>\n",
              "      <td>294808</td>\n",
              "      <td>STK</td>\n",
              "    </tr>\n",
              "    <tr>\n",
              "      <th>942</th>\n",
              "      <td>000547</td>\n",
              "      <td>KR7000542001</td>\n",
              "      <td>흥국화재2우B</td>\n",
              "      <td>KOSPI</td>\n",
              "      <td></td>\n",
              "      <td>19670</td>\n",
              "      <td>1</td>\n",
              "      <td>50</td>\n",
              "      <td>0.25</td>\n",
              "      <td>19500</td>\n",
              "      <td>19680</td>\n",
              "      <td>19500</td>\n",
              "      <td>734</td>\n",
              "      <td>14329910</td>\n",
              "      <td>3021312000</td>\n",
              "      <td>153600</td>\n",
              "      <td>STK</td>\n",
              "    </tr>\n",
              "  </tbody>\n",
              "</table>\n",
              "<p>943 rows × 17 columns</p>\n",
              "</div>\n",
              "      <button class=\"colab-df-convert\" onclick=\"convertToInteractive('df-697beba9-eaa9-4791-8314-eb435c8ec5f5')\"\n",
              "              title=\"Convert this dataframe to an interactive table.\"\n",
              "              style=\"display:none;\">\n",
              "        \n",
              "  <svg xmlns=\"http://www.w3.org/2000/svg\" height=\"24px\"viewBox=\"0 0 24 24\"\n",
              "       width=\"24px\">\n",
              "    <path d=\"M0 0h24v24H0V0z\" fill=\"none\"/>\n",
              "    <path d=\"M18.56 5.44l.94 2.06.94-2.06 2.06-.94-2.06-.94-.94-2.06-.94 2.06-2.06.94zm-11 1L8.5 8.5l.94-2.06 2.06-.94-2.06-.94L8.5 2.5l-.94 2.06-2.06.94zm10 10l.94 2.06.94-2.06 2.06-.94-2.06-.94-.94-2.06-.94 2.06-2.06.94z\"/><path d=\"M17.41 7.96l-1.37-1.37c-.4-.4-.92-.59-1.43-.59-.52 0-1.04.2-1.43.59L10.3 9.45l-7.72 7.72c-.78.78-.78 2.05 0 2.83L4 21.41c.39.39.9.59 1.41.59.51 0 1.02-.2 1.41-.59l7.78-7.78 2.81-2.81c.8-.78.8-2.07 0-2.86zM5.41 20L4 18.59l7.72-7.72 1.47 1.35L5.41 20z\"/>\n",
              "  </svg>\n",
              "      </button>\n",
              "      \n",
              "  <style>\n",
              "    .colab-df-container {\n",
              "      display:flex;\n",
              "      flex-wrap:wrap;\n",
              "      gap: 12px;\n",
              "    }\n",
              "\n",
              "    .colab-df-convert {\n",
              "      background-color: #E8F0FE;\n",
              "      border: none;\n",
              "      border-radius: 50%;\n",
              "      cursor: pointer;\n",
              "      display: none;\n",
              "      fill: #1967D2;\n",
              "      height: 32px;\n",
              "      padding: 0 0 0 0;\n",
              "      width: 32px;\n",
              "    }\n",
              "\n",
              "    .colab-df-convert:hover {\n",
              "      background-color: #E2EBFA;\n",
              "      box-shadow: 0px 1px 2px rgba(60, 64, 67, 0.3), 0px 1px 3px 1px rgba(60, 64, 67, 0.15);\n",
              "      fill: #174EA6;\n",
              "    }\n",
              "\n",
              "    [theme=dark] .colab-df-convert {\n",
              "      background-color: #3B4455;\n",
              "      fill: #D2E3FC;\n",
              "    }\n",
              "\n",
              "    [theme=dark] .colab-df-convert:hover {\n",
              "      background-color: #434B5C;\n",
              "      box-shadow: 0px 1px 3px 1px rgba(0, 0, 0, 0.15);\n",
              "      filter: drop-shadow(0px 1px 2px rgba(0, 0, 0, 0.3));\n",
              "      fill: #FFFFFF;\n",
              "    }\n",
              "  </style>\n",
              "\n",
              "      <script>\n",
              "        const buttonEl =\n",
              "          document.querySelector('#df-697beba9-eaa9-4791-8314-eb435c8ec5f5 button.colab-df-convert');\n",
              "        buttonEl.style.display =\n",
              "          google.colab.kernel.accessAllowed ? 'block' : 'none';\n",
              "\n",
              "        async function convertToInteractive(key) {\n",
              "          const element = document.querySelector('#df-697beba9-eaa9-4791-8314-eb435c8ec5f5');\n",
              "          const dataTable =\n",
              "            await google.colab.kernel.invokeFunction('convertToInteractive',\n",
              "                                                     [key], {});\n",
              "          if (!dataTable) return;\n",
              "\n",
              "          const docLinkHtml = 'Like what you see? Visit the ' +\n",
              "            '<a target=\"_blank\" href=https://colab.research.google.com/notebooks/data_table.ipynb>data table notebook</a>'\n",
              "            + ' to learn more about interactive tables.';\n",
              "          element.innerHTML = '';\n",
              "          dataTable['output_type'] = 'display_data';\n",
              "          await google.colab.output.renderOutput(dataTable, element);\n",
              "          const docLink = document.createElement('div');\n",
              "          docLink.innerHTML = docLinkHtml;\n",
              "          element.appendChild(docLink);\n",
              "        }\n",
              "      </script>\n",
              "    </div>\n",
              "  </div>\n",
              "  "
            ]
          },
          "metadata": {},
          "execution_count": 25
        }
      ]
    },
    {
      "cell_type": "code",
      "source": [
        "fdr.DataReader(\"373220\")"
      ],
      "metadata": {
        "colab": {
          "base_uri": "https://localhost:8080/",
          "height": 455
        },
        "id": "3KIorkE-EpDc",
        "outputId": "9e870250-15be-444a-9442-1f835423869a"
      },
      "execution_count": null,
      "outputs": [
        {
          "output_type": "execute_result",
          "data": {
            "text/plain": [
              "              Open    High     Low   Close    Volume    Change\n",
              "Date                                                          \n",
              "2022-01-27  597000  598000  450000  505000  15946992       NaN\n",
              "2022-01-28  476000  483000  445000  450000   4559773 -0.108911\n",
              "2022-02-03  458000  495500  441000  477000   2918435  0.060000\n",
              "2022-02-04  476500  505000  476000  504000   2088996  0.056604\n",
              "2022-02-07  520000  548000  511000  548000   1911176  0.087302\n",
              "...            ...     ...     ...     ...       ...       ...\n",
              "2023-02-28  516000  532000  515000  523000    419180  0.029528\n",
              "2023-03-02  520000  542000  516000  535000    506812  0.022945\n",
              "2023-03-03  539000  542000  533000  538000    288004  0.005607\n",
              "2023-03-06  545000  547000  533000  547000    418951  0.016729\n",
              "2023-03-07  548000  570000  543000  566000    830479  0.034735\n",
              "\n",
              "[272 rows x 6 columns]"
            ],
            "text/html": [
              "\n",
              "  <div id=\"df-70b473e6-a464-4816-ba44-0a55b6ef17fd\">\n",
              "    <div class=\"colab-df-container\">\n",
              "      <div>\n",
              "<style scoped>\n",
              "    .dataframe tbody tr th:only-of-type {\n",
              "        vertical-align: middle;\n",
              "    }\n",
              "\n",
              "    .dataframe tbody tr th {\n",
              "        vertical-align: top;\n",
              "    }\n",
              "\n",
              "    .dataframe thead th {\n",
              "        text-align: right;\n",
              "    }\n",
              "</style>\n",
              "<table border=\"1\" class=\"dataframe\">\n",
              "  <thead>\n",
              "    <tr style=\"text-align: right;\">\n",
              "      <th></th>\n",
              "      <th>Open</th>\n",
              "      <th>High</th>\n",
              "      <th>Low</th>\n",
              "      <th>Close</th>\n",
              "      <th>Volume</th>\n",
              "      <th>Change</th>\n",
              "    </tr>\n",
              "    <tr>\n",
              "      <th>Date</th>\n",
              "      <th></th>\n",
              "      <th></th>\n",
              "      <th></th>\n",
              "      <th></th>\n",
              "      <th></th>\n",
              "      <th></th>\n",
              "    </tr>\n",
              "  </thead>\n",
              "  <tbody>\n",
              "    <tr>\n",
              "      <th>2022-01-27</th>\n",
              "      <td>597000</td>\n",
              "      <td>598000</td>\n",
              "      <td>450000</td>\n",
              "      <td>505000</td>\n",
              "      <td>15946992</td>\n",
              "      <td>NaN</td>\n",
              "    </tr>\n",
              "    <tr>\n",
              "      <th>2022-01-28</th>\n",
              "      <td>476000</td>\n",
              "      <td>483000</td>\n",
              "      <td>445000</td>\n",
              "      <td>450000</td>\n",
              "      <td>4559773</td>\n",
              "      <td>-0.108911</td>\n",
              "    </tr>\n",
              "    <tr>\n",
              "      <th>2022-02-03</th>\n",
              "      <td>458000</td>\n",
              "      <td>495500</td>\n",
              "      <td>441000</td>\n",
              "      <td>477000</td>\n",
              "      <td>2918435</td>\n",
              "      <td>0.060000</td>\n",
              "    </tr>\n",
              "    <tr>\n",
              "      <th>2022-02-04</th>\n",
              "      <td>476500</td>\n",
              "      <td>505000</td>\n",
              "      <td>476000</td>\n",
              "      <td>504000</td>\n",
              "      <td>2088996</td>\n",
              "      <td>0.056604</td>\n",
              "    </tr>\n",
              "    <tr>\n",
              "      <th>2022-02-07</th>\n",
              "      <td>520000</td>\n",
              "      <td>548000</td>\n",
              "      <td>511000</td>\n",
              "      <td>548000</td>\n",
              "      <td>1911176</td>\n",
              "      <td>0.087302</td>\n",
              "    </tr>\n",
              "    <tr>\n",
              "      <th>...</th>\n",
              "      <td>...</td>\n",
              "      <td>...</td>\n",
              "      <td>...</td>\n",
              "      <td>...</td>\n",
              "      <td>...</td>\n",
              "      <td>...</td>\n",
              "    </tr>\n",
              "    <tr>\n",
              "      <th>2023-02-28</th>\n",
              "      <td>516000</td>\n",
              "      <td>532000</td>\n",
              "      <td>515000</td>\n",
              "      <td>523000</td>\n",
              "      <td>419180</td>\n",
              "      <td>0.029528</td>\n",
              "    </tr>\n",
              "    <tr>\n",
              "      <th>2023-03-02</th>\n",
              "      <td>520000</td>\n",
              "      <td>542000</td>\n",
              "      <td>516000</td>\n",
              "      <td>535000</td>\n",
              "      <td>506812</td>\n",
              "      <td>0.022945</td>\n",
              "    </tr>\n",
              "    <tr>\n",
              "      <th>2023-03-03</th>\n",
              "      <td>539000</td>\n",
              "      <td>542000</td>\n",
              "      <td>533000</td>\n",
              "      <td>538000</td>\n",
              "      <td>288004</td>\n",
              "      <td>0.005607</td>\n",
              "    </tr>\n",
              "    <tr>\n",
              "      <th>2023-03-06</th>\n",
              "      <td>545000</td>\n",
              "      <td>547000</td>\n",
              "      <td>533000</td>\n",
              "      <td>547000</td>\n",
              "      <td>418951</td>\n",
              "      <td>0.016729</td>\n",
              "    </tr>\n",
              "    <tr>\n",
              "      <th>2023-03-07</th>\n",
              "      <td>548000</td>\n",
              "      <td>570000</td>\n",
              "      <td>543000</td>\n",
              "      <td>566000</td>\n",
              "      <td>830479</td>\n",
              "      <td>0.034735</td>\n",
              "    </tr>\n",
              "  </tbody>\n",
              "</table>\n",
              "<p>272 rows × 6 columns</p>\n",
              "</div>\n",
              "      <button class=\"colab-df-convert\" onclick=\"convertToInteractive('df-70b473e6-a464-4816-ba44-0a55b6ef17fd')\"\n",
              "              title=\"Convert this dataframe to an interactive table.\"\n",
              "              style=\"display:none;\">\n",
              "        \n",
              "  <svg xmlns=\"http://www.w3.org/2000/svg\" height=\"24px\"viewBox=\"0 0 24 24\"\n",
              "       width=\"24px\">\n",
              "    <path d=\"M0 0h24v24H0V0z\" fill=\"none\"/>\n",
              "    <path d=\"M18.56 5.44l.94 2.06.94-2.06 2.06-.94-2.06-.94-.94-2.06-.94 2.06-2.06.94zm-11 1L8.5 8.5l.94-2.06 2.06-.94-2.06-.94L8.5 2.5l-.94 2.06-2.06.94zm10 10l.94 2.06.94-2.06 2.06-.94-2.06-.94-.94-2.06-.94 2.06-2.06.94z\"/><path d=\"M17.41 7.96l-1.37-1.37c-.4-.4-.92-.59-1.43-.59-.52 0-1.04.2-1.43.59L10.3 9.45l-7.72 7.72c-.78.78-.78 2.05 0 2.83L4 21.41c.39.39.9.59 1.41.59.51 0 1.02-.2 1.41-.59l7.78-7.78 2.81-2.81c.8-.78.8-2.07 0-2.86zM5.41 20L4 18.59l7.72-7.72 1.47 1.35L5.41 20z\"/>\n",
              "  </svg>\n",
              "      </button>\n",
              "      \n",
              "  <style>\n",
              "    .colab-df-container {\n",
              "      display:flex;\n",
              "      flex-wrap:wrap;\n",
              "      gap: 12px;\n",
              "    }\n",
              "\n",
              "    .colab-df-convert {\n",
              "      background-color: #E8F0FE;\n",
              "      border: none;\n",
              "      border-radius: 50%;\n",
              "      cursor: pointer;\n",
              "      display: none;\n",
              "      fill: #1967D2;\n",
              "      height: 32px;\n",
              "      padding: 0 0 0 0;\n",
              "      width: 32px;\n",
              "    }\n",
              "\n",
              "    .colab-df-convert:hover {\n",
              "      background-color: #E2EBFA;\n",
              "      box-shadow: 0px 1px 2px rgba(60, 64, 67, 0.3), 0px 1px 3px 1px rgba(60, 64, 67, 0.15);\n",
              "      fill: #174EA6;\n",
              "    }\n",
              "\n",
              "    [theme=dark] .colab-df-convert {\n",
              "      background-color: #3B4455;\n",
              "      fill: #D2E3FC;\n",
              "    }\n",
              "\n",
              "    [theme=dark] .colab-df-convert:hover {\n",
              "      background-color: #434B5C;\n",
              "      box-shadow: 0px 1px 3px 1px rgba(0, 0, 0, 0.15);\n",
              "      filter: drop-shadow(0px 1px 2px rgba(0, 0, 0, 0.3));\n",
              "      fill: #FFFFFF;\n",
              "    }\n",
              "  </style>\n",
              "\n",
              "      <script>\n",
              "        const buttonEl =\n",
              "          document.querySelector('#df-70b473e6-a464-4816-ba44-0a55b6ef17fd button.colab-df-convert');\n",
              "        buttonEl.style.display =\n",
              "          google.colab.kernel.accessAllowed ? 'block' : 'none';\n",
              "\n",
              "        async function convertToInteractive(key) {\n",
              "          const element = document.querySelector('#df-70b473e6-a464-4816-ba44-0a55b6ef17fd');\n",
              "          const dataTable =\n",
              "            await google.colab.kernel.invokeFunction('convertToInteractive',\n",
              "                                                     [key], {});\n",
              "          if (!dataTable) return;\n",
              "\n",
              "          const docLinkHtml = 'Like what you see? Visit the ' +\n",
              "            '<a target=\"_blank\" href=https://colab.research.google.com/notebooks/data_table.ipynb>data table notebook</a>'\n",
              "            + ' to learn more about interactive tables.';\n",
              "          element.innerHTML = '';\n",
              "          dataTable['output_type'] = 'display_data';\n",
              "          await google.colab.output.renderOutput(dataTable, element);\n",
              "          const docLink = document.createElement('div');\n",
              "          docLink.innerHTML = docLinkHtml;\n",
              "          element.appendChild(docLink);\n",
              "        }\n",
              "      </script>\n",
              "    </div>\n",
              "  </div>\n",
              "  "
            ]
          },
          "metadata": {},
          "execution_count": 20
        }
      ]
    },
    {
      "cell_type": "code",
      "source": [
        "fdr.DataReader(\"삼성전자\")"
      ],
      "metadata": {
        "colab": {
          "base_uri": "https://localhost:8080/",
          "height": 67
        },
        "id": "34JwY7SMD3Ls",
        "outputId": "834eaa66-51c7-41f2-e637-91902358d924"
      },
      "execution_count": null,
      "outputs": [
        {
          "output_type": "stream",
          "name": "stdout",
          "text": [
            "'ascii' codec can't encode characters in position 25-28: ordinal not in range(128)  - symbol \"삼성전자\"not found or invalid periods\n"
          ]
        },
        {
          "output_type": "execute_result",
          "data": {
            "text/plain": [
              "Empty DataFrame\n",
              "Columns: []\n",
              "Index: []"
            ],
            "text/html": [
              "\n",
              "  <div id=\"df-525e610d-934f-4a58-8964-04e09e57327b\">\n",
              "    <div class=\"colab-df-container\">\n",
              "      <div>\n",
              "<style scoped>\n",
              "    .dataframe tbody tr th:only-of-type {\n",
              "        vertical-align: middle;\n",
              "    }\n",
              "\n",
              "    .dataframe tbody tr th {\n",
              "        vertical-align: top;\n",
              "    }\n",
              "\n",
              "    .dataframe thead th {\n",
              "        text-align: right;\n",
              "    }\n",
              "</style>\n",
              "<table border=\"1\" class=\"dataframe\">\n",
              "  <thead>\n",
              "    <tr style=\"text-align: right;\">\n",
              "      <th></th>\n",
              "    </tr>\n",
              "  </thead>\n",
              "  <tbody>\n",
              "  </tbody>\n",
              "</table>\n",
              "</div>\n",
              "      <button class=\"colab-df-convert\" onclick=\"convertToInteractive('df-525e610d-934f-4a58-8964-04e09e57327b')\"\n",
              "              title=\"Convert this dataframe to an interactive table.\"\n",
              "              style=\"display:none;\">\n",
              "        \n",
              "  <svg xmlns=\"http://www.w3.org/2000/svg\" height=\"24px\"viewBox=\"0 0 24 24\"\n",
              "       width=\"24px\">\n",
              "    <path d=\"M0 0h24v24H0V0z\" fill=\"none\"/>\n",
              "    <path d=\"M18.56 5.44l.94 2.06.94-2.06 2.06-.94-2.06-.94-.94-2.06-.94 2.06-2.06.94zm-11 1L8.5 8.5l.94-2.06 2.06-.94-2.06-.94L8.5 2.5l-.94 2.06-2.06.94zm10 10l.94 2.06.94-2.06 2.06-.94-2.06-.94-.94-2.06-.94 2.06-2.06.94z\"/><path d=\"M17.41 7.96l-1.37-1.37c-.4-.4-.92-.59-1.43-.59-.52 0-1.04.2-1.43.59L10.3 9.45l-7.72 7.72c-.78.78-.78 2.05 0 2.83L4 21.41c.39.39.9.59 1.41.59.51 0 1.02-.2 1.41-.59l7.78-7.78 2.81-2.81c.8-.78.8-2.07 0-2.86zM5.41 20L4 18.59l7.72-7.72 1.47 1.35L5.41 20z\"/>\n",
              "  </svg>\n",
              "      </button>\n",
              "      \n",
              "  <style>\n",
              "    .colab-df-container {\n",
              "      display:flex;\n",
              "      flex-wrap:wrap;\n",
              "      gap: 12px;\n",
              "    }\n",
              "\n",
              "    .colab-df-convert {\n",
              "      background-color: #E8F0FE;\n",
              "      border: none;\n",
              "      border-radius: 50%;\n",
              "      cursor: pointer;\n",
              "      display: none;\n",
              "      fill: #1967D2;\n",
              "      height: 32px;\n",
              "      padding: 0 0 0 0;\n",
              "      width: 32px;\n",
              "    }\n",
              "\n",
              "    .colab-df-convert:hover {\n",
              "      background-color: #E2EBFA;\n",
              "      box-shadow: 0px 1px 2px rgba(60, 64, 67, 0.3), 0px 1px 3px 1px rgba(60, 64, 67, 0.15);\n",
              "      fill: #174EA6;\n",
              "    }\n",
              "\n",
              "    [theme=dark] .colab-df-convert {\n",
              "      background-color: #3B4455;\n",
              "      fill: #D2E3FC;\n",
              "    }\n",
              "\n",
              "    [theme=dark] .colab-df-convert:hover {\n",
              "      background-color: #434B5C;\n",
              "      box-shadow: 0px 1px 3px 1px rgba(0, 0, 0, 0.15);\n",
              "      filter: drop-shadow(0px 1px 2px rgba(0, 0, 0, 0.3));\n",
              "      fill: #FFFFFF;\n",
              "    }\n",
              "  </style>\n",
              "\n",
              "      <script>\n",
              "        const buttonEl =\n",
              "          document.querySelector('#df-525e610d-934f-4a58-8964-04e09e57327b button.colab-df-convert');\n",
              "        buttonEl.style.display =\n",
              "          google.colab.kernel.accessAllowed ? 'block' : 'none';\n",
              "\n",
              "        async function convertToInteractive(key) {\n",
              "          const element = document.querySelector('#df-525e610d-934f-4a58-8964-04e09e57327b');\n",
              "          const dataTable =\n",
              "            await google.colab.kernel.invokeFunction('convertToInteractive',\n",
              "                                                     [key], {});\n",
              "          if (!dataTable) return;\n",
              "\n",
              "          const docLinkHtml = 'Like what you see? Visit the ' +\n",
              "            '<a target=\"_blank\" href=https://colab.research.google.com/notebooks/data_table.ipynb>data table notebook</a>'\n",
              "            + ' to learn more about interactive tables.';\n",
              "          element.innerHTML = '';\n",
              "          dataTable['output_type'] = 'display_data';\n",
              "          await google.colab.output.renderOutput(dataTable, element);\n",
              "          const docLink = document.createElement('div');\n",
              "          docLink.innerHTML = docLinkHtml;\n",
              "          element.appendChild(docLink);\n",
              "        }\n",
              "      </script>\n",
              "    </div>\n",
              "  </div>\n",
              "  "
            ]
          },
          "metadata": {},
          "execution_count": 17
        }
      ]
    },
    {
      "cell_type": "markdown",
      "source": [
        "### 패키지 검색, 버전 지정, 목록 출력, 삭제"
      ],
      "metadata": {
        "id": "n41hkh8qXtfc"
      }
    },
    {
      "cell_type": "markdown",
      "source": [
        "* pip search 패키지: 패키지 검색\n",
        "* pip install 패키지==버전: 특정 버전의 패키지를 설치(예: pip install requests==2.9.0)\n",
        "* pip list 또는 pip freeze: 패키지 목록 출력\n",
        "* pip uninstall 패키지: 패키지 삭제"
      ],
      "metadata": {
        "id": "qBlVdAsHX0ne"
      }
    },
    {
      "cell_type": "code",
      "source": [
        "!pip list"
      ],
      "metadata": {
        "colab": {
          "base_uri": "https://localhost:8080/"
        },
        "id": "iXgyqDrkEykW",
        "outputId": "f5e39fa6-00e3-4690-90e1-6a8de1df5c44"
      },
      "execution_count": null,
      "outputs": [
        {
          "output_type": "stream",
          "name": "stdout",
          "text": [
            "Package                       Version\n",
            "----------------------------- --------------------\n",
            "absl-py                       1.4.0\n",
            "aeppl                         0.0.33\n",
            "aesara                        2.7.9\n",
            "aiohttp                       3.8.4\n",
            "aiosignal                     1.3.1\n",
            "alabaster                     0.7.13\n",
            "albumentations                1.2.1\n",
            "altair                        4.2.2\n",
            "appdirs                       1.4.4\n",
            "argon2-cffi                   21.3.0\n",
            "argon2-cffi-bindings          21.2.0\n",
            "arviz                         0.12.1\n",
            "astor                         0.8.1\n",
            "astropy                       4.3.1\n",
            "astunparse                    1.6.3\n",
            "async-timeout                 4.0.2\n",
            "atomicwrites                  1.4.1\n",
            "attrs                         22.2.0\n",
            "audioread                     3.0.0\n",
            "autograd                      1.5\n",
            "Babel                         2.12.1\n",
            "backcall                      0.2.0\n",
            "backports.zoneinfo            0.2.1\n",
            "beautifulsoup4                4.6.3\n",
            "bleach                        6.0.0\n",
            "blis                          0.7.9\n",
            "bokeh                         2.4.3\n",
            "branca                        0.6.0\n",
            "bs4                           0.0.1\n",
            "CacheControl                  0.12.11\n",
            "cachetools                    5.3.0\n",
            "catalogue                     2.0.8\n",
            "certifi                       2022.12.7\n",
            "cffi                          1.15.1\n",
            "cftime                        1.6.2\n",
            "chardet                       4.0.0\n",
            "charset-normalizer            3.0.1\n",
            "click                         8.1.3\n",
            "clikit                        0.6.2\n",
            "cloudpickle                   2.2.1\n",
            "cmake                         3.22.6\n",
            "cmdstanpy                     1.1.0\n",
            "colorcet                      3.0.1\n",
            "colorlover                    0.3.0\n",
            "community                     1.0.0b1\n",
            "confection                    0.0.4\n",
            "cons                          0.4.5\n",
            "contextlib2                   0.5.5\n",
            "convertdate                   2.4.0\n",
            "crashtest                     0.3.1\n",
            "crcmod                        1.7\n",
            "cufflinks                     0.17.3\n",
            "cvxopt                        1.3.0\n",
            "cvxpy                         1.2.3\n",
            "cycler                        0.11.0\n",
            "cymem                         2.0.7\n",
            "Cython                        0.29.33\n",
            "dask                          2022.2.1\n",
            "datascience                   0.17.6\n",
            "db-dtypes                     1.0.5\n",
            "dbus-python                   1.2.16\n",
            "debugpy                       1.6.4\n",
            "decorator                     4.4.2\n",
            "defusedxml                    0.7.1\n",
            "distributed                   2022.2.1\n",
            "dlib                          19.24.0\n",
            "dm-tree                       0.1.8\n",
            "dnspython                     2.3.0\n",
            "docutils                      0.16\n",
            "dopamine-rl                   1.0.5\n",
            "earthengine-api               0.1.342\n",
            "easydict                      1.10\n",
            "ecos                          2.0.12\n",
            "editdistance                  0.5.3\n",
            "en-core-web-sm                3.4.1\n",
            "entrypoints                   0.4\n",
            "ephem                         4.1.4\n",
            "et-xmlfile                    1.1.0\n",
            "etils                         1.0.0\n",
            "etuples                       0.3.8\n",
            "fa2                           0.3.5\n",
            "fastai                        2.7.11\n",
            "fastcore                      1.5.28\n",
            "fastdownload                  0.0.7\n",
            "fastdtw                       0.3.4\n",
            "fastjsonschema                2.16.3\n",
            "fastprogress                  1.0.3\n",
            "fastrlock                     0.8.1\n",
            "feather-format                0.4.1\n",
            "filelock                      3.9.0\n",
            "finance-datareader            0.9.50\n",
            "firebase-admin                5.3.0\n",
            "fix-yahoo-finance             0.0.22\n",
            "Flask                         2.2.3\n",
            "flatbuffers                   23.1.21\n",
            "folium                        0.12.1.post1\n",
            "fonttools                     4.38.0\n",
            "frozenlist                    1.3.3\n",
            "fsspec                        2023.1.0\n",
            "future                        0.16.0\n",
            "gast                          0.4.0\n",
            "GDAL                          3.3.2\n",
            "gdown                         4.4.0\n",
            "gensim                        3.6.0\n",
            "geographiclib                 1.52\n",
            "geopy                         1.17.0\n",
            "gin-config                    0.5.0\n",
            "glob2                         0.7\n",
            "google                        2.0.3\n",
            "google-api-core               2.11.0\n",
            "google-api-python-client      2.70.0\n",
            "google-auth                   2.16.1\n",
            "google-auth-httplib2          0.1.0\n",
            "google-auth-oauthlib          0.4.6\n",
            "google-cloud-bigquery         3.4.2\n",
            "google-cloud-bigquery-storage 2.18.1\n",
            "google-cloud-core             2.3.2\n",
            "google-cloud-datastore        2.11.1\n",
            "google-cloud-firestore        2.7.3\n",
            "google-cloud-language         2.6.1\n",
            "google-cloud-storage          2.7.0\n",
            "google-cloud-translate        3.8.4\n",
            "google-colab                  1.0.0\n",
            "google-crc32c                 1.5.0\n",
            "google-pasta                  0.2.0\n",
            "google-resumable-media        2.4.1\n",
            "googleapis-common-protos      1.58.0\n",
            "googledrivedownloader         0.4\n",
            "graphviz                      0.10.1\n",
            "greenlet                      2.0.2\n",
            "grpcio                        1.51.3\n",
            "grpcio-status                 1.48.2\n",
            "gspread                       3.4.2\n",
            "gspread-dataframe             3.0.8\n",
            "gym                           0.25.2\n",
            "gym-notices                   0.0.8\n",
            "h5py                          3.1.0\n",
            "HeapDict                      1.0.1\n",
            "hijri-converter               2.2.4\n",
            "holidays                      0.20\n",
            "holoviews                     1.14.9\n",
            "html5lib                      1.0.1\n",
            "httpimport                    0.5.18\n",
            "httplib2                      0.17.4\n",
            "httpstan                      4.6.1\n",
            "humanize                      0.5.1\n",
            "hyperopt                      0.1.2\n",
            "idna                          2.10\n",
            "imageio                       2.9.0\n",
            "imagesize                     1.4.1\n",
            "imbalanced-learn              0.8.1\n",
            "imblearn                      0.0\n",
            "imgaug                        0.4.0\n",
            "importlib-metadata            6.0.0\n",
            "importlib-resources           5.12.0\n",
            "imutils                       0.5.4\n",
            "inflect                       2.1.0\n",
            "intel-openmp                  2023.0.0\n",
            "ipykernel                     5.3.4\n",
            "ipython                       7.9.0\n",
            "ipython-genutils              0.2.0\n",
            "ipython-sql                   0.3.9\n",
            "ipywidgets                    7.7.1\n",
            "itsdangerous                  2.1.2\n",
            "jax                           0.4.4\n",
            "jaxlib                        0.4.4+cuda11.cudnn82\n",
            "jieba                         0.42.1\n",
            "Jinja2                        3.1.2\n",
            "joblib                        1.2.0\n",
            "jsonschema                    4.3.3\n",
            "jupyter-client                6.1.12\n",
            "jupyter-console               6.1.0\n",
            "jupyter_core                  5.2.0\n",
            "jupyterlab-pygments           0.2.2\n",
            "jupyterlab-widgets            3.0.5\n",
            "kaggle                        1.5.12\n",
            "keras                         2.11.0\n",
            "keras-vis                     0.4.1\n",
            "kiwisolver                    1.4.4\n",
            "korean-lunar-calendar         0.3.1\n",
            "langcodes                     3.3.0\n",
            "libclang                      15.0.6.1\n",
            "librosa                       0.8.1\n",
            "lightgbm                      2.2.3\n",
            "llvmlite                      0.39.1\n",
            "lmdb                          0.99\n",
            "locket                        1.0.0\n",
            "logical-unification           0.4.5\n",
            "LunarCalendar                 0.0.9\n",
            "lxml                          4.9.2\n",
            "Markdown                      3.4.1\n",
            "MarkupSafe                    2.1.2\n",
            "marshmallow                   3.19.0\n",
            "matplotlib                    3.5.3\n",
            "matplotlib-venn               0.11.9\n",
            "miniKanren                    1.0.3\n",
            "missingno                     0.5.2\n",
            "mistune                       0.8.4\n",
            "mizani                        0.8.1\n",
            "mkl                           2019.0\n",
            "mlxtend                       0.14.0\n",
            "more-itertools                9.1.0\n",
            "moviepy                       0.2.3.5\n",
            "mpmath                        1.2.1\n",
            "msgpack                       1.0.4\n",
            "multidict                     6.0.4\n",
            "multipledispatch              0.6.0\n",
            "multitasking                  0.0.11\n",
            "murmurhash                    1.0.9\n",
            "music21                       5.5.0\n",
            "natsort                       5.5.0\n",
            "nbclient                      0.7.2\n",
            "nbconvert                     6.5.4\n",
            "nbformat                      5.7.3\n",
            "netCDF4                       1.6.2\n",
            "networkx                      3.0\n",
            "nibabel                       3.0.2\n",
            "nltk                          3.7\n",
            "notebook                      6.3.0\n",
            "numba                         0.56.4\n",
            "numexpr                       2.8.4\n",
            "numpy                         1.22.4\n",
            "oauth2client                  4.1.3\n",
            "oauthlib                      3.2.2\n",
            "opencv-contrib-python         4.6.0.66\n",
            "opencv-python                 4.6.0.66\n",
            "opencv-python-headless        4.7.0.72\n",
            "openpyxl                      3.0.10\n",
            "opt-einsum                    3.3.0\n",
            "osqp                          0.6.2.post0\n",
            "packaging                     23.0\n",
            "palettable                    3.3.0\n",
            "pandas                        1.3.5\n",
            "pandas-datareader             0.9.0\n",
            "pandas-gbq                    0.17.9\n",
            "pandas-profiling              1.4.1\n",
            "pandocfilters                 1.5.0\n",
            "panel                         0.14.3\n",
            "param                         1.12.3\n",
            "parso                         0.8.3\n",
            "partd                         1.3.0\n",
            "pastel                        0.2.1\n",
            "pathlib                       1.0.1\n",
            "pathy                         0.10.1\n",
            "patsy                         0.5.3\n",
            "pep517                        0.13.0\n",
            "pexpect                       4.8.0\n",
            "pickleshare                   0.7.5\n",
            "Pillow                        8.4.0\n",
            "pip                           22.0.4\n",
            "pip-tools                     6.6.2\n",
            "platformdirs                  3.0.0\n",
            "plotly                        5.5.0\n",
            "plotnine                      0.10.1\n",
            "pluggy                        0.7.1\n",
            "pooch                         1.7.0\n",
            "portpicker                    1.3.9\n",
            "prefetch-generator            1.0.3\n",
            "preshed                       3.0.8\n",
            "prettytable                   3.6.0\n",
            "progressbar2                  3.38.0\n",
            "prometheus-client             0.16.0\n",
            "promise                       2.3\n",
            "prompt-toolkit                2.0.10\n",
            "prophet                       1.1.2\n",
            "proto-plus                    1.22.2\n",
            "protobuf                      3.19.6\n",
            "psutil                        5.4.8\n",
            "psycopg2                      2.9.5\n",
            "ptyprocess                    0.7.0\n",
            "py                            1.11.0\n",
            "pyarrow                       9.0.0\n",
            "pyasn1                        0.4.8\n",
            "pyasn1-modules                0.2.8\n",
            "pycocotools                   2.0.6\n",
            "pycparser                     2.21\n",
            "pyct                          0.5.0\n",
            "pydantic                      1.10.5\n",
            "pydata-google-auth            1.7.0\n",
            "pydot                         1.3.0\n",
            "pydot-ng                      2.0.0\n",
            "pydotplus                     2.0.2\n",
            "PyDrive                       1.3.1\n",
            "pyerfa                        2.0.0.1\n",
            "Pygments                      2.6.1\n",
            "PyGObject                     3.36.0\n",
            "pylev                         1.4.0\n",
            "pymc                          4.1.4\n",
            "PyMeeus                       0.5.12\n",
            "pymongo                       4.3.3\n",
            "pymystem3                     0.2.0\n",
            "PyOpenGL                      3.1.6\n",
            "pyparsing                     3.0.9\n",
            "pyrsistent                    0.19.3\n",
            "pysimdjson                    3.2.0\n",
            "PySocks                       1.7.1\n",
            "pystan                        3.3.0\n",
            "pytest                        3.6.4\n",
            "python-apt                    2.0.1\n",
            "python-dateutil               2.8.2\n",
            "python-louvain                0.16\n",
            "python-slugify                8.0.1\n",
            "python-utils                  3.5.2\n",
            "pytz                          2022.7.1\n",
            "pyviz-comms                   2.2.1\n",
            "PyWavelets                    1.4.1\n",
            "PyYAML                        6.0\n",
            "pyzmq                         23.2.1\n",
            "qdldl                         0.1.5.post3\n",
            "qudida                        0.0.4\n",
            "regex                         2022.6.2\n",
            "requests                      2.25.1\n",
            "requests-file                 1.5.1\n",
            "requests-oauthlib             1.3.1\n",
            "requests-unixsocket           0.2.0\n",
            "resampy                       0.4.2\n",
            "rpy2                          3.5.5\n",
            "rsa                           4.9\n",
            "scikit-image                  0.19.3\n",
            "scikit-learn                  1.2.1\n",
            "scipy                         1.10.1\n",
            "screen-resolution-extra       0.0.0\n",
            "scs                           3.2.2\n",
            "seaborn                       0.11.2\n",
            "Send2Trash                    1.8.0\n",
            "setuptools                    57.4.0\n",
            "shapely                       2.0.1\n",
            "six                           1.15.0\n",
            "sklearn-pandas                2.2.0\n",
            "smart-open                    6.3.0\n",
            "snowballstemmer               2.2.0\n",
            "sortedcontainers              2.4.0\n",
            "soundfile                     0.12.1\n",
            "spacy                         3.4.4\n",
            "spacy-legacy                  3.0.12\n",
            "spacy-loggers                 1.0.4\n",
            "Sphinx                        3.5.4\n",
            "sphinxcontrib-applehelp       1.0.4\n",
            "sphinxcontrib-devhelp         1.0.2\n",
            "sphinxcontrib-htmlhelp        2.0.1\n",
            "sphinxcontrib-jsmath          1.0.1\n",
            "sphinxcontrib-qthelp          1.0.3\n",
            "sphinxcontrib-serializinghtml 1.1.5\n",
            "SQLAlchemy                    1.4.46\n",
            "sqlparse                      0.4.3\n",
            "srsly                         2.4.6\n",
            "statsmodels                   0.13.5\n",
            "sympy                         1.7.1\n",
            "tables                        3.7.0\n",
            "tabulate                      0.8.10\n",
            "tblib                         1.7.0\n",
            "tenacity                      8.2.2\n",
            "tensorboard                   2.11.2\n",
            "tensorboard-data-server       0.6.1\n",
            "tensorboard-plugin-wit        1.8.1\n",
            "tensorflow                    2.11.0\n",
            "tensorflow-datasets           4.8.3\n",
            "tensorflow-estimator          2.11.0\n",
            "tensorflow-gcs-config         2.11.0\n",
            "tensorflow-hub                0.12.0\n",
            "tensorflow-io-gcs-filesystem  0.31.0\n",
            "tensorflow-metadata           1.12.0\n",
            "tensorflow-probability        0.19.0\n",
            "termcolor                     2.2.0\n",
            "terminado                     0.13.3\n",
            "text-unidecode                1.3\n",
            "textblob                      0.15.3\n",
            "thinc                         8.1.7\n",
            "threadpoolctl                 3.1.0\n",
            "tifffile                      2023.2.27\n",
            "tinycss2                      1.2.1\n",
            "toml                          0.10.2\n",
            "tomli                         2.0.1\n",
            "toolz                         0.12.0\n",
            "torch                         1.13.1+cu116\n",
            "torchaudio                    0.13.1+cu116\n",
            "torchsummary                  1.5.1\n",
            "torchtext                     0.14.1\n",
            "torchvision                   0.14.1+cu116\n",
            "tornado                       6.2\n",
            "tqdm                          4.64.1\n",
            "traitlets                     5.7.1\n",
            "tweepy                        3.10.0\n",
            "typeguard                     2.7.1\n",
            "typer                         0.7.0\n",
            "typing_extensions             4.5.0\n",
            "tzlocal                       1.5.1\n",
            "uritemplate                   4.1.1\n",
            "urllib3                       1.26.14\n",
            "vega-datasets                 0.9.0\n",
            "wasabi                        0.10.1\n",
            "wcwidth                       0.2.6\n",
            "webargs                       8.2.0\n",
            "webencodings                  0.5.1\n",
            "Werkzeug                      2.2.3\n",
            "wheel                         0.38.4\n",
            "widgetsnbextension            3.6.2\n",
            "wordcloud                     1.8.2.2\n",
            "wrapt                         1.15.0\n",
            "xarray                        2022.12.0\n",
            "xarray-einstats               0.5.1\n",
            "xgboost                       1.7.4\n",
            "xkit                          0.0.0\n",
            "xlrd                          1.2.0\n",
            "xlwt                          1.3.0\n",
            "yarl                          1.8.2\n",
            "yellowbrick                   1.5\n",
            "zict                          2.2.0\n",
            "zipp                          3.15.0\n"
          ]
        }
      ]
    }
  ]
}