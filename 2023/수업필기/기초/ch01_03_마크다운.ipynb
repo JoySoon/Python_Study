{
  "nbformat": 4,
  "nbformat_minor": 0,
  "metadata": {
    "colab": {
      "provenance": [],
      "authorship_tag": "ABX9TyM9xHf0ulmhJYr183WuElKk",
      "include_colab_link": true
    },
    "kernelspec": {
      "name": "python3",
      "display_name": "Python 3"
    },
    "language_info": {
      "name": "python"
    }
  },
  "cells": [
    {
      "cell_type": "markdown",
      "metadata": {
        "id": "view-in-github",
        "colab_type": "text"
      },
      "source": [
        "<a href=\"https://colab.research.google.com/github/JoySoon/Python_BigData23th/blob/main/submission/JoySoon/ch01_03_%EB%A7%88%ED%81%AC%EB%8B%A4%EC%9A%B4.ipynb\" target=\"_parent\"><img src=\"https://colab.research.google.com/assets/colab-badge.svg\" alt=\"Open In Colab\"/></a>"
      ]
    },
    {
      "cell_type": "markdown",
      "source": [
        "# 제목 (Headline)\n",
        "## 2단계 제목\n",
        "### 3단계 제목\n",
        "#### 4단계 제목\n",
        "##### 5단계 제목\n",
        "###### 6단계 제목\n"
      ],
      "metadata": {
        "id": "sZookt7e5ykK"
      }
    },
    {
      "cell_type": "markdown",
      "source": [
        "수평선\n",
        "---\n",
        "텍스트에 ---를 바로 붙이면 '#'과 같은 효과\n",
        "\n",
        "(수평선)\n",
        "\n",
        "---"
      ],
      "metadata": {
        "id": "Eq3sbtmo6eXC"
      }
    },
    {
      "cell_type": "markdown",
      "source": [
        "줄바꿈<br>줄바꿈"
      ],
      "metadata": {
        "id": "_wIa82xF6xqd"
      }
    },
    {
      "cell_type": "markdown",
      "source": [
        "**굵게**\n",
        "*기울게*\n",
        "__굵게__\n",
        "_기울게_\n",
        "~~취소선~~\n",
        "<u>밑줄<u/>"
      ],
      "metadata": {
        "id": "hA_efKQI68GB"
      }
    },
    {
      "cell_type": "markdown",
      "source": [
        "> 인용문\n",
        ">> 인용문 안에 인용문\n",
        ">>> 인용문 안에 인용문 안에 인용문\n",
        ">>>>인용문 안에 인용문 안에 인용문 안에 인용문\n"
      ],
      "metadata": {
        "id": "Y8lQosLI7Hhr"
      }
    },
    {
      "cell_type": "markdown",
      "source": [
        "순서가 없는 리스트\n",
        "* 사과\n",
        "* 배\n",
        "* 자두\n",
        "\n",
        "순서가 있는 리스트\n",
        "1. 파이썬\n",
        "2. 자바\n",
        "3. SQL\n",
        "\n",
        "순서가 있는 리스트2\n",
        "1. 파이썬\n",
        "1. 자바\n",
        "1. SQL\n",
        "\n",
        "들여쓰기\n",
        "* 사과\n",
        "    * 껍질\n",
        "        * 볶음\n",
        "* 위\n",
        "        아래 ( Tab x 2 = 코드블록)\n",
        "        ** 굵게 **\n",
        "\n",
        "코드블록 - > 이 안에 꾸며주는 마크다운 문법 무시"
      ],
      "metadata": {
        "id": "qGTOHWIv7TyW"
      }
    },
    {
      "cell_type": "markdown",
      "source": [
        "코드 블록\n",
        "\n",
        "한 줄 코드\n",
        "`print('Hello World')` - 음영처리\n",
        "\n",
        "여러 줄 코드블록\n",
        "\n",
        "```\n",
        "print('hello')\n",
        "print('world')\n",
        "```"
      ],
      "metadata": {
        "id": "ru4jlh0P8XcT"
      }
    },
    {
      "cell_type": "markdown",
      "source": [
        "|제목|작가|출판일|\n",
        "|-:|:-:|:-|\n",
        "|**장발장**|변영인3세|2022.09.01|\n",
        "|파이썬|~김철수27세~|1971.09.01|"
      ],
      "metadata": {
        "id": "WX59ztC38ynX"
      }
    },
    {
      "cell_type": "markdown",
      "source": [
        "[표시될 텍스트](https://www.naver.com/)<br>\n",
        "![이미지에 대한 설명](https://ouch-cdn2.icons8.com/eYtvH4DXBvExVNRlaHtfs2T7HEWsNeiNKSEFMYTySHY/rs:fit:256:289/czM6Ly9pY29uczgu/b3VjaC1wcm9kLmFz/c2V0cy9wbmcvNTYz/LzZlM2QwYmVjLWIx/ZWUtNDU4Ny1iYTgy/LWFlY2YwY2QxNWM5/YS5wbmc.png)"
      ],
      "metadata": {
        "id": "-7dmiIKn9aw6"
      }
    },
    {
      "cell_type": "markdown",
      "source": [
        "- [ ] 체크박스\n",
        "- [x] 체크된 체크박스\n",
        "\n",
        "latex"
      ],
      "metadata": {
        "id": "m3pvDDDR99Vd"
      }
    },
    {
      "cell_type": "code",
      "source": [],
      "metadata": {
        "id": "4PLAL5GT-ef_"
      },
      "execution_count": null,
      "outputs": []
    }
  ]
}