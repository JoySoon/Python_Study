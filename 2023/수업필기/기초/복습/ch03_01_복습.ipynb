{
  "nbformat": 4,
  "nbformat_minor": 0,
  "metadata": {
    "colab": {
      "provenance": [],
      "include_colab_link": true
    },
    "kernelspec": {
      "name": "python3",
      "display_name": "Python 3"
    },
    "language_info": {
      "name": "python"
    }
  },
  "cells": [
    {
      "cell_type": "markdown",
      "metadata": {
        "id": "view-in-github",
        "colab_type": "text"
      },
      "source": [
        "<a href=\"https://colab.research.google.com/github/JoySoon/Python_Study/blob/main/2023/%EC%88%98%EC%97%85%ED%95%84%EA%B8%B0/CH03_01_%EB%B3%B5%EC%8A%B5_ipynb%EC%9D%98_%EC%82%AC%EB%B3%B8.ipynb\" target=\"_parent\"><img src=\"https://colab.research.google.com/assets/colab-badge.svg\" alt=\"Open In Colab\"/></a>"
      ]
    },
    {
      "cell_type": "markdown",
      "source": [
        "# 함수"
      ],
      "metadata": {
        "id": "6h3H7WwIpp9G"
      }
    },
    {
      "cell_type": "code",
      "execution_count": null,
      "metadata": {
        "id": "69WO43QlpgSj"
      },
      "outputs": [],
      "source": [
        "import random\n",
        "\n",
        "subjects = [\n",
        "    \"여러분, 취업 준비하셔야해요!\",\n",
        "    \"자격증은 스터디 짜셨어요?\",\n",
        "    \"왜 깃허브에 회고 안 올려요??\",\n",
        "    \"사람들이 왜 자꾸 나가지 ㅠㅠ\",\n",
        "    \"오늘 주식은 많이 오르지 않네요\",\n",
        "]\n",
        "learning = {\n",
        "    \"문자열\": \"split, replace...\",\n",
        "    \"리스트\": \"append, extend...\",\n",
        "    \"딕셔너리\": \"get, update...\"\n",
        "}\n",
        "\n",
        "def study(): # 상위모듈\n",
        "    energy = random.randint(1, 10)\n",
        "    print(hello(energy)) # 하위모듈\n",
        "    energy -= 1\n",
        "    # random.choices(뽑히는 대상-모집단, k=뽑는수)\n",
        "    chat(energy, *subjects, k=2) # * 리스트 언패킹\n",
        "    lecture(**learning)\n",
        "    print(*bye(), sep=' ')\n",
        "\n",
        "# def hello():\n",
        "#     return \"좋은 아침입니다 여러분\"\n",
        "\n",
        "# def chat(repeat, *args):\n",
        "#     pass\n",
        "\n",
        "# def lecture():\n",
        "#     pass\n",
        "\n",
        "def bye():\n",
        "    return \"10분 쉬겠습니다\", \"PR 보내주세요\""
      ]
    },
    {
      "cell_type": "code",
      "source": [
        "def hello(energy=5):\n",
        "    # 0 ~ 10\n",
        "    if energy == 10:\n",
        "        return \"여러분! 오늘 제가 커피 쏠까요?\" # return -> 더 이상 뒤로 진행 X\n",
        "    if energy >= 5:\n",
        "        return \"^_^ 오늘 점심메뉴 알려드릴까요?\"\n",
        "    return \"... (무표정)\""
      ],
      "metadata": {
        "id": "RU4582E9qfAF"
      },
      "execution_count": null,
      "outputs": []
    },
    {
      "cell_type": "code",
      "source": [
        "def chat(repeat, *args, k=2):\n",
        "    for i in range(repeat):\n",
        "        print(f\"* 제가 {i+1}번째 이야기하는 것 같은데...\")\n",
        "        # for j in args:\n",
        "        #     print(j)\n",
        "        choices = random.choices(args, k=k)\n",
        "        for j in choices:\n",
        "            print(f\"** {j}\")"
      ],
      "metadata": {
        "id": "0b1NZet5rmVo"
      },
      "execution_count": null,
      "outputs": []
    },
    {
      "cell_type": "code",
      "source": [
        "def lecture(**kwargs):\n",
        "    # for k, v in kwargs.items():\n",
        "    #     print('*** 자, 진도 나가겠습니다')\n",
        "    #     print(f'*** {k}에서 {v}를 배워봅시다')\n",
        "    for i, (k, v) in enumerate(kwargs.items()):\n",
        "        print(f'*** 자, 진도 {i+1}번째 나가겠습니다')\n",
        "        print(f'*** {k}에서 {v}를 배워봅시다')"
      ],
      "metadata": {
        "id": "Dg2GC9Futi74"
      },
      "execution_count": null,
      "outputs": []
    },
    {
      "cell_type": "code",
      "source": [
        "study()"
      ],
      "metadata": {
        "colab": {
          "base_uri": "https://localhost:8080/"
        },
        "id": "f1T2hTAFqRfm",
        "outputId": "c3b14e48-5af6-48e3-eed2-91f6e4ae8f90"
      },
      "execution_count": null,
      "outputs": [
        {
          "output_type": "stream",
          "name": "stdout",
          "text": [
            "^_^ 오늘 점심메뉴 알려드릴까요?\n",
            "* 제가 1번째 이야기하는 것 같은데...\n",
            "** 여러분, 취업 준비하셔야해요!\n",
            "** 자격증은 스터디 짜셨어요?\n",
            "* 제가 2번째 이야기하는 것 같은데...\n",
            "** 자격증은 스터디 짜셨어요?\n",
            "** 왜 깃허브에 회고 안 올려요??\n",
            "* 제가 3번째 이야기하는 것 같은데...\n",
            "** 오늘 주식은 많이 오르지 않네요\n",
            "** 사람들이 왜 자꾸 나가지 ㅠㅠ\n",
            "* 제가 4번째 이야기하는 것 같은데...\n",
            "** 자격증은 스터디 짜셨어요?\n",
            "** 오늘 주식은 많이 오르지 않네요\n",
            "*** 자, 진도 1번째 나가겠습니다\n",
            "*** 문자열에서 split, replace...를 배워봅시다\n",
            "*** 자, 진도 2번째 나가겠습니다\n",
            "*** 리스트에서 append, extend...를 배워봅시다\n",
            "*** 자, 진도 3번째 나가겠습니다\n",
            "*** 딕셔너리에서 get, update...를 배워봅시다\n",
            "10분 쉬겠습니다 PR 보내주세요\n"
          ]
        }
      ]
    }
  ]
}