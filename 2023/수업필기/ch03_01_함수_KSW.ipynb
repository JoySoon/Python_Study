{
  "nbformat": 4,
  "nbformat_minor": 0,
  "metadata": {
    "colab": {
      "provenance": [],
      "include_colab_link": true
    },
    "kernelspec": {
      "name": "python3",
      "display_name": "Python 3"
    },
    "language_info": {
      "name": "python"
    }
  },
  "cells": [
    {
      "cell_type": "markdown",
      "metadata": {
        "id": "view-in-github",
        "colab_type": "text"
      },
      "source": [
        "<a href=\"https://colab.research.google.com/github/JoySoon/Python_BigData23th/blob/backup/submission/JoySoon/ch03_01_%ED%95%A8%EC%88%98_KSW.ipynb\" target=\"_parent\"><img src=\"https://colab.research.google.com/assets/colab-badge.svg\" alt=\"Open In Colab\"/></a>"
      ]
    },
    {
      "cell_type": "markdown",
      "source": [
        "# 함수"
      ],
      "metadata": {
        "id": "BVxDJuR2Yly6"
      }
    },
    {
      "cell_type": "markdown",
      "source": [
        "프로그래밍을 하다 보면 들어가는 값만 바뀔 뿐 같은 코드가 계속 반복되는 경우가 많습니다. 특히 같은 코드를 반복해서 작성하면 코드도 길어지고 중간에 실수할 가능성이 높아집니다.\n",
        "\n",
        "파이썬은 함수(function)라는 기능을 제공하는데 특정 용도의 코드를 한 곳에 모아 놓은 것을 뜻합니다. 그래서 함수는 처음 한 번만 작성해 놓으면 나중에 필요할 때 계속 불러 쓸 수 있습니다. 예를 들어 지금까지 사용했던 print, input 등도 모두 파이썬에서 미리 만들어 둔 함수입니다.\n",
        "\n",
        "즉, 함수를 사용하면 이런 점이 좋습니다.\n",
        "\n",
        "* 코드의 용도를 구분할 수 있다.\n",
        "* 코드를 재사용할 수 있다.\n",
        "* 실수를 줄일 수 있다."
      ],
      "metadata": {
        "id": "bFBy5TGDYpPM"
      }
    },
    {
      "cell_type": "markdown",
      "source": [
        "## 함수 만들기"
      ],
      "metadata": {
        "id": "ppOj_leXYy_7"
      }
    },
    {
      "cell_type": "markdown",
      "source": [
        "함수는 def에 함수 이름을 지정하고 ( )(괄호)와 :(콜론)을 붙인 뒤 다음 줄에 원하는 코드를 작성합니다(함수의 이름을 짓는 방법은 변수와 같습니다). 이때 코드는 반드시 들여쓰기를 해야 합니다(들여쓰기 규칙은 if, for, while과 같습니다).\n",
        "\n",
        "```\n",
        "def 함수이름():\n",
        "     코드\n",
        "```\n",
        "\n",
        "여기서 def는 정의하다(**def**ine)에서 따온 키워드입니다."
      ],
      "metadata": {
        "id": "XoiZ-_n5Y2b-"
      }
    },
    {
      "cell_type": "code",
      "execution_count": 1,
      "metadata": {
        "id": "xDDl3ikNJviB"
      },
      "outputs": [],
      "source": [
        "def hello():\n",
        "    print(\"안녕하세요\")"
      ]
    },
    {
      "cell_type": "markdown",
      "source": [
        "### 함수 호출하기"
      ],
      "metadata": {
        "id": "KsMUc54MZBFf"
      }
    },
    {
      "cell_type": "markdown",
      "source": [
        "함수를 사용하는 방법을 \"함수를 호출(call)한다\"라고 부릅니다."
      ],
      "metadata": {
        "id": "qRonxM_jZG1M"
      }
    },
    {
      "cell_type": "code",
      "source": [
        "# 함수()\n",
        "hello()"
      ],
      "metadata": {
        "colab": {
          "base_uri": "https://localhost:8080/"
        },
        "id": "xHZzQO25Y_Rz",
        "outputId": "d212fe59-67e4-455e-c4fa-a000bc53e76a"
      },
      "execution_count": 2,
      "outputs": [
        {
          "output_type": "stream",
          "name": "stdout",
          "text": [
            "안녕하세요\n"
          ]
        }
      ]
    },
    {
      "cell_type": "markdown",
      "source": [
        "### 함수 작성과 함수 호출 순서"
      ],
      "metadata": {
        "id": "yM1uDaQQZMM8"
      }
    },
    {
      "cell_type": "markdown",
      "source": [
        "함수를 만들고 호출할 때 주의할 점이 있는데, 바로 함수를 만들기 전에 함수를 먼저 호출하면 안 된다는 점입니다. 즉, 다음과 같이 함수를 먼저 호출한 뒤 함수를 만들 수는 없습니다."
      ],
      "metadata": {
        "id": "kLonkjiBZOBW"
      }
    },
    {
      "cell_type": "code",
      "source": [
        "b\n",
        "\n",
        "b = 'a'"
      ],
      "metadata": {
        "colab": {
          "base_uri": "https://localhost:8080/",
          "height": 209
        },
        "id": "Ou4kEraWWfmk",
        "outputId": "d4e13154-0fe5-40ae-c974-a95c21c33038"
      },
      "execution_count": 4,
      "outputs": [
        {
          "output_type": "error",
          "ename": "NameError",
          "evalue": "ignored",
          "traceback": [
            "\u001b[0;31m---------------------------------------------------------------------------\u001b[0m",
            "\u001b[0;31mNameError\u001b[0m                                 Traceback (most recent call last)",
            "\u001b[0;32m<ipython-input-4-d37c6131a00e>\u001b[0m in \u001b[0;36m<module>\u001b[0;34m\u001b[0m\n\u001b[0;32m----> 1\u001b[0;31m \u001b[0mb\u001b[0m\u001b[0;34m\u001b[0m\u001b[0;34m\u001b[0m\u001b[0m\n\u001b[0m\u001b[1;32m      2\u001b[0m \u001b[0;34m\u001b[0m\u001b[0m\n\u001b[1;32m      3\u001b[0m \u001b[0mb\u001b[0m \u001b[0;34m=\u001b[0m \u001b[0;34m'a'\u001b[0m\u001b[0;34m\u001b[0m\u001b[0;34m\u001b[0m\u001b[0m\n",
            "\u001b[0;31mNameError\u001b[0m: name 'b' is not defined"
          ]
        }
      ]
    },
    {
      "cell_type": "code",
      "source": [
        "hello2()\n",
        "\n",
        "def hello2():\n",
        "    print(\"hell2\")\n",
        "\n",
        "# 특정언어들은 가능 ex) java script"
      ],
      "metadata": {
        "colab": {
          "base_uri": "https://localhost:8080/",
          "height": 246
        },
        "id": "E0tkgMuTZFKl",
        "outputId": "9a71f9c1-c17b-449f-ffdb-2ad68219525b"
      },
      "execution_count": 3,
      "outputs": [
        {
          "output_type": "error",
          "ename": "NameError",
          "evalue": "ignored",
          "traceback": [
            "\u001b[0;31m---------------------------------------------------------------------------\u001b[0m",
            "\u001b[0;31mNameError\u001b[0m                                 Traceback (most recent call last)",
            "\u001b[0;32m<ipython-input-3-6386402c48a6>\u001b[0m in \u001b[0;36m<module>\u001b[0;34m\u001b[0m\n\u001b[0;32m----> 1\u001b[0;31m \u001b[0mhello2\u001b[0m\u001b[0;34m(\u001b[0m\u001b[0;34m)\u001b[0m\u001b[0;34m\u001b[0m\u001b[0;34m\u001b[0m\u001b[0m\n\u001b[0m\u001b[1;32m      2\u001b[0m \u001b[0;34m\u001b[0m\u001b[0m\n\u001b[1;32m      3\u001b[0m \u001b[0;32mdef\u001b[0m \u001b[0mhello2\u001b[0m\u001b[0;34m(\u001b[0m\u001b[0;34m)\u001b[0m\u001b[0;34m:\u001b[0m\u001b[0;34m\u001b[0m\u001b[0;34m\u001b[0m\u001b[0m\n\u001b[1;32m      4\u001b[0m     \u001b[0mprint\u001b[0m\u001b[0;34m(\u001b[0m\u001b[0;34m\"hell2\"\u001b[0m\u001b[0;34m)\u001b[0m\u001b[0;34m\u001b[0m\u001b[0;34m\u001b[0m\u001b[0m\n\u001b[1;32m      5\u001b[0m \u001b[0;34m\u001b[0m\u001b[0m\n",
            "\u001b[0;31mNameError\u001b[0m: name 'hello2' is not defined"
          ]
        }
      ]
    },
    {
      "cell_type": "markdown",
      "source": [
        "함수를 먼저 호출하면 함수가 정의(define)되지 않았다는 에러가 발생합니다. 왜냐하면 파이썬 코드는 위에서 아래로 순차적으로 실행되기 때문입니다. 반드시 함수를 먼저 만든 뒤에 함수를 호출해야 합니다."
      ],
      "metadata": {
        "id": "a0WCaFtJZT5p"
      }
    },
    {
      "cell_type": "markdown",
      "source": [
        "### 빈 함수 만들기"
      ],
      "metadata": {
        "id": "fBYqHujdZXqy"
      }
    },
    {
      "cell_type": "code",
      "source": [
        "# 내용이 없는 빈 함수를 만들 때는 코드 부분에 pass를 넣어줍니다.\n",
        "def fun():\n",
        "    pass"
      ],
      "metadata": {
        "id": "Ing4tVWwZQWd"
      },
      "execution_count": 5,
      "outputs": []
    },
    {
      "cell_type": "code",
      "source": [
        "def 설거지(): # 상위모듈\n",
        "    그릇모으기() # 하위모듈\n",
        "    세제뿌리기()\n",
        "    행구기()\n",
        "    말리기()\n",
        "\n",
        "def 그릇모으기():\n",
        "    pass\n",
        "\n",
        "def 세제뿌리기():\n",
        "    print(\"세제뿌링클\")\n",
        "\n",
        "def 행구기():\n",
        "    pass\n",
        "\n",
        "def 말리기():\n",
        "    pass"
      ],
      "metadata": {
        "id": "HO48_YW6W9S1"
      },
      "execution_count": 8,
      "outputs": []
    },
    {
      "cell_type": "code",
      "source": [
        "설거지()"
      ],
      "metadata": {
        "colab": {
          "base_uri": "https://localhost:8080/"
        },
        "id": "c5x7yvi0XZzM",
        "outputId": "3f94d4b1-903d-4e83-ab9a-f8cdc03a4dc9"
      },
      "execution_count": 9,
      "outputs": [
        {
          "output_type": "stream",
          "name": "stdout",
          "text": [
            "세제뿌링클\n"
          ]
        }
      ]
    },
    {
      "cell_type": "markdown",
      "source": [
        "나중에 다른 사람이 만든 파이썬 소스 코드를 보다 보면 pass를 자주 접할 수 있습니다.\n",
        "\n",
        "pass는 아무 일을 하지 않아도 함수의 틀을 유지할 필요가 있을 때 사용합니다."
      ],
      "metadata": {
        "id": "FAqscQPfgj8r"
      }
    },
    {
      "cell_type": "markdown",
      "source": [
        "## 매개변수 (parameter)"
      ],
      "metadata": {
        "id": "kilXJUWkZjZC"
      }
    },
    {
      "cell_type": "markdown",
      "source": [
        "함수에서 값을 받으려면 ( )(괄호) 안에 변수 이름을 지정해주면 됩니다. 특히 이 변수를 매개변수(parameter)라고 부릅니다.\n",
        "\n",
        "```\n",
        "def 함수이름(매개변수1, 매개변수2):\n",
        "    코드\n",
        "```"
      ],
      "metadata": {
        "id": "E78p95CvdR9w"
      }
    },
    {
      "cell_type": "code",
      "source": [
        "def plus(a, b):\n",
        "    print(a + b)"
      ],
      "metadata": {
        "id": "7BbamUj5dUEa"
      },
      "execution_count": 10,
      "outputs": []
    },
    {
      "cell_type": "code",
      "source": [
        "plus(14, 16)"
      ],
      "metadata": {
        "colab": {
          "base_uri": "https://localhost:8080/"
        },
        "id": "5IvNJiOadXFQ",
        "outputId": "ebafb32b-a4ed-418b-d986-0b907cb1e47c"
      },
      "execution_count": 12,
      "outputs": [
        {
          "output_type": "stream",
          "name": "stdout",
          "text": [
            "30\n"
          ]
        }
      ]
    },
    {
      "cell_type": "code",
      "source": [
        "a, b"
      ],
      "metadata": {
        "colab": {
          "base_uri": "https://localhost:8080/",
          "height": 173
        },
        "id": "XN0WpuD3YjHr",
        "outputId": "626ce176-d94e-4371-ae30-11cc78dfa66a"
      },
      "execution_count": 14,
      "outputs": [
        {
          "output_type": "error",
          "ename": "NameError",
          "evalue": "ignored",
          "traceback": [
            "\u001b[0;31m---------------------------------------------------------------------------\u001b[0m",
            "\u001b[0;31mNameError\u001b[0m                                 Traceback (most recent call last)",
            "\u001b[0;32m<ipython-input-14-4469257aa3ee>\u001b[0m in \u001b[0;36m<module>\u001b[0;34m\u001b[0m\n\u001b[0;32m----> 1\u001b[0;31m \u001b[0ma\u001b[0m \u001b[0;34m,\u001b[0m \u001b[0mb\u001b[0m\u001b[0;34m\u001b[0m\u001b[0;34m\u001b[0m\u001b[0m\n\u001b[0m",
            "\u001b[0;31mNameError\u001b[0m: name 'a' is not defined"
          ]
        }
      ]
    },
    {
      "cell_type": "code",
      "source": [
        "a = 100\n",
        "plus(50, 20)\n",
        "a + 50"
      ],
      "metadata": {
        "colab": {
          "base_uri": "https://localhost:8080/"
        },
        "id": "GLRK8-yOYsac",
        "outputId": "338ff12f-3a02-4812-b9b3-22521694b3e0"
      },
      "execution_count": 16,
      "outputs": [
        {
          "output_type": "stream",
          "name": "stdout",
          "text": [
            "70\n"
          ]
        },
        {
          "output_type": "execute_result",
          "data": {
            "text/plain": [
              "150"
            ]
          },
          "metadata": {},
          "execution_count": 16
        }
      ]
    },
    {
      "cell_type": "markdown",
      "source": [
        "함수를 호출할 때 넣는 값을 인자, 인수(argument)라고 부릅니다."
      ],
      "metadata": {
        "id": "79ZgXKffdaIE"
      }
    },
    {
      "cell_type": "markdown",
      "source": [
        "## 함수의 결과를 반환하기"
      ],
      "metadata": {
        "id": "QXyRsdQRdfcx"
      }
    },
    {
      "cell_type": "markdown",
      "source": [
        "함수 안에서 return을 사용하면 값을 함수 바깥으로 반환합니다(return에 값을 지정하지 않으면 None을 반환).\n",
        "\n",
        "```\n",
        "def 함수이름(매개변수):\n",
        "    return 반환값\n",
        "```"
      ],
      "metadata": {
        "id": "002t4GWpdlKr"
      }
    },
    {
      "cell_type": "code",
      "source": [
        "def minus(a ,b):\n",
        "    c = a - b\n",
        "    return c"
      ],
      "metadata": {
        "id": "687JFw4tdZVz"
      },
      "execution_count": 17,
      "outputs": []
    },
    {
      "cell_type": "code",
      "source": [
        "c = 40\n",
        "minus(10, 20)\n",
        "c"
      ],
      "metadata": {
        "colab": {
          "base_uri": "https://localhost:8080/"
        },
        "id": "AHYJBXNHdwrC",
        "outputId": "dc691141-aed7-4462-c805-13c6b9ac0384"
      },
      "execution_count": 19,
      "outputs": [
        {
          "output_type": "execute_result",
          "data": {
            "text/plain": [
              "40"
            ]
          },
          "metadata": {},
          "execution_count": 19
        }
      ]
    },
    {
      "cell_type": "code",
      "source": [
        "c = minus(10, 20)\n",
        "c"
      ],
      "metadata": {
        "colab": {
          "base_uri": "https://localhost:8080/"
        },
        "id": "UCVYXuV5ZlwC",
        "outputId": "2f49ca57-2697-4d60-b1a1-490c5f63b897"
      },
      "execution_count": 21,
      "outputs": [
        {
          "output_type": "execute_result",
          "data": {
            "text/plain": [
              "-10"
            ]
          },
          "metadata": {},
          "execution_count": 21
        }
      ]
    },
    {
      "cell_type": "code",
      "source": [
        "def lotto():\n",
        "    print(f\" 실행 : {45}\")\n",
        "    return 30\n",
        "    # return\n",
        "    # return\n",
        "\n",
        "a = lotto()\n",
        "print(f\"반환 : {a}\")"
      ],
      "metadata": {
        "colab": {
          "base_uri": "https://localhost:8080/"
        },
        "id": "XARiPGOWZuQ5",
        "outputId": "24e1527e-c964-4f12-e328-1e5c874a5aab"
      },
      "execution_count": 25,
      "outputs": [
        {
          "output_type": "stream",
          "name": "stdout",
          "text": [
            " 실행 : 45\n",
            "반환 : 30\n"
          ]
        }
      ]
    },
    {
      "cell_type": "markdown",
      "source": [
        "return으로 반환하는 값은 반환값이라고 하며 함수를 호출해준 바깥에 결과를 알려주기 위해 사용합니다."
      ],
      "metadata": {
        "id": "Ncoqgxukd3Ox"
      }
    },
    {
      "cell_type": "code",
      "source": [
        "# 반환값은 변수에 저장하지 않고 바로 다른 함수에 넣을 수도 있습니다.\n",
        "print(lotto())"
      ],
      "metadata": {
        "id": "s0Fm428vd0XU",
        "colab": {
          "base_uri": "https://localhost:8080/"
        },
        "outputId": "2506cdf1-f521-4dc2-935b-53f9946d5a38"
      },
      "execution_count": 27,
      "outputs": [
        {
          "output_type": "stream",
          "name": "stdout",
          "text": [
            " 실행 : 45\n",
            "30\n"
          ]
        }
      ]
    },
    {
      "cell_type": "code",
      "source": [
        "def concat(a , b):\n",
        "    return a + b\n",
        "\n",
        "input(concat(\"안녕\", \"세상\"))"
      ],
      "metadata": {
        "colab": {
          "base_uri": "https://localhost:8080/",
          "height": 53
        },
        "id": "ppcQ2kLVaTtz",
        "outputId": "3f7b8fd4-9c34-461e-fff0-53f60a46e6a5"
      },
      "execution_count": 31,
      "outputs": [
        {
          "name": "stdout",
          "output_type": "stream",
          "text": [
            "안녕세상하이하이\n"
          ]
        },
        {
          "output_type": "execute_result",
          "data": {
            "text/plain": [
              "'하이하이'"
            ],
            "application/vnd.google.colaboratory.intrinsic+json": {
              "type": "string"
            }
          },
          "metadata": {},
          "execution_count": 31
        }
      ]
    },
    {
      "cell_type": "markdown",
      "source": [
        "### return으로 함수 중간에서 빠져나오기"
      ],
      "metadata": {
        "id": "MLqxIu1cd95p"
      }
    },
    {
      "cell_type": "code",
      "source": [
        "def concat(a, b): # 문자열을 연결하기 위해 설계\n",
        "    # 숫자가 들어오면 -> 숫자는 안됩니다\n",
        "    if type(a) != str: # type(x) == {타입종류} : 해당 타입인지 검사\n",
        "        print(\"첫번째 인자가 문자열이 아닙니다.\")\n",
        "        return # 함수 내부 break 더 이상 진행이 필요없거나 중간에 실행을 멈주던가 코드의 분기 설정 / 함수외부X\n",
        "    if type(b) != str:\n",
        "        print(\"두번째 인자가 문자열이 아닙니다.\")\n",
        "        return\n",
        "    return a + b"
      ],
      "metadata": {
        "id": "CWp0SzxVeBVc"
      },
      "execution_count": 36,
      "outputs": []
    },
    {
      "cell_type": "code",
      "source": [
        "r = concat(1, 1)\n",
        "print(f\"Return : {r}\")"
      ],
      "metadata": {
        "colab": {
          "base_uri": "https://localhost:8080/"
        },
        "id": "5lSWRbKabVHf",
        "outputId": "adf55e06-ee48-4ec9-c07b-ee4d06d92c60"
      },
      "execution_count": 37,
      "outputs": [
        {
          "output_type": "stream",
          "name": "stdout",
          "text": [
            "첫번째 인자가 문자열이 아닙니다.\n",
            "Return : None\n"
          ]
        }
      ]
    },
    {
      "cell_type": "code",
      "source": [
        "r = concat(\"1\", 1)\n",
        "print(f\"Return : {r}\")"
      ],
      "metadata": {
        "colab": {
          "base_uri": "https://localhost:8080/"
        },
        "id": "JVGjEQvwbcf8",
        "outputId": "f609ea73-0d69-4a33-c26c-4c13cacf7380"
      },
      "execution_count": 39,
      "outputs": [
        {
          "output_type": "stream",
          "name": "stdout",
          "text": [
            "두번째 인자가 문자열이 아닙니다.\n",
            "Return : None\n"
          ]
        }
      ]
    },
    {
      "cell_type": "code",
      "source": [
        "r = concat(\"1\", \"1\")\n",
        "print(f\"Return : {r}\")"
      ],
      "metadata": {
        "colab": {
          "base_uri": "https://localhost:8080/"
        },
        "id": "BRLLnc8sb-nP",
        "outputId": "94223e06-e149-498f-9b4a-0d43bf368fee"
      },
      "execution_count": 40,
      "outputs": [
        {
          "output_type": "stream",
          "name": "stdout",
          "text": [
            "Return : 11\n"
          ]
        }
      ]
    },
    {
      "cell_type": "code",
      "source": [
        "def guess(number):\n",
        "    answer = 100\n",
        "    if number == answer: # 일치하면\n",
        "        return \"정답\"\n",
        "    if number > answer:\n",
        "        return \"DOWN\"\n",
        "    if number < answer:\n",
        "        return \"UP\""
      ],
      "metadata": {
        "id": "sC2ESl_ScBmM"
      },
      "execution_count": 41,
      "outputs": []
    },
    {
      "cell_type": "code",
      "source": [
        "def guess2(number):\n",
        "    answer = 100\n",
        "    # result = none\n",
        "    if number == answer: # 일치하면\n",
        "        result =\"정답\"\n",
        "    if number >= answer:\n",
        "        result =\"DOWN\"\n",
        "    if number <= answer:\n",
        "        result =\"UP\"\n",
        "    return result"
      ],
      "metadata": {
        "id": "Ip_MqygoAu-m"
      },
      "execution_count": 187,
      "outputs": []
    },
    {
      "cell_type": "code",
      "source": [
        "guess(40), guess(102), guess(100)"
      ],
      "metadata": {
        "colab": {
          "base_uri": "https://localhost:8080/"
        },
        "id": "I1GZeyq1cYBs",
        "outputId": "f827932b-2e05-4bb5-bcf1-fe6026768eac"
      },
      "execution_count": 42,
      "outputs": [
        {
          "output_type": "execute_result",
          "data": {
            "text/plain": [
              "('UP', 'DOWN', '정답')"
            ]
          },
          "metadata": {},
          "execution_count": 42
        }
      ]
    },
    {
      "cell_type": "code",
      "source": [
        "guess2(100)"
      ],
      "metadata": {
        "colab": {
          "base_uri": "https://localhost:8080/",
          "height": 35
        },
        "id": "bl7pSPNKdSq-",
        "outputId": "34d5ea12-23d3-47c3-c260-40de4f88aa66"
      },
      "execution_count": 188,
      "outputs": [
        {
          "output_type": "execute_result",
          "data": {
            "text/plain": [
              "'UP'"
            ],
            "application/vnd.google.colaboratory.intrinsic+json": {
              "type": "string"
            }
          },
          "metadata": {},
          "execution_count": 188
        }
      ]
    },
    {
      "cell_type": "code",
      "source": [
        "def not_ten(a):\n",
        "    if a == 10:\n",
        "        return\n",
        "    print(f\"{a}입니다\")\n",
        "\n",
        "not_ten(5)\n",
        "not_ten(10)"
      ],
      "metadata": {
        "colab": {
          "base_uri": "https://localhost:8080/"
        },
        "id": "B-SMgHI2dith",
        "outputId": "6dfafa1a-d927-429d-b930-0ee5f323771c"
      },
      "execution_count": 57,
      "outputs": [
        {
          "output_type": "stream",
          "name": "stdout",
          "text": [
            "5입니다\n"
          ]
        }
      ]
    },
    {
      "cell_type": "code",
      "source": [
        "def loop(a, b, c):\n",
        "    for i in range(a, b+1):\n",
        "        print(i)\n",
        "        if i % c == 0: # i가 c의 배수\n",
        "            print(f\"** {c}의 배수를 찾았습니다! **\")\n",
        "            return i\n",
        "    return 0"
      ],
      "metadata": {
        "id": "vXHNb4hdd8Pc"
      },
      "execution_count": 60,
      "outputs": []
    },
    {
      "cell_type": "code",
      "source": [
        "loop(19, 50, 17)"
      ],
      "metadata": {
        "colab": {
          "base_uri": "https://localhost:8080/"
        },
        "id": "lvKw-LbIeTzT",
        "outputId": "84bebb0e-6453-422e-a8eb-5d28047b4e94"
      },
      "execution_count": 61,
      "outputs": [
        {
          "output_type": "stream",
          "name": "stdout",
          "text": [
            "19\n",
            "20\n",
            "21\n",
            "22\n",
            "23\n",
            "24\n",
            "25\n",
            "26\n",
            "27\n",
            "28\n",
            "29\n",
            "30\n",
            "31\n",
            "32\n",
            "33\n",
            "34\n",
            "** 17의 배수를 찾았습니다! **\n"
          ]
        },
        {
          "output_type": "execute_result",
          "data": {
            "text/plain": [
              "34"
            ]
          },
          "metadata": {},
          "execution_count": 61
        }
      ]
    },
    {
      "cell_type": "markdown",
      "source": [
        "return은 함수 중간에서 빠져나올 때 자주 사용합니다. 보통은 if와 조합해서 특정 조건일 때 함수 중간에서 빠져나옵니다."
      ],
      "metadata": {
        "id": "ekWXLlQQeLd1"
      }
    },
    {
      "cell_type": "markdown",
      "source": [
        "## 함수에서 값을 여러 개 반환하기"
      ],
      "metadata": {
        "id": "dVze2R3qfTpX"
      }
    },
    {
      "cell_type": "markdown",
      "source": [
        "함수에서 값을 여러 개 반환할 때는 다음과 같이 return에 값이나 변수를 ,(콤마)로 구분해서 지정하면 됩니다.\n",
        "\n",
        "```\n",
        "def 함수이름(매개변수):\n",
        "    return 반환값1, 반환값2\n",
        "```\n",
        "https://yangbox.tistory.com/65"
      ],
      "metadata": {
        "id": "rUbkDeGIfXnS"
      }
    },
    {
      "cell_type": "code",
      "source": [
        "def my_divmod(a, b): # 몫, 나머지\n",
        "    c = a // b # 몫\n",
        "    d = a % b # 나머지\n",
        "    return c, d"
      ],
      "metadata": {
        "id": "ObAqYO7veI6x"
      },
      "execution_count": 62,
      "outputs": []
    },
    {
      "cell_type": "code",
      "source": [
        "my_divmod(100, 3)"
      ],
      "metadata": {
        "colab": {
          "base_uri": "https://localhost:8080/"
        },
        "id": "5iXQXQBYfcKX",
        "outputId": "07aca522-f157-4c72-a056-b29d67e5da06"
      },
      "execution_count": 63,
      "outputs": [
        {
          "output_type": "execute_result",
          "data": {
            "text/plain": [
              "(33, 1)"
            ]
          },
          "metadata": {},
          "execution_count": 63
        }
      ]
    },
    {
      "cell_type": "code",
      "source": [
        "a, b = my_divmod(100, 3)\n",
        "print(a, b)"
      ],
      "metadata": {
        "colab": {
          "base_uri": "https://localhost:8080/"
        },
        "id": "4QPzj1FoiedI",
        "outputId": "839a9e0a-0df7-4a0f-edfd-b886876b27ca"
      },
      "execution_count": 64,
      "outputs": [
        {
          "output_type": "stream",
          "name": "stdout",
          "text": [
            "33 1\n"
          ]
        }
      ]
    },
    {
      "cell_type": "markdown",
      "source": [
        "# 함수 심화"
      ],
      "metadata": {
        "id": "se7h4WO6gtSJ"
      }
    },
    {
      "cell_type": "markdown",
      "source": [
        "## 위치 인수와 리스트 언패킹 사용하기"
      ],
      "metadata": {
        "id": "Br_x783Qikcb"
      }
    },
    {
      "cell_type": "markdown",
      "source": [
        "함수에 인수를 순서대로 넣는 방식을 위치 인수(positional argument)라고 합니다. 즉, 인수의 위치가 정해져 있습니다."
      ],
      "metadata": {
        "id": "S4KDsEJVingi"
      }
    },
    {
      "cell_type": "code",
      "source": [
        "print(10, 20, 30)"
      ],
      "metadata": {
        "colab": {
          "base_uri": "https://localhost:8080/"
        },
        "id": "HizkrioCffxH",
        "outputId": "3e7480a2-71d3-4e2e-d39c-e4c0a4b7457b"
      },
      "execution_count": 65,
      "outputs": [
        {
          "output_type": "stream",
          "name": "stdout",
          "text": [
            "10 20 30\n"
          ]
        }
      ]
    },
    {
      "cell_type": "code",
      "source": [
        "print(10, 10, 10, 10, 10, 10, 10, 10, 10, 10, 10)"
      ],
      "metadata": {
        "colab": {
          "base_uri": "https://localhost:8080/"
        },
        "id": "f1-0macNjQR3",
        "outputId": "b475872c-7ac7-422a-a7d8-55dd7ae12b18"
      },
      "execution_count": 66,
      "outputs": [
        {
          "output_type": "stream",
          "name": "stdout",
          "text": [
            "10 10 10 10 10 10 10 10 10 10 10\n"
          ]
        }
      ]
    },
    {
      "cell_type": "markdown",
      "source": [
        "### 위치 인수를 사용하는 함수를 만들고 호출하기"
      ],
      "metadata": {
        "id": "wnm64LUKitz3"
      }
    },
    {
      "cell_type": "code",
      "source": [
        "def print_numbers(a, b, c):\n",
        "    print(a)\n",
        "    print(b)\n",
        "    print(c)"
      ],
      "metadata": {
        "id": "_LVtrOSWipwt"
      },
      "execution_count": 67,
      "outputs": []
    },
    {
      "cell_type": "code",
      "source": [
        "print_numbers(10, 20, 30)"
      ],
      "metadata": {
        "colab": {
          "base_uri": "https://localhost:8080/"
        },
        "id": "NpYgDLcNi0bB",
        "outputId": "0724d5cb-b473-4d40-a046-2e6ec70c9939"
      },
      "execution_count": 70,
      "outputs": [
        {
          "output_type": "stream",
          "name": "stdout",
          "text": [
            "10\n",
            "20\n",
            "30\n"
          ]
        }
      ]
    },
    {
      "cell_type": "code",
      "source": [
        "print_numbers(10, 20)"
      ],
      "metadata": {
        "colab": {
          "base_uri": "https://localhost:8080/",
          "height": 173
        },
        "id": "M5TzbJT5j54X",
        "outputId": "0cf8b7ef-b1aa-4532-bedc-22773b6f024f"
      },
      "execution_count": 71,
      "outputs": [
        {
          "output_type": "error",
          "ename": "TypeError",
          "evalue": "ignored",
          "traceback": [
            "\u001b[0;31m---------------------------------------------------------------------------\u001b[0m",
            "\u001b[0;31mTypeError\u001b[0m                                 Traceback (most recent call last)",
            "\u001b[0;32m<ipython-input-71-deba51eccd11>\u001b[0m in \u001b[0;36m<module>\u001b[0;34m\u001b[0m\n\u001b[0;32m----> 1\u001b[0;31m \u001b[0mprint_numbers\u001b[0m\u001b[0;34m(\u001b[0m\u001b[0;36m10\u001b[0m\u001b[0;34m,\u001b[0m \u001b[0;36m20\u001b[0m\u001b[0;34m)\u001b[0m\u001b[0;34m\u001b[0m\u001b[0;34m\u001b[0m\u001b[0m\n\u001b[0m",
            "\u001b[0;31mTypeError\u001b[0m: print_numbers() missing 1 required positional argument: 'c'"
          ]
        }
      ]
    },
    {
      "cell_type": "code",
      "source": [
        "print_numbers(10, 20, 30, 40)"
      ],
      "metadata": {
        "colab": {
          "base_uri": "https://localhost:8080/",
          "height": 173
        },
        "id": "puaZt3mfj8pK",
        "outputId": "5c4f1547-9ac0-4a55-ee9e-35ee96aa6517"
      },
      "execution_count": 72,
      "outputs": [
        {
          "output_type": "error",
          "ename": "TypeError",
          "evalue": "ignored",
          "traceback": [
            "\u001b[0;31m---------------------------------------------------------------------------\u001b[0m",
            "\u001b[0;31mTypeError\u001b[0m                                 Traceback (most recent call last)",
            "\u001b[0;32m<ipython-input-72-3f56147faedf>\u001b[0m in \u001b[0;36m<module>\u001b[0;34m\u001b[0m\n\u001b[0;32m----> 1\u001b[0;31m \u001b[0mprint_numbers\u001b[0m\u001b[0;34m(\u001b[0m\u001b[0;36m10\u001b[0m\u001b[0;34m,\u001b[0m \u001b[0;36m20\u001b[0m\u001b[0;34m,\u001b[0m \u001b[0;36m30\u001b[0m\u001b[0;34m,\u001b[0m \u001b[0;36m40\u001b[0m\u001b[0;34m)\u001b[0m\u001b[0;34m\u001b[0m\u001b[0;34m\u001b[0m\u001b[0m\n\u001b[0m",
            "\u001b[0;31mTypeError\u001b[0m: print_numbers() takes 3 positional arguments but 4 were given"
          ]
        }
      ]
    },
    {
      "cell_type": "markdown",
      "source": [
        "### 언패킹 사용하기"
      ],
      "metadata": {
        "id": "i49Ug1QRi-dq"
      }
    },
    {
      "cell_type": "markdown",
      "source": [
        "인수를 순서대로 넣을 때는 리스트나 튜플을 사용할 수도 있습니다. 다음과 같이 리스트 또는 튜플 앞에 *(애스터리스크)를 붙여서 함수에 넣어주면 됩니다.\n",
        "\n",
        "* `함수(*리스트)`\n",
        "* `함수(*튜플)`"
      ],
      "metadata": {
        "id": "aL8BAhAqjB9p"
      }
    },
    {
      "cell_type": "code",
      "source": [
        "x = [1 ** (1/2), 2 ** (1/2), 3 ** (1/2)]\n",
        "x"
      ],
      "metadata": {
        "colab": {
          "base_uri": "https://localhost:8080/"
        },
        "id": "6xNy8CL7i2wl",
        "outputId": "c13d516d-e659-4409-a37a-fb21fdd53952"
      },
      "execution_count": 73,
      "outputs": [
        {
          "output_type": "execute_result",
          "data": {
            "text/plain": [
              "[1.0, 1.4142135623730951, 1.7320508075688772]"
            ]
          },
          "metadata": {},
          "execution_count": 73
        }
      ]
    },
    {
      "cell_type": "code",
      "source": [
        "print_numbers(x[0], x[1], x[2])"
      ],
      "metadata": {
        "colab": {
          "base_uri": "https://localhost:8080/"
        },
        "id": "JddcTq5SkONr",
        "outputId": "001eb47a-977a-4c30-afce-b4ab3e66837c"
      },
      "execution_count": 74,
      "outputs": [
        {
          "output_type": "stream",
          "name": "stdout",
          "text": [
            "1.0\n",
            "1.4142135623730951\n",
            "1.7320508075688772\n"
          ]
        }
      ]
    },
    {
      "cell_type": "code",
      "source": [
        "print_numbers(*x)"
      ],
      "metadata": {
        "colab": {
          "base_uri": "https://localhost:8080/"
        },
        "id": "wfcQgBk4kVq4",
        "outputId": "9e3e4f0a-27ab-4234-a599-d06d4d11ec50"
      },
      "execution_count": 75,
      "outputs": [
        {
          "output_type": "stream",
          "name": "stdout",
          "text": [
            "1.0\n",
            "1.4142135623730951\n",
            "1.7320508075688772\n"
          ]
        }
      ]
    },
    {
      "cell_type": "code",
      "source": [
        "# 단, 이때 함수의 매개변수 개수와 리스트의 요소 개수는 같아야 합니다.\n",
        "# 만약 개수가 다르면 함수를 호출할 수 없습니다.\n",
        "print_numbers(*[10, 20])"
      ],
      "metadata": {
        "id": "Huyu1QyEjHwU",
        "colab": {
          "base_uri": "https://localhost:8080/",
          "height": 209
        },
        "outputId": "63344f7d-0531-4098-a7dc-66cc43993aec"
      },
      "execution_count": 76,
      "outputs": [
        {
          "output_type": "error",
          "ename": "TypeError",
          "evalue": "ignored",
          "traceback": [
            "\u001b[0;31m---------------------------------------------------------------------------\u001b[0m",
            "\u001b[0;31mTypeError\u001b[0m                                 Traceback (most recent call last)",
            "\u001b[0;32m<ipython-input-76-6e8641f0bfef>\u001b[0m in \u001b[0;36m<module>\u001b[0;34m\u001b[0m\n\u001b[1;32m      1\u001b[0m \u001b[0;31m# 단, 이때 함수의 매개변수 개수와 리스트의 요소 개수는 같아야 합니다.\u001b[0m\u001b[0;34m\u001b[0m\u001b[0;34m\u001b[0m\u001b[0;34m\u001b[0m\u001b[0m\n\u001b[1;32m      2\u001b[0m \u001b[0;31m# 만약 개수가 다르면 함수를 호출할 수 없습니다.\u001b[0m\u001b[0;34m\u001b[0m\u001b[0;34m\u001b[0m\u001b[0;34m\u001b[0m\u001b[0m\n\u001b[0;32m----> 3\u001b[0;31m \u001b[0mprint_numbers\u001b[0m\u001b[0;34m(\u001b[0m\u001b[0;34m*\u001b[0m\u001b[0;34m[\u001b[0m\u001b[0;36m10\u001b[0m\u001b[0;34m,\u001b[0m \u001b[0;36m20\u001b[0m\u001b[0;34m]\u001b[0m\u001b[0;34m)\u001b[0m\u001b[0;34m\u001b[0m\u001b[0;34m\u001b[0m\u001b[0m\n\u001b[0m",
            "\u001b[0;31mTypeError\u001b[0m: print_numbers() missing 1 required positional argument: 'c'"
          ]
        }
      ]
    },
    {
      "cell_type": "markdown",
      "source": [
        "### 가변 인수 함수 만들기"
      ],
      "metadata": {
        "id": "wa5pSffKmuzR"
      }
    },
    {
      "cell_type": "markdown",
      "source": [
        "그럼 위치 인수와 리스트 언패킹은 어디에 사용할까요? 이 기능들은 인수의 개수가 정해지지 않은 가변 인수(variable argument)에 사용합니다. 즉, 같은 함수에 인수 한 개를 넣을 수도 있고, 열 개를 넣을 수도 있습니다. 또는, 인수를 넣지 않을 수도 있습니다.\n",
        "\n",
        "다음과 같이 가변 인수 함수는 매개변수 앞에 *를 붙여서 만듭니다.\n",
        "\n",
        "```\n",
        "def 함수이름(*매개변수):\n",
        "    코드\n",
        "```"
      ],
      "metadata": {
        "id": "9YN1s8ktmyN0"
      }
    },
    {
      "cell_type": "code",
      "source": [
        "def print_numbers(*args):\n",
        "    if not len(args): # args가 비어있으면 True\n",
        "        print(\"매개변수를 1개 이상 넣어주세요!\")\n",
        "        return\n",
        "    if len(args) == 2: # args가 비어있으면 True\n",
        "        print(f\"연결 : {args[0]} + {args[1]}\")\n",
        "        return str(args[0]) + str(args[1])\n",
        "    for arg in args:\n",
        "        print(arg)"
      ],
      "metadata": {
        "id": "fqMZulXymo5B"
      },
      "execution_count": 191,
      "outputs": []
    },
    {
      "cell_type": "code",
      "source": [
        "print_numbers()\n",
        "print_numbers(10)\n",
        "print_numbers(10, 20)\n",
        "print_numbers(10, 20, 30, 40)"
      ],
      "metadata": {
        "colab": {
          "base_uri": "https://localhost:8080/"
        },
        "id": "Q7WxiO_Bk-Xc",
        "outputId": "dc79a1f3-f2aa-460d-cadf-79f12b4ad05f"
      },
      "execution_count": 192,
      "outputs": [
        {
          "output_type": "stream",
          "name": "stdout",
          "text": [
            "매개변수를 1개 이상 넣어주세요!\n",
            "10\n",
            "연결 : 10 + 20\n",
            "10\n",
            "20\n",
            "30\n",
            "40\n"
          ]
        }
      ]
    },
    {
      "cell_type": "markdown",
      "source": [
        "매개변수 이름은 원하는 대로 지어도 되지만 관례적으로 arguments를 줄여서 args로 사용합니다. 특히 이 args는 튜플이라서 for로 반복할 수 있습니다.\n",
        "\n"
      ],
      "metadata": {
        "id": "sFNxiUl1m_rK"
      }
    },
    {
      "cell_type": "code",
      "source": [
        "# 이렇게 함수에 인수 여러 개를 직접 넣어도 되고, 리스트(튜플) 언패킹을 사용해도 됩니다.\n",
        "print_numbers(*list(range(0, 100, 30)))"
      ],
      "metadata": {
        "colab": {
          "base_uri": "https://localhost:8080/"
        },
        "id": "h2cjU8fHnDvH",
        "outputId": "c65765fb-2800-4ea4-a52d-585249b21de0"
      },
      "execution_count": 193,
      "outputs": [
        {
          "output_type": "stream",
          "name": "stdout",
          "text": [
            "0\n",
            "30\n",
            "60\n",
            "90\n"
          ]
        }
      ]
    },
    {
      "cell_type": "markdown",
      "source": [
        "### 고정 인수와 가변 인수를 함께 사용하기"
      ],
      "metadata": {
        "id": "9309K7dBnOp5"
      }
    },
    {
      "cell_type": "markdown",
      "source": [
        "고정 인수와 가변 인수를 함께 사용할 때는 고정 매개변수를 먼저 지정하고, 그 다음 매개변수에 *를 붙여주면 됩니다."
      ],
      "metadata": {
        "id": "RRRH-UornQXQ"
      }
    },
    {
      "cell_type": "code",
      "source": [
        "def my_fun(a, *args):\n",
        "    if a == \"sum\":\n",
        "        return sum(args)\n",
        "    if a == \"avg\":\n",
        "        return sum(args) // len(args)\n",
        "    if a == \"count\":\n",
        "        return len(args)\n",
        "    print(\"지원하지 않는 기능입니다.\")"
      ],
      "metadata": {
        "id": "Sjxzq9iknLKA"
      },
      "execution_count": 86,
      "outputs": []
    },
    {
      "cell_type": "code",
      "source": [
        "my_fun(\"sum\", 1, 2, 3, 4, 5)"
      ],
      "metadata": {
        "colab": {
          "base_uri": "https://localhost:8080/"
        },
        "id": "WrKXb_NonZUc",
        "outputId": "613018e9-98c8-4dd6-cb0f-8bd762cf2a6e"
      },
      "execution_count": 87,
      "outputs": [
        {
          "output_type": "execute_result",
          "data": {
            "text/plain": [
              "15"
            ]
          },
          "metadata": {},
          "execution_count": 87
        }
      ]
    },
    {
      "cell_type": "code",
      "source": [
        "my_fun(\"count\", 1, 2, 3, 4, 5)"
      ],
      "metadata": {
        "colab": {
          "base_uri": "https://localhost:8080/"
        },
        "id": "vt-g_ViLndot",
        "outputId": "10e3eb3d-d417-469a-cf37-2fa1490e8f80"
      },
      "execution_count": 88,
      "outputs": [
        {
          "output_type": "execute_result",
          "data": {
            "text/plain": [
              "5"
            ]
          },
          "metadata": {},
          "execution_count": 88
        }
      ]
    },
    {
      "cell_type": "code",
      "source": [
        "my_fun(\"hi\")"
      ],
      "metadata": {
        "colab": {
          "base_uri": "https://localhost:8080/"
        },
        "id": "jlcGZrYmniJW",
        "outputId": "9a5b848b-815c-41fd-aa4b-ad8645673741"
      },
      "execution_count": 89,
      "outputs": [
        {
          "output_type": "stream",
          "name": "stdout",
          "text": [
            "지원하지 않는 기능입니다.\n"
          ]
        }
      ]
    },
    {
      "cell_type": "markdown",
      "source": [
        "단, 이때 def print_numbers(*args, a):처럼 *args가 고정 매개변수보다 앞쪽에 오면 안 됩니다. 매개변수 순서에서 *args는 반드시 가장 뒤쪽에 와야 합니다."
      ],
      "metadata": {
        "id": "ajTZFGcBnZ-M"
      }
    },
    {
      "cell_type": "code",
      "source": [
        "def my_fun(*args, a):\n",
        "    if a == \"sum\":\n",
        "        return sum(args)\n",
        "    if a == \"avg\":\n",
        "        return sum(args) // len(args)\n",
        "    if a == \"count\":\n",
        "        return len(args)\n",
        "    print(\"지원하지 않는 기능입니다.\")"
      ],
      "metadata": {
        "id": "2PqjrSdhnsTd"
      },
      "execution_count": 90,
      "outputs": []
    },
    {
      "cell_type": "code",
      "source": [
        "my_fun(\"hi\")"
      ],
      "metadata": {
        "colab": {
          "base_uri": "https://localhost:8080/",
          "height": 173
        },
        "id": "9RWNuf8mnwiT",
        "outputId": "c0eb5a52-0af0-49bb-e708-c2455da86053"
      },
      "execution_count": 91,
      "outputs": [
        {
          "output_type": "error",
          "ename": "TypeError",
          "evalue": "ignored",
          "traceback": [
            "\u001b[0;31m---------------------------------------------------------------------------\u001b[0m",
            "\u001b[0;31mTypeError\u001b[0m                                 Traceback (most recent call last)",
            "\u001b[0;32m<ipython-input-91-130ebeda3881>\u001b[0m in \u001b[0;36m<module>\u001b[0;34m\u001b[0m\n\u001b[0;32m----> 1\u001b[0;31m \u001b[0mmy_fun\u001b[0m\u001b[0;34m(\u001b[0m\u001b[0;34m\"hi\"\u001b[0m\u001b[0;34m)\u001b[0m\u001b[0;34m\u001b[0m\u001b[0;34m\u001b[0m\u001b[0m\n\u001b[0m",
            "\u001b[0;31mTypeError\u001b[0m: my_fun() missing 1 required keyword-only argument: 'a'"
          ]
        }
      ]
    },
    {
      "cell_type": "markdown",
      "source": [
        "## 키워드 인수 사용하기"
      ],
      "metadata": {
        "id": "qkHyiHdKnk7r"
      }
    },
    {
      "cell_type": "markdown",
      "source": [
        "파이썬에서는 인수의 순서와 용도를 매번 기억하지 않도록 키워드 인수(keyword argument)라는 기능을 제공합니다. 키워드 인수는 말 그대로 인수에 이름(키워드)을 붙이는 기능인데 키워드=값 형식으로 사용합니다.\n",
        "\n",
        "* `함수(키워드=값)`"
      ],
      "metadata": {
        "id": "R5nut9cynpVa"
      }
    },
    {
      "cell_type": "code",
      "source": [
        "def introduce(name, age, address):\n",
        "    print(f'이름: {name}')\n",
        "    print(f'나이: {age}')\n",
        "    print(f'주소: {address}')"
      ],
      "metadata": {
        "id": "FqWZuiT1nqCz"
      },
      "execution_count": 92,
      "outputs": []
    },
    {
      "cell_type": "code",
      "source": [
        "introduce(\"김동동\", 20, \"서울시 행복구 가리봉동\")"
      ],
      "metadata": {
        "colab": {
          "base_uri": "https://localhost:8080/"
        },
        "id": "QnDpwGAGnt69",
        "outputId": "b446289b-4d75-4ec4-c1ce-df31f42555f8"
      },
      "execution_count": 94,
      "outputs": [
        {
          "output_type": "stream",
          "name": "stdout",
          "text": [
            "이름: 김동동\n",
            "나이: 20\n",
            "주소: 서울시 행복구 가리봉동\n"
          ]
        }
      ]
    },
    {
      "cell_type": "code",
      "source": [
        "# 키워드 인수를 사용하면 인수의 순서를 맞추지 않아도 키워드에 해당하는 값이 들어갑니다.\n",
        "introduce(age=20, address=\"서울시 행복구 가리봉동\", name=\"김동동\")"
      ],
      "metadata": {
        "colab": {
          "base_uri": "https://localhost:8080/"
        },
        "id": "CTFSBBSNn2Zu",
        "outputId": "0e25976c-8229-4f1f-de78-897728408466"
      },
      "execution_count": 95,
      "outputs": [
        {
          "output_type": "stream",
          "name": "stdout",
          "text": [
            "이름: 김동동\n",
            "나이: 20\n",
            "주소: 서울시 행복구 가리봉동\n"
          ]
        }
      ]
    },
    {
      "cell_type": "markdown",
      "source": [
        "## 키워드 인수와 딕셔너리 언패킹 사용하기"
      ],
      "metadata": {
        "id": "SBCFd3a-oBKj"
      }
    },
    {
      "cell_type": "markdown",
      "source": [
        "지금까지 함수를 호출할 때 키워드 인수로 직접 값을 넣었습니다. 이번에는 딕셔너리를 사용해서 키워드 인수로 값을 넣는 딕셔너리 언패킹을 사용해보겠습니다. 다음과 같이 딕셔너리 앞에 **(애스터리스크 두 개)를 붙여서 함수에 넣어줍니다.\n",
        "\n",
        "* `함수(**딕셔너리)`"
      ],
      "metadata": {
        "id": "P1kRkxtVoCSk"
      }
    },
    {
      "cell_type": "code",
      "source": [
        "def introduce(name, age, address):\n",
        "    print(f'이름: {name}')\n",
        "    print(f'나이: {age}')\n",
        "    print(f'주소: {address}')"
      ],
      "metadata": {
        "id": "nrSsuSncn6SP"
      },
      "execution_count": 96,
      "outputs": []
    },
    {
      "cell_type": "code",
      "source": [
        "a = {\n",
        "    \"name\": \"고길동\",\n",
        "     \"age\": 40,\n",
        "     \"address\": \"쌍문동\"\n",
        "}"
      ],
      "metadata": {
        "id": "VxLIQPCso_CI"
      },
      "execution_count": 97,
      "outputs": []
    },
    {
      "cell_type": "code",
      "source": [
        "introduce(*a) # 리스트 취급받아서 key 만 나옴 / 키 리스트로 리스트 언패킹"
      ],
      "metadata": {
        "colab": {
          "base_uri": "https://localhost:8080/"
        },
        "id": "e6p2dJMypJQ2",
        "outputId": "8d70b997-3f4a-4b27-dbe6-83ca9775378f"
      },
      "execution_count": 98,
      "outputs": [
        {
          "output_type": "stream",
          "name": "stdout",
          "text": [
            "이름: name\n",
            "나이: age\n",
            "주소: address\n"
          ]
        }
      ]
    },
    {
      "cell_type": "code",
      "source": [
        "introduce(**a) # ** : 키워즈-값 형태로 딕셔너리 언패킹"
      ],
      "metadata": {
        "colab": {
          "base_uri": "https://localhost:8080/"
        },
        "id": "akNkzYHIpLRZ",
        "outputId": "2014c228-f69b-4dcb-de4a-2b06950d8cbb"
      },
      "execution_count": 100,
      "outputs": [
        {
          "output_type": "stream",
          "name": "stdout",
          "text": [
            "이름: 고길동\n",
            "나이: 40\n",
            "주소: 쌍문동\n"
          ]
        }
      ]
    },
    {
      "cell_type": "markdown",
      "source": [
        "이제 딕셔너리에 '키워드': 값 형식으로 인수를 저장하고, 앞에 **를 붙여서 함수에 넣어줍니다. 이때 딕셔너리의 키워드(키)는 반드시 문자열 형태라야 합니다."
      ],
      "metadata": {
        "id": "Dq6dnAJMoStb"
      }
    },
    {
      "cell_type": "code",
      "source": [
        "b = {\n",
        "    \"name\": \"고길동\",\n",
        "     \"aging\": 40,\n",
        "     \"address\": \"쌍문동\"\n",
        "}"
      ],
      "metadata": {
        "id": "r1MkQSj8oRo3"
      },
      "execution_count": 101,
      "outputs": []
    },
    {
      "cell_type": "markdown",
      "source": [
        "**x처럼 딕셔너리를 언패킹하면 딕셔너리의 값들이 함수의 인수로 들어갑니다."
      ],
      "metadata": {
        "id": "ZmNL-BnnoW-G"
      }
    },
    {
      "cell_type": "markdown",
      "source": [
        "딕셔너리 언패킹을 사용할 때는 함수의 매개변수 이름과 딕셔너리의 키 이름이 같아야 합니다. 또한, 매개변수 개수와 딕셔너리 키의 개수도 같아야 합니다."
      ],
      "metadata": {
        "id": "n2FrJj1Eob1S"
      }
    },
    {
      "cell_type": "code",
      "source": [
        "introduce(**b)"
      ],
      "metadata": {
        "colab": {
          "base_uri": "https://localhost:8080/",
          "height": 173
        },
        "id": "lqwpzhRboWcM",
        "outputId": "c72381e4-eb6b-4fe1-f211-f79df88e0ea8"
      },
      "execution_count": 194,
      "outputs": [
        {
          "output_type": "error",
          "ename": "TypeError",
          "evalue": "ignored",
          "traceback": [
            "\u001b[0;31m---------------------------------------------------------------------------\u001b[0m",
            "\u001b[0;31mTypeError\u001b[0m                                 Traceback (most recent call last)",
            "\u001b[0;32m<ipython-input-194-f7c0aa67c5e8>\u001b[0m in \u001b[0;36m<module>\u001b[0;34m\u001b[0m\n\u001b[0;32m----> 1\u001b[0;31m \u001b[0mintroduce\u001b[0m\u001b[0;34m(\u001b[0m\u001b[0;34m**\u001b[0m\u001b[0mb\u001b[0m\u001b[0;34m)\u001b[0m\u001b[0;34m\u001b[0m\u001b[0;34m\u001b[0m\u001b[0m\n\u001b[0m",
            "\u001b[0;31mTypeError\u001b[0m: introduce() got an unexpected keyword argument 'aging'"
          ]
        }
      ]
    },
    {
      "cell_type": "markdown",
      "source": [
        "### *를 두 번 사용하는 이유"
      ],
      "metadata": {
        "id": "jRQmc3eAohLK"
      }
    },
    {
      "cell_type": "markdown",
      "source": [
        "그런데 딕셔너리는 **처럼 *를 두 번 사용할까요? 왜냐하면 딕셔너리는 키-값 쌍 형태로 값이 저장되어 있기 때문입니다. 먼저 *를 한 번만 사용해서 함수를 호출해봅니다.\n",
        "\n"
      ],
      "metadata": {
        "id": "yrtcCkc9olTD"
      }
    },
    {
      "cell_type": "code",
      "source": [
        "introduce(*a)"
      ],
      "metadata": {
        "colab": {
          "base_uri": "https://localhost:8080/"
        },
        "id": "KT2CfVgMoeg9",
        "outputId": "a2dfb1ca-b1d0-4ed2-b8f5-6fd61b43d333"
      },
      "execution_count": 102,
      "outputs": [
        {
          "output_type": "stream",
          "name": "stdout",
          "text": [
            "이름: name\n",
            "나이: age\n",
            "주소: address\n"
          ]
        }
      ]
    },
    {
      "cell_type": "markdown",
      "source": [
        "딕셔너리를 한 번 언패킹하면 키를 사용한다는 뜻이 됩니다. 따라서 **처럼 딕셔너리를 두 번 언패킹하여 값을 사용하도록 만들어야 합니다."
      ],
      "metadata": {
        "id": "SuRwHU7wopyB"
      }
    },
    {
      "cell_type": "code",
      "source": [
        "introduce(**a)"
      ],
      "metadata": {
        "colab": {
          "base_uri": "https://localhost:8080/"
        },
        "id": "7tMWJjI3on6E",
        "outputId": "bc7fb5a4-a594-4a7e-b20b-fc47022d06ae"
      },
      "execution_count": 195,
      "outputs": [
        {
          "output_type": "stream",
          "name": "stdout",
          "text": [
            "이름 : 고길동\n",
            "나이 : 40\n",
            "주소 : 쌍문동\n"
          ]
        }
      ]
    },
    {
      "cell_type": "markdown",
      "source": [
        "### 키워드 인수를 사용하는 가변 인수 함수 만들기"
      ],
      "metadata": {
        "id": "g-tHUmd8ovY8"
      }
    },
    {
      "cell_type": "markdown",
      "source": [
        "키워드 인수를 사용하는 가변 인수 함수는 매개변수 앞에 **를 붙여서 만듭니다.\n",
        "\n",
        "```\n",
        "def 함수이름(**매개변수):\n",
        "    코드\n",
        "```"
      ],
      "metadata": {
        "id": "LbOQCn4Oo3e3"
      }
    },
    {
      "cell_type": "code",
      "source": [
        "def introduce(**kwargs): # kw + args : kwargs (dictionary)\n",
        "    for kw, args in kwargs.items():\n",
        "        print(f\"{kw} : {args}\")"
      ],
      "metadata": {
        "id": "OEM7FpY3osQx"
      },
      "execution_count": 196,
      "outputs": []
    },
    {
      "cell_type": "code",
      "source": [
        "introduce(weight=172.5, height=80, nickname=\"고라니\")"
      ],
      "metadata": {
        "colab": {
          "base_uri": "https://localhost:8080/"
        },
        "id": "5Dm2l52mqb0G",
        "outputId": "688d8b05-76f0-4e20-dd53-500a1992b4e1"
      },
      "execution_count": 197,
      "outputs": [
        {
          "output_type": "stream",
          "name": "stdout",
          "text": [
            "weight : 172.5\n",
            "height : 80\n",
            "nickname : 고라니\n"
          ]
        }
      ]
    },
    {
      "cell_type": "code",
      "source": [
        "introduce(**b)"
      ],
      "metadata": {
        "colab": {
          "base_uri": "https://localhost:8080/"
        },
        "id": "0PXIEMrZqjvx",
        "outputId": "1bb99596-3f68-4b0c-e6a2-a462f077616c"
      },
      "execution_count": 198,
      "outputs": [
        {
          "output_type": "stream",
          "name": "stdout",
          "text": [
            "name : 고길동\n",
            "aging : 40\n",
            "address : 쌍문동\n"
          ]
        }
      ]
    },
    {
      "cell_type": "markdown",
      "source": [
        "매개변수 이름은 원하는 대로 지어도 되지만 관례적으로 keyword arguments를 줄여서 kwargs로 사용합니다. 특히 이 kwargs는 딕셔너리라서 for로 반복할 수 있습니다."
      ],
      "metadata": {
        "id": "7OzVuQaXpAg5"
      }
    },
    {
      "cell_type": "code",
      "source": [
        "def introduce(**kwargs): # kw + args : kwargs (dictionary)\n",
        "    print(f\"이름 : {kwargs['name']}\")\n",
        "    print(f\"나이 : {kwargs['age']}\")\n",
        "    print(f\"주소 : {kwargs['address']}\")\n",
        "\n",
        "# introduce(**a)\n",
        "introduce(name=\"붕붕이\")"
      ],
      "metadata": {
        "colab": {
          "base_uri": "https://localhost:8080/",
          "height": 355
        },
        "id": "Y73gjRAJo-6J",
        "outputId": "e413aee4-ed3e-4df4-9411-87559d32e63d"
      },
      "execution_count": 199,
      "outputs": [
        {
          "output_type": "stream",
          "name": "stdout",
          "text": [
            "이름 : 붕붕이\n"
          ]
        },
        {
          "output_type": "error",
          "ename": "KeyError",
          "evalue": "ignored",
          "traceback": [
            "\u001b[0;31m---------------------------------------------------------------------------\u001b[0m",
            "\u001b[0;31mKeyError\u001b[0m                                  Traceback (most recent call last)",
            "\u001b[0;32m<ipython-input-199-ce96e7f52829>\u001b[0m in \u001b[0;36m<module>\u001b[0;34m\u001b[0m\n\u001b[1;32m      5\u001b[0m \u001b[0;34m\u001b[0m\u001b[0m\n\u001b[1;32m      6\u001b[0m \u001b[0;31m# introduce(**a)\u001b[0m\u001b[0;34m\u001b[0m\u001b[0;34m\u001b[0m\u001b[0;34m\u001b[0m\u001b[0m\n\u001b[0;32m----> 7\u001b[0;31m \u001b[0mintroduce\u001b[0m\u001b[0;34m(\u001b[0m\u001b[0mname\u001b[0m\u001b[0;34m=\u001b[0m\u001b[0;34m\"붕붕이\"\u001b[0m\u001b[0;34m)\u001b[0m\u001b[0;34m\u001b[0m\u001b[0;34m\u001b[0m\u001b[0m\n\u001b[0m",
            "\u001b[0;32m<ipython-input-199-ce96e7f52829>\u001b[0m in \u001b[0;36mintroduce\u001b[0;34m(**kwargs)\u001b[0m\n\u001b[1;32m      1\u001b[0m \u001b[0;32mdef\u001b[0m \u001b[0mintroduce\u001b[0m\u001b[0;34m(\u001b[0m\u001b[0;34m**\u001b[0m\u001b[0mkwargs\u001b[0m\u001b[0;34m)\u001b[0m\u001b[0;34m:\u001b[0m \u001b[0;31m# kw + args : kwargs (dictionary)\u001b[0m\u001b[0;34m\u001b[0m\u001b[0;34m\u001b[0m\u001b[0m\n\u001b[1;32m      2\u001b[0m     \u001b[0mprint\u001b[0m\u001b[0;34m(\u001b[0m\u001b[0;34mf\"이름 : {kwargs['name']}\"\u001b[0m\u001b[0;34m)\u001b[0m\u001b[0;34m\u001b[0m\u001b[0;34m\u001b[0m\u001b[0m\n\u001b[0;32m----> 3\u001b[0;31m     \u001b[0mprint\u001b[0m\u001b[0;34m(\u001b[0m\u001b[0;34mf\"나이 : {kwargs['age']}\"\u001b[0m\u001b[0;34m)\u001b[0m\u001b[0;34m\u001b[0m\u001b[0;34m\u001b[0m\u001b[0m\n\u001b[0m\u001b[1;32m      4\u001b[0m     \u001b[0mprint\u001b[0m\u001b[0;34m(\u001b[0m\u001b[0;34mf\"주소 : {kwargs['address']}\"\u001b[0m\u001b[0;34m)\u001b[0m\u001b[0;34m\u001b[0m\u001b[0;34m\u001b[0m\u001b[0m\n\u001b[1;32m      5\u001b[0m \u001b[0;34m\u001b[0m\u001b[0m\n",
            "\u001b[0;31mKeyError\u001b[0m: 'age'"
          ]
        }
      ]
    },
    {
      "cell_type": "markdown",
      "source": [
        "인수 함수를 만들 수 있습니다. 그리고 이런 함수를 호출할 때는 키워드와 인수를 각각 넣거나 딕셔너리 언패킹을 사용하면 됩니다.\n",
        "\n",
        "보통 **kwargs를 사용한 가변 인수 함수는 다음과 같이 함수 안에서 특정 키가 있는지 확인한 뒤 해당 기능을 만듭니다."
      ],
      "metadata": {
        "id": "MotN-iQjpLNW"
      }
    },
    {
      "cell_type": "code",
      "source": [
        "def introduce(**kwargs): # kw + args : kwargs (dictionary)\n",
        "    if 'name' in kwargs:\n",
        "        print(f\"이름 : {kwargs['name']}\")\n",
        "    if 'age' in kwargs:\n",
        "        print(f\"나이 : {kwargs['age']}\")\n",
        "    if 'address' in kwargs:\n",
        "        print(f\"주소 : {kwargs['address']}\")\n",
        "\n",
        "# introduce(**a)\n",
        "introduce(name=\"붕붕이\")"
      ],
      "metadata": {
        "id": "uU8cCkDIpHK-",
        "colab": {
          "base_uri": "https://localhost:8080/"
        },
        "outputId": "e10b0a70-dc60-4c49-d2cf-be68a3549d4c"
      },
      "execution_count": 200,
      "outputs": [
        {
          "output_type": "stream",
          "name": "stdout",
          "text": [
            "이름 : 붕붕이\n"
          ]
        }
      ]
    },
    {
      "cell_type": "code",
      "source": [
        "def introduce(**kwargs): # kw + args : kwargs (dictionary)\n",
        "    print(f\"이름 : {kwargs.get('name', '없음')}\")\n",
        "    print(f\"나이 : {kwargs.get('age', -99)}\")\n",
        "    print(f\"주소 : {kwargs.get('address', '주소불명')}\")\n",
        "\n",
        "# introduce(**a)\n",
        "introduce()\n",
        "introduce(name=\"붕붕이\", age=10, address='서울 양재천')"
      ],
      "metadata": {
        "colab": {
          "base_uri": "https://localhost:8080/"
        },
        "id": "2oabftgrE0ob",
        "outputId": "9f7cab67-17b1-4a58-ba13-06a2436349bc"
      },
      "execution_count": 201,
      "outputs": [
        {
          "output_type": "stream",
          "name": "stdout",
          "text": [
            "이름 : 없음\n",
            "나이 : -99\n",
            "주소 : 주소불명\n",
            "이름 : 붕붕이\n",
            "나이 : 10\n",
            "주소 : 서울 양재천\n"
          ]
        }
      ]
    },
    {
      "cell_type": "markdown",
      "source": [
        "### 고정 인수와 가변 인수(키워드 인수)를 함께 사용하기"
      ],
      "metadata": {
        "id": "s-OwRQpYpRwg"
      }
    },
    {
      "cell_type": "markdown",
      "source": [
        "고정 인수와 가변 인수(키워드 인수)를 함께 사용할 때는 다음과 같이 고정 매개변수를 먼저 지정하고, 그 다음 매개변수에 **를 붙여주면 됩니다."
      ],
      "metadata": {
        "id": "tSD6LFGTpV82"
      }
    },
    {
      "cell_type": "code",
      "source": [
        "def introduce(repeat, **kwargs): # kw + args : kwargs (dictionary)\n",
        "    for i in range(repeat):\n",
        "        print(f\"이름 : {kwargs.get('name', '없음')}\")\n",
        "        print(f\"나이 : {kwargs.get('age', -99)}\")\n",
        "        print(f\"주소 : {kwargs.get('address', '주소불명')}\")\n",
        "\n",
        "# introduce(**a)\n",
        "introduce(2)\n",
        "introduce(3, name=\"붕붕이\", age=10, address='서울 양재천')"
      ],
      "metadata": {
        "colab": {
          "base_uri": "https://localhost:8080/"
        },
        "id": "vS9jFSYIpObs",
        "outputId": "5e597e48-f440-4f24-fecc-682d9bb183ae"
      },
      "execution_count": 203,
      "outputs": [
        {
          "output_type": "stream",
          "name": "stdout",
          "text": [
            "이름 : 없음\n",
            "나이 : -99\n",
            "주소 : 주소불명\n",
            "이름 : 없음\n",
            "나이 : -99\n",
            "주소 : 주소불명\n",
            "이름 : 붕붕이\n",
            "나이 : 10\n",
            "주소 : 서울 양재천\n",
            "이름 : 붕붕이\n",
            "나이 : 10\n",
            "주소 : 서울 양재천\n",
            "이름 : 붕붕이\n",
            "나이 : 10\n",
            "주소 : 서울 양재천\n"
          ]
        }
      ]
    },
    {
      "cell_type": "code",
      "source": [
        "introduce(name=\"붕붕이\", age=10, address='서울 양재천', 3)"
      ],
      "metadata": {
        "colab": {
          "base_uri": "https://localhost:8080/",
          "height": 154
        },
        "id": "D6-Zwfd3FFSM",
        "outputId": "f51c2382-8ce1-4245-ea2d-5ada4abd1f97"
      },
      "execution_count": 204,
      "outputs": [
        {
          "output_type": "error",
          "ename": "SyntaxError",
          "evalue": "ignored",
          "traceback": [
            "\u001b[0;36m  File \u001b[0;32m\"<ipython-input-204-f95a53c45331>\"\u001b[0;36m, line \u001b[0;32m1\u001b[0m\n\u001b[0;31m    introduce(name=\"붕붕이\", age=10, address='서울 양재천', 3)\u001b[0m\n\u001b[0m                                                      \n^\u001b[0m\n\u001b[0;31mSyntaxError\u001b[0m\u001b[0;31m:\u001b[0m positional argument follows keyword argument\n"
          ]
        }
      ]
    },
    {
      "cell_type": "code",
      "source": [
        "def introduce(**kwargs, repeat): # kw + args : kwargs (dictionary)\n",
        "    for i in range(repeat):\n",
        "        print(f\"이름 : {kwargs.get('name', '없음')}\")\n",
        "        print(f\"나이 : {kwargs.get('age', -99)}\")\n",
        "        print(f\"주소 : {kwargs.get('address', '주소불명')}\")"
      ],
      "metadata": {
        "colab": {
          "base_uri": "https://localhost:8080/",
          "height": 136
        },
        "id": "it2FMjZHFG_r",
        "outputId": "234e7afc-632b-4287-d275-30f1ef574f65"
      },
      "execution_count": 205,
      "outputs": [
        {
          "output_type": "error",
          "ename": "SyntaxError",
          "evalue": "ignored",
          "traceback": [
            "\u001b[0;36m  File \u001b[0;32m\"<ipython-input-205-83b76149704c>\"\u001b[0;36m, line \u001b[0;32m1\u001b[0m\n\u001b[0;31m    def introduce(**kwargs, repeat): # kw + args : kwargs (dictionary)\u001b[0m\n\u001b[0m                            ^\u001b[0m\n\u001b[0;31mSyntaxError\u001b[0m\u001b[0;31m:\u001b[0m invalid syntax\n"
          ]
        }
      ]
    },
    {
      "cell_type": "markdown",
      "source": [
        "단, 이때 `def personal_info(**kwargs, name):`처럼 `**kwargs`가 고정 매개변수보다 앞쪽에 오면 안 됩니다. 매개변수 순서에서 `**kwargs`는 반드시 가장 뒤쪽에 와야 합니다."
      ],
      "metadata": {
        "id": "fWKnzoABpeQY"
      }
    },
    {
      "cell_type": "markdown",
      "source": [
        "### 위치 인수와 키워드 인수를 함께 사용하기"
      ],
      "metadata": {
        "id": "WvDt1nHUpoiu"
      }
    },
    {
      "cell_type": "markdown",
      "source": [
        "함수에서 위치 인수를 받는 `*args`와 키워드 인수를 받는 `**kwargs`를 함께 사용할 수도 있습니다. 대표적인 함수가 print인데 print는 출력할 값을 위치 인수로 넣고 sep, end 등을 키워드 인수로 넣습니다. 다음과 같이 함수의 매개변수를 `*args`, `**kwargs`로 지정하면 위치 인수와 키워드 인수를 함께 사용합니다."
      ],
      "metadata": {
        "id": "c3yLDTgspsmN"
      }
    },
    {
      "cell_type": "code",
      "source": [
        "def my_fun(*args, **kwargs):\n",
        "    print(*args, **kwargs)"
      ],
      "metadata": {
        "id": "28bsToycpcmH"
      },
      "execution_count": 107,
      "outputs": []
    },
    {
      "cell_type": "code",
      "source": [
        "my_fun(1, 2, 3, sep=':', end='')"
      ],
      "metadata": {
        "id": "RqyyX9kTsutu",
        "colab": {
          "base_uri": "https://localhost:8080/"
        },
        "outputId": "5c95ffe2-035d-44da-e997-7c94dcbf5daa"
      },
      "execution_count": 127,
      "outputs": [
        {
          "output_type": "stream",
          "name": "stdout",
          "text": [
            "1:2:3"
          ]
        }
      ]
    },
    {
      "cell_type": "code",
      "source": [
        "import random\n",
        "\n",
        "def game(start, end, *args, multiple = 2, **kwargs):  # 고정인수 2개, 가변인수 2개\n",
        "    # 플레이어의 이름을 받고 name\n",
        "    if 'name' not in kwargs:\n",
        "        return print(\"이름을 입력해주세요\")\n",
        "    # 플레이어가 지불한 금액 money\n",
        "    if 'money' not in kwargs:\n",
        "        return print(\"금액을 지불해주세요\")\n",
        "    if not len(args):\n",
        "        return print(\"당첨 숫자를 입력해주세요\")\n",
        "    # start, end(포함)는 수를 뽑는 범위\n",
        "    number = random.choice(range(start, end+1)) # 끝점 포함\n",
        "    # for i in range(start, end+1):\n",
        "        # args를 당첨 숫자들\n",
        "        # if i in args:\n",
        "        #     print(f\"당첨되었습니다! {i} / \\\\{kwargs['money'] * 2}\")\n",
        "    if number in args:\n",
        "        print(f\"{kwargs['name']}님, 당첨되었습니다! {number} / \\\\{kwargs['money'] * 2}\")\n",
        "        return kwargs['money'] * 2\n",
        "    else:\n",
        "        print(f\"실패입니다 {number}\")\n",
        "        return 0"
      ],
      "metadata": {
        "id": "g2awvoJMtDtb"
      },
      "execution_count": 138,
      "outputs": []
    },
    {
      "cell_type": "code",
      "source": [
        "game()"
      ],
      "metadata": {
        "colab": {
          "base_uri": "https://localhost:8080/",
          "height": 173
        },
        "id": "fay13pL5y4Qp",
        "outputId": "b621e142-574e-4aa2-ebec-7fb983b0696a"
      },
      "execution_count": 129,
      "outputs": [
        {
          "output_type": "error",
          "ename": "TypeError",
          "evalue": "ignored",
          "traceback": [
            "\u001b[0;31m---------------------------------------------------------------------------\u001b[0m",
            "\u001b[0;31mTypeError\u001b[0m                                 Traceback (most recent call last)",
            "\u001b[0;32m<ipython-input-129-4a8413945148>\u001b[0m in \u001b[0;36m<module>\u001b[0;34m\u001b[0m\n\u001b[0;32m----> 1\u001b[0;31m \u001b[0mgame\u001b[0m\u001b[0;34m(\u001b[0m\u001b[0;34m)\u001b[0m\u001b[0;34m\u001b[0m\u001b[0;34m\u001b[0m\u001b[0m\n\u001b[0m",
            "\u001b[0;31mTypeError\u001b[0m: game() missing 2 required positional arguments: 'start' and 'end'"
          ]
        }
      ]
    },
    {
      "cell_type": "code",
      "source": [
        "game(1, 6)\n",
        "game(start=1, end=6)\n",
        "game(1, 6, name=\"만렙토끼\")\n",
        "game(1, 6, name=\"만렙토끼\", money = 10000)\n",
        "game(1, 6, 3, name=\"만렙토끼\", money = 10000)\n",
        "game(1, 6, 1, 2, 3, 4, 5, 6, name=\"만렙토끼\", money = 10000)\n",
        "game(1, 6, *(1, 2, 3, 4, 5, 6), name=\"만렙토끼\", money = 10000)"
      ],
      "metadata": {
        "colab": {
          "base_uri": "https://localhost:8080/"
        },
        "id": "qAUXkGNButEE",
        "outputId": "2600fedb-18c3-4bfe-b1e3-3282ee8ff098"
      },
      "execution_count": 206,
      "outputs": [
        {
          "output_type": "stream",
          "name": "stdout",
          "text": [
            "이름을 입력해주세요\n",
            "이름을 입력해주세요\n",
            "금액을 지불해주세요\n",
            "당첨 숫자를 입력해주세요\n",
            "실패입니다 2\n",
            "만렙토끼님, 당첨되었습니다! 5 / \\20000\n",
            "만렙토끼님, 당첨되었습니다! 4 / \\20000\n"
          ]
        },
        {
          "output_type": "execute_result",
          "data": {
            "text/plain": [
              "20000"
            ]
          },
          "metadata": {},
          "execution_count": 206
        }
      ]
    },
    {
      "cell_type": "code",
      "source": [
        "seed_money = 10000"
      ],
      "metadata": {
        "id": "R8Zn4WjAzMFI"
      },
      "execution_count": 133,
      "outputs": []
    },
    {
      "cell_type": "code",
      "source": [
        "print(f\"게임 전 시드머니 : {seed_money:.2f}\")\n",
        "m = seed_money * 0.05\n",
        "print(\"$$게임시작$$\")\n",
        "result = game(1, 2, 1, multiple =4, name = \"강성욱\", money=m)  # 5000 -> 10000. 0\n",
        "seed_money -= m\n",
        "seed_money += result\n",
        "print(f\"게임 후 시드머니 : {seed_money:.2f}\")"
      ],
      "metadata": {
        "colab": {
          "base_uri": "https://localhost:8080/"
        },
        "id": "vwz225vVzTSH",
        "outputId": "e3d22eff-c71e-40f3-8af2-1eec6a921f0a"
      },
      "execution_count": 207,
      "outputs": [
        {
          "output_type": "stream",
          "name": "stdout",
          "text": [
            "게임 전 시드머니 : 2104.10\n",
            "$$게임시작$$\n",
            "실패입니다 2\n",
            "게임 후 시드머니 : 1998.90\n"
          ]
        }
      ]
    },
    {
      "cell_type": "markdown",
      "source": [
        "```\n",
        "단, 이때 def custom_print(**kwargs, *args):처럼\n",
        "**kwargs가 *args보다 앞쪽에 오면 안 됩니다.\n",
        "매개변수 순서에서 **kwargs는 반드시 가장 뒤쪽에 와야 합니다.\n",
        "\n",
        "특히 고정 매개변수와 *args, **kwargs를 함께 사용한다면 \n",
        "def custom_print(a, b, *args, **kwargs):처럼 \n",
        "매개변수는 고정 매개변수, *args, **kwargs 순으로 지정해야 합니다.\n",
        "```"
      ],
      "metadata": {
        "id": "HC3dA31hp3tL"
      }
    },
    {
      "cell_type": "markdown",
      "source": [
        "## 매개변수에 초깃값 지정하기"
      ],
      "metadata": {
        "id": "XIaHNaR3qJXP"
      }
    },
    {
      "cell_type": "markdown",
      "source": [
        "지금까지 함수를 호출할 때 항상 인수를 넣어서 값을 전달했습니다. 그러면 인수를 생략할 수는 없을까요? 이때는 함수의 매개변수에 초깃값을 지정하면 됩니다. 초깃값은 다음과 같이 함수를 만들 때 매개변수=값 형식으로 지정합니다.\n",
        "\n",
        "```\n",
        "def 함수이름(매개변수=값):\n",
        "    코드\n",
        "```"
      ],
      "metadata": {
        "id": "SiCXmhZEqxoR"
      }
    },
    {
      "cell_type": "markdown",
      "source": [
        "매개변수의 초깃값은 주로 사용하는 값이 있으면서 가끔 다른 값을 사용해야 할 때 활용합니다. 대표적인 예가 print 함수인데, print 함수의 sep는 초깃값이 ' '(공백)으로 지정되어 있어서 대부분 그대로 사용하고, 가끔 sep에 다른 값을 넣어서 사용합니다."
      ],
      "metadata": {
        "id": "cfFz3bmWq1c0"
      }
    },
    {
      "cell_type": "code",
      "source": [
        "def introduce(name, age, address=\"비공개\"):\n",
        "    print(f'이름 : {name}')\n",
        "    print(f'나이 : {age}')\n",
        "    print(f'주소 : {address}')"
      ],
      "metadata": {
        "id": "bo2b1w8_p1wF"
      },
      "execution_count": 145,
      "outputs": []
    },
    {
      "cell_type": "code",
      "source": [
        "introduce(\"홍길동\", 30)"
      ],
      "metadata": {
        "colab": {
          "base_uri": "https://localhost:8080/"
        },
        "id": "l8sMqTNm1UVf",
        "outputId": "9ff1a542-0b6e-4517-f79e-d071c30c4309"
      },
      "execution_count": 147,
      "outputs": [
        {
          "output_type": "stream",
          "name": "stdout",
          "text": [
            "이름 : 홍길동\n",
            "나이 : 30\n",
            "주소 : 비공개\n"
          ]
        }
      ]
    },
    {
      "cell_type": "code",
      "source": [
        "# 매개변수에 초깃값이 지정되어 있더라도 값을 넣으면 해당 값이 전달됩니다.\n",
        "introduce(\"홍길동\", 30, \"서울시 용산구\")"
      ],
      "metadata": {
        "colab": {
          "base_uri": "https://localhost:8080/"
        },
        "id": "U1uofBhgq_Dg",
        "outputId": "dcd4d025-f7d4-428d-f52f-955c2dee7694"
      },
      "execution_count": 148,
      "outputs": [
        {
          "output_type": "stream",
          "name": "stdout",
          "text": [
            "이름 : 홍길동\n",
            "나이 : 30\n",
            "주소 : 서울시 용산구\n"
          ]
        }
      ]
    },
    {
      "cell_type": "code",
      "source": [
        "def my_cal(interest, tax = 0.14):\n",
        "    return interest * (1 - tax * 1.1)"
      ],
      "metadata": {
        "id": "kt6C8Y_j1eZY"
      },
      "execution_count": 149,
      "outputs": []
    },
    {
      "cell_type": "code",
      "source": [
        "my_cal(1_000_000)"
      ],
      "metadata": {
        "colab": {
          "base_uri": "https://localhost:8080/"
        },
        "id": "mxXtSNX81lHr",
        "outputId": "fca4f00b-9ec9-4a3c-bc1c-9f35252feefd"
      },
      "execution_count": 150,
      "outputs": [
        {
          "output_type": "execute_result",
          "data": {
            "text/plain": [
              "846000.0"
            ]
          },
          "metadata": {},
          "execution_count": 150
        }
      ]
    },
    {
      "cell_type": "code",
      "source": [
        "my_cal(1_000_000, 0.1)"
      ],
      "metadata": {
        "colab": {
          "base_uri": "https://localhost:8080/"
        },
        "id": "7uGr4B701nEU",
        "outputId": "ffd97c42-b293-4c6c-ec04-8a5db44b12b8"
      },
      "execution_count": 152,
      "outputs": [
        {
          "output_type": "execute_result",
          "data": {
            "text/plain": [
              "890000.0"
            ]
          },
          "metadata": {},
          "execution_count": 152
        }
      ]
    },
    {
      "cell_type": "code",
      "source": [
        "def my_cal2(money, rate=0.05, tax = 0.14):\n",
        "    return money * rate * (1 - tax * 1.1)"
      ],
      "metadata": {
        "id": "NUN--yIa1pjt"
      },
      "execution_count": 157,
      "outputs": []
    },
    {
      "cell_type": "code",
      "source": [
        "my_cal2(1_000_000)"
      ],
      "metadata": {
        "colab": {
          "base_uri": "https://localhost:8080/"
        },
        "id": "VCQxa4661zup",
        "outputId": "f3bbac80-807c-4c9a-981f-2597c743a984"
      },
      "execution_count": 158,
      "outputs": [
        {
          "output_type": "execute_result",
          "data": {
            "text/plain": [
              "42300.0"
            ]
          },
          "metadata": {},
          "execution_count": 158
        }
      ]
    },
    {
      "cell_type": "code",
      "source": [
        "my_cal2(1_000_000, rate=0.12, tax=0)"
      ],
      "metadata": {
        "colab": {
          "base_uri": "https://localhost:8080/"
        },
        "id": "d7K_Y2g31_3S",
        "outputId": "3646a30f-5c35-4278-c72a-35bf347260f5"
      },
      "execution_count": 159,
      "outputs": [
        {
          "output_type": "execute_result",
          "data": {
            "text/plain": [
              "120000.0"
            ]
          },
          "metadata": {},
          "execution_count": 159
        }
      ]
    },
    {
      "cell_type": "markdown",
      "source": [
        "### 초깃값이 지정된 매개변수의 위치"
      ],
      "metadata": {
        "id": "82Yf7g54rHxN"
      }
    },
    {
      "cell_type": "markdown",
      "source": [
        "매개변수의 초깃값을 지정할 때 한 가지 주의할 점이 있습니다. 초깃값이 지정된 매개변수 다음에는 초깃값이 없는 매개변수가 올 수 없습니다."
      ],
      "metadata": {
        "id": "0naJpS_8rYfy"
      }
    },
    {
      "cell_type": "code",
      "source": [
        "def my_cal2(rate=0.05, money, tax = 0.14):\n",
        "    return money * rate * (1 - tax * 1.1)"
      ],
      "metadata": {
        "colab": {
          "base_uri": "https://localhost:8080/",
          "height": 136
        },
        "id": "dr_rk30zrDcE",
        "outputId": "3cefdccb-ef04-4a18-babe-c5395b79d0e2"
      },
      "execution_count": 160,
      "outputs": [
        {
          "output_type": "error",
          "ename": "SyntaxError",
          "evalue": "ignored",
          "traceback": [
            "\u001b[0;36m  File \u001b[0;32m\"<ipython-input-160-e142453e57e4>\"\u001b[0;36m, line \u001b[0;32m1\u001b[0m\n\u001b[0;31m    def my_cal2(rate=0.05, money, tax = 0.14):\u001b[0m\n\u001b[0m                ^\u001b[0m\n\u001b[0;31mSyntaxError\u001b[0m\u001b[0;31m:\u001b[0m non-default argument follows default argument\n"
          ]
        }
      ]
    },
    {
      "cell_type": "markdown",
      "source": [
        "초깃값이 지정된 매개변수는 뒤쪽에 몰아주면 됩니다.\n",
        "```\n",
        "def personal_info(name, age, address='비공개'):\n",
        "def personal_info(name, age=0, address='비공개'):\n",
        "def personal_info(name='비공개', age=0, address='비공개'):\n",
        "```"
      ],
      "metadata": {
        "id": "l972VnlQrjcI"
      }
    },
    {
      "cell_type": "markdown",
      "source": [
        "def fun(a, b, c, *args, d=?, e=?, address)"
      ],
      "metadata": {
        "id": "kHfnPTkC2a-5"
      }
    },
    {
      "cell_type": "markdown",
      "source": [
        "# 람다 표현식"
      ],
      "metadata": {
        "id": "O0V37htzsB7t"
      }
    },
    {
      "cell_type": "markdown",
      "source": [
        "람다 표현식은 식 형태로 되어 있다고 해서 람다 표현식(lambda expression)이라고 부릅니다. 특히 람다 표현식은 함수를 간편하게 작성할 수 있어서 다른 함수의 인수로 넣을 때 주로 사용합니다."
      ],
      "metadata": {
        "id": "NI6j49H_sEY5"
      }
    },
    {
      "cell_type": "markdown",
      "source": [
        "## 람다 표현식으로 함수 만들기"
      ],
      "metadata": {
        "id": "e-dE5RTXsH-M"
      }
    },
    {
      "cell_type": "code",
      "execution_count": 161,
      "metadata": {
        "colab": {
          "base_uri": "https://localhost:8080/"
        },
        "id": "pA553Kopr82H",
        "outputId": "eb46c29e-e80d-4487-fbc5-42e1568e1b98"
      },
      "outputs": [
        {
          "output_type": "execute_result",
          "data": {
            "text/plain": [
              "11"
            ]
          },
          "metadata": {},
          "execution_count": 161
        }
      ],
      "source": [
        "def plus_ten(x): \n",
        "    return x + 10\n",
        "\n",
        "plus_ten(1)"
      ]
    },
    {
      "cell_type": "markdown",
      "source": [
        "람다 표현식은 다음과 같이 lambda에 매개변수를 지정하고 :(콜론) 뒤에 반환값으로 사용할 식을 지정합니다.\n",
        "\n",
        "* `lambda 매개변수들: 식`"
      ],
      "metadata": {
        "id": "dm8-zwtCsQNe"
      }
    },
    {
      "cell_type": "code",
      "source": [
        "lambda x : x + 10"
      ],
      "metadata": {
        "colab": {
          "base_uri": "https://localhost:8080/"
        },
        "id": "q0tSmPdVsNz6",
        "outputId": "4ecf5a04-fb3f-45c5-846f-a331181dc32c"
      },
      "execution_count": 162,
      "outputs": [
        {
          "output_type": "execute_result",
          "data": {
            "text/plain": [
              "<function __main__.<lambda>(x)>"
            ]
          },
          "metadata": {},
          "execution_count": 162
        }
      ]
    },
    {
      "cell_type": "markdown",
      "source": [
        "실행을 해보면 함수 객체가 나오는데, 이 상태로는 함수를 호출할 수 없습니다. 왜냐하면 람다 표현식은 이름이 없는 함수를 만들기 때문입니다. 그래서 람다 표현식을 익명 함수(anonymous function)로 부르기도 합니다.\n",
        "\n",
        "lambda로 만든 익명 함수를 호출하려면 다음과 같이 람다 표현식을 변수에 할당해주면 됩니다."
      ],
      "metadata": {
        "id": "ujm2GYH9sVim"
      }
    },
    {
      "cell_type": "code",
      "source": [
        "plus_ten = lambda x : x + 10\n",
        "plus_ten(12)"
      ],
      "metadata": {
        "colab": {
          "base_uri": "https://localhost:8080/"
        },
        "id": "ar6lYnq0sTYB",
        "outputId": "b3ac8b43-9bb3-4939-cc2a-2d481d20c0a9"
      },
      "execution_count": 163,
      "outputs": [
        {
          "output_type": "execute_result",
          "data": {
            "text/plain": [
              "22"
            ]
          },
          "metadata": {},
          "execution_count": 163
        }
      ]
    },
    {
      "cell_type": "markdown",
      "source": [
        "### 람다 표현식 자체를 호출하기"
      ],
      "metadata": {
        "id": "7GJVBpaBsbKQ"
      }
    },
    {
      "cell_type": "markdown",
      "source": [
        "람다 표현식은 변수에 할당하지 않고 람다 표현식 자체를 바로 호출할 수 있습니다. 다음과 같이 람다 표현식을 ( )(괄호)로 묶은 뒤에 다시 ( )를 붙이고 인수를 넣어서 호출하면 됩니다.\n",
        "\n",
        "* `(lambda 매개변수들: 식)(인수들)`"
      ],
      "metadata": {
        "id": "KHt7GGMysdPf"
      }
    },
    {
      "cell_type": "code",
      "source": [
        "(lambda x : x + 10)(100)"
      ],
      "metadata": {
        "colab": {
          "base_uri": "https://localhost:8080/"
        },
        "id": "nyovR2LssYsr",
        "outputId": "315d6e7c-5e16-4a1a-91ad-82ea5a4546f7"
      },
      "execution_count": 164,
      "outputs": [
        {
          "output_type": "execute_result",
          "data": {
            "text/plain": [
              "110"
            ]
          },
          "metadata": {},
          "execution_count": 164
        }
      ]
    },
    {
      "cell_type": "markdown",
      "source": [
        "### 람다 표현식 안에서는 변수를 만들 수 없다"
      ],
      "metadata": {
        "id": "m91vCVZUslAD"
      }
    },
    {
      "cell_type": "markdown",
      "source": [
        "람다 표현식에서 주의할 점은 람다 표현식 안에서는 새 변수를 만들 수 없다는 점입니다. 따라서 반환값 부분은 변수 없이 식 한 줄로 표현할 수 있어야 합니다. 변수가 필요한 코드일 경우에는 def로 함수를 작성하는 것이 좋습니다."
      ],
      "metadata": {
        "id": "MHaw_mWAsnco"
      }
    },
    {
      "cell_type": "code",
      "source": [
        "(lambda x: y = 10; x + y)(1)"
      ],
      "metadata": {
        "colab": {
          "base_uri": "https://localhost:8080/",
          "height": 136
        },
        "id": "92VgQDf_sit6",
        "outputId": "a1a7f5dc-07b0-464d-ad46-559b0e0407d1"
      },
      "execution_count": 165,
      "outputs": [
        {
          "output_type": "error",
          "ename": "SyntaxError",
          "evalue": "ignored",
          "traceback": [
            "\u001b[0;36m  File \u001b[0;32m\"<ipython-input-165-f39371b7f7d5>\"\u001b[0;36m, line \u001b[0;32m1\u001b[0m\n\u001b[0;31m    (lambda x: y = 10; x + y)(1)\u001b[0m\n\u001b[0m                 ^\u001b[0m\n\u001b[0;31mSyntaxError\u001b[0m\u001b[0;31m:\u001b[0m invalid syntax\n"
          ]
        }
      ]
    },
    {
      "cell_type": "code",
      "source": [
        "# 단, 람다 표현식 바깥에 있는 변수는 사용할 수 있습니다.\n",
        "y = 10\n",
        "(lambda x : x + y)(1)"
      ],
      "metadata": {
        "colab": {
          "base_uri": "https://localhost:8080/"
        },
        "id": "B9C2CGGCsqtn",
        "outputId": "06e1ff41-440a-4a09-e101-b648ccaf1b42"
      },
      "execution_count": 166,
      "outputs": [
        {
          "output_type": "execute_result",
          "data": {
            "text/plain": [
              "11"
            ]
          },
          "metadata": {},
          "execution_count": 166
        }
      ]
    },
    {
      "cell_type": "code",
      "source": [
        "# 함수 내부에서, 외부에서 사용된 변수를 끌어서 사용하는 건 가능 (람다 표현식도 마찬가지)\n",
        "# 함수 내부에서 전달받은 매개변수나, 그 변수를 통해 선언된 다른 값들을 함수밖에서 호출할 수 없음\n",
        "def add(x, y):\n",
        "    return x + y\n",
        "\n",
        "def add_power(x, y):\n",
        "    return (x + y) ** 2\n",
        "\n",
        "z = 2\n",
        "def add_power2(x, y):\n",
        "    return (x + y) ** z"
      ],
      "metadata": {
        "id": "4OYxG1AB39oy"
      },
      "execution_count": 177,
      "outputs": []
    },
    {
      "cell_type": "code",
      "source": [
        "w = 0"
      ],
      "metadata": {
        "id": "N0aUqgNk5q_x"
      },
      "execution_count": 178,
      "outputs": []
    },
    {
      "cell_type": "code",
      "source": [
        "# 함수 내부에 선언되지 않은 변수의 경우에는 대입할 수 없다\n",
        "def fun():\n",
        "    print(w) # 값을 외부로 전달해서 변경하고 싶으면 return 강제"
      ],
      "metadata": {
        "id": "5Ukv2NuB5vBm"
      },
      "execution_count": 208,
      "outputs": []
    },
    {
      "cell_type": "code",
      "source": [
        "fun()\n",
        "w"
      ],
      "metadata": {
        "colab": {
          "base_uri": "https://localhost:8080/"
        },
        "id": "mgxrXpdNFl8F",
        "outputId": "8a402ce3-e62e-4127-ce73-29b03ef0d499"
      },
      "execution_count": 209,
      "outputs": [
        {
          "output_type": "stream",
          "name": "stdout",
          "text": [
            "0\n"
          ]
        },
        {
          "output_type": "execute_result",
          "data": {
            "text/plain": [
              "0"
            ]
          },
          "metadata": {},
          "execution_count": 209
        }
      ]
    },
    {
      "cell_type": "code",
      "source": [
        "add_power2(10, 10)"
      ],
      "metadata": {
        "colab": {
          "base_uri": "https://localhost:8080/"
        },
        "id": "2nlM7aSB4bgT",
        "outputId": "04269048-6c23-4629-f070-55c39bbd8e4d"
      },
      "execution_count": 172,
      "outputs": [
        {
          "output_type": "execute_result",
          "data": {
            "text/plain": [
              "400"
            ]
          },
          "metadata": {},
          "execution_count": 172
        }
      ]
    },
    {
      "cell_type": "code",
      "source": [
        "z = 3\n",
        "add_power2(10, 10)"
      ],
      "metadata": {
        "colab": {
          "base_uri": "https://localhost:8080/"
        },
        "id": "rGhtncpg4d75",
        "outputId": "843d11cd-fefa-40e2-98ee-5431557d9f9a"
      },
      "execution_count": 175,
      "outputs": [
        {
          "output_type": "execute_result",
          "data": {
            "text/plain": [
              "8000"
            ]
          },
          "metadata": {},
          "execution_count": 175
        }
      ]
    },
    {
      "cell_type": "code",
      "source": [
        "(lambda x, y: (x + y) ** z)(10, 20)"
      ],
      "metadata": {
        "colab": {
          "base_uri": "https://localhost:8080/"
        },
        "id": "x0xANfZl5H6u",
        "outputId": "85407c83-0c73-4a79-d564-4c62bb68a919"
      },
      "execution_count": 210,
      "outputs": [
        {
          "output_type": "execute_result",
          "data": {
            "text/plain": [
              "900"
            ]
          },
          "metadata": {},
          "execution_count": 210
        }
      ]
    },
    {
      "cell_type": "code",
      "source": [
        "f = \"{:.2f}\".format\n",
        "def add_float(a,b):\n",
        "    return f(a + b)\n",
        "\n",
        "add_float(1.3745, 2.4857)"
      ],
      "metadata": {
        "colab": {
          "base_uri": "https://localhost:8080/",
          "height": 35
        },
        "id": "Omah1Dxb6uKl",
        "outputId": "150ac0f8-57a3-49ad-f208-66d4276afe17"
      },
      "execution_count": 186,
      "outputs": [
        {
          "output_type": "execute_result",
          "data": {
            "text/plain": [
              "'3.86'"
            ],
            "application/vnd.google.colaboratory.intrinsic+json": {
              "type": "string"
            }
          },
          "metadata": {},
          "execution_count": 186
        }
      ]
    },
    {
      "cell_type": "markdown",
      "source": [
        "### 람다 표현식을 인수로 사용하기"
      ],
      "metadata": {
        "id": "ebuUgDrjsxIc"
      }
    },
    {
      "cell_type": "markdown",
      "source": [
        "람다 표현식을 사용하는 이유는 함수의 인수 부분에서 간단하게 함수를 만들기 위해서 입니다. 이런 방식으로 사용하는 대표적인 예가 map입니다."
      ],
      "metadata": {
        "id": "8osUgTp7s0wN"
      }
    },
    {
      "cell_type": "code",
      "source": [
        "list(map(int, [\"11\", \"12\", \"12\"]))"
      ],
      "metadata": {
        "colab": {
          "base_uri": "https://localhost:8080/"
        },
        "id": "FFHxoY6IsvPu",
        "outputId": "39cfe19a-a6e1-4b10-927b-810f47344b5c"
      },
      "execution_count": 180,
      "outputs": [
        {
          "output_type": "execute_result",
          "data": {
            "text/plain": [
              "[11, 12, 12]"
            ]
          },
          "metadata": {},
          "execution_count": 180
        }
      ]
    },
    {
      "cell_type": "code",
      "source": [
        "list(map(lambda x : int(x)**2, [\"11\", \"12\", \"13\"]))"
      ],
      "metadata": {
        "colab": {
          "base_uri": "https://localhost:8080/"
        },
        "id": "FOm48x0Qs6p-",
        "outputId": "806e4dd4-6067-4a0c-bb5b-a47cabed6e56"
      },
      "execution_count": 182,
      "outputs": [
        {
          "output_type": "execute_result",
          "data": {
            "text/plain": [
              "[121, 144, 169]"
            ]
          },
          "metadata": {},
          "execution_count": 182
        }
      ]
    }
  ]
}