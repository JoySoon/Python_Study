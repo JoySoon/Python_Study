{
  "nbformat": 4,
  "nbformat_minor": 0,
  "metadata": {
    "colab": {
      "provenance": [],
      "include_colab_link": true
    },
    "kernelspec": {
      "name": "python3",
      "display_name": "Python 3"
    },
    "language_info": {
      "name": "python"
    }
  },
  "cells": [
    {
      "cell_type": "markdown",
      "metadata": {
        "id": "view-in-github",
        "colab_type": "text"
      },
      "source": [
        "<a href=\"https://colab.research.google.com/github/JoySoon/Python_Study/blob/main/2023/%EC%88%98%EC%97%85%ED%95%84%EA%B8%B0/numpy/ch05_04_%EA%B8%B0%EC%88%A0%ED%86%B5%EA%B3%84%2B%EB%82%9C%EC%88%98%EB%B0%9C%EC%83%9D%EA%B3%BC%2B%EC%B9%B4%EC%9A%B4%ED%8C%85_KSW.ipynb\" target=\"_parent\"><img src=\"https://colab.research.google.com/assets/colab-badge.svg\" alt=\"Open In Colab\"/></a>"
      ]
    },
    {
      "cell_type": "markdown",
      "source": [
        "# 기술 통계"
      ],
      "metadata": {
        "id": "tqxkhX-JFimj"
      }
    },
    {
      "cell_type": "markdown",
      "source": [
        "## 기술 통계(descriptive statistics)\n",
        "> 데이터 집합에 대해 통계를 계산\n",
        "* 데이터의 개수(count)\n",
        "* 평균(mean, average)\n",
        "* 분산(variance)\n",
        "* 표준 편차(standard deviation)\n",
        "* 최댓값(maximum)\n",
        "* 최솟값(minimum)\n",
        "* 중앙값(median)\n",
        "* 사분위수(quartile)"
      ],
      "metadata": {
        "id": "gchQwkseFsUX"
      }
    },
    {
      "cell_type": "code",
      "source": [
        "import numpy as np"
      ],
      "metadata": {
        "id": "jttHEMK4F9XX"
      },
      "execution_count": 1,
      "outputs": []
    },
    {
      "cell_type": "code",
      "source": [
        "x = np.array([\n",
        "    18, 5, 10, 23,19, -8, 10, 0, 0, 5, 2, 15, 8,\n",
        "    2, 5, 4, 15, -1, 4, -7, -24, 7, 9, -6, 23, -13\n",
        "])\n",
        "x"
      ],
      "metadata": {
        "colab": {
          "base_uri": "https://localhost:8080/"
        },
        "id": "WDpw5x7QVMAg",
        "outputId": "51c77690-3a50-40f6-a204-e3278138820b"
      },
      "execution_count": 2,
      "outputs": [
        {
          "output_type": "execute_result",
          "data": {
            "text/plain": [
              "array([ 18,   5,  10,  23,  19,  -8,  10,   0,   0,   5,   2,  15,   8,\n",
              "         2,   5,   4,  15,  -1,   4,  -7, -24,   7,   9,  -6,  23, -13])"
            ]
          },
          "metadata": {},
          "execution_count": 2
        }
      ]
    },
    {
      "cell_type": "markdown",
      "source": [
        "## 데이터의 개수"
      ],
      "metadata": {
        "id": "5bzioyHoF557"
      }
    },
    {
      "cell_type": "code",
      "source": [
        "len(x)"
      ],
      "metadata": {
        "colab": {
          "base_uri": "https://localhost:8080/"
        },
        "id": "wlTrzCbKFl4j",
        "outputId": "5678e1ff-85a0-46d4-dd49-914e0e36578c"
      },
      "execution_count": 3,
      "outputs": [
        {
          "output_type": "execute_result",
          "data": {
            "text/plain": [
              "26"
            ]
          },
          "metadata": {},
          "execution_count": 3
        }
      ]
    },
    {
      "cell_type": "markdown",
      "source": [
        "## 표본 평균\n",
        "* 우리가 일반적으로 아는 평균\n",
        "* 통계용어로는 표본 평균(sample average, sample mean)\n",
        "<br>\n",
        "$\n",
        "\\bar{x} = \\frac{1}{N}\\displaystyle\\sum_{i=1}^{N}{x_i}\n",
        "$\n",
        "(𝑁은 데이터의 개수)"
      ],
      "metadata": {
        "id": "3xe5u1nkGBgM"
      }
    },
    {
      "cell_type": "code",
      "source": [
        "np.mean(x), x.mean()"
      ],
      "metadata": {
        "colab": {
          "base_uri": "https://localhost:8080/"
        },
        "id": "SiQn6qJlF_Y_",
        "outputId": "bf3a4c28-89ed-4aed-b6af-93b82da9af65"
      },
      "execution_count": 4,
      "outputs": [
        {
          "output_type": "execute_result",
          "data": {
            "text/plain": [
              "(4.8076923076923075, 4.8076923076923075)"
            ]
          },
          "metadata": {},
          "execution_count": 4
        }
      ]
    },
    {
      "cell_type": "markdown",
      "source": [
        "## 표본 분산\n",
        "* 표본 분산(sample variance) : 데이터와 표본 평균간의 거리의 제곱의 평균\n",
        "* 표본 분산이 작으면 데이터가 모여있는 것이고 크면 흩어져 있는 것\n",
        "<br>\n",
        "$\n",
        "s^2 = \\frac{1}{N}\\displaystyle\\sum_{i=1}^{N}{(x_i-\\bar{x})^2}\n",
        "$"
      ],
      "metadata": {
        "id": "sMmBl-uLHWwF"
      }
    },
    {
      "cell_type": "code",
      "source": [
        "np.var(x)"
      ],
      "metadata": {
        "colab": {
          "base_uri": "https://localhost:8080/"
        },
        "id": "ukbJg498HWZG",
        "outputId": "1ef675ba-6026-41a2-b15b-8d5e12ec9682"
      },
      "execution_count": 5,
      "outputs": [
        {
          "output_type": "execute_result",
          "data": {
            "text/plain": [
              "115.23224852071006"
            ]
          },
          "metadata": {},
          "execution_count": 5
        }
      ]
    },
    {
      "cell_type": "markdown",
      "source": [
        "## 표본 표준편차\n",
        "* 표본 표준편차(sample standard variance) : 표본 분산의 양의 제곱근 값 \n",
        "<br>\n",
        "$\n",
        "s = \\sqrt{s^2}\n",
        "$"
      ],
      "metadata": {
        "id": "ox3H6KB8H4Hd"
      }
    },
    {
      "cell_type": "code",
      "source": [
        "np.std(x)"
      ],
      "metadata": {
        "colab": {
          "base_uri": "https://localhost:8080/"
        },
        "id": "ESjtI9K9HP8g",
        "outputId": "ecccbe28-79f1-424a-b0d4-716e53d52c9e"
      },
      "execution_count": 6,
      "outputs": [
        {
          "output_type": "execute_result",
          "data": {
            "text/plain": [
              "10.734628476137871"
            ]
          },
          "metadata": {},
          "execution_count": 6
        }
      ]
    },
    {
      "cell_type": "markdown",
      "source": [
        "## 최댓값과 최솟값"
      ],
      "metadata": {
        "id": "68MH4LSRINEC"
      }
    },
    {
      "cell_type": "code",
      "source": [
        "# 최댓값 (maximum) / 최솟값 (minimum)\n",
        "np.max(x), np.min(x)"
      ],
      "metadata": {
        "colab": {
          "base_uri": "https://localhost:8080/"
        },
        "id": "E-KkdiALIPvE",
        "outputId": "ec2212f1-179c-4728-ba9c-742111d18a40"
      },
      "execution_count": 7,
      "outputs": [
        {
          "output_type": "execute_result",
          "data": {
            "text/plain": [
              "(23, -24)"
            ]
          },
          "metadata": {},
          "execution_count": 7
        }
      ]
    },
    {
      "cell_type": "markdown",
      "source": [
        "## 중앙값\n",
        "* 중앙값(median) : 데이터를 크기대로 정렬하였을 때 가장 가운데에 있는 수\n",
        "* 만약 데이터의 수가 짝수이면 가장 가운데에 있는 두 수의 평균을 사용\n"
      ],
      "metadata": {
        "id": "vGgHFClPIWQV"
      }
    },
    {
      "cell_type": "code",
      "source": [
        "np.median(x)"
      ],
      "metadata": {
        "colab": {
          "base_uri": "https://localhost:8080/"
        },
        "id": "LS2P0zPnIUvN",
        "outputId": "433bb4ae-36cd-4a0f-a141-c772d31fc721"
      },
      "execution_count": 8,
      "outputs": [
        {
          "output_type": "execute_result",
          "data": {
            "text/plain": [
              "5.0"
            ]
          },
          "metadata": {},
          "execution_count": 8
        }
      ]
    },
    {
      "cell_type": "markdown",
      "source": [
        "## 사분위수\n",
        "* 사분위수(quartile) : 데이터를 가장 작은 수부터 가장 큰 수까지 크기가 커지는 순서대로 정렬하였을 때 1/4, 2/4, 3/4 위치에 있는 수\n",
        "* 각각 1사분위수, 2사분위수, 3사분위수라고 함\n",
        "* 1/4의 위치란 전체 데이터의 수가 만약 100개이면 25번째 순서, 즉 하위 25%\n",
        "* 따라서 2사분위수는 중앙값과 같음\n",
        "* 때로는 위치를 1/100 단위로 나눈 백분위수(percentile)을 사용하기도 함\n",
        "* 1사분위수는 25% 백분위수와 같음\n"
      ],
      "metadata": {
        "id": "b1pLnirSIfsI"
      }
    },
    {
      "cell_type": "code",
      "source": [
        "np.percentile(x, 0) # 최솟값"
      ],
      "metadata": {
        "colab": {
          "base_uri": "https://localhost:8080/"
        },
        "id": "EHTZ62T8Ici8",
        "outputId": "2da9acb7-b19a-4840-c5fa-c3d5783c863e"
      },
      "execution_count": 9,
      "outputs": [
        {
          "output_type": "execute_result",
          "data": {
            "text/plain": [
              "-24.0"
            ]
          },
          "metadata": {},
          "execution_count": 9
        }
      ]
    },
    {
      "cell_type": "code",
      "source": [
        "np.percentile(x, 25) # 25% 백분위수, 1사분위수"
      ],
      "metadata": {
        "colab": {
          "base_uri": "https://localhost:8080/"
        },
        "id": "h8tVnPH6Ixcv",
        "outputId": "0972c3d8-bd81-4b2e-c39b-b9fa3754216b"
      },
      "execution_count": 10,
      "outputs": [
        {
          "output_type": "execute_result",
          "data": {
            "text/plain": [
              "0.0"
            ]
          },
          "metadata": {},
          "execution_count": 10
        }
      ]
    },
    {
      "cell_type": "code",
      "source": [
        "np.percentile(x, 50) # 50% 백분위수, 2사분위수, 중앙값"
      ],
      "metadata": {
        "colab": {
          "base_uri": "https://localhost:8080/"
        },
        "id": "PuT1HTElIza1",
        "outputId": "db6c2bf0-86f1-470d-a77d-b62e711cc529"
      },
      "execution_count": 11,
      "outputs": [
        {
          "output_type": "execute_result",
          "data": {
            "text/plain": [
              "5.0"
            ]
          },
          "metadata": {},
          "execution_count": 11
        }
      ]
    },
    {
      "cell_type": "code",
      "source": [
        "np.percentile(x, 75) # 75% 백분위수, 3사분위수, 중앙값"
      ],
      "metadata": {
        "colab": {
          "base_uri": "https://localhost:8080/"
        },
        "id": "v7wB_7N_I0zM",
        "outputId": "c194b583-ae92-4f36-cf52-dc93d9473a38"
      },
      "execution_count": 12,
      "outputs": [
        {
          "output_type": "execute_result",
          "data": {
            "text/plain": [
              "10.0"
            ]
          },
          "metadata": {},
          "execution_count": 12
        }
      ]
    },
    {
      "cell_type": "code",
      "source": [
        "np.percentile(x, 100) # 100% 백분위수, 최대값"
      ],
      "metadata": {
        "colab": {
          "base_uri": "https://localhost:8080/"
        },
        "id": "JbCd4SqGI20l",
        "outputId": "f96e089e-a353-4569-d0de-8e9475273916"
      },
      "execution_count": 13,
      "outputs": [
        {
          "output_type": "execute_result",
          "data": {
            "text/plain": [
              "23.0"
            ]
          },
          "metadata": {},
          "execution_count": 13
        }
      ]
    },
    {
      "cell_type": "markdown",
      "source": [
        "# 난수 발생과 카운팅"
      ],
      "metadata": {
        "id": "x1uZuajeI9Si"
      }
    },
    {
      "cell_type": "markdown",
      "source": [
        "## 시드 설정\n",
        "* 컴퓨터 프로그램에서 발생하는 무작위 수는 사실 엄격한 의미의 무작위 수가 아님\n",
        "* 어떤 특정한 시작 숫자를 정해 주면 컴퓨터가 정해진 알고리즘에 의해 마치 난수처럼 보이는 수열을 생성. 이런 시작 숫자를 시드(seed)라고 함\n",
        "* 일단 생성된 난수는 다음번 난수 생성을 위한 시드값이 됨. 따라서 시드값은 한 번만 정해주면 됨.\n",
        "* 시드는 보통 현재 시각 등을 이용하여 자동으로 정해지지만 사람이 수동으로 설정할 수도 있음 * 특정한 시드값이 사용되면 그 다음에 만들어지는 난수들은 모두 예측할 수 있음\n",
        "* 고정된 결과를 얻기 위해서 실습엔 시드를 설정"
      ],
      "metadata": {
        "id": "ZCEj6C5UJHHc"
      }
    },
    {
      "cell_type": "code",
      "source": [
        "np.random.seed(0) # 시드값 고정"
      ],
      "metadata": {
        "id": "R9wwclqfI8_9"
      },
      "execution_count": 16,
      "outputs": []
    },
    {
      "cell_type": "markdown",
      "source": [
        "### `rand` : 0과 1 사이의 난수를 발생"
      ],
      "metadata": {
        "id": "OQRCx_xUJf6l"
      }
    },
    {
      "cell_type": "code",
      "source": [
        "np.random.rand(5) # rand(n) n개의 길이를 가지는 배열에 각각 0-1 사이의 난수를 채워줌"
      ],
      "metadata": {
        "colab": {
          "base_uri": "https://localhost:8080/"
        },
        "id": "w26duH5TJb7f",
        "outputId": "5c5ac3f7-da62-4a0e-9f41-058ac95ed4c6"
      },
      "execution_count": null,
      "outputs": [
        {
          "output_type": "execute_result",
          "data": {
            "text/plain": [
              "array([0.5488135 , 0.71518937, 0.60276338, 0.54488318, 0.4236548 ])"
            ]
          },
          "metadata": {},
          "execution_count": 306
        }
      ]
    },
    {
      "cell_type": "code",
      "source": [
        "np.random.rand(10)"
      ],
      "metadata": {
        "colab": {
          "base_uri": "https://localhost:8080/"
        },
        "id": "bnSQUYKVJkl8",
        "outputId": "48df5bab-b830-4040-842c-4df0556569a2"
      },
      "execution_count": 17,
      "outputs": [
        {
          "output_type": "execute_result",
          "data": {
            "text/plain": [
              "array([0.5488135 , 0.71518937, 0.60276338, 0.54488318, 0.4236548 ,\n",
              "       0.64589411, 0.43758721, 0.891773  , 0.96366276, 0.38344152])"
            ]
          },
          "metadata": {},
          "execution_count": 17
        }
      ]
    },
    {
      "cell_type": "markdown",
      "source": [
        "## 데이터의 순서 변경"
      ],
      "metadata": {
        "id": "TvJHX9FmJtgQ"
      }
    },
    {
      "cell_type": "markdown",
      "source": [
        "### `shuffle`\n",
        "* 데이터의 순서를 변경\n",
        "* 자체 변환(in-place) 함수 (원본에 영향)"
      ],
      "metadata": {
        "id": "89jdzc8rJyqB"
      }
    },
    {
      "cell_type": "code",
      "source": [
        "x = np.arange(10)\n",
        "x"
      ],
      "metadata": {
        "colab": {
          "base_uri": "https://localhost:8080/"
        },
        "id": "vUHakdiQJpjl",
        "outputId": "e915897a-5bee-4cf9-cd5b-8bf9e757d52e"
      },
      "execution_count": 18,
      "outputs": [
        {
          "output_type": "execute_result",
          "data": {
            "text/plain": [
              "array([0, 1, 2, 3, 4, 5, 6, 7, 8, 9])"
            ]
          },
          "metadata": {},
          "execution_count": 18
        }
      ]
    },
    {
      "cell_type": "code",
      "source": [
        "np.random.shuffle(x)\n",
        "x"
      ],
      "metadata": {
        "colab": {
          "base_uri": "https://localhost:8080/"
        },
        "id": "ReqSVnNlJ7S0",
        "outputId": "14ac4618-47c4-4f9f-c08b-3ac7f5aa8d7d"
      },
      "execution_count": 19,
      "outputs": [
        {
          "output_type": "execute_result",
          "data": {
            "text/plain": [
              "array([5, 2, 3, 4, 1, 0, 9, 8, 7, 6])"
            ]
          },
          "metadata": {},
          "execution_count": 19
        }
      ]
    },
    {
      "cell_type": "markdown",
      "source": [
        "## 데이터 샘플링\n",
        "* 표본선택 혹은 샘플링(sampling) : 이미 있는 데이터 집합에서 일부를 무작위로 선택하는 것"
      ],
      "metadata": {
        "id": "MbQrSKXMKJAg"
      }
    },
    {
      "cell_type": "markdown",
      "source": [
        "### `choice` : 샘플링에 사용\n",
        "```\n",
        "numpy.random.choice(a, size=None, replace=True, p=None)\n",
        "```\n",
        "* a : 배열이면 원래의 데이터, 정수이면 arange(a) 명령으로 데이터 생성\n",
        "* size : 정수. 샘플 숫자\n",
        "* replace : 불리언. True이면 한번 선택한 데이터를 다시 선택 가능 (복원/비복원 추출)\n",
        "* p : 배열. 각 데이터가 선택될 수 있는 확률"
      ],
      "metadata": {
        "id": "gEkehbizKWrq"
      }
    },
    {
      "cell_type": "code",
      "source": [
        "np.random.choice(5, 5, replace=False) # 5개 중에 5개를 선택 - > 비복원 -> shuffle"
      ],
      "metadata": {
        "colab": {
          "base_uri": "https://localhost:8080/"
        },
        "id": "YvjoHXqIJ9KJ",
        "outputId": "5fe36e2f-a59b-457a-ebd2-1b59a2aabaef"
      },
      "execution_count": 21,
      "outputs": [
        {
          "output_type": "execute_result",
          "data": {
            "text/plain": [
              "array([2, 4, 1, 3, 0])"
            ]
          },
          "metadata": {},
          "execution_count": 21
        }
      ]
    },
    {
      "cell_type": "code",
      "source": [
        "np.random.choice(5, 3, replace=False) # 5개 중에 5개를 선택 - > 비복원"
      ],
      "metadata": {
        "colab": {
          "base_uri": "https://localhost:8080/"
        },
        "id": "knplEnwIKnYh",
        "outputId": "3fdea598-9548-431a-f3cb-14b1d5b0c5ad"
      },
      "execution_count": 22,
      "outputs": [
        {
          "output_type": "execute_result",
          "data": {
            "text/plain": [
              "array([3, 1, 4])"
            ]
          },
          "metadata": {},
          "execution_count": 22
        }
      ]
    },
    {
      "cell_type": "code",
      "source": [
        "# np.random.choice(5, 10, replace=True)\n",
        "np.random.choice(5, 10) # 복원 5개 중에 10개를 선택 (뽑았던 것도 또 뽑음)"
      ],
      "metadata": {
        "colab": {
          "base_uri": "https://localhost:8080/"
        },
        "id": "4Yd_3i6QKqMw",
        "outputId": "46c7afd8-969d-43f9-98d2-713d986c6ceb"
      },
      "execution_count": 23,
      "outputs": [
        {
          "output_type": "execute_result",
          "data": {
            "text/plain": [
              "array([3, 3, 3, 0, 1, 1, 1, 0, 2, 4])"
            ]
          },
          "metadata": {},
          "execution_count": 23
        }
      ]
    },
    {
      "cell_type": "code",
      "source": [
        "# [0, 1, 2, 3, 4]\n",
        "np.random.choice(5, 10, p=[0.1, 0, 0.3, 0.6, 0])"
      ],
      "metadata": {
        "colab": {
          "base_uri": "https://localhost:8080/"
        },
        "id": "lkbuDYTuKvBN",
        "outputId": "5f134724-0b63-46f9-ad00-afb254edf1f7"
      },
      "execution_count": 25,
      "outputs": [
        {
          "output_type": "execute_result",
          "data": {
            "text/plain": [
              "array([3, 3, 3, 0, 3, 3, 2, 2, 3, 3])"
            ]
          },
          "metadata": {},
          "execution_count": 25
        }
      ]
    },
    {
      "cell_type": "code",
      "source": [
        "np.random.choice([1, 5, 10, 20, 100], 10, p=[0.7, 0.2, 0.05, 0.03, 0.02])"
      ],
      "metadata": {
        "colab": {
          "base_uri": "https://localhost:8080/"
        },
        "id": "XMJwOlj2fWdF",
        "outputId": "6c8d5b71-8a62-4ead-c151-be502decc5de"
      },
      "execution_count": 26,
      "outputs": [
        {
          "output_type": "execute_result",
          "data": {
            "text/plain": [
              "array([  1,   1,   1,  20,   1,   1, 100,   1,   1,   1])"
            ]
          },
          "metadata": {},
          "execution_count": 26
        }
      ]
    },
    {
      "cell_type": "markdown",
      "source": [
        "## 난수 생성\n",
        "* `rand` : 0부터 1 사이의 균일 분포\n",
        "* `randn` : 표준 정규 분포\n",
        "* `randint` : 균일 분포의 정수 난수"
      ],
      "metadata": {
        "id": "D8oZhgNLLCgd"
      }
    },
    {
      "cell_type": "markdown",
      "source": [
        "### `rand` : 0부터 1 사이에서 균일한 확률 분포로 실수 난수를 생성\n",
        "* 숫자 인수는 생성할 난수의 크기\n",
        "* 여러 개의 인수를 넣으면 해당 크기를 가진 행렬을 생성"
      ],
      "metadata": {
        "id": "BcH0M0-_LPMP"
      }
    },
    {
      "cell_type": "code",
      "source": [
        "np.random.rand(10)"
      ],
      "metadata": {
        "colab": {
          "base_uri": "https://localhost:8080/"
        },
        "id": "EWqs3z-zK0k_",
        "outputId": "23b57f71-7387-4edb-b537-a9e5617d7fed"
      },
      "execution_count": 27,
      "outputs": [
        {
          "output_type": "execute_result",
          "data": {
            "text/plain": [
              "array([0.6235101 , 0.33800761, 0.67475232, 0.31720174, 0.77834548,\n",
              "       0.94957105, 0.66252687, 0.01357164, 0.6228461 , 0.67365963])"
            ]
          },
          "metadata": {},
          "execution_count": 27
        }
      ]
    },
    {
      "cell_type": "code",
      "source": [
        "np.random.rand(3, 5)"
      ],
      "metadata": {
        "colab": {
          "base_uri": "https://localhost:8080/"
        },
        "id": "DJTNzp8oLbVj",
        "outputId": "7d5dc3bb-a5d8-4d8b-efe1-3526a5df163f"
      },
      "execution_count": 28,
      "outputs": [
        {
          "output_type": "execute_result",
          "data": {
            "text/plain": [
              "array([[0.971945  , 0.87819347, 0.50962438, 0.05571469, 0.45115921],\n",
              "       [0.01998767, 0.44171092, 0.97958673, 0.35944446, 0.48089353],\n",
              "       [0.68866118, 0.88047589, 0.91823547, 0.21682214, 0.56518887]])"
            ]
          },
          "metadata": {},
          "execution_count": 28
        }
      ]
    },
    {
      "cell_type": "markdown",
      "source": [
        "### `randn` : 기댓값이 0이고 표준편차가 1인 표준 정규 분포(standard normal distribution)를 따르는 난수를 생성"
      ],
      "metadata": {
        "id": "HdWD5uVkLjQt"
      }
    },
    {
      "cell_type": "code",
      "source": [
        "np.random.randn(10)"
      ],
      "metadata": {
        "colab": {
          "base_uri": "https://localhost:8080/"
        },
        "id": "AlJYbewHLeZB",
        "outputId": "d1b9ff78-48a4-4b96-b992-b272da477820"
      },
      "execution_count": 30,
      "outputs": [
        {
          "output_type": "execute_result",
          "data": {
            "text/plain": [
              "array([-0.65091287, -1.49874039, -1.23063497,  0.19400719, -0.99838235,\n",
              "       -0.3676376 ,  1.73719932,  0.59361275, -0.54236358, -1.71967238])"
            ]
          },
          "metadata": {},
          "execution_count": 30
        }
      ]
    },
    {
      "cell_type": "code",
      "source": [
        "np.random.randn(3, 5)"
      ],
      "metadata": {
        "colab": {
          "base_uri": "https://localhost:8080/"
        },
        "id": "gbDMC1OxLt3f",
        "outputId": "6d0a9ecc-6fbc-47c9-e693-7082b27a3fad"
      },
      "execution_count": 31,
      "outputs": [
        {
          "output_type": "execute_result",
          "data": {
            "text/plain": [
              "array([[-0.57890879,  1.42694855,  0.27699691,  0.78966713,  0.32207411],\n",
              "       [ 0.70039238,  0.38871663, -0.04126386,  0.29588432, -0.42527999],\n",
              "       [ 1.72763912, -0.86835257, -0.82097758, -1.09974201,  0.08672983]])"
            ]
          },
          "metadata": {},
          "execution_count": 31
        }
      ]
    },
    {
      "cell_type": "markdown",
      "source": [
        "### `randint`\n",
        "```\n",
        "numpy.random.randint(low, high=None, size=None)\n",
        "```\n",
        "만약 `high`를 입력하지 않으면 0과 `low`사이의 숫자, `high`를 입력하면 `low`와 `high`는 사이의 숫자를 출력. `size`는 난수의 숫자"
      ],
      "metadata": {
        "id": "FDtGkcnjLzTM"
      }
    },
    {
      "cell_type": "code",
      "source": [
        "np.random.randint(10, size=10)"
      ],
      "metadata": {
        "colab": {
          "base_uri": "https://localhost:8080/"
        },
        "id": "H5eTlhBGLy_D",
        "outputId": "4a1c7cab-eb40-40ba-c37b-1daac78f3c9b"
      },
      "execution_count": 33,
      "outputs": [
        {
          "output_type": "execute_result",
          "data": {
            "text/plain": [
              "array([5, 7, 8, 8, 9, 2, 8, 6, 6, 9])"
            ]
          },
          "metadata": {},
          "execution_count": 33
        }
      ]
    },
    {
      "cell_type": "code",
      "source": [
        "np.random.randint(20, size=10)"
      ],
      "metadata": {
        "colab": {
          "base_uri": "https://localhost:8080/"
        },
        "id": "xlpHLyNALuyj",
        "outputId": "d4dfaa7d-14ba-4f68-a0dd-76e0fceda2ab"
      },
      "execution_count": 50,
      "outputs": [
        {
          "output_type": "execute_result",
          "data": {
            "text/plain": [
              "array([ 5, 17,  4,  0, 17, 17,  8,  9,  4,  9])"
            ]
          },
          "metadata": {},
          "execution_count": 50
        }
      ]
    },
    {
      "cell_type": "code",
      "source": [
        "np.random.randint(20, size=(3,5))"
      ],
      "metadata": {
        "colab": {
          "base_uri": "https://localhost:8080/"
        },
        "id": "RwOU04I2ME1f",
        "outputId": "5f3ad20d-31ee-4595-f7f9-f34e555fc98f"
      },
      "execution_count": 52,
      "outputs": [
        {
          "output_type": "execute_result",
          "data": {
            "text/plain": [
              "array([[16, 18,  5, 18,  7],\n",
              "       [17,  4, 13, 19, 15],\n",
              "       [19, 14, 18,  0,  4]])"
            ]
          },
          "metadata": {},
          "execution_count": 52
        }
      ]
    },
    {
      "cell_type": "markdown",
      "source": [
        "## 💡 연습문제 7\n",
        "1. 동전을 10번 던져 앞면(숫자 1)과 뒷면(숫자 0)이 나오는 가상 실험을 작성하라\n",
        "2. 주사위를 100번 던져서 나오는 숫자의 평균\n",
        "3. 가격이 10,000원인 주식이 있다. 이 주식의 일간 수익률(%)은 기댓값이 0%이고 표준편차가 1%인 표준 정규 분포를 따른다고 하자. 250일 동안의 주가를 무작위로 생성하라"
      ],
      "metadata": {
        "id": "dCofCh17MOVI"
      }
    },
    {
      "cell_type": "code",
      "source": [
        "# 1.\n",
        "np.random.choice([0,1], size=10, replace=True)"
      ],
      "metadata": {
        "colab": {
          "base_uri": "https://localhost:8080/"
        },
        "id": "wSVBjqWJMGJ3",
        "outputId": "91c387da-26ac-43ed-8507-7d90fdfe74d1"
      },
      "execution_count": 35,
      "outputs": [
        {
          "output_type": "execute_result",
          "data": {
            "text/plain": [
              "array([1, 1, 0, 0, 0, 1, 0, 1, 0, 1])"
            ]
          },
          "metadata": {},
          "execution_count": 35
        }
      ]
    },
    {
      "cell_type": "code",
      "source": [
        "# 2.\n",
        "np.random.randint(1,7, 100).mean()\n",
        "np.random.choice(range(1,7), 100, replace=True).mean() "
      ],
      "metadata": {
        "colab": {
          "base_uri": "https://localhost:8080/"
        },
        "id": "rpstIcwsNB-3",
        "outputId": "060f132c-cb8d-4989-c669-4151a0098189"
      },
      "execution_count": 38,
      "outputs": [
        {
          "output_type": "execute_result",
          "data": {
            "text/plain": [
              "3.61"
            ]
          },
          "metadata": {},
          "execution_count": 38
        }
      ]
    },
    {
      "cell_type": "code",
      "source": [
        "# 3.\n",
        "a = np.random.randn(250) / 100 # 일간 수익률의 표준정규분포를 따르는 0.1% 수익률 분포"
      ],
      "metadata": {
        "id": "zrCTnmQBNjbm"
      },
      "execution_count": 40,
      "outputs": []
    },
    {
      "cell_type": "code",
      "source": [
        "init = 10000\n",
        "stock = np.empty(250)\n",
        "for i, v in enumerate(a):\n",
        "    init *= (1 + v)\n",
        "    stock[i] = init\n",
        "stock"
      ],
      "metadata": {
        "colab": {
          "base_uri": "https://localhost:8080/"
        },
        "id": "sFmQQlUKijAj",
        "outputId": "cc7d5c33-6667-4f20-b53c-d2e46f43748d"
      },
      "execution_count": 42,
      "outputs": [
        {
          "output_type": "execute_result",
          "data": {
            "text/plain": [
              "array([10168.99274935, 10125.61199242, 10105.67193704,  9916.89193797,\n",
              "        9787.2489999 ,  9744.13036479,  9646.80352126,  9545.65086433,\n",
              "        9600.24159666,  9614.66779334,  9690.47693612,  9894.15909867,\n",
              "        9829.73061635,  9862.89228131,  9702.66151367,  9674.6627255 ,\n",
              "        9640.3486293 ,  9550.7350796 ,  9553.83506212,  9523.5986357 ,\n",
              "        9625.12570014,  9669.7726954 ,  9529.63150761,  9590.09357505,\n",
              "        9727.89628367,  9610.05054054,  9637.93270868,  9483.3210286 ,\n",
              "        9579.58224948,  9624.57392527,  9665.25184278,  9502.07988974,\n",
              "        9341.0385784 ,  9353.1434156 ,  9376.96163557,  9370.03383443,\n",
              "        9326.36875892,  9501.72060567,  9595.23949294,  9732.11953633,\n",
              "        9619.9231134 ,  9759.94762332,  9797.10420311,  9776.97343854,\n",
              "        9860.96884237,  9755.05393308,  9827.31742973,  9977.40970628,\n",
              "        9999.10276047, 10084.78779678, 10181.02421316, 10038.77943795,\n",
              "       10030.93710017, 10048.27819769,  9904.07517539,  9944.71606873,\n",
              "        9939.37352265,  9891.51740943,  9868.987193  ,  9799.58972528,\n",
              "        9876.4359895 ,  9867.2184698 ,  9821.36694382,  9803.47035055,\n",
              "        9902.69853421,  9932.69837197,  9917.77308884,  9972.33309305,\n",
              "       10106.91279514,  9995.02262768, 10064.83405945, 10085.7992732 ,\n",
              "       10132.28708368, 10208.75484647, 10373.28475085, 10139.89166693,\n",
              "       10331.12842169, 10504.41829806, 10618.99175388, 10776.55456046,\n",
              "       10655.8831661 , 10565.66960969, 10556.37495736, 10541.31075721,\n",
              "       10531.72280475, 10635.77888594, 10467.7774846 , 10612.99195799,\n",
              "       10526.84288812, 10436.65380247, 10481.46391278, 10395.15245633,\n",
              "       10262.12125608, 10282.1663625 , 10201.27233632, 10121.53819944,\n",
              "       10171.01473688, 10299.52243184, 10209.12477642, 10301.43019754,\n",
              "       10344.34457375, 10300.11889632, 10305.18917613, 10473.59803287,\n",
              "       10485.09612232, 10480.26385685, 10428.10471445, 10481.78716045,\n",
              "       10585.73191277, 10824.333676  , 10950.47658614, 10969.34272299,\n",
              "       11069.14495156, 11257.6313045 , 11183.78646708, 11207.3153271 ,\n",
              "       11200.19599684, 11078.67723199, 11081.9470459 , 10932.53756591,\n",
              "       11001.22599221, 11160.18735748, 11269.11385178, 11262.69790262,\n",
              "       11153.18118861, 10983.19929223, 11041.35302135, 11101.11974285,\n",
              "       10970.79247558, 10895.36082229, 11034.00214479, 11109.79236939,\n",
              "       11292.23684372, 11230.83113369, 11294.72311792, 11220.55627555,\n",
              "       11314.04600471, 11051.88492887, 11094.99384432, 11182.12701224,\n",
              "       11059.40790215, 11082.88651715, 11091.47295873, 11043.357528  ,\n",
              "       11028.91363567, 11024.92006638, 10798.86501239, 10878.82733373,\n",
              "       10870.02631083, 10786.55259414, 10902.18685053, 10938.76876083,\n",
              "       11011.07417523, 10823.70875436, 10795.02669704, 10652.23525886,\n",
              "       10687.11877545, 10695.07045858, 10699.46391819, 10834.23834614,\n",
              "       10930.84363605, 10986.11185139, 10911.03093128, 10815.39672007,\n",
              "       10814.78947211, 10973.39510214, 10893.75090981, 10704.98208879,\n",
              "       10779.91260478, 10783.36263828, 10806.14662015, 10815.59023461,\n",
              "       10885.94832448, 10818.59423138, 10828.23844225, 10854.67543745,\n",
              "       10762.98808773, 10665.84392243, 10752.95951718, 10827.36661405,\n",
              "       10691.45279937, 10825.28016787, 10729.82850985, 10889.70237201,\n",
              "       10943.18163232, 10953.05609084, 10947.37392184, 11070.81518307,\n",
              "       11075.24741909, 10938.58062848, 10858.70199792, 10589.72137158,\n",
              "       10598.86076405, 10734.72959378, 10684.23433886, 10574.94485039,\n",
              "       10698.03747159, 10641.61473279, 10832.03325402, 10899.09719037,\n",
              "       10779.36601627, 10842.70857815, 10998.13643266, 10884.01095634,\n",
              "       10882.71488294, 10877.89565854, 11041.01166998, 11039.88933297,\n",
              "       11099.20702912, 11079.15724024, 11040.23349654, 11008.9433729 ,\n",
              "       11084.62072877, 11078.50078486, 11129.95632879, 11265.6757008 ,\n",
              "       11202.6448174 , 11113.05125698, 11106.16600888, 11159.32192049,\n",
              "       11219.78932058, 11188.8003496 , 11189.74531384, 11236.51103609,\n",
              "       11155.95509163, 11340.17035087, 11425.22005858, 11578.345112  ,\n",
              "       11411.5468351 , 11186.22228035, 11019.22266959, 10970.71678368,\n",
              "       10961.94805795, 10848.81146712, 10930.01968246, 11208.70146477,\n",
              "       11142.77413107, 11211.03569863, 11189.71382167, 11441.39761388,\n",
              "       11600.40385548, 11541.10240856, 11500.96152332, 11525.93957116,\n",
              "       11351.96174905, 11386.13902087, 11428.93348122, 11351.05945596,\n",
              "       11432.86467644, 11626.21619816])"
            ]
          },
          "metadata": {},
          "execution_count": 42
        }
      ]
    },
    {
      "cell_type": "code",
      "source": [],
      "metadata": {
        "colab": {
          "base_uri": "https://localhost:8080/"
        },
        "id": "C7CgIfRJN7lQ",
        "outputId": "631f257c-b481-4dd8-e915-d4f28501b7fa"
      },
      "execution_count": null,
      "outputs": [
        {
          "output_type": "execute_result",
          "data": {
            "text/plain": [
              "array([ 9968.24569061,  9805.52172515,  9798.93887103,  9944.87995133,\n",
              "        9996.72298327, 10057.89564959,  9922.96930879,  9970.29178757,\n",
              "        9985.09264399, 10037.91830117, 10080.34141693,  9943.27087728,\n",
              "        9939.15428244,  9863.82832836,  9858.88811928,  9770.41436592,\n",
              "        9898.64815922,  9813.6215047 ,  9725.40272392,  9732.65655233,\n",
              "        9627.82619918,  9586.94035449,  9507.37214356,  9641.53752326,\n",
              "        9717.30109408,  9711.71660794,  9673.72271651,  9764.74447753,\n",
              "        9804.31162059,  9853.14223038,  9850.56147198,  9684.2613353 ,\n",
              "        9673.36983564,  9621.86011642,  9683.9264325 ,  9781.91250933,\n",
              "        9717.55231377,  9763.06789394,  9932.54293905,  9866.22208637,\n",
              "       10032.16422056,  9946.63140825,  9948.91513051,  9947.80626305,\n",
              "        9948.95015133,  9865.60998051,  9807.28616123,  9741.80092199,\n",
              "        9773.65296712,  9805.90945388, 10024.18353955, 10161.61399384,\n",
              "       10109.8056916 , 10142.64937851, 10243.78355919, 10246.91834384,\n",
              "       10239.78222817, 10245.06338999, 10333.91643038, 10246.25169649,\n",
              "       10212.88278302, 10260.92756867, 10292.8849271 , 10317.54490488,\n",
              "       10279.39050348, 10379.36125504, 10600.84314912, 10643.92661814,\n",
              "       10623.36503178, 10703.65008136, 10645.94321045, 10566.1316021 ,\n",
              "       10569.59821755, 10296.60699067, 10177.78925686, 10142.37443247,\n",
              "       10005.10866694,  9901.79160246,  9858.54569226,  9696.57320809,\n",
              "        9657.19815908,  9605.50605861,  9607.94635744,  9718.83973996,\n",
              "        9735.60516774,  9737.65568298,  9747.34021556,  9769.50496298,\n",
              "        9670.17463024,  9659.07565591,  9688.89817194,  9556.08663305,\n",
              "        9638.8091763 ,  9743.04094874,  9681.52572764,  9658.16054727,\n",
              "        9573.34351405,  9640.29761022,  9537.9926234 ,  9516.77278258,\n",
              "        9435.03132657,  9439.83887857,  9270.46652622,  9393.43570876,\n",
              "        9302.82602446,  9308.39792263,  9288.61543195,  9217.82554578,\n",
              "        9135.99152156,  9221.5408131 ,  9173.06865128,  9197.94327848,\n",
              "        9124.22204958,  9065.17177868,  9107.98179405,  9192.72323049,\n",
              "        9176.60687885,  9046.12288209,  9226.8604442 ,  9147.82783489,\n",
              "        9006.80607364,  9240.48086499,  9203.14633819,  9068.62093982,\n",
              "        9006.64237801,  9039.74583238,  9056.94951347,  8979.80883009,\n",
              "        9143.48592488,  9095.79536043,  8988.03869251,  9074.38618688,\n",
              "        9194.99048224,  9119.82206972,  8992.02169002,  9084.67892253,\n",
              "        8898.68614577,  8789.53293411,  8874.56693209,  8869.65463316,\n",
              "        8846.2443019 ,  8877.45532084,  8863.89283965,  8748.77864028,\n",
              "        8860.41964758,  8977.82145306,  8996.25584402,  9000.31621552,\n",
              "        9210.88984632,  9185.42792146,  9161.5846649 ,  9194.97692313,\n",
              "        9330.26463747,  9478.87436392,  9454.36458902,  9483.51534916,\n",
              "        9352.82459204,  9323.64601389,  9245.30031193,  9152.21569279,\n",
              "        9306.11722091,  9232.38609543,  9183.3061855 ,  9216.90319987,\n",
              "        9336.52249843,  9381.44192045,  9640.30921785,  9633.11099386,\n",
              "        9658.03343571,  9684.65104095,  9823.63056633,  9873.45984697,\n",
              "        9861.98395417,  9768.54278098,  9792.42134455,  9929.64693492,\n",
              "        9888.89747172,  9941.20416383,  9965.67421805, 10051.72977401,\n",
              "        9970.83810266, 10204.81847891, 10074.28240989, 10037.45576073,\n",
              "       10131.61638452, 10161.68025124, 10246.02079085, 10195.19004257,\n",
              "       10187.56353242, 10188.80967353, 10348.69854894, 10420.14896737,\n",
              "       10503.16338784, 10434.06033537, 10535.15413445, 10558.91951041,\n",
              "       10705.59824618, 10921.2154348 , 10887.71288352, 10843.47576524,\n",
              "       10749.78325603, 10734.34876972, 10693.34082564, 10731.78385637,\n",
              "       10716.26925805, 10677.51930548, 10791.19058892, 10689.98214568,\n",
              "       10736.28130854, 10692.69826276, 10770.1528013 , 10919.34758658,\n",
              "       10886.25123476, 10934.26318507, 10953.81286756, 10866.2456339 ,\n",
              "       10892.41019616, 10923.90238756, 10969.00399297, 10947.24161006,\n",
              "       10957.55306875, 10831.80299044, 10793.01277931, 10853.01790238,\n",
              "       10949.87825314, 10903.63529406, 10915.05292993, 10939.94507107,\n",
              "       10961.98686657, 11021.26639597, 10820.89121704, 10815.55391307,\n",
              "       10841.40672108, 10732.95683939, 10912.62500283, 10930.25535982,\n",
              "       11101.13949076, 11013.3824274 , 10913.45799525, 10937.93166719,\n",
              "       10754.31788116, 10777.43596411, 10787.91370458, 10897.48279868,\n",
              "       10973.87865825, 10928.06520044, 10808.13005044, 10993.19822562,\n",
              "       10906.11945123, 10792.09329415])"
            ]
          },
          "metadata": {},
          "execution_count": 340
        }
      ]
    },
    {
      "cell_type": "markdown",
      "source": [
        "## 정수 데이터 카운팅\n",
        "* 만약 난수가 정수값이면 unique 명령이나 bincount 명령으로 데이터 값을 분석"
      ],
      "metadata": {
        "id": "zc2junJdO2d8"
      }
    },
    {
      "cell_type": "markdown",
      "source": [
        "### `unique`\n",
        "* unique 함수는 데이터에서 중복된 값을 제거하고 중복되지 않는 값의 리스트를 출력\n",
        "* return_counts 인수를 True 로 설정하면 각 값을 가진 데이터 갯수도 출력\n"
      ],
      "metadata": {
        "id": "NQWG8zU8PJtG"
      }
    },
    {
      "cell_type": "code",
      "source": [
        "np.unique([11, 11, 2, 2, 34, 34])"
      ],
      "metadata": {
        "colab": {
          "base_uri": "https://localhost:8080/"
        },
        "id": "Zy46ohsVPDJv",
        "outputId": "66fe044f-3cc0-4933-c28f-c4a28264f619"
      },
      "execution_count": 43,
      "outputs": [
        {
          "output_type": "execute_result",
          "data": {
            "text/plain": [
              "array([ 2, 11, 34])"
            ]
          },
          "metadata": {},
          "execution_count": 43
        }
      ]
    },
    {
      "cell_type": "code",
      "source": [
        "a = np.array(['a', 'b', 'b', 'c', 'a'])\n",
        "index, count = np.unique(a, return_counts=True)"
      ],
      "metadata": {
        "id": "9l5BuLbwPPQF"
      },
      "execution_count": 45,
      "outputs": []
    },
    {
      "cell_type": "code",
      "source": [
        "index"
      ],
      "metadata": {
        "colab": {
          "base_uri": "https://localhost:8080/"
        },
        "id": "kMLRdBasPQ4L",
        "outputId": "b65c0bfa-67cf-40a0-85c1-fa3d34a0171a"
      },
      "execution_count": 46,
      "outputs": [
        {
          "output_type": "execute_result",
          "data": {
            "text/plain": [
              "array(['a', 'b', 'c'], dtype='<U1')"
            ]
          },
          "metadata": {},
          "execution_count": 46
        }
      ]
    },
    {
      "cell_type": "code",
      "source": [
        "count"
      ],
      "metadata": {
        "colab": {
          "base_uri": "https://localhost:8080/"
        },
        "id": "Kpx6OGmoPRi1",
        "outputId": "821b61ab-be56-482b-a01f-4e0194f63d38"
      },
      "execution_count": 47,
      "outputs": [
        {
          "output_type": "execute_result",
          "data": {
            "text/plain": [
              "array([2, 2, 1])"
            ]
          },
          "metadata": {},
          "execution_count": 47
        }
      ]
    },
    {
      "cell_type": "code",
      "source": [
        "dict(zip(*np.unique(a, return_counts=True))) # 복습할 때 설명"
      ],
      "metadata": {
        "colab": {
          "base_uri": "https://localhost:8080/"
        },
        "id": "2n06O9ZUjzuK",
        "outputId": "a4256050-267e-4d83-c2de-518857c8b438"
      },
      "execution_count": 48,
      "outputs": [
        {
          "output_type": "execute_result",
          "data": {
            "text/plain": [
              "{'a': 2, 'b': 2, 'c': 1}"
            ]
          },
          "metadata": {},
          "execution_count": 48
        }
      ]
    },
    {
      "cell_type": "markdown",
      "source": [
        "### `bincount`\n",
        "* `unique` 함수는 데이터에 존재하는 값에 대해서만 갯수를 세므로 데이터 값이 나올 수 있음에도 불구하고 데이터가 하나도 없는 경우에는 정보를 주지 않음\n",
        "* 따라서 데이터가 주사위를 던졌을 때 나오는 수처럼 특정 범위안의 수인 경우에는 `bincount` 함수에 `minlength` 인수를 설정하여 쓰는 것이 더 편리\n",
        "* `bincount` 함수는 0 부터 `minlength` - 1 까지의 숫자에 대해 각각 카운트\n",
        "* 데이터가 없을 경우에는 카운트 값이 0이 됨"
      ],
      "metadata": {
        "id": "GihAHqezPWii"
      }
    },
    {
      "cell_type": "code",
      "source": [
        "np.bincount([1, 1, 2, 2, 3], minlength=6)"
      ],
      "metadata": {
        "colab": {
          "base_uri": "https://localhost:8080/"
        },
        "id": "SWLVdyPEPmqk",
        "outputId": "b426fad3-dbdc-4a1e-ac61-7eb5b4b482ab"
      },
      "execution_count": 49,
      "outputs": [
        {
          "output_type": "execute_result",
          "data": {
            "text/plain": [
              "array([0, 2, 2, 1, 0, 0])"
            ]
          },
          "metadata": {},
          "execution_count": 49
        }
      ]
    }
  ]
}