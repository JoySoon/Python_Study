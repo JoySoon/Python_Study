{
  "nbformat": 4,
  "nbformat_minor": 0,
  "metadata": {
    "colab": {
      "provenance": [],
      "include_colab_link": true
    },
    "kernelspec": {
      "name": "python3",
      "display_name": "Python 3"
    },
    "language_info": {
      "name": "python"
    }
  },
  "cells": [
    {
      "cell_type": "markdown",
      "metadata": {
        "id": "view-in-github",
        "colab_type": "text"
      },
      "source": [
        "<a href=\"https://colab.research.google.com/github/JoySoon/Python_Study/blob/main/2023/%EC%88%98%EC%97%85%ED%95%84%EA%B8%B0/%EB%B3%B5%EC%8A%B5/ch06_01_%EB%B3%B5%EC%8A%B5.ipynb\" target=\"_parent\"><img src=\"https://colab.research.google.com/assets/colab-badge.svg\" alt=\"Open In Colab\"/></a>"
      ]
    },
    {
      "cell_type": "code",
      "execution_count": null,
      "metadata": {
        "id": "GVMHsNYTN5Na"
      },
      "outputs": [],
      "source": [
        "import pandas as pd\n",
        "import numpy as np"
      ]
    },
    {
      "cell_type": "code",
      "source": [
        "!pip install finance-datareader -q"
      ],
      "metadata": {
        "id": "R6mo0zJTUJsb"
      },
      "execution_count": null,
      "outputs": []
    },
    {
      "cell_type": "code",
      "source": [
        "import FinanceDataReader as fdr"
      ],
      "metadata": {
        "id": "DlPKC_oNUaPQ"
      },
      "execution_count": null,
      "outputs": []
    },
    {
      "cell_type": "code",
      "source": [
        "etf_list = fdr.StockListing(\"ETF/KR\")\n",
        "etf_list"
      ],
      "metadata": {
        "colab": {
          "base_uri": "https://localhost:8080/",
          "height": 423
        },
        "id": "JvECufmcUkXR",
        "outputId": "c337c13c-0e00-4933-e178-d9006488fe0e"
      },
      "execution_count": null,
      "outputs": [
        {
          "output_type": "execute_result",
          "data": {
            "text/plain": [
              "     Symbol                   Name\n",
              "0    069500              KODEX 200\n",
              "1    357870    TIGER CD금리투자KIS(합성)\n",
              "2    423160    KODEX KOFR금리액티브(합성)\n",
              "3    371460  TIGER 차이나전기차SOLACTIVE\n",
              "4    252670       KODEX 200선물인버스2X\n",
              "..      ...                    ...\n",
              "673  376250       ARIRANG 탄소효율그린뉴딜\n",
              "674  433870     ARIRANG TDF2050액티브\n",
              "675  315480    KBSTAR 200커뮤니케이션서비스\n",
              "676  287330        KBSTAR 200생활소비재\n",
              "677  287320          KBSTAR 200산업재\n",
              "\n",
              "[678 rows x 2 columns]"
            ],
            "text/html": [
              "\n",
              "  <div id=\"df-3f9d5c7b-565d-4964-a4d8-9f626b27ad74\">\n",
              "    <div class=\"colab-df-container\">\n",
              "      <div>\n",
              "<style scoped>\n",
              "    .dataframe tbody tr th:only-of-type {\n",
              "        vertical-align: middle;\n",
              "    }\n",
              "\n",
              "    .dataframe tbody tr th {\n",
              "        vertical-align: top;\n",
              "    }\n",
              "\n",
              "    .dataframe thead th {\n",
              "        text-align: right;\n",
              "    }\n",
              "</style>\n",
              "<table border=\"1\" class=\"dataframe\">\n",
              "  <thead>\n",
              "    <tr style=\"text-align: right;\">\n",
              "      <th></th>\n",
              "      <th>Symbol</th>\n",
              "      <th>Name</th>\n",
              "    </tr>\n",
              "  </thead>\n",
              "  <tbody>\n",
              "    <tr>\n",
              "      <th>0</th>\n",
              "      <td>069500</td>\n",
              "      <td>KODEX 200</td>\n",
              "    </tr>\n",
              "    <tr>\n",
              "      <th>1</th>\n",
              "      <td>357870</td>\n",
              "      <td>TIGER CD금리투자KIS(합성)</td>\n",
              "    </tr>\n",
              "    <tr>\n",
              "      <th>2</th>\n",
              "      <td>423160</td>\n",
              "      <td>KODEX KOFR금리액티브(합성)</td>\n",
              "    </tr>\n",
              "    <tr>\n",
              "      <th>3</th>\n",
              "      <td>371460</td>\n",
              "      <td>TIGER 차이나전기차SOLACTIVE</td>\n",
              "    </tr>\n",
              "    <tr>\n",
              "      <th>4</th>\n",
              "      <td>252670</td>\n",
              "      <td>KODEX 200선물인버스2X</td>\n",
              "    </tr>\n",
              "    <tr>\n",
              "      <th>...</th>\n",
              "      <td>...</td>\n",
              "      <td>...</td>\n",
              "    </tr>\n",
              "    <tr>\n",
              "      <th>673</th>\n",
              "      <td>376250</td>\n",
              "      <td>ARIRANG 탄소효율그린뉴딜</td>\n",
              "    </tr>\n",
              "    <tr>\n",
              "      <th>674</th>\n",
              "      <td>433870</td>\n",
              "      <td>ARIRANG TDF2050액티브</td>\n",
              "    </tr>\n",
              "    <tr>\n",
              "      <th>675</th>\n",
              "      <td>315480</td>\n",
              "      <td>KBSTAR 200커뮤니케이션서비스</td>\n",
              "    </tr>\n",
              "    <tr>\n",
              "      <th>676</th>\n",
              "      <td>287330</td>\n",
              "      <td>KBSTAR 200생활소비재</td>\n",
              "    </tr>\n",
              "    <tr>\n",
              "      <th>677</th>\n",
              "      <td>287320</td>\n",
              "      <td>KBSTAR 200산업재</td>\n",
              "    </tr>\n",
              "  </tbody>\n",
              "</table>\n",
              "<p>678 rows × 2 columns</p>\n",
              "</div>\n",
              "      <button class=\"colab-df-convert\" onclick=\"convertToInteractive('df-3f9d5c7b-565d-4964-a4d8-9f626b27ad74')\"\n",
              "              title=\"Convert this dataframe to an interactive table.\"\n",
              "              style=\"display:none;\">\n",
              "        \n",
              "  <svg xmlns=\"http://www.w3.org/2000/svg\" height=\"24px\"viewBox=\"0 0 24 24\"\n",
              "       width=\"24px\">\n",
              "    <path d=\"M0 0h24v24H0V0z\" fill=\"none\"/>\n",
              "    <path d=\"M18.56 5.44l.94 2.06.94-2.06 2.06-.94-2.06-.94-.94-2.06-.94 2.06-2.06.94zm-11 1L8.5 8.5l.94-2.06 2.06-.94-2.06-.94L8.5 2.5l-.94 2.06-2.06.94zm10 10l.94 2.06.94-2.06 2.06-.94-2.06-.94-.94-2.06-.94 2.06-2.06.94z\"/><path d=\"M17.41 7.96l-1.37-1.37c-.4-.4-.92-.59-1.43-.59-.52 0-1.04.2-1.43.59L10.3 9.45l-7.72 7.72c-.78.78-.78 2.05 0 2.83L4 21.41c.39.39.9.59 1.41.59.51 0 1.02-.2 1.41-.59l7.78-7.78 2.81-2.81c.8-.78.8-2.07 0-2.86zM5.41 20L4 18.59l7.72-7.72 1.47 1.35L5.41 20z\"/>\n",
              "  </svg>\n",
              "      </button>\n",
              "      \n",
              "  <style>\n",
              "    .colab-df-container {\n",
              "      display:flex;\n",
              "      flex-wrap:wrap;\n",
              "      gap: 12px;\n",
              "    }\n",
              "\n",
              "    .colab-df-convert {\n",
              "      background-color: #E8F0FE;\n",
              "      border: none;\n",
              "      border-radius: 50%;\n",
              "      cursor: pointer;\n",
              "      display: none;\n",
              "      fill: #1967D2;\n",
              "      height: 32px;\n",
              "      padding: 0 0 0 0;\n",
              "      width: 32px;\n",
              "    }\n",
              "\n",
              "    .colab-df-convert:hover {\n",
              "      background-color: #E2EBFA;\n",
              "      box-shadow: 0px 1px 2px rgba(60, 64, 67, 0.3), 0px 1px 3px 1px rgba(60, 64, 67, 0.15);\n",
              "      fill: #174EA6;\n",
              "    }\n",
              "\n",
              "    [theme=dark] .colab-df-convert {\n",
              "      background-color: #3B4455;\n",
              "      fill: #D2E3FC;\n",
              "    }\n",
              "\n",
              "    [theme=dark] .colab-df-convert:hover {\n",
              "      background-color: #434B5C;\n",
              "      box-shadow: 0px 1px 3px 1px rgba(0, 0, 0, 0.15);\n",
              "      filter: drop-shadow(0px 1px 2px rgba(0, 0, 0, 0.3));\n",
              "      fill: #FFFFFF;\n",
              "    }\n",
              "  </style>\n",
              "\n",
              "      <script>\n",
              "        const buttonEl =\n",
              "          document.querySelector('#df-3f9d5c7b-565d-4964-a4d8-9f626b27ad74 button.colab-df-convert');\n",
              "        buttonEl.style.display =\n",
              "          google.colab.kernel.accessAllowed ? 'block' : 'none';\n",
              "\n",
              "        async function convertToInteractive(key) {\n",
              "          const element = document.querySelector('#df-3f9d5c7b-565d-4964-a4d8-9f626b27ad74');\n",
              "          const dataTable =\n",
              "            await google.colab.kernel.invokeFunction('convertToInteractive',\n",
              "                                                     [key], {});\n",
              "          if (!dataTable) return;\n",
              "\n",
              "          const docLinkHtml = 'Like what you see? Visit the ' +\n",
              "            '<a target=\"_blank\" href=https://colab.research.google.com/notebooks/data_table.ipynb>data table notebook</a>'\n",
              "            + ' to learn more about interactive tables.';\n",
              "          element.innerHTML = '';\n",
              "          dataTable['output_type'] = 'display_data';\n",
              "          await google.colab.output.renderOutput(dataTable, element);\n",
              "          const docLink = document.createElement('div');\n",
              "          docLink.innerHTML = docLinkHtml;\n",
              "          element.appendChild(docLink);\n",
              "        }\n",
              "      </script>\n",
              "    </div>\n",
              "  </div>\n",
              "  "
            ]
          },
          "metadata": {},
          "execution_count": 6
        }
      ]
    },
    {
      "cell_type": "code",
      "source": [
        "s = etf_list.Name\n",
        "s"
      ],
      "metadata": {
        "colab": {
          "base_uri": "https://localhost:8080/"
        },
        "id": "Hw_gCIPNU5jK",
        "outputId": "ec37ee94-b68c-4d42-816a-5e3bc58b2776"
      },
      "execution_count": null,
      "outputs": [
        {
          "output_type": "execute_result",
          "data": {
            "text/plain": [
              "0                  KODEX 200\n",
              "1        TIGER CD금리투자KIS(합성)\n",
              "2        KODEX KOFR금리액티브(합성)\n",
              "3      TIGER 차이나전기차SOLACTIVE\n",
              "4           KODEX 200선물인버스2X\n",
              "               ...          \n",
              "673         ARIRANG 탄소효율그린뉴딜\n",
              "674       ARIRANG TDF2050액티브\n",
              "675      KBSTAR 200커뮤니케이션서비스\n",
              "676          KBSTAR 200생활소비재\n",
              "677            KBSTAR 200산업재\n",
              "Name: Name, Length: 678, dtype: object"
            ]
          },
          "metadata": {},
          "execution_count": 7
        }
      ]
    },
    {
      "cell_type": "code",
      "source": [
        "data = s.values\n",
        "data # 시리즈.values -> 배열\n",
        "# series -> data, list. array. tuple"
      ],
      "metadata": {
        "colab": {
          "base_uri": "https://localhost:8080/"
        },
        "id": "wjSpkgIvVUvX",
        "outputId": "0d6c1687-4c83-4d61-cfae-656640e09801"
      },
      "execution_count": null,
      "outputs": [
        {
          "output_type": "execute_result",
          "data": {
            "text/plain": [
              "array(['KODEX 200', 'TIGER CD금리투자KIS(합성)', 'KODEX KOFR금리액티브(합성)',\n",
              "       'TIGER 차이나전기차SOLACTIVE', 'KODEX 200선물인버스2X',\n",
              "       'KODEX 종합채권(AA-이상)액티브', 'TIGER 미국나스닥100', 'TIGER MSCI Korea TR',\n",
              "       'TIGER 200', 'KODEX 200TR', 'KODEX 레버리지', 'TIGER 미국S&P500',\n",
              "       'TIGER 미국필라델피아반도체나스닥', 'KODEX 23-12 은행채(AA+이상)액티브',\n",
              "       'TIGER 미국테크TOP10 INDXX', 'KODEX 단기채권PLUS', 'KODEX 삼성그룹',\n",
              "       'KBSTAR 200', 'TIGER 2차전지테마', 'TIGER 단기통안채',\n",
              "       'KBSTAR KIS종합채권(A-이상)액티브', 'TIGER TOP10', 'KODEX 2차전지산업',\n",
              "       'KODEX 인버스', 'KODEX Top5PlusTR', 'KODEX 코스닥150레버리지',\n",
              "       'TIGER 200 IT', 'KODEX 단기채권', 'KODEX 자동차', 'KODEX 코스닥150선물인버스',\n",
              "       'ARIRANG 200', 'KODEX MSCI Korea TR', 'TIGER KOFR금리액티브(합성)',\n",
              "       'KBSTAR 23-11 회사채(AA-이상)액티브', 'HANARO 200',\n",
              "       'ACE 종합채권(AA-이상)KIS액티브', 'ACE 미국S&P500',\n",
              "       'TIGER 글로벌리튬&2차전지SOLACTIVE(합성)', 'KBSTAR 단기통안채',\n",
              "       'KODEX 선진국MSCI World', 'TIGER 미국달러단기채권액티브',\n",
              "       'ARIRANG 종합채권(AA-이상)액티브', 'KODEX 코스닥150', 'KOSEF 200TR',\n",
              "       'KODEX 미국S&P500TR', 'TIGER 24-10 회사채(A+이상)액티브', 'TIGER 단기채권액티브',\n",
              "       'TIGER KRX2차전지K-뉴딜', 'ACE 미국나스닥100', 'ACE 200',\n",
              "       'TIGER 미국S&P500선물(H)', 'KODEX 미국나스닥100TR', 'KODEX 미국FANG플러스(H)',\n",
              "       'KODEX 단기변동금리부채권액티브', 'KOSEF 국고채10년', 'TIGER 차이나항셍테크',\n",
              "       'TIGER 일본니케이225', 'TIGER 글로벌자율주행&전기차SOLACTIVE', 'KOSEF 200',\n",
              "       'KODEX 코스피', 'KODEX 은행', 'KBSTAR Fn수소경제테마',\n",
              "       'KBSTAR KIS단기종합채권(AA-이상)액티브', 'TIGER 차이나CSI300',\n",
              "       'SOL 종합채권(AA-이상)액티브', 'KBSTAR 코스피', 'KBSTAR 미국나스닥100',\n",
              "       'TIGER 리츠부동산인프라', 'TIGER 코스피', 'KODEX 국고채3년', 'KODEX K-메타버스액티브',\n",
              "       'KODEX 반도체', 'KBSTAR ESG사회책임투자', 'ARIRANG 코스피TR', 'SOL 200TR',\n",
              "       'KBSTAR KIS국고채30년Enhanced', 'TIGER KRX BBIG K-뉴딜',\n",
              "       'KBSTAR 미국S&P500', 'ACE 단기통안채', 'KODEX 골드선물(H)', 'KBSTAR 200TR',\n",
              "       'TIGER 차이나과창판STAR50(합성)', 'TIGER Fn메타버스', 'TIGER 중장기국채',\n",
              "       'ACE 베트남VN30(합성)', 'ARIRANG 고배당주', 'ARIRANG 국고채30년액티브',\n",
              "       'KOSEF 단기자금', 'HANARO MSCI Korea TR', 'KODEX 미국나스닥100레버리지(합성 H)',\n",
              "       'KODEX 장기종합채권(AA-이상)액티브KAP', 'ACE 중국본토CSI300', 'TIGER 여행레저',\n",
              "       'KBSTAR IT플러스', 'KODEX 미국달러선물', 'KODEX TRF3070',\n",
              "       'TIGER 글로벌4차산업혁신기술(합성 H)', 'KBSTAR iSelect메타버스', 'HANARO 200TR',\n",
              "       'KODEX 23-12 국고채액티브', 'KODEX 미국나스닥100선물(H)', 'TIGER 투자등급회사채액티브',\n",
              "       'TIGER 글로벌메타버스액티브', 'ACE 23-12 회사채(AA-이상)액티브',\n",
              "       'KODEX 미국채울트라30년선물(H)', 'TIGER 200선물인버스2X', 'KBSTAR 국고채3년선물인버스',\n",
              "       'KODEX ESG종합채권(A-이상)액티브', 'KODEX 차이나항셍테크', 'KODEX 배당가치',\n",
              "       'TIGER 미국MSCI리츠(합성 H)', 'TIGER 23-12 국공채액티브', 'TIGER 헬스케어',\n",
              "       'TIGER 반도체', 'TIGER 중국소비테마', 'TIGER 현대차그룹+펀더멘털', 'KODEX 차이나CSI300',\n",
              "       'TIGER 종합채권(AA-이상)액티브', 'KODEX 삼성그룹밸류', 'KBSTAR 코스닥150',\n",
              "       'TIGER 코스닥150', 'TIGER 미디어컨텐츠', 'KTOP K200액티브', 'TIGER 미국채10년선물',\n",
              "       'KBSTAR 25-11 회사채(AA-이상)액티브', '히어로즈 단기채권ESG액티브',\n",
              "       'KODEX 미국S&P500선물(H)', 'KBSTAR 국채선물5년추종인버스', 'ACE 국고채10년',\n",
              "       'KBSTAR 코스닥150선물레버리지', 'ACE 24-12 회사채(AA-이상)액티브', 'KBSTAR Fn5G테크',\n",
              "       'TIGER 200 건설', 'KODEX 미국메타버스나스닥액티브', 'KBSTAR 미국단기투자등급회사채액티브',\n",
              "       'TIGER 미국다우존스30', 'KBSTAR 단기국공채액티브', 'KBSTAR 2차전지액티브',\n",
              "       'KODEX 국고채30년액티브', 'KODEX 은선물(H)', 'ACE G2전기차&자율주행액티브',\n",
              "       'SOL 미국배당다우존스', 'TIGER KRX바이오K-뉴딜', 'HANARO 200 TOP10',\n",
              "       'TIGER 200선물레버리지', 'KOSEF 인도Nifty50(합성)', 'ARIRANG 신흥국MSCI(합성 H)',\n",
              "       'KODEX WTI원유선물(H)', 'TIGER 소프트웨어', 'KBSTAR 고배당', 'KODEX 국채선물10년',\n",
              "       'KODEX 미국반도체MV', 'KODEX 미국종합채권SRI액티브(H)', 'ACE 미국WideMoat가치주',\n",
              "       'TIGER Fn반도체TOP10', 'KBSTAR 중국본토대형주CSI100', 'TIGER 경기방어',\n",
              "       'ACE 미국고배당S&P', 'KODEX 한국대만IT프리미어', 'KODEX 차이나2차전지MSCI(합성)',\n",
              "       'TIGER 차이나CSI300레버리지(합성)', '파워 200', 'HANARO e커머스',\n",
              "       'KODEX 차이나과창판STAR50(합성)', 'KODEX 차이나A50', 'TIGER 국채3년',\n",
              "       'KODEX K-신재생에너지액티브', 'TIGER 200 중공업', 'TIGER 화장품',\n",
              "       'KBSTAR 중기우량회사채', 'TIGER 차이나HSCEI', 'KBSTAR Fn컨택트대표',\n",
              "       'TIGER 미국S&P500레버리지(합성 H)', 'TIMEFOLIO Kstock액티브',\n",
              "       'ARIRANG 미국S&P500(H)', 'TIGER 차이나바이오테크SOLACTIVE', 'KBSTAR 금융채액티브',\n",
              "       'TIGER 미국필라델피아반도체레버리지(합성)', 'HANARO 글로벌럭셔리S&P(합성)',\n",
              "       'KODEX 차이나H레버리지(H)', 'TIGER KEDI혁신기업ESG30', 'TIGER 인버스',\n",
              "       'ACE KRX금현물', 'KODEX 건설', 'KODEX 코스피TR', 'TIGER 유로스탁스50(합성 H)',\n",
              "       'HANARO 32-10 국고채액티브', 'KODEX WTI원유선물인버스(H)',\n",
              "       'TIGER 미국S&P500TR(H)', 'KODEX 미국달러선물인버스2X', 'KBSTAR 대형고배당10TR',\n",
              "       'TIGER 코스닥150 레버리지', 'KOSEF 통안채1년', 'TIGER 미국S&P500배당귀족',\n",
              "       'KODEX Fn성장', 'ARIRANG ESG가치주액티브', 'KODEX 200미국채혼합', 'KODEX 차이나H',\n",
              "       'TIGER 글로벌BBIG액티브', 'KODEX 아시아달러채권SRI플러스액티브', 'ACE 단기채권알파액티브',\n",
              "       'HANARO Fn K-뉴딜디지털플러스', 'TIGER 글로벌클라우드컴퓨팅INDXX',\n",
              "       'KODEX 미국S&P500배당귀족커버드콜(합성 H)', 'KODEX 미국달러선물레버리지', 'KODEX 철강',\n",
              "       '에셋플러스 글로벌플랫폼액티브', 'SOL KIS단기통안채', 'SOL 미국S&P500',\n",
              "       'TIGER KRX인터넷K-뉴딜', 'TIGER 퓨처모빌리티액티브', 'TIGER 국고채30년스트립액티브',\n",
              "       'ACE 인도네시아MSCI(합성)', 'TIGER 테슬라채권혼합Fn', 'KODEX 바이오',\n",
              "       'KODEX 유럽탄소배출권선물ICE(H)', 'TIGER 레버리지', 'KODEX 증권',\n",
              "       'TIGER 미국나스닥바이오', 'KBSTAR 국채선물10년', 'KODEX 차이나심천ChiNext(합성)',\n",
              "       'ACE 삼성그룹섹터가중', 'TIGER 차이나클린에너지SOLACTIVE', 'KODEX 헬스케어',\n",
              "       'KOSEF 국고채3년', 'SOL 200 Top10', 'KBSTAR 게임테마', 'KODEX 미국배당프리미엄액티브',\n",
              "       'KOSEF 미국달러선물', 'KODEX IT', 'TIGER 미국나스닥100커버드콜(합성)',\n",
              "       'KODEX K-로봇액티브', 'TIGER 미국나스닥100TR(H)', 'TIGER 리츠부동산인프라채권TR KIS',\n",
              "       'KODEX 미국달러선물인버스', 'HANARO Fn전기&수소차', 'KOSEF 릭소글로벌퓨처모빌리티MSCI',\n",
              "       'KBSTAR 200선물인버스2X', 'SOL 국고채10년', 'KODEX 200ESG',\n",
              "       'ACE 글로벌반도체TOP4 Plus SOLACTIVE', 'TIGER 미국달러선물인버스2X',\n",
              "       'SOL 미국S&P500ESG', 'TIGER 원유선물Enhanced(H)', '대신343 K200',\n",
              "       'KBSTAR 중장기국공채액티브', 'TIGER 골드선물(H)', 'KODEX KRX기후변화솔루션',\n",
              "       'HANARO 200선물레버리지', 'KODEX K-미래차액티브', 'TIGER 삼성그룹펀더멘털',\n",
              "       'TIGER S&P글로벌헬스케어(합성)', 'TIGER 탄소효율그린뉴딜', 'ARIRANG 미국장기우량회사채',\n",
              "       'KODEX 200IT TR', 'KBSTAR 내수주플러스', 'KODEX KRX300',\n",
              "       'KODEX 미디어&엔터테인먼트', 'TIGER 200IT레버리지', 'TIGER 미국나스닥100레버리지(합성)',\n",
              "       'ACE 200TR', 'ACE 미국친환경그린테마INDXX', 'ACE 국고채3년',\n",
              "       'KODEX 아시아반도체공급망exChina액티브', 'TIGER KRX기후변화솔루션',\n",
              "       'SOL 글로벌탄소배출권선물IHS(합성)', 'TIGER 200 헬스케어', 'KODEX 고배당',\n",
              "       'TIGER AI코리아그로스액티브', 'TIGER Fn신재생에너지', 'ARIRANG 미국나스닥테크',\n",
              "       'KODEX 미국S&P500에너지(합성)', 'KBSTAR 국채선물10년인버스', 'TIGER 200TR',\n",
              "       'KODEX 탄소효율그린뉴딜', 'KODEX S&P글로벌인프라(합성)', 'TIGER 차이나CSI300인버스(합성)',\n",
              "       'ARIRANG 미국단기우량회사채', 'TIGER 구리실물', 'TIGER MKF배당귀족', 'KBSTAR 국고채3년',\n",
              "       'TIGER 인도니프티50레버리지(합성)', 'KODEX 미국채10년선물', 'ACE ESG액티브',\n",
              "       'HANARO 단기채권액티브', 'TIGER 농산물선물Enhanced(H)', 'KODEX 에너지화학',\n",
              "       'KODEX 미국러셀2000(H)', 'TIGER 코스피고배당', 'TIGER 글로벌멀티에셋TIF액티브',\n",
              "       'KBSTAR 비메모리반도체액티브', 'ARIRANG K방산Fn', 'KODEX 코스피대형주',\n",
              "       'WOORI 대한민국국고채액티브', 'KODEX TRF5050', 'ARIRANG 코스피50',\n",
              "       'TIGER 원유선물인버스(H)', 'KODEX TRF7030', 'KODEX 삼성전자채권혼합Wise',\n",
              "       'TIGER 차이나반도체FACTSET', 'KODEX 배당성장채권혼합', 'TIGER 일본엔선물',\n",
              "       'KBSTAR 글로벌4차산업IT(합성 H)', 'HANARO Fn K-POP&미디어', 'HANARO 코스닥150',\n",
              "       'TIGER KRX게임K-뉴딜', 'KBSTAR 미국S&P원유생산기업(합성 H)', 'ACE 아시아TOP50S&P',\n",
              "       'KODEX 글로벌4차산업로보틱스(합성)', 'TIGER 미국나스닥100TR채권혼합Fn', 'TIGER 우량가치',\n",
              "       'ACE 러시아MSCI(합성)', 'TIGER 코스닥150선물인버스', 'KBSTAR 200선물인버스',\n",
              "       'KODEX K-친환경선박액티브', 'TIGER 차이나항셍테크레버리지(합성 H)', 'KODEX 코스피100',\n",
              "       'KBSTAR 200선물레버리지', 'KODEX 보험', 'KODEX 배당성장',\n",
              "       'TIGER KRX2차전지K-뉴딜레버리지', '에셋플러스 코리아플랫폼액티브', 'TIGER 유로스탁스배당30',\n",
              "       'KOSEF 미국달러선물레버리지', 'ACE 코스닥150', 'KBSTAR 배터리 리사이클링iSelect',\n",
              "       'KODEX 미국나스닥100(H)', 'ACE 친환경자동차밸류체인액티브', 'KODEX 게임산업',\n",
              "       'KODEX 200롱코스닥150숏선물', 'ARIRANG 미국다우존스고배당주(합성 H)',\n",
              "       'ARIRANG ESG성장주액티브', '마이티 다이나믹퀀트액티브', 'KODEX 미국S&P500(H)',\n",
              "       'TIGER 200 에너지화학', 'TIGER MSCI KOREA ESG리더스', 'FOCUS KRX300',\n",
              "       'KODEX 기계장비', 'HANARO Fn K-게임', 'KODEX 다우존스미국리츠(H)',\n",
              "       'KBSTAR 차이나HSCEI(H)', 'TIGER 배당성장', 'TIGER 단기선진하이일드(합성 H)',\n",
              "       'TIMEFOLIO 이노베이션액티브', 'KODEX 필수소비재', 'KBSTAR 글로벌클린에너지S&P',\n",
              "       'KOSEF 미국달러선물인버스2X', 'KODEX Fn시스템반도체', 'KODEX 200가치저변동',\n",
              "       'SOL 국고채3년', 'TIGER 글로벌자원생산기업(합성 H)', 'KBSTAR 채권혼합',\n",
              "       'KODEX 코스닥150롱코스피200숏선물', 'TIGER 미국달러선물레버리지',\n",
              "       'KBSTAR V&S셀렉트밸류채권혼합', 'FOCUS ESG리더스', 'KBSTAR 글로벌메타버스Moorgate',\n",
              "       'ACE 미국다우존스리츠(합성 H)', 'TIGER K게임', 'KODEX 3대농산물선물(H)',\n",
              "       'TIGER 200 금융', 'HANARO 글로벌탄소배출권선물ICE(합성)',\n",
              "       'KODEX 미국나스닥100선물인버스(H)', 'KODEX TDF2050액티브',\n",
              "       'KODEX 미국S&P500산업재(합성)', 'KODEX 최소변동성', 'ARIRANG 선진국MSCI(합성 H)',\n",
              "       'KODEX 운송', 'ACE 일본Nikkei225(H)', 'KODEX 구리선물(H)',\n",
              "       'TIMEFOLIO 탄소중립액티브', 'KBSTAR 헬스케어채권혼합', 'TIGER 200 철강소재',\n",
              "       'ARIRANG 우주항공&UAM iSelect', 'KODEX 미국ETF산업Top10 Indxx',\n",
              "       'BNK 주주가치액티브', 'ARIRANG 200선물인버스2X', 'KBSTAR 중국MSCI China(H)',\n",
              "       'SOL 코스닥150', 'KOSEF 고배당', 'TIMEFOLIO Korea플러스배당액티브',\n",
              "       'VITA MZ소비액티브', 'KOSEF 코스닥150', 'ARIRANG 고배당주채권혼합',\n",
              "       'KODEX 200exTOP', 'TIGER LG그룹+펀더멘털', 'TIGER 200동일가중',\n",
              "       'KOSEF 국고채10년레버리지', 'ACE 글로벌메타버스테크액티브', 'KODEX 미국클린에너지나스닥',\n",
              "       'KODEX MSCI KOREA ESG유니버설', 'KODEX KRX300레버리지',\n",
              "       'ACE 일본TOPIX레버리지(H)', 'KOSEF 미국S&P500', 'ACE 골드선물 레버리지(합성 H)',\n",
              "       'KBSTAR 국채선물5년추종', 'ACE 멕시코MSCI(합성)', 'TIGER 일본TOPIX(합성 H)',\n",
              "       'KODEX Fn K-뉴딜디지털플러스', '에셋플러스 코리아대장장이액티브', 'FOCUS AI코리아액티브',\n",
              "       '파워 코스피100', 'SOL 유럽탄소배출권선물S&P(H)', 'ARIRANG S&P글로벌인프라',\n",
              "       'KBSTAR 미국고정배당우선증권ICE TR', 'TIGER 코스닥150바이오테크', 'SOL KRX300',\n",
              "       'KOSEF 물가채KIS', 'TIGER KRX300', 'KODEX KTOP30', 'ACE 엔비디아채권혼합블룸버그',\n",
              "       'KODEX 200동일가중', 'KODEX 혁신기술테마액티브', 'SOL 24-06 국고채액티브',\n",
              "       'TIGER 한중전기차(합성)', 'KTOP 코스피50', 'KODEX 일본TOPIX100',\n",
              "       'KOSEF 미국달러선물인버스', 'KBSTAR KRX300', 'ACE 원자력테마딥서치',\n",
              "       'SOL 차이나태양광CSI(합성)', '에셋플러스 글로벌대장장이액티브', 'KODEX 미국스마트모빌리티S&P',\n",
              "       'TIGER 글로벌사이버보안INDXX', 'KOSEF 블루칩', 'SOL 차이나육성산업액티브(합성)',\n",
              "       'KODEX TDF2030액티브', 'KOSEF 200선물인버스2X', '마이다스 KoreaStock액티브',\n",
              "       'HANARO 탄소효율그린뉴딜', 'KODEX 200 중소형', 'ARIRANG 200선물레버리지',\n",
              "       'ACE 글로벌브랜드TOP10블룸버그', 'TIGER 유로스탁스레버리지(합성 H)', 'KODEX MSCI Korea',\n",
              "       'ACE 미국달러단기채권액티브', 'KOSEF KRX100', 'TIGER 로우볼', 'KODEX Fn웹툰&드라마',\n",
              "       'ARIRANG 우량회사채50 1년', 'KODEX 미국S&P바이오(합성)', 'ARIRANG KRX300',\n",
              "       'ARIRANG 미국S&P500', 'TIGER 미국S&P500선물인버스(H)', 'KODEX 콩선물(H)',\n",
              "       'WOORI AI ESG액티브', 'ACE 미국IT인터넷S&P(합성 H)', 'TIGER 미국나스닥넥스트100',\n",
              "       'TIGER 한중반도체(합성)', 'KODEX 한중전기차(합성)', 'ACE 중장기국공채액티브',\n",
              "       'TREX 펀더멘탈 200', 'TIGER 은행', 'KOSEF Fn중소형', 'KODEX Fn Top10동일가중',\n",
              "       'ACE 싱가포르리츠', 'TIGER S&P글로벌인프라(합성)',\n",
              "       'KBSTAR 미국빅데이터Top3채권혼합iSelect', 'FOCUS 혁신기업액티브',\n",
              "       '에셋플러스 글로벌영에이지액티브', 'TIGER 우선주', 'KODEX Fn멀티팩터',\n",
              "       'KOSEF 미국S&P500(H)', 'KBSTAR KQ고배당', 'TREX 200',\n",
              "       'SOL 미국TOP5채권혼합40 Solactive', 'KBSTAR KRX300레버리지',\n",
              "       'ARIRANG 국채선물10년', 'HANARO 글로벌워터MSCI(합성)',\n",
              "       'KBSTAR 삼성그룹Top3채권혼합블룸버그', 'KBSTAR 글로벌수소경제Indxx', 'HANARO KRX300',\n",
              "       'HANARO KAP초장기국고채', 'ACE 삼성그룹동일가중', 'SOL 한국형글로벌반도체액티브',\n",
              "       'TIGER 이머징마켓MSCI레버리지(합성 H)', 'KOSEF 차이나A50커넥트레버리지MSCI(합성H)',\n",
              "       'ACE 미국S&P500채권혼합액티브', 'ACE 미국나스닥100채권혼합액티브', 'TIGER 200커버드콜ATM',\n",
              "       'HANARO Fn K-반도체', 'HANARO Fn K-메타버스MZ', 'KOSEF 미국방어배당성장나스닥',\n",
              "       'KOSEF 코스피100', 'KOSEF 독일DAX', '히어로즈 TDF2050액티브', 'TIGER 금은선물(H)',\n",
              "       'VITA 밸류알파액티브', 'ARIRANG Apple채권혼합Fn', 'ACE 레버리지', 'KODEX 밸류Plus',\n",
              "       'ACE 중국과창판STAR50', 'ACE 코스피', 'ACE 중국본토CSI300레버리지(합성)', 'ACE 밸류대형',\n",
              "       'KOSEF SK그룹대표주', 'KODEX MSCI밸류', 'ACE 스마트밸류', 'KODEX TDF2040액티브',\n",
              "       'ACE 미국30년국채선물레버리지(합성 H)', 'ARIRANG KS로우사이즈가중TR', 'TIGER KTOP30',\n",
              "       'KBSTAR 주식혼합', 'KODEX 한중반도체(합성)', '마이다스 200커버드콜5%OTM',\n",
              "       '마이다스 KoreaStock중소형액티브', 'KBSTAR 국채선물3년', 'UNICORN R&D 액티브',\n",
              "       'TIGER 의료기기', 'TIMEFOLIO 미국나스닥100액티브', '히어로즈 TDF2040액티브',\n",
              "       'ARIRANG KS밸류가중TR', 'SOL 한국형글로벌전기차&2차전지액티브', 'ACE 스마트퀄리티',\n",
              "       'KODEX TSE일본리츠(H)', 'HANARO Fn K-푸드', 'TIGER MSCI KOREA ESG유니버설',\n",
              "       '히어로즈 TDF2030액티브', 'TIMEFOLIO K컬처액티브', 'WOORI 200',\n",
              "       'TIMEFOLIO 미국S&P500액티브', 'KBSTAR KRX300미국달러선물혼합', 'TIGER 경기방어채권혼합',\n",
              "       'KODEX 모멘텀Plus', 'KODEX 미국채울트라30년선물인버스(H)', 'KOSEF 차이나A50커넥트MSCI',\n",
              "       'ACE 스마트로우볼', 'KOSEF 차이나A50커넥트인버스MSCI(합성 H)', 'KBSTAR 글로벌농업경제MV',\n",
              "       'KOSEF 200선물레버리지', 'ACE 베트남VN30선물블룸버그레버리지(H)', 'HANARO 미국S&P500',\n",
              "       'KODEX 경기소비재', 'KBSTAR 유로스탁스50(H)', 'ACE 스마트모멘텀', 'ACE 코스닥(합성)',\n",
              "       '파워 고배당저변동성', 'ARIRANG 고배당저변동50', '마이티 코스피100',\n",
              "       'ACE 미국스팩&IPO INDXX', 'HANARO 글로벌신재생에너지MSCI(합성)',\n",
              "       'KBSTAR V&S셀렉트밸류', 'HANARO Fn5G산업', 'TIGER 모멘텀',\n",
              "       'KBSTAR 미국장기국채선물(H)', 'KBSTAR 글로벌데이터센터리츠나스닥(합성)',\n",
              "       'HANARO Fn친환경에너지', 'KBSTAR 미국장기국채선물레버리지(합성 H)',\n",
              "       'TIGER 200커뮤니케이션서비스', 'ACE 일본TOPIX인버스(합성 H)', 'KODEX 국채선물3년인버스',\n",
              "       'TIGER 코스피중형주', 'KBSTAR 수출주', 'KBSTAR 5대그룹주', 'HANARO 농업융복합산업',\n",
              "       'ARIRANG 코스피', 'KBSTAR KRX기후변화솔루션', 'KBSTAR 차이나항셍테크',\n",
              "       'ARIRANG 심천차이넥스트(합성)', 'ARIRANG KS모멘텀가중TR', 'KODEX MSCI모멘텀',\n",
              "       'ACE Fn성장소비주도주', 'TIGER 코스닥150IT', 'HANARO Fn조선해운',\n",
              "       'ARIRANG 신흥국MSCI인버스(합성 H)', 'HANARO 고배당', '히어로즈 글로벌리츠이지스액티브',\n",
              "       'TIGER 차이나항셍25', 'ACE 스마트하이베타', 'ARIRANG KS로우볼가중TR',\n",
              "       'KOSEF 릭소글로벌디지털경제MSCI', 'ARIRANG K-유니콘투자기업액티브',\n",
              "       'ARIRANG 글로벌MSCI(합성 H)', 'SOL KEDI메가테크액티브', 'HANARO KRX기후변화솔루션',\n",
              "       'TIGER 200 산업재', 'KODEX 국채선물10년인버스', 'TIGER 200커버드콜5%OTM',\n",
              "       'TIGER 200 경기소비재', 'KBSTAR 200IT', 'KODEX 차이나메타버스액티브',\n",
              "       'ACE 싱가포르리츠채권혼합모닝스타', 'ARIRANG 단기채권액티브', 'MASTER 테크미디어텔레콤액티브',\n",
              "       'HANARO 원자력iSelect', 'KBSTAR 중소형고배당', 'ACE 국채선물10년인버스',\n",
              "       'KOSEF 코스닥150선물레버리지', 'KODEX K-이노베이션액티브', 'ACE 필리핀MSCI(합성)',\n",
              "       'HK S&P코리아로우볼', 'KBSTAR 200에너지화학', 'ACE 차세대가치주액티브',\n",
              "       'ACE 국채선물3년인버스', 'TIGER 라틴35', 'KBSTAR 200고배당커버드콜ATM',\n",
              "       'ARIRANG 스마트베타Quality채권혼합', 'SOL KRX기후변화솔루션', 'KBSTAR 헬스케어',\n",
              "       'KBSTAR 우량업종', 'HK 베스트일레븐액티브', 'SOL 한국형글로벌플랫폼&메타버스액티브',\n",
              "       'ARIRANG KS퀄리티가중TR', 'WOORI 미국S&P우주항공&디펜스', 'HANARO 200선물인버스',\n",
              "       'TIGER 200에너지화학레버리지', 'KOSEF 코스닥150선물인버스', 'KBSTAR TDF2030액티브',\n",
              "       'HANARO 글로벌백신치료제MSCI', 'KBSTAR TDF2040액티브', 'KBSTAR TDF2050액티브',\n",
              "       'KOSEF 미국ETF산업STOXX', 'ACE Fn5G플러스', 'TIGER 증권', 'WOORI 미국S&P500',\n",
              "       '히어로즈 리츠이지스액티브', 'TIGER 지주회사', 'ARIRANG 200동일가중', 'HANARO Fn골프테마',\n",
              "       'KODEX MSCI퀄리티', 'ARIRANG 코스닥150', 'KBSTAR Fn창업투자회사',\n",
              "       'KBSTAR 모멘텀로우볼', 'KOSEF 200선물인버스', 'ARIRANG K리츠Fn',\n",
              "       'SOL 차이나강소기업CSI500(합성 H)', 'KODEX 멀티에셋하이인컴(H)',\n",
              "       'KODEX MSCI EM선물(H)', 'MASTER 스마트커머스액티브', 'KBSTAR 모멘텀밸류',\n",
              "       'KBSTAR Fn K-뉴딜디지털플러스', 'ARIRANG 코스닥150선물인버스', 'ACE 차이나항셍테크',\n",
              "       'KBSTAR 200철강소재', 'HANARO 미국메타버스iSelect', 'KBSTAR 200중공업',\n",
              "       'ARIRANG 글로벌D램반도체iSelect', 'ARIRANG 중형주저변동50', 'TIGER 200 생활소비재',\n",
              "       'TIGER 코스피대형주', 'KBSTAR 코스닥150선물인버스', 'KBSTAR 팔라듐선물(H)',\n",
              "       'HK 하이볼액티브', '마이티 200커버드콜ATM레버리지', 'KBSTAR Fn플랫폼테마',\n",
              "       'ARIRANG 글로벌수소&차세대연료전지MV', 'KODEX 퀄리티Plus', 'TIGER 금속선물(H)',\n",
              "       'ARIRANG 글로벌희토류전략자원기업MV', 'ARIRANG 코스피중형주', 'ACE 인버스',\n",
              "       'ARIRANG 국채선물3년', 'TIGER 방송통신', 'HANARO 코스닥150선물레버리지',\n",
              "       'KODEX 골드선물인버스(H)', 'KBSTAR 200금융', 'ARIRANG 주도업종',\n",
              "       'KBSTAR 200경기소비재', 'KBSTAR 미국장기국채선물인버스(H)',\n",
              "       'TIGER KRX BBIG K-뉴딜레버리지', 'KBSTAR 글로벌원자력iSelect',\n",
              "       'KBSTAR 미국장기국채선물인버스2X(합성 H)', 'ARIRANG 글로벌인공지능산업MV',\n",
              "       'KBSTAR 팔라듐선물인버스(H)', 'KBSTAR 차이나H선물인버스(H)',\n",
              "       'KBSTAR 국채30년레버리지KAP(합성)', 'KBSTAR 200건설', 'ARIRANG ESG우수기업',\n",
              "       'ARIRANG 미국대체투자Top10MV', 'ARIRANG TDF2060액티브',\n",
              "       'ARIRANG TDF2040액티브', 'ARIRANG KRX300헬스케어', 'ARIRANG TDF2030액티브',\n",
              "       'ARIRANG 탄소효율그린뉴딜', 'ARIRANG TDF2050액티브', 'KBSTAR 200커뮤니케이션서비스',\n",
              "       'KBSTAR 200생활소비재', 'KBSTAR 200산업재'], dtype=object)"
            ]
          },
          "metadata": {},
          "execution_count": 8
        }
      ]
    },
    {
      "cell_type": "code",
      "source": [
        "index = etf_list['Symbol'].values\n",
        "index"
      ],
      "metadata": {
        "colab": {
          "base_uri": "https://localhost:8080/"
        },
        "id": "ulPpclLYVfxw",
        "outputId": "45e15efd-11b0-445d-84de-824f06d60b23"
      },
      "execution_count": null,
      "outputs": [
        {
          "output_type": "execute_result",
          "data": {
            "text/plain": [
              "array(['069500', '357870', '423160', '371460', '252670', '273130',\n",
              "       '133690', '310970', '102110', '278530', '122630', '360750',\n",
              "       '381180', '448320', '381170', '214980', '102780', '148020',\n",
              "       '305540', '157450', '385540', '292150', '305720', '114800',\n",
              "       '315930', '233740', '139260', '153130', '091180', '251340',\n",
              "       '152100', '278540', '449170', '448590', '293180', '356540',\n",
              "       '360200', '394670', '196230', '251350', '329750', '451000',\n",
              "       '229200', '294400', '379800', '447820', '272580', '364980',\n",
              "       '367380', '105190', '143850', '379810', '314250', '273140',\n",
              "       '148070', '371160', '241180', '394660', '069660', '226490',\n",
              "       '091170', '367770', '385550', '192090', '436140', '302450',\n",
              "       '368590', '329200', '277630', '114260', '401470', '091160',\n",
              "       '290130', '328370', '295040', '385560', '364960', '379780',\n",
              "       '190620', '132030', '361580', '414780', '400970', '302190',\n",
              "       '245710', '161510', '451600', '130730', '332940', '409820',\n",
              "       '363570', '168580', '228800', '326240', '261240', '329650',\n",
              "       '275980', '401170', '332930', '448310', '304940', '438330',\n",
              "       '412770', '448870', '304660', '252710', '282000', '439860',\n",
              "       '372330', '325020', '182480', '447780', '143860', '091230',\n",
              "       '150460', '138540', '283580', '451540', '213610', '270810',\n",
              "       '232080', '228810', '451060', '305080', '448600', '419890',\n",
              "       '219480', '397410', '365780', '278240', '448880', '367760',\n",
              "       '139220', '411420', '437350', '245340', '272560', '422420',\n",
              "       '439870', '144600', '414270', '446720', '364970', '407310',\n",
              "       '267770', '200250', '195980', '261220', '157490', '266160',\n",
              "       '152380', '390390', '437080', '309230', '396500', '174360',\n",
              "       '139280', '402970', '298770', '419430', '204480', '152870',\n",
              "       '322400', '415340', '169950', '114820', '385510', '139230',\n",
              "       '228790', '136340', '245360', '388280', '225040', '385720',\n",
              "       '269540', '371470', '336160', '423920', '354350', '204450',\n",
              "       '417630', '123310', '411060', '117700', '359210', '195930',\n",
              "       '448490', '271050', '448290', '261260', '315960', '233160',\n",
              "       '122260', '429000', '325010', '395750', '284430', '099140',\n",
              "       '387270', '437070', '440640', '368190', '371450', '276970',\n",
              "       '261250', '117680', '407830', '363510', '433330', '365000',\n",
              "       '387280', '451530', '256440', '447770', '244580', '400570',\n",
              "       '123320', '102970', '203780', '295000', '256750', '108450',\n",
              "       '396510', '266420', '114470', '411540', '300640', '441640',\n",
              "       '138230', '266370', '441680', '445290', '448300', '341850',\n",
              "       '261270', '381560', '394350', '252420', '438570', '337160',\n",
              "       '446770', '261120', '399110', '130680', '434960', '272570',\n",
              "       '319640', '404260', '304780', '385520', '138520', '248270',\n",
              "       '376410', '332620', '363580', '326230', '292190', '266360',\n",
              "       '243880', '418660', '332500', '391600', '114460', '446690',\n",
              "       '404540', '400590', '227540', '279530', '365040', '377990',\n",
              "       '287180', '218420', '295020', '310960', '375770', '269420',\n",
              "       '217780', '332610', '160580', '445910', '114100', '236350',\n",
              "       '308620', '385590', '390950', '137610', '117460', '280930',\n",
              "       '210780', '440340', '388420', '449450', '337140', '426150',\n",
              "       '329660', '122090', '217770', '329670', '448330', '396520',\n",
              "       '237370', '292560', '276650', '395290', '304770', '364990',\n",
              "       '219390', '277540', '276990', '435420', '227570', '265690',\n",
              "       '250780', '252410', '445150', '438320', '237350', '252400',\n",
              "       '140700', '211900', '412570', '407820', '245350', '225800',\n",
              "       '354500', '446700', '449190', '385600', '300950', '360140',\n",
              "       '213630', '395760', '442260', '449180', '139250', '289260',\n",
              "       '292730', '102960', '395280', '352560', '250730', '211560',\n",
              "       '182490', '385710', '266410', '399580', '230480', '395160',\n",
              "       '223190', '438560', '276000', '183700', '360150', '261110',\n",
              "       '241390', '285690', '411720', '181480', '300610', '271060',\n",
              "       '139270', '401590', '409810', '434060', '200030', '279540',\n",
              "       '195970', '140710', '238720', '138910', '404120', '253290',\n",
              "       '139240', '421320', '428560', '445690', '253160', '310080',\n",
              "       '450910', '104530', '441800', '422260', '316670', '251600',\n",
              "       '337150', '138530', '252000', '167860', '411050', '419420',\n",
              "       '289040', '306950', '196030', '449770', '225130', '397420',\n",
              "       '291130', '195920', '368680', '442090', '448570', '140950',\n",
              "       '400580', '269530', '354240', '261070', '292500', '430500',\n",
              "       '292160', '229720', '448540', '252650', '364690', '449540',\n",
              "       '449680', '168300', '101280', '139660', '292050', '433500',\n",
              "       '413220', '433220', '390400', '418670', '104520', '415760',\n",
              "       '433970', '253230', '403790', '375760', '226980', '253150',\n",
              "       '435040', '225050', '156080', '440650', '100910', '174350',\n",
              "       '395150', '239660', '185680', '292750', '429760', '225030',\n",
              "       '138920', '413930', '280320', '429010', '449690', '450180',\n",
              "       '272910', '145850', '091220', '331910', '395170', '316300',\n",
              "       '269370', '449580', '402520', '451150', '261140', '337120',\n",
              "       '449780', '270800', '108590', '447620', '307010', '289670',\n",
              "       '424460', '448630', '417450', '304760', '346000', '131890',\n",
              "       '423170', '225060', '445930', '438080', '438100', '289480',\n",
              "       '395270', '402460', '373790', '153270', '411860', '435550',\n",
              "       '139320', '452440', '447660', '152500', '244670', '416090',\n",
              "       '305050', '219900', '143460', '450120', '275290', '272230',\n",
              "       '433980', '452250', '333950', '228820', '183710', '450190',\n",
              "       '137930', '438740', '432600', '433250', '307510', '426030',\n",
              "       '435540', '333970', '429980', '322120', '352540', '438900',\n",
              "       '289250', '435530', '410870', '448100', '426020', '319870',\n",
              "       '237440', '244620', '304670', '441330', '322130', '445950',\n",
              "       '437370', '253250', '371130', '432840', '266390', '379790',\n",
              "       '272220', '251890', '192720', '251590', '159800', '391590',\n",
              "       '448510', '234310', '367740', '147970', '267440', '375270',\n",
              "       '381570', '267490', '315270', '205720', '292770', '277650',\n",
              "       '140570', '105780', '314700', '227830', '403990', '371150',\n",
              "       '256450', '333960', '275280', '226380', '261060', '441540',\n",
              "       '373530', '322410', '437550', '117690', '322150', '333940',\n",
              "       '394340', '436180', '189400', '444200', '404470', '227550',\n",
              "       '176950', '166400', '139290', '285000', '428510', '342140',\n",
              "       '278620', '407160', '434730', '281990', '299070', '291630',\n",
              "       '373490', '261920', '215620', '284990', '447430', '299080',\n",
              "       '105010', '290080', '238670', '404650', '253280', '140580',\n",
              "       '391670', '429990', '333980', '440910', '306520', '243890',\n",
              "       '291620', '442550', '432850', '442560', '442570', '426330',\n",
              "       '380340', '157500', '444490', '429870', '307520', '295820',\n",
              "       '407300', '275300', '301400', '427110', '252730', '253240',\n",
              "       '429740', '220130', '321410', '291890', '407170', '252720',\n",
              "       '368200', '301410', '371870', '285020', '419170', '285010',\n",
              "       '442580', '266550', '227560', '277640', '275750', '334690',\n",
              "       '391680', '292340', '427120', '419650', '244660', '139310',\n",
              "       '415920', '301440', '145670', '298340', '098560', '306530',\n",
              "       '280940', '284980', '280920', '287310', '267450', '412560',\n",
              "       '442320', '267500', '438210', '334700', '291680', '451670',\n",
              "       '287300', '278420', '426410', '433880', '433860', '309210',\n",
              "       '433850', '376250', '433870', '315480', '287330', '287320'],\n",
              "      dtype=object)"
            ]
          },
          "metadata": {},
          "execution_count": 9
        }
      ]
    },
    {
      "cell_type": "code",
      "source": [
        "a = pd.Series(data, index=index)\n",
        "a"
      ],
      "metadata": {
        "colab": {
          "base_uri": "https://localhost:8080/"
        },
        "id": "dT8FIJ_3VMpf",
        "outputId": "6258525d-f270-43bc-b1bb-6d54abff8e1d"
      },
      "execution_count": null,
      "outputs": [
        {
          "output_type": "execute_result",
          "data": {
            "text/plain": [
              "069500                KODEX 200\n",
              "357870      TIGER CD금리투자KIS(합성)\n",
              "423160      KODEX KOFR금리액티브(합성)\n",
              "371460    TIGER 차이나전기차SOLACTIVE\n",
              "252670         KODEX 200선물인버스2X\n",
              "                  ...          \n",
              "376250         ARIRANG 탄소효율그린뉴딜\n",
              "433870       ARIRANG TDF2050액티브\n",
              "315480      KBSTAR 200커뮤니케이션서비스\n",
              "287330          KBSTAR 200생활소비재\n",
              "287320            KBSTAR 200산업재\n",
              "Length: 678, dtype: object"
            ]
          },
          "metadata": {},
          "execution_count": 10
        }
      ]
    },
    {
      "cell_type": "code",
      "source": [
        "a2 = pd.Series(data)\n",
        "a2"
      ],
      "metadata": {
        "colab": {
          "base_uri": "https://localhost:8080/"
        },
        "id": "teXmuBwBV7Vz",
        "outputId": "ff961bca-07ea-426a-ff61-04237064d776"
      },
      "execution_count": null,
      "outputs": [
        {
          "output_type": "execute_result",
          "data": {
            "text/plain": [
              "0                  KODEX 200\n",
              "1        TIGER CD금리투자KIS(합성)\n",
              "2        KODEX KOFR금리액티브(합성)\n",
              "3      TIGER 차이나전기차SOLACTIVE\n",
              "4           KODEX 200선물인버스2X\n",
              "               ...          \n",
              "673         ARIRANG 탄소효율그린뉴딜\n",
              "674       ARIRANG TDF2050액티브\n",
              "675      KBSTAR 200커뮤니케이션서비스\n",
              "676          KBSTAR 200생활소비재\n",
              "677            KBSTAR 200산업재\n",
              "Length: 678, dtype: object"
            ]
          },
          "metadata": {},
          "execution_count": 11
        }
      ]
    },
    {
      "cell_type": "code",
      "source": [
        "a.index"
      ],
      "metadata": {
        "colab": {
          "base_uri": "https://localhost:8080/"
        },
        "id": "hPL9atRJV_Ke",
        "outputId": "eda61358-a09b-4d7f-d0bb-c02bf21c7f6b"
      },
      "execution_count": null,
      "outputs": [
        {
          "output_type": "execute_result",
          "data": {
            "text/plain": [
              "Index(['069500', '357870', '423160', '371460', '252670', '273130', '133690',\n",
              "       '310970', '102110', '278530',\n",
              "       ...\n",
              "       '426410', '433880', '433860', '309210', '433850', '376250', '433870',\n",
              "       '315480', '287330', '287320'],\n",
              "      dtype='object', length=678)"
            ]
          },
          "metadata": {},
          "execution_count": 12
        }
      ]
    },
    {
      "cell_type": "code",
      "source": [
        "a.values # dictionary -> values()"
      ],
      "metadata": {
        "id": "x4xKqIChWChX"
      },
      "execution_count": null,
      "outputs": []
    },
    {
      "cell_type": "code",
      "source": [
        "a + a # 벡터화연산이 지원 (시리즈에서도)"
      ],
      "metadata": {
        "colab": {
          "base_uri": "https://localhost:8080/"
        },
        "id": "0p-X3LAzWTI6",
        "outputId": "06c833ec-6f6e-4e1c-8e45-5140ca67f64d"
      },
      "execution_count": null,
      "outputs": [
        {
          "output_type": "execute_result",
          "data": {
            "text/plain": [
              "069500                            KODEX 200KODEX 200\n",
              "357870        TIGER CD금리투자KIS(합성)TIGER CD금리투자KIS(합성)\n",
              "423160        KODEX KOFR금리액티브(합성)KODEX KOFR금리액티브(합성)\n",
              "371460    TIGER 차이나전기차SOLACTIVETIGER 차이나전기차SOLACTIVE\n",
              "252670              KODEX 200선물인버스2XKODEX 200선물인버스2X\n",
              "                             ...                    \n",
              "376250              ARIRANG 탄소효율그린뉴딜ARIRANG 탄소효율그린뉴딜\n",
              "433870          ARIRANG TDF2050액티브ARIRANG TDF2050액티브\n",
              "315480        KBSTAR 200커뮤니케이션서비스KBSTAR 200커뮤니케이션서비스\n",
              "287330                KBSTAR 200생활소비재KBSTAR 200생활소비재\n",
              "287320                    KBSTAR 200산업재KBSTAR 200산업재\n",
              "Length: 678, dtype: object"
            ]
          },
          "metadata": {},
          "execution_count": 19
        }
      ]
    },
    {
      "cell_type": "code",
      "source": [
        "a[0], a['069500']"
      ],
      "metadata": {
        "colab": {
          "base_uri": "https://localhost:8080/"
        },
        "id": "0qjkizFyWgX1",
        "outputId": "38abf800-68ac-4b75-fa40-af9e28e599f2"
      },
      "execution_count": null,
      "outputs": [
        {
          "output_type": "execute_result",
          "data": {
            "text/plain": [
              "('KODEX 200', 'KODEX 200')"
            ]
          },
          "metadata": {},
          "execution_count": 22
        }
      ]
    },
    {
      "cell_type": "code",
      "source": [
        "a[-1]"
      ],
      "metadata": {
        "colab": {
          "base_uri": "https://localhost:8080/",
          "height": 35
        },
        "id": "5dFz0LiZWrvR",
        "outputId": "a336be12-c555-4ca5-d19d-f4908c53c601"
      },
      "execution_count": null,
      "outputs": [
        {
          "output_type": "execute_result",
          "data": {
            "text/plain": [
              "'KBSTAR 200산업재'"
            ],
            "application/vnd.google.colaboratory.intrinsic+json": {
              "type": "string"
            }
          },
          "metadata": {},
          "execution_count": 23
        }
      ]
    },
    {
      "cell_type": "code",
      "source": [
        "a[[0, 3, -1]] # numpy -> 정수배열 인덱싱"
      ],
      "metadata": {
        "colab": {
          "base_uri": "https://localhost:8080/"
        },
        "id": "7qeNTCQSW0IM",
        "outputId": "7ba1fa83-648d-4ed7-dd71-822274208f05"
      },
      "execution_count": null,
      "outputs": [
        {
          "output_type": "execute_result",
          "data": {
            "text/plain": [
              "069500                KODEX 200\n",
              "371460    TIGER 차이나전기차SOLACTIVE\n",
              "287320            KBSTAR 200산업재\n",
              "dtype: object"
            ]
          },
          "metadata": {},
          "execution_count": 24
        }
      ]
    },
    {
      "cell_type": "code",
      "source": [
        "a[[\"315480\", \"371460\", \"433870\"]] # numpy -> 인덱스 라벨로도 배열 인덱싱이 가능"
      ],
      "metadata": {
        "colab": {
          "base_uri": "https://localhost:8080/"
        },
        "id": "2PZFV2CAW55e",
        "outputId": "92b8722a-4433-4e11-db9c-d16712f7ff92"
      },
      "execution_count": null,
      "outputs": [
        {
          "output_type": "execute_result",
          "data": {
            "text/plain": [
              "315480      KBSTAR 200커뮤니케이션서비스\n",
              "371460    TIGER 차이나전기차SOLACTIVE\n",
              "433870       ARIRANG TDF2050액티브\n",
              "dtype: object"
            ]
          },
          "metadata": {},
          "execution_count": 25
        }
      ]
    },
    {
      "cell_type": "code",
      "source": [
        "kospi = fdr.DataReader('069500').Volume\n",
        "china = fdr.DataReader('371460').Volume\n",
        "kospi, china"
      ],
      "metadata": {
        "colab": {
          "base_uri": "https://localhost:8080/"
        },
        "id": "fb3BrS3BXGRN",
        "outputId": "0295da8a-81b3-489c-b0f3-67b4d51c4271"
      },
      "execution_count": null,
      "outputs": [
        {
          "output_type": "execute_result",
          "data": {
            "text/plain": [
              "(Date\n",
              " 2002-10-14     3719554\n",
              " 2002-10-15     3303231\n",
              " 2002-10-16     2942972\n",
              " 2002-10-17     3018929\n",
              " 2002-10-18     1906949\n",
              "                 ...   \n",
              " 2023-03-07     6041336\n",
              " 2023-03-08    10926009\n",
              " 2023-03-09     6727453\n",
              " 2023-03-10     8278301\n",
              " 2023-03-13      671613\n",
              " Name: Volume, Length: 5049, dtype: int64, Date\n",
              " 2020-12-08    1048978\n",
              " 2020-12-09     775168\n",
              " 2020-12-10     278461\n",
              " 2020-12-11     449881\n",
              " 2020-12-14     165223\n",
              "                ...   \n",
              " 2023-03-07    5439303\n",
              " 2023-03-08    4425528\n",
              " 2023-03-09    5001159\n",
              " 2023-03-10    5975088\n",
              " 2023-03-13     305122\n",
              " Name: Volume, Length: 558, dtype: int64)"
            ]
          },
          "metadata": {},
          "execution_count": 29
        }
      ]
    },
    {
      "cell_type": "code",
      "source": [
        "kospi[(kospi > 10_000_000)] # 불리언 배열 인덱싱"
      ],
      "metadata": {
        "colab": {
          "base_uri": "https://localhost:8080/"
        },
        "id": "PWKupOsZX6Lm",
        "outputId": "cf600cc7-b119-42fe-eb3b-f181cf293ad2"
      },
      "execution_count": null,
      "outputs": [
        {
          "output_type": "execute_result",
          "data": {
            "text/plain": [
              "Date\n",
              "2007-02-28    10855906\n",
              "2007-12-13    14955069\n",
              "2008-07-10    11540139\n",
              "2008-09-11    25821479\n",
              "2008-10-09    13059458\n",
              "                ...   \n",
              "2023-02-13    10210789\n",
              "2023-02-15    11497540\n",
              "2023-02-23    12572489\n",
              "2023-02-27    11282435\n",
              "2023-03-08    10926009\n",
              "Name: Volume, Length: 588, dtype: int64"
            ]
          },
          "metadata": {},
          "execution_count": 33
        }
      ]
    },
    {
      "cell_type": "code",
      "source": [
        "kospi[(kospi > 20_000_000)]"
      ],
      "metadata": {
        "colab": {
          "base_uri": "https://localhost:8080/"
        },
        "id": "f7jyt2dHYDDs",
        "outputId": "3cf2e105-7d11-471d-c250-f03519c4f277"
      },
      "execution_count": null,
      "outputs": [
        {
          "output_type": "execute_result",
          "data": {
            "text/plain": [
              "Date\n",
              "2008-09-11    25821479\n",
              "2013-04-05    25242897\n",
              "2013-06-10    23969215\n",
              "2013-06-13    23888656\n",
              "2013-06-14    26020211\n",
              "2013-09-12    28546345\n",
              "2013-12-12    24599902\n",
              "2013-12-13    23037054\n",
              "2014-01-06    21367601\n",
              "2014-01-27    29296774\n",
              "2014-02-05    22532937\n",
              "2014-03-13    22209812\n",
              "2014-07-30    25566557\n",
              "2014-09-23    22603858\n",
              "2014-10-02    23164927\n",
              "2014-12-11    29308371\n",
              "2015-01-07    22129783\n",
              "2015-08-24    24285831\n",
              "2015-08-25    27249458\n",
              "2016-01-20    21576667\n",
              "2016-01-21    25056037\n",
              "2016-02-12    24408051\n",
              "2016-06-24    22290241\n",
              "2016-11-09    21877054\n",
              "2016-11-10    20117655\n",
              "2017-10-23    22568090\n",
              "2017-10-31    20547006\n",
              "2018-01-31    21084426\n",
              "2018-05-31    20372861\n",
              "2020-02-28    22994981\n",
              "2020-03-10    24112121\n",
              "2020-03-11    20018594\n",
              "2020-03-12    29267768\n",
              "2020-03-13    36012438\n",
              "2020-03-16    42825377\n",
              "2020-03-17    50386375\n",
              "2020-03-18    30168481\n",
              "2020-03-19    62722881\n",
              "2020-03-20    42662610\n",
              "2020-03-23    23954264\n",
              "2020-03-24    20305099\n",
              "2020-03-25    37708094\n",
              "2020-04-09    21415221\n",
              "2020-04-13    31051472\n",
              "2020-04-14    20222874\n",
              "2020-04-21    20713341\n",
              "2020-04-22    22131166\n",
              "2020-06-15    20804074\n",
              "2020-09-23    20807557\n",
              "2020-09-24    21660794\n",
              "2020-10-30    20844417\n",
              "2021-01-11    24148715\n",
              "2021-01-12    26643557\n",
              "Name: Volume, dtype: int64"
            ]
          },
          "metadata": {},
          "execution_count": 35
        }
      ]
    },
    {
      "cell_type": "code",
      "source": [
        "kospi[(kospi > 10_000_000) & (kospi < 20_000_000)]"
      ],
      "metadata": {
        "colab": {
          "base_uri": "https://localhost:8080/"
        },
        "id": "tj_RFC3OXqoR",
        "outputId": "41c0fb95-9548-4250-cfc9-76733d780009"
      },
      "execution_count": null,
      "outputs": [
        {
          "output_type": "execute_result",
          "data": {
            "text/plain": [
              "Date\n",
              "2007-02-28    10855906\n",
              "2007-12-13    14955069\n",
              "2008-07-10    11540139\n",
              "2008-10-09    13059458\n",
              "2009-01-08    11462324\n",
              "                ...   \n",
              "2023-02-13    10210789\n",
              "2023-02-15    11497540\n",
              "2023-02-23    12572489\n",
              "2023-02-27    11282435\n",
              "2023-03-08    10926009\n",
              "Name: Volume, Length: 535, dtype: int64"
            ]
          },
          "metadata": {},
          "execution_count": 34
        }
      ]
    },
    {
      "cell_type": "code",
      "source": [
        "china[1:200]"
      ],
      "metadata": {
        "colab": {
          "base_uri": "https://localhost:8080/"
        },
        "id": "y6GoxfJIYQnJ",
        "outputId": "32966040-c00b-450e-c69f-cab070d183e0"
      },
      "execution_count": null,
      "outputs": [
        {
          "output_type": "execute_result",
          "data": {
            "text/plain": [
              "Date\n",
              "2020-12-09      775168\n",
              "2020-12-10      278461\n",
              "2020-12-11      449881\n",
              "2020-12-14      165223\n",
              "2020-12-15      418493\n",
              "                ...   \n",
              "2021-09-23     5375040\n",
              "2021-09-24     6894670\n",
              "2021-09-27    10264560\n",
              "2021-09-28     4209286\n",
              "2021-09-29     6305614\n",
              "Name: Volume, Length: 199, dtype: int64"
            ]
          },
          "metadata": {},
          "execution_count": 36
        }
      ]
    },
    {
      "cell_type": "code",
      "source": [
        "china[1:-10:2]"
      ],
      "metadata": {
        "colab": {
          "base_uri": "https://localhost:8080/"
        },
        "id": "ZQ50vdCMYT7J",
        "outputId": "8e391f93-301f-4bad-9e87-b92e9bc98da3"
      },
      "execution_count": null,
      "outputs": [
        {
          "output_type": "execute_result",
          "data": {
            "text/plain": [
              "Date\n",
              "2020-12-09     775168\n",
              "2020-12-11     449881\n",
              "2020-12-15     418493\n",
              "2020-12-17     497866\n",
              "2020-12-21     817886\n",
              "               ...   \n",
              "2023-02-14    3835378\n",
              "2023-02-16    4873243\n",
              "2023-02-20    4789474\n",
              "2023-02-22    2868784\n",
              "2023-02-24    3248472\n",
              "Name: Volume, Length: 274, dtype: int64"
            ]
          },
          "metadata": {},
          "execution_count": 38
        }
      ]
    },
    {
      "cell_type": "code",
      "source": [
        "china.tail(10)"
      ],
      "metadata": {
        "colab": {
          "base_uri": "https://localhost:8080/"
        },
        "id": "XQqP2mm_YXza",
        "outputId": "996ffabb-9ff3-4a79-8282-94b9072ae08f"
      },
      "execution_count": null,
      "outputs": [
        {
          "output_type": "execute_result",
          "data": {
            "text/plain": [
              "Date\n",
              "2023-02-27    3460909\n",
              "2023-02-28    3755890\n",
              "2023-03-02    4212024\n",
              "2023-03-03    4787613\n",
              "2023-03-06    7684520\n",
              "2023-03-07    5439303\n",
              "2023-03-08    4425528\n",
              "2023-03-09    5001159\n",
              "2023-03-10    5975088\n",
              "2023-03-13     305122\n",
              "Name: Volume, dtype: int64"
            ]
          },
          "metadata": {},
          "execution_count": 39
        }
      ]
    },
    {
      "cell_type": "code",
      "source": [
        "china['2023-03-01':'2023-03-14'] # 문자열로 슬라이싱 시 끝점 포함"
      ],
      "metadata": {
        "colab": {
          "base_uri": "https://localhost:8080/"
        },
        "id": "kGwTzlJBYk7A",
        "outputId": "3dc8aaa5-2079-4a3d-c3d8-832e472619c0"
      },
      "execution_count": null,
      "outputs": [
        {
          "output_type": "execute_result",
          "data": {
            "text/plain": [
              "Date\n",
              "2023-03-02    4212024\n",
              "2023-03-03    4787613\n",
              "2023-03-06    7684520\n",
              "2023-03-07    5439303\n",
              "2023-03-08    4425528\n",
              "2023-03-09    5001159\n",
              "2023-03-10    5975088\n",
              "2023-03-13     305122\n",
              "Name: Volume, dtype: int64"
            ]
          },
          "metadata": {},
          "execution_count": 42
        }
      ]
    },
    {
      "cell_type": "code",
      "source": [
        "china['2023-02-27':'2023-03-10'] # 문자열로 슬라이싱 시 끝점 포함"
      ],
      "metadata": {
        "colab": {
          "base_uri": "https://localhost:8080/"
        },
        "id": "aK1tgi9XYdQ7",
        "outputId": "e3a0b301-15b3-4f8b-eaed-c417197b79ac"
      },
      "execution_count": null,
      "outputs": [
        {
          "output_type": "execute_result",
          "data": {
            "text/plain": [
              "Date\n",
              "2023-02-27    3460909\n",
              "2023-02-28    3755890\n",
              "2023-03-02    4212024\n",
              "2023-03-03    4787613\n",
              "2023-03-06    7684520\n",
              "2023-03-07    5439303\n",
              "2023-03-08    4425528\n",
              "2023-03-09    5001159\n",
              "2023-03-10    5975088\n",
              "Name: Volume, dtype: int64"
            ]
          },
          "metadata": {},
          "execution_count": 40
        }
      ]
    },
    {
      "cell_type": "code",
      "source": [
        "d = dict(china['2023-02-27':'2023-03-10'].items())\n",
        "d"
      ],
      "metadata": {
        "colab": {
          "base_uri": "https://localhost:8080/"
        },
        "id": "Ry3zh5LLY0qk",
        "outputId": "ef5e199d-1e44-43f0-eb49-d9eed82d2051"
      },
      "execution_count": null,
      "outputs": [
        {
          "output_type": "execute_result",
          "data": {
            "text/plain": [
              "{Timestamp('2023-02-27 00:00:00'): 3460909,\n",
              " Timestamp('2023-02-28 00:00:00'): 3755890,\n",
              " Timestamp('2023-03-02 00:00:00'): 4212024,\n",
              " Timestamp('2023-03-03 00:00:00'): 4787613,\n",
              " Timestamp('2023-03-06 00:00:00'): 7684520,\n",
              " Timestamp('2023-03-07 00:00:00'): 5439303,\n",
              " Timestamp('2023-03-08 00:00:00'): 4425528,\n",
              " Timestamp('2023-03-09 00:00:00'): 5001159,\n",
              " Timestamp('2023-03-10 00:00:00'): 5975088}"
            ]
          },
          "metadata": {},
          "execution_count": 45
        }
      ]
    },
    {
      "cell_type": "code",
      "source": [
        "pd.Series(d)"
      ],
      "metadata": {
        "colab": {
          "base_uri": "https://localhost:8080/"
        },
        "id": "-c0JbMliY8Nw",
        "outputId": "e38045d6-c241-4339-fdc1-df26d82853bc"
      },
      "execution_count": null,
      "outputs": [
        {
          "output_type": "execute_result",
          "data": {
            "text/plain": [
              "2023-02-27    3460909\n",
              "2023-02-28    3755890\n",
              "2023-03-02    4212024\n",
              "2023-03-03    4787613\n",
              "2023-03-06    7684520\n",
              "2023-03-07    5439303\n",
              "2023-03-08    4425528\n",
              "2023-03-09    5001159\n",
              "2023-03-10    5975088\n",
              "dtype: int64"
            ]
          },
          "metadata": {},
          "execution_count": 46
        }
      ]
    },
    {
      "cell_type": "code",
      "source": [
        "kospi"
      ],
      "metadata": {
        "colab": {
          "base_uri": "https://localhost:8080/"
        },
        "id": "5aONUJe0ZDcm",
        "outputId": "5961111b-8cc0-49bf-d1b7-42f95e999464"
      },
      "execution_count": null,
      "outputs": [
        {
          "output_type": "execute_result",
          "data": {
            "text/plain": [
              "Date\n",
              "2002-10-14     3719554\n",
              "2002-10-15     3303231\n",
              "2002-10-16     2942972\n",
              "2002-10-17     3018929\n",
              "2002-10-18     1906949\n",
              "                ...   \n",
              "2023-03-07     6041336\n",
              "2023-03-08    10926009\n",
              "2023-03-09     6727453\n",
              "2023-03-10     8278301\n",
              "2023-03-13      671613\n",
              "Name: Volume, Length: 5049, dtype: int64"
            ]
          },
          "metadata": {},
          "execution_count": 47
        }
      ]
    },
    {
      "cell_type": "code",
      "source": [
        "china"
      ],
      "metadata": {
        "colab": {
          "base_uri": "https://localhost:8080/"
        },
        "id": "rFUi1HxQZFDw",
        "outputId": "a8e219bf-c6a0-452e-a33a-f19782b374e9"
      },
      "execution_count": null,
      "outputs": [
        {
          "output_type": "execute_result",
          "data": {
            "text/plain": [
              "Date\n",
              "2020-12-08    1048978\n",
              "2020-12-09     775168\n",
              "2020-12-10     278461\n",
              "2020-12-11     449881\n",
              "2020-12-14     165223\n",
              "               ...   \n",
              "2023-03-07    5439303\n",
              "2023-03-08    4425528\n",
              "2023-03-09    5001159\n",
              "2023-03-10    5975088\n",
              "2023-03-13     305122\n",
              "Name: Volume, Length: 558, dtype: int64"
            ]
          },
          "metadata": {},
          "execution_count": 48
        }
      ]
    },
    {
      "cell_type": "code",
      "source": [
        "kospi - china # 공통 인덱스는 계산이 됨. 서로 둘 다 없는 인덱스는? NaN (Null) (NA) (결측치)"
      ],
      "metadata": {
        "colab": {
          "base_uri": "https://localhost:8080/"
        },
        "id": "0d16Rk0LZJwS",
        "outputId": "f060c5f5-95c2-4437-bd96-f3397bbc094b"
      },
      "execution_count": null,
      "outputs": [
        {
          "output_type": "execute_result",
          "data": {
            "text/plain": [
              "Date\n",
              "2002-10-14          NaN\n",
              "2002-10-15          NaN\n",
              "2002-10-16          NaN\n",
              "2002-10-17          NaN\n",
              "2002-10-18          NaN\n",
              "                ...    \n",
              "2023-03-07     602033.0\n",
              "2023-03-08    6500481.0\n",
              "2023-03-09    1726294.0\n",
              "2023-03-10    2303213.0\n",
              "2023-03-13     366491.0\n",
              "Name: Volume, Length: 5049, dtype: float64"
            ]
          },
          "metadata": {},
          "execution_count": 49
        }
      ]
    },
    {
      "cell_type": "code",
      "source": [
        "s = kospi - china\n",
        "s"
      ],
      "metadata": {
        "colab": {
          "base_uri": "https://localhost:8080/"
        },
        "id": "wxFOf0MSZbt4",
        "outputId": "0bda1ca7-f0b8-4baa-c49d-ca244ec5efb6"
      },
      "execution_count": null,
      "outputs": [
        {
          "output_type": "execute_result",
          "data": {
            "text/plain": [
              "Date\n",
              "2002-10-14          NaN\n",
              "2002-10-15          NaN\n",
              "2002-10-16          NaN\n",
              "2002-10-17          NaN\n",
              "2002-10-18          NaN\n",
              "                ...    \n",
              "2023-03-07     602033.0\n",
              "2023-03-08    6500481.0\n",
              "2023-03-09    1726294.0\n",
              "2023-03-10    2303213.0\n",
              "2023-03-13     366491.0\n",
              "Name: Volume, Length: 5049, dtype: float64"
            ]
          },
          "metadata": {},
          "execution_count": 50
        }
      ]
    },
    {
      "cell_type": "code",
      "source": [
        "s[s.isnull()] # null인 값만 남기기"
      ],
      "metadata": {
        "colab": {
          "base_uri": "https://localhost:8080/"
        },
        "id": "01DlV26nZ0Iz",
        "outputId": "38d09d6c-439b-4caf-e725-a756713ea172"
      },
      "execution_count": null,
      "outputs": [
        {
          "output_type": "execute_result",
          "data": {
            "text/plain": [
              "Date\n",
              "2002-10-14   NaN\n",
              "2002-10-15   NaN\n",
              "2002-10-16   NaN\n",
              "2002-10-17   NaN\n",
              "2002-10-18   NaN\n",
              "              ..\n",
              "2020-12-01   NaN\n",
              "2020-12-02   NaN\n",
              "2020-12-03   NaN\n",
              "2020-12-04   NaN\n",
              "2020-12-07   NaN\n",
              "Name: Volume, Length: 4491, dtype: float64"
            ]
          },
          "metadata": {},
          "execution_count": 60
        }
      ]
    },
    {
      "cell_type": "code",
      "source": [
        "s[s.notnull()] # 불리언 배열을 통해서 -> notnull만 남기기"
      ],
      "metadata": {
        "colab": {
          "base_uri": "https://localhost:8080/"
        },
        "id": "o0wRqNqzZe78",
        "outputId": "397b8e16-c5c7-4ded-b0c9-eed06b847ce0"
      },
      "execution_count": null,
      "outputs": [
        {
          "output_type": "execute_result",
          "data": {
            "text/plain": [
              "Date\n",
              "2020-12-08    12714435.0\n",
              "2020-12-09    13071574.0\n",
              "2020-12-10    11992268.0\n",
              "2020-12-11    10457238.0\n",
              "2020-12-14    14140566.0\n",
              "                 ...    \n",
              "2023-03-07      602033.0\n",
              "2023-03-08     6500481.0\n",
              "2023-03-09     1726294.0\n",
              "2023-03-10     2303213.0\n",
              "2023-03-13      366491.0\n",
              "Name: Volume, Length: 558, dtype: float64"
            ]
          },
          "metadata": {},
          "execution_count": 53
        }
      ]
    },
    {
      "cell_type": "code",
      "source": [
        "s.dropna() # dropna 메소드 -> 실제 값만 남기기 (공통값)"
      ],
      "metadata": {
        "colab": {
          "base_uri": "https://localhost:8080/"
        },
        "id": "s1K8TJFYZjLp",
        "outputId": "7efe61c5-39f0-49cc-b8d9-b2fea5cdd3ff"
      },
      "execution_count": null,
      "outputs": [
        {
          "output_type": "execute_result",
          "data": {
            "text/plain": [
              "Date\n",
              "2020-12-08    12714435.0\n",
              "2020-12-09    13071574.0\n",
              "2020-12-10    11992268.0\n",
              "2020-12-11    10457238.0\n",
              "2020-12-14    14140566.0\n",
              "                 ...    \n",
              "2023-03-07      602033.0\n",
              "2023-03-08     6500481.0\n",
              "2023-03-09     1726294.0\n",
              "2023-03-10     2303213.0\n",
              "2023-03-13      366491.0\n",
              "Name: Volume, Length: 558, dtype: float64"
            ]
          },
          "metadata": {},
          "execution_count": 54
        }
      ]
    },
    {
      "cell_type": "code",
      "source": [
        "s"
      ],
      "metadata": {
        "colab": {
          "base_uri": "https://localhost:8080/"
        },
        "id": "A43n2_l_ZqRS",
        "outputId": "98666f7e-107c-4298-bcce-8b0b5f2ede5a"
      },
      "execution_count": null,
      "outputs": [
        {
          "output_type": "execute_result",
          "data": {
            "text/plain": [
              "Date\n",
              "2002-10-14          NaN\n",
              "2002-10-15          NaN\n",
              "2002-10-16          NaN\n",
              "2002-10-17          NaN\n",
              "2002-10-18          NaN\n",
              "                ...    \n",
              "2023-03-07     602033.0\n",
              "2023-03-08    6500481.0\n",
              "2023-03-09    1726294.0\n",
              "2023-03-10    2303213.0\n",
              "2023-03-13     366491.0\n",
              "Name: Volume, Length: 5049, dtype: float64"
            ]
          },
          "metadata": {},
          "execution_count": 55
        }
      ]
    },
    {
      "cell_type": "code",
      "source": [
        "a"
      ],
      "metadata": {
        "colab": {
          "base_uri": "https://localhost:8080/"
        },
        "id": "rz8WWCuWaDG7",
        "outputId": "e1cedfc7-c6d5-4ae4-a10e-561761767231"
      },
      "execution_count": null,
      "outputs": [
        {
          "output_type": "execute_result",
          "data": {
            "text/plain": [
              "069500                KODEX 200\n",
              "357870      TIGER CD금리투자KIS(합성)\n",
              "423160      KODEX KOFR금리액티브(합성)\n",
              "371460    TIGER 차이나전기차SOLACTIVE\n",
              "252670         KODEX 200선물인버스2X\n",
              "                  ...          \n",
              "376250         ARIRANG 탄소효율그린뉴딜\n",
              "433870       ARIRANG TDF2050액티브\n",
              "315480      KBSTAR 200커뮤니케이션서비스\n",
              "287330          KBSTAR 200생활소비재\n",
              "287320            KBSTAR 200산업재\n",
              "Length: 678, dtype: object"
            ]
          },
          "metadata": {},
          "execution_count": 61
        }
      ]
    },
    {
      "cell_type": "code",
      "source": [
        "# a['069500']\n",
        "a['069500'] = 'KODEX 코스피 200'\n",
        "a"
      ],
      "metadata": {
        "colab": {
          "base_uri": "https://localhost:8080/"
        },
        "id": "IVwnxTJsaHEa",
        "outputId": "32466340-329f-4334-e9d6-35ca7af5535a"
      },
      "execution_count": null,
      "outputs": [
        {
          "output_type": "execute_result",
          "data": {
            "text/plain": [
              "069500            KODEX 코스피 200\n",
              "357870      TIGER CD금리투자KIS(합성)\n",
              "423160      KODEX KOFR금리액티브(합성)\n",
              "371460    TIGER 차이나전기차SOLACTIVE\n",
              "252670         KODEX 200선물인버스2X\n",
              "                  ...          \n",
              "376250         ARIRANG 탄소효율그린뉴딜\n",
              "433870       ARIRANG TDF2050액티브\n",
              "315480      KBSTAR 200커뮤니케이션서비스\n",
              "287330          KBSTAR 200생활소비재\n",
              "287320            KBSTAR 200산업재\n",
              "Length: 678, dtype: object"
            ]
          },
          "metadata": {},
          "execution_count": 63
        }
      ]
    },
    {
      "cell_type": "code",
      "source": [
        "del a['423160']\n",
        "a"
      ],
      "metadata": {
        "colab": {
          "base_uri": "https://localhost:8080/"
        },
        "id": "hDBarKi8aOKk",
        "outputId": "87d9e851-60ce-4376-fa52-c469a47aeec7"
      },
      "execution_count": null,
      "outputs": [
        {
          "output_type": "execute_result",
          "data": {
            "text/plain": [
              "069500            KODEX 코스피 200\n",
              "357870      TIGER CD금리투자KIS(합성)\n",
              "371460    TIGER 차이나전기차SOLACTIVE\n",
              "252670         KODEX 200선물인버스2X\n",
              "273130     KODEX 종합채권(AA-이상)액티브\n",
              "                  ...          \n",
              "376250         ARIRANG 탄소효율그린뉴딜\n",
              "433870       ARIRANG TDF2050액티브\n",
              "315480      KBSTAR 200커뮤니케이션서비스\n",
              "287330          KBSTAR 200생활소비재\n",
              "287320            KBSTAR 200산업재\n",
              "Length: 677, dtype: object"
            ]
          },
          "metadata": {},
          "execution_count": 64
        }
      ]
    },
    {
      "cell_type": "code",
      "source": [
        "del a['371460']\n",
        "a"
      ],
      "metadata": {
        "colab": {
          "base_uri": "https://localhost:8080/"
        },
        "id": "tAyv9eiGaQ1C",
        "outputId": "220c2773-a334-4eef-8713-b180547dc1af"
      },
      "execution_count": null,
      "outputs": [
        {
          "output_type": "execute_result",
          "data": {
            "text/plain": [
              "069500           KODEX 코스피 200\n",
              "357870     TIGER CD금리투자KIS(합성)\n",
              "252670        KODEX 200선물인버스2X\n",
              "273130    KODEX 종합채권(AA-이상)액티브\n",
              "133690          TIGER 미국나스닥100\n",
              "                  ...         \n",
              "376250        ARIRANG 탄소효율그린뉴딜\n",
              "433870      ARIRANG TDF2050액티브\n",
              "315480     KBSTAR 200커뮤니케이션서비스\n",
              "287330         KBSTAR 200생활소비재\n",
              "287320           KBSTAR 200산업재\n",
              "Length: 676, dtype: object"
            ]
          },
          "metadata": {},
          "execution_count": 65
        }
      ]
    },
    {
      "cell_type": "code",
      "source": [
        "import requests"
      ],
      "metadata": {
        "id": "XzZPUG51afZ5"
      },
      "execution_count": null,
      "outputs": []
    },
    {
      "cell_type": "markdown",
      "source": [
        "https://search.naver.com/search.naver?where=news&query=%EB%A6%AC%ED%8A%AC&sm=tab_opt&sort=1&photo=0&field=0&pd=0&ds=&de=&docid=&related=0&mynews=0&office_type=0&office_section_code=0&news_office_checked=&nso=so%3Add%2Cp%3Aall&is_sug_officeid=0"
      ],
      "metadata": {
        "id": "CNEuxENRb9XK"
      }
    },
    {
      "cell_type": "code",
      "source": [
        "url = 'https://search.naver.com/search.naver?where=news&query=%EB%A6%AC%ED%8A%AC&sort=1'\n",
        "url_ = 'https://search.naver.com/search.naver'\n",
        "where = 'news'\n",
        "query = '%EB%A6%AC%ED%8A%AC'\n",
        "sort = 1\n",
        "url = f'{url_}?where={where}&query={query}&sort={sort}'\n",
        "\n",
        "response = requests.get(url)\n",
        "response"
      ],
      "metadata": {
        "colab": {
          "base_uri": "https://localhost:8080/"
        },
        "id": "r2hsyhgGaUFQ",
        "outputId": "bbfb4ad0-3d7a-4a5d-c2a7-e5f4e00c56dc"
      },
      "execution_count": null,
      "outputs": [
        {
          "output_type": "execute_result",
          "data": {
            "text/plain": [
              "<Response [200]>"
            ]
          },
          "metadata": {},
          "execution_count": 67
        }
      ]
    },
    {
      "cell_type": "code",
      "source": [
        "a = requests.get(\"https://api.upbit.com/v1/ticker?markets=KRW-BTC\")\n",
        "da = a.json() # 파싱"
      ],
      "metadata": {
        "id": "ARMACm1odupV"
      },
      "execution_count": null,
      "outputs": []
    },
    {
      "cell_type": "code",
      "source": [
        "a = requests.get(\"https://api.upbit.com/v1/ticker?markets=KRW-ETH\")\n",
        "da = a.json() # 파싱\n",
        "da[0]"
      ],
      "metadata": {
        "colab": {
          "base_uri": "https://localhost:8080/"
        },
        "id": "tG0N6qrLeFrG",
        "outputId": "094f2a2e-876e-4255-ce3a-d2e05460a17e"
      },
      "execution_count": null,
      "outputs": [
        {
          "output_type": "execute_result",
          "data": {
            "text/plain": [
              "{'market': 'KRW-ETH',\n",
              " 'trade_date': '20230313',\n",
              " 'trade_time': '005653',\n",
              " 'trade_date_kst': '20230313',\n",
              " 'trade_time_kst': '095653',\n",
              " 'trade_timestamp': 1678669013836,\n",
              " 'opening_price': 2096000,\n",
              " 'high_price': 2141000,\n",
              " 'low_price': 2085000,\n",
              " 'trade_price': 2134000,\n",
              " 'prev_closing_price': 2098000.0,\n",
              " 'change': 'RISE',\n",
              " 'change_price': 36000.0,\n",
              " 'change_rate': 0.0171591992,\n",
              " 'signed_change_price': 36000.0,\n",
              " 'signed_change_rate': 0.0171591992,\n",
              " 'trade_volume': 0.46739005,\n",
              " 'acc_trade_price': 10783483230.31754,\n",
              " 'acc_trade_price_24h': 70560775789.2905,\n",
              " 'acc_trade_volume': 5107.05313799,\n",
              " 'acc_trade_volume_24h': 34688.90761229,\n",
              " 'highest_52_week_price': 4348000.0,\n",
              " 'highest_52_week_date': '2022-04-03',\n",
              " 'lowest_52_week_price': 1201500.0,\n",
              " 'lowest_52_week_date': '2022-06-18',\n",
              " 'timestamp': 1678669020060}"
            ]
          },
          "metadata": {},
          "execution_count": 74
        }
      ]
    },
    {
      "cell_type": "code",
      "source": [
        "a = requests.get(\"https://api.upbit.com/v1/ticker?markets=KRW-XRP\")\n",
        "da = a.json() # 파싱\n",
        "da[0]"
      ],
      "metadata": {
        "colab": {
          "base_uri": "https://localhost:8080/"
        },
        "id": "-SuYM_KqeJRy",
        "outputId": "dd8af39d-929b-4263-925a-7af82ae6c1e2"
      },
      "execution_count": null,
      "outputs": [
        {
          "output_type": "execute_result",
          "data": {
            "text/plain": [
              "{'market': 'KRW-XRP',\n",
              " 'trade_date': '20230313',\n",
              " 'trade_time': '005710',\n",
              " 'trade_date_kst': '20230313',\n",
              " 'trade_time_kst': '095710',\n",
              " 'trade_timestamp': 1678669030109,\n",
              " 'opening_price': 494,\n",
              " 'high_price': 498,\n",
              " 'low_price': 488,\n",
              " 'trade_price': 495,\n",
              " 'prev_closing_price': 494.0,\n",
              " 'change': 'RISE',\n",
              " 'change_price': 1.0,\n",
              " 'change_rate': 0.0020242915,\n",
              " 'signed_change_price': 1.0,\n",
              " 'signed_change_rate': 0.0020242915,\n",
              " 'trade_volume': 323.23232324,\n",
              " 'acc_trade_price': 18646269622.481777,\n",
              " 'acc_trade_price_24h': 189836148943.38983,\n",
              " 'acc_trade_volume': 37856317.99323664,\n",
              " 'acc_trade_volume_24h': 392692661.8204179,\n",
              " 'highest_52_week_price': 1090.0,\n",
              " 'highest_52_week_date': '2022-03-28',\n",
              " 'lowest_52_week_price': 384.0,\n",
              " 'lowest_52_week_date': '2022-06-14',\n",
              " 'timestamp': 1678669030169}"
            ]
          },
          "metadata": {},
          "execution_count": 75
        }
      ]
    },
    {
      "cell_type": "code",
      "source": [
        "type(da[0])"
      ],
      "metadata": {
        "colab": {
          "base_uri": "https://localhost:8080/"
        },
        "id": "yP-sL3UpeAoI",
        "outputId": "145f0d75-d048-4eaf-8585-3fc07297fb93"
      },
      "execution_count": null,
      "outputs": [
        {
          "output_type": "execute_result",
          "data": {
            "text/plain": [
              "dict"
            ]
          },
          "metadata": {},
          "execution_count": 73
        }
      ]
    },
    {
      "cell_type": "code",
      "source": [
        "response.text"
      ],
      "metadata": {
        "colab": {
          "base_uri": "https://localhost:8080/",
          "height": 127
        },
        "id": "srUCLEHycq1Q",
        "outputId": "dcd1ae40-fac2-41de-a912-ee4af8ed2f92"
      },
      "execution_count": null,
      "outputs": [
        {
          "output_type": "execute_result",
          "data": {
            "text/plain": [
              "'<!doctype html> <html lang=\"ko\"> <head> <meta charset=\"utf-8\"> <meta name=\"referrer\" content=\"always\">  <meta name=\"format-detection\" content=\"telephone=no,address=no,email=no\"> <meta name=\"viewport\" content=\"width=device-width,initial-scale=1.0,maximum-scale=2.0\"> <meta property=\"og:title\" content=\"리튬 : 네이버 뉴스검색\"/> <meta property=\"og:image\" content=\"https://ssl.pstatic.net/sstatic/search/common/og_v3.png\"> <meta property=\"og:description\" content=\"\\'리튬\\'의 네이버 뉴스검색 결과입니다.\"> <meta name=\"description\" lang=\"ko\" content=\"\\'리튬\\'의 네이버 뉴스검색 결과입니다.\"> <title>리튬 : 네이버 뉴스검색</title> <link rel=\"shortcut icon\" href=\"https://ssl.pstatic.net/sstatic/search/favicon/favicon_191118_pc.ico\">  <link rel=\"search\" type=\"application/opensearchdescription+xml\" href=\"https://ssl.pstatic.net/sstatic/search/opensearch-description.https.xml\" title=\"Naver\" /><link rel=\"stylesheet\" type=\"text/css\" href=\"https://ssl.pstatic.net/sstatic/search/pc/css/search1_230216.css\"> <link rel=\"stylesheet\" type=\"text/css\" href=\"https://ssl.pstatic.net/sstatic/search/pc/css/search2_230209.css\"> <link rel=\"stylesheet\" type=\"text/css\" href=\"https://ssl.pstatic.net/sstatic/search/pc/css/sp_autocomplete_220526.css\"><script type=\"text/javascript\"> if (!String.prototype.trim) { String.prototype.trim = function () { return this.replace(/^[\\\\s\\\\uFEFF\\\\xA0]+|[\\\\s\\\\uFEFF\\\\xA0]+$/g, \\'\\'); }; } if (!Array.prototype.indexOf) { Array.prototype.indexOf = function(searchElement, fromIndex) { var k; if (this == null) { throw new TypeError(\\'\"this\" is null or not defined\\'); } var o = Object(this); var len = o.length >>> 0; if (len === 0) { return -1; } var n = fromIndex | 0; if (n >= len) { return -1; } k = Math.max(n >= 0 ? n : len - Math.abs(n), 0); while (k < len) { if (k in o && o[k] === searchElement) { return k; } k++; } return -1; }; } if (!Array.prototype.filter) { Array.prototype.filter = function(func, thisArg) { \\'use strict\\'; if (!((typeof func === \\'Function\\' || typeof func === \\'function\\') && this)) throw new TypeError(); var len = this.length >>> 0, res = new Array(len), t = this, c = 0, i = -1; var kValue; if (thisArg === undefined) { while (++i !== len) { if (i in this) { kValue = t[i]; if (func(t[i], i, t)) { res[c++] = kValue; } } } } else { while (++i !== len) { if (i in this) { kValue = t[i]; if (func.call(thisArg, t[i], i, t)) { res[c++] = kValue; } } } } res.length = c; return res; }; } if (typeof(encodeURIComponent) != \"function\") { encodeURIComponent = function (s) { function toHex (n) { var hexchars = \"0123456789ABCDEF\" ; return \"%%\" + hexchars.charAt(n>>4) + hexchars.charAt(n&0xF) ; } var es = \"\" ; for (var i = 0; i < s.length;) { var c = s.charCodeAt(i++) ; if ((c&0xF800) == 0xD800) { var sc = s.charCodeAt(i++) ; c = ((c-0xD800)<<10) + (sc-0xDC00) + 0x10000 ; } if (!(c&~0x7F)) { if ((c>=65&&c<=90) || (c>=97&&c<=122) || (c>=48&&c<=57) || (c>=45&&c<=46) || c==95 || c==33 || c==126 || (c>=39&&c<=42)) es += String.fromCharCode(c) ; else es += toHex(c) ; } else if (!(c&~0x7FF)) es += toHex(0xC0+(c>>6)) + toHex(c&0x3F) ; else if (!(c&~0xFFFF)) es += toHex(0xE0+(c>>12)) + toHex(0x80+(c>>6&0x3F)) + toHex(0x80+(c&0x3F)) ; else es += toHex(0xF0+(c>>18)) + toHex(0x80+(c>>12&0x3F)) + toHex(0x80+(c>>6&0x3F)) + toHex(0x80+(c&0x3F)) ; } return es ; } } naver = window.naver || {}; naver.search = naver.search || {}; naver.search.abt_param = \"\"; var g_D = 0 ; naver.search.error = (function () { var errorList = Array() ; return { add : function (s) { errorList.push(s) ; }, clear : function () { delete errorList ; }, get : function (s) { return errorList ; }, getString : function (d) { if (typeof d === \\'undefined\\') d = \\'|\\' ; return errorList.join(d) ; } } })(); naver.search.cookie = (function () { return { set : function (key, value, expire, domain) { var cookie = key + \"=\" + escape(value); if (typeof expire !== \\'undefined\\') { if (expire instanceof Date) { cookie = cookie + \"; expires=\" + expire.toUTCString(); } else { var exdate = new Date((new Date()).getTime() + expire*1000); cookie = cookie + \"; expires=\" + exdate.toUTCString(); } } cookie = cookie + \"; path=/\"; if (domain != null) { cookie = cookie + \"; domain=\" + domain; } document.cookie = cookie; }, get : function (key) { var cookie_list = document.cookie.split(/\\\\s*;\\\\s*/); for (var i = 0; i < cookie_list.length; i++) { var tmp_list = cookie_list[i].split(\"=\"); var c_key = tmp_list[0].trim(); var c_value = tmp_list[1]; if (key == c_key) { return unescape(c_value); } } return null; } } })(); naver.search.https = window.location.protocol == \"https:\"; naver.search.meta_referrer = 0; var _nx_js_load = (function () { var scrs = {} ; return function (script, callback) { scrs[script] = {} ; scrs[script].domscript = document.createElement(\\'script\\'); scrs[script].domscript.src = script ; if (callback) scrs[script].callback = (callback instanceof Array) ? callback : [callback]; scrs[script].domscript.onloadDone = false; scrs[script].domscript.onload = function() { scrs[script].domscript.onloadDone = true; if (scrs[script].callback) { for (var i = 0; i < scrs[script].callback.length; i++) { scrs[script].callback[i]() ; } } scrs[script].domscript.onload = scrs[script].domscript.onreadystatechange = null; } ; scrs[script].domscript.onreadystatechange = function() { if ( (\"loaded\" === scrs[script].domscript.readyState || \"complete\" === scrs[script].domscript.readyState) && !scrs[script].domscript.onloadDone ) { scrs[script].domscript.onload(); } } ; document.getElementsByTagName(\\'head\\')[0].appendChild(scrs[script].domscript); }; })() ; var nx_js_defer_load = (function() { var info = {} ; return function(scrname, callback, t) { var nx_load_once = (function() { return function(scrname) { if (info[scrname].t > 0) setTimeout(function() { _nx_js_load(scrname, info[scrname].callback) ; }, t) ; else _nx_js_load(scrname, info[scrname].callback) ; } ; })(); if (t < 0) t = 0 ; if (info[scrname]) { n = info[scrname].length; for (var i = 0; i < n; i++) { if (info[scrname][i] == callback) return ; } if (t < info[scrname].t) info[scrname].t = t ; } else { info[scrname] = {} ; info[scrname].callback = [] ; info[scrname].t = t ; jindo.$Fn(function() { nx_load_once(scrname) ; }).attach(window, \"load\") ; } info[scrname].callback.push(callback) ; }; })(); function nx_js_lazyload(scripts, onload, is_serial) { if (!(scripts instanceof Array)) { scripts = [scripts]; } if (is_serial) { function load_next() { if (scripts.length == 0) { onload(); return; } _nx_js_load( scripts.shift(), load_next ) ; } load_next(); } else { var load_check = function() { var num_js = scripts.length; return function() { num_js--; if (num_js <= 0) { onload(); } } }(); for (var i = 0; i < scripts.length; i++) { _nx_js_load( scripts[i], load_check ) ; } } } function nx_defer_eval (id) { var codeElement = document.getElementById(id), code = codeElement.innerHTML; eval(code.replace(/\\\\/\\\\*/, \\'\\').replace(/\\\\*\\\\//, \\'\\')); } </script><script> try { document.execCommand(\\'BackgroundImageCache\\', false, true); } catch(e) {} if (top.frames.length!=0 || window!=top) window.open(location, \"_top\") ; naver = window.naver || {}; naver.search = naver.search || {}; naver.search.ext = naver.search.ext || {}; naver.search.map_api = { v2 : \"https://ssl.pstatic.net/sstatic.map/openapi/openapi_v23.js\", v3 : \"https://ssl.pstatic.net/sstatic.map/openapi/maps3.js\" } ; var nx_au_cookie_domain = \"search.naver.com\" ; var nx_mobile_agent = 0 ; var headerfooter_query = \"리튬\" ; var headerfooter_query_encoded = \"%EB%A6%AC%ED%8A%AC\" ; var headerfooter_time_year = 2023 ; var headerfooter_time_month = 3 ; var headerfooter_time_day = 13 ; var headerfooter_time_hour = 9 ; var headerfooter_time_minute = 50 ; var headerfooter_time_second = 40 ; var headerfooter_time_wday = 1 ; var headerfooter_time_year_s = \"2023\" ; var headerfooter_time_month_s = \"03\" ; var headerfooter_time_day_s = \"13\" ; var headerfooter_time_hour_s = \"09\" ; var headerfooter_time_minute_s = \"50\" ; var headerfooter_time_second_s = \"40\" ; var headerfooter_time_wday_s = \"1\" ; var g_ssc = \"tab.news.all\" ; var g_query = \"리튬\" ; var g_puid = \"isHzhsp0YiRssTBoRvGssssssro-396520\" ; var g_suid = \"y4i6uF+l0TXRfRedU+Jj6w==\" ; var g_tab = \"news\" ; var g_stab = \"news\" ; var g_crt = naver.search.abt_param; var g_nx_splugin ; document.documentElement.setAttribute(\\'data-useragent\\', window.navigator.userAgent.toLowerCase()) ; document.documentElement.setAttribute(\\'data-platform\\', window.navigator.platform.toLowerCase()) ; var g_er_image, g_er_count = 0 ; function g_er (msg) { if (g_er_count++ > 0) return ; g_er_image = new Image() ; g_er_image.src = \"http://er.search.naver.com/er?f=\"+g_tab+\"&w=\"+g_stab+\"&q=%EB%A6%AC%ED%8A%AC&u=\"+encodeURIComponent(document.location)+\"&m=\"+encodeURIComponent(msg) ; } function trim_space (q) { var head_re = /^ */; var tail_re = / *$/; q = q.replace(head_re, \"\"); q = q.replace(tail_re, \"\"); return q; } function trim_crlf (q) { var crlf = /[\\\\r|\\\\n]/ ; q = q.replace(crlf, \"\") ; return q ; } function include_script (type, defer, src, charset) { var script = document.createElement(\"script\") ; script.type = type, script.defer = defer ; script.src = src ; if (charset) script.charset = charset ; else script.charset = \\'utf-8\\' ; document.getElementsByTagName(\\'head\\')[0].appendChild(script) ; return script ; } function include_style (src, charset) { var h = document.getElementsByTagName(\"head\")[0] ; var l = document.createElement(\\'link\\') ; l.type = \\'text/css\\' ; l.rel = \\'stylesheet\\' ; if (charset) l.charset = charset ; else l.charset = \\'utf-8\\' ; l.media = \\'screen\\' ; l.href = src ; h.appendChild(l) ; } function bt (id, after) { document.getElementById(id).src = after ; } function urlencode (q) { return encodeURIComponent(q).replace(/%20/g, \"+\").replace(/[!~\\'()]/g, function(c) { return \\'%\\' + c.charCodeAt(0).toString(16).toUpperCase() ; }); } function urldecode (q) { return decodeURIComponent(q.replace(/\\\\+/g, \" \")); } function urlexpand (url) { var href = document.location.href ; if (url == \"\") return href ; if (url.match(/^[-.A-Za-z]+:/)) return url ; if (url.charAt(0) == \\'#\\') return href.split(\"#\")[0] + url ; if (url.charAt(0) == \\'?\\') return href.split(\"?\")[0] + url ; if (url.charAt(0) == \\'/\\') return href.replace(/([^:\\\\/])\\\\/.*$/, \"$1\") + url ; return href.substring(0, href.lastIndexOf(\"/\")+1) + url ; } function tt_sub_disable (o) { if (typeof(o.tt_sub) == \"undefined\") return false ; if ((typeof(o.tt_sub) == \"object\") && (o.tt_sub.length)) { var i ; for (var i=0; i<o.tt_sub.length; i++) o.tt_sub[i].disabled = true ; } else o.tt_sub.disabled = true ; return true ; } function cpip () { var evt, sx = sy = px = py = -1 ; try { evt = window.event ; } catch (e) {} try { sx=evt.clientX-document.body.clientLeft, sy=evt.clientY-document.body.clientTop ; } catch (e) {} try { px=document.body.scrollLeft+(sx<0?0:sx), py=document.documentElement.scrollTop+(sy<0?0:sy) ; } catch (e) {} try { if (evt.pageX) px=evt.pageX ; if (evt.pageY) py=evt.pageY ; } catch (e) {} return \"px=\"+px+\"&py=\"+py+\"&sx=\"+sx+\"&sy=\"+sy ; } function nxGetCommonCRParam () { return \"p=\"+urlencode(g_puid)+\"&q=\"+urlencode(g_query)+\"&ie=utf8&rev=1&ssc=\"+urlencode(g_ssc)+\"&f=\"+urlencode(g_tab)+\"&w=\"+urlencode(g_stab)+\"&s=\"+urlencode(g_suid)+\"&time=\"+urlencode((new Date()).getTime())+g_crt ; } function getCRRankingByParam (p, info) { if (typeof info == \\'undefined\\' || info == null) return 0 ; var cr = 0 ; try { var y, z ; var y = p.split(\\'&\\') ; for (var i = 0; i < y.length; i++) { if (z = y[i].split(\\'=\\')) { if (z[0] == \\'a\\') { for (var j = 0; j < info.length; j++) { var a = info[j].area.split(/[*.]/)[0]; if (z[1].substr(0, a.length) == a) { cr = j + 1 ; break ; } } break ; } } } } catch (e) { } return cr ; } function getCRRanking (p) { var cr = 0 ; if (typeof naver.search.section == \\'undefined\\') return cr ; if (typeof naver.search.section.main != \\'undefined\\') cr = getCRRankingByParam(p, naver.search.section.main) ; if (cr) return cr ; if (typeof naver.search.section.main2 != \\'undefined\\') cr = getCRRankingByParam(p, naver.search.section.main2) ; return cr ; } function isOutlink (u) { if (!u || u.indexOf(\"://\") < 0) return false; var b = (u.search(/^\\\\w*:\\\\/\\\\/([^:/?]*\\\\.|)*(?!(ad)?cr\\\\.)[^.:/?]+\\\\.+naver\\\\.com(:\\\\d*)?(\\\\/|$)/) < 0);  return b; } function nxGetCRURL (m, a, b, c, d, e) { var p = \"\" ; var u ; if (c==undefined && d==undefined && e==undefined) { p = (a==undefined?\"\":\"&\"+a) + (b==undefined || a.indexOf(\"u=\")==0 || a.indexOf(\"&u=\") > 0 ?\"\":\"&u=\"+urlencode(b)) ; u = b ; } else { p = (a==undefined ? \"\" : \"&a=\"+urlencode(a)) + (b==undefined ? \"\" : \"&r=\"+urlencode(b)) + (c==undefined ? \"\" : \"&i=\"+urlencode(c)) + (d==undefined ? \"\" : \"&u=\"+urlencode(d)) + (e==undefined ? \"\" : \"&\"+e) ; u = d ; } if (! p) return null ; if (0 && u && u.indexOf(\"/search.naver?\") >= 0) { var r = /((?:^|&)u=)([^&]*%2Fsearch.naver%3F(?:[^%&]|%[^2]|%2[^3])*)/; var pu = p.match(r); pu = pu && pu[2] ? pu[2] : \\'\\';  p = p.replace(r, \\'$1\\' + pu); } var url ; if (naver.search.https) { url = (naver.search.meta_referrer ? \"/p/crd\" : \"/p/cr\") + \"/rd\"; if (m != 0) m = 1; } else { out = isOutlink(u); url = \"http://cr.naver.com\" + (g_D && out ? \"/nr\" : \"/rd\"); if (m != 0) m = g_D && out ? 2 : 1; } url += \"?m=\" + m + \"&\" + cpip() + \"&\" + nxGetCommonCRParam() + p; return url; } function tCR (a, b, c, d, e) { var l = nxGetCRURL(0, a, b, c, d, e) ; var cr = getCRRanking(l) ; if (cr > 0) l = l + \"&cr=\" + cr ; if (document.images) (new Image()).src = l ; else document.location = l ; return false ; } function gCR (u, a, r, i, e, t) { if (u) u = urlexpand(u) ; var l = nxGetCRURL(1, a, r, i, u, e) ; var o = document.createElement(\"a\") ; var cr = getCRRanking(l) ; if (cr > 0) l = l + \"&cr=\" + cr ; if (o.click) { o.href = l ; o.style.display = \"none\" ; document.body.appendChild(o) ; o.click() ; } else document.location = l ; } function goCR (o, p, t) { var p0 = o.getAttribute && o.getAttribute(\"crp\"), u = o.href, u0 = u ; if (p0 && u.indexOf(p0)>0 && u.match(/\\\\/(rd|nr)\\\\?/)) { u = u0 = o.getAttribute && o.getAttribute(\"cru\") || u ; p = p0 ; } p0 = p ; tt_sub_disable(o) ; if (p.indexOf(\"u=javascript\") >= 0) t = true ; /* no frame/iframe but new window */ var n = (o.ownerDocument==document && o.target && o.target!=\"_self\" && o.target!=\"_parent\" && o.target!=\"_top\") && !(window.location.protocol&&window.location.protocol.indexOf(\"https:\")==0) ; var cr = getCRRanking(p) ; if (cr > 0) p = p + \"&cr=\" + cr ;  u = nxGetCRURL(t?0:(n?-1:1), p, u) ; if (u && !u.match(/m=0&/)) { if (o.setAttribute) { if (p0) o.setAttribute(\"crp\", p0) ; if (u0) o.setAttribute(\"cru\", u0) ; if (g_D && naver.search.https && naver.search.meta_referrer && o.href && isOutlink(o.href)) o.setAttribute(\"rel\", \"noreferrer\"); } var a = o.innerHTML ; o.href = u ; if (o.innerHTML != a) o.innerHTML = a ; } else if (document.images) (new Image()).src = u ; return true ; } function goOtherCR (o, p) { return goCR(o, p, false) ; } function goOtherTCR (o, p) { return goCR(o, p, true) ; } function get_form_url (o) { var url = o.getAttribute(\"action\") ; if (url == null) url = \"\" ; var e, n = 0 ; for (var i=0; i<o.elements.length; i++) { e = o.elements[i] ; if (e.disabled || !e.name) continue ; url += (n++>0?\"&\":url.indexOf(\"?\")<0?\"?\":url.indexOf(\"?\")<url.length-1?\"&\":\"\") + encodeURIComponent(e.name) + \"=\" + encodeURIComponent(e.value) ; } return url ; } function formCR (o, area, rank, id) { if (typeof o == \\'string\\') o = document.getElementById(o) ; var target = o.getAttribute(\"target\") ; if (target && target!=\"_self\" && target!=\"_parent\" && target!=\"_top\" || /^post$/i.test(o.getAttribute(\"method\"))) { tCR(area, rank, id) ; o.submit() ; return false ; } var url = get_form_url(o) ; var a = document.createElement(\"a\") ; a.href = url ; var p = area != undefined ? \"a=\" + area : \"\" ; if (rank != undefined) p += (p?\"&\":\"\") + \"r=\" + encodeURIComponent(rank) ; if (id != undefined) p += (p?\"&\":\"\") + \"i=\" + encodeURIComponent(id) ; if (url != undefined) p += (p?\"&\":\"\") + \"u=\" + encodeURIComponent(urlexpand(url)) ; goCR(a, p) ; if (navigator.userAgent.indexOf(\\'MSIE\\') > 0) { a.style.display = \\'none\\' ; o.appendChild(a) ; a.click() ; } else document.location = a.href ; return false ; } function rank_val (rank, name, sign, number, ad_onair) { this.rank = rank ; this.name = name ; this.sign = sign ; this.number = number ; this.ad_onair = ad_onair ; } function rr_hotquery_val (titleImg, totalLink, ad_onair) { this.titleImg = titleImg ; this.totalLink = totalLink ; this.ad_onair = ad_onair ; } function rr_append () { for (var i=0; i<rr_list.length; i++) if (rr_list[i].qname==hotqry_Name && rr_list[i].dir==hotqry_Dir) return 0 ; var o = { order:hotqry_Order, contid:hotqry_ContID, qname:hotqry_Name, dir:hotqry_Dir, toprank:hotqry_TopRank, rankdown:hotqry_RankDown, clicklog:hotqry_ClickLog, toprank_idx:toprank_idx, lowrank_idx:lowrank_idx, topranklist:toprank, lowranklist:lowrank_idx>=0?lowrank:null } ; rr_list = rr_list.concat(o) ; return 1 ; } var msg_hidden_idle=null; function msg (id) { if(msg_hidden_idle) clearInterval(msg_hidden_idle); if(id) { var mid=document.getElementById(id); mid.style.display=\\'\\'; mid.style.visibility=\\'visible\\'; } } function msg_hidden (id, f) { if(f) hidden(id); else msg_hidden_idle=setInterval(\"hidden(\\'\"+id+\"\\')\",100); } function hidden (id) { var mid=document.getElementById(id); mid.style.display=\\'none\\'; mid.style.visibility=\\'hidden\\'; } function nx_check_basic () { return ; } function nx_set_cookie (name, value, expire, domain) { var cookie = name + \"=\" + escape(value); if (expire != null) { if (expire instanceof Date) { cookie = cookie + \"; expires=\" + expire.toUTCString(); } else { var exdate = new Date((new Date()).getTime() + expire*1000); cookie = cookie + \"; expires=\" + exdate.toUTCString(); } } cookie = cookie + \"; path=/\"; if (domain != null) { cookie = cookie + \"; domain=\" + domain; } document.cookie = cookie; } function nx_get_cookie (name) { var cookie_list = document.cookie.split(/\\\\s*;\\\\s*/); for (var i = 0; i < cookie_list.length; i++) { var tmp_list = cookie_list[i].split(\"=\"); var c_name = trim_space(tmp_list[0]); var c_value = tmp_list[1]; if (name == c_name) { return unescape(c_value); } } return null; } var nx_default_charset = document.charset ; function nx_form_emul_charset (form) { if (/msie/i.test(navigator.userAgent) && !/opera/i.test(navigator.userAgent)) { document.charset = form.acceptCharset ; window.onbeforeunload = function () { document.charset = nx_default_charset ; } ; } return true; } (function() { function ignore(e) { var tagName = e.target.tagName.toUpperCase(); var ignoreTargets = [\"INPUT\", \"SELECT\", \"TEXTAREA\", \"EMBED\", \"OBJECT\"]; var isKeyV = e.key.toLowerCase() === \"v\"; if (ignoreTargets.indexOf(tagName) !== -1 || isContentEditable(e)) return true; else if (e.altKey) return true; else if (e.ctrlKey && !isKeyV) return true; else if (e.metaKey && !isKeyV) return true; else if (isSpaceKey(e)) return true; return false; } function isContentEditable(e) { return e.target.contentEditable === \\'true\\'; } function stop(e) { e.preventDefault(); e.stopPropagation(); } function focus(reset) { var query = document.getElementById(\"nx_query\"); scrollTo(0, 0); if (reset) query.value = \"\"; query.focus(); query.select(); } function isSpaceKey(e) { return e.code === \"Space\" || e.key === \"Spacebar\" || e.key === \" \"; } function isShiftKeyAndSpaceKey(e) { return e.shiftKey && isSpaceKey(e); } function isF2Key(e) { return e.key === \"F2\"; } function isInsertKey(e) { return e.key === \"Insert\" || e.code === \"Insert\"; } function isSingleCharKey(e) { return e.key.length === 1; } document.addEventListener(\"keydown\", function onKeydown(e) { try { if (ignore(e)) return; if (isShiftKeyAndSpaceKey(e) || isF2Key(e) || isInsertKey(e)) { stop(e); focus(); } else if (isSingleCharKey(e)) { focus(true); } } catch (err) {} }); })(); (function(exportTarget) { var lcs_options = { nnb: true }; var lcs_version = \"v0.8.3\"; var lcs_add = {}; var lcs_bc = {}; var lcs_perf = {}; var lcs_do_count = 0; var lcs_do_retry_count = 0; var lcs_waiting_pageshow = false; function lcs_do(optional_etc) { var etc = optional_etc || {}; if (lcs_waiting_pageshow) { return; } var retry = function(__etc) { return function() { window.setTimeout(function() { lcs_waiting_pageshow = false; lcs_do(__etc); }, 10); } }(etc); if (document.readyState !== \"complete\") { var eventName = \"onpageshow\" in window ? \"pageshow\" : \"load\"; if (document.addEventListener) { window.addEventListener(eventName, retry, false); } else { window.attachEvent(\"on\"+ eventName, retry); } lcs_do_retry_count++; lcs_waiting_pageshow = true; return; } if (!window.lcs_SerName) { window.lcs_SerName = \"lcs.naver.com\"; } var rs = \"\"; var index; var itarVal; var doc = document; var wlt = window.location; var lcsServerAddr; try { lcsServerAddr = \"https://\" + window.lcs_SerName + \"/m?\"; } catch (e) { return; } try { rs = lcsServerAddr + \"u=\" + encodeURIComponent(wlt.href) + \"&e=\" + (doc.referrer ? encodeURIComponent(doc.referrer) : \"\"); } catch (e) {} try { if (typeof lcs_add.i == \"undefined\") lcs_add.i = \"\"; if (lcs_do_count < 1) { lcs_setBrowserCapa(); if (lcs_options.nnb) { lcs_setNNB(); } lcs_setConnectionType(); lcs_setNavigationTiming(); var loadEventStart = lcs_perf[\"loadEventStart\"] || 0; var loadEventEnd = lcs_perf[\"loadEventEnd\"] || 0; if (loadEventEnd < loadEventStart && lcs_do_retry_count < 3) { lcs_do_retry_count++; lcs_waiting_pageshow = true; retry(); return; } lcs_setPaintTiming(); lcs_setNavigationType(); } for (index in lcs_bc) { if (typeof lcs_bc[index] !== \"function\") rs += \"&\" + index + \"=\" + encodeURIComponent(lcs_bc[index]); } for (index in lcs_add) { itarVal = lcs_add[index]; if (itarVal !== undefined && typeof itarVal !== \"function\") { rs += \"&\" + index + \"=\" + encodeURIComponent(itarVal); } } if (lcs_do_count < 1) { for (index in lcs_perf) { itarVal = lcs_perf[index]; if (itarVal) { rs += \"&\" + index + \"=\" + encodeURIComponent(itarVal); } } } var dni = !!etc.dni ? etc.dni : getCookie(\"NAPP_DI\"); if (!!dni) { etc.dni = dni; } else { delete etc.dni; } for (index in etc) { if ( (index.length >= 3 && typeof etc[index] !== \"function\") || index === \"qy\" ) { rs += \"&\" + index + \"=\" + encodeURIComponent(etc[index]); } } if (!!etc === false || !!etc.pid === false) { var pidFallback; if (window.g_pid) { pidFallback = g_pid; } else { pidFallback = lcs_get_lpid(); } rs += \"&pid=\" + encodeURIComponent(pidFallback); } var timeStr = new Date().getTime(); rs += \"&ts=\" + timeStr; rs += \"&EOU\"; var obj = document.createElement(\"img\"); obj.src = rs; obj.onload = function() { obj.onload = null; return; }; lcs_do_count++; } catch (e) { return; } } function getCookie(name) { var value = document.cookie.match(\\'(^|;) ?\\' + name + \\'=([^;]*)(;|$)\\'); return value? value[2] : \"\"; } function lcs_do_gdid(gdid, etc) { try { if (gdid) { lcs_add[\"i\"] = gdid; if (etc) { lcs_do(etc); } else { lcs_do(); } } } catch (e) {} } function getLocalStorage() { var localStorage = null; try { localStorage = window.localStorage; } catch (e) {} try { if (!localStorage) localStorage = window.sessionStorage; } catch (e) {} return localStorage || null; } function lcs_setNNB() { try { var lsg = getLocalStorage(); if (lsg) { if (lsg.ls) { var lc = lsg.ls; if (lc.length == 13) { lcs_add[\"ls\"] = lc; return; } } var nnb = lcs_getNNBfromCookie(); if (nnb != null && nnb != \"\") { lsg.ls = nnb; lcs_add[\"ls\"] = nnb; } } } catch (e) {} } function lcs_setBrowserCapa() { lcs_bc[\"os\"] = lcs_getOS(); lcs_bc[\"ln\"] = lcs_getlanguage(); lcs_bc[\"sr\"] = lcs_getScreen(); lcs_bc[\"pr\"] = window.devicePixelRatio || 1; var windowSize = lcs_getWindowSize(); lcs_bc[\"bw\"] = windowSize[\"bw\"]; lcs_bc[\"bh\"] = windowSize[\"bh\"]; lcs_bc[\"c\"] = lcs_getColorDepth(); lcs_bc[\"j\"] = lcs_getJavaEnabled(); lcs_bc[\"k\"] = lcs_getCookieEnabled(); } function lcs_getOS() { var lcs_os = \"\"; try { navigator.platform ? (lcs_os = navigator.platform) : \"\"; } catch (e) {} return lcs_os; } function lcs_getlanguage() { var lcs_ln = \"\"; try { navigator.userLanguage ? (lcs_ln = navigator.userLanguage) : navigator.language ? (lcs_ln = navigator.language) : \"\"; } catch (e) {} return lcs_ln; } function lcs_getScreen() { var lcs_sr = \"\"; try { if (window.screen && screen.width && screen.height) { lcs_sr = screen.width + \"x\" + screen.height; } else if (window.java || self.java) { var sr = java.awt.Toolkit.getDefaultToolkit().getScreenSize(); lcs_sr = sr.width + \"x\" + sr.height; } } catch (e) { lcs_sr = \"\"; } return lcs_sr; } function lcs_getWindowSize() { var doc = document; var size = { bw: \"\", bh: \"\" }; try { size[\"bw\"] = doc.documentElement.clientWidth ? doc.documentElement.clientWidth : doc.body.clientWidth; size[\"bh\"] = doc.documentElement.clientHeight ? doc.documentElement.clientHeight : doc.body.clientHeight; } catch (e) {} return size; } function lcs_getColorDepth() { var colorDepth = \"\"; try { if (window.screen) { colorDepth = screen.colorDepth ? screen.colorDepth : screen.pixelDepth; } else if (window.java || self.java) { var c = java.awt.Toolkit.getDefaultToolkit() .getColorModel() .getPixelSize(); colorDepth = c; } } catch (e) { colorDepth = \"\"; } return colorDepth; } function lcs_getJavaEnabled() { var jsEnable = \"\"; try { jsEnable = navigator.javaEnabled() ? \"Y\" : \"N\"; } catch (e) {} return jsEnable; } function lcs_getCookieEnabled() { var cookieEnable = \"\"; try { cookieEnable = navigator.cookieEnabled ? \"Y\" : \"N\"; } catch (e) {} return cookieEnable; } function lcs_getNNBfromCookie() { try { var ck = document.cookie; var k, v, i, ArrCookies = ck.split(\";\"); for (i = 0; i < ArrCookies.length; i++) { k = ArrCookies[i].substr(0, ArrCookies[i].indexOf(\"=\")); v = ArrCookies[i].substr(ArrCookies[i].indexOf(\"=\") + 1); k = k.replace(/^\\\\s+|\\\\s+$/g, \"\"); if (k == \"NNB\") { return unescape(v); } } } catch (e) {} } function lcs_setConnectionType() { var connection = navigator.connection; if (connection) { if (connection.type && connection.type.length > 1) { lcs_add[\"ct\"] = connection.type; } if (connection.effectiveType) { lcs_add[\"ect\"] = connection.effectiveType; } } } function lcs_setNavigationTiming() { var performance = window.performance || {}; if (performance.timing) { var pt = performance.timing; for (var key in pt) { var value = pt[key]; if (typeof value === \"number\") { lcs_perf[key] = value; } } } } function lcs_setPaintTiming() { var performance = window.performance || {}; try { if (performance.getEntriesByType) { var performanceEntries = performance.getEntriesByType(\"paint\"); performanceEntries.forEach(function(performanceEntry, i, entries) { var name = performanceEntry.name; switch (name) { case \"first-paint\": case \"first-contentful-paint\": lcs_perf[name] = performanceEntry.startTime; break; default: break; } }); } else { } } catch (e) { console.warn(e); } } function lcs_setNavigationType() { var ngt = getNavigationType(); if (ngt !== undefined) { lcs_perf[\"ngt\"] = ngt; } } function getNavigationType() { var performance = window.performance || {}; if (performance.navigation) { return performance.navigation.type; } return; } var lpid = null; function lcs_create_lpid() { var uaID; var lsg = getLocalStorage(); var nnb = lsg ? lsg.ls : null; if (nnb) { uaID = nnb; } else { var nnbFallback; nnbFallback = navigator.userAgent + Math.random(); uaID = nnbFallback; } var performance = window.performance || {}; var pageURL = location.href; var currentTime; if (performance.now) { currentTime = performance.now(); } else { currentTime = new Date().getTime(); } lpid = hashFunction.md5(uaID + pageURL + currentTime); return lpid; } function lcs_get_lpid() { if (lpid === null) { lpid = lcs_create_lpid(); } return lpid; } function lcs_update_lpid() { lpid = lcs_create_lpid(); return lpid; } var hashFunction = {}; (function(exportTarget) { function safeAdd(x, y) { var lsw = (x & 0xffff) + (y & 0xffff); var msw = (x >> 16) + (y >> 16) + (lsw >> 16); return (msw << 16) | (lsw & 0xffff); } function bitRotateLeft(num, cnt) { return (num << cnt) | (num >>> (32 - cnt)); } function md5cmn(q, a, b, x, s, t) { return safeAdd( bitRotateLeft(safeAdd(safeAdd(a, q), safeAdd(x, t)), s), b ); } function md5ff(a, b, c, d, x, s, t) { return md5cmn((b & c) | (~b & d), a, b, x, s, t); } function md5gg(a, b, c, d, x, s, t) { return md5cmn((b & d) | (c & ~d), a, b, x, s, t); } function md5hh(a, b, c, d, x, s, t) { return md5cmn(b ^ c ^ d, a, b, x, s, t); } function md5ii(a, b, c, d, x, s, t) { return md5cmn(c ^ (b | ~d), a, b, x, s, t); } function binlMD5(x, len) { x[len >> 5] |= 0x80 << len % 32; x[(((len + 64) >>> 9) << 4) + 14] = len; var i; var olda; var oldb; var oldc; var oldd; var a = 1732584193; var b = -271733879; var c = -1732584194; var d = 271733878; for (i = 0; i < x.length; i += 16) { olda = a; oldb = b; oldc = c; oldd = d; a = md5ff(a, b, c, d, x[i], 7, -680876936); d = md5ff(d, a, b, c, x[i + 1], 12, -389564586); c = md5ff(c, d, a, b, x[i + 2], 17, 606105819); b = md5ff(b, c, d, a, x[i + 3], 22, -1044525330); a = md5ff(a, b, c, d, x[i + 4], 7, -176418897); d = md5ff(d, a, b, c, x[i + 5], 12, 1200080426); c = md5ff(c, d, a, b, x[i + 6], 17, -1473231341); b = md5ff(b, c, d, a, x[i + 7], 22, -45705983); a = md5ff(a, b, c, d, x[i + 8], 7, 1770035416); d = md5ff(d, a, b, c, x[i + 9], 12, -1958414417); c = md5ff(c, d, a, b, x[i + 10], 17, -42063); b = md5ff(b, c, d, a, x[i + 11], 22, -1990404162); a = md5ff(a, b, c, d, x[i + 12], 7, 1804603682); d = md5ff(d, a, b, c, x[i + 13], 12, -40341101); c = md5ff(c, d, a, b, x[i + 14], 17, -1502002290); b = md5ff(b, c, d, a, x[i + 15], 22, 1236535329); a = md5gg(a, b, c, d, x[i + 1], 5, -165796510); d = md5gg(d, a, b, c, x[i + 6], 9, -1069501632); c = md5gg(c, d, a, b, x[i + 11], 14, 643717713); b = md5gg(b, c, d, a, x[i], 20, -373897302); a = md5gg(a, b, c, d, x[i + 5], 5, -701558691); d = md5gg(d, a, b, c, x[i + 10], 9, 38016083); c = md5gg(c, d, a, b, x[i + 15], 14, -660478335); b = md5gg(b, c, d, a, x[i + 4], 20, -405537848); a = md5gg(a, b, c, d, x[i + 9], 5, 568446438); d = md5gg(d, a, b, c, x[i + 14], 9, -1019803690); c = md5gg(c, d, a, b, x[i + 3], 14, -187363961); b = md5gg(b, c, d, a, x[i + 8], 20, 1163531501); a = md5gg(a, b, c, d, x[i + 13], 5, -1444681467); d = md5gg(d, a, b, c, x[i + 2], 9, -51403784); c = md5gg(c, d, a, b, x[i + 7], 14, 1735328473); b = md5gg(b, c, d, a, x[i + 12], 20, -1926607734); a = md5hh(a, b, c, d, x[i + 5], 4, -378558); d = md5hh(d, a, b, c, x[i + 8], 11, -2022574463); c = md5hh(c, d, a, b, x[i + 11], 16, 1839030562); b = md5hh(b, c, d, a, x[i + 14], 23, -35309556); a = md5hh(a, b, c, d, x[i + 1], 4, -1530992060); d = md5hh(d, a, b, c, x[i + 4], 11, 1272893353); c = md5hh(c, d, a, b, x[i + 7], 16, -155497632); b = md5hh(b, c, d, a, x[i + 10], 23, -1094730640); a = md5hh(a, b, c, d, x[i + 13], 4, 681279174); d = md5hh(d, a, b, c, x[i], 11, -358537222); c = md5hh(c, d, a, b, x[i + 3], 16, -722521979); b = md5hh(b, c, d, a, x[i + 6], 23, 76029189); a = md5hh(a, b, c, d, x[i + 9], 4, -640364487); d = md5hh(d, a, b, c, x[i + 12], 11, -421815835); c = md5hh(c, d, a, b, x[i + 15], 16, 530742520); b = md5hh(b, c, d, a, x[i + 2], 23, -995338651); a = md5ii(a, b, c, d, x[i], 6, -198630844); d = md5ii(d, a, b, c, x[i + 7], 10, 1126891415); c = md5ii(c, d, a, b, x[i + 14], 15, -1416354905); b = md5ii(b, c, d, a, x[i + 5], 21, -57434055); a = md5ii(a, b, c, d, x[i + 12], 6, 1700485571); d = md5ii(d, a, b, c, x[i + 3], 10, -1894986606); c = md5ii(c, d, a, b, x[i + 10], 15, -1051523); b = md5ii(b, c, d, a, x[i + 1], 21, -2054922799); a = md5ii(a, b, c, d, x[i + 8], 6, 1873313359); d = md5ii(d, a, b, c, x[i + 15], 10, -30611744); c = md5ii(c, d, a, b, x[i + 6], 15, -1560198380); b = md5ii(b, c, d, a, x[i + 13], 21, 1309151649); a = md5ii(a, b, c, d, x[i + 4], 6, -145523070); d = md5ii(d, a, b, c, x[i + 11], 10, -1120210379); c = md5ii(c, d, a, b, x[i + 2], 15, 718787259); b = md5ii(b, c, d, a, x[i + 9], 21, -343485551); a = safeAdd(a, olda); b = safeAdd(b, oldb); c = safeAdd(c, oldc); d = safeAdd(d, oldd); } return [a, b, c, d]; } function binl2rstr(input) { var i; var output = \"\"; var length32 = input.length * 32; for (i = 0; i < length32; i += 8) { output += String.fromCharCode((input[i >> 5] >>> i % 32) & 0xff); } return output; } function rstr2binl(input) { var i; var output = []; output[(input.length >> 2) - 1] = undefined; for (i = 0; i < output.length; i += 1) { output[i] = 0; } var length8 = input.length * 8; for (i = 0; i < length8; i += 8) { output[i >> 5] |= (input.charCodeAt(i / 8) & 0xff) << i % 32; } return output; } function rstrMD5(s) { return binl2rstr(binlMD5(rstr2binl(s), s.length * 8)); } function rstrHMACMD5(key, data) { var i; var bkey = rstr2binl(key); var ipad = []; var opad = []; var hash; ipad[15] = opad[15] = undefined; if (bkey.length > 16) { bkey = binlMD5(bkey, key.length * 8); } for (i = 0; i < 16; i += 1) { ipad[i] = bkey[i] ^ 0x36363636; opad[i] = bkey[i] ^ 0x5c5c5c5c; } hash = binlMD5(ipad.concat(rstr2binl(data)), 512 + data.length * 8); return binl2rstr(binlMD5(opad.concat(hash), 512 + 128)); } function rstr2hex(input) { var hexTab = \"0123456789abcdef\"; var output = \"\"; var x; var i; for (i = 0; i < input.length; i += 1) { x = input.charCodeAt(i); output += hexTab.charAt((x >>> 4) & 0x0f) + hexTab.charAt(x & 0x0f); } return output; } function str2rstrUTF8(input) { return unescape(encodeURIComponent(input)); } function rawMD5(s) { return rstrMD5(str2rstrUTF8(s)); } function hexMD5(s) { return rstr2hex(rawMD5(s)); } function rawHMACMD5(k, d) { return rstrHMACMD5(str2rstrUTF8(k), str2rstrUTF8(d)); } function hexHMACMD5(k, d) { return rstr2hex(rawHMACMD5(k, d)); } function md5(string, key, raw) { if (!key) { if (!raw) { return hexMD5(string); } return rawMD5(string); } if (!raw) { return hexHMACMD5(key, string); } return rawHMACMD5(key, string); } exportTarget.md5 = md5; })(hashFunction); exportTarget.lcs_do = lcs_do; exportTarget.lcs_do_gdid = lcs_do_gdid; exportTarget.lcs_get_lpid = lcs_get_lpid; exportTarget.lcs_update_lpid = lcs_update_lpid; exportTarget.lcs_version = lcs_version; })(window); if (window.addEventListener) window.addEventListener(\"load\", function() { lcs_do({\"pid\": \"isHzhsp0YiRssTBoRvGssssssro-396520\", \"ssc\":\"tab.news.all\"}) }, false) ; else lcs_do({\"pid\": \"isHzhsp0YiRssTBoRvGssssssro-396520\", \"ssc\":\"tab.news.all\"}) ; </script> <script type=\"text/javascript\" src=\"https://ssl.pstatic.net/sstatic/sdyn.js?f=/au/pc/_nx/jindo_1.5.3_171116.js+/search/js/nhn.Component.js+/search/js/jindo.Component.1.1.0.js+/search/js/jindo.component.library_120927.js+/au/s/pc/_common/jindo/jindo.Rolling_140526.js+/au/s/pc/_search/news_auto_refresh/nhn.news.srchopt.news_auto_refresh_140829.js+/fe/sfe/_common/pc/nhn.common_211014_a.js+/fe/sfe/nx_jquery/pc/nx_jquery_221215.js+/fe/meerkat/logger/sfe/naver.common.meerkat.logger.sfePc_221027.js+/fe/sfe/naver_autocomplete/pc/naver.common.atcmp.naver_web_230216.js+/fe/sfe/web-vitals/web-vitals_230223.js+/fe/sfe/scrollLog/Controller_220714.js&amp;o=search\" crossorigin=\"anonymous\"></script>  <script> 0 && naver.common.meerkat.logger.observe(); function nx_add_event_handler (event, func) { $Fn(func).attach(document, event) ; } </script><script type=\"text/javascript\"> function nx_form_submit (f) { if (g_D || 0) f.action = \"\" ; if (typeof naver.search.option !== \\'undefined\\') naver.search.option.append_params(f, [\\'qdt\\', \\'qvt\\']); return true ; } </script><script type=\"text/javascript\"> var g_site = \"\" ; function document_write (s) { document.write(s) ; } nhn.jsLazyLoad = { include: function(a, b, c) { nx_js_lazyload(a, b, 0) ; } } ; nx_js_defer_load(\"https://ssl.pstatic.net/sstatic/au/s/pc/_others/nxtt/search_om.js\", function() {NXTT.div=document.getElementById(\"nxtt_div\");}, 50); </script></head> <body class=\\'wrap-new api_animation tabsch tabsch_news\\'> <div id=nxtt_div style=\"display:none;position:absolute;border-width:0;z-index:11000\"></div> <div id=\"u_skip\"> <a href=\"#lnb\"><span>메뉴 영역으로 바로가기</span></a> <a href=\"#content\"><span>본문 영역으로 바로가기</span></a> </div> <div id=\"wrap\"> <div id=\"header_wrap\" role=\"heading\"> <div class=\"api_floating_header\">   <div class=\"gnb_wrap\"> <div class=\"header_group\"> <div class=\"search_area\"> <h1 class=\"logo\"><a href=\"https://www.naver.com\" onclick=\"return goOtherCR(this, \\'a=sta.naver&amp;r=&amp;i=&amp;u=\\'+urlencode(this.href));\" class=\"link\"><i class=\"spnew ico_logo\">NAVER</i></a></h1> <form id=\"nx_search_form\" name=\"search\" action=\"?\" method=\"get\" role=\"search\" onsubmit=\"return nx_form_submit(this)\"> <fieldset class=\"greenwindow\"> <legend>검색</legend> <input type=\"hidden\" name=\"sm\" value=\"tab_hty.top\"> <input type=\"hidden\" name=\"where\" value=\"news\"> <div class=\"greenbox\"> <input type=\"text\" id=\"nx_query\" name=\"query\" class=\"box_window\" maxlength=255 accesskey=\"s\" value=\"리튬\" autocomplete=\"off\" placeholder=\"검색어를 입력해 주세요.\" data-atcmp-element> </div> <input type=\"hidden\" name=\"oquery\" value=\"리튬\"> <input type=\"hidden\" name=\"tqi\" value=\"isHzhsp0YiRssTBoRvGssssssro-396520\"> <input type=\"hidden\" value=\"\" name=\"acq\" disabled> <input type=\"hidden\" value=\"\" name=\"acr\" disabled> <input type=\"hidden\" value=\"\" name=\"qdt\" disabled> <input type=\"hidden\" value=\"\" name=\"acir\" disabled> <input type=\"hidden\" value=\"\" name=\"os\" disabled> <input type=\"hidden\" value=\"\" name=\"bid\" disabled> <input type=\"hidden\" value=\"\" name=\"pkid\" disabled> <input type=\"hidden\" value=\"\" name=\"eid\" disabled> <input type=\"hidden\" value=\"\" name=\"mra\" disabled>  <div class=\"setkr_area\"> <a id=\"ke_kbd_btn\" role=\"button\" href=\"#\" class=\"bt_setkr\" aria-pressed=\"false\" onclick=\"return tCR(\\'a=sch.ime\\');\"><i class=\"spnew ico_keyboard\">한글 입력기</i></a> <div id=\"_nx_kbd\" style=\"display:none;\"></div> </div> <script> (function() { var startApplication = function() { var jsUrl = \"https://ssl.pstatic.net/sstatic/au/pc/ime/ime_201105.js\"; var ime; jQuery(\"#ke_kbd_btn\").on(\"click\", function(){ require([jsUrl], function(IMEKeyboard) { if (ime) { ime.toggle(); return; } ime = new IMEKeyboard({selector: { TOGGLE_BTN: \"#ke_kbd_btn\", CONTENTS_AREA: \"#_nx_kbd\", INPUT: \"#nx_query\" }}).toggle(); }, function () { alert(\"네트워크 상태가 안 좋아 한영입력기를 불러오지 못했습니다.\\\\n잠시 후 다시 시도해 주세요.\"); }); }); }; naver.common.load_js(window.require ? null : naver.common.gv.REQUIRE_JS, startApplication, true, 150); })(); </script> <div class=\"autocomplete\"> <a role=\"button\" href=\"#\" class=\"bt_atcp _btn_arw\" id=\"nautocomplete\" aria-pressed=\"false\" data-atcmp-element><i class=\"spnew ico_arrow\">자동완성 레이어</i></a> <div class=\"ly_atcmp\" id=\"nx_autoframe_top\" style=\"display:none\" data-atcmp-element> <div class=\"api_atcmp_wrap\"> <div class=\"atcmp_fixer _recent_layer\" style=\"display:none;\"> <div class=\"atcmp_header _recent_header\"> <strong class=\"tit\">최근검색어</strong> <div class=\"option\"> <a role=\"button\" href=\"#\" class=\"item _delAll\" aria-pressed=\"false\">전체삭제</a> </div> </div> <div class=\"atcmp_container\"> <ul class=\"kwd_lst _recent\"> <li class=\"item _item\" data-rank=\"@rank@\" data-template-type=\"history\" data-keyword=\"@in_txt@\"> <a href=\"#\" class=\"kwd\"> <span class=\"fix\"><span class=\"common_ico_kwd\"><i class=\"imsc ico_search\"></i></span><span>@txt@</span></span> </a> <span class=\"etc\"> <em class=\"date\">@date@.</em> <a href=\"#\" role=\"button\" class=\"bt_item _del\" aria-pressed=\"false\"><i class=\"imsc ico_del\">삭제</i></a> </span> </li> </ul> <div class=\"kwd_info kwd_off _offMsg\" style=\"display: none;\">검색어 저장 기능이 꺼져 있습니다.<br><span class=\"kwd_dsc\">설정이 초기화 된다면 <a onclick=\"return goOtherCR(this,\\'a=sly.help&amp;r=&amp;i=&amp;u=\\'+urlencode(this.href));\" href=\"https://help.naver.com/support/alias/search/word/word_29.naver\" target=\"_blank\" class=\"kwd_help\">도움말</a>을 확인해주세요.</span></div> <div class=\"kwd_info kwd_none _recentNone\" style=\"display: none;\">최근 검색어 내역이 없습니다.<br><span class=\"kwd_dsc\">설정이 초기화 된다면 <a onclick=\"return goOtherCR(this,\\'a=sly.help&amp;r=&amp;i=&amp;u=\\'+urlencode(this.href));\" href=\"https://help.naver.com/support/alias/search/word/word_29.naver\" target=\"_blank\" class=\"kwd_help\">도움말</a>을 확인해주세요.</span></div> </div> <div class=\"atcmp_footer\"> <span class=\"side_opt_area\"> <span class=\"opt_item\"><a onclick=\"return goOtherCR(this,\\'a=sly.help&amp;r=&amp;i=&amp;u=\\'+urlencode(this.href));\" href=\"https://help.naver.com/support/alias/search/word/word_29.naver\" target=\"_blank\">도움말</a></span> </span> <span class=\"rside_opt_area\"> <span class=\"opt_item\"> <a href=\"#\" class=\"close _keywordOnOff\">자동저장 끄기</a> </span> </span> </div> </div> <div class=\"atcmp_fixer _atcmp_layer\" style=\"display:none;\"> <div class=\"atcmp_container _words\"> <div class=\"atcmp_correct type_lotto _answer\" data-template-type=\"answer_3\" data-code=\"@code@\" data-keyword=\"@1@\"> <a href=\"#\" class=\"link_item\"> <span class=\"common_ico_kwd\"><i class=\"imsc ico_search\"></i></span> <div class=\"dsc_area\"> <span class=\"tit\">@5@회 로또당첨번호</span> <span class=\"dsc\"> <span class=\"item\">동행복권 제공</span> </span> </div> <span class=\"etc_area\"> <span class=\"etc lotto\"> <em class=\"n@6@\">@6@</em><em class=\"n@7@\">@7@</em><em class=\"n@8@\">@8@</em><em class=\"n@9@\">@9@</em><em class=\"n@10@\">@10@</em><em class=\"n@11@\">@11@</em><em class=\"imsc_bf bonus n@12@\">@12@</em> </span> </span> </a> </div> <div class=\"atcmp_correct type_exchange _answer\" data-template-type=\"answer_9\" data-code=\"@code@\" data-keyword=\"@1@\"> <a href=\"#\" class=\"link_item @11@\"> <span class=\"common_ico_kwd\"><i class=\"imsc ico @12@\">@14@</i></span> <div class=\"dsc_area\"> <span class=\"tit\">@txt@<span class=\"sub\">@currency@</span></span> <span class=\"dsc\"> <span class=\"item\"><i class=\"imsc ico_arr\"></i>@8@(@9@%)</span> </span> </div> <span class=\"etc_area\"> <span class=\"etc\"><em class=\"num\">@6@</em>원</span> </span> </a> </div> <div class=\"atcmp_correct type_weather _answer\" data-template-type=\"answer_11\" data-code=\"@code@\" data-keyword=\"@1@\"> <a href=\"#\" class=\"link_item @12@\"> <span class=\"common_ico_kwd\"><i class=\"imsc ico_search\"></i></span> <div class=\"dsc_area\"> <span class=\"tit\">@txt@</span> <span class=\"dsc\"> <span class=\"item\">@7@, @message@</span> </span> </div> <span class=\"etc_area\"> <span class=\"etc\"> <span class=\"ico_weather\"><i class=\"imsc ico ico@iconNo@\">@7@</i></span> <em class=\"degree\">@8@<sup class=\"celsius\">°</sup></em> </span> </span> </a> </div> <div class=\"atcmp_correct type_site _answer\" data-template-type=\"answer_17\" data-code=\"@code@\" data-keyword=\"@1@\"> <a href=\"@5@\" class=\"link_item\" target=\"_blank\"> <span class=\"common_ico_kwd\"><i class=\"imsc ico_url\"></i></span> <div class=\"dsc_area\"> <span class=\"tit\">@txt@</span> <span class=\"dsc\"> <span class=\"item\">@5@</span> </span> </div> <span class=\"etc_area\"> <span class=\"etc\">바로가기</span> </span> </a> </div> <ul class=\"kwd_lst _kwd_list\"> <li class=\"item _item\" data-rank=\"@rank@\" data-template-type=\"suggestion\" data-keyword=\"@in_txt@\"> <a href=\"#\" class=\"kwd\"> <span class=\"fix\"><span class=\"common_ico_kwd\"><i class=\"imsc ico_search\"></i></span>@txt@</span> </a> <span class=\"etc\"> <a href=\"#\" role=\"button\" class=\"bt_item _add\" aria-pressed=\"false\"><i class=\"imsc ico_insert\">추가</i></a> </span> </li> <li class=\"item has_correct _item\" data-rank=\"@rank@\" data-template-type=\"history\" data-keyword=\"@in_txt@\"> <a href=\"#\" class=\"kwd\"> <span class=\"fix\"><span class=\"common_ico_kwd\"><i class=\"imsc ico_search\"></i></span>@txt@</span> </a> <span class=\"etc\"> <em class=\"date\">@date@.</em> <a href=\"#\" role=\"button\" class=\"bt_item _add\" aria-pressed=\"false\"><i class=\"imsc ico_insert\">추가</i></a> </span> </li> </ul> <li class=\"item has_correct _item\" data-rank=\"@rank@\" data-intend-rank=\"@intendRank@\" data-template-type=\"intend\" data-keyword=\"@transQuery@\"> <a href=\"#\" class=\"kwd\"> <span class=\"fix\"><span class=\"common_ico_kwd\"><i class=\"imsc ico_search\"></i></span>@query@ <span class=\"context\">@intend@</span></span> </a> <span class=\"etc\"> <a href=\"#\" role=\"button\" class=\"bt_item _add\" aria-pressed=\"false\"><i class=\"imsc ico_insert\">추가</i></a> </span> </li> <div class=\"atcmp_alert _alert\"> <div class=\"dsc_election\"> <p class=\"dsc\"> <i class=\"imsc ico_election\"></i><span class=\"_alert_passage\"></span> </p> <span class=\"dsc_inner\"> <span class=\"_alert_passage2\"></span> <a href=\"#\" target=\"_blank\" class=\"link _alert_link\" onclick=\"return goOtherCR(this,\\'a=sug.vote&r=&i=&u=\\'+urlencode(this.href));\">자세히보기</a> </span> </div> </div> <div class=\"atcmp_plus _plus\"> <div class=\"dsc_plus\"> <a onclick=\"return goOtherCR(this,\\'a=sug.cxhelp&amp;r=&amp;i=&amp;u=\\'+urlencode(this.href));\" href=\"https://help.naver.com/support/alias/search/word/word_16.naver\" target=\"_blank\" class=\"link_dsc\">관심사를 반영한 컨텍스트 자동완성<i class=\"imsc ico_help\">도움말</i></a> </div> <div class=\"switch\"> <a role=\"button\" href=\"#\" class=\"bt_switch active _plus_btn\" aria-pressed=\"false\"><i class=\"imsc ico_option\">컨텍스트 자동완성</i></a> </div> <div class=\"layer_plus _plus_layer\"> <strong class=\"tit\">컨텍스트 자동완성</strong> <div class=\"_plus_layer_isloggedin\" style=\"display:none\"> <p class=\"dsc\">ON/OFF 설정은<br>해당기기(브라우저)에 저장됩니다.</p> <div class=\"btn_area\"> <a onclick=\"return goOtherCR(this,\\'a=sug.cxhelp&amp;r=&amp;i=&amp;u=\\'+urlencode(this.href));\" href=\"https://help.naver.com/support/alias/search/word/word_16.naver\" target=\"_blank\" class=\"btn btn_view\">자세히</a> </div> </div> <div class=\"_plus_layer_isnotloggedin\" style=\"display:none\"> <p class=\"dsc\"><em class=\"txt\">동일한 시간대/연령/남녀별</em> 사용자 그룹의<br>관심사에 맞춰 자동완성을 제공합니다.</p> <div class=\"btn_area\"> <a href=\"https://nid.naver.com/nidlogin.login?url=https%3A%2F%2Fsearch.naver.com%2Fsearch.naver%3Fwhere%3Dnews%26query%3D%25EB%25A6%25AC%25ED%258A%25AC%26sort%3D1\" onclick=\"return goOtherCR(this,\\'a=sug.cxlogin&amp;r=&amp;i=&amp;u=\\'+urlencode(this.href));\" class=\"btn btn_login\">로그인</a> <a onclick=\"return goOtherCR(this,\\'a=sug.cxhelp&amp;r=&amp;i=&amp;u=\\'+urlencode(this.href));\" href=\"https://help.naver.com/support/alias/search/word/word_16.naver\" target=\"_blank\" class=\"btn btn_view\">자세히</a> </div> </div> <a href=\"#\" role=\"button\" onclick=\"return tCR(\\'a=sug.cxhide\\');\" class=\"btn_close _plus_layer_close\"><i class=\"imsc ico_close\">컨텍스트 자동완성 레이어 닫기</i></a> </div> </div> </div> <div class=\"atcmp_footer\"> <span class=\"side_opt_area\"> <span class=\"opt_item\"><a onclick=\"return goOtherCR(this,\\'a=sug.help&amp;r=&amp;i=&amp;u=\\'+urlencode(this.href));\" href=\"https://help.naver.com/alias/search/word/word_17.naver\" target=\"_blank\">도움말</a></span> <span class=\"opt_item\"><a onclick=\"return goOtherCR(this,\\'a=sug.report&amp;r=&amp;i=&amp;u=\\'+urlencode(this.href));\" href=\"https://help.naver.com/support/alias/search/word/word_18.naver\" target=\"_blank\" class=\"report\">신고</a></span> </span> <span class=\"rside_opt_area\"> <span class=\"opt_item\"> <a href=\"#\" class=\"close _suggestOnOff\">자동완성 끄기</a> </span> </span> </div> </div> </div> </div> </div> <button type=\"submit\" class=\"bt_search\"><i class=\"spnew ico_search\">검색</i></button> </fieldset> </form> </div></div> <div id=\"gnb\"> <script type=\"text/javascript\"> var gnb_option = { gnb_service : \"search\", gnb_template : \"gnb_utf8\", gnb_logout : encodeURIComponent(location.href), gnb_login : encodeURIComponent(location.href), gnb_brightness : 1 , gnb_item_hide_option : 0 } ; var gnb_url = \"https://ssl.pstatic.net/static.gn/templates/gnb_utf8.nhn\" ; nx_js_defer_load(gnb_url + \"?\" + headerfooter_time_year_s + headerfooter_time_month_s + headerfooter_time_day_s + headerfooter_time_hour_s, function() { getGNB() ; $Fn(function(we) { if (typeof gnbAllLayerClose == \"function\") { var bShowLayer = gnbUserLayer.show || gnbNaverMeLayer.show || gnbMoreLayer.show; var bClickGNBArea = $Element($$.getSingle(\"ul.gnb_lst\")).isEqual(we.element) || $Element($$.getSingle(\"ul.gnb_lst\")).isParentOf(we.element); if (bShowLayer && !bClickGNBArea) { gnbAllLayerClose(); } } }, this).attach(document, \"click\"); }, 0) ; </script> </div> </div><script> var nx_usain_beacon = function($) { var sent = 0; var tags = []; var usain_obj = { send: function() { if (sent > 0) { return; } sent = 1; setTimeout(function() { var perf = \"\"; perf = (function() { function _(t) { return (t?(t-window.performance.timing.navigationStart):0); }; if (typeof(window.performance) == \"undefined\") { return \"\" } if (typeof(window.performance.timing) == \"undefined\") { return \"\" } if (typeof(window.performance.navigation) == \"undefined\") { return \"\" } if (typeof(window.g_puid) == \"undefined\") { return \"\" } if (typeof(window.g_ssc) == \"undefined\") { return \"\" } var t = window.performance.timing; var n = window.performance.navigation; return \"navt=\" + [_(t.navigationStart), _(t.unloadEventStart), _(t.unloadEventEnd), _(t.redirectStart), _(t.redirectEnd), _(t.fetchStart), _(t.domainLookupStart), _(t.domainLookupEnd), _(t.connectStart), _(t.connectEnd), _(t.requestStart), _(t.responseStart), _(t.responseEnd), _(t.domLoading), _(t.domInteractive), _(t.domContentLoadedEventStart), _(t.domContentLoadedEventEnd), _(t.domComplete), _(t.loadEventStart), _(t.loadEventEnd), n.type, n.redirectCount].join(\":\") + \"&page_id=\" + encodeURIComponent(window.g_puid) + \"&ssc=\" + encodeURIComponent(window.g_ssc); }) (); if (document.location.protocol === \\'https:\\') { tags.push(\\'_ssl\\'); } else { tags.push(\\'_nossl\\'); } var agent = eg.agent(); if (agent.browser.version) { var version = \"\"; var vers = (agent.browser.version + \"\").split(\\'.\\'); version = vers[0]; if (version > 0) { tags.push(\\'ua.\\' + agent.browser.name + \\'.\\' + version); } } var queries = []; if (perf) { queries.push(perf); } queries.push(\"tags=\" + tags.join(\":\") ); var u = new Image(); u.src = \"https://er.search.naver.com/er?v=2&\" + queries.join(\"&\"); u.onload = function() { u.onload = null; } }, 250); }, add_tag: function(tag) { tags.push(tag); } }; return usain_obj; }(jQuery); </script> <div id=\"lnb\" tabindex=\"0\"><div class=\"lnb_group\"> <div class=\"lnb_menu\"> <ul role=\"tablist\" class=\"base\"> <li role=\"presentation\" class=\"menu\"><a role=\"tab\" href=\"?where=nexearch&amp;sm=tab_jum&amp;query=%EB%A6%AC%ED%8A%AC\" onclick=\"return goOtherCR(this,\\'a=tab*N.jmp&amp;r=1&amp;i=&amp;u=\\'+urlencode(this.href));\" class=\"tab\" aria-selected=\"false\">통합</a></li><li role=\"presentation\" class=\"menu\"><a role=\"tab\" href=\"?where=news&amp;sm=tab_jum&amp;query=%EB%A6%AC%ED%8A%AC\" onclick=\"return goOtherCR(this,\\'a=tab*n.now&amp;r=2&amp;i=&amp;u=\\'+urlencode(this.href));\" class=\"tab\" aria-selected=\"true\">뉴스</a></li><li role=\"presentation\" class=\"menu\"><a role=\"tab\" href=\"?where=image&amp;sm=tab_jum&amp;query=%EB%A6%AC%ED%8A%AC\" onclick=\"return goOtherCR(this,\\'a=tab*i.jmp&amp;r=3&amp;i=&amp;u=\\'+urlencode(this.href));\" class=\"tab\" aria-selected=\"false\">이미지</a></li><li role=\"presentation\" class=\"menu\"><a role=\"tab\" href=\"?where=view&amp;sm=tab_jum&amp;query=%EB%A6%AC%ED%8A%AC\" onclick=\"return goOtherCR(this,\\'a=tab*e.jmp&amp;r=4&amp;i=&amp;u=\\'+urlencode(this.href))\" class=\"tab\" aria-selected=\"false\">VIEW</a></li><li role=\"presentation\" class=\"menu\"><a role=\"tab\" href=\"?where=kin&amp;sm=tab_jum&amp;query=%EB%A6%AC%ED%8A%AC\" onclick=\"return goOtherCR(this,\\'a=tab*k.jmp&amp;r=5&amp;i=&amp;u=\\'+urlencode(this.href));\" class=\"tab\" aria-selected=\"false\">지식iN</a></li><li role=\"presentation\" class=\"menu\"><a role=\"tab\" href=\"?where=influencer&amp;sm=tab_jum&amp;query=%EB%A6%AC%ED%8A%AC\" onclick=\"return goOtherCR(this,\\'a=tab*F.jmp&amp;r=6&amp;i=&amp;u=\\'+urlencode(this.href));\" class=\"tab\" aria-selected=\"false\">인플루언서</a></li><li role=\"presentation\" class=\"menu\"><a role=\"tab\" href=\"?where=video&amp;sm=tab_jum&amp;query=%EB%A6%AC%ED%8A%AC\" onclick=\"return goOtherCR(this,\\'a=tab*v.jmp&amp;r=7&amp;i=&amp;u=\\'+urlencode(this.href));\" class=\"tab\" aria-selected=\"false\">동영상</a></li><li role=\"presentation\" class=\"menu\"><a role=\"tab\" href=\"https://search.shopping.naver.com/search/all?where=all&amp;frm=NVSCTAB&amp;query=%EB%A6%AC%ED%8A%AC\" onclick=\"return goOtherCR(this,\\'a=tab*S.jmp&amp;r=8&i=&amp;u=\\'+urlencode(this.href));\" class=\"tab\" aria-selected=\"false\" target=\"_blank\">쇼핑</a></li><li role=\"presentation\" class=\"menu\"><a role=\"tab\" href=\"https://dict.naver.com/search.nhn?dicQuery=%EB%A6%AC%ED%8A%AC&amp;query=%EB%A6%AC%ED%8A%AC&amp;target=dic&amp;query_utf=&amp;isOnlyViewEE=\" onclick=\"return goOtherCR(this,\\'a=tab*L.jmp&amp;r=9&amp;i=&amp;u=\\'+urlencode(this.href));\" class=\"tab\" aria-selected=\"false\" target=\"_blank\">어학사전</a></li><li role=\"presentation\" class=\"menu\"><a role=\"tab\" href=\"https://map.naver.com/v5/search/%EB%A6%AC%ED%8A%AC\" onclick=\"return goOtherCR(this,\\'a=tab*M.jmp&amp;r=10&amp;i=&amp;u=\\'+urlencode(this.href));\" class=\"tab\" aria-selected=\"false\" target=\"_blank\">지도</a></li> </ul> <div class=\"group_more\"> <div id=\"_nx_lnb_more\" class=\"more_area\"> <a role=\"button\" href=\"#\" class=\"lnb_more _more_btn\" aria-pressed=\"false\" onclick=\"tCR(jQuery(this).attr(\\'aria-pressed\\') === \\'false\\' ? \\'a=tab.more\\' : \\'a=tmr.less\\');\"> <i class=\"spnew ico_lnb_more\">더보기</i> </a> <div class=\"addon\"> <ul> <li role=\"presentation\" class=\"menu\"><a role=\"tab\" href=\"https://search.shopping.naver.com/book/search?query=%EB%A6%AC%ED%8A%AC\" onclick=\"return goOtherCR(this,\\'a=tmr*B.jmp&amp;r=1&amp;i=&amp;u=\\'+urlencode(this.href));\" class=\"tab\" aria-selected=\"false\" target=\"_blank\">도서</a></li><li role=\"presentation\" class=\"menu\"><a role=\"tab\" href=\"https://vibe.naver.com/search?query=%EB%A6%AC%ED%8A%AC\" onclick=\"return goOtherCR(this,\\'a=tmr*m.jmp&amp;r=2&amp;i=&amp;u=\\'+urlencode(this.href));\" class=\"tab\" aria-selected=\"false\" target=\"_blank\">뮤직</a></li><li role=\"presentation\" class=\"menu\"><a role=\"tab\" href=\"?where=kdic&amp;sm=tab_jum&amp;query=%EB%A6%AC%ED%8A%AC\" onclick=\"return goOtherCR(this,\\'a=tmr*K.jmp&amp;r=3&amp;i=&amp;u=\\'+urlencode(this.href));\" class=\"tab\" aria-selected=\"false\">지식백과</a></li><li role=\"presentation\" class=\"menu\"><a role=\"tab\" href=\"https://audioclip.naver.com/search/all?keyword=%EB%A6%AC%ED%8A%AC\" onclick=\"return goOtherCR(this,\\'a=tmr*A.jmp&amp;r=4&amp;i=&amp;u=\\'+urlencode(this.href));\" class=\"tab\" aria-selected=\"false\" target=\"_blank\">오디오클립</a></li><li role=\"presentation\" class=\"menu\"><a role=\"tab\" href=\"https://academic.naver.com/search.naver?field=0&amp;query=%EB%A6%AC%ED%8A%AC\" onclick=\"return goOtherCR(this,\\'a=tmr*a.jmp&amp;r=5&amp;i=&amp;u=\\'+urlencode(this.href));\" class=\"tab\" aria-selected=\"false\" target=\"_blank\">학술정보</a></li> </ul> <a role=\"button\" href=\"#\" class=\"btn_option _option_btn\" onclick=\"return tCR(\\'a=tmr.optn\\');\" aria-pressed=\"false\" style=\"display:none\">검색옵션</a> </div> </div> </div> </div> </div><div class=\"lnb_util\"> <ul class=\"list_util\"> <li> <a role=\"button\" href=\"#\" id=\"spiButton2\" class=\"spnew_bf bt_share naver-splugin\" onclick=\"return tCR(\\'a=lnb.shr\\');\" data-evkey=\"search\" data-service-name=\"통합검색\" data-style=\"unity-v2\" data-use-short-url=\"on\" data-me-display=\"off\" data-mail-display=\"off\" data-option=\"{baseElement:\\'spiButton2\\', layerPosition:\\'outside-bottom\\', align:\\'right\\', top:4, left:0, marginLeft:8, marginTop:10}\" data-blog-url=\"https://search.naver.com/search.naver?query=%EB%A6%AC%ED%8A%AC&amp;sm=svc_pin.blog&amp;sort=1&amp;where=news\" data-cafe-url=\"https://search.naver.com/search.naver?query=%EB%A6%AC%ED%8A%AC&amp;sm=svc_pin.cafe&amp;sort=1&amp;where=news\" data-cafe-source-form=\"2\" data-memo-url=\"https://search.naver.com/search.naver?query=%EB%A6%AC%ED%8A%AC&amp;sm=svc_pin.memo&amp;sort=1&amp;where=news\" data-calendar-url=\"https://search.naver.com/search.naver?query=%EB%A6%AC%ED%8A%AC&amp;sm=svc_pin.cal&amp;sort=1&amp;where=news\" data-twitter-url=\"https://search.naver.com/search.naver?query=%EB%A6%AC%ED%8A%AC&amp;sm=twp_pin&amp;sort=1&amp;where=news\" data-facebook-url=\"https://search.naver.com/search.naver?query=%EB%A6%AC%ED%8A%AC&amp;sm=fbp_pin&amp;sort=1&amp;where=news\" data-band-url=\"https://search.naver.com/search.naver?query=%EB%A6%AC%ED%8A%AC&amp;sm=bdp_pin&amp;sort=1&amp;where=news\" >공유</a> </li> </ul> </div><script type=\"text/javascript\"> nx_js_defer_load(\"https://ssl.pstatic.net/spi/js/release/ko_KR/splugin.js?\" + headerfooter_time_year_s + headerfooter_time_month_s + headerfooter_time_day_s, function() { g_nx_splugin = SocialPlugIn_Core({ \"evKey\" : \"search\", \"serviceName\" : \"뉴스검색\" }) ; }, 150) ; function splugin_oninitialize(sTargetId) { var elTarget = document.getElementById(sTargetId) ; var sUrl = $$.getSingle(\\'a._sp_each_url\\', elTarget ).href ; var sTitle = $Element($$.getSingle(\\'._sp_each_title\\', elTarget)).text() ; var sSource = $Element($$.getSingle(\\'._sp_each_source\\', elTarget)) ; if (sSource) sSource = sSource.text() ; return { \"url\" : sUrl, \"title\" : sTitle, \"option\" : {baseElement:sTargetId + \\'_base\\', layerPosition:\\'outside-bottom\\', align:\\'right\\', top:18, left:-28, marginLeft:8, marginTop:10}, \"me\" : { display : \"off\" }, \"mail\" : { display : \"off\" }, \"sourceName\" : sSource } ; } </script><script> nx_js_defer_load(\"//search.like.naver.com/static/js/likeIt.list.js?\" + headerfooter_time_year_s + headerfooter_time_month_s + headerfooter_time_day_s, function() { nhn.LikeIt.list.util.init({ sId : \"SEARCH\", sDomain : \"//search.like.naver.com\", bMobile : false }) ; }, 150) ; </script></div></div><script> (function() { var startApplication = function() { var jsFileURL = \"https://ssl.pstatic.net/sstatic/au/pc/tab/SearchTab_210504.js\"; var require = window.require.config({ \"context\": \"search_tab_module\", \"paths\": { \"SearchTab\": jsFileURL.replace(/\\\\.js$/, \"\"), } }); define(\"jquery\", [], function() { return jQuery; }); require([\"SearchTab\"], function(SearchTab) { var BASE_FLOATING_WIDTH = 1181; var $window = jQuery(window); var $lnb = jQuery(\"#lnb\"); var $headerWrap = jQuery(\"#header_wrap\"); var tab = new SearchTab($window, $lnb) .on(\"checkWindowWidth\", function(e){ if (e.windowWidth >= BASE_FLOATING_WIDTH) { $headerWrap.addClass(\"type_fixed\"); tab.activateFloating(); } else { tab.deactivateFloating(); $headerWrap .removeClass(\"type_fixed\") .removeClass(\"type_hide\"); } }) .on(\"hideTab\", function(){ if (window.g_nx_splugin && typeof window.g_nx_splugin.hide === \"function\") { window.g_nx_splugin.hide(); } }) .on(\"changeState\", function(e){ $headerWrap.toggleClass(\"type_hide\", e.isUnderBaseline); if (e.isUnderBaseline) { $headerWrap.addClass(\"type_animation\"); } }); window.naver = window.naver || {}; window.naver.pc = window.naver.pc || {}; window.naver.pc.search_tab = tab; }); }; naver.common.load_js(window.require ? null : naver.common.gv.REQUIRE_JS, startApplication, true, 150); })(); </script><script type=\"text/javascript\"> naver.search.section = { \"main\": [{\"area\": \"tab\", \"rank\": 1}], \"main2\": [{\"area\": \"rsk_top*q\", \"rank\": 1},{\"area\": \"bnr\", \"rank\": 2}],  \"find_section_list\": function(column, area) { if (!this[column]) return []; return this[column].filter(function(a) { return a.area.indexOf(area) === 0; }); } }; </script></div><div id=\"container\" role=\"main\"> <div id=\"content\" class=\"pack_group\"> <h1 class=\"blind\">리튬 뉴스검색 결과</h1> <div id=\"main_pack\" class=\"main_pack\"><script type=\"text/javascript\"> var nx_cr_area_info = [{\"n\": \"tab\", \"r\": 1}]; </script><script type=\"text/javascript\"> naver.search.option = {} ; naver.search.option.params = {\"sort\" : \"1\"} ; naver.search.option.append_params = (function () { return function (f, exclude) { if (exclude == undefined) exclude = []; for (var k in naver.search.option.params) { if (exclude.indexOf(k) >= 0) continue; var v = naver.search.option.params[k] ; var input = document.createElement(\"input\"); input.type = \"hidden\"; input.name = k ; input.value = v ; f.appendChild(input); } return true ; } ; })() ; naver.search.option.get_params = (function () { return function () { var option_params = \"\" ; for (var k in naver.search.option.params) { var v = naver.search.option.params[k]; option_params = option_params.concat(\"&\" + k + \"=\" + urlencode(v)); } return option_params ; } ; })() ; </script><form id=\"news_form\" name=\"news_form\" action=\"?\"> <input type=\"hidden\" id=\"where\" name=\"where\" value=\"news\"> <input type=\"hidden\" id=\"query\" name=\"query\" value=\"리튬\"> <input type=\"hidden\" id=\"sm\" name=\"sm\" value=\"tab_opt\"> <input type=\"hidden\" id=\"sort\" name=\"sort\" value=\"1\"> <input type=\"hidden\" id=\"photo\" name=\"photo\" value=\"0\"> <input type=\"hidden\" id=\"field\" name=\"field\" value=\"0\"> <input type=\"hidden\" id=\"pd\" name=\"pd\" value=\"0\"> <input type=\"hidden\" id=\"ds\" name=\"ds\" value=\"\"> <input type=\"hidden\" id=\"de\" name=\"de\" value=\"\"> <input type=\"hidden\" id=\"docid\" name=\"docid\" value=\"\"> <input type=\"hidden\" id=\"related\" name=\"related\" value=\"0\"> <input type=\"hidden\" id=\"mynews\" name=\"mynews\" value=\"0\"> <input type=\"hidden\" id=\"office_type\" name=\"office_type\" value=\"0\"> <input type=\"hidden\" id=\"office_section_code\" name=\"office_section_code\" value=\"0\"> <input type=\"hidden\" id=\"news_office_checked\" name=\"news_office_checked\" value=\"\"> <input type=\"hidden\" id=\"nso\" name=\"nso\" value=\"\"> <input type=\"hidden\" id=\"is_sug_officeid\" name=\"is_sug_officeid\" value=\"0\"> </form> <script type=\"text/javascript\"> function news_form_init() { document.forms[\"news_form\"][\"query\"].value = decodeURIComponent(\"%EB%A6%AC%ED%8A%AC\"); document.forms[\"news_form\"][\"sort\"].value = \"1\"; document.forms[\"news_form\"][\"photo\"].value = \"0\"; document.forms[\"news_form\"][\"field\"].value = \"0\"; document.forms[\"news_form\"][\"pd\"].value = \"0\"; document.forms[\"news_form\"][\"ds\"].value = \"\"; document.forms[\"news_form\"][\"de\"].value = \"\"; document.forms[\"news_form\"][\"docid\"].value = \"\"; document.forms[\"news_form\"][\"related\"].value = \"0\"; document.forms[\"news_form\"][\"mynews\"].value = \"0\"; document.forms[\"news_form\"][\"office_type\"].value = \"0\"; document.forms[\"news_form\"][\"office_section_code\"].value = \"0\"; document.forms[\"news_form\"][\"news_office_checked\"].value = decodeURIComponent(\"\"); document.forms[\"news_form\"][\"nso\"].value = \"\"; document.forms[\"news_form\"][\"is_sug_officeid\"].value = \"0\"; } function news_get_nso_parameters(so, p, begin_date, end_date, a) { var so_p = \"\"; var p_p = \"\"; if (so == 0) { so_p = \"r\"; } else if (so == 1) { so_p = \"dd\"; } else { so_p = \"r\"; } if (p == 0) { p_p = \"all\"; } else if (p == 4) { p_p = \"1d\"; } else if (p == 1) { p_p = \"1w\"; } else if (p == 2) { p_p = \"1m\"; } else if (p == 6) { p_p = \"6m\"; } else if (p == 5) { p_p = \"1y\"; } else if (p == 3) { begin_date = begin_date.replace(/\\\\./gi, \"\"); end_date = end_date.replace(/\\\\./gi, \"\"); var base_from = 19900101; var base_to = 20230313; var from = begin_date; var to = end_date; if (eval(from - to) > 0) { from = end_date; to = begin_date; } if (eval(base_to - from) < 0) { from = base_to; to = base_to; } if (eval(base_from - to) > 0) { from = base_from; to = base_from; } if (eval(base_from - from) > 0) { from = base_from; } if (eval(base_to - to) < 0) { to = base_to; } p_p = \"from\" + from + \"to\" + to; } else { p_p = \"all\"; } return \"so:\" + so_p + \",p:\" + p_p ; } function news_submit_sort_option(sort_option, cr_area) { news_form_init(); document.getElementById(\"news_form\")[\"sort\"].value = sort_option; document.getElementById(\"news_form\")[\"nso\"].value = news_get_nso_parameters(sort_option, \"0\", \"\", \"\", \"0\"); var area = \"opt.\"+cr_area; formCR(\"news_form\", area); } function news_set_period(p) { news_form_init(); var period = p; var cr_area = \"periodall\"; var period_option = 0; if (period == \"all\") { document.getElementById(\"news_form\")[\"pd\"].value = \"0\"; cr_area = \"opt.all\"; period_option = 0; } else if (period == \"1week\") { document.getElementById(\"news_form\")[\"pd\"].value = \"1\"; cr_area = \"opt.1week\"; period_option = 1; } else if (period == \"1month\"){ document.getElementById(\"news_form\")[\"pd\"].value = \"2\"; cr_area = \"opt.1mon\"; period_option = 2; } else if (period == \"3month\"){ document.getElementById(\"news_form\")[\"pd\"].value = \"13\"; cr_area = \"opt.3mon\"; period_option = 13; } else if (period == \"6month\"){ document.getElementById(\"news_form\")[\"pd\"].value = \"6\"; cr_area = \"opt.6mon\"; period_option = 6; } else if (period == \"1day\") { document.getElementById(\"news_form\")[\"pd\"].value = \"4\"; cr_area = \"opt.1day\"; period_option = 4; } else if (period == \"1year\") { document.getElementById(\"news_form\")[\"pd\"].value = \"5\"; cr_area = \"opt.1yr\"; period_option = 5; } else if (period == \"hour1\") { document.getElementById(\"news_form\")[\"pd\"].value = \"7\"; cr_area = \"opt.1hr\"; period_option = 7; } else if (period == \"hour2\") { document.getElementById(\"news_form\")[\"pd\"].value = \"8\"; cr_area = \"opt.2hr\"; period_option = 8; } else if (period == \"hour3\") { document.getElementById(\"news_form\")[\"pd\"].value = \"9\"; cr_area = \"opt.3hr\"; period_option = 9; } else if (period == \"hour4\") { document.getElementById(\"news_form\")[\"pd\"].value = \"10\"; cr_area = \"opt.4hr\"; period_option = 10; } else if (period == \"hour5\") { document.getElementById(\"news_form\")[\"pd\"].value = \"11\"; cr_area = \"opt.5hr\"; period_option = 11; } else if (period == \"hour6\") { document.getElementById(\"news_form\")[\"pd\"].value = \"12\"; cr_area = \"opt.6hr\"; period_option = 12; } document.getElementById(\"news_form\")[\"ds\"].value = \"\"; document.getElementById(\"news_form\")[\"de\"].value = \"\"; document.getElementById(\"news_form\")[\"nso\"].value = news_get_nso_parameters(\"1\", period_option, \"\", \"\", \"0\"); formCR(\"news_form\", cr_area); } function news_submit_period_option_custom(sStartDate, sEndDate) { news_form_init(); document.getElementById(\"news_form\")[\"pd\"].value = 3; document.getElementById(\"news_form\")[\"ds\"].value = sStartDate; document.getElementById(\"news_form\")[\"de\"].value = sEndDate; document.getElementById(\"news_form\")[\"nso\"].value = news_get_nso_parameters(\"1\", 3, sStartDate, sEndDate, \"0\"); formCR(\"news_form\", \"opt.set\"); } function news_submit_category_option(category_option) { news_form_init(); document.getElementById(\"news_form\")[\"photo\"].value = category_option; var cr_area = \"\"; if (category_option == 1) { cr_area = \"photo\"; } else if (category_option == 2) { cr_area = \"video\"; } else if (category_option == 3) { cr_area = \"paper\"; } else if (category_option == 4) { cr_area = \"release\"; } else if (category_option == 5) { cr_area = \"auto\"; } else { cr_area = \"type\"; } var area = \"opt.\"+cr_area; formCR(\"news_form\", area); } function news_submit_reporter_option() { news_form_init(); var reporter_name = document.getElementById(\"news_input_reporter_name\"); if (reporter_name.value == \"\") { alert(\"기자명은 필수 입력사항입니다.\"); return; } document.getElementById(\"news_form\")[\"field\"].value = 2; document.getElementById(\"news_form\")[\"query\"].value = reporter_name.value; var area = \"opt.reporterapply\"; formCR(\"news_form\", area); } function news_submit_un_reporter_option() { news_form_init(); document.getElementById(\"news_form\")[\"field\"].value = 0; document.getElementById(\"news_form\")[\"sm\"].value = \"tab_rep\"; var area = \"nws*g.res\"; formCR(\"news_form\", area); } function news_submit_only_reporter_option(office_id, reporter_name, office_section_code) { news_form_init(); document.getElementById(\"news_form\")[\"field\"].value = 2; document.getElementById(\"news_form\")[\"sm\"].value = \"tab_rep\"; document.getElementById(\"news_form\")[\"query\"].value = reporter_name; if( office_id != \"\" ){ document.getElementById(\"news_form\")[\"mynews\"].value = 1; document.getElementById(\"news_form\")[\"office_type\"].value = 1; document.getElementById(\"news_form\")[\"office_section_code\"].value = office_section_code; document.getElementById(\"news_form\")[\"news_office_checked\"].value = office_id; } var area = \"nws*g.rep\"; formCR(\"news_form\", area); } function news_submit_office_option(type, ccode, code) { news_form_init(); var cr_area = \"\"; if( type == \"all\") { document.getElementById(\"news_form\")[\"mynews\"].value = 0; document.getElementById(\"news_form\")[\"office_type\"].value = \"\"; document.getElementById(\"news_form\")[\"office_section_code\"].value = \"\"; document.getElementById(\"news_form\")[\"news_office_checked\"].value = \"\"; cr_area = \"journal\"; } else if( type == \"section\" ) { document.getElementById(\"news_form\")[\"mynews\"].value = 1; document.getElementById(\"news_form\")[\"office_type\"].value = \"1\"; document.getElementById(\"news_form\")[\"office_section_code\"].value = ccode; document.getElementById(\"news_form\")[\"news_office_checked\"].value = code; cr_area = \"journalcategory\"; } else if( type == \"abc\" ) { document.getElementById(\"news_form\")[\"mynews\"].value = 1; document.getElementById(\"news_form\")[\"office_type\"].value = \"2\"; document.getElementById(\"news_form\")[\"office_section_code\"].value = ccode; document.getElementById(\"news_form\")[\"news_office_checked\"].value = code; cr_area = \"journalbylexico\"; } var area = \"opt.\"+cr_area; formCR(\"news_form\", area); } function news_submit_suggest_office_option(type, code, office_keyword) { news_form_init(); var area = \"upr.jop\"; document.getElementById(\"news_form\")[\"sm\"].value = \"tab_clk.jou\"; if( type == 1 ){ document.getElementById(\"news_form\")[\"mynews\"].value = 1; document.getElementById(\"news_form\")[\"office_type\"].value = \"1\"; document.getElementById(\"news_form\")[\"office_section_code\"].value = \"1\"; document.getElementById(\"news_form\")[\"news_office_checked\"].value = decodeURIComponent(code); document.getElementById(\"news_form\")[\"query\"].value = decodeURIComponent(office_keyword); } else{ document.getElementById(\"news_form\")[\"is_sug_officeid\"].value = code; if( code == \"0\" ){ area = \"upr.jos\"; } else{ document.getElementById(\"news_form\")[\"mynews\"].value = 0; document.getElementById(\"news_form\")[\"office_type\"].value = \"\"; document.getElementById(\"news_form\")[\"office_section_code\"].value = \"\"; document.getElementById(\"news_form\")[\"news_office_checked\"].value = \"\"; } } formCR(\"news_form\", area); } </script> <div id=\"snb\"> <div class=\"api_group_option_filter _search_option_simple_wrap\" style=\"\"> <div class=\"list_option_filter type_solo\"> <div role=\"listbox\" class=\"option_area type_sort\" aria-label=\"정렬 필터를 선택하세요\"> <a href=\"#\" role=\"option\" class=\"item\" aria-selected=\"false\" onclick=\"news_submit_sort_option(0, \\'simcls\\'); return false;\">관련도순</a> <a href=\"#\" role=\"option\" class=\"item\" aria-selected=\"true\" onclick=\"news_submit_sort_option(1, \\'newcls\\'); return false;\">최신순</a> <a href=\"#\" role=\"option\" class=\"item\" aria-selected=\"false\" onclick=\"news_submit_sort_option(2, \\'oldcls\\'); return false;\">오래된순</a> </div><div class=\"option_filter\"> <a href=\"javascript:;\" role=\"button\" aria-expanded=\"false\" aria-haspopup=\"listbox\" class=\"btn_option _search_option_open_btn\" aria-label=\"검색옵션 열기\" onclick=\"tCR(\\'a=opt.unfd\\');\"><i class=\"spnew ico_filter\"></i>옵션</a> </div> </div></div><div role=\"listbox\" class=\"api_group_option_sort _search_option_detail_wrap\" style=\"display: none;\"> <button type=\"button\" class=\"spnew_bf bt_close _search_option_close_btn\" onclick=\"tCR(\\'a=opt.fold\\');\">검색옵션 닫기</button> <ul class=\"lst_option\"> <li class=\"bx lineup\"> <div class=\"bx_inner\"> <strong class=\"tit\">정렬</strong> <div role=\"tablist\" class=\"option\"> <a href=\"#\" role=\"tab\" class=\"txt\" aria-selected=\"false\" onclick=\"news_submit_sort_option(0, \\'sim\\'); return false;\">관련도순</a> <a href=\"#\" role=\"tab\" class=\"txt\" aria-selected=\"true\" onclick=\"news_submit_sort_option(1, \\'new\\'); return false;\">최신순</a> <a href=\"#\" role=\"tab\" class=\"txt\" aria-selected=\"false\" onclick=\"news_submit_sort_option(2, \\'old\\'); return false;\">오래된순</a> </div> </div></li><li class=\"bx term\"> <div class=\"bx_inner\"> <strong class=\"tit\">기간</strong> <div role=\"tablist\" class=\"option\"> <a href=\"#\" role=\"tab\" class=\"txt\" aria-selected=\"true\" onclick=\"news_set_period(\\'all\\'); return false;\">전체</a> <a href=\"#\" role=\"tab\" class=\"txt txt_option _time_select_trigger\" data-search-option-item aria-selected=\"false\" onclick=\"tCR(\\'a=opt.hour\\');\">1시간<i class=\"spnew ico_check\">옵션<em class=\"open\">펼치기</em><em class=\"close\">접기</em></i></a> <a href=\"#\" role=\"tab\" class=\"txt\" aria-selected=\"false\" onclick=\"news_set_period(\\'1day\\'); return false;\">1일</a> <a href=\"#\" role=\"tab\" class=\"txt\" aria-selected=\"false\" onclick=\"news_set_period(\\'1week\\'); return false;\">1주</a> <a href=\"#\" role=\"tab\" class=\"txt\" aria-selected=\"false\" onclick=\"news_set_period(\\'1month\\'); return false;\">1개월</a> <a href=\"#\" role=\"tab\" class=\"txt\" aria-selected=\"false\" onclick=\"news_set_period(\\'3month\\'); return false;\">3개월</a> <a href=\"#\" role=\"tab\" class=\"txt\" aria-selected=\"false\" onclick=\"news_set_period(\\'6month\\'); return false;\">6개월</a> <a href=\"#\" role=\"tab\" class=\"txt\" aria-selected=\"false\" onclick=\"news_set_period(\\'1year\\'); return false;\">1년</a> <a href=\"#\" role=\"tab\" class=\"txt txt_option _calendar_select_trigger\" data-select-trigger aria-selected=\"false\" onclick=\"tCR(\\'a=opt.cal\\');\" >직접입력<i class=\"spnew ico_check\">옵션<em class=\"open\">펼치기</em><em class=\"close\">접기</em></i></a> </div><div class=\"api_select_option _time_select_layer\" data-select-layer style=\"display:none;\"> <div class=\"select_wrap _root\"> <div class=\"group_select _list_root\"> <strong class=\"blind\">시간선택</strong> <div class=\"select_cont\"> <div class=\"select_area _scroll_wrapper\"> <div> <ul role=\"tablist\" class=\"lst_item _ul\"> <li role=\"tab\" class=\"item _li\" aria-selected=\"false\" data-value=\\'hour1\\' onclick=\"news_set_period(\\'hour1\\'); return false;\"><a href=\"javascript:;\" class=\"link\">1시간</a></li> <li role=\"tab\" class=\"item _li\" aria-selected=\"false\" data-value=\\'hour2\\' onclick=\"news_set_period(\\'hour2\\'); return false;\"><a href=\"javascript:;\" class=\"link\">2시간</a></li> <li role=\"tab\" class=\"item _li\" aria-selected=\"false\" data-value=\\'hour3\\' onclick=\"news_set_period(\\'hour3\\'); return false;\"><a href=\"javascript:;\" class=\"link\">3시간</a></li> <li role=\"tab\" class=\"item _li\" aria-selected=\"false\" data-value=\\'hour4\\' onclick=\"news_set_period(\\'hour4\\'); return false;\"><a href=\"javascript:;\" class=\"link\">4시간</a></li> <li role=\"tab\" class=\"item _li\" aria-selected=\"false\" data-value=\\'hour5\\' onclick=\"news_set_period(\\'hour5\\'); return false;\"><a href=\"javascript:;\" class=\"link\">5시간</a></li> <li role=\"tab\" class=\"item _li\" aria-selected=\"false\" data-value=\\'hour6\\' onclick=\"news_set_period(\\'hour6\\'); return false;\"><a href=\"javascript:;\" class=\"link\">6시간</a></li> </ul> </div></div></div></div></div></div><div class=\"api_select_option type_calendar _calendar_select_layer\" data-select-layer style=\"display:none;\"> <div role=\"tablist\" class=\"set_calendar\"> <span class=\"set\"> <span class=\"blind\">기간 설정시작</span> <a href=\"#\" role=\"tab\" class=\"spnew_bf ico_calendar _start_trigger selected\" aria-selected=\"true\" onclick=\"tCR(\\'a=opt.str\\');\"></a> </span> <span class=\"set etc\"> <span class=\"spnew ico_since\"></span> </span> <span class=\"set\"> <span class=\"blind\">기간 설정끝</span> <a href=\"#\" role=\"tab\" class=\"spnew_bf ico_calendar _end_trigger\" onclick=\"tCR(\\'a=opt.fin\\');\"></a> </span> </div><div class=\"select_wrap _root\"> <div class=\"group_select _list_root\"> <strong class=\"blind\">년(Year)</strong> <div class=\"select_cont\"> <div class=\"select_area _scroll_wrapper\"> <div> <ul role=\"tablist\" class=\"lst_item _ul\"></ul> </div> </div></div></div><div class=\"group_select _list_root\"> <strong class=\"blind\">월(Month)</strong> <div class=\"select_cont\"> <div class=\"select_area _scroll_wrapper\"> <div> <ul role=\"tablist\" class=\"lst_item _ul\"></ul> </div> </div></div></div><div class=\"group_select _list_root\"> <strong class=\"blind\">일(Day)</strong> <div class=\"select_cont\"> <div class=\"select_area _scroll_wrapper\"> <div> <ul role=\"tablist\" class=\"lst_item _ul\"></ul> </div> </div></div></div></div><div class=\"btn_area\"><button type=\"button\" class=\"btn_apply _apply_btn\">적용</button></div> </div></div></li><li class=\"bx view\"> <div class=\"bx_inner\"> <strong class=\"tit\">유형</strong> <div role=\"tablist\" class=\"option\"> <a href=\"#\" role=\"tab\" class=\"txt\" aria-selected=\"true\" onclick=\"news_submit_category_option(0); return false;\">전체</a> <a href=\"#\" role=\"tab\" class=\"txt\" aria-selected=\"false\" onclick=\"news_submit_category_option(1); return false;\">포토</a> <a href=\"#\" role=\"tab\" class=\"txt\" aria-selected=\"false\" onclick=\"news_submit_category_option(2); return false;\">동영상</a> <a href=\"#\" role=\"tab\" class=\"txt\" aria-selected=\"false\" onclick=\"news_submit_category_option(3); return false;\">지면기사</a> <a href=\"#\" role=\"tab\" class=\"txt\" aria-selected=\"false\" onclick=\"news_submit_category_option(4); return false;\">보도자료</a> <a href=\"#\" role=\"tab\" class=\"txt\" aria-selected=\"false\" onclick=\"news_submit_category_option(5); return false;\">자동생성기사</a> </div> </div></li> <li class=\"bx press\"> <div class=\"bx_inner\"> <strong class=\"tit\">언론사</strong> <div role=\"tablist\" class=\"option\"> <a role=\"tab\" href=\"#\" class=\"txt\" aria-selected=\"true\" onclick=\"news_submit_office_option(\\'all\\', \\'\\', \\'\\'); return false;\">전체</a> <a role=\"tab\" href=\"javascript:;\" class=\"txt txt_option _category_select_trigger\" data-select-trigger aria-selected=\"false\" onclick=\"tCR(\\'a=opt.journalcategory\\');\">언론사 분류순<i class=\"spnew ico_check\">옵션<em class=\"open\">펼치기</em><em class=\"close\">접기</em></i></a> <a role=\"tab\" href=\"javascript:;\" class=\"txt txt_option _abc_select_trigger\" data-select-trigger aria-selected=\"false\" onclick=\"tCR(\\'a=opt.journalbylexico\\');\">가나다순<i class=\"spnew ico_check\">옵션<em class=\"open\">펼치기</em><em class=\"close\">접기</em></i></a> </div><div class=\"api_select_option type_group _category_select_layer\" data-select-layer style=\"display:none;\"> <div class=\"select_wrap _root\"> <div class=\"group_select _list_root\"> <strong class=\"blind\">언론사 분류선택</strong> <div class=\"select_cont\"> <div class=\"select_area _scroll_wrapper\"> <div> <ul role=\"tablist\" class=\"lst_item _ul\"></ul> </div> </div></div></div><div class=\"group_select _list_root\"> <strong class=\"blind\">언론사선택</strong> <div class=\"select_cont\"> <div class=\"select_area _scroll_wrapper\"> <div> <ul role=\"tablist\" class=\"lst_item _ul\"></ul> </div> </div></div></div></div></div><div class=\"api_select_option type_dictionary _abc_select_layer\" data-select-layer style=\"display:none;\"> <div class=\"select_wrap _root\"> <div class=\"group_select _list_root\"> <strong class=\"blind\">가나다순 선택</strong> <div class=\"select_cont\"> <div class=\"select_area _scroll_wrapper\"> <div> <ul role=\"tablist\" class=\"lst_item _ul\"></ul> </div> </div></div></div><div class=\"group_select _list_root\"> <strong class=\"blind\">언론사선택</strong> <div class=\"select_cont\"> <div class=\"select_area _scroll_wrapper\"> <div> <ul role=\"tablist\" class=\"lst_item _ul\"></ul> </div> </div></div></div></div></div></div></li> <li class=\"bx name\"> <div class=\"bx_inner\"> <strong class=\"tit\">기자명</strong> <div class=\"option\"> <div class=\"input_area\"> <span class=\"txt_area\"><input type=\"text\" placeholder=\"기자명 입력\" class=\"input_txt _search_option_submit_input\" id=\"news_input_reporter_name\" maxlength=\"80\" value=\"\" onclick=\"tCR(\\'a=opt.reporter\\');\" onkeydown=\"if (event.keyCode==13) { news_submit_reporter_option(); return false; }\"></span> <button type=\"button\" class=\"btn_apply _search_option_submit_btn\" onclick=\"news_submit_reporter_option(); return false;\">적용</button> </div> </div> </div></li> <li class=\"bx clear\"> <div class=\"bx_inner\"> <div class=\"option\"> <a href=\"?where=news&sm=tab_opt&query=%EB%A6%AC%ED%8A%AC&nso_open=1\" class=\"btn_clear spnew_bf\" role=\"button\" onclick=\"return goOtherCR(this, \\'a=opt.reset&u=\\'+urlencode(this.href));\">옵션 초기화</a> <a href=\"https://help.naver.com/alias/news/news_43.naver\" target=\"_blank\" class=\"link_help\" onclick=\"return goOtherCR(this, \\'a=opt.help&u=\\'+urlencode(this.href));\">검색옵션 가이드<i class=\"spnew api_ico_help\"></i></a> </div> </div> </li> </ul></div></div><script> (function() { var jsFileURL = \"https://ssl.pstatic.net/sstatic/fe/sfe/searchOption/Controller_220519.js\"; var startApplication = function() { var require = window.require.config({ \"context\": \"pc_news_tab_option\", \"paths\": { \"Controller\": jsFileURL.replace(/\\\\.js$/, \"\") } }); define(\"jquery\", [], function() { return jQuery; }); require([\"Controller\"], function(Controller) { var oSearchOption = new Controller({ \"$form\": jQuery(\"#news_form\"), \"direct\": { min: { year: 1990, month: 1, date: 1 }, max: { year: new Date().getFullYear(), month: new Date().getMonth() + 1, date: new Date().getDate() } }, \"selectbox\": [ { \"depth\": 2, \"triggerSelector\": \"._category_select_trigger\", \"layerSelector\": \"._category_select_layer\", \"rootSelector\": \"._category_select_layer ._root\", \"template\": [ \"<#for(var i = 0; i < data.length; i++){#>\", \"<li role=\\\\\"tab\\\\\" class=\\\\\"item _li\\\\\" data-type=\\\\\"<#=data[i].type#>\\\\\" data-ccode=\\\\\"<#=data[i].ccode#>\\\\\" data-code=\\\\\"<#=data[i].code#>\\\\\" data-value=\\\\\"<#=data[i].code#>\\\\\"<#if(i === index){#> aria-selected=\\\\\"true\\\\\"<#}#>>\", \"<a href=\\\\\"#\\\\\" class=\\\\\"link\\\\\"><#=data[i].name#></a>\", \"</li>\", \"<#}#>\" ].join(\"\"), \"selected\": [0, 0], \"listData\": [ { \"name\": \"일간지\", \"list\": [ {\"name\":\"경향신문\", \"type\":\"section\", \"ccode\":\"1\", \"code\":\"1032\" } , {\"name\":\"국민일보\", \"type\":\"section\", \"ccode\":\"1\", \"code\":\"1005\" } , {\"name\":\"내일신문\", \"type\":\"section\", \"ccode\":\"1\", \"code\":\"2312\" } , {\"name\":\"동아일보\", \"type\":\"section\", \"ccode\":\"1\", \"code\":\"1020\" } , {\"name\":\"매일일보\", \"type\":\"section\", \"ccode\":\"1\", \"code\":\"2385\" } , {\"name\":\"문화일보\", \"type\":\"section\", \"ccode\":\"1\", \"code\":\"1021\" } , {\"name\":\"서울신문\", \"type\":\"section\", \"ccode\":\"1\", \"code\":\"1081\" } , {\"name\":\"세계일보\", \"type\":\"section\", \"ccode\":\"1\", \"code\":\"1022\" } , {\"name\":\"아시아투데이\", \"type\":\"section\", \"ccode\":\"1\", \"code\":\"2268\" } , {\"name\":\"전국매일신문\", \"type\":\"section\", \"ccode\":\"1\", \"code\":\"2844\" } , {\"name\":\"조선일보\", \"type\":\"section\", \"ccode\":\"1\", \"code\":\"1023\" } , {\"name\":\"중앙일보\", \"type\":\"section\", \"ccode\":\"1\", \"code\":\"1025\" } , {\"name\":\"천지일보\", \"type\":\"section\", \"ccode\":\"1\", \"code\":\"2041\" } , {\"name\":\"한겨레\", \"type\":\"section\", \"ccode\":\"1\", \"code\":\"1028\" } , {\"name\":\"한국일보\", \"type\":\"section\", \"ccode\":\"1\", \"code\":\"1469\" } ] } , { \"name\": \"방송/통신\", \"list\": [ {\"name\":\"가톨릭평화방송·평화신문\", \"type\":\"section\", \"ccode\":\"2\", \"code\":\"2234\" } , {\"name\":\"경인방송\", \"type\":\"section\", \"ccode\":\"2\", \"code\":\"2713\" } , {\"name\":\"광주MBC\", \"type\":\"section\", \"ccode\":\"2\", \"code\":\"2383\" } , {\"name\":\"국제뉴스\", \"type\":\"section\", \"ccode\":\"2\", \"code\":\"2291\" } , {\"name\":\"국회방송\", \"type\":\"section\", \"ccode\":\"2\", \"code\":\"2807\" } , {\"name\":\"내외경제tv\", \"type\":\"section\", \"ccode\":\"2\", \"code\":\"2544\" } , {\"name\":\"뉴스1\", \"type\":\"section\", \"ccode\":\"2\", \"code\":\"1421\" } , {\"name\":\"뉴스웍스\", \"type\":\"section\", \"ccode\":\"2\", \"code\":\"2525\" } , {\"name\":\"뉴스핌\", \"type\":\"section\", \"ccode\":\"2\", \"code\":\"2002\" } , {\"name\":\"뉴시스\", \"type\":\"section\", \"ccode\":\"2\", \"code\":\"1003\" } , {\"name\":\"대전MBC\", \"type\":\"section\", \"ccode\":\"2\", \"code\":\"2421\" } , {\"name\":\"디지틀조선TV\", \"type\":\"section\", \"ccode\":\"2\", \"code\":\"2749\" } , {\"name\":\"목포MBC\", \"type\":\"section\", \"ccode\":\"2\", \"code\":\"2735\" } , {\"name\":\"부산MBC\", \"type\":\"section\", \"ccode\":\"2\", \"code\":\"2538\" } , {\"name\":\"서울경제TV\", \"type\":\"section\", \"ccode\":\"2\", \"code\":\"2656\" } , {\"name\":\"아리랑TV\", \"type\":\"section\", \"ccode\":\"2\", \"code\":\"2363\" } , {\"name\":\"안동MBC\", \"type\":\"section\", \"ccode\":\"2\", \"code\":\"2318\" } , {\"name\":\"여수MBC\", \"type\":\"section\", \"ccode\":\"2\", \"code\":\"2745\" } , {\"name\":\"연합뉴스\", \"type\":\"section\", \"ccode\":\"2\", \"code\":\"1001\" } , {\"name\":\"연합뉴스TV\", \"type\":\"section\", \"ccode\":\"2\", \"code\":\"1422\" } , {\"name\":\"울산MBC\", \"type\":\"section\", \"ccode\":\"2\", \"code\":\"2541\" } , {\"name\":\"제주MBC\", \"type\":\"section\", \"ccode\":\"2\", \"code\":\"2743\" } , {\"name\":\"채널A\", \"type\":\"section\", \"ccode\":\"2\", \"code\":\"1449\" } , {\"name\":\"춘천MBC\", \"type\":\"section\", \"ccode\":\"2\", \"code\":\"2742\" } , {\"name\":\"팍스경제TV\", \"type\":\"section\", \"ccode\":\"2\", \"code\":\"2802\" } , {\"name\":\"포항MBC\", \"type\":\"section\", \"ccode\":\"2\", \"code\":\"2662\" } , {\"name\":\"한국경제TV\", \"type\":\"section\", \"ccode\":\"2\", \"code\":\"1004\" } , {\"name\":\"BBC\", \"type\":\"section\", \"ccode\":\"2\", \"code\":\"2741\" } , {\"name\":\"BTN불교TV\", \"type\":\"section\", \"ccode\":\"2\", \"code\":\"2423\" } , {\"name\":\"CMB광주방송\", \"type\":\"section\", \"ccode\":\"2\", \"code\":\"2508\" } , {\"name\":\"CMB대전방송\", \"type\":\"section\", \"ccode\":\"2\", \"code\":\"2450\" } , {\"name\":\"EBS\", \"type\":\"section\", \"ccode\":\"2\", \"code\":\"2099\" } , {\"name\":\"G1방송\", \"type\":\"section\", \"ccode\":\"2\", \"code\":\"2402\" } , {\"name\":\"HCN 새로넷방송\", \"type\":\"section\", \"ccode\":\"2\", \"code\":\"2708\" } , {\"name\":\"JTBC\", \"type\":\"section\", \"ccode\":\"2\", \"code\":\"1437\" } , {\"name\":\"JTV전주방송\", \"type\":\"section\", \"ccode\":\"2\", \"code\":\"2847\" } , {\"name\":\"KBS\", \"type\":\"section\", \"ccode\":\"2\", \"code\":\"1056\" } , {\"name\":\"KNN\", \"type\":\"section\", \"ccode\":\"2\", \"code\":\"2167\" } , {\"name\":\"KTV국민방송\", \"type\":\"section\", \"ccode\":\"2\", \"code\":\"2108\" } , {\"name\":\"LG헬로비전\", \"type\":\"section\", \"ccode\":\"2\", \"code\":\"2698\" } , {\"name\":\"MBC\", \"type\":\"section\", \"ccode\":\"2\", \"code\":\"1214\" } , {\"name\":\"MBC강원영동\", \"type\":\"section\", \"ccode\":\"2\", \"code\":\"2477\" } , {\"name\":\"MBC경남\", \"type\":\"section\", \"ccode\":\"2\", \"code\":\"2805\" } , {\"name\":\"MBC충북\", \"type\":\"section\", \"ccode\":\"2\", \"code\":\"2490\" } , {\"name\":\"MBN\", \"type\":\"section\", \"ccode\":\"2\", \"code\":\"1019\" } , {\"name\":\"MTN\", \"type\":\"section\", \"ccode\":\"2\", \"code\":\"2151\" } , {\"name\":\"NSP통신\", \"type\":\"section\", \"ccode\":\"2\", \"code\":\"2025\" } , {\"name\":\"OBS\", \"type\":\"section\", \"ccode\":\"2\", \"code\":\"2155\" } , {\"name\":\"SBS\", \"type\":\"section\", \"ccode\":\"2\", \"code\":\"1055\" } , {\"name\":\"SBS Biz\", \"type\":\"section\", \"ccode\":\"2\", \"code\":\"1374\" } , {\"name\":\"SK브로드밴드\", \"type\":\"section\", \"ccode\":\"2\", \"code\":\"2556\" } , {\"name\":\"TBC대구방송\", \"type\":\"section\", \"ccode\":\"2\", \"code\":\"2375\" } , {\"name\":\"TBS\", \"type\":\"section\", \"ccode\":\"2\", \"code\":\"2233\" } , {\"name\":\"TJB 대전방송\", \"type\":\"section\", \"ccode\":\"2\", \"code\":\"2451\" } , {\"name\":\"TV조선\", \"type\":\"section\", \"ccode\":\"2\", \"code\":\"1448\" } , {\"name\":\"YTN\", \"type\":\"section\", \"ccode\":\"2\", \"code\":\"1052\" } , {\"name\":\"YTN라디오\", \"type\":\"section\", \"ccode\":\"2\", \"code\":\"2251\" } , {\"name\":\"YTN사이언스\", \"type\":\"section\", \"ccode\":\"2\", \"code\":\"2221\" } ] } , { \"name\": \"경제/IT\", \"list\": [ {\"name\":\"게임톡\", \"type\":\"section\", \"ccode\":\"3\", \"code\":\"2497\" } , {\"name\":\"게임포커스\", \"type\":\"section\", \"ccode\":\"3\", \"code\":\"2351\" } , {\"name\":\"글로벌이코노믹\", \"type\":\"section\", \"ccode\":\"3\", \"code\":\"2366\" } , {\"name\":\"나이스경제\", \"type\":\"section\", \"ccode\":\"3\", \"code\":\"2810\" } , {\"name\":\"넥스트데일리\", \"type\":\"section\", \"ccode\":\"3\", \"code\":\"2141\" } , {\"name\":\"녹색경제신문\", \"type\":\"section\", \"ccode\":\"3\", \"code\":\"2499\" } , {\"name\":\"뉴스토마토\", \"type\":\"section\", \"ccode\":\"3\", \"code\":\"2119\" } , {\"name\":\"대한경제\", \"type\":\"section\", \"ccode\":\"3\", \"code\":\"2138\" } , {\"name\":\"대한금융신문\", \"type\":\"section\", \"ccode\":\"3\", \"code\":\"2282\" } , {\"name\":\"더리브스\", \"type\":\"section\", \"ccode\":\"3\", \"code\":\"2898\" } , {\"name\":\"더벨\", \"type\":\"section\", \"ccode\":\"3\", \"code\":\"2254\" } , {\"name\":\"데이터넷\", \"type\":\"section\", \"ccode\":\"3\", \"code\":\"2096\" } , {\"name\":\"데일리경제\", \"type\":\"section\", \"ccode\":\"3\", \"code\":\"2792\" } , {\"name\":\"디아이투데이\", \"type\":\"section\", \"ccode\":\"3\", \"code\":\"2213\" } , {\"name\":\"디지털데일리\", \"type\":\"section\", \"ccode\":\"3\", \"code\":\"1138\" } , {\"name\":\"디지털타임스\", \"type\":\"section\", \"ccode\":\"3\", \"code\":\"1029\" } , {\"name\":\"디지털투데이\", \"type\":\"section\", \"ccode\":\"3\", \"code\":\"2137\" } , {\"name\":\"딜라이트닷넷\", \"type\":\"section\", \"ccode\":\"3\", \"code\":\"2214\" } , {\"name\":\"매일경제\", \"type\":\"section\", \"ccode\":\"3\", \"code\":\"1009\" } , {\"name\":\"매일경제TV\", \"type\":\"section\", \"ccode\":\"3\", \"code\":\"2274\" } , {\"name\":\"머니투데이\", \"type\":\"section\", \"ccode\":\"3\", \"code\":\"1008\" } , {\"name\":\"바이라인네트워크\", \"type\":\"section\", \"ccode\":\"3\", \"code\":\"2704\" } , {\"name\":\"베타뉴스\", \"type\":\"section\", \"ccode\":\"3\", \"code\":\"2017\" } , {\"name\":\"벤처스퀘어\", \"type\":\"section\", \"ccode\":\"3\", \"code\":\"2506\" } , {\"name\":\"보안뉴스\", \"type\":\"section\", \"ccode\":\"3\", \"code\":\"2016\" } , {\"name\":\"부산제일경제\", \"type\":\"section\", \"ccode\":\"3\", \"code\":\"2515\" } , {\"name\":\"브릿지경제\", \"type\":\"section\", \"ccode\":\"3\", \"code\":\"2394\" } , {\"name\":\"블로터\", \"type\":\"section\", \"ccode\":\"3\", \"code\":\"1293\" } , {\"name\":\"비즈니스포스트\", \"type\":\"section\", \"ccode\":\"3\", \"code\":\"2374\" } , {\"name\":\"비즈워치\", \"type\":\"section\", \"ccode\":\"3\", \"code\":\"1648\" } , {\"name\":\"비즈한국\", \"type\":\"section\", \"ccode\":\"3\", \"code\":\"2480\" } , {\"name\":\"서울경제\", \"type\":\"section\", \"ccode\":\"3\", \"code\":\"1011\" } , {\"name\":\"서울파이낸스\", \"type\":\"section\", \"ccode\":\"3\", \"code\":\"2001\" } , {\"name\":\"시장경제신문\", \"type\":\"section\", \"ccode\":\"3\", \"code\":\"2528\" } , {\"name\":\"씨넷코리아\", \"type\":\"section\", \"ccode\":\"3\", \"code\":\"2405\" } , {\"name\":\"아시아경제\", \"type\":\"section\", \"ccode\":\"3\", \"code\":\"1277\" } , {\"name\":\"아시아타임즈\", \"type\":\"section\", \"ccode\":\"3\", \"code\":\"2492\" } , {\"name\":\"아유경제\", \"type\":\"section\", \"ccode\":\"3\", \"code\":\"2609\" } , {\"name\":\"아이티데일리\", \"type\":\"section\", \"ccode\":\"3\", \"code\":\"2046\" } , {\"name\":\"아주경제\", \"type\":\"section\", \"ccode\":\"3\", \"code\":\"2090\" } , {\"name\":\"앱스토리\", \"type\":\"section\", \"ccode\":\"3\", \"code\":\"2716\" } , {\"name\":\"에너지경제\", \"type\":\"section\", \"ccode\":\"3\", \"code\":\"2133\" } , {\"name\":\"에이빙뉴스\", \"type\":\"section\", \"ccode\":\"3\", \"code\":\"2015\" } , {\"name\":\"이뉴스투데이\", \"type\":\"section\", \"ccode\":\"3\", \"code\":\"2038\" } , {\"name\":\"이데일리\", \"type\":\"section\", \"ccode\":\"3\", \"code\":\"1018\" } , {\"name\":\"이코노뉴스\", \"type\":\"section\", \"ccode\":\"3\", \"code\":\"2524\" } , {\"name\":\"이투뉴스\", \"type\":\"section\", \"ccode\":\"3\", \"code\":\"2118\" } , {\"name\":\"이투데이\", \"type\":\"section\", \"ccode\":\"3\", \"code\":\"2003\" } , {\"name\":\"전자신문\", \"type\":\"section\", \"ccode\":\"3\", \"code\":\"1030\" } , {\"name\":\"정보통신신문\", \"type\":\"section\", \"ccode\":\"3\", \"code\":\"2839\" } , {\"name\":\"조선비즈\", \"type\":\"section\", \"ccode\":\"3\", \"code\":\"1366\" } , {\"name\":\"조세일보\", \"type\":\"section\", \"ccode\":\"3\", \"code\":\"1123\" } , {\"name\":\"중소기업신문\", \"type\":\"section\", \"ccode\":\"3\", \"code\":\"2296\" } , {\"name\":\"증권경제신문\", \"type\":\"section\", \"ccode\":\"3\", \"code\":\"2804\" } , {\"name\":\"초이스경제\", \"type\":\"section\", \"ccode\":\"3\", \"code\":\"2256\" } , {\"name\":\"케이벤치\", \"type\":\"section\", \"ccode\":\"3\", \"code\":\"2036\" } , {\"name\":\"코인리더스\", \"type\":\"section\", \"ccode\":\"3\", \"code\":\"2676\" } , {\"name\":\"테크노아\", \"type\":\"section\", \"ccode\":\"3\", \"code\":\"2048\" } , {\"name\":\"테크월드\", \"type\":\"section\", \"ccode\":\"3\", \"code\":\"2752\" } , {\"name\":\"테크홀릭\", \"type\":\"section\", \"ccode\":\"3\", \"code\":\"2404\" } , {\"name\":\"투데이에너지\", \"type\":\"section\", \"ccode\":\"3\", \"code\":\"2300\" } , {\"name\":\"파이낸셜뉴스\", \"type\":\"section\", \"ccode\":\"3\", \"code\":\"1014\" } , {\"name\":\"파이낸셜신문\", \"type\":\"section\", \"ccode\":\"3\", \"code\":\"2781\" } , {\"name\":\"프라임경제\", \"type\":\"section\", \"ccode\":\"3\", \"code\":\"2325\" } , {\"name\":\"프레스나인\", \"type\":\"section\", \"ccode\":\"3\", \"code\":\"2201\" } , {\"name\":\"핀포인트뉴스\", \"type\":\"section\", \"ccode\":\"3\", \"code\":\"2829\" } , {\"name\":\"한국경제\", \"type\":\"section\", \"ccode\":\"3\", \"code\":\"1015\" } , {\"name\":\"헤럴드경제\", \"type\":\"section\", \"ccode\":\"3\", \"code\":\"1016\" } , {\"name\":\"CBC뉴스\", \"type\":\"section\", \"ccode\":\"3\", \"code\":\"2785\" } , {\"name\":\"CCTV뉴스\", \"type\":\"section\", \"ccode\":\"3\", \"code\":\"2298\" } , {\"name\":\"CEO스코어데일리\", \"type\":\"section\", \"ccode\":\"3\", \"code\":\"2243\" } , {\"name\":\"CIO Korea\", \"type\":\"section\", \"ccode\":\"3\", \"code\":\"2177\" } , {\"name\":\"G밸리뉴스\", \"type\":\"section\", \"ccode\":\"3\", \"code\":\"2206\" } , {\"name\":\"ITWorld\", \"type\":\"section\", \"ccode\":\"3\", \"code\":\"2110\" } , {\"name\":\"IT비즈뉴스\", \"type\":\"section\", \"ccode\":\"3\", \"code\":\"2795\" } , {\"name\":\"NBNTV\", \"type\":\"section\", \"ccode\":\"3\", \"code\":\"2140\" } , {\"name\":\"ZDNet Korea\", \"type\":\"section\", \"ccode\":\"3\", \"code\":\"1092\" } ] } , { \"name\": \"인터넷신문\", \"list\": [ {\"name\":\"ㅍㅍㅅㅅ\", \"type\":\"section\", \"ccode\":\"4\", \"code\":\"2407\" } , {\"name\":\"가톨릭프레스\", \"type\":\"section\", \"ccode\":\"4\", \"code\":\"2545\" } , {\"name\":\"건강다이제스트\", \"type\":\"section\", \"ccode\":\"4\", \"code\":\"2454\" } , {\"name\":\"게임동아\", \"type\":\"section\", \"ccode\":\"4\", \"code\":\"2611\" } , {\"name\":\"게임조선\", \"type\":\"section\", \"ccode\":\"4\", \"code\":\"2434\" } , {\"name\":\"경인매일\", \"type\":\"section\", \"ccode\":\"4\", \"code\":\"2764\" } , {\"name\":\"고발뉴스\", \"type\":\"section\", \"ccode\":\"4\", \"code\":\"2435\" } , {\"name\":\"골프한국\", \"type\":\"section\", \"ccode\":\"4\", \"code\":\"2606\" } , {\"name\":\"공공뉴스\", \"type\":\"section\", \"ccode\":\"4\", \"code\":\"2584\" } , {\"name\":\"공생공사닷컴\", \"type\":\"section\", \"ccode\":\"4\", \"code\":\"2859\" } , {\"name\":\"광명지역신문\", \"type\":\"section\", \"ccode\":\"4\", \"code\":\"2568\" } , {\"name\":\"굿모닝경제\", \"type\":\"section\", \"ccode\":\"4\", \"code\":\"2464\" } , {\"name\":\"글로벌E\", \"type\":\"section\", \"ccode\":\"4\", \"code\":\"2763\" } , {\"name\":\"글로벌경제\", \"type\":\"section\", \"ccode\":\"4\", \"code\":\"2445\" } , {\"name\":\"글로벌에픽\", \"type\":\"section\", \"ccode\":\"4\", \"code\":\"2728\" } , {\"name\":\"금융소비자뉴스\", \"type\":\"section\", \"ccode\":\"4\", \"code\":\"2573\" } , {\"name\":\"기계설비신문\", \"type\":\"section\", \"ccode\":\"4\", \"code\":\"2895\" } , {\"name\":\"기계신문\", \"type\":\"section\", \"ccode\":\"4\", \"code\":\"2596\" } , {\"name\":\"노동과희망\", \"type\":\"section\", \"ccode\":\"4\", \"code\":\"2801\" } , {\"name\":\"노컷뉴스\", \"type\":\"section\", \"ccode\":\"4\", \"code\":\"1079\" } , {\"name\":\"노트펫\", \"type\":\"section\", \"ccode\":\"4\", \"code\":\"2511\" } , {\"name\":\"뉴데일리\", \"type\":\"section\", \"ccode\":\"4\", \"code\":\"2005\" } , {\"name\":\"뉴스드림\", \"type\":\"section\", \"ccode\":\"4\", \"code\":\"2896\" } , {\"name\":\"뉴스락\", \"type\":\"section\", \"ccode\":\"4\", \"code\":\"2779\" } , {\"name\":\"뉴스로드\", \"type\":\"section\", \"ccode\":\"4\", \"code\":\"2860\" } , {\"name\":\"뉴스메이커\", \"type\":\"section\", \"ccode\":\"4\", \"code\":\"2159\" } , {\"name\":\"뉴스민\", \"type\":\"section\", \"ccode\":\"4\", \"code\":\"2424\" } , {\"name\":\"뉴스버스\", \"type\":\"section\", \"ccode\":\"4\", \"code\":\"2897\" } , {\"name\":\"뉴스앤조이\", \"type\":\"section\", \"ccode\":\"4\", \"code\":\"2475\" } , {\"name\":\"뉴스워치\", \"type\":\"section\", \"ccode\":\"4\", \"code\":\"2673\" } , {\"name\":\"뉴스워커\", \"type\":\"section\", \"ccode\":\"4\", \"code\":\"2521\" } , {\"name\":\"뉴스웨이\", \"type\":\"section\", \"ccode\":\"4\", \"code\":\"2270\" } , {\"name\":\"뉴스웰\", \"type\":\"section\", \"ccode\":\"4\", \"code\":\"2873\" } , {\"name\":\"뉴스제주\", \"type\":\"section\", \"ccode\":\"4\", \"code\":\"2657\" } , {\"name\":\"뉴스케이프\", \"type\":\"section\", \"ccode\":\"4\", \"code\":\"2819\" } , {\"name\":\"뉴스퀘스트\", \"type\":\"section\", \"ccode\":\"4\", \"code\":\"2809\" } , {\"name\":\"뉴스클레임\", \"type\":\"section\", \"ccode\":\"4\", \"code\":\"2772\" } , {\"name\":\"뉴스톱\", \"type\":\"section\", \"ccode\":\"4\", \"code\":\"2724\" } , {\"name\":\"뉴스투데이\", \"type\":\"section\", \"ccode\":\"4\", \"code\":\"2527\" } , {\"name\":\"뉴스트리코리아\", \"type\":\"section\", \"ccode\":\"4\", \"code\":\"2893\" } , {\"name\":\"뉴스티앤티\", \"type\":\"section\", \"ccode\":\"4\", \"code\":\"2788\" } , {\"name\":\"뉴스펭귄\", \"type\":\"section\", \"ccode\":\"4\", \"code\":\"2849\" } , {\"name\":\"뉴스프리존\", \"type\":\"section\", \"ccode\":\"4\", \"code\":\"2551\" } , {\"name\":\"뉴스한국\", \"type\":\"section\", \"ccode\":\"4\", \"code\":\"2091\" } , {\"name\":\"뉴스후플러스\", \"type\":\"section\", \"ccode\":\"4\", \"code\":\"2692\" } , {\"name\":\"뉴시안\", \"type\":\"section\", \"ccode\":\"4\", \"code\":\"2798\" } , {\"name\":\"단디뉴스\", \"type\":\"section\", \"ccode\":\"4\", \"code\":\"2586\" } , {\"name\":\"단비뉴스\", \"type\":\"section\", \"ccode\":\"4\", \"code\":\"2750\" } , {\"name\":\"대학저널\", \"type\":\"section\", \"ccode\":\"4\", \"code\":\"2413\" } , {\"name\":\"대한전문건설신문\", \"type\":\"section\", \"ccode\":\"4\", \"code\":\"2465\" } , {\"name\":\"더구루\", \"type\":\"section\", \"ccode\":\"4\", \"code\":\"2778\" } , {\"name\":\"더드라이브\", \"type\":\"section\", \"ccode\":\"4\", \"code\":\"2731\" } , {\"name\":\"더리포트\", \"type\":\"section\", \"ccode\":\"4\", \"code\":\"2780\" } , {\"name\":\"더밸류뉴스\", \"type\":\"section\", \"ccode\":\"4\", \"code\":\"2767\" } , {\"name\":\"더파워\", \"type\":\"section\", \"ccode\":\"4\", \"code\":\"2832\" } , {\"name\":\"더팩트\", \"type\":\"section\", \"ccode\":\"4\", \"code\":\"1629\" } , {\"name\":\"더퍼블릭\", \"type\":\"section\", \"ccode\":\"4\", \"code\":\"2787\" } , {\"name\":\"더퍼스트\", \"type\":\"section\", \"ccode\":\"4\", \"code\":\"2560\" } , {\"name\":\"데이터솜\", \"type\":\"section\", \"ccode\":\"4\", \"code\":\"2711\" } , {\"name\":\"데일리안\", \"type\":\"section\", \"ccode\":\"4\", \"code\":\"1119\" } , {\"name\":\"데일리임팩트\", \"type\":\"section\", \"ccode\":\"4\", \"code\":\"2670\" } , {\"name\":\"데일리팜\", \"type\":\"section\", \"ccode\":\"4\", \"code\":\"2190\" } , {\"name\":\"데일리팝\", \"type\":\"section\", \"ccode\":\"4\", \"code\":\"2516\" } , {\"name\":\"데일리한국\", \"type\":\"section\", \"ccode\":\"4\", \"code\":\"2358\" } , {\"name\":\"디센터\", \"type\":\"section\", \"ccode\":\"4\", \"code\":\"2751\" } , {\"name\":\"디스커버리뉴스\", \"type\":\"section\", \"ccode\":\"4\", \"code\":\"2613\" } , {\"name\":\"디지털비즈온\", \"type\":\"section\", \"ccode\":\"4\", \"code\":\"2899\" } , {\"name\":\"디지틀조선일보\", \"type\":\"section\", \"ccode\":\"4\", \"code\":\"2641\" } , {\"name\":\"딜사이트\", \"type\":\"section\", \"ccode\":\"4\", \"code\":\"2630\" } , {\"name\":\"딴지일보\", \"type\":\"section\", \"ccode\":\"4\", \"code\":\"2390\" } , {\"name\":\"땅집고\", \"type\":\"section\", \"ccode\":\"4\", \"code\":\"2790\" } , {\"name\":\"라이센스뉴스\", \"type\":\"section\", \"ccode\":\"4\", \"code\":\"2762\" } , {\"name\":\"라이프인\", \"type\":\"section\", \"ccode\":\"4\", \"code\":\"2861\" } , {\"name\":\"로봇신문\", \"type\":\"section\", \"ccode\":\"4\", \"code\":\"2430\" } , {\"name\":\"로톡뉴스\", \"type\":\"section\", \"ccode\":\"4\", \"code\":\"2845\" } , {\"name\":\"리버티코리아포스트\", \"type\":\"section\", \"ccode\":\"4\", \"code\":\"2791\" } , {\"name\":\"리얼푸드\", \"type\":\"section\", \"ccode\":\"4\", \"code\":\"2419\" } , {\"name\":\"마켓뉴스\", \"type\":\"section\", \"ccode\":\"4\", \"code\":\"2697\" } , {\"name\":\"매일노동뉴스\", \"type\":\"section\", \"ccode\":\"4\", \"code\":\"2431\" } , {\"name\":\"매일안전신문\", \"type\":\"section\", \"ccode\":\"4\", \"code\":\"2812\" } , {\"name\":\"머니S\", \"type\":\"section\", \"ccode\":\"4\", \"code\":\"1417\" } , {\"name\":\"메가경제\", \"type\":\"section\", \"ccode\":\"4\", \"code\":\"2770\" } , {\"name\":\"메디게이트뉴스\", \"type\":\"section\", \"ccode\":\"4\", \"code\":\"2479\" } , {\"name\":\"메디소비자뉴스\", \"type\":\"section\", \"ccode\":\"4\", \"code\":\"2576\" } , {\"name\":\"메디코파마뉴스\", \"type\":\"section\", \"ccode\":\"4\", \"code\":\"2862\" } , {\"name\":\"메트로신문\", \"type\":\"section\", \"ccode\":\"4\", \"code\":\"2286\" } , {\"name\":\"문화저널21\", \"type\":\"section\", \"ccode\":\"4\", \"code\":\"2420\" } , {\"name\":\"미디어오늘\", \"type\":\"section\", \"ccode\":\"4\", \"code\":\"1006\" } , {\"name\":\"미디어워치\", \"type\":\"section\", \"ccode\":\"4\", \"code\":\"2010\" } , {\"name\":\"미디어펜\", \"type\":\"section\", \"ccode\":\"4\", \"code\":\"2244\" } , {\"name\":\"민주신문\", \"type\":\"section\", \"ccode\":\"4\", \"code\":\"2647\" } , {\"name\":\"민중의소리\", \"type\":\"section\", \"ccode\":\"4\", \"code\":\"2683\" } , {\"name\":\"바이오스펙테이터\", \"type\":\"section\", \"ccode\":\"4\", \"code\":\"2651\" } , {\"name\":\"바이오타임즈\", \"type\":\"section\", \"ccode\":\"4\", \"code\":\"2872\" } , {\"name\":\"법률방송뉴스\", \"type\":\"section\", \"ccode\":\"4\", \"code\":\"2626\" } , {\"name\":\"불교공뉴스\", \"type\":\"section\", \"ccode\":\"4\", \"code\":\"2324\" } , {\"name\":\"불교닷컴\", \"type\":\"section\", \"ccode\":\"4\", \"code\":\"2884\" } , {\"name\":\"불교포커스\", \"type\":\"section\", \"ccode\":\"4\", \"code\":\"2488\" } , {\"name\":\"뷰스앤뉴스\", \"type\":\"section\", \"ccode\":\"4\", \"code\":\"2007\" } , {\"name\":\"뷰어스\", \"type\":\"section\", \"ccode\":\"4\", \"code\":\"2597\" } , {\"name\":\"브레이크뉴스\", \"type\":\"section\", \"ccode\":\"4\", \"code\":\"2297\" } , {\"name\":\"비마이너\", \"type\":\"section\", \"ccode\":\"4\", \"code\":\"2487\" } , {\"name\":\"비욘드포스트\", \"type\":\"section\", \"ccode\":\"4\", \"code\":\"2736\" } , {\"name\":\"비즈니스플러스\", \"type\":\"section\", \"ccode\":\"4\", \"code\":\"2875\" } , {\"name\":\"비즈트리뷴\", \"type\":\"section\", \"ccode\":\"4\", \"code\":\"2469\" } , {\"name\":\"빅데이터뉴스\", \"type\":\"section\", \"ccode\":\"4\", \"code\":\"2645\" } , {\"name\":\"산업일보\", \"type\":\"section\", \"ccode\":\"4\", \"code\":\"2433\" } , {\"name\":\"서울와이어\", \"type\":\"section\", \"ccode\":\"4\", \"code\":\"2526\" } , {\"name\":\"서울이코노미뉴스\", \"type\":\"section\", \"ccode\":\"4\", \"code\":\"2774\" } , {\"name\":\"세계비즈\", \"type\":\"section\", \"ccode\":\"4\", \"code\":\"2653\" } , {\"name\":\"세종의 소리\", \"type\":\"section\", \"ccode\":\"4\", \"code\":\"2776\" } , {\"name\":\"소믈리에타임즈\", \"type\":\"section\", \"ccode\":\"4\", \"code\":\"2426\" } , {\"name\":\"소비자가 만드는 신문\", \"type\":\"section\", \"ccode\":\"4\", \"code\":\"2275\" } , {\"name\":\"수원일보\", \"type\":\"section\", \"ccode\":\"4\", \"code\":\"2102\" } , {\"name\":\"스마트경제\", \"type\":\"section\", \"ccode\":\"4\", \"code\":\"2693\" } , {\"name\":\"스마트에프엔\", \"type\":\"section\", \"ccode\":\"4\", \"code\":\"2827\" } , {\"name\":\"스마트타임스\", \"type\":\"section\", \"ccode\":\"4\", \"code\":\"2890\" } , {\"name\":\"스마트투데이\", \"type\":\"section\", \"ccode\":\"4\", \"code\":\"2864\" } , {\"name\":\"스카이데일리\", \"type\":\"section\", \"ccode\":\"4\", \"code\":\"2510\" } , {\"name\":\"스트레이트뉴스\", \"type\":\"section\", \"ccode\":\"4\", \"code\":\"2677\" } , {\"name\":\"슬로우뉴스\", \"type\":\"section\", \"ccode\":\"4\", \"code\":\"2397\" } , {\"name\":\"시민일보\", \"type\":\"section\", \"ccode\":\"4\", \"code\":\"2055\" } , {\"name\":\"시빅뉴스\", \"type\":\"section\", \"ccode\":\"4\", \"code\":\"2461\" } , {\"name\":\"시사뉴스24\", \"type\":\"section\", \"ccode\":\"4\", \"code\":\"2799\" } , {\"name\":\"시사위크\", \"type\":\"section\", \"ccode\":\"4\", \"code\":\"2337\" } , {\"name\":\"시사저널이코노미\", \"type\":\"section\", \"ccode\":\"4\", \"code\":\"2471\" } , {\"name\":\"시사캐스트\", \"type\":\"section\", \"ccode\":\"4\", \"code\":\"2854\" } , {\"name\":\"시사포커스\", \"type\":\"section\", \"ccode\":\"4\", \"code\":\"2329\" } , {\"name\":\"시선뉴스\", \"type\":\"section\", \"ccode\":\"4\", \"code\":\"2369\" } , {\"name\":\"아시아에이\", \"type\":\"section\", \"ccode\":\"4\", \"code\":\"2755\" } , {\"name\":\"아시아엔\", \"type\":\"section\", \"ccode\":\"4\", \"code\":\"2216\" } , {\"name\":\"아이뉴스24\", \"type\":\"section\", \"ccode\":\"4\", \"code\":\"1031\" } , {\"name\":\"아이투자\", \"type\":\"section\", \"ccode\":\"4\", \"code\":\"2578\" } , {\"name\":\"아이티비즈\", \"type\":\"section\", \"ccode\":\"4\", \"code\":\"2579\" } , {\"name\":\"아트인사이트\", \"type\":\"section\", \"ccode\":\"4\", \"code\":\"2726\" } , {\"name\":\"안전신문\", \"type\":\"section\", \"ccode\":\"4\", \"code\":\"2729\" } , {\"name\":\"얼리어답터\", \"type\":\"section\", \"ccode\":\"4\", \"code\":\"2707\" } , {\"name\":\"에너지데일리\", \"type\":\"section\", \"ccode\":\"4\", \"code\":\"2685\" } , {\"name\":\"에듀프레스\", \"type\":\"section\", \"ccode\":\"4\", \"code\":\"2605\" } , {\"name\":\"엠투데이\", \"type\":\"section\", \"ccode\":\"4\", \"code\":\"2598\" } , {\"name\":\"여성경제신문\", \"type\":\"section\", \"ccode\":\"4\", \"code\":\"2759\" } , {\"name\":\"여수넷통뉴스\", \"type\":\"section\", \"ccode\":\"4\", \"code\":\"2748\" } , {\"name\":\"열린뉴스통신\", \"type\":\"section\", \"ccode\":\"4\", \"code\":\"2818\" } , {\"name\":\"오늘경제\", \"type\":\"section\", \"ccode\":\"4\", \"code\":\"2721\" } , {\"name\":\"오마이뉴스\", \"type\":\"section\", \"ccode\":\"4\", \"code\":\"1047\" } , {\"name\":\"우먼스플라워\", \"type\":\"section\", \"ccode\":\"4\", \"code\":\"2822\" } , {\"name\":\"우먼타임스\", \"type\":\"section\", \"ccode\":\"4\", \"code\":\"2848\" } , {\"name\":\"워크투데이\", \"type\":\"section\", \"ccode\":\"4\", \"code\":\"2796\" } , {\"name\":\"위메이크뉴스\", \"type\":\"section\", \"ccode\":\"4\", \"code\":\"2865\" } , {\"name\":\"위키리크스한국\", \"type\":\"section\", \"ccode\":\"4\", \"code\":\"2622\" } , {\"name\":\"위키트리\", \"type\":\"section\", \"ccode\":\"4\", \"code\":\"2239\" } , {\"name\":\"의사신문\", \"type\":\"section\", \"ccode\":\"4\", \"code\":\"2826\" } , {\"name\":\"의학채널 비온뒤\", \"type\":\"section\", \"ccode\":\"4\", \"code\":\"2483\" } , {\"name\":\"이넷뉴스\", \"type\":\"section\", \"ccode\":\"4\", \"code\":\"2866\" } , {\"name\":\"이로운넷\", \"type\":\"section\", \"ccode\":\"4\", \"code\":\"2738\" } , {\"name\":\"이슈앤비즈\", \"type\":\"section\", \"ccode\":\"4\", \"code\":\"2880\" } , {\"name\":\"이지경제\", \"type\":\"section\", \"ccode\":\"4\", \"code\":\"2594\" } , {\"name\":\"이코노미톡뉴스\", \"type\":\"section\", \"ccode\":\"4\", \"code\":\"2192\" } , {\"name\":\"이코노텔링\", \"type\":\"section\", \"ccode\":\"4\", \"code\":\"2816\" } , {\"name\":\"이코리아\", \"type\":\"section\", \"ccode\":\"4\", \"code\":\"2562\" } , {\"name\":\"인공지능신문\", \"type\":\"section\", \"ccode\":\"4\", \"code\":\"2830\" } , {\"name\":\"인더뉴스\", \"type\":\"section\", \"ccode\":\"4\", \"code\":\"2667\" } , {\"name\":\"인더스트리뉴스\", \"type\":\"section\", \"ccode\":\"4\", \"code\":\"2580\" } , {\"name\":\"인민망\", \"type\":\"section\", \"ccode\":\"4\", \"code\":\"2388\" } , {\"name\":\"인베스트조선\", \"type\":\"section\", \"ccode\":\"4\", \"code\":\"2552\" } , {\"name\":\"인사이드 비나\", \"type\":\"section\", \"ccode\":\"4\", \"code\":\"2823\" } , {\"name\":\"인사이트\", \"type\":\"section\", \"ccode\":\"4\", \"code\":\"2486\" } , {\"name\":\"인천in\", \"type\":\"section\", \"ccode\":\"4\", \"code\":\"2808\" } , {\"name\":\"인천뉴스\", \"type\":\"section\", \"ccode\":\"4\", \"code\":\"2650\" } , {\"name\":\"임팩트온\", \"type\":\"section\", \"ccode\":\"4\", \"code\":\"2885\" } , {\"name\":\"전남매일\", \"type\":\"section\", \"ccode\":\"4\", \"code\":\"2709\" } , {\"name\":\"조선닷컴 인포그래픽스\", \"type\":\"section\", \"ccode\":\"4\", \"code\":\"2306\" } , {\"name\":\"조세금융신문\", \"type\":\"section\", \"ccode\":\"4\", \"code\":\"2412\" } , {\"name\":\"중기이코노미\", \"type\":\"section\", \"ccode\":\"4\", \"code\":\"2455\" } , {\"name\":\"중앙신문\", \"type\":\"section\", \"ccode\":\"4\", \"code\":\"2876\" } , {\"name\":\"지피코리아\", \"type\":\"section\", \"ccode\":\"4\", \"code\":\"2331\" } , {\"name\":\"직썰\", \"type\":\"section\", \"ccode\":\"4\", \"code\":\"2489\" } , {\"name\":\"철도경제신문\", \"type\":\"section\", \"ccode\":\"4\", \"code\":\"2908\" } , {\"name\":\"청년일보\", \"type\":\"section\", \"ccode\":\"4\", \"code\":\"2686\" } , {\"name\":\"충청뉴스\", \"type\":\"section\", \"ccode\":\"4\", \"code\":\"2569\" } , {\"name\":\"컨슈머치\", \"type\":\"section\", \"ccode\":\"4\", \"code\":\"2777\" } , {\"name\":\"케미컬뉴스\", \"type\":\"section\", \"ccode\":\"4\", \"code\":\"2853\" } , {\"name\":\"코딩월드뉴스\", \"type\":\"section\", \"ccode\":\"4\", \"code\":\"2867\" } , {\"name\":\"코인데스크코리아\", \"type\":\"section\", \"ccode\":\"4\", \"code\":\"2841\" } , {\"name\":\"키즈맘\", \"type\":\"section\", \"ccode\":\"4\", \"code\":\"2310\" } , {\"name\":\"토요경제\", \"type\":\"section\", \"ccode\":\"4\", \"code\":\"2914\" } , {\"name\":\"토큰포스트\", \"type\":\"section\", \"ccode\":\"4\", \"code\":\"2879\" } , {\"name\":\"톱데일리\", \"type\":\"section\", \"ccode\":\"4\", \"code\":\"2648\" } , {\"name\":\"투데이신문\", \"type\":\"section\", \"ccode\":\"4\", \"code\":\"2460\" } , {\"name\":\"투데이코리아\", \"type\":\"section\", \"ccode\":\"4\", \"code\":\"2616\" } , {\"name\":\"티티엘뉴스\", \"type\":\"section\", \"ccode\":\"4\", \"code\":\"2643\" } , {\"name\":\"파이낸셜리뷰\", \"type\":\"section\", \"ccode\":\"4\", \"code\":\"2910\" } , {\"name\":\"파이낸셜투데이\", \"type\":\"section\", \"ccode\":\"4\", \"code\":\"2518\" } , {\"name\":\"팜뉴스\", \"type\":\"section\", \"ccode\":\"4\", \"code\":\"2828\" } , {\"name\":\"팝콘뉴스\", \"type\":\"section\", \"ccode\":\"4\", \"code\":\"2868\" } , {\"name\":\"패션엔\", \"type\":\"section\", \"ccode\":\"4\", \"code\":\"2456\" } , {\"name\":\"팩트TV\", \"type\":\"section\", \"ccode\":\"4\", \"code\":\"2273\" } , {\"name\":\"펜앤드마이크\", \"type\":\"section\", \"ccode\":\"4\", \"code\":\"2786\" } , {\"name\":\"포쓰저널\", \"type\":\"section\", \"ccode\":\"4\", \"code\":\"2665\" } , {\"name\":\"폴리뉴스\", \"type\":\"section\", \"ccode\":\"4\", \"code\":\"2052\" } , {\"name\":\"푸드경제신문 organiclife\", \"type\":\"section\", \"ccode\":\"4\", \"code\":\"2567\" } , {\"name\":\"프레스맨\", \"type\":\"section\", \"ccode\":\"4\", \"code\":\"2681\" } , {\"name\":\"프레시안\", \"type\":\"section\", \"ccode\":\"4\", \"code\":\"1002\" } , {\"name\":\"하비엔뉴스\", \"type\":\"section\", \"ccode\":\"4\", \"code\":\"2744\" } , {\"name\":\"한강타임즈\", \"type\":\"section\", \"ccode\":\"4\", \"code\":\"2290\" } , {\"name\":\"한국NGO신문\", \"type\":\"section\", \"ccode\":\"4\", \"code\":\"2889\" } , {\"name\":\"한국강사신문\", \"type\":\"section\", \"ccode\":\"4\", \"code\":\"2566\" } , {\"name\":\"한국농어촌방송\", \"type\":\"section\", \"ccode\":\"4\", \"code\":\"2555\" } , {\"name\":\"한국정경신문\", \"type\":\"section\", \"ccode\":\"4\", \"code\":\"2503\" } , {\"name\":\"허프포스트코리아\", \"type\":\"section\", \"ccode\":\"4\", \"code\":\"2384\" } , {\"name\":\"헬로디디\", \"type\":\"section\", \"ccode\":\"4\", \"code\":\"2409\" } , {\"name\":\"헬스인뉴스\", \"type\":\"section\", \"ccode\":\"4\", \"code\":\"2817\" } , {\"name\":\"현대경제신문\", \"type\":\"section\", \"ccode\":\"4\", \"code\":\"2288\" } , {\"name\":\"환경과조경\", \"type\":\"section\", \"ccode\":\"4\", \"code\":\"2637\" } , {\"name\":\"히트뉴스\", \"type\":\"section\", \"ccode\":\"4\", \"code\":\"2911\" } , {\"name\":\"AI타임스\", \"type\":\"section\", \"ccode\":\"4\", \"code\":\"2746\" } , {\"name\":\"AP신문\", \"type\":\"section\", \"ccode\":\"4\", \"code\":\"2793\" } , {\"name\":\"BBS NEWS\", \"type\":\"section\", \"ccode\":\"4\", \"code\":\"2019\" } , {\"name\":\"bnt뉴스\", \"type\":\"section\", \"ccode\":\"4\", \"code\":\"2191\" } , {\"name\":\"CNB뉴스\", \"type\":\"section\", \"ccode\":\"4\", \"code\":\"2293\" } , {\"name\":\"FETV\", \"type\":\"section\", \"ccode\":\"4\", \"code\":\"2484\" } , {\"name\":\"ifspost\", \"type\":\"section\", \"ccode\":\"4\", \"code\":\"2625\" } , {\"name\":\"IT조선\", \"type\":\"section\", \"ccode\":\"4\", \"code\":\"2242\" } , {\"name\":\"K스피릿\", \"type\":\"section\", \"ccode\":\"4\", \"code\":\"2856\" } , {\"name\":\"SR타임스\", \"type\":\"section\", \"ccode\":\"4\", \"code\":\"2589\" } , {\"name\":\"UPI뉴스\", \"type\":\"section\", \"ccode\":\"4\", \"code\":\"2372\" } ] } , { \"name\": \"스포츠/연예\", \"list\": [ {\"name\":\"中요한 기자들\", \"type\":\"section\", \"ccode\":\"5\", \"code\":\"1531\" } , {\"name\":\"美스테리한 기자들\", \"type\":\"section\", \"ccode\":\"5\", \"code\":\"1561\" } , {\"name\":\"게임메카\", \"type\":\"section\", \"ccode\":\"5\", \"code\":\"1356\" } , {\"name\":\"경성대 미식축구부 월간용광로\", \"type\":\"section\", \"ccode\":\"5\", \"code\":\"1649\" } , {\"name\":\"경주한수원축구단\", \"type\":\"section\", \"ccode\":\"5\", \"code\":\"1664\" } , {\"name\":\"경향게임스\", \"type\":\"section\", \"ccode\":\"5\", \"code\":\"2840\" } , {\"name\":\"고려대학교 SPORTS KU\", \"type\":\"section\", \"ccode\":\"5\", \"code\":\"1568\" } , {\"name\":\"골닷컴\", \"type\":\"section\", \"ccode\":\"5\", \"code\":\"1216\" } , {\"name\":\"골프다이제스트\", \"type\":\"section\", \"ccode\":\"5\", \"code\":\"1435\" } , {\"name\":\"골프타임즈\", \"type\":\"section\", \"ccode\":\"5\", \"code\":\"2427\" } , {\"name\":\"국민체육진흥공단\", \"type\":\"section\", \"ccode\":\"5\", \"code\":\"1631\" } , {\"name\":\"김포FC\", \"type\":\"section\", \"ccode\":\"5\", \"code\":\"1667\" } , {\"name\":\"김형준 칼럼\", \"type\":\"section\", \"ccode\":\"5\", \"code\":\"1224\" } , {\"name\":\"김환 칼럼\", \"type\":\"section\", \"ccode\":\"5\", \"code\":\"1516\" } , {\"name\":\"네이버스포츠\", \"type\":\"section\", \"ccode\":\"5\", \"code\":\"1064\" } , {\"name\":\"뉴스엔\", \"type\":\"section\", \"ccode\":\"5\", \"code\":\"1447\" } , {\"name\":\"뉴스엔\", \"type\":\"section\", \"ccode\":\"5\", \"code\":\"1609\" } , {\"name\":\"뉴스인사이드\", \"type\":\"section\", \"ccode\":\"5\", \"code\":\"2095\" } , {\"name\":\"단국대학교 웅담\", \"type\":\"section\", \"ccode\":\"5\", \"code\":\"1599\" } , {\"name\":\"대한게이트볼협회\", \"type\":\"section\", \"ccode\":\"5\", \"code\":\"1650\" } , {\"name\":\"대한골프협회\", \"type\":\"section\", \"ccode\":\"5\", \"code\":\"1602\" } , {\"name\":\"대한민국농구협회\", \"type\":\"section\", \"ccode\":\"5\", \"code\":\"1589\" } , {\"name\":\"대한민국배구협회\", \"type\":\"section\", \"ccode\":\"5\", \"code\":\"1600\" } , {\"name\":\"대한봅슬레이스켈레톤경기연맹\", \"type\":\"section\", \"ccode\":\"5\", \"code\":\"1612\" } , {\"name\":\"대한택견회\", \"type\":\"section\", \"ccode\":\"5\", \"code\":\"1646\" } , {\"name\":\"더 스파이크\", \"type\":\"section\", \"ccode\":\"5\", \"code\":\"1530\" } , {\"name\":\"데일리e스포츠\", \"type\":\"section\", \"ccode\":\"5\", \"code\":\"1347\" } , {\"name\":\"데일리스포츠한국\", \"type\":\"section\", \"ccode\":\"5\", \"code\":\"2604\" } , {\"name\":\"도엔\", \"type\":\"section\", \"ccode\":\"5\", \"code\":\"1511\" } , {\"name\":\"동국대학교 다르마\", \"type\":\"section\", \"ccode\":\"5\", \"code\":\"1644\" } , {\"name\":\"디스이즈게임\", \"type\":\"section\", \"ccode\":\"5\", \"code\":\"1439\" } , {\"name\":\"디스패치\", \"type\":\"section\", \"ccode\":\"5\", \"code\":\"1433\" } , {\"name\":\"루키\", \"type\":\"section\", \"ccode\":\"5\", \"code\":\"1398\" } , {\"name\":\"류현진 MLB 일기\", \"type\":\"section\", \"ccode\":\"5\", \"code\":\"1513\" } , {\"name\":\"마니아타임즈\", \"type\":\"section\", \"ccode\":\"5\", \"code\":\"1425\" } , {\"name\":\"마이데일리\", \"type\":\"section\", \"ccode\":\"5\", \"code\":\"1117\" } , {\"name\":\"맨체스터시티 FC\", \"type\":\"section\", \"ccode\":\"5\", \"code\":\"1624\" } , {\"name\":\"몬스터짐\", \"type\":\"section\", \"ccode\":\"5\", \"code\":\"1409\" } , {\"name\":\"무비스트\", \"type\":\"section\", \"ccode\":\"5\", \"code\":\"2357\" } , {\"name\":\"박문성 칼럼\", \"type\":\"section\", \"ccode\":\"5\", \"code\":\"1208\" } , {\"name\":\"발렌시아CF\", \"type\":\"section\", \"ccode\":\"5\", \"code\":\"1614\" } , {\"name\":\"베스트일레븐\", \"type\":\"section\", \"ccode\":\"5\", \"code\":\"1343\" } , {\"name\":\"보루시아 도르트문트\", \"type\":\"section\", \"ccode\":\"5\", \"code\":\"1652\" } , {\"name\":\"브라이언 스털\", \"type\":\"section\", \"ccode\":\"5\", \"code\":\"1560\" } , {\"name\":\"비즈볼프로젝트\", \"type\":\"section\", \"ccode\":\"5\", \"code\":\"1489\" } , {\"name\":\"비즈엔터\", \"type\":\"section\", \"ccode\":\"5\", \"code\":\"2352\" } , {\"name\":\"삼성 썬더스\", \"type\":\"section\", \"ccode\":\"5\", \"code\":\"1371\" } , {\"name\":\"서형욱 칼럼\", \"type\":\"section\", \"ccode\":\"5\", \"code\":\"1260\" } , {\"name\":\"서호정 칼럼\", \"type\":\"section\", \"ccode\":\"5\", \"code\":\"1452\" } , {\"name\":\"선문대학교 축구부 프론트\", \"type\":\"section\", \"ccode\":\"5\", \"code\":\"1633\" } , {\"name\":\"성호준 칼럼\", \"type\":\"section\", \"ccode\":\"5\", \"code\":\"1485\" } , {\"name\":\"손대범 칼럼\", \"type\":\"section\", \"ccode\":\"5\", \"code\":\"1430\" } , {\"name\":\"송산의 돌직구\", \"type\":\"section\", \"ccode\":\"5\", \"code\":\"1483\" } , {\"name\":\"수원대학교 축구부 기자단\", \"type\":\"section\", \"ccode\":\"5\", \"code\":\"1627\" } , {\"name\":\"스타뉴스\", \"type\":\"section\", \"ccode\":\"5\", \"code\":\"1108\" } , {\"name\":\"스타데일리뉴스\", \"type\":\"section\", \"ccode\":\"5\", \"code\":\"2401\" } , {\"name\":\"스타캐스트\", \"type\":\"section\", \"ccode\":\"5\", \"code\":\"1420\" } , {\"name\":\"스포츠Q\", \"type\":\"section\", \"ccode\":\"5\", \"code\":\"2400\" } , {\"name\":\"스포츠W\", \"type\":\"section\", \"ccode\":\"5\", \"code\":\"2753\" } , {\"name\":\"스포츠경향\", \"type\":\"section\", \"ccode\":\"5\", \"code\":\"1144\" } , {\"name\":\"스포츠동아\", \"type\":\"section\", \"ccode\":\"5\", \"code\":\"1382\" } , {\"name\":\"스포츠서울\", \"type\":\"section\", \"ccode\":\"5\", \"code\":\"1468\" } , {\"name\":\"스포츠월드\", \"type\":\"section\", \"ccode\":\"5\", \"code\":\"1396\" } , {\"name\":\"스포츠조선\", \"type\":\"section\", \"ccode\":\"5\", \"code\":\"1076\" } , {\"name\":\"스포츠춘추\", \"type\":\"section\", \"ccode\":\"5\", \"code\":\"1529\" } , {\"name\":\"스포츠타임스\", \"type\":\"section\", \"ccode\":\"5\", \"code\":\"1472\" } , {\"name\":\"스포츠투데이\", \"type\":\"section\", \"ccode\":\"5\", \"code\":\"2348\" } , {\"name\":\"스포츠투아이\", \"type\":\"section\", \"ccode\":\"5\", \"code\":\"1488\" } , {\"name\":\"스포츠한국\", \"type\":\"section\", \"ccode\":\"5\", \"code\":\"2359\" } , {\"name\":\"스포탈코리아\", \"type\":\"section\", \"ccode\":\"5\", \"code\":\"1139\" } , {\"name\":\"스포티비뉴스\", \"type\":\"section\", \"ccode\":\"5\", \"code\":\"1477\" } , {\"name\":\"아시아리그\", \"type\":\"section\", \"ccode\":\"5\", \"code\":\"1603\" } , {\"name\":\"아이즈 ize\", \"type\":\"section\", \"ccode\":\"5\", \"code\":\"1465\" } , {\"name\":\"아주대 축구부 프론트\", \"type\":\"section\", \"ccode\":\"5\", \"code\":\"1645\" } , {\"name\":\"안산그리너스FC\", \"type\":\"section\", \"ccode\":\"5\", \"code\":\"1591\" } , {\"name\":\"알베르토 몬디\", \"type\":\"section\", \"ccode\":\"5\", \"code\":\"1554\" } , {\"name\":\"앤드류 배걸리\", \"type\":\"section\", \"ccode\":\"5\", \"code\":\"1556\" } , {\"name\":\"앳스타일\", \"type\":\"section\", \"ccode\":\"5\", \"code\":\"1415\" } , {\"name\":\"야덕일지\", \"type\":\"section\", \"ccode\":\"5\", \"code\":\"1487\" } , {\"name\":\"야큐 리포트\", \"type\":\"section\", \"ccode\":\"5\", \"code\":\"1264\" } , {\"name\":\"양주시민축구단\", \"type\":\"section\", \"ccode\":\"5\", \"code\":\"1623\" } , {\"name\":\"엑스포츠뉴스\", \"type\":\"section\", \"ccode\":\"5\", \"code\":\"1311\" } , {\"name\":\"엔젤스파이팅\", \"type\":\"section\", \"ccode\":\"5\", \"code\":\"1613\" } , {\"name\":\"염용근 칼럼\", \"type\":\"section\", \"ccode\":\"5\", \"code\":\"1486\" } , {\"name\":\"영남대 축구부 홍보단\", \"type\":\"section\", \"ccode\":\"5\", \"code\":\"1619\" } , {\"name\":\"영독한 기자들\", \"type\":\"section\", \"ccode\":\"5\", \"code\":\"1545\" } , {\"name\":\"올림픽채널\", \"type\":\"section\", \"ccode\":\"5\", \"code\":\"1610\" } , {\"name\":\"용인대스포츠기자단\", \"type\":\"section\", \"ccode\":\"5\", \"code\":\"1605\" } , {\"name\":\"울산대학교 어스키퍼\", \"type\":\"section\", \"ccode\":\"5\", \"code\":\"1632\" } , {\"name\":\"울산시민축구단\", \"type\":\"section\", \"ccode\":\"5\", \"code\":\"1615\" } , {\"name\":\"위원석 칼럼\", \"type\":\"section\", \"ccode\":\"5\", \"code\":\"1550\" } , {\"name\":\"이덕규 칼럼\", \"type\":\"section\", \"ccode\":\"5\", \"code\":\"1495\" } , {\"name\":\"이영미 칼럼\", \"type\":\"section\", \"ccode\":\"5\", \"code\":\"1380\" } , {\"name\":\"이은경 칼럼\", \"type\":\"section\", \"ccode\":\"5\", \"code\":\"1544\" } , {\"name\":\"이종열 칼럼\", \"type\":\"section\", \"ccode\":\"5\", \"code\":\"1566\" } , {\"name\":\"이창섭 칼럼\", \"type\":\"section\", \"ccode\":\"5\", \"code\":\"1460\" } , {\"name\":\"인간vs축봇\", \"type\":\"section\", \"ccode\":\"5\", \"code\":\"1580\" } , {\"name\":\"인벤\", \"type\":\"section\", \"ccode\":\"5\", \"code\":\"1442\" } , {\"name\":\"인터풋볼\", \"type\":\"section\", \"ccode\":\"5\", \"code\":\"1413\" } , {\"name\":\"일간스포츠\", \"type\":\"section\", \"ccode\":\"5\", \"code\":\"1241\" } , {\"name\":\"일요신문 스포츠\", \"type\":\"section\", \"ccode\":\"5\", \"code\":\"1381\" } , {\"name\":\"점프볼\", \"type\":\"section\", \"ccode\":\"5\", \"code\":\"1065\" } , {\"name\":\"조석 카툰\", \"type\":\"section\", \"ccode\":\"5\", \"code\":\"1360\" } , {\"name\":\"조이뉴스24\", \"type\":\"section\", \"ccode\":\"5\", \"code\":\"2712\" } , {\"name\":\"중앙대학교 SPORTS CAU\", \"type\":\"section\", \"ccode\":\"5\", \"code\":\"1622\" } , {\"name\":\"천안시청축구단\", \"type\":\"section\", \"ccode\":\"5\", \"code\":\"1626\" } , {\"name\":\"청주FC\", \"type\":\"section\", \"ccode\":\"5\", \"code\":\"1651\" } , {\"name\":\"최종준 칼럼\", \"type\":\"section\", \"ccode\":\"5\", \"code\":\"1494\" } , {\"name\":\"추신수 MLB 일기\", \"type\":\"section\", \"ccode\":\"5\", \"code\":\"1512\" } , {\"name\":\"축구저널\", \"type\":\"section\", \"ccode\":\"5\", \"code\":\"2436\" } , {\"name\":\"춘천시민축구단\", \"type\":\"section\", \"ccode\":\"5\", \"code\":\"1616\" } , {\"name\":\"충주 험멜\", \"type\":\"section\", \"ccode\":\"5\", \"code\":\"1491\" } , {\"name\":\"콩푸엉 일기\", \"type\":\"section\", \"ccode\":\"5\", \"code\":\"1621\" } , {\"name\":\"킹존 드래곤X\", \"type\":\"section\", \"ccode\":\"5\", \"code\":\"1617\" } , {\"name\":\"테니스코리아\", \"type\":\"section\", \"ccode\":\"5\", \"code\":\"1481\" } , {\"name\":\"테니스피플\", \"type\":\"section\", \"ccode\":\"5\", \"code\":\"2553\" } , {\"name\":\"텐아시아\", \"type\":\"section\", \"ccode\":\"5\", \"code\":\"1312\" } , {\"name\":\"톱스타뉴스\", \"type\":\"section\", \"ccode\":\"5\", \"code\":\"2353\" } , {\"name\":\"투데이e코노믹\", \"type\":\"section\", \"ccode\":\"5\", \"code\":\"2909\" } , {\"name\":\"티브이데일리\", \"type\":\"section\", \"ccode\":\"5\", \"code\":\"1440\" } , {\"name\":\"티브이데일리\", \"type\":\"section\", \"ccode\":\"5\", \"code\":\"2129\" } , {\"name\":\"페퍼저축은행 AI 페퍼스\", \"type\":\"section\", \"ccode\":\"5\", \"code\":\"1653\" } , {\"name\":\"포모스\", \"type\":\"section\", \"ccode\":\"5\", \"code\":\"1236\" } , {\"name\":\"포포투\", \"type\":\"section\", \"ccode\":\"5\", \"code\":\"1411\" } , {\"name\":\"풋볼리스트\", \"type\":\"section\", \"ccode\":\"5\", \"code\":\"1436\" } , {\"name\":\"피파+\", \"type\":\"section\", \"ccode\":\"5\", \"code\":\"1663\" } , {\"name\":\"한게임 바둑\", \"type\":\"section\", \"ccode\":\"5\", \"code\":\"1370\" } , {\"name\":\"한국3대3농구연맹\", \"type\":\"section\", \"ccode\":\"5\", \"code\":\"1618\" } , {\"name\":\"한국배구연맹\", \"type\":\"section\", \"ccode\":\"5\", \"code\":\"1352\" } , {\"name\":\"한국스포츠개발원\", \"type\":\"section\", \"ccode\":\"5\", \"code\":\"1593\" } , {\"name\":\"한국체대 KNSB\", \"type\":\"section\", \"ccode\":\"5\", \"code\":\"1620\" } , {\"name\":\"한국풋살연맹\", \"type\":\"section\", \"ccode\":\"5\", \"code\":\"1625\" } , {\"name\":\"한국프로볼링협회\", \"type\":\"section\", \"ccode\":\"5\", \"code\":\"1592\" } , {\"name\":\"한국프로축구선수협회\", \"type\":\"section\", \"ccode\":\"5\", \"code\":\"1628\" } , {\"name\":\"한스경제\", \"type\":\"section\", \"ccode\":\"5\", \"code\":\"2438\" } , {\"name\":\"한준 칼럼\", \"type\":\"section\", \"ccode\":\"5\", \"code\":\"1431\" } , {\"name\":\"한화생명e스포츠\", \"type\":\"section\", \"ccode\":\"5\", \"code\":\"1598\" } , {\"name\":\"헤럴드POP\", \"type\":\"section\", \"ccode\":\"5\", \"code\":\"1112\" } , {\"name\":\"홍기자 칼럼\", \"type\":\"section\", \"ccode\":\"5\", \"code\":\"1459\" } , {\"name\":\"홍익대 홍대신문\", \"type\":\"section\", \"ccode\":\"5\", \"code\":\"1647\" } , {\"name\":\"흥국생명 핑크스파이더스\", \"type\":\"section\", \"ccode\":\"5\", \"code\":\"1606\" } , {\"name\":\"JTBC GOLF\", \"type\":\"section\", \"ccode\":\"5\", \"code\":\"1470\" } , {\"name\":\"K STAR\", \"type\":\"section\", \"ccode\":\"5\", \"code\":\"2245\" } , {\"name\":\"KBS 연예\", \"type\":\"section\", \"ccode\":\"5\", \"code\":\"1438\" } , {\"name\":\"KBSN 스포츠\", \"type\":\"section\", \"ccode\":\"5\", \"code\":\"1451\" } , {\"name\":\"KGC인삼공사프로배구단\", \"type\":\"section\", \"ccode\":\"5\", \"code\":\"1611\" } , {\"name\":\"MBC SPORTS+\", \"type\":\"section\", \"ccode\":\"5\", \"code\":\"1049\" } , {\"name\":\"MBC연예\", \"type\":\"section\", \"ccode\":\"5\", \"code\":\"1408\" } , {\"name\":\"MHN스포츠\", \"type\":\"section\", \"ccode\":\"5\", \"code\":\"1445\" } , {\"name\":\"MK스포츠\", \"type\":\"section\", \"ccode\":\"5\", \"code\":\"1410\" } , {\"name\":\"OBS TV\", \"type\":\"section\", \"ccode\":\"5\", \"code\":\"1427\" } , {\"name\":\"OSEN\", \"type\":\"section\", \"ccode\":\"5\", \"code\":\"1109\" } , {\"name\":\"RANK5\", \"type\":\"section\", \"ccode\":\"5\", \"code\":\"2734\" } , {\"name\":\"SBS Golf\", \"type\":\"section\", \"ccode\":\"5\", \"code\":\"2314\" } , {\"name\":\"SBS SPORTS\", \"type\":\"section\", \"ccode\":\"5\", \"code\":\"1464\" } , {\"name\":\"SBS연예뉴스\", \"type\":\"section\", \"ccode\":\"5\", \"code\":\"1416\" } , {\"name\":\"STAT 칼럼\", \"type\":\"section\", \"ccode\":\"5\", \"code\":\"1564\" } , {\"name\":\"STN 스포츠\", \"type\":\"section\", \"ccode\":\"5\", \"code\":\"1450\" } , {\"name\":\"Team LoL 칼럼\", \"type\":\"section\", \"ccode\":\"5\", \"code\":\"1502\" } , {\"name\":\"The Sun\", \"type\":\"section\", \"ccode\":\"5\", \"code\":\"1496\" } , {\"name\":\"TV리포트\", \"type\":\"section\", \"ccode\":\"5\", \"code\":\"1213\" } ] } , { \"name\": \"지역지\", \"list\": [ {\"name\":\"강원도민일보\", \"type\":\"section\", \"ccode\":\"6\", \"code\":\"1654\" } , {\"name\":\"강원일보\", \"type\":\"section\", \"ccode\":\"6\", \"code\":\"1087\" } , {\"name\":\"경기신문\", \"type\":\"section\", \"ccode\":\"6\", \"code\":\"2199\" } , {\"name\":\"경기일보\", \"type\":\"section\", \"ccode\":\"6\", \"code\":\"1666\" } , {\"name\":\"경남도민신문\", \"type\":\"section\", \"ccode\":\"6\", \"code\":\"2416\" } , {\"name\":\"경남도민일보\", \"type\":\"section\", \"ccode\":\"6\", \"code\":\"2163\" } , {\"name\":\"경남매일신문\", \"type\":\"section\", \"ccode\":\"6\", \"code\":\"2346\" } , {\"name\":\"경남신문\", \"type\":\"section\", \"ccode\":\"6\", \"code\":\"2202\" } , {\"name\":\"경남일보\", \"type\":\"section\", \"ccode\":\"6\", \"code\":\"2217\" } , {\"name\":\"경북도민일보\", \"type\":\"section\", \"ccode\":\"6\", \"code\":\"2377\" } , {\"name\":\"경북매일신문\", \"type\":\"section\", \"ccode\":\"6\", \"code\":\"2161\" } , {\"name\":\"경북신문\", \"type\":\"section\", \"ccode\":\"6\", \"code\":\"2533\" } , {\"name\":\"경북일보\", \"type\":\"section\", \"ccode\":\"6\", \"code\":\"2098\" } , {\"name\":\"경상매일신문\", \"type\":\"section\", \"ccode\":\"6\", \"code\":\"2321\" } , {\"name\":\"경상일보\", \"type\":\"section\", \"ccode\":\"6\", \"code\":\"2277\" } , {\"name\":\"경인일보\", \"type\":\"section\", \"ccode\":\"6\", \"code\":\"2122\" } , {\"name\":\"고양신문\", \"type\":\"section\", \"ccode\":\"6\", \"code\":\"2429\" } , {\"name\":\"광주드림\", \"type\":\"section\", \"ccode\":\"6\", \"code\":\"2237\" } , {\"name\":\"광주매일신문\", \"type\":\"section\", \"ccode\":\"6\", \"code\":\"2263\" } , {\"name\":\"국제신문\", \"type\":\"section\", \"ccode\":\"6\", \"code\":\"1658\" } , {\"name\":\"군포시민신문\", \"type\":\"section\", \"ccode\":\"6\", \"code\":\"2513\" } , {\"name\":\"굿모닝충청\", \"type\":\"section\", \"ccode\":\"6\", \"code\":\"2285\" } , {\"name\":\"금강일보\", \"type\":\"section\", \"ccode\":\"6\", \"code\":\"2356\" } , {\"name\":\"기호일보\", \"type\":\"section\", \"ccode\":\"6\", \"code\":\"2154\" } , {\"name\":\"김해뉴스\", \"type\":\"section\", \"ccode\":\"6\", \"code\":\"2345\" } , {\"name\":\"남도일보\", \"type\":\"section\", \"ccode\":\"6\", \"code\":\"2539\" } , {\"name\":\"뉴스경남\", \"type\":\"section\", \"ccode\":\"6\", \"code\":\"2714\" } , {\"name\":\"뉴스저널리즘\", \"type\":\"section\", \"ccode\":\"6\", \"code\":\"2824\" } , {\"name\":\"뉴제주일보\", \"type\":\"section\", \"ccode\":\"6\", \"code\":\"2452\" } , {\"name\":\"당진신문\", \"type\":\"section\", \"ccode\":\"6\", \"code\":\"2678\" } , {\"name\":\"대경일보\", \"type\":\"section\", \"ccode\":\"6\", \"code\":\"2581\" } , {\"name\":\"대구MBC\", \"type\":\"section\", \"ccode\":\"6\", \"code\":\"1657\" } , {\"name\":\"대구신문\", \"type\":\"section\", \"ccode\":\"6\", \"code\":\"2341\" } , {\"name\":\"대구일보\", \"type\":\"section\", \"ccode\":\"6\", \"code\":\"2287\" } , {\"name\":\"대전시티저널\", \"type\":\"section\", \"ccode\":\"6\", \"code\":\"2069\" } , {\"name\":\"대전일보\", \"type\":\"section\", \"ccode\":\"6\", \"code\":\"1656\" } , {\"name\":\"동양일보\", \"type\":\"section\", \"ccode\":\"6\", \"code\":\"2344\" } , {\"name\":\"디트뉴스24\", \"type\":\"section\", \"ccode\":\"6\", \"code\":\"2232\" } , {\"name\":\"라디오코리아\", \"type\":\"section\", \"ccode\":\"6\", \"code\":\"2083\" } , {\"name\":\"매일신문\", \"type\":\"section\", \"ccode\":\"6\", \"code\":\"1088\" } , {\"name\":\"무등일보\", \"type\":\"section\", \"ccode\":\"6\", \"code\":\"2323\" } , {\"name\":\"미디어제주\", \"type\":\"section\", \"ccode\":\"6\", \"code\":\"2522\" } , {\"name\":\"미주중앙일보\", \"type\":\"section\", \"ccode\":\"6\", \"code\":\"2292\" } , {\"name\":\"미주한국일보\", \"type\":\"section\", \"ccode\":\"6\", \"code\":\"2428\" } , {\"name\":\"부산일보\", \"type\":\"section\", \"ccode\":\"6\", \"code\":\"1082\" } , {\"name\":\"새전북신문\", \"type\":\"section\", \"ccode\":\"6\", \"code\":\"2153\" } , {\"name\":\"시민의소리\", \"type\":\"section\", \"ccode\":\"6\", \"code\":\"2439\" } , {\"name\":\"시사제주\", \"type\":\"section\", \"ccode\":\"6\", \"code\":\"2179\" } , {\"name\":\"신아일보\", \"type\":\"section\", \"ccode\":\"6\", \"code\":\"2364\" } , {\"name\":\"양산신문\", \"type\":\"section\", \"ccode\":\"6\", \"code\":\"2904\" } , {\"name\":\"영남일보\", \"type\":\"section\", \"ccode\":\"6\", \"code\":\"2207\" } , {\"name\":\"울산매일신문\", \"type\":\"section\", \"ccode\":\"6\", \"code\":\"2184\" } , {\"name\":\"울산제일일보\", \"type\":\"section\", \"ccode\":\"6\", \"code\":\"2583\" } , {\"name\":\"인천일보\", \"type\":\"section\", \"ccode\":\"6\", \"code\":\"2193\" } , {\"name\":\"인천투데이\", \"type\":\"section\", \"ccode\":\"6\", \"code\":\"2688\" } , {\"name\":\"전남일보\", \"type\":\"section\", \"ccode\":\"6\", \"code\":\"2379\" } , {\"name\":\"전라일보\", \"type\":\"section\", \"ccode\":\"6\", \"code\":\"2395\" } , {\"name\":\"전민일보\", \"type\":\"section\", \"ccode\":\"6\", \"code\":\"2368\" } , {\"name\":\"전북도민일보\", \"type\":\"section\", \"ccode\":\"6\", \"code\":\"2259\" } , {\"name\":\"전북일보\", \"type\":\"section\", \"ccode\":\"6\", \"code\":\"2335\" } , {\"name\":\"전북중앙\", \"type\":\"section\", \"ccode\":\"6\", \"code\":\"2599\" } , {\"name\":\"전주MBC\", \"type\":\"section\", \"ccode\":\"6\", \"code\":\"1659\" } , {\"name\":\"제민일보\", \"type\":\"section\", \"ccode\":\"6\", \"code\":\"2158\" } , {\"name\":\"제주도민일보\", \"type\":\"section\", \"ccode\":\"6\", \"code\":\"2186\" } , {\"name\":\"제주의소리\", \"type\":\"section\", \"ccode\":\"6\", \"code\":\"2085\" } , {\"name\":\"중도일보\", \"type\":\"section\", \"ccode\":\"6\", \"code\":\"2340\" } , {\"name\":\"중부매일\", \"type\":\"section\", \"ccode\":\"6\", \"code\":\"2283\" } , {\"name\":\"중부일보\", \"type\":\"section\", \"ccode\":\"6\", \"code\":\"2281\" } , {\"name\":\"충남일보\", \"type\":\"section\", \"ccode\":\"6\", \"code\":\"2347\" } , {\"name\":\"충북일보\", \"type\":\"section\", \"ccode\":\"6\", \"code\":\"2231\" } , {\"name\":\"충청리뷰\", \"type\":\"section\", \"ccode\":\"6\", \"code\":\"2699\" } , {\"name\":\"충청매일\", \"type\":\"section\", \"ccode\":\"6\", \"code\":\"2278\" } , {\"name\":\"충청일보\", \"type\":\"section\", \"ccode\":\"6\", \"code\":\"2116\" } , {\"name\":\"충청타임즈\", \"type\":\"section\", \"ccode\":\"6\", \"code\":\"2498\" } , {\"name\":\"충청투데이\", \"type\":\"section\", \"ccode\":\"6\", \"code\":\"2160\" } , {\"name\":\"헤드라인제주\", \"type\":\"section\", \"ccode\":\"6\", \"code\":\"2267\" } , {\"name\":\"CJB청주방송\", \"type\":\"section\", \"ccode\":\"6\", \"code\":\"1655\" } , {\"name\":\"JIBS\", \"type\":\"section\", \"ccode\":\"6\", \"code\":\"1661\" } , {\"name\":\"kbc광주방송\", \"type\":\"section\", \"ccode\":\"6\", \"code\":\"1660\" } , {\"name\":\"VOA\", \"type\":\"section\", \"ccode\":\"6\", \"code\":\"2087\" } ] } , { \"name\": \"매거진\", \"list\": [ {\"name\":\"골프저널\", \"type\":\"section\", \"ccode\":\"7\", \"code\":\"2773\" } , {\"name\":\"공학저널\", \"type\":\"section\", \"ccode\":\"7\", \"code\":\"2882\" } , {\"name\":\"그라피\", \"type\":\"section\", \"ccode\":\"7\", \"code\":\"2659\" } , {\"name\":\"낚시춘추\", \"type\":\"section\", \"ccode\":\"7\", \"code\":\"2378\" } , {\"name\":\"농업정보신문\", \"type\":\"section\", \"ccode\":\"7\", \"code\":\"2806\" } , {\"name\":\"더뮤지컬\", \"type\":\"section\", \"ccode\":\"7\", \"code\":\"2561\" } , {\"name\":\"더스쿠프\", \"type\":\"section\", \"ccode\":\"7\", \"code\":\"1665\" } , {\"name\":\"더핑퐁\", \"type\":\"section\", \"ccode\":\"7\", \"code\":\"2680\" } , {\"name\":\"디자인정글\", \"type\":\"section\", \"ccode\":\"7\", \"code\":\"2188\" } , {\"name\":\"레이디경향\", \"type\":\"section\", \"ccode\":\"7\", \"code\":\"1145\" } , {\"name\":\"론리플래닛\", \"type\":\"section\", \"ccode\":\"7\", \"code\":\"2607\" } , {\"name\":\"르몽드\", \"type\":\"section\", \"ccode\":\"7\", \"code\":\"2260\" } , {\"name\":\"마리끌레르\", \"type\":\"section\", \"ccode\":\"7\", \"code\":\"2547\" } , {\"name\":\"매경이코노미\", \"type\":\"section\", \"ccode\":\"7\", \"code\":\"1024\" } , {\"name\":\"맥스무비\", \"type\":\"section\", \"ccode\":\"7\", \"code\":\"2078\" } , {\"name\":\"머니\", \"type\":\"section\", \"ccode\":\"7\", \"code\":\"2448\" } , {\"name\":\"메종\", \"type\":\"section\", \"ccode\":\"7\", \"code\":\"2640\" } , {\"name\":\"모터트렌드 코리아\", \"type\":\"section\", \"ccode\":\"7\", \"code\":\"2797\" } , {\"name\":\"브라보마이라이프\", \"type\":\"section\", \"ccode\":\"7\", \"code\":\"2474\" } , {\"name\":\"브레인미디어\", \"type\":\"section\", \"ccode\":\"7\", \"code\":\"2065\" } , {\"name\":\"비지니스코리아\", \"type\":\"section\", \"ccode\":\"7\", \"code\":\"2652\" } , {\"name\":\"빌리어즈\", \"type\":\"section\", \"ccode\":\"7\", \"code\":\"2496\" } , {\"name\":\"소셜밸류\", \"type\":\"section\", \"ccode\":\"7\", \"code\":\"2825\" } , {\"name\":\"슈어\", \"type\":\"section\", \"ccode\":\"7\", \"code\":\"2215\" } , {\"name\":\"시사IN\", \"type\":\"section\", \"ccode\":\"7\", \"code\":\"1308\" } , {\"name\":\"시사오늘\", \"type\":\"section\", \"ccode\":\"7\", \"code\":\"2370\" } , {\"name\":\"시사저널\", \"type\":\"section\", \"ccode\":\"7\", \"code\":\"1586\" } , {\"name\":\"신동아\", \"type\":\"section\", \"ccode\":\"7\", \"code\":\"1262\" } , {\"name\":\"쎄씨\", \"type\":\"section\", \"ccode\":\"7\", \"code\":\"2219\" } , {\"name\":\"씨네21\", \"type\":\"section\", \"ccode\":\"7\", \"code\":\"1140\" } , {\"name\":\"아웃도어뉴스\", \"type\":\"section\", \"ccode\":\"7\", \"code\":\"2222\" } , {\"name\":\"에스콰이어\", \"type\":\"section\", \"ccode\":\"7\", \"code\":\"2691\" } , {\"name\":\"엔지니어링데일리\", \"type\":\"section\", \"ccode\":\"7\", \"code\":\"2271\" } , {\"name\":\"엘르\", \"type\":\"section\", \"ccode\":\"7\", \"code\":\"2027\" } , {\"name\":\"엠에프지\", \"type\":\"section\", \"ccode\":\"7\", \"code\":\"2701\" } , {\"name\":\"여성동아\", \"type\":\"section\", \"ccode\":\"7\", \"code\":\"2549\" } , {\"name\":\"여성조선\", \"type\":\"section\", \"ccode\":\"7\", \"code\":\"2238\" } , {\"name\":\"여성중앙\", \"type\":\"section\", \"ccode\":\"7\", \"code\":\"2210\" } , {\"name\":\"여행스케치\", \"type\":\"section\", \"ccode\":\"7\", \"code\":\"2570\" } , {\"name\":\"연합이매진\", \"type\":\"section\", \"ccode\":\"7\", \"code\":\"1225\" } , {\"name\":\"월간 산\", \"type\":\"section\", \"ccode\":\"7\", \"code\":\"1094\" } , {\"name\":\"월간 오디오\", \"type\":\"section\", \"ccode\":\"7\", \"code\":\"2800\" } , {\"name\":\"월간로봇기술\", \"type\":\"section\", \"ccode\":\"7\", \"code\":\"2733\" } , {\"name\":\"월간마이더스\", \"type\":\"section\", \"ccode\":\"7\", \"code\":\"2208\" } , {\"name\":\"월간암\", \"type\":\"section\", \"ccode\":\"7\", \"code\":\"2075\" } , {\"name\":\"월간오늘보다\", \"type\":\"section\", \"ccode\":\"7\", \"code\":\"2632\" } , {\"name\":\"월간조선\", \"type\":\"section\", \"ccode\":\"7\", \"code\":\"2481\" } , {\"name\":\"월간중앙\", \"type\":\"section\", \"ccode\":\"7\", \"code\":\"2203\" } , {\"name\":\"월간현대경영\", \"type\":\"section\", \"ccode\":\"7\", \"code\":\"2393\" } , {\"name\":\"위클리오늘\", \"type\":\"section\", \"ccode\":\"7\", \"code\":\"2294\" } , {\"name\":\"이웃집과학자\", \"type\":\"section\", \"ccode\":\"7\", \"code\":\"2550\" } , {\"name\":\"이코노미스트\", \"type\":\"section\", \"ccode\":\"7\", \"code\":\"1243\" } , {\"name\":\"이코노미조선\", \"type\":\"section\", \"ccode\":\"7\", \"code\":\"2226\" } , {\"name\":\"이코노믹리뷰\", \"type\":\"section\", \"ccode\":\"7\", \"code\":\"2097\" } , {\"name\":\"인사이트코리아\", \"type\":\"section\", \"ccode\":\"7\", \"code\":\"2517\" } , {\"name\":\"인터뷰365\", \"type\":\"section\", \"ccode\":\"7\", \"code\":\"2081\" } , {\"name\":\"일렉트릭파워\", \"type\":\"section\", \"ccode\":\"7\", \"code\":\"2574\" } , {\"name\":\"조선에듀\", \"type\":\"section\", \"ccode\":\"7\", \"code\":\"2546\" } , {\"name\":\"주간경향\", \"type\":\"section\", \"ccode\":\"7\", \"code\":\"1033\" } , {\"name\":\"주간동아\", \"type\":\"section\", \"ccode\":\"7\", \"code\":\"1037\" } , {\"name\":\"주간조선\", \"type\":\"section\", \"ccode\":\"7\", \"code\":\"1053\" } , {\"name\":\"주간한국\", \"type\":\"section\", \"ccode\":\"7\", \"code\":\"2723\" } , {\"name\":\"주간한국\", \"type\":\"section\", \"ccode\":\"7\", \"code\":\"1042\" } , {\"name\":\"중앙SUNDAY\", \"type\":\"section\", \"ccode\":\"7\", \"code\":\"1353\" } , {\"name\":\"지이코노미\", \"type\":\"section\", \"ccode\":\"7\", \"code\":\"2633\" } , {\"name\":\"참여와혁신\", \"type\":\"section\", \"ccode\":\"7\", \"code\":\"2495\" } , {\"name\":\"채널예스\", \"type\":\"section\", \"ccode\":\"7\", \"code\":\"2185\" } , {\"name\":\"카스포인트\", \"type\":\"section\", \"ccode\":\"7\", \"code\":\"2336\" } , {\"name\":\"테크M\", \"type\":\"section\", \"ccode\":\"7\", \"code\":\"2447\" } , {\"name\":\"트래비\", \"type\":\"section\", \"ccode\":\"7\", \"code\":\"2411\" } , {\"name\":\"파운드 매거진\", \"type\":\"section\", \"ccode\":\"7\", \"code\":\"2225\" } , {\"name\":\"팜앤마켓매거진\", \"type\":\"section\", \"ccode\":\"7\", \"code\":\"2649\" } , {\"name\":\"패션비즈\", \"type\":\"section\", \"ccode\":\"7\", \"code\":\"2272\" } , {\"name\":\"패션저널\", \"type\":\"section\", \"ccode\":\"7\", \"code\":\"2073\" } , {\"name\":\"포브스코리아\", \"type\":\"section\", \"ccode\":\"7\", \"code\":\"2204\" } , {\"name\":\"포춘코리아\", \"type\":\"section\", \"ccode\":\"7\", \"code\":\"2727\" } , {\"name\":\"하퍼스바자\", \"type\":\"section\", \"ccode\":\"7\", \"code\":\"2634\" } , {\"name\":\"한겨레21\", \"type\":\"section\", \"ccode\":\"7\", \"code\":\"1036\" } , {\"name\":\"한경비즈니스\", \"type\":\"section\", \"ccode\":\"7\", \"code\":\"1050\" } , {\"name\":\"한경잡앤조이\", \"type\":\"section\", \"ccode\":\"7\", \"code\":\"2209\" } , {\"name\":\"헬로티\", \"type\":\"section\", \"ccode\":\"7\", \"code\":\"2417\" } , {\"name\":\"allure\", \"type\":\"section\", \"ccode\":\"7\", \"code\":\"2304\" } , {\"name\":\"CHIEF EXECUTIVE\", \"type\":\"section\", \"ccode\":\"7\", \"code\":\"2833\" } , {\"name\":\"CNB저널(문화경제)\", \"type\":\"section\", \"ccode\":\"7\", \"code\":\"2127\" } , {\"name\":\"GQ\", \"type\":\"section\", \"ccode\":\"7\", \"code\":\"2302\" } , {\"name\":\"M이코노미\", \"type\":\"section\", \"ccode\":\"7\", \"code\":\"2180\" } , {\"name\":\"PC사랑\", \"type\":\"section\", \"ccode\":\"7\", \"code\":\"2198\" } , {\"name\":\"Queen\", \"type\":\"section\", \"ccode\":\"7\", \"code\":\"2472\" } , {\"name\":\"Tomorrow\", \"type\":\"section\", \"ccode\":\"7\", \"code\":\"2559\" } , {\"name\":\"topclass\", \"type\":\"section\", \"ccode\":\"7\", \"code\":\"2265\" } , {\"name\":\"VOGUE\", \"type\":\"section\", \"ccode\":\"7\", \"code\":\"2301\" } , {\"name\":\"VOGUE girl\", \"type\":\"section\", \"ccode\":\"7\", \"code\":\"2303\" } , {\"name\":\"W\", \"type\":\"section\", \"ccode\":\"7\", \"code\":\"2305\" } ] } , { \"name\": \"전문지/기타\", \"list\": [ {\"name\":\"가스신문\", \"type\":\"section\", \"ccode\":\"8\", \"code\":\"2178\" } , {\"name\":\"가톨릭뉴스 지금여기\", \"type\":\"section\", \"ccode\":\"8\", \"code\":\"2458\" } , {\"name\":\"가톨릭신문\", \"type\":\"section\", \"ccode\":\"8\", \"code\":\"2252\" } , {\"name\":\"건설타임즈\", \"type\":\"section\", \"ccode\":\"8\", \"code\":\"2067\" } , {\"name\":\"게임뷰\", \"type\":\"section\", \"ccode\":\"8\", \"code\":\"2858\" } , {\"name\":\"게임샷\", \"type\":\"section\", \"ccode\":\"8\", \"code\":\"2739\" } , {\"name\":\"게임플\", \"type\":\"section\", \"ccode\":\"8\", \"code\":\"2577\" } , {\"name\":\"경기메디뉴스\", \"type\":\"section\", \"ccode\":\"8\", \"code\":\"2886\" } , {\"name\":\"경희대학교 레굴루스\", \"type\":\"section\", \"ccode\":\"8\", \"code\":\"1572\" } , {\"name\":\"골프산업신문\", \"type\":\"section\", \"ccode\":\"8\", \"code\":\"2661\" } , {\"name\":\"공감신문\", \"type\":\"section\", \"ccode\":\"8\", \"code\":\"2264\" } , {\"name\":\"공무원수험신문\", \"type\":\"section\", \"ccode\":\"8\", \"code\":\"2614\" } , {\"name\":\"광운대학교 아르마스\", \"type\":\"section\", \"ccode\":\"8\", \"code\":\"1590\" } , {\"name\":\"광주일보\", \"type\":\"section\", \"ccode\":\"8\", \"code\":\"2857\" } , {\"name\":\"교수신문\", \"type\":\"section\", \"ccode\":\"8\", \"code\":\"2150\" } , {\"name\":\"국민의당\", \"type\":\"section\", \"ccode\":\"8\", \"code\":\"1637\" } , {\"name\":\"국방일보\", \"type\":\"section\", \"ccode\":\"8\", \"code\":\"2249\" } , {\"name\":\"국토일보\", \"type\":\"section\", \"ccode\":\"8\", \"code\":\"2338\" } , {\"name\":\"국회\", \"type\":\"section\", \"ccode\":\"8\", \"code\":\"1358\" } , {\"name\":\"그린포스트코리아\", \"type\":\"section\", \"ccode\":\"8\", \"code\":\"2194\" } , {\"name\":\"기자협회보\", \"type\":\"section\", \"ccode\":\"8\", \"code\":\"1127\" } , {\"name\":\"나무신문\", \"type\":\"section\", \"ccode\":\"8\", \"code\":\"2784\" } , {\"name\":\"노동과세계\", \"type\":\"section\", \"ccode\":\"8\", \"code\":\"2542\" } , {\"name\":\"농기자재신문\", \"type\":\"section\", \"ccode\":\"8\", \"code\":\"2720\" } , {\"name\":\"농민신문\", \"type\":\"section\", \"ccode\":\"8\", \"code\":\"1662\" } , {\"name\":\"농수축산신문\", \"type\":\"section\", \"ccode\":\"8\", \"code\":\"2442\" } , {\"name\":\"농장에서식탁까지\", \"type\":\"section\", \"ccode\":\"8\", \"code\":\"2666\" } , {\"name\":\"농촌여성신문\", \"type\":\"section\", \"ccode\":\"8\", \"code\":\"2365\" } , {\"name\":\"농축유통신문\", \"type\":\"section\", \"ccode\":\"8\", \"code\":\"2537\" } , {\"name\":\"뉴스브라이트\", \"type\":\"section\", \"ccode\":\"8\", \"code\":\"2476\" } , {\"name\":\"뉴스와이어\", \"type\":\"section\", \"ccode\":\"8\", \"code\":\"2334\" } , {\"name\":\"뉴스컬처\", \"type\":\"section\", \"ccode\":\"8\", \"code\":\"2339\" } , {\"name\":\"뉴스타파\", \"type\":\"section\", \"ccode\":\"8\", \"code\":\"1607\" } , {\"name\":\"뉴스포스트\", \"type\":\"section\", \"ccode\":\"8\", \"code\":\"2491\" } , {\"name\":\"당진시대\", \"type\":\"section\", \"ccode\":\"8\", \"code\":\"2855\" } , {\"name\":\"대명 킬러웨일즈\", \"type\":\"section\", \"ccode\":\"8\", \"code\":\"1538\" } , {\"name\":\"대안신당\", \"type\":\"section\", \"ccode\":\"8\", \"code\":\"1636\" } , {\"name\":\"대한급식신문\", \"type\":\"section\", \"ccode\":\"8\", \"code\":\"2470\" } , {\"name\":\"대한럭비협회\", \"type\":\"section\", \"ccode\":\"8\", \"code\":\"1547\" } , {\"name\":\"대한민국 정책브리핑\", \"type\":\"section\", \"ccode\":\"8\", \"code\":\"2881\" } , {\"name\":\"대한씨름협회\", \"type\":\"section\", \"ccode\":\"8\", \"code\":\"1548\" } , {\"name\":\"대한장애인체육회\", \"type\":\"section\", \"ccode\":\"8\", \"code\":\"1307\" } , {\"name\":\"대한체육회\", \"type\":\"section\", \"ccode\":\"8\", \"code\":\"1601\" } , {\"name\":\"더게임스데일리\", \"type\":\"section\", \"ccode\":\"8\", \"code\":\"2462\" } , {\"name\":\"더나은미래\", \"type\":\"section\", \"ccode\":\"8\", \"code\":\"2635\" } , {\"name\":\"더불어민주당\", \"type\":\"section\", \"ccode\":\"8\", \"code\":\"1305\" } , {\"name\":\"더불어시민당\", \"type\":\"section\", \"ccode\":\"8\", \"code\":\"1642\" } , {\"name\":\"더스탁\", \"type\":\"section\", \"ccode\":\"8\", \"code\":\"2891\" } , {\"name\":\"데이터뉴스\", \"type\":\"section\", \"ccode\":\"8\", \"code\":\"2024\" } , {\"name\":\"데일리NK\", \"type\":\"section\", \"ccode\":\"8\", \"code\":\"2023\" } , {\"name\":\"데일리굿뉴스\", \"type\":\"section\", \"ccode\":\"8\", \"code\":\"2646\" } , {\"name\":\"데일리로그\", \"type\":\"section\", \"ccode\":\"8\", \"code\":\"2684\" } , {\"name\":\"데일리메디\", \"type\":\"section\", \"ccode\":\"8\", \"code\":\"2125\" } , {\"name\":\"데일리벳\", \"type\":\"section\", \"ccode\":\"8\", \"code\":\"2392\" } , {\"name\":\"데일리시큐\", \"type\":\"section\", \"ccode\":\"8\", \"code\":\"2350\" } , {\"name\":\"데일리카\", \"type\":\"section\", \"ccode\":\"8\", \"code\":\"2621\" } , {\"name\":\"데일리포스트\", \"type\":\"section\", \"ccode\":\"8\", \"code\":\"2771\" } , {\"name\":\"데일리환경\", \"type\":\"section\", \"ccode\":\"8\", \"code\":\"2878\" } , {\"name\":\"독서신문\", \"type\":\"section\", \"ccode\":\"8\", \"code\":\"2043\" } , {\"name\":\"동아사이언스\", \"type\":\"section\", \"ccode\":\"8\", \"code\":\"1584\" } , {\"name\":\"디일렉\", \"type\":\"section\", \"ccode\":\"8\", \"code\":\"2892\" } , {\"name\":\"라온신문\", \"type\":\"section\", \"ccode\":\"8\", \"code\":\"2874\" } , {\"name\":\"라이브팜뉴스\", \"type\":\"section\", \"ccode\":\"8\", \"code\":\"2811\" } , {\"name\":\"라포르시안\", \"type\":\"section\", \"ccode\":\"8\", \"code\":\"2248\" } , {\"name\":\"레디앙\", \"type\":\"section\", \"ccode\":\"8\", \"code\":\"2315\" } , {\"name\":\"로리더\", \"type\":\"section\", \"ccode\":\"8\", \"code\":\"2775\" } , {\"name\":\"로이슈\", \"type\":\"section\", \"ccode\":\"8\", \"code\":\"2289\" } , {\"name\":\"리걸타임즈\", \"type\":\"section\", \"ccode\":\"8\", \"code\":\"2674\" } , {\"name\":\"리얼캐스트\", \"type\":\"section\", \"ccode\":\"8\", \"code\":\"2705\" } , {\"name\":\"매경헬스\", \"type\":\"section\", \"ccode\":\"8\", \"code\":\"2717\" } , {\"name\":\"매일건설신문\", \"type\":\"section\", \"ccode\":\"8\", \"code\":\"2900\" } , {\"name\":\"메디칼업저버\", \"type\":\"section\", \"ccode\":\"8\", \"code\":\"2371\" } , {\"name\":\"메디칼타임즈\", \"type\":\"section\", \"ccode\":\"8\", \"code\":\"2391\" } , {\"name\":\"메디칼트리뷴\", \"type\":\"section\", \"ccode\":\"8\", \"code\":\"2389\" } , {\"name\":\"메디컬월드뉴스\", \"type\":\"section\", \"ccode\":\"8\", \"code\":\"2620\" } , {\"name\":\"메디컬투데이\", \"type\":\"section\", \"ccode\":\"8\", \"code\":\"2269\" } , {\"name\":\"메디파나뉴스\", \"type\":\"section\", \"ccode\":\"8\", \"code\":\"2126\" } , {\"name\":\"무비위크\", \"type\":\"section\", \"ccode\":\"8\", \"code\":\"1242\" } , {\"name\":\"무카스\", \"type\":\"section\", \"ccode\":\"8\", \"code\":\"2071\" } , {\"name\":\"문학뉴스\", \"type\":\"section\", \"ccode\":\"8\", \"code\":\"2628\" } , {\"name\":\"문화뉴스\", \"type\":\"section\", \"ccode\":\"8\", \"code\":\"2415\" } , {\"name\":\"물류신문\", \"type\":\"section\", \"ccode\":\"8\", \"code\":\"2148\" } , {\"name\":\"미디어스\", \"type\":\"section\", \"ccode\":\"8\", \"code\":\"2060\" } , {\"name\":\"미디어파인\", \"type\":\"section\", \"ccode\":\"8\", \"code\":\"2443\" } , {\"name\":\"미래통합당\", \"type\":\"section\", \"ccode\":\"8\", \"code\":\"1156\" } , {\"name\":\"민생당\", \"type\":\"section\", \"ccode\":\"8\", \"code\":\"1517\" } , {\"name\":\"민족의학신문\", \"type\":\"section\", \"ccode\":\"8\", \"code\":\"2322\" } , {\"name\":\"민주평화당\", \"type\":\"section\", \"ccode\":\"8\", \"code\":\"1594\" } , {\"name\":\"민중당\", \"type\":\"section\", \"ccode\":\"8\", \"code\":\"1608\" } , {\"name\":\"바른정당\", \"type\":\"section\", \"ccode\":\"8\", \"code\":\"1552\" } , {\"name\":\"반론보도닷컴\", \"type\":\"section\", \"ccode\":\"8\", \"code\":\"2901\" } , {\"name\":\"방송기술저널\", \"type\":\"section\", \"ccode\":\"8\", \"code\":\"2660\" } , {\"name\":\"배드민턴뉴스\", \"type\":\"section\", \"ccode\":\"8\", \"code\":\"2863\" } , {\"name\":\"백세시대\", \"type\":\"section\", \"ccode\":\"8\", \"code\":\"2466\" } , {\"name\":\"법률신문\", \"type\":\"section\", \"ccode\":\"8\", \"code\":\"2094\" } , {\"name\":\"법률저널\", \"type\":\"section\", \"ccode\":\"8\", \"code\":\"2144\" } , {\"name\":\"법보신문\", \"type\":\"section\", \"ccode\":\"8\", \"code\":\"2157\" } , {\"name\":\"법조신문\", \"type\":\"section\", \"ccode\":\"8\", \"code\":\"2330\" } , {\"name\":\"베리타스알파\", \"type\":\"section\", \"ccode\":\"8\", \"code\":\"2258\" } , {\"name\":\"베이비뉴스\", \"type\":\"section\", \"ccode\":\"8\", \"code\":\"2295\" } , {\"name\":\"베이비타임즈\", \"type\":\"section\", \"ccode\":\"8\", \"code\":\"2631\" } , {\"name\":\"보건뉴스\", \"type\":\"section\", \"ccode\":\"8\", \"code\":\"2602\" } , {\"name\":\"보험매일\", \"type\":\"section\", \"ccode\":\"8\", \"code\":\"2715\" } , {\"name\":\"부안독립신문\", \"type\":\"section\", \"ccode\":\"8\", \"code\":\"2590\" } , {\"name\":\"북DB\", \"type\":\"section\", \"ccode\":\"8\", \"code\":\"2441\" } , {\"name\":\"불교신문\", \"type\":\"section\", \"ccode\":\"8\", \"code\":\"2149\" } , {\"name\":\"뷰티경제\", \"type\":\"section\", \"ccode\":\"8\", \"code\":\"2902\" } , {\"name\":\"블록체인밸리\", \"type\":\"section\", \"ccode\":\"8\", \"code\":\"2703\" } , {\"name\":\"비건뉴스\", \"type\":\"section\", \"ccode\":\"8\", \"code\":\"2888\" } , {\"name\":\"비주얼다이브\", \"type\":\"section\", \"ccode\":\"8\", \"code\":\"2327\" } , {\"name\":\"비즈월드\", \"type\":\"section\", \"ccode\":\"8\", \"code\":\"2813\" } , {\"name\":\"빅터뉴스\", \"type\":\"section\", \"ccode\":\"8\", \"code\":\"2814\" } , {\"name\":\"새로운보수당\", \"type\":\"section\", \"ccode\":\"8\", \"code\":\"1634\" } , {\"name\":\"서울문화투데이\", \"type\":\"section\", \"ccode\":\"8\", \"code\":\"2821\" } , {\"name\":\"서울시체육회\", \"type\":\"section\", \"ccode\":\"8\", \"code\":\"1597\" } , {\"name\":\"서울유나이티드\", \"type\":\"section\", \"ccode\":\"8\", \"code\":\"1522\" } , {\"name\":\"성균관대학교 ESKAKA\", \"type\":\"section\", \"ccode\":\"8\", \"code\":\"1571\" } , {\"name\":\"성주신문\", \"type\":\"section\", \"ccode\":\"8\", \"code\":\"2894\" } , {\"name\":\"세이프타임즈\", \"type\":\"section\", \"ccode\":\"8\", \"code\":\"2754\" } , {\"name\":\"세정신문\", \"type\":\"section\", \"ccode\":\"8\", \"code\":\"2030\" } , {\"name\":\"세정일보\", \"type\":\"section\", \"ccode\":\"8\", \"code\":\"2571\" } , {\"name\":\"셀럽미디어\", \"type\":\"section\", \"ccode\":\"8\", \"code\":\"2349\" } , {\"name\":\"소년한국일보\", \"type\":\"section\", \"ccode\":\"8\", \"code\":\"2360\" } , {\"name\":\"스카우팅리포트\", \"type\":\"section\", \"ccode\":\"8\", \"code\":\"1557\" } , {\"name\":\"식품저널 foodnews\", \"type\":\"section\", \"ccode\":\"8\", \"code\":\"2595\" } , {\"name\":\"신소재경제신문\", \"type\":\"section\", \"ccode\":\"8\", \"code\":\"2644\" } , {\"name\":\"신화사 연합뉴스\", \"type\":\"section\", \"ccode\":\"8\", \"code\":\"1348\" } , {\"name\":\"싱글리스트\", \"type\":\"section\", \"ccode\":\"8\", \"code\":\"2575\" } , {\"name\":\"아파트관리신문\", \"type\":\"section\", \"ccode\":\"8\", \"code\":\"2501\" } , {\"name\":\"안산무궁화프로축구단\", \"type\":\"section\", \"ccode\":\"8\", \"code\":\"1520\" } , {\"name\":\"알티케이뉴스\", \"type\":\"section\", \"ccode\":\"8\", \"code\":\"2903\" } , {\"name\":\"애슬릿미디어\", \"type\":\"section\", \"ccode\":\"8\", \"code\":\"1540\" } , {\"name\":\"약사공론\", \"type\":\"section\", \"ccode\":\"8\", \"code\":\"2332\" } , {\"name\":\"약업신문\", \"type\":\"section\", \"ccode\":\"8\", \"code\":\"2100\" } , {\"name\":\"양평시민의소리\", \"type\":\"section\", \"ccode\":\"8\", \"code\":\"2519\" } , {\"name\":\"어린이동아\", \"type\":\"section\", \"ccode\":\"8\", \"code\":\"2557\" } , {\"name\":\"어업IN수산\", \"type\":\"section\", \"ccode\":\"8\", \"code\":\"2565\" } , {\"name\":\"어패럴뉴스\", \"type\":\"section\", \"ccode\":\"8\", \"code\":\"2197\" } , {\"name\":\"업다운뉴스\", \"type\":\"section\", \"ccode\":\"8\", \"code\":\"2554\" } , {\"name\":\"에너지신문\", \"type\":\"section\", \"ccode\":\"8\", \"code\":\"2905\" } , {\"name\":\"에너지플랫폼뉴스\", \"type\":\"section\", \"ccode\":\"8\", \"code\":\"2563\" } , {\"name\":\"에듀동아\", \"type\":\"section\", \"ccode\":\"8\", \"code\":\"2449\" } , {\"name\":\"에이블뉴스\", \"type\":\"section\", \"ccode\":\"8\", \"code\":\"2018\" } , {\"name\":\"여성소비자신문\", \"type\":\"section\", \"ccode\":\"8\", \"code\":\"2493\" } , {\"name\":\"여성신문\", \"type\":\"section\", \"ccode\":\"8\", \"code\":\"1310\" } , {\"name\":\"여행신문\", \"type\":\"section\", \"ccode\":\"8\", \"code\":\"2815\" } , {\"name\":\"연세대학교 시스붐바\", \"type\":\"section\", \"ccode\":\"8\", \"code\":\"1570\" } , {\"name\":\"연합인포맥스\", \"type\":\"section\", \"ccode\":\"8\", \"code\":\"2227\" } , {\"name\":\"열린민주당\", \"type\":\"section\", \"ccode\":\"8\", \"code\":\"1641\" } , {\"name\":\"오토타임즈\", \"type\":\"section\", \"ccode\":\"8\", \"code\":\"2029\" } , {\"name\":\"오피니언뉴스\", \"type\":\"section\", \"ccode\":\"8\", \"code\":\"2618\" } , {\"name\":\"오피니언타임스\", \"type\":\"section\", \"ccode\":\"8\", \"code\":\"2507\" } , {\"name\":\"올치올치\", \"type\":\"section\", \"ccode\":\"8\", \"code\":\"2457\" } , {\"name\":\"우드플래닛\", \"type\":\"section\", \"ccode\":\"8\", \"code\":\"2695\" } , {\"name\":\"우리공화당\", \"type\":\"section\", \"ccode\":\"8\", \"code\":\"1587\" } , {\"name\":\"원불교신문\", \"type\":\"section\", \"ccode\":\"8\", \"code\":\"2543\" } , {\"name\":\"원예산업신문\", \"type\":\"section\", \"ccode\":\"8\", \"code\":\"2789\" } , {\"name\":\"월간노동법률\", \"type\":\"section\", \"ccode\":\"8\", \"code\":\"2658\" } , {\"name\":\"월간불광\", \"type\":\"section\", \"ccode\":\"8\", \"code\":\"2690\" } , {\"name\":\"월간원예\", \"type\":\"section\", \"ccode\":\"8\", \"code\":\"2512\" } , {\"name\":\"월드코리안신문\", \"type\":\"section\", \"ccode\":\"8\", \"code\":\"2588\" } , {\"name\":\"월요신문\", \"type\":\"section\", \"ccode\":\"8\", \"code\":\"2520\" } , {\"name\":\"위드인뉴스\", \"type\":\"section\", \"ccode\":\"8\", \"code\":\"2636\" } , {\"name\":\"위클리한국주택경제신문\", \"type\":\"section\", \"ccode\":\"8\", \"code\":\"2907\" } , {\"name\":\"유교신문\", \"type\":\"section\", \"ccode\":\"8\", \"code\":\"2482\" } , {\"name\":\"의약뉴스\", \"type\":\"section\", \"ccode\":\"8\", \"code\":\"2842\" } , {\"name\":\"의학신문\", \"type\":\"section\", \"ccode\":\"8\", \"code\":\"2376\" } , {\"name\":\"의협신문\", \"type\":\"section\", \"ccode\":\"8\", \"code\":\"2088\" } , {\"name\":\"이코노타임즈\", \"type\":\"section\", \"ccode\":\"8\", \"code\":\"2831\" } , {\"name\":\"일간NTN\", \"type\":\"section\", \"ccode\":\"8\", \"code\":\"2309\" } , {\"name\":\"일다\", \"type\":\"section\", \"ccode\":\"8\", \"code\":\"1007\" } , {\"name\":\"일요서울\", \"type\":\"section\", \"ccode\":\"8\", \"code\":\"2279\" } , {\"name\":\"일요시사\", \"type\":\"section\", \"ccode\":\"8\", \"code\":\"2175\" } , {\"name\":\"일요신문\", \"type\":\"section\", \"ccode\":\"8\", \"code\":\"2307\" } , {\"name\":\"잡포스트\", \"type\":\"section\", \"ccode\":\"8\", \"code\":\"2820\" } , {\"name\":\"장애인신문\", \"type\":\"section\", \"ccode\":\"8\", \"code\":\"2111\" } , {\"name\":\"재외동포신문\", \"type\":\"section\", \"ccode\":\"8\", \"code\":\"2176\" } , {\"name\":\"재해재난속보\", \"type\":\"section\", \"ccode\":\"8\", \"code\":\"1321\" } , {\"name\":\"전기신문\", \"type\":\"section\", \"ccode\":\"8\", \"code\":\"2235\" } , {\"name\":\"전북의소리\", \"type\":\"section\", \"ccode\":\"8\", \"code\":\"2883\" } , {\"name\":\"정신의학신문\", \"type\":\"section\", \"ccode\":\"8\", \"code\":\"2473\" } , {\"name\":\"정의당\", \"type\":\"section\", \"ccode\":\"8\", \"code\":\"1426\" } , {\"name\":\"정책브리핑\", \"type\":\"section\", \"ccode\":\"8\", \"code\":\"1298\" } , {\"name\":\"제주매일\", \"type\":\"section\", \"ccode\":\"8\", \"code\":\"2572\" } , {\"name\":\"제주일보\", \"type\":\"section\", \"ccode\":\"8\", \"code\":\"2887\" } , {\"name\":\"중소기업뉴스\", \"type\":\"section\", \"ccode\":\"8\", \"code\":\"2328\" } , {\"name\":\"중앙일보 헬스미디어\", \"type\":\"section\", \"ccode\":\"8\", \"code\":\"2687\" } , {\"name\":\"참세상\", \"type\":\"section\", \"ccode\":\"8\", \"code\":\"1152\" } , {\"name\":\"참세상\", \"type\":\"section\", \"ccode\":\"8\", \"code\":\"2835\" } , {\"name\":\"철강금속신문\", \"type\":\"section\", \"ccode\":\"8\", \"code\":\"2343\" } , {\"name\":\"청년의사\", \"type\":\"section\", \"ccode\":\"8\", \"code\":\"2229\" } , {\"name\":\"청와대\", \"type\":\"section\", \"ccode\":\"8\", \"code\":\"1154\" } , {\"name\":\"축산경제신문\", \"type\":\"section\", \"ccode\":\"8\", \"code\":\"2603\" } , {\"name\":\"치과신문\", \"type\":\"section\", \"ccode\":\"8\", \"code\":\"2718\" } , {\"name\":\"친박신당\", \"type\":\"section\", \"ccode\":\"8\", \"code\":\"1638\" } , {\"name\":\"컨슈머타임스\", \"type\":\"section\", \"ccode\":\"8\", \"code\":\"2174\" } , {\"name\":\"코나스\", \"type\":\"section\", \"ccode\":\"8\", \"code\":\"2134\" } , {\"name\":\"코리아넷\", \"type\":\"section\", \"ccode\":\"8\", \"code\":\"1441\" } , {\"name\":\"코리아쉬핑가제트\", \"type\":\"section\", \"ccode\":\"8\", \"code\":\"2398\" } , {\"name\":\"코리아중앙데일리\", \"type\":\"section\", \"ccode\":\"8\", \"code\":\"1640\" } , {\"name\":\"코리아타임스\", \"type\":\"section\", \"ccode\":\"8\", \"code\":\"2668\" } , {\"name\":\"코리아헤럴드\", \"type\":\"section\", \"ccode\":\"8\", \"code\":\"1044\" } , {\"name\":\"코리아헬스로그\", \"type\":\"section\", \"ccode\":\"8\", \"code\":\"2066\" } , {\"name\":\"코메디닷컴\", \"type\":\"section\", \"ccode\":\"8\", \"code\":\"1296\" } , {\"name\":\"쿠키뉴스\", \"type\":\"section\", \"ccode\":\"8\", \"code\":\"1143\" } , {\"name\":\"쿡앤셰프\", \"type\":\"section\", \"ccode\":\"8\", \"code\":\"2639\" } , {\"name\":\"크리스천투데이\", \"type\":\"section\", \"ccode\":\"8\", \"code\":\"2047\" } , {\"name\":\"택스워치\", \"type\":\"section\", \"ccode\":\"8\", \"code\":\"2757\" } , {\"name\":\"통일뉴스\", \"type\":\"section\", \"ccode\":\"8\", \"code\":\"2387\" } , {\"name\":\"투어코리아뉴스\", \"type\":\"section\", \"ccode\":\"8\", \"code\":\"2675\" } , {\"name\":\"트래블투데이\", \"type\":\"section\", \"ccode\":\"8\", \"code\":\"2664\" } , {\"name\":\"파이낸스투데이\", \"type\":\"section\", \"ccode\":\"8\", \"code\":\"2585\" } , {\"name\":\"페로타임즈\", \"type\":\"section\", \"ccode\":\"8\", \"code\":\"2869\" } , {\"name\":\"평화뉴스\", \"type\":\"section\", \"ccode\":\"8\", \"code\":\"2505\" } , {\"name\":\"포인트데일리\", \"type\":\"section\", \"ccode\":\"8\", \"code\":\"2679\" } , {\"name\":\"플래텀\", \"type\":\"section\", \"ccode\":\"8\", \"code\":\"2373\" } , {\"name\":\"플레이디비\", \"type\":\"section\", \"ccode\":\"8\", \"code\":\"2627\" } , {\"name\":\"하우징헤럴드\", \"type\":\"section\", \"ccode\":\"8\", \"code\":\"2591\" } , {\"name\":\"하이닥\", \"type\":\"section\", \"ccode\":\"8\", \"code\":\"2246\" } , {\"name\":\"한국교육신문\", \"type\":\"section\", \"ccode\":\"8\", \"code\":\"2224\" } , {\"name\":\"한국금융신문\", \"type\":\"section\", \"ccode\":\"8\", \"code\":\"2040\" } , {\"name\":\"한국기독공보\", \"type\":\"section\", \"ccode\":\"8\", \"code\":\"2218\" } , {\"name\":\"한국농어민신문\", \"type\":\"section\", \"ccode\":\"8\", \"code\":\"2396\" } , {\"name\":\"한국농업신문\", \"type\":\"section\", \"ccode\":\"8\", \"code\":\"2367\" } , {\"name\":\"한국농정신문\", \"type\":\"section\", \"ccode\":\"8\", \"code\":\"2414\" } , {\"name\":\"한국농촌경제신문\", \"type\":\"section\", \"ccode\":\"8\", \"code\":\"2663\" } , {\"name\":\"한국대학스포츠협의회\", \"type\":\"section\", \"ccode\":\"8\", \"code\":\"1573\" } , {\"name\":\"한국대학신문\", \"type\":\"section\", \"ccode\":\"8\", \"code\":\"2189\" } , {\"name\":\"한국면세뉴스\", \"type\":\"section\", \"ccode\":\"8\", \"code\":\"2638\" } , {\"name\":\"한국목재신문\", \"type\":\"section\", \"ccode\":\"8\", \"code\":\"2523\" } , {\"name\":\"한국무역신문\", \"type\":\"section\", \"ccode\":\"8\", \"code\":\"2147\" } , {\"name\":\"한국보험신문\", \"type\":\"section\", \"ccode\":\"8\", \"code\":\"2056\" } , {\"name\":\"한국섬유신문\", \"type\":\"section\", \"ccode\":\"8\", \"code\":\"2381\" } , {\"name\":\"한국스포츠통신\", \"type\":\"section\", \"ccode\":\"8\", \"code\":\"2672\" } , {\"name\":\"한국아파트신문\", \"type\":\"section\", \"ccode\":\"8\", \"code\":\"2870\" } , {\"name\":\"한국영농신문\", \"type\":\"section\", \"ccode\":\"8\", \"code\":\"2548\" } , {\"name\":\"한국원자력신문\", \"type\":\"section\", \"ccode\":\"8\", \"code\":\"2871\" } , {\"name\":\"한양대학교 사자후\", \"type\":\"section\", \"ccode\":\"8\", \"code\":\"1569\" } , {\"name\":\"한의신문\", \"type\":\"section\", \"ccode\":\"8\", \"code\":\"2530\" } , {\"name\":\"함께걸음\", \"type\":\"section\", \"ccode\":\"8\", \"code\":\"2124\" } , {\"name\":\"핸드메이커\", \"type\":\"section\", \"ccode\":\"8\", \"code\":\"2851\" } , {\"name\":\"헤모필리아라이프\", \"type\":\"section\", \"ccode\":\"8\", \"code\":\"2504\" } , {\"name\":\"헬스경향\", \"type\":\"section\", \"ccode\":\"8\", \"code\":\"2534\" } , {\"name\":\"헬스조선\", \"type\":\"section\", \"ccode\":\"8\", \"code\":\"1346\" } , {\"name\":\"현대불교신문\", \"type\":\"section\", \"ccode\":\"8\", \"code\":\"2422\" } , {\"name\":\"현대축산뉴스\", \"type\":\"section\", \"ccode\":\"8\", \"code\":\"2057\" } , {\"name\":\"현대해양\", \"type\":\"section\", \"ccode\":\"8\", \"code\":\"2682\" } , {\"name\":\"화이트페이퍼\", \"type\":\"section\", \"ccode\":\"8\", \"code\":\"2120\" } , {\"name\":\"후생신보\", \"type\":\"section\", \"ccode\":\"8\", \"code\":\"2619\" } , {\"name\":\"CTS\", \"type\":\"section\", \"ccode\":\"8\", \"code\":\"2558\" } , {\"name\":\"EBN\", \"type\":\"section\", \"ccode\":\"8\", \"code\":\"2093\" } , {\"name\":\"ESG경제\", \"type\":\"section\", \"ccode\":\"8\", \"code\":\"2913\" } , {\"name\":\"EV라운지\", \"type\":\"section\", \"ccode\":\"8\", \"code\":\"2257\" } , {\"name\":\"e의료정보\", \"type\":\"section\", \"ccode\":\"8\", \"code\":\"2740\" } , {\"name\":\"FPN\", \"type\":\"section\", \"ccode\":\"8\", \"code\":\"2070\" } , {\"name\":\"FT스포츠\", \"type\":\"section\", \"ccode\":\"8\", \"code\":\"2838\" } , {\"name\":\"IT동아\", \"type\":\"section\", \"ccode\":\"8\", \"code\":\"2313\" } , {\"name\":\"KBR\", \"type\":\"section\", \"ccode\":\"8\", \"code\":\"2694\" } , {\"name\":\"Korea IT Times\", \"type\":\"section\", \"ccode\":\"8\", \"code\":\"2187\" } , {\"name\":\"KOTRA해외시장뉴스\", \"type\":\"section\", \"ccode\":\"8\", \"code\":\"2834\" } , {\"name\":\"kt 롤스터\", \"type\":\"section\", \"ccode\":\"8\", \"code\":\"1537\" } , {\"name\":\"MS투데이\", \"type\":\"section\", \"ccode\":\"8\", \"code\":\"2852\" } , {\"name\":\"PD저널\", \"type\":\"section\", \"ccode\":\"8\", \"code\":\"2042\" } , {\"name\":\"RPM9\", \"type\":\"section\", \"ccode\":\"8\", \"code\":\"2308\" } , {\"name\":\"S-저널\", \"type\":\"section\", \"ccode\":\"8\", \"code\":\"2877\" } , {\"name\":\"SPACE(공간)\", \"type\":\"section\", \"ccode\":\"8\", \"code\":\"2846\" } , {\"name\":\"The New York Times\", \"type\":\"section\", \"ccode\":\"8\", \"code\":\"2747\" } , {\"name\":\"The PR Times\", \"type\":\"section\", \"ccode\":\"8\", \"code\":\"2399\" } , {\"name\":\"ubc울산방송\", \"type\":\"section\", \"ccode\":\"8\", \"code\":\"2794\" } ] } ] }, { \"depth\": 2, \"triggerSelector\": \"._abc_select_trigger\", \"layerSelector\": \"._abc_select_layer\", \"rootSelector\": \"._abc_select_layer ._root\", \"template\": [ \"<#for(var i = 0; i < data.length; i++){#>\", \"<li role=\\\\\"tab\\\\\" class=\\\\\"item _li\\\\\" data-type=\\\\\"<#=data[i].type#>\\\\\" data-ccode=\\\\\"<#=data[i].ccode#>\\\\\" data-code=\\\\\"<#=data[i].code#>\\\\\" data-value=\\\\\"<#=data[i].code#>\\\\\"<#if(i === index){#> aria-selected=\\\\\"true\\\\\"<#}#>>\", \"<a href=\\\\\"#\\\\\" class=\\\\\"link\\\\\"><#=data[i].name#></a>\", \"</li>\", \"<#}#>\" ].join(\"\"), \"selected\": [0, 0], \"listData\": [ { \"name\": \"ㄱ\", \"list\": [ {\"name\":\"가스신문\", \"type\":\"abc\", \"ccode\":\"1\", \"code\":\"2178\" }, {\"name\":\"가톨릭뉴스 지금여기\", \"type\":\"abc\", \"ccode\":\"1\", \"code\":\"2458\" }, {\"name\":\"가톨릭신문\", \"type\":\"abc\", \"ccode\":\"1\", \"code\":\"2252\" }, {\"name\":\"가톨릭평화방송·평화신문\", \"type\":\"abc\", \"ccode\":\"1\", \"code\":\"2234\" }, {\"name\":\"가톨릭프레스\", \"type\":\"abc\", \"ccode\":\"1\", \"code\":\"2545\" }, {\"name\":\"강원도민일보\", \"type\":\"abc\", \"ccode\":\"1\", \"code\":\"1654\" }, {\"name\":\"강원일보\", \"type\":\"abc\", \"ccode\":\"1\", \"code\":\"1087\" }, {\"name\":\"건강다이제스트\", \"type\":\"abc\", \"ccode\":\"1\", \"code\":\"2454\" }, {\"name\":\"건설타임즈\", \"type\":\"abc\", \"ccode\":\"1\", \"code\":\"2067\" }, {\"name\":\"게임동아\", \"type\":\"abc\", \"ccode\":\"1\", \"code\":\"2611\" }, {\"name\":\"게임메카\", \"type\":\"abc\", \"ccode\":\"1\", \"code\":\"1356\" }, {\"name\":\"게임뷰\", \"type\":\"abc\", \"ccode\":\"1\", \"code\":\"2858\" }, {\"name\":\"게임샷\", \"type\":\"abc\", \"ccode\":\"1\", \"code\":\"2739\" }, {\"name\":\"게임조선\", \"type\":\"abc\", \"ccode\":\"1\", \"code\":\"2434\" }, {\"name\":\"게임톡\", \"type\":\"abc\", \"ccode\":\"1\", \"code\":\"2497\" }, {\"name\":\"게임포커스\", \"type\":\"abc\", \"ccode\":\"1\", \"code\":\"2351\" }, {\"name\":\"게임플\", \"type\":\"abc\", \"ccode\":\"1\", \"code\":\"2577\" }, {\"name\":\"경기메디뉴스\", \"type\":\"abc\", \"ccode\":\"1\", \"code\":\"2886\" }, {\"name\":\"경기신문\", \"type\":\"abc\", \"ccode\":\"1\", \"code\":\"2199\" }, {\"name\":\"경기일보\", \"type\":\"abc\", \"ccode\":\"1\", \"code\":\"1666\" }, {\"name\":\"경남도민신문\", \"type\":\"abc\", \"ccode\":\"1\", \"code\":\"2416\" }, {\"name\":\"경남도민일보\", \"type\":\"abc\", \"ccode\":\"1\", \"code\":\"2163\" }, {\"name\":\"경남매일신문\", \"type\":\"abc\", \"ccode\":\"1\", \"code\":\"2346\" }, {\"name\":\"경남신문\", \"type\":\"abc\", \"ccode\":\"1\", \"code\":\"2202\" }, {\"name\":\"경남일보\", \"type\":\"abc\", \"ccode\":\"1\", \"code\":\"2217\" }, {\"name\":\"경북도민일보\", \"type\":\"abc\", \"ccode\":\"1\", \"code\":\"2377\" }, {\"name\":\"경북매일신문\", \"type\":\"abc\", \"ccode\":\"1\", \"code\":\"2161\" }, {\"name\":\"경북신문\", \"type\":\"abc\", \"ccode\":\"1\", \"code\":\"2533\" }, {\"name\":\"경북일보\", \"type\":\"abc\", \"ccode\":\"1\", \"code\":\"2098\" }, {\"name\":\"경상매일신문\", \"type\":\"abc\", \"ccode\":\"1\", \"code\":\"2321\" }, {\"name\":\"경상일보\", \"type\":\"abc\", \"ccode\":\"1\", \"code\":\"2277\" }, {\"name\":\"경성대 미식축구부 월간용광로\", \"type\":\"abc\", \"ccode\":\"1\", \"code\":\"1649\" }, {\"name\":\"경인매일\", \"type\":\"abc\", \"ccode\":\"1\", \"code\":\"2764\" }, {\"name\":\"경인방송\", \"type\":\"abc\", \"ccode\":\"1\", \"code\":\"2713\" }, {\"name\":\"경인일보\", \"type\":\"abc\", \"ccode\":\"1\", \"code\":\"2122\" }, {\"name\":\"경주한수원축구단\", \"type\":\"abc\", \"ccode\":\"1\", \"code\":\"1664\" }, {\"name\":\"경향게임스\", \"type\":\"abc\", \"ccode\":\"1\", \"code\":\"2840\" }, {\"name\":\"경향신문\", \"type\":\"abc\", \"ccode\":\"1\", \"code\":\"1032\" }, {\"name\":\"경희대학교 레굴루스\", \"type\":\"abc\", \"ccode\":\"1\", \"code\":\"1572\" }, {\"name\":\"고려대학교 SPORTS KU\", \"type\":\"abc\", \"ccode\":\"1\", \"code\":\"1568\" }, {\"name\":\"고발뉴스\", \"type\":\"abc\", \"ccode\":\"1\", \"code\":\"2435\" }, {\"name\":\"고양신문\", \"type\":\"abc\", \"ccode\":\"1\", \"code\":\"2429\" }, {\"name\":\"골닷컴\", \"type\":\"abc\", \"ccode\":\"1\", \"code\":\"1216\" }, {\"name\":\"골프다이제스트\", \"type\":\"abc\", \"ccode\":\"1\", \"code\":\"1435\" }, {\"name\":\"골프산업신문\", \"type\":\"abc\", \"ccode\":\"1\", \"code\":\"2661\" }, {\"name\":\"골프저널\", \"type\":\"abc\", \"ccode\":\"1\", \"code\":\"2773\" }, {\"name\":\"골프타임즈\", \"type\":\"abc\", \"ccode\":\"1\", \"code\":\"2427\" }, {\"name\":\"골프한국\", \"type\":\"abc\", \"ccode\":\"1\", \"code\":\"2606\" }, {\"name\":\"공감신문\", \"type\":\"abc\", \"ccode\":\"1\", \"code\":\"2264\" }, {\"name\":\"공공뉴스\", \"type\":\"abc\", \"ccode\":\"1\", \"code\":\"2584\" }, {\"name\":\"공무원수험신문\", \"type\":\"abc\", \"ccode\":\"1\", \"code\":\"2614\" }, {\"name\":\"공생공사닷컴\", \"type\":\"abc\", \"ccode\":\"1\", \"code\":\"2859\" }, {\"name\":\"공학저널\", \"type\":\"abc\", \"ccode\":\"1\", \"code\":\"2882\" }, {\"name\":\"광명지역신문\", \"type\":\"abc\", \"ccode\":\"1\", \"code\":\"2568\" }, {\"name\":\"광운대학교 아르마스\", \"type\":\"abc\", \"ccode\":\"1\", \"code\":\"1590\" }, {\"name\":\"광주MBC\", \"type\":\"abc\", \"ccode\":\"1\", \"code\":\"2383\" }, {\"name\":\"광주드림\", \"type\":\"abc\", \"ccode\":\"1\", \"code\":\"2237\" }, {\"name\":\"광주매일신문\", \"type\":\"abc\", \"ccode\":\"1\", \"code\":\"2263\" }, {\"name\":\"광주일보\", \"type\":\"abc\", \"ccode\":\"1\", \"code\":\"2857\" }, {\"name\":\"교수신문\", \"type\":\"abc\", \"ccode\":\"1\", \"code\":\"2150\" }, {\"name\":\"국민의당\", \"type\":\"abc\", \"ccode\":\"1\", \"code\":\"1637\" }, {\"name\":\"국민일보\", \"type\":\"abc\", \"ccode\":\"1\", \"code\":\"1005\" }, {\"name\":\"국민체육진흥공단\", \"type\":\"abc\", \"ccode\":\"1\", \"code\":\"1631\" }, {\"name\":\"국방일보\", \"type\":\"abc\", \"ccode\":\"1\", \"code\":\"2249\" }, {\"name\":\"국제뉴스\", \"type\":\"abc\", \"ccode\":\"1\", \"code\":\"2291\" }, {\"name\":\"국제신문\", \"type\":\"abc\", \"ccode\":\"1\", \"code\":\"1658\" }, {\"name\":\"국토일보\", \"type\":\"abc\", \"ccode\":\"1\", \"code\":\"2338\" }, {\"name\":\"국회\", \"type\":\"abc\", \"ccode\":\"1\", \"code\":\"1358\" }, {\"name\":\"국회방송\", \"type\":\"abc\", \"ccode\":\"1\", \"code\":\"2807\" }, {\"name\":\"군포시민신문\", \"type\":\"abc\", \"ccode\":\"1\", \"code\":\"2513\" }, {\"name\":\"굿모닝경제\", \"type\":\"abc\", \"ccode\":\"1\", \"code\":\"2464\" }, {\"name\":\"굿모닝충청\", \"type\":\"abc\", \"ccode\":\"1\", \"code\":\"2285\" }, {\"name\":\"그라피\", \"type\":\"abc\", \"ccode\":\"1\", \"code\":\"2659\" }, {\"name\":\"그린포스트코리아\", \"type\":\"abc\", \"ccode\":\"1\", \"code\":\"2194\" }, {\"name\":\"글로벌E\", \"type\":\"abc\", \"ccode\":\"1\", \"code\":\"2763\" }, {\"name\":\"글로벌경제\", \"type\":\"abc\", \"ccode\":\"1\", \"code\":\"2445\" }, {\"name\":\"글로벌에픽\", \"type\":\"abc\", \"ccode\":\"1\", \"code\":\"2728\" }, {\"name\":\"글로벌이코노믹\", \"type\":\"abc\", \"ccode\":\"1\", \"code\":\"2366\" }, {\"name\":\"금강일보\", \"type\":\"abc\", \"ccode\":\"1\", \"code\":\"2356\" }, {\"name\":\"금융소비자뉴스\", \"type\":\"abc\", \"ccode\":\"1\", \"code\":\"2573\" }, {\"name\":\"기계설비신문\", \"type\":\"abc\", \"ccode\":\"1\", \"code\":\"2895\" }, {\"name\":\"기계신문\", \"type\":\"abc\", \"ccode\":\"1\", \"code\":\"2596\" }, {\"name\":\"기자협회보\", \"type\":\"abc\", \"ccode\":\"1\", \"code\":\"1127\" }, {\"name\":\"기호일보\", \"type\":\"abc\", \"ccode\":\"1\", \"code\":\"2154\" }, {\"name\":\"김포FC\", \"type\":\"abc\", \"ccode\":\"1\", \"code\":\"1667\" }, {\"name\":\"김해뉴스\", \"type\":\"abc\", \"ccode\":\"1\", \"code\":\"2345\" }, {\"name\":\"김형준 칼럼\", \"type\":\"abc\", \"ccode\":\"1\", \"code\":\"1224\" }, {\"name\":\"김환 칼럼\", \"type\":\"abc\", \"ccode\":\"1\", \"code\":\"1516\" }, ] } , { \"name\": \"ㄴ\", \"list\": [ {\"name\":\"나무신문\", \"type\":\"abc\", \"ccode\":\"2\", \"code\":\"2784\" }, {\"name\":\"나이스경제\", \"type\":\"abc\", \"ccode\":\"2\", \"code\":\"2810\" }, {\"name\":\"낚시춘추\", \"type\":\"abc\", \"ccode\":\"2\", \"code\":\"2378\" }, {\"name\":\"남도일보\", \"type\":\"abc\", \"ccode\":\"2\", \"code\":\"2539\" }, {\"name\":\"내외경제tv\", \"type\":\"abc\", \"ccode\":\"2\", \"code\":\"2544\" }, {\"name\":\"내일신문\", \"type\":\"abc\", \"ccode\":\"2\", \"code\":\"2312\" }, {\"name\":\"네이버스포츠\", \"type\":\"abc\", \"ccode\":\"2\", \"code\":\"1064\" }, {\"name\":\"넥스트데일리\", \"type\":\"abc\", \"ccode\":\"2\", \"code\":\"2141\" }, {\"name\":\"노동과세계\", \"type\":\"abc\", \"ccode\":\"2\", \"code\":\"2542\" }, {\"name\":\"노동과희망\", \"type\":\"abc\", \"ccode\":\"2\", \"code\":\"2801\" }, {\"name\":\"노컷뉴스\", \"type\":\"abc\", \"ccode\":\"2\", \"code\":\"1079\" }, {\"name\":\"노트펫\", \"type\":\"abc\", \"ccode\":\"2\", \"code\":\"2511\" }, {\"name\":\"녹색경제신문\", \"type\":\"abc\", \"ccode\":\"2\", \"code\":\"2499\" }, {\"name\":\"농기자재신문\", \"type\":\"abc\", \"ccode\":\"2\", \"code\":\"2720\" }, {\"name\":\"농민신문\", \"type\":\"abc\", \"ccode\":\"2\", \"code\":\"1662\" }, {\"name\":\"농수축산신문\", \"type\":\"abc\", \"ccode\":\"2\", \"code\":\"2442\" }, {\"name\":\"농업정보신문\", \"type\":\"abc\", \"ccode\":\"2\", \"code\":\"2806\" }, {\"name\":\"농장에서식탁까지\", \"type\":\"abc\", \"ccode\":\"2\", \"code\":\"2666\" }, {\"name\":\"농촌여성신문\", \"type\":\"abc\", \"ccode\":\"2\", \"code\":\"2365\" }, {\"name\":\"농축유통신문\", \"type\":\"abc\", \"ccode\":\"2\", \"code\":\"2537\" }, {\"name\":\"뉴데일리\", \"type\":\"abc\", \"ccode\":\"2\", \"code\":\"2005\" }, {\"name\":\"뉴스1\", \"type\":\"abc\", \"ccode\":\"2\", \"code\":\"1421\" }, {\"name\":\"뉴스경남\", \"type\":\"abc\", \"ccode\":\"2\", \"code\":\"2714\" }, {\"name\":\"뉴스드림\", \"type\":\"abc\", \"ccode\":\"2\", \"code\":\"2896\" }, {\"name\":\"뉴스락\", \"type\":\"abc\", \"ccode\":\"2\", \"code\":\"2779\" }, {\"name\":\"뉴스로드\", \"type\":\"abc\", \"ccode\":\"2\", \"code\":\"2860\" }, {\"name\":\"뉴스메이커\", \"type\":\"abc\", \"ccode\":\"2\", \"code\":\"2159\" }, {\"name\":\"뉴스민\", \"type\":\"abc\", \"ccode\":\"2\", \"code\":\"2424\" }, {\"name\":\"뉴스버스\", \"type\":\"abc\", \"ccode\":\"2\", \"code\":\"2897\" }, {\"name\":\"뉴스브라이트\", \"type\":\"abc\", \"ccode\":\"2\", \"code\":\"2476\" }, {\"name\":\"뉴스앤조이\", \"type\":\"abc\", \"ccode\":\"2\", \"code\":\"2475\" }, {\"name\":\"뉴스엔\", \"type\":\"abc\", \"ccode\":\"2\", \"code\":\"1447\" }, {\"name\":\"뉴스엔\", \"type\":\"abc\", \"ccode\":\"2\", \"code\":\"1609\" }, {\"name\":\"뉴스와이어\", \"type\":\"abc\", \"ccode\":\"2\", \"code\":\"2334\" }, {\"name\":\"뉴스워치\", \"type\":\"abc\", \"ccode\":\"2\", \"code\":\"2673\" }, {\"name\":\"뉴스워커\", \"type\":\"abc\", \"ccode\":\"2\", \"code\":\"2521\" }, {\"name\":\"뉴스웍스\", \"type\":\"abc\", \"ccode\":\"2\", \"code\":\"2525\" }, {\"name\":\"뉴스웨이\", \"type\":\"abc\", \"ccode\":\"2\", \"code\":\"2270\" }, {\"name\":\"뉴스웰\", \"type\":\"abc\", \"ccode\":\"2\", \"code\":\"2873\" }, {\"name\":\"뉴스인사이드\", \"type\":\"abc\", \"ccode\":\"2\", \"code\":\"2095\" }, {\"name\":\"뉴스저널리즘\", \"type\":\"abc\", \"ccode\":\"2\", \"code\":\"2824\" }, {\"name\":\"뉴스제주\", \"type\":\"abc\", \"ccode\":\"2\", \"code\":\"2657\" }, {\"name\":\"뉴스컬처\", \"type\":\"abc\", \"ccode\":\"2\", \"code\":\"2339\" }, {\"name\":\"뉴스케이프\", \"type\":\"abc\", \"ccode\":\"2\", \"code\":\"2819\" }, {\"name\":\"뉴스퀘스트\", \"type\":\"abc\", \"ccode\":\"2\", \"code\":\"2809\" }, {\"name\":\"뉴스클레임\", \"type\":\"abc\", \"ccode\":\"2\", \"code\":\"2772\" }, {\"name\":\"뉴스타파\", \"type\":\"abc\", \"ccode\":\"2\", \"code\":\"1607\" }, {\"name\":\"뉴스토마토\", \"type\":\"abc\", \"ccode\":\"2\", \"code\":\"2119\" }, {\"name\":\"뉴스톱\", \"type\":\"abc\", \"ccode\":\"2\", \"code\":\"2724\" }, {\"name\":\"뉴스투데이\", \"type\":\"abc\", \"ccode\":\"2\", \"code\":\"2527\" }, {\"name\":\"뉴스트리코리아\", \"type\":\"abc\", \"ccode\":\"2\", \"code\":\"2893\" }, {\"name\":\"뉴스티앤티\", \"type\":\"abc\", \"ccode\":\"2\", \"code\":\"2788\" }, {\"name\":\"뉴스펭귄\", \"type\":\"abc\", \"ccode\":\"2\", \"code\":\"2849\" }, {\"name\":\"뉴스포스트\", \"type\":\"abc\", \"ccode\":\"2\", \"code\":\"2491\" }, {\"name\":\"뉴스프리존\", \"type\":\"abc\", \"ccode\":\"2\", \"code\":\"2551\" }, {\"name\":\"뉴스핌\", \"type\":\"abc\", \"ccode\":\"2\", \"code\":\"2002\" }, {\"name\":\"뉴스한국\", \"type\":\"abc\", \"ccode\":\"2\", \"code\":\"2091\" }, {\"name\":\"뉴스후플러스\", \"type\":\"abc\", \"ccode\":\"2\", \"code\":\"2692\" }, {\"name\":\"뉴시스\", \"type\":\"abc\", \"ccode\":\"2\", \"code\":\"1003\" }, {\"name\":\"뉴시안\", \"type\":\"abc\", \"ccode\":\"2\", \"code\":\"2798\" }, {\"name\":\"뉴제주일보\", \"type\":\"abc\", \"ccode\":\"2\", \"code\":\"2452\" }, ] } , { \"name\": \"ㄷ\", \"list\": [ {\"name\":\"단국대학교 웅담\", \"type\":\"abc\", \"ccode\":\"3\", \"code\":\"1599\" }, {\"name\":\"단디뉴스\", \"type\":\"abc\", \"ccode\":\"3\", \"code\":\"2586\" }, {\"name\":\"단비뉴스\", \"type\":\"abc\", \"ccode\":\"3\", \"code\":\"2750\" }, {\"name\":\"당진시대\", \"type\":\"abc\", \"ccode\":\"3\", \"code\":\"2855\" }, {\"name\":\"당진신문\", \"type\":\"abc\", \"ccode\":\"3\", \"code\":\"2678\" }, {\"name\":\"대경일보\", \"type\":\"abc\", \"ccode\":\"3\", \"code\":\"2581\" }, {\"name\":\"대구MBC\", \"type\":\"abc\", \"ccode\":\"3\", \"code\":\"1657\" }, {\"name\":\"대구신문\", \"type\":\"abc\", \"ccode\":\"3\", \"code\":\"2341\" }, {\"name\":\"대구일보\", \"type\":\"abc\", \"ccode\":\"3\", \"code\":\"2287\" }, {\"name\":\"대명 킬러웨일즈\", \"type\":\"abc\", \"ccode\":\"3\", \"code\":\"1538\" }, {\"name\":\"대안신당\", \"type\":\"abc\", \"ccode\":\"3\", \"code\":\"1636\" }, {\"name\":\"대전MBC\", \"type\":\"abc\", \"ccode\":\"3\", \"code\":\"2421\" }, {\"name\":\"대전시티저널\", \"type\":\"abc\", \"ccode\":\"3\", \"code\":\"2069\" }, {\"name\":\"대전일보\", \"type\":\"abc\", \"ccode\":\"3\", \"code\":\"1656\" }, {\"name\":\"대학저널\", \"type\":\"abc\", \"ccode\":\"3\", \"code\":\"2413\" }, {\"name\":\"대한게이트볼협회\", \"type\":\"abc\", \"ccode\":\"3\", \"code\":\"1650\" }, {\"name\":\"대한경제\", \"type\":\"abc\", \"ccode\":\"3\", \"code\":\"2138\" }, {\"name\":\"대한골프협회\", \"type\":\"abc\", \"ccode\":\"3\", \"code\":\"1602\" }, {\"name\":\"대한금융신문\", \"type\":\"abc\", \"ccode\":\"3\", \"code\":\"2282\" }, {\"name\":\"대한급식신문\", \"type\":\"abc\", \"ccode\":\"3\", \"code\":\"2470\" }, {\"name\":\"대한럭비협회\", \"type\":\"abc\", \"ccode\":\"3\", \"code\":\"1547\" }, {\"name\":\"대한민국 정책브리핑\", \"type\":\"abc\", \"ccode\":\"3\", \"code\":\"2881\" }, {\"name\":\"대한민국농구협회\", \"type\":\"abc\", \"ccode\":\"3\", \"code\":\"1589\" }, {\"name\":\"대한민국배구협회\", \"type\":\"abc\", \"ccode\":\"3\", \"code\":\"1600\" }, {\"name\":\"대한봅슬레이스켈레톤경기연맹\", \"type\":\"abc\", \"ccode\":\"3\", \"code\":\"1612\" }, {\"name\":\"대한씨름협회\", \"type\":\"abc\", \"ccode\":\"3\", \"code\":\"1548\" }, {\"name\":\"대한장애인체육회\", \"type\":\"abc\", \"ccode\":\"3\", \"code\":\"1307\" }, {\"name\":\"대한전문건설신문\", \"type\":\"abc\", \"ccode\":\"3\", \"code\":\"2465\" }, {\"name\":\"대한체육회\", \"type\":\"abc\", \"ccode\":\"3\", \"code\":\"1601\" }, {\"name\":\"대한택견회\", \"type\":\"abc\", \"ccode\":\"3\", \"code\":\"1646\" }, {\"name\":\"더 스파이크\", \"type\":\"abc\", \"ccode\":\"3\", \"code\":\"1530\" }, {\"name\":\"더게임스데일리\", \"type\":\"abc\", \"ccode\":\"3\", \"code\":\"2462\" }, {\"name\":\"더구루\", \"type\":\"abc\", \"ccode\":\"3\", \"code\":\"2778\" }, {\"name\":\"더나은미래\", \"type\":\"abc\", \"ccode\":\"3\", \"code\":\"2635\" }, {\"name\":\"더드라이브\", \"type\":\"abc\", \"ccode\":\"3\", \"code\":\"2731\" }, {\"name\":\"더리브스\", \"type\":\"abc\", \"ccode\":\"3\", \"code\":\"2898\" }, {\"name\":\"더리포트\", \"type\":\"abc\", \"ccode\":\"3\", \"code\":\"2780\" }, {\"name\":\"더뮤지컬\", \"type\":\"abc\", \"ccode\":\"3\", \"code\":\"2561\" }, {\"name\":\"더밸류뉴스\", \"type\":\"abc\", \"ccode\":\"3\", \"code\":\"2767\" }, {\"name\":\"더벨\", \"type\":\"abc\", \"ccode\":\"3\", \"code\":\"2254\" }, {\"name\":\"더불어민주당\", \"type\":\"abc\", \"ccode\":\"3\", \"code\":\"1305\" }, {\"name\":\"더불어시민당\", \"type\":\"abc\", \"ccode\":\"3\", \"code\":\"1642\" }, {\"name\":\"더스쿠프\", \"type\":\"abc\", \"ccode\":\"3\", \"code\":\"1665\" }, {\"name\":\"더스탁\", \"type\":\"abc\", \"ccode\":\"3\", \"code\":\"2891\" }, {\"name\":\"더파워\", \"type\":\"abc\", \"ccode\":\"3\", \"code\":\"2832\" }, {\"name\":\"더팩트\", \"type\":\"abc\", \"ccode\":\"3\", \"code\":\"1629\" }, {\"name\":\"더퍼블릭\", \"type\":\"abc\", \"ccode\":\"3\", \"code\":\"2787\" }, {\"name\":\"더퍼스트\", \"type\":\"abc\", \"ccode\":\"3\", \"code\":\"2560\" }, {\"name\":\"더핑퐁\", \"type\":\"abc\", \"ccode\":\"3\", \"code\":\"2680\" }, {\"name\":\"데이터넷\", \"type\":\"abc\", \"ccode\":\"3\", \"code\":\"2096\" }, {\"name\":\"데이터뉴스\", \"type\":\"abc\", \"ccode\":\"3\", \"code\":\"2024\" }, {\"name\":\"데이터솜\", \"type\":\"abc\", \"ccode\":\"3\", \"code\":\"2711\" }, {\"name\":\"데일리e스포츠\", \"type\":\"abc\", \"ccode\":\"3\", \"code\":\"1347\" }, {\"name\":\"데일리NK\", \"type\":\"abc\", \"ccode\":\"3\", \"code\":\"2023\" }, {\"name\":\"데일리경제\", \"type\":\"abc\", \"ccode\":\"3\", \"code\":\"2792\" }, {\"name\":\"데일리굿뉴스\", \"type\":\"abc\", \"ccode\":\"3\", \"code\":\"2646\" }, {\"name\":\"데일리로그\", \"type\":\"abc\", \"ccode\":\"3\", \"code\":\"2684\" }, {\"name\":\"데일리메디\", \"type\":\"abc\", \"ccode\":\"3\", \"code\":\"2125\" }, {\"name\":\"데일리벳\", \"type\":\"abc\", \"ccode\":\"3\", \"code\":\"2392\" }, {\"name\":\"데일리스포츠한국\", \"type\":\"abc\", \"ccode\":\"3\", \"code\":\"2604\" }, {\"name\":\"데일리시큐\", \"type\":\"abc\", \"ccode\":\"3\", \"code\":\"2350\" }, {\"name\":\"데일리안\", \"type\":\"abc\", \"ccode\":\"3\", \"code\":\"1119\" }, {\"name\":\"데일리임팩트\", \"type\":\"abc\", \"ccode\":\"3\", \"code\":\"2670\" }, {\"name\":\"데일리카\", \"type\":\"abc\", \"ccode\":\"3\", \"code\":\"2621\" }, {\"name\":\"데일리팜\", \"type\":\"abc\", \"ccode\":\"3\", \"code\":\"2190\" }, {\"name\":\"데일리팝\", \"type\":\"abc\", \"ccode\":\"3\", \"code\":\"2516\" }, {\"name\":\"데일리포스트\", \"type\":\"abc\", \"ccode\":\"3\", \"code\":\"2771\" }, {\"name\":\"데일리한국\", \"type\":\"abc\", \"ccode\":\"3\", \"code\":\"2358\" }, {\"name\":\"데일리환경\", \"type\":\"abc\", \"ccode\":\"3\", \"code\":\"2878\" }, {\"name\":\"도엔\", \"type\":\"abc\", \"ccode\":\"3\", \"code\":\"1511\" }, {\"name\":\"독서신문\", \"type\":\"abc\", \"ccode\":\"3\", \"code\":\"2043\" }, {\"name\":\"동국대학교 다르마\", \"type\":\"abc\", \"ccode\":\"3\", \"code\":\"1644\" }, {\"name\":\"동아사이언스\", \"type\":\"abc\", \"ccode\":\"3\", \"code\":\"1584\" }, {\"name\":\"동아일보\", \"type\":\"abc\", \"ccode\":\"3\", \"code\":\"1020\" }, {\"name\":\"동양일보\", \"type\":\"abc\", \"ccode\":\"3\", \"code\":\"2344\" }, {\"name\":\"디센터\", \"type\":\"abc\", \"ccode\":\"3\", \"code\":\"2751\" }, {\"name\":\"디스이즈게임\", \"type\":\"abc\", \"ccode\":\"3\", \"code\":\"1439\" }, {\"name\":\"디스커버리뉴스\", \"type\":\"abc\", \"ccode\":\"3\", \"code\":\"2613\" }, {\"name\":\"디스패치\", \"type\":\"abc\", \"ccode\":\"3\", \"code\":\"1433\" }, {\"name\":\"디아이투데이\", \"type\":\"abc\", \"ccode\":\"3\", \"code\":\"2213\" }, {\"name\":\"디일렉\", \"type\":\"abc\", \"ccode\":\"3\", \"code\":\"2892\" }, {\"name\":\"디자인정글\", \"type\":\"abc\", \"ccode\":\"3\", \"code\":\"2188\" }, {\"name\":\"디지털데일리\", \"type\":\"abc\", \"ccode\":\"3\", \"code\":\"1138\" }, {\"name\":\"디지털비즈온\", \"type\":\"abc\", \"ccode\":\"3\", \"code\":\"2899\" }, {\"name\":\"디지털타임스\", \"type\":\"abc\", \"ccode\":\"3\", \"code\":\"1029\" }, {\"name\":\"디지털투데이\", \"type\":\"abc\", \"ccode\":\"3\", \"code\":\"2137\" }, {\"name\":\"디지틀조선TV\", \"type\":\"abc\", \"ccode\":\"3\", \"code\":\"2749\" }, {\"name\":\"디지틀조선일보\", \"type\":\"abc\", \"ccode\":\"3\", \"code\":\"2641\" }, {\"name\":\"디트뉴스24\", \"type\":\"abc\", \"ccode\":\"3\", \"code\":\"2232\" }, {\"name\":\"딜라이트닷넷\", \"type\":\"abc\", \"ccode\":\"3\", \"code\":\"2214\" }, {\"name\":\"딜사이트\", \"type\":\"abc\", \"ccode\":\"3\", \"code\":\"2630\" }, {\"name\":\"딴지일보\", \"type\":\"abc\", \"ccode\":\"3\", \"code\":\"2390\" }, {\"name\":\"땅집고\", \"type\":\"abc\", \"ccode\":\"3\", \"code\":\"2790\" }, ] } , { \"name\": \"ㄹ\", \"list\": [ {\"name\":\"라디오코리아\", \"type\":\"abc\", \"ccode\":\"4\", \"code\":\"2083\" }, {\"name\":\"라온신문\", \"type\":\"abc\", \"ccode\":\"4\", \"code\":\"2874\" }, {\"name\":\"라이브팜뉴스\", \"type\":\"abc\", \"ccode\":\"4\", \"code\":\"2811\" }, {\"name\":\"라이센스뉴스\", \"type\":\"abc\", \"ccode\":\"4\", \"code\":\"2762\" }, {\"name\":\"라이프인\", \"type\":\"abc\", \"ccode\":\"4\", \"code\":\"2861\" }, {\"name\":\"라포르시안\", \"type\":\"abc\", \"ccode\":\"4\", \"code\":\"2248\" }, {\"name\":\"레디앙\", \"type\":\"abc\", \"ccode\":\"4\", \"code\":\"2315\" }, {\"name\":\"레이디경향\", \"type\":\"abc\", \"ccode\":\"4\", \"code\":\"1145\" }, {\"name\":\"로리더\", \"type\":\"abc\", \"ccode\":\"4\", \"code\":\"2775\" }, {\"name\":\"로봇신문\", \"type\":\"abc\", \"ccode\":\"4\", \"code\":\"2430\" }, {\"name\":\"로이슈\", \"type\":\"abc\", \"ccode\":\"4\", \"code\":\"2289\" }, {\"name\":\"로톡뉴스\", \"type\":\"abc\", \"ccode\":\"4\", \"code\":\"2845\" }, {\"name\":\"론리플래닛\", \"type\":\"abc\", \"ccode\":\"4\", \"code\":\"2607\" }, {\"name\":\"루키\", \"type\":\"abc\", \"ccode\":\"4\", \"code\":\"1398\" }, {\"name\":\"류현진 MLB 일기\", \"type\":\"abc\", \"ccode\":\"4\", \"code\":\"1513\" }, {\"name\":\"르몽드\", \"type\":\"abc\", \"ccode\":\"4\", \"code\":\"2260\" }, {\"name\":\"리걸타임즈\", \"type\":\"abc\", \"ccode\":\"4\", \"code\":\"2674\" }, {\"name\":\"리버티코리아포스트\", \"type\":\"abc\", \"ccode\":\"4\", \"code\":\"2791\" }, {\"name\":\"리얼캐스트\", \"type\":\"abc\", \"ccode\":\"4\", \"code\":\"2705\" }, {\"name\":\"리얼푸드\", \"type\":\"abc\", \"ccode\":\"4\", \"code\":\"2419\" }, ] } , { \"name\": \"ㅁ\", \"list\": [ {\"name\":\"마니아타임즈\", \"type\":\"abc\", \"ccode\":\"5\", \"code\":\"1425\" }, {\"name\":\"마리끌레르\", \"type\":\"abc\", \"ccode\":\"5\", \"code\":\"2547\" }, {\"name\":\"마이데일리\", \"type\":\"abc\", \"ccode\":\"5\", \"code\":\"1117\" }, {\"name\":\"마켓뉴스\", \"type\":\"abc\", \"ccode\":\"5\", \"code\":\"2697\" }, {\"name\":\"매경이코노미\", \"type\":\"abc\", \"ccode\":\"5\", \"code\":\"1024\" }, {\"name\":\"매경헬스\", \"type\":\"abc\", \"ccode\":\"5\", \"code\":\"2717\" }, {\"name\":\"매일건설신문\", \"type\":\"abc\", \"ccode\":\"5\", \"code\":\"2900\" }, {\"name\":\"매일경제\", \"type\":\"abc\", \"ccode\":\"5\", \"code\":\"1009\" }, {\"name\":\"매일경제TV\", \"type\":\"abc\", \"ccode\":\"5\", \"code\":\"2274\" }, {\"name\":\"매일노동뉴스\", \"type\":\"abc\", \"ccode\":\"5\", \"code\":\"2431\" }, {\"name\":\"매일신문\", \"type\":\"abc\", \"ccode\":\"5\", \"code\":\"1088\" }, {\"name\":\"매일안전신문\", \"type\":\"abc\", \"ccode\":\"5\", \"code\":\"2812\" }, {\"name\":\"매일일보\", \"type\":\"abc\", \"ccode\":\"5\", \"code\":\"2385\" }, {\"name\":\"맥스무비\", \"type\":\"abc\", \"ccode\":\"5\", \"code\":\"2078\" }, {\"name\":\"맨체스터시티 FC\", \"type\":\"abc\", \"ccode\":\"5\", \"code\":\"1624\" }, {\"name\":\"머니\", \"type\":\"abc\", \"ccode\":\"5\", \"code\":\"2448\" }, {\"name\":\"머니S\", \"type\":\"abc\", \"ccode\":\"5\", \"code\":\"1417\" }, {\"name\":\"머니투데이\", \"type\":\"abc\", \"ccode\":\"5\", \"code\":\"1008\" }, {\"name\":\"메가경제\", \"type\":\"abc\", \"ccode\":\"5\", \"code\":\"2770\" }, {\"name\":\"메디게이트뉴스\", \"type\":\"abc\", \"ccode\":\"5\", \"code\":\"2479\" }, {\"name\":\"메디소비자뉴스\", \"type\":\"abc\", \"ccode\":\"5\", \"code\":\"2576\" }, {\"name\":\"메디칼업저버\", \"type\":\"abc\", \"ccode\":\"5\", \"code\":\"2371\" }, {\"name\":\"메디칼타임즈\", \"type\":\"abc\", \"ccode\":\"5\", \"code\":\"2391\" }, {\"name\":\"메디칼트리뷴\", \"type\":\"abc\", \"ccode\":\"5\", \"code\":\"2389\" }, {\"name\":\"메디컬월드뉴스\", \"type\":\"abc\", \"ccode\":\"5\", \"code\":\"2620\" }, {\"name\":\"메디컬투데이\", \"type\":\"abc\", \"ccode\":\"5\", \"code\":\"2269\" }, {\"name\":\"메디코파마뉴스\", \"type\":\"abc\", \"ccode\":\"5\", \"code\":\"2862\" }, {\"name\":\"메디파나뉴스\", \"type\":\"abc\", \"ccode\":\"5\", \"code\":\"2126\" }, {\"name\":\"메종\", \"type\":\"abc\", \"ccode\":\"5\", \"code\":\"2640\" }, {\"name\":\"메트로신문\", \"type\":\"abc\", \"ccode\":\"5\", \"code\":\"2286\" }, {\"name\":\"모터트렌드 코리아\", \"type\":\"abc\", \"ccode\":\"5\", \"code\":\"2797\" }, {\"name\":\"목포MBC\", \"type\":\"abc\", \"ccode\":\"5\", \"code\":\"2735\" }, {\"name\":\"몬스터짐\", \"type\":\"abc\", \"ccode\":\"5\", \"code\":\"1409\" }, {\"name\":\"무등일보\", \"type\":\"abc\", \"ccode\":\"5\", \"code\":\"2323\" }, {\"name\":\"무비스트\", \"type\":\"abc\", \"ccode\":\"5\", \"code\":\"2357\" }, {\"name\":\"무비위크\", \"type\":\"abc\", \"ccode\":\"5\", \"code\":\"1242\" }, {\"name\":\"무카스\", \"type\":\"abc\", \"ccode\":\"5\", \"code\":\"2071\" }, {\"name\":\"문학뉴스\", \"type\":\"abc\", \"ccode\":\"5\", \"code\":\"2628\" }, {\"name\":\"문화뉴스\", \"type\":\"abc\", \"ccode\":\"5\", \"code\":\"2415\" }, {\"name\":\"문화일보\", \"type\":\"abc\", \"ccode\":\"5\", \"code\":\"1021\" }, {\"name\":\"문화저널21\", \"type\":\"abc\", \"ccode\":\"5\", \"code\":\"2420\" }, {\"name\":\"물류신문\", \"type\":\"abc\", \"ccode\":\"5\", \"code\":\"2148\" }, {\"name\":\"미디어스\", \"type\":\"abc\", \"ccode\":\"5\", \"code\":\"2060\" }, {\"name\":\"미디어오늘\", \"type\":\"abc\", \"ccode\":\"5\", \"code\":\"1006\" }, {\"name\":\"미디어워치\", \"type\":\"abc\", \"ccode\":\"5\", \"code\":\"2010\" }, {\"name\":\"미디어제주\", \"type\":\"abc\", \"ccode\":\"5\", \"code\":\"2522\" }, {\"name\":\"미디어파인\", \"type\":\"abc\", \"ccode\":\"5\", \"code\":\"2443\" }, {\"name\":\"미디어펜\", \"type\":\"abc\", \"ccode\":\"5\", \"code\":\"2244\" }, {\"name\":\"미래통합당\", \"type\":\"abc\", \"ccode\":\"5\", \"code\":\"1156\" }, {\"name\":\"미주중앙일보\", \"type\":\"abc\", \"ccode\":\"5\", \"code\":\"2292\" }, {\"name\":\"미주한국일보\", \"type\":\"abc\", \"ccode\":\"5\", \"code\":\"2428\" }, {\"name\":\"민생당\", \"type\":\"abc\", \"ccode\":\"5\", \"code\":\"1517\" }, {\"name\":\"민족의학신문\", \"type\":\"abc\", \"ccode\":\"5\", \"code\":\"2322\" }, {\"name\":\"민주신문\", \"type\":\"abc\", \"ccode\":\"5\", \"code\":\"2647\" }, {\"name\":\"민주평화당\", \"type\":\"abc\", \"ccode\":\"5\", \"code\":\"1594\" }, {\"name\":\"민중당\", \"type\":\"abc\", \"ccode\":\"5\", \"code\":\"1608\" }, {\"name\":\"민중의소리\", \"type\":\"abc\", \"ccode\":\"5\", \"code\":\"2683\" }, ] } , { \"name\": \"ㅂ\", \"list\": [ {\"name\":\"바른정당\", \"type\":\"abc\", \"ccode\":\"6\", \"code\":\"1552\" }, {\"name\":\"바이라인네트워크\", \"type\":\"abc\", \"ccode\":\"6\", \"code\":\"2704\" }, {\"name\":\"바이오스펙테이터\", \"type\":\"abc\", \"ccode\":\"6\", \"code\":\"2651\" }, {\"name\":\"바이오타임즈\", \"type\":\"abc\", \"ccode\":\"6\", \"code\":\"2872\" }, {\"name\":\"박문성 칼럼\", \"type\":\"abc\", \"ccode\":\"6\", \"code\":\"1208\" }, {\"name\":\"반론보도닷컴\", \"type\":\"abc\", \"ccode\":\"6\", \"code\":\"2901\" }, {\"name\":\"발렌시아CF\", \"type\":\"abc\", \"ccode\":\"6\", \"code\":\"1614\" }, {\"name\":\"방송기술저널\", \"type\":\"abc\", \"ccode\":\"6\", \"code\":\"2660\" }, {\"name\":\"배드민턴뉴스\", \"type\":\"abc\", \"ccode\":\"6\", \"code\":\"2863\" }, {\"name\":\"백세시대\", \"type\":\"abc\", \"ccode\":\"6\", \"code\":\"2466\" }, {\"name\":\"법률방송뉴스\", \"type\":\"abc\", \"ccode\":\"6\", \"code\":\"2626\" }, {\"name\":\"법률신문\", \"type\":\"abc\", \"ccode\":\"6\", \"code\":\"2094\" }, {\"name\":\"법률저널\", \"type\":\"abc\", \"ccode\":\"6\", \"code\":\"2144\" }, {\"name\":\"법보신문\", \"type\":\"abc\", \"ccode\":\"6\", \"code\":\"2157\" }, {\"name\":\"법조신문\", \"type\":\"abc\", \"ccode\":\"6\", \"code\":\"2330\" }, {\"name\":\"베리타스알파\", \"type\":\"abc\", \"ccode\":\"6\", \"code\":\"2258\" }, {\"name\":\"베스트일레븐\", \"type\":\"abc\", \"ccode\":\"6\", \"code\":\"1343\" }, {\"name\":\"베이비뉴스\", \"type\":\"abc\", \"ccode\":\"6\", \"code\":\"2295\" }, {\"name\":\"베이비타임즈\", \"type\":\"abc\", \"ccode\":\"6\", \"code\":\"2631\" }, {\"name\":\"베타뉴스\", \"type\":\"abc\", \"ccode\":\"6\", \"code\":\"2017\" }, {\"name\":\"벤처스퀘어\", \"type\":\"abc\", \"ccode\":\"6\", \"code\":\"2506\" }, {\"name\":\"보건뉴스\", \"type\":\"abc\", \"ccode\":\"6\", \"code\":\"2602\" }, {\"name\":\"보루시아 도르트문트\", \"type\":\"abc\", \"ccode\":\"6\", \"code\":\"1652\" }, {\"name\":\"보안뉴스\", \"type\":\"abc\", \"ccode\":\"6\", \"code\":\"2016\" }, {\"name\":\"보험매일\", \"type\":\"abc\", \"ccode\":\"6\", \"code\":\"2715\" }, {\"name\":\"부산MBC\", \"type\":\"abc\", \"ccode\":\"6\", \"code\":\"2538\" }, {\"name\":\"부산일보\", \"type\":\"abc\", \"ccode\":\"6\", \"code\":\"1082\" }, {\"name\":\"부산제일경제\", \"type\":\"abc\", \"ccode\":\"6\", \"code\":\"2515\" }, {\"name\":\"부안독립신문\", \"type\":\"abc\", \"ccode\":\"6\", \"code\":\"2590\" }, {\"name\":\"북DB\", \"type\":\"abc\", \"ccode\":\"6\", \"code\":\"2441\" }, {\"name\":\"불교공뉴스\", \"type\":\"abc\", \"ccode\":\"6\", \"code\":\"2324\" }, {\"name\":\"불교닷컴\", \"type\":\"abc\", \"ccode\":\"6\", \"code\":\"2884\" }, {\"name\":\"불교신문\", \"type\":\"abc\", \"ccode\":\"6\", \"code\":\"2149\" }, {\"name\":\"불교포커스\", \"type\":\"abc\", \"ccode\":\"6\", \"code\":\"2488\" }, {\"name\":\"뷰스앤뉴스\", \"type\":\"abc\", \"ccode\":\"6\", \"code\":\"2007\" }, {\"name\":\"뷰어스\", \"type\":\"abc\", \"ccode\":\"6\", \"code\":\"2597\" }, {\"name\":\"뷰티경제\", \"type\":\"abc\", \"ccode\":\"6\", \"code\":\"2902\" }, {\"name\":\"브라보마이라이프\", \"type\":\"abc\", \"ccode\":\"6\", \"code\":\"2474\" }, {\"name\":\"브라이언 스털\", \"type\":\"abc\", \"ccode\":\"6\", \"code\":\"1560\" }, {\"name\":\"브레이크뉴스\", \"type\":\"abc\", \"ccode\":\"6\", \"code\":\"2297\" }, {\"name\":\"브레인미디어\", \"type\":\"abc\", \"ccode\":\"6\", \"code\":\"2065\" }, {\"name\":\"브릿지경제\", \"type\":\"abc\", \"ccode\":\"6\", \"code\":\"2394\" }, {\"name\":\"블로터\", \"type\":\"abc\", \"ccode\":\"6\", \"code\":\"1293\" }, {\"name\":\"블록체인밸리\", \"type\":\"abc\", \"ccode\":\"6\", \"code\":\"2703\" }, {\"name\":\"비건뉴스\", \"type\":\"abc\", \"ccode\":\"6\", \"code\":\"2888\" }, {\"name\":\"비마이너\", \"type\":\"abc\", \"ccode\":\"6\", \"code\":\"2487\" }, {\"name\":\"비욘드포스트\", \"type\":\"abc\", \"ccode\":\"6\", \"code\":\"2736\" }, {\"name\":\"비주얼다이브\", \"type\":\"abc\", \"ccode\":\"6\", \"code\":\"2327\" }, {\"name\":\"비즈니스포스트\", \"type\":\"abc\", \"ccode\":\"6\", \"code\":\"2374\" }, {\"name\":\"비즈니스플러스\", \"type\":\"abc\", \"ccode\":\"6\", \"code\":\"2875\" }, {\"name\":\"비즈볼프로젝트\", \"type\":\"abc\", \"ccode\":\"6\", \"code\":\"1489\" }, {\"name\":\"비즈엔터\", \"type\":\"abc\", \"ccode\":\"6\", \"code\":\"2352\" }, {\"name\":\"비즈워치\", \"type\":\"abc\", \"ccode\":\"6\", \"code\":\"1648\" }, {\"name\":\"비즈월드\", \"type\":\"abc\", \"ccode\":\"6\", \"code\":\"2813\" }, {\"name\":\"비즈트리뷴\", \"type\":\"abc\", \"ccode\":\"6\", \"code\":\"2469\" }, {\"name\":\"비즈한국\", \"type\":\"abc\", \"ccode\":\"6\", \"code\":\"2480\" }, {\"name\":\"비지니스코리아\", \"type\":\"abc\", \"ccode\":\"6\", \"code\":\"2652\" }, {\"name\":\"빅데이터뉴스\", \"type\":\"abc\", \"ccode\":\"6\", \"code\":\"2645\" }, {\"name\":\"빅터뉴스\", \"type\":\"abc\", \"ccode\":\"6\", \"code\":\"2814\" }, {\"name\":\"빌리어즈\", \"type\":\"abc\", \"ccode\":\"6\", \"code\":\"2496\" }, ] } , { \"name\": \"ㅅ\", \"list\": [ {\"name\":\"산업일보\", \"type\":\"abc\", \"ccode\":\"7\", \"code\":\"2433\" }, {\"name\":\"삼성 썬더스\", \"type\":\"abc\", \"ccode\":\"7\", \"code\":\"1371\" }, {\"name\":\"새로운보수당\", \"type\":\"abc\", \"ccode\":\"7\", \"code\":\"1634\" }, {\"name\":\"새전북신문\", \"type\":\"abc\", \"ccode\":\"7\", \"code\":\"2153\" }, {\"name\":\"서울경제\", \"type\":\"abc\", \"ccode\":\"7\", \"code\":\"1011\" }, {\"name\":\"서울경제TV\", \"type\":\"abc\", \"ccode\":\"7\", \"code\":\"2656\" }, {\"name\":\"서울문화투데이\", \"type\":\"abc\", \"ccode\":\"7\", \"code\":\"2821\" }, {\"name\":\"서울시체육회\", \"type\":\"abc\", \"ccode\":\"7\", \"code\":\"1597\" }, {\"name\":\"서울신문\", \"type\":\"abc\", \"ccode\":\"7\", \"code\":\"1081\" }, {\"name\":\"서울와이어\", \"type\":\"abc\", \"ccode\":\"7\", \"code\":\"2526\" }, {\"name\":\"서울유나이티드\", \"type\":\"abc\", \"ccode\":\"7\", \"code\":\"1522\" }, {\"name\":\"서울이코노미뉴스\", \"type\":\"abc\", \"ccode\":\"7\", \"code\":\"2774\" }, {\"name\":\"서울파이낸스\", \"type\":\"abc\", \"ccode\":\"7\", \"code\":\"2001\" }, {\"name\":\"서형욱 칼럼\", \"type\":\"abc\", \"ccode\":\"7\", \"code\":\"1260\" }, {\"name\":\"서호정 칼럼\", \"type\":\"abc\", \"ccode\":\"7\", \"code\":\"1452\" }, {\"name\":\"선문대학교 축구부 프론트\", \"type\":\"abc\", \"ccode\":\"7\", \"code\":\"1633\" }, {\"name\":\"성균관대학교 ESKAKA\", \"type\":\"abc\", \"ccode\":\"7\", \"code\":\"1571\" }, {\"name\":\"성주신문\", \"type\":\"abc\", \"ccode\":\"7\", \"code\":\"2894\" }, {\"name\":\"성호준 칼럼\", \"type\":\"abc\", \"ccode\":\"7\", \"code\":\"1485\" }, {\"name\":\"세계비즈\", \"type\":\"abc\", \"ccode\":\"7\", \"code\":\"2653\" }, {\"name\":\"세계일보\", \"type\":\"abc\", \"ccode\":\"7\", \"code\":\"1022\" }, {\"name\":\"세이프타임즈\", \"type\":\"abc\", \"ccode\":\"7\", \"code\":\"2754\" }, {\"name\":\"세정신문\", \"type\":\"abc\", \"ccode\":\"7\", \"code\":\"2030\" }, {\"name\":\"세정일보\", \"type\":\"abc\", \"ccode\":\"7\", \"code\":\"2571\" }, {\"name\":\"세종의 소리\", \"type\":\"abc\", \"ccode\":\"7\", \"code\":\"2776\" }, {\"name\":\"셀럽미디어\", \"type\":\"abc\", \"ccode\":\"7\", \"code\":\"2349\" }, {\"name\":\"소년한국일보\", \"type\":\"abc\", \"ccode\":\"7\", \"code\":\"2360\" }, {\"name\":\"소믈리에타임즈\", \"type\":\"abc\", \"ccode\":\"7\", \"code\":\"2426\" }, {\"name\":\"소비자가 만드는 신문\", \"type\":\"abc\", \"ccode\":\"7\", \"code\":\"2275\" }, {\"name\":\"소셜밸류\", \"type\":\"abc\", \"ccode\":\"7\", \"code\":\"2825\" }, {\"name\":\"손대범 칼럼\", \"type\":\"abc\", \"ccode\":\"7\", \"code\":\"1430\" }, {\"name\":\"송산의 돌직구\", \"type\":\"abc\", \"ccode\":\"7\", \"code\":\"1483\" }, {\"name\":\"수원대학교 축구부 기자단\", \"type\":\"abc\", \"ccode\":\"7\", \"code\":\"1627\" }, {\"name\":\"수원일보\", \"type\":\"abc\", \"ccode\":\"7\", \"code\":\"2102\" }, {\"name\":\"슈어\", \"type\":\"abc\", \"ccode\":\"7\", \"code\":\"2215\" }, {\"name\":\"스마트경제\", \"type\":\"abc\", \"ccode\":\"7\", \"code\":\"2693\" }, {\"name\":\"스마트에프엔\", \"type\":\"abc\", \"ccode\":\"7\", \"code\":\"2827\" }, {\"name\":\"스마트타임스\", \"type\":\"abc\", \"ccode\":\"7\", \"code\":\"2890\" }, {\"name\":\"스마트투데이\", \"type\":\"abc\", \"ccode\":\"7\", \"code\":\"2864\" }, {\"name\":\"스카우팅리포트\", \"type\":\"abc\", \"ccode\":\"7\", \"code\":\"1557\" }, {\"name\":\"스카이데일리\", \"type\":\"abc\", \"ccode\":\"7\", \"code\":\"2510\" }, {\"name\":\"스타뉴스\", \"type\":\"abc\", \"ccode\":\"7\", \"code\":\"1108\" }, {\"name\":\"스타데일리뉴스\", \"type\":\"abc\", \"ccode\":\"7\", \"code\":\"2401\" }, {\"name\":\"스타캐스트\", \"type\":\"abc\", \"ccode\":\"7\", \"code\":\"1420\" }, {\"name\":\"스트레이트뉴스\", \"type\":\"abc\", \"ccode\":\"7\", \"code\":\"2677\" }, {\"name\":\"스포츠Q\", \"type\":\"abc\", \"ccode\":\"7\", \"code\":\"2400\" }, {\"name\":\"스포츠W\", \"type\":\"abc\", \"ccode\":\"7\", \"code\":\"2753\" }, {\"name\":\"스포츠경향\", \"type\":\"abc\", \"ccode\":\"7\", \"code\":\"1144\" }, {\"name\":\"스포츠동아\", \"type\":\"abc\", \"ccode\":\"7\", \"code\":\"1382\" }, {\"name\":\"스포츠서울\", \"type\":\"abc\", \"ccode\":\"7\", \"code\":\"1468\" }, {\"name\":\"스포츠월드\", \"type\":\"abc\", \"ccode\":\"7\", \"code\":\"1396\" }, {\"name\":\"스포츠조선\", \"type\":\"abc\", \"ccode\":\"7\", \"code\":\"1076\" }, {\"name\":\"스포츠춘추\", \"type\":\"abc\", \"ccode\":\"7\", \"code\":\"1529\" }, {\"name\":\"스포츠타임스\", \"type\":\"abc\", \"ccode\":\"7\", \"code\":\"1472\" }, {\"name\":\"스포츠투데이\", \"type\":\"abc\", \"ccode\":\"7\", \"code\":\"2348\" }, {\"name\":\"스포츠투아이\", \"type\":\"abc\", \"ccode\":\"7\", \"code\":\"1488\" }, {\"name\":\"스포츠한국\", \"type\":\"abc\", \"ccode\":\"7\", \"code\":\"2359\" }, {\"name\":\"스포탈코리아\", \"type\":\"abc\", \"ccode\":\"7\", \"code\":\"1139\" }, {\"name\":\"스포티비뉴스\", \"type\":\"abc\", \"ccode\":\"7\", \"code\":\"1477\" }, {\"name\":\"슬로우뉴스\", \"type\":\"abc\", \"ccode\":\"7\", \"code\":\"2397\" }, {\"name\":\"시민의소리\", \"type\":\"abc\", \"ccode\":\"7\", \"code\":\"2439\" }, {\"name\":\"시민일보\", \"type\":\"abc\", \"ccode\":\"7\", \"code\":\"2055\" }, {\"name\":\"시빅뉴스\", \"type\":\"abc\", \"ccode\":\"7\", \"code\":\"2461\" }, {\"name\":\"시사IN\", \"type\":\"abc\", \"ccode\":\"7\", \"code\":\"1308\" }, {\"name\":\"시사뉴스24\", \"type\":\"abc\", \"ccode\":\"7\", \"code\":\"2799\" }, {\"name\":\"시사오늘\", \"type\":\"abc\", \"ccode\":\"7\", \"code\":\"2370\" }, {\"name\":\"시사위크\", \"type\":\"abc\", \"ccode\":\"7\", \"code\":\"2337\" }, {\"name\":\"시사저널\", \"type\":\"abc\", \"ccode\":\"7\", \"code\":\"1586\" }, {\"name\":\"시사저널이코노미\", \"type\":\"abc\", \"ccode\":\"7\", \"code\":\"2471\" }, {\"name\":\"시사제주\", \"type\":\"abc\", \"ccode\":\"7\", \"code\":\"2179\" }, {\"name\":\"시사캐스트\", \"type\":\"abc\", \"ccode\":\"7\", \"code\":\"2854\" }, {\"name\":\"시사포커스\", \"type\":\"abc\", \"ccode\":\"7\", \"code\":\"2329\" }, {\"name\":\"시선뉴스\", \"type\":\"abc\", \"ccode\":\"7\", \"code\":\"2369\" }, {\"name\":\"시장경제신문\", \"type\":\"abc\", \"ccode\":\"7\", \"code\":\"2528\" }, {\"name\":\"식품저널 foodnews\", \"type\":\"abc\", \"ccode\":\"7\", \"code\":\"2595\" }, {\"name\":\"신동아\", \"type\":\"abc\", \"ccode\":\"7\", \"code\":\"1262\" }, {\"name\":\"신소재경제신문\", \"type\":\"abc\", \"ccode\":\"7\", \"code\":\"2644\" }, {\"name\":\"신아일보\", \"type\":\"abc\", \"ccode\":\"7\", \"code\":\"2364\" }, {\"name\":\"신화사 연합뉴스\", \"type\":\"abc\", \"ccode\":\"7\", \"code\":\"1348\" }, {\"name\":\"싱글리스트\", \"type\":\"abc\", \"ccode\":\"7\", \"code\":\"2575\" }, {\"name\":\"쎄씨\", \"type\":\"abc\", \"ccode\":\"7\", \"code\":\"2219\" }, {\"name\":\"씨네21\", \"type\":\"abc\", \"ccode\":\"7\", \"code\":\"1140\" }, {\"name\":\"씨넷코리아\", \"type\":\"abc\", \"ccode\":\"7\", \"code\":\"2405\" }, ] } , { \"name\": \"ㅇ\", \"list\": [ {\"name\":\"아리랑TV\", \"type\":\"abc\", \"ccode\":\"8\", \"code\":\"2363\" }, {\"name\":\"아시아경제\", \"type\":\"abc\", \"ccode\":\"8\", \"code\":\"1277\" }, {\"name\":\"아시아리그\", \"type\":\"abc\", \"ccode\":\"8\", \"code\":\"1603\" }, {\"name\":\"아시아에이\", \"type\":\"abc\", \"ccode\":\"8\", \"code\":\"2755\" }, {\"name\":\"아시아엔\", \"type\":\"abc\", \"ccode\":\"8\", \"code\":\"2216\" }, {\"name\":\"아시아타임즈\", \"type\":\"abc\", \"ccode\":\"8\", \"code\":\"2492\" }, {\"name\":\"아시아투데이\", \"type\":\"abc\", \"ccode\":\"8\", \"code\":\"2268\" }, {\"name\":\"아웃도어뉴스\", \"type\":\"abc\", \"ccode\":\"8\", \"code\":\"2222\" }, {\"name\":\"아유경제\", \"type\":\"abc\", \"ccode\":\"8\", \"code\":\"2609\" }, {\"name\":\"아이뉴스24\", \"type\":\"abc\", \"ccode\":\"8\", \"code\":\"1031\" }, {\"name\":\"아이즈 ize\", \"type\":\"abc\", \"ccode\":\"8\", \"code\":\"1465\" }, {\"name\":\"아이투자\", \"type\":\"abc\", \"ccode\":\"8\", \"code\":\"2578\" }, {\"name\":\"아이티데일리\", \"type\":\"abc\", \"ccode\":\"8\", \"code\":\"2046\" }, {\"name\":\"아이티비즈\", \"type\":\"abc\", \"ccode\":\"8\", \"code\":\"2579\" }, {\"name\":\"아주경제\", \"type\":\"abc\", \"ccode\":\"8\", \"code\":\"2090\" }, {\"name\":\"아주대 축구부 프론트\", \"type\":\"abc\", \"ccode\":\"8\", \"code\":\"1645\" }, {\"name\":\"아트인사이트\", \"type\":\"abc\", \"ccode\":\"8\", \"code\":\"2726\" }, {\"name\":\"아파트관리신문\", \"type\":\"abc\", \"ccode\":\"8\", \"code\":\"2501\" }, {\"name\":\"안동MBC\", \"type\":\"abc\", \"ccode\":\"8\", \"code\":\"2318\" }, {\"name\":\"안산그리너스FC\", \"type\":\"abc\", \"ccode\":\"8\", \"code\":\"1591\" }, {\"name\":\"안산무궁화프로축구단\", \"type\":\"abc\", \"ccode\":\"8\", \"code\":\"1520\" }, {\"name\":\"안전신문\", \"type\":\"abc\", \"ccode\":\"8\", \"code\":\"2729\" }, {\"name\":\"알베르토 몬디\", \"type\":\"abc\", \"ccode\":\"8\", \"code\":\"1554\" }, {\"name\":\"알티케이뉴스\", \"type\":\"abc\", \"ccode\":\"8\", \"code\":\"2903\" }, {\"name\":\"애슬릿미디어\", \"type\":\"abc\", \"ccode\":\"8\", \"code\":\"1540\" }, {\"name\":\"앤드류 배걸리\", \"type\":\"abc\", \"ccode\":\"8\", \"code\":\"1556\" }, {\"name\":\"앱스토리\", \"type\":\"abc\", \"ccode\":\"8\", \"code\":\"2716\" }, {\"name\":\"앳스타일\", \"type\":\"abc\", \"ccode\":\"8\", \"code\":\"1415\" }, {\"name\":\"야덕일지\", \"type\":\"abc\", \"ccode\":\"8\", \"code\":\"1487\" }, {\"name\":\"야큐 리포트\", \"type\":\"abc\", \"ccode\":\"8\", \"code\":\"1264\" }, {\"name\":\"약사공론\", \"type\":\"abc\", \"ccode\":\"8\", \"code\":\"2332\" }, {\"name\":\"약업신문\", \"type\":\"abc\", \"ccode\":\"8\", \"code\":\"2100\" }, {\"name\":\"양산신문\", \"type\":\"abc\", \"ccode\":\"8\", \"code\":\"2904\" }, {\"name\":\"양주시민축구단\", \"type\":\"abc\", \"ccode\":\"8\", \"code\":\"1623\" }, {\"name\":\"양평시민의소리\", \"type\":\"abc\", \"ccode\":\"8\", \"code\":\"2519\" }, {\"name\":\"어린이동아\", \"type\":\"abc\", \"ccode\":\"8\", \"code\":\"2557\" }, {\"name\":\"어업IN수산\", \"type\":\"abc\", \"ccode\":\"8\", \"code\":\"2565\" }, {\"name\":\"어패럴뉴스\", \"type\":\"abc\", \"ccode\":\"8\", \"code\":\"2197\" }, {\"name\":\"얼리어답터\", \"type\":\"abc\", \"ccode\":\"8\", \"code\":\"2707\" }, {\"name\":\"업다운뉴스\", \"type\":\"abc\", \"ccode\":\"8\", \"code\":\"2554\" }, {\"name\":\"에너지경제\", \"type\":\"abc\", \"ccode\":\"8\", \"code\":\"2133\" }, {\"name\":\"에너지데일리\", \"type\":\"abc\", \"ccode\":\"8\", \"code\":\"2685\" }, {\"name\":\"에너지신문\", \"type\":\"abc\", \"ccode\":\"8\", \"code\":\"2905\" }, {\"name\":\"에너지플랫폼뉴스\", \"type\":\"abc\", \"ccode\":\"8\", \"code\":\"2563\" }, {\"name\":\"에듀동아\", \"type\":\"abc\", \"ccode\":\"8\", \"code\":\"2449\" }, {\"name\":\"에듀프레스\", \"type\":\"abc\", \"ccode\":\"8\", \"code\":\"2605\" }, {\"name\":\"에스콰이어\", \"type\":\"abc\", \"ccode\":\"8\", \"code\":\"2691\" }, {\"name\":\"에이블뉴스\", \"type\":\"abc\", \"ccode\":\"8\", \"code\":\"2018\" }, {\"name\":\"에이빙뉴스\", \"type\":\"abc\", \"ccode\":\"8\", \"code\":\"2015\" }, {\"name\":\"엑스포츠뉴스\", \"type\":\"abc\", \"ccode\":\"8\", \"code\":\"1311\" }, {\"name\":\"엔젤스파이팅\", \"type\":\"abc\", \"ccode\":\"8\", \"code\":\"1613\" }, {\"name\":\"엔지니어링데일리\", \"type\":\"abc\", \"ccode\":\"8\", \"code\":\"2271\" }, {\"name\":\"엘르\", \"type\":\"abc\", \"ccode\":\"8\", \"code\":\"2027\" }, {\"name\":\"엠에프지\", \"type\":\"abc\", \"ccode\":\"8\", \"code\":\"2701\" }, {\"name\":\"엠투데이\", \"type\":\"abc\", \"ccode\":\"8\", \"code\":\"2598\" }, {\"name\":\"여성경제신문\", \"type\":\"abc\", \"ccode\":\"8\", \"code\":\"2759\" }, {\"name\":\"여성동아\", \"type\":\"abc\", \"ccode\":\"8\", \"code\":\"2549\" }, {\"name\":\"여성소비자신문\", \"type\":\"abc\", \"ccode\":\"8\", \"code\":\"2493\" }, {\"name\":\"여성신문\", \"type\":\"abc\", \"ccode\":\"8\", \"code\":\"1310\" }, {\"name\":\"여성조선\", \"type\":\"abc\", \"ccode\":\"8\", \"code\":\"2238\" }, {\"name\":\"여성중앙\", \"type\":\"abc\", \"ccode\":\"8\", \"code\":\"2210\" }, {\"name\":\"여수MBC\", \"type\":\"abc\", \"ccode\":\"8\", \"code\":\"2745\" }, {\"name\":\"여수넷통뉴스\", \"type\":\"abc\", \"ccode\":\"8\", \"code\":\"2748\" }, {\"name\":\"여행스케치\", \"type\":\"abc\", \"ccode\":\"8\", \"code\":\"2570\" }, {\"name\":\"여행신문\", \"type\":\"abc\", \"ccode\":\"8\", \"code\":\"2815\" }, {\"name\":\"연세대학교 시스붐바\", \"type\":\"abc\", \"ccode\":\"8\", \"code\":\"1570\" }, {\"name\":\"연합뉴스\", \"type\":\"abc\", \"ccode\":\"8\", \"code\":\"1001\" }, {\"name\":\"연합뉴스TV\", \"type\":\"abc\", \"ccode\":\"8\", \"code\":\"1422\" }, {\"name\":\"연합이매진\", \"type\":\"abc\", \"ccode\":\"8\", \"code\":\"1225\" }, {\"name\":\"연합인포맥스\", \"type\":\"abc\", \"ccode\":\"8\", \"code\":\"2227\" }, {\"name\":\"열린뉴스통신\", \"type\":\"abc\", \"ccode\":\"8\", \"code\":\"2818\" }, {\"name\":\"열린민주당\", \"type\":\"abc\", \"ccode\":\"8\", \"code\":\"1641\" }, {\"name\":\"염용근 칼럼\", \"type\":\"abc\", \"ccode\":\"8\", \"code\":\"1486\" }, {\"name\":\"영남대 축구부 홍보단\", \"type\":\"abc\", \"ccode\":\"8\", \"code\":\"1619\" }, {\"name\":\"영남일보\", \"type\":\"abc\", \"ccode\":\"8\", \"code\":\"2207\" }, {\"name\":\"영독한 기자들\", \"type\":\"abc\", \"ccode\":\"8\", \"code\":\"1545\" }, {\"name\":\"오늘경제\", \"type\":\"abc\", \"ccode\":\"8\", \"code\":\"2721\" }, {\"name\":\"오마이뉴스\", \"type\":\"abc\", \"ccode\":\"8\", \"code\":\"1047\" }, {\"name\":\"오토타임즈\", \"type\":\"abc\", \"ccode\":\"8\", \"code\":\"2029\" }, {\"name\":\"오피니언뉴스\", \"type\":\"abc\", \"ccode\":\"8\", \"code\":\"2618\" }, {\"name\":\"오피니언타임스\", \"type\":\"abc\", \"ccode\":\"8\", \"code\":\"2507\" }, {\"name\":\"올림픽채널\", \"type\":\"abc\", \"ccode\":\"8\", \"code\":\"1610\" }, {\"name\":\"올치올치\", \"type\":\"abc\", \"ccode\":\"8\", \"code\":\"2457\" }, {\"name\":\"용인대스포츠기자단\", \"type\":\"abc\", \"ccode\":\"8\", \"code\":\"1605\" }, {\"name\":\"우드플래닛\", \"type\":\"abc\", \"ccode\":\"8\", \"code\":\"2695\" }, {\"name\":\"우리공화당\", \"type\":\"abc\", \"ccode\":\"8\", \"code\":\"1587\" }, {\"name\":\"우먼스플라워\", \"type\":\"abc\", \"ccode\":\"8\", \"code\":\"2822\" }, {\"name\":\"우먼타임스\", \"type\":\"abc\", \"ccode\":\"8\", \"code\":\"2848\" }, {\"name\":\"울산MBC\", \"type\":\"abc\", \"ccode\":\"8\", \"code\":\"2541\" }, {\"name\":\"울산대학교 어스키퍼\", \"type\":\"abc\", \"ccode\":\"8\", \"code\":\"1632\" }, {\"name\":\"울산매일신문\", \"type\":\"abc\", \"ccode\":\"8\", \"code\":\"2184\" }, {\"name\":\"울산시민축구단\", \"type\":\"abc\", \"ccode\":\"8\", \"code\":\"1615\" }, {\"name\":\"울산제일일보\", \"type\":\"abc\", \"ccode\":\"8\", \"code\":\"2583\" }, {\"name\":\"워크투데이\", \"type\":\"abc\", \"ccode\":\"8\", \"code\":\"2796\" }, {\"name\":\"원불교신문\", \"type\":\"abc\", \"ccode\":\"8\", \"code\":\"2543\" }, {\"name\":\"원예산업신문\", \"type\":\"abc\", \"ccode\":\"8\", \"code\":\"2789\" }, {\"name\":\"월간 산\", \"type\":\"abc\", \"ccode\":\"8\", \"code\":\"1094\" }, {\"name\":\"월간 오디오\", \"type\":\"abc\", \"ccode\":\"8\", \"code\":\"2800\" }, {\"name\":\"월간노동법률\", \"type\":\"abc\", \"ccode\":\"8\", \"code\":\"2658\" }, {\"name\":\"월간로봇기술\", \"type\":\"abc\", \"ccode\":\"8\", \"code\":\"2733\" }, {\"name\":\"월간마이더스\", \"type\":\"abc\", \"ccode\":\"8\", \"code\":\"2208\" }, {\"name\":\"월간불광\", \"type\":\"abc\", \"ccode\":\"8\", \"code\":\"2690\" }, {\"name\":\"월간암\", \"type\":\"abc\", \"ccode\":\"8\", \"code\":\"2075\" }, {\"name\":\"월간오늘보다\", \"type\":\"abc\", \"ccode\":\"8\", \"code\":\"2632\" }, {\"name\":\"월간원예\", \"type\":\"abc\", \"ccode\":\"8\", \"code\":\"2512\" }, {\"name\":\"월간조선\", \"type\":\"abc\", \"ccode\":\"8\", \"code\":\"2481\" }, {\"name\":\"월간중앙\", \"type\":\"abc\", \"ccode\":\"8\", \"code\":\"2203\" }, {\"name\":\"월간현대경영\", \"type\":\"abc\", \"ccode\":\"8\", \"code\":\"2393\" }, {\"name\":\"월드코리안신문\", \"type\":\"abc\", \"ccode\":\"8\", \"code\":\"2588\" }, {\"name\":\"월요신문\", \"type\":\"abc\", \"ccode\":\"8\", \"code\":\"2520\" }, {\"name\":\"위드인뉴스\", \"type\":\"abc\", \"ccode\":\"8\", \"code\":\"2636\" }, {\"name\":\"위메이크뉴스\", \"type\":\"abc\", \"ccode\":\"8\", \"code\":\"2865\" }, {\"name\":\"위원석 칼럼\", \"type\":\"abc\", \"ccode\":\"8\", \"code\":\"1550\" }, {\"name\":\"위클리오늘\", \"type\":\"abc\", \"ccode\":\"8\", \"code\":\"2294\" }, {\"name\":\"위클리한국주택경제신문\", \"type\":\"abc\", \"ccode\":\"8\", \"code\":\"2907\" }, {\"name\":\"위키리크스한국\", \"type\":\"abc\", \"ccode\":\"8\", \"code\":\"2622\" }, {\"name\":\"위키트리\", \"type\":\"abc\", \"ccode\":\"8\", \"code\":\"2239\" }, {\"name\":\"유교신문\", \"type\":\"abc\", \"ccode\":\"8\", \"code\":\"2482\" }, {\"name\":\"의사신문\", \"type\":\"abc\", \"ccode\":\"8\", \"code\":\"2826\" }, {\"name\":\"의약뉴스\", \"type\":\"abc\", \"ccode\":\"8\", \"code\":\"2842\" }, {\"name\":\"의학신문\", \"type\":\"abc\", \"ccode\":\"8\", \"code\":\"2376\" }, {\"name\":\"의학채널 비온뒤\", \"type\":\"abc\", \"ccode\":\"8\", \"code\":\"2483\" }, {\"name\":\"의협신문\", \"type\":\"abc\", \"ccode\":\"8\", \"code\":\"2088\" }, {\"name\":\"이넷뉴스\", \"type\":\"abc\", \"ccode\":\"8\", \"code\":\"2866\" }, {\"name\":\"이뉴스투데이\", \"type\":\"abc\", \"ccode\":\"8\", \"code\":\"2038\" }, {\"name\":\"이덕규 칼럼\", \"type\":\"abc\", \"ccode\":\"8\", \"code\":\"1495\" }, {\"name\":\"이데일리\", \"type\":\"abc\", \"ccode\":\"8\", \"code\":\"1018\" }, {\"name\":\"이로운넷\", \"type\":\"abc\", \"ccode\":\"8\", \"code\":\"2738\" }, {\"name\":\"이슈앤비즈\", \"type\":\"abc\", \"ccode\":\"8\", \"code\":\"2880\" }, {\"name\":\"이영미 칼럼\", \"type\":\"abc\", \"ccode\":\"8\", \"code\":\"1380\" }, {\"name\":\"이웃집과학자\", \"type\":\"abc\", \"ccode\":\"8\", \"code\":\"2550\" }, {\"name\":\"이은경 칼럼\", \"type\":\"abc\", \"ccode\":\"8\", \"code\":\"1544\" }, {\"name\":\"이종열 칼럼\", \"type\":\"abc\", \"ccode\":\"8\", \"code\":\"1566\" }, {\"name\":\"이지경제\", \"type\":\"abc\", \"ccode\":\"8\", \"code\":\"2594\" }, {\"name\":\"이창섭 칼럼\", \"type\":\"abc\", \"ccode\":\"8\", \"code\":\"1460\" }, {\"name\":\"이코노뉴스\", \"type\":\"abc\", \"ccode\":\"8\", \"code\":\"2524\" }, {\"name\":\"이코노미스트\", \"type\":\"abc\", \"ccode\":\"8\", \"code\":\"1243\" }, {\"name\":\"이코노미조선\", \"type\":\"abc\", \"ccode\":\"8\", \"code\":\"2226\" }, {\"name\":\"이코노미톡뉴스\", \"type\":\"abc\", \"ccode\":\"8\", \"code\":\"2192\" }, {\"name\":\"이코노믹리뷰\", \"type\":\"abc\", \"ccode\":\"8\", \"code\":\"2097\" }, {\"name\":\"이코노타임즈\", \"type\":\"abc\", \"ccode\":\"8\", \"code\":\"2831\" }, {\"name\":\"이코노텔링\", \"type\":\"abc\", \"ccode\":\"8\", \"code\":\"2816\" }, {\"name\":\"이코리아\", \"type\":\"abc\", \"ccode\":\"8\", \"code\":\"2562\" }, {\"name\":\"이투뉴스\", \"type\":\"abc\", \"ccode\":\"8\", \"code\":\"2118\" }, {\"name\":\"이투데이\", \"type\":\"abc\", \"ccode\":\"8\", \"code\":\"2003\" }, {\"name\":\"인간vs축봇\", \"type\":\"abc\", \"ccode\":\"8\", \"code\":\"1580\" }, {\"name\":\"인공지능신문\", \"type\":\"abc\", \"ccode\":\"8\", \"code\":\"2830\" }, {\"name\":\"인더뉴스\", \"type\":\"abc\", \"ccode\":\"8\", \"code\":\"2667\" }, {\"name\":\"인더스트리뉴스\", \"type\":\"abc\", \"ccode\":\"8\", \"code\":\"2580\" }, {\"name\":\"인민망\", \"type\":\"abc\", \"ccode\":\"8\", \"code\":\"2388\" }, {\"name\":\"인베스트조선\", \"type\":\"abc\", \"ccode\":\"8\", \"code\":\"2552\" }, {\"name\":\"인벤\", \"type\":\"abc\", \"ccode\":\"8\", \"code\":\"1442\" }, {\"name\":\"인사이드 비나\", \"type\":\"abc\", \"ccode\":\"8\", \"code\":\"2823\" }, {\"name\":\"인사이트\", \"type\":\"abc\", \"ccode\":\"8\", \"code\":\"2486\" }, {\"name\":\"인사이트코리아\", \"type\":\"abc\", \"ccode\":\"8\", \"code\":\"2517\" }, {\"name\":\"인천in\", \"type\":\"abc\", \"ccode\":\"8\", \"code\":\"2808\" }, {\"name\":\"인천뉴스\", \"type\":\"abc\", \"ccode\":\"8\", \"code\":\"2650\" }, {\"name\":\"인천일보\", \"type\":\"abc\", \"ccode\":\"8\", \"code\":\"2193\" }, {\"name\":\"인천투데이\", \"type\":\"abc\", \"ccode\":\"8\", \"code\":\"2688\" }, {\"name\":\"인터뷰365\", \"type\":\"abc\", \"ccode\":\"8\", \"code\":\"2081\" }, {\"name\":\"인터풋볼\", \"type\":\"abc\", \"ccode\":\"8\", \"code\":\"1413\" }, {\"name\":\"일간NTN\", \"type\":\"abc\", \"ccode\":\"8\", \"code\":\"2309\" }, {\"name\":\"일간스포츠\", \"type\":\"abc\", \"ccode\":\"8\", \"code\":\"1241\" }, {\"name\":\"일다\", \"type\":\"abc\", \"ccode\":\"8\", \"code\":\"1007\" }, {\"name\":\"일렉트릭파워\", \"type\":\"abc\", \"ccode\":\"8\", \"code\":\"2574\" }, {\"name\":\"일요서울\", \"type\":\"abc\", \"ccode\":\"8\", \"code\":\"2279\" }, {\"name\":\"일요시사\", \"type\":\"abc\", \"ccode\":\"8\", \"code\":\"2175\" }, {\"name\":\"일요신문\", \"type\":\"abc\", \"ccode\":\"8\", \"code\":\"2307\" }, {\"name\":\"일요신문 스포츠\", \"type\":\"abc\", \"ccode\":\"8\", \"code\":\"1381\" }, {\"name\":\"임팩트온\", \"type\":\"abc\", \"ccode\":\"8\", \"code\":\"2885\" }, ] } , { \"name\": \"ㅈ\", \"list\": [ {\"name\":\"잡포스트\", \"type\":\"abc\", \"ccode\":\"9\", \"code\":\"2820\" }, {\"name\":\"장애인신문\", \"type\":\"abc\", \"ccode\":\"9\", \"code\":\"2111\" }, {\"name\":\"재외동포신문\", \"type\":\"abc\", \"ccode\":\"9\", \"code\":\"2176\" }, {\"name\":\"재해재난속보\", \"type\":\"abc\", \"ccode\":\"9\", \"code\":\"1321\" }, {\"name\":\"전국매일신문\", \"type\":\"abc\", \"ccode\":\"9\", \"code\":\"2844\" }, {\"name\":\"전기신문\", \"type\":\"abc\", \"ccode\":\"9\", \"code\":\"2235\" }, {\"name\":\"전남매일\", \"type\":\"abc\", \"ccode\":\"9\", \"code\":\"2709\" }, {\"name\":\"전남일보\", \"type\":\"abc\", \"ccode\":\"9\", \"code\":\"2379\" }, {\"name\":\"전라일보\", \"type\":\"abc\", \"ccode\":\"9\", \"code\":\"2395\" }, {\"name\":\"전민일보\", \"type\":\"abc\", \"ccode\":\"9\", \"code\":\"2368\" }, {\"name\":\"전북도민일보\", \"type\":\"abc\", \"ccode\":\"9\", \"code\":\"2259\" }, {\"name\":\"전북의소리\", \"type\":\"abc\", \"ccode\":\"9\", \"code\":\"2883\" }, {\"name\":\"전북일보\", \"type\":\"abc\", \"ccode\":\"9\", \"code\":\"2335\" }, {\"name\":\"전북중앙\", \"type\":\"abc\", \"ccode\":\"9\", \"code\":\"2599\" }, {\"name\":\"전자신문\", \"type\":\"abc\", \"ccode\":\"9\", \"code\":\"1030\" }, {\"name\":\"전주MBC\", \"type\":\"abc\", \"ccode\":\"9\", \"code\":\"1659\" }, {\"name\":\"점프볼\", \"type\":\"abc\", \"ccode\":\"9\", \"code\":\"1065\" }, {\"name\":\"정보통신신문\", \"type\":\"abc\", \"ccode\":\"9\", \"code\":\"2839\" }, {\"name\":\"정신의학신문\", \"type\":\"abc\", \"ccode\":\"9\", \"code\":\"2473\" }, {\"name\":\"정의당\", \"type\":\"abc\", \"ccode\":\"9\", \"code\":\"1426\" }, {\"name\":\"정책브리핑\", \"type\":\"abc\", \"ccode\":\"9\", \"code\":\"1298\" }, {\"name\":\"제민일보\", \"type\":\"abc\", \"ccode\":\"9\", \"code\":\"2158\" }, {\"name\":\"제주MBC\", \"type\":\"abc\", \"ccode\":\"9\", \"code\":\"2743\" }, {\"name\":\"제주도민일보\", \"type\":\"abc\", \"ccode\":\"9\", \"code\":\"2186\" }, {\"name\":\"제주매일\", \"type\":\"abc\", \"ccode\":\"9\", \"code\":\"2572\" }, {\"name\":\"제주의소리\", \"type\":\"abc\", \"ccode\":\"9\", \"code\":\"2085\" }, {\"name\":\"제주일보\", \"type\":\"abc\", \"ccode\":\"9\", \"code\":\"2887\" }, {\"name\":\"조석 카툰\", \"type\":\"abc\", \"ccode\":\"9\", \"code\":\"1360\" }, {\"name\":\"조선닷컴 인포그래픽스\", \"type\":\"abc\", \"ccode\":\"9\", \"code\":\"2306\" }, {\"name\":\"조선비즈\", \"type\":\"abc\", \"ccode\":\"9\", \"code\":\"1366\" }, {\"name\":\"조선에듀\", \"type\":\"abc\", \"ccode\":\"9\", \"code\":\"2546\" }, {\"name\":\"조선일보\", \"type\":\"abc\", \"ccode\":\"9\", \"code\":\"1023\" }, {\"name\":\"조세금융신문\", \"type\":\"abc\", \"ccode\":\"9\", \"code\":\"2412\" }, {\"name\":\"조세일보\", \"type\":\"abc\", \"ccode\":\"9\", \"code\":\"1123\" }, {\"name\":\"조이뉴스24\", \"type\":\"abc\", \"ccode\":\"9\", \"code\":\"2712\" }, {\"name\":\"주간경향\", \"type\":\"abc\", \"ccode\":\"9\", \"code\":\"1033\" }, {\"name\":\"주간동아\", \"type\":\"abc\", \"ccode\":\"9\", \"code\":\"1037\" }, {\"name\":\"주간조선\", \"type\":\"abc\", \"ccode\":\"9\", \"code\":\"1053\" }, {\"name\":\"주간한국\", \"type\":\"abc\", \"ccode\":\"9\", \"code\":\"2723\" }, {\"name\":\"주간한국\", \"type\":\"abc\", \"ccode\":\"9\", \"code\":\"1042\" }, {\"name\":\"중기이코노미\", \"type\":\"abc\", \"ccode\":\"9\", \"code\":\"2455\" }, {\"name\":\"중도일보\", \"type\":\"abc\", \"ccode\":\"9\", \"code\":\"2340\" }, {\"name\":\"중부매일\", \"type\":\"abc\", \"ccode\":\"9\", \"code\":\"2283\" }, {\"name\":\"중부일보\", \"type\":\"abc\", \"ccode\":\"9\", \"code\":\"2281\" }, {\"name\":\"중소기업뉴스\", \"type\":\"abc\", \"ccode\":\"9\", \"code\":\"2328\" }, {\"name\":\"중소기업신문\", \"type\":\"abc\", \"ccode\":\"9\", \"code\":\"2296\" }, {\"name\":\"중앙SUNDAY\", \"type\":\"abc\", \"ccode\":\"9\", \"code\":\"1353\" }, {\"name\":\"중앙대학교 SPORTS CAU\", \"type\":\"abc\", \"ccode\":\"9\", \"code\":\"1622\" }, {\"name\":\"중앙신문\", \"type\":\"abc\", \"ccode\":\"9\", \"code\":\"2876\" }, {\"name\":\"중앙일보\", \"type\":\"abc\", \"ccode\":\"9\", \"code\":\"1025\" }, {\"name\":\"중앙일보 헬스미디어\", \"type\":\"abc\", \"ccode\":\"9\", \"code\":\"2687\" }, {\"name\":\"증권경제신문\", \"type\":\"abc\", \"ccode\":\"9\", \"code\":\"2804\" }, {\"name\":\"지이코노미\", \"type\":\"abc\", \"ccode\":\"9\", \"code\":\"2633\" }, {\"name\":\"지피코리아\", \"type\":\"abc\", \"ccode\":\"9\", \"code\":\"2331\" }, {\"name\":\"직썰\", \"type\":\"abc\", \"ccode\":\"9\", \"code\":\"2489\" }, ] } , { \"name\": \"ㅊ\", \"list\": [ {\"name\":\"참세상\", \"type\":\"abc\", \"ccode\":\"10\", \"code\":\"2835\" }, {\"name\":\"참세상\", \"type\":\"abc\", \"ccode\":\"10\", \"code\":\"1152\" }, {\"name\":\"참여와혁신\", \"type\":\"abc\", \"ccode\":\"10\", \"code\":\"2495\" }, {\"name\":\"채널A\", \"type\":\"abc\", \"ccode\":\"10\", \"code\":\"1449\" }, {\"name\":\"채널예스\", \"type\":\"abc\", \"ccode\":\"10\", \"code\":\"2185\" }, {\"name\":\"천안시청축구단\", \"type\":\"abc\", \"ccode\":\"10\", \"code\":\"1626\" }, {\"name\":\"천지일보\", \"type\":\"abc\", \"ccode\":\"10\", \"code\":\"2041\" }, {\"name\":\"철강금속신문\", \"type\":\"abc\", \"ccode\":\"10\", \"code\":\"2343\" }, {\"name\":\"철도경제신문\", \"type\":\"abc\", \"ccode\":\"10\", \"code\":\"2908\" }, {\"name\":\"청년의사\", \"type\":\"abc\", \"ccode\":\"10\", \"code\":\"2229\" }, {\"name\":\"청년일보\", \"type\":\"abc\", \"ccode\":\"10\", \"code\":\"2686\" }, {\"name\":\"청와대\", \"type\":\"abc\", \"ccode\":\"10\", \"code\":\"1154\" }, {\"name\":\"청주FC\", \"type\":\"abc\", \"ccode\":\"10\", \"code\":\"1651\" }, {\"name\":\"초이스경제\", \"type\":\"abc\", \"ccode\":\"10\", \"code\":\"2256\" }, {\"name\":\"최종준 칼럼\", \"type\":\"abc\", \"ccode\":\"10\", \"code\":\"1494\" }, {\"name\":\"추신수 MLB 일기\", \"type\":\"abc\", \"ccode\":\"10\", \"code\":\"1512\" }, {\"name\":\"축구저널\", \"type\":\"abc\", \"ccode\":\"10\", \"code\":\"2436\" }, {\"name\":\"축산경제신문\", \"type\":\"abc\", \"ccode\":\"10\", \"code\":\"2603\" }, {\"name\":\"춘천MBC\", \"type\":\"abc\", \"ccode\":\"10\", \"code\":\"2742\" }, {\"name\":\"춘천시민축구단\", \"type\":\"abc\", \"ccode\":\"10\", \"code\":\"1616\" }, {\"name\":\"충남일보\", \"type\":\"abc\", \"ccode\":\"10\", \"code\":\"2347\" }, {\"name\":\"충북일보\", \"type\":\"abc\", \"ccode\":\"10\", \"code\":\"2231\" }, {\"name\":\"충주 험멜\", \"type\":\"abc\", \"ccode\":\"10\", \"code\":\"1491\" }, {\"name\":\"충청뉴스\", \"type\":\"abc\", \"ccode\":\"10\", \"code\":\"2569\" }, {\"name\":\"충청리뷰\", \"type\":\"abc\", \"ccode\":\"10\", \"code\":\"2699\" }, {\"name\":\"충청매일\", \"type\":\"abc\", \"ccode\":\"10\", \"code\":\"2278\" }, {\"name\":\"충청일보\", \"type\":\"abc\", \"ccode\":\"10\", \"code\":\"2116\" }, {\"name\":\"충청타임즈\", \"type\":\"abc\", \"ccode\":\"10\", \"code\":\"2498\" }, {\"name\":\"충청투데이\", \"type\":\"abc\", \"ccode\":\"10\", \"code\":\"2160\" }, {\"name\":\"치과신문\", \"type\":\"abc\", \"ccode\":\"10\", \"code\":\"2718\" }, {\"name\":\"친박신당\", \"type\":\"abc\", \"ccode\":\"10\", \"code\":\"1638\" }, ] } , { \"name\": \"ㅋ\", \"list\": [ {\"name\":\"카스포인트\", \"type\":\"abc\", \"ccode\":\"11\", \"code\":\"2336\" }, {\"name\":\"컨슈머치\", \"type\":\"abc\", \"ccode\":\"11\", \"code\":\"2777\" }, {\"name\":\"컨슈머타임스\", \"type\":\"abc\", \"ccode\":\"11\", \"code\":\"2174\" }, {\"name\":\"케미컬뉴스\", \"type\":\"abc\", \"ccode\":\"11\", \"code\":\"2853\" }, {\"name\":\"케이벤치\", \"type\":\"abc\", \"ccode\":\"11\", \"code\":\"2036\" }, {\"name\":\"코나스\", \"type\":\"abc\", \"ccode\":\"11\", \"code\":\"2134\" }, {\"name\":\"코딩월드뉴스\", \"type\":\"abc\", \"ccode\":\"11\", \"code\":\"2867\" }, {\"name\":\"코리아넷\", \"type\":\"abc\", \"ccode\":\"11\", \"code\":\"1441\" }, {\"name\":\"코리아쉬핑가제트\", \"type\":\"abc\", \"ccode\":\"11\", \"code\":\"2398\" }, {\"name\":\"코리아중앙데일리\", \"type\":\"abc\", \"ccode\":\"11\", \"code\":\"1640\" }, {\"name\":\"코리아타임스\", \"type\":\"abc\", \"ccode\":\"11\", \"code\":\"2668\" }, {\"name\":\"코리아헤럴드\", \"type\":\"abc\", \"ccode\":\"11\", \"code\":\"1044\" }, {\"name\":\"코리아헬스로그\", \"type\":\"abc\", \"ccode\":\"11\", \"code\":\"2066\" }, {\"name\":\"코메디닷컴\", \"type\":\"abc\", \"ccode\":\"11\", \"code\":\"1296\" }, {\"name\":\"코인데스크코리아\", \"type\":\"abc\", \"ccode\":\"11\", \"code\":\"2841\" }, {\"name\":\"코인리더스\", \"type\":\"abc\", \"ccode\":\"11\", \"code\":\"2676\" }, {\"name\":\"콩푸엉 일기\", \"type\":\"abc\", \"ccode\":\"11\", \"code\":\"1621\" }, {\"name\":\"쿠키뉴스\", \"type\":\"abc\", \"ccode\":\"11\", \"code\":\"1143\" }, {\"name\":\"쿡앤셰프\", \"type\":\"abc\", \"ccode\":\"11\", \"code\":\"2639\" }, {\"name\":\"크리스천투데이\", \"type\":\"abc\", \"ccode\":\"11\", \"code\":\"2047\" }, {\"name\":\"키즈맘\", \"type\":\"abc\", \"ccode\":\"11\", \"code\":\"2310\" }, {\"name\":\"킹존 드래곤X\", \"type\":\"abc\", \"ccode\":\"11\", \"code\":\"1617\" }, ] } , { \"name\": \"ㅌ\", \"list\": [ {\"name\":\"택스워치\", \"type\":\"abc\", \"ccode\":\"12\", \"code\":\"2757\" }, {\"name\":\"테니스코리아\", \"type\":\"abc\", \"ccode\":\"12\", \"code\":\"1481\" }, {\"name\":\"테니스피플\", \"type\":\"abc\", \"ccode\":\"12\", \"code\":\"2553\" }, {\"name\":\"테크M\", \"type\":\"abc\", \"ccode\":\"12\", \"code\":\"2447\" }, {\"name\":\"테크노아\", \"type\":\"abc\", \"ccode\":\"12\", \"code\":\"2048\" }, {\"name\":\"테크월드\", \"type\":\"abc\", \"ccode\":\"12\", \"code\":\"2752\" }, {\"name\":\"테크홀릭\", \"type\":\"abc\", \"ccode\":\"12\", \"code\":\"2404\" }, {\"name\":\"텐아시아\", \"type\":\"abc\", \"ccode\":\"12\", \"code\":\"1312\" }, {\"name\":\"토요경제\", \"type\":\"abc\", \"ccode\":\"12\", \"code\":\"2914\" }, {\"name\":\"토큰포스트\", \"type\":\"abc\", \"ccode\":\"12\", \"code\":\"2879\" }, {\"name\":\"톱데일리\", \"type\":\"abc\", \"ccode\":\"12\", \"code\":\"2648\" }, {\"name\":\"톱스타뉴스\", \"type\":\"abc\", \"ccode\":\"12\", \"code\":\"2353\" }, {\"name\":\"통일뉴스\", \"type\":\"abc\", \"ccode\":\"12\", \"code\":\"2387\" }, {\"name\":\"투데이e코노믹\", \"type\":\"abc\", \"ccode\":\"12\", \"code\":\"2909\" }, {\"name\":\"투데이신문\", \"type\":\"abc\", \"ccode\":\"12\", \"code\":\"2460\" }, {\"name\":\"투데이에너지\", \"type\":\"abc\", \"ccode\":\"12\", \"code\":\"2300\" }, {\"name\":\"투데이코리아\", \"type\":\"abc\", \"ccode\":\"12\", \"code\":\"2616\" }, {\"name\":\"투어코리아뉴스\", \"type\":\"abc\", \"ccode\":\"12\", \"code\":\"2675\" }, {\"name\":\"트래블투데이\", \"type\":\"abc\", \"ccode\":\"12\", \"code\":\"2664\" }, {\"name\":\"트래비\", \"type\":\"abc\", \"ccode\":\"12\", \"code\":\"2411\" }, {\"name\":\"티브이데일리\", \"type\":\"abc\", \"ccode\":\"12\", \"code\":\"1440\" }, {\"name\":\"티브이데일리\", \"type\":\"abc\", \"ccode\":\"12\", \"code\":\"2129\" }, {\"name\":\"티티엘뉴스\", \"type\":\"abc\", \"ccode\":\"12\", \"code\":\"2643\" }, ] } , { \"name\": \"ㅍ\", \"list\": [ {\"name\":\"ㅍㅍㅅㅅ\", \"type\":\"abc\", \"ccode\":\"13\", \"code\":\"2407\" }, {\"name\":\"파운드 매거진\", \"type\":\"abc\", \"ccode\":\"13\", \"code\":\"2225\" }, {\"name\":\"파이낸셜뉴스\", \"type\":\"abc\", \"ccode\":\"13\", \"code\":\"1014\" }, {\"name\":\"파이낸셜리뷰\", \"type\":\"abc\", \"ccode\":\"13\", \"code\":\"2910\" }, {\"name\":\"파이낸셜신문\", \"type\":\"abc\", \"ccode\":\"13\", \"code\":\"2781\" }, {\"name\":\"파이낸셜투데이\", \"type\":\"abc\", \"ccode\":\"13\", \"code\":\"2518\" }, {\"name\":\"파이낸스투데이\", \"type\":\"abc\", \"ccode\":\"13\", \"code\":\"2585\" }, {\"name\":\"팍스경제TV\", \"type\":\"abc\", \"ccode\":\"13\", \"code\":\"2802\" }, {\"name\":\"팜뉴스\", \"type\":\"abc\", \"ccode\":\"13\", \"code\":\"2828\" }, {\"name\":\"팜앤마켓매거진\", \"type\":\"abc\", \"ccode\":\"13\", \"code\":\"2649\" }, {\"name\":\"팝콘뉴스\", \"type\":\"abc\", \"ccode\":\"13\", \"code\":\"2868\" }, {\"name\":\"패션비즈\", \"type\":\"abc\", \"ccode\":\"13\", \"code\":\"2272\" }, {\"name\":\"패션엔\", \"type\":\"abc\", \"ccode\":\"13\", \"code\":\"2456\" }, {\"name\":\"패션저널\", \"type\":\"abc\", \"ccode\":\"13\", \"code\":\"2073\" }, {\"name\":\"팩트TV\", \"type\":\"abc\", \"ccode\":\"13\", \"code\":\"2273\" }, {\"name\":\"페로타임즈\", \"type\":\"abc\", \"ccode\":\"13\", \"code\":\"2869\" }, {\"name\":\"페퍼저축은행 AI 페퍼스\", \"type\":\"abc\", \"ccode\":\"13\", \"code\":\"1653\" }, {\"name\":\"펜앤드마이크\", \"type\":\"abc\", \"ccode\":\"13\", \"code\":\"2786\" }, {\"name\":\"평화뉴스\", \"type\":\"abc\", \"ccode\":\"13\", \"code\":\"2505\" }, {\"name\":\"포모스\", \"type\":\"abc\", \"ccode\":\"13\", \"code\":\"1236\" }, {\"name\":\"포브스코리아\", \"type\":\"abc\", \"ccode\":\"13\", \"code\":\"2204\" }, {\"name\":\"포쓰저널\", \"type\":\"abc\", \"ccode\":\"13\", \"code\":\"2665\" }, {\"name\":\"포인트데일리\", \"type\":\"abc\", \"ccode\":\"13\", \"code\":\"2679\" }, {\"name\":\"포춘코리아\", \"type\":\"abc\", \"ccode\":\"13\", \"code\":\"2727\" }, {\"name\":\"포포투\", \"type\":\"abc\", \"ccode\":\"13\", \"code\":\"1411\" }, {\"name\":\"포항MBC\", \"type\":\"abc\", \"ccode\":\"13\", \"code\":\"2662\" }, {\"name\":\"폴리뉴스\", \"type\":\"abc\", \"ccode\":\"13\", \"code\":\"2052\" }, {\"name\":\"푸드경제신문 organiclife\", \"type\":\"abc\", \"ccode\":\"13\", \"code\":\"2567\" }, {\"name\":\"풋볼리스트\", \"type\":\"abc\", \"ccode\":\"13\", \"code\":\"1436\" }, {\"name\":\"프라임경제\", \"type\":\"abc\", \"ccode\":\"13\", \"code\":\"2325\" }, {\"name\":\"프레스나인\", \"type\":\"abc\", \"ccode\":\"13\", \"code\":\"2201\" }, {\"name\":\"프레스맨\", \"type\":\"abc\", \"ccode\":\"13\", \"code\":\"2681\" }, {\"name\":\"프레시안\", \"type\":\"abc\", \"ccode\":\"13\", \"code\":\"1002\" }, {\"name\":\"플래텀\", \"type\":\"abc\", \"ccode\":\"13\", \"code\":\"2373\" }, {\"name\":\"플레이디비\", \"type\":\"abc\", \"ccode\":\"13\", \"code\":\"2627\" }, {\"name\":\"피파+\", \"type\":\"abc\", \"ccode\":\"13\", \"code\":\"1663\" }, {\"name\":\"핀포인트뉴스\", \"type\":\"abc\", \"ccode\":\"13\", \"code\":\"2829\" }, ] } , { \"name\": \"ㅎ\", \"list\": [ {\"name\":\"하비엔뉴스\", \"type\":\"abc\", \"ccode\":\"14\", \"code\":\"2744\" }, {\"name\":\"하우징헤럴드\", \"type\":\"abc\", \"ccode\":\"14\", \"code\":\"2591\" }, {\"name\":\"하이닥\", \"type\":\"abc\", \"ccode\":\"14\", \"code\":\"2246\" }, {\"name\":\"하퍼스바자\", \"type\":\"abc\", \"ccode\":\"14\", \"code\":\"2634\" }, {\"name\":\"한강타임즈\", \"type\":\"abc\", \"ccode\":\"14\", \"code\":\"2290\" }, {\"name\":\"한게임 바둑\", \"type\":\"abc\", \"ccode\":\"14\", \"code\":\"1370\" }, {\"name\":\"한겨레\", \"type\":\"abc\", \"ccode\":\"14\", \"code\":\"1028\" }, {\"name\":\"한겨레21\", \"type\":\"abc\", \"ccode\":\"14\", \"code\":\"1036\" }, {\"name\":\"한경비즈니스\", \"type\":\"abc\", \"ccode\":\"14\", \"code\":\"1050\" }, {\"name\":\"한경잡앤조이\", \"type\":\"abc\", \"ccode\":\"14\", \"code\":\"2209\" }, {\"name\":\"한국3대3농구연맹\", \"type\":\"abc\", \"ccode\":\"14\", \"code\":\"1618\" }, {\"name\":\"한국NGO신문\", \"type\":\"abc\", \"ccode\":\"14\", \"code\":\"2889\" }, {\"name\":\"한국강사신문\", \"type\":\"abc\", \"ccode\":\"14\", \"code\":\"2566\" }, {\"name\":\"한국경제\", \"type\":\"abc\", \"ccode\":\"14\", \"code\":\"1015\" }, {\"name\":\"한국경제TV\", \"type\":\"abc\", \"ccode\":\"14\", \"code\":\"1004\" }, {\"name\":\"한국교육신문\", \"type\":\"abc\", \"ccode\":\"14\", \"code\":\"2224\" }, {\"name\":\"한국금융신문\", \"type\":\"abc\", \"ccode\":\"14\", \"code\":\"2040\" }, {\"name\":\"한국기독공보\", \"type\":\"abc\", \"ccode\":\"14\", \"code\":\"2218\" }, {\"name\":\"한국농어민신문\", \"type\":\"abc\", \"ccode\":\"14\", \"code\":\"2396\" }, {\"name\":\"한국농어촌방송\", \"type\":\"abc\", \"ccode\":\"14\", \"code\":\"2555\" }, {\"name\":\"한국농업신문\", \"type\":\"abc\", \"ccode\":\"14\", \"code\":\"2367\" }, {\"name\":\"한국농정신문\", \"type\":\"abc\", \"ccode\":\"14\", \"code\":\"2414\" }, {\"name\":\"한국농촌경제신문\", \"type\":\"abc\", \"ccode\":\"14\", \"code\":\"2663\" }, {\"name\":\"한국대학스포츠협의회\", \"type\":\"abc\", \"ccode\":\"14\", \"code\":\"1573\" }, {\"name\":\"한국대학신문\", \"type\":\"abc\", \"ccode\":\"14\", \"code\":\"2189\" }, {\"name\":\"한국면세뉴스\", \"type\":\"abc\", \"ccode\":\"14\", \"code\":\"2638\" }, {\"name\":\"한국목재신문\", \"type\":\"abc\", \"ccode\":\"14\", \"code\":\"2523\" }, {\"name\":\"한국무역신문\", \"type\":\"abc\", \"ccode\":\"14\", \"code\":\"2147\" }, {\"name\":\"한국배구연맹\", \"type\":\"abc\", \"ccode\":\"14\", \"code\":\"1352\" }, {\"name\":\"한국보험신문\", \"type\":\"abc\", \"ccode\":\"14\", \"code\":\"2056\" }, {\"name\":\"한국섬유신문\", \"type\":\"abc\", \"ccode\":\"14\", \"code\":\"2381\" }, {\"name\":\"한국스포츠개발원\", \"type\":\"abc\", \"ccode\":\"14\", \"code\":\"1593\" }, {\"name\":\"한국스포츠통신\", \"type\":\"abc\", \"ccode\":\"14\", \"code\":\"2672\" }, {\"name\":\"한국아파트신문\", \"type\":\"abc\", \"ccode\":\"14\", \"code\":\"2870\" }, {\"name\":\"한국영농신문\", \"type\":\"abc\", \"ccode\":\"14\", \"code\":\"2548\" }, {\"name\":\"한국원자력신문\", \"type\":\"abc\", \"ccode\":\"14\", \"code\":\"2871\" }, {\"name\":\"한국일보\", \"type\":\"abc\", \"ccode\":\"14\", \"code\":\"1469\" }, {\"name\":\"한국정경신문\", \"type\":\"abc\", \"ccode\":\"14\", \"code\":\"2503\" }, {\"name\":\"한국체대 KNSB\", \"type\":\"abc\", \"ccode\":\"14\", \"code\":\"1620\" }, {\"name\":\"한국풋살연맹\", \"type\":\"abc\", \"ccode\":\"14\", \"code\":\"1625\" }, {\"name\":\"한국프로볼링협회\", \"type\":\"abc\", \"ccode\":\"14\", \"code\":\"1592\" }, {\"name\":\"한국프로축구선수협회\", \"type\":\"abc\", \"ccode\":\"14\", \"code\":\"1628\" }, {\"name\":\"한스경제\", \"type\":\"abc\", \"ccode\":\"14\", \"code\":\"2438\" }, {\"name\":\"한양대학교 사자후\", \"type\":\"abc\", \"ccode\":\"14\", \"code\":\"1569\" }, {\"name\":\"한의신문\", \"type\":\"abc\", \"ccode\":\"14\", \"code\":\"2530\" }, {\"name\":\"한준 칼럼\", \"type\":\"abc\", \"ccode\":\"14\", \"code\":\"1431\" }, {\"name\":\"한화생명e스포츠\", \"type\":\"abc\", \"ccode\":\"14\", \"code\":\"1598\" }, {\"name\":\"함께걸음\", \"type\":\"abc\", \"ccode\":\"14\", \"code\":\"2124\" }, {\"name\":\"핸드메이커\", \"type\":\"abc\", \"ccode\":\"14\", \"code\":\"2851\" }, {\"name\":\"허프포스트코리아\", \"type\":\"abc\", \"ccode\":\"14\", \"code\":\"2384\" }, {\"name\":\"헤드라인제주\", \"type\":\"abc\", \"ccode\":\"14\", \"code\":\"2267\" }, {\"name\":\"헤럴드POP\", \"type\":\"abc\", \"ccode\":\"14\", \"code\":\"1112\" }, {\"name\":\"헤럴드경제\", \"type\":\"abc\", \"ccode\":\"14\", \"code\":\"1016\" }, {\"name\":\"헤모필리아라이프\", \"type\":\"abc\", \"ccode\":\"14\", \"code\":\"2504\" }, {\"name\":\"헬로디디\", \"type\":\"abc\", \"ccode\":\"14\", \"code\":\"2409\" }, {\"name\":\"헬로티\", \"type\":\"abc\", \"ccode\":\"14\", \"code\":\"2417\" }, {\"name\":\"헬스경향\", \"type\":\"abc\", \"ccode\":\"14\", \"code\":\"2534\" }, {\"name\":\"헬스인뉴스\", \"type\":\"abc\", \"ccode\":\"14\", \"code\":\"2817\" }, {\"name\":\"헬스조선\", \"type\":\"abc\", \"ccode\":\"14\", \"code\":\"1346\" }, {\"name\":\"현대경제신문\", \"type\":\"abc\", \"ccode\":\"14\", \"code\":\"2288\" }, {\"name\":\"현대불교신문\", \"type\":\"abc\", \"ccode\":\"14\", \"code\":\"2422\" }, {\"name\":\"현대축산뉴스\", \"type\":\"abc\", \"ccode\":\"14\", \"code\":\"2057\" }, {\"name\":\"현대해양\", \"type\":\"abc\", \"ccode\":\"14\", \"code\":\"2682\" }, {\"name\":\"홍기자 칼럼\", \"type\":\"abc\", \"ccode\":\"14\", \"code\":\"1459\" }, {\"name\":\"홍익대 홍대신문\", \"type\":\"abc\", \"ccode\":\"14\", \"code\":\"1647\" }, {\"name\":\"화이트페이퍼\", \"type\":\"abc\", \"ccode\":\"14\", \"code\":\"2120\" }, {\"name\":\"환경과조경\", \"type\":\"abc\", \"ccode\":\"14\", \"code\":\"2637\" }, {\"name\":\"후생신보\", \"type\":\"abc\", \"ccode\":\"14\", \"code\":\"2619\" }, {\"name\":\"흥국생명 핑크스파이더스\", \"type\":\"abc\", \"ccode\":\"14\", \"code\":\"1606\" }, {\"name\":\"히트뉴스\", \"type\":\"abc\", \"ccode\":\"14\", \"code\":\"2911\" }, ] } , { \"name\": \"ABC\", \"list\": [ {\"name\":\"AI타임스\", \"type\":\"abc\", \"ccode\":\"15\", \"code\":\"2746\" }, {\"name\":\"allure\", \"type\":\"abc\", \"ccode\":\"15\", \"code\":\"2304\" }, {\"name\":\"AP신문\", \"type\":\"abc\", \"ccode\":\"15\", \"code\":\"2793\" }, {\"name\":\"BBC\", \"type\":\"abc\", \"ccode\":\"15\", \"code\":\"2741\" }, {\"name\":\"BBS NEWS\", \"type\":\"abc\", \"ccode\":\"15\", \"code\":\"2019\" }, {\"name\":\"bnt뉴스\", \"type\":\"abc\", \"ccode\":\"15\", \"code\":\"2191\" }, {\"name\":\"BTN불교TV\", \"type\":\"abc\", \"ccode\":\"15\", \"code\":\"2423\" }, {\"name\":\"CBC뉴스\", \"type\":\"abc\", \"ccode\":\"15\", \"code\":\"2785\" }, {\"name\":\"CCTV뉴스\", \"type\":\"abc\", \"ccode\":\"15\", \"code\":\"2298\" }, {\"name\":\"CEO스코어데일리\", \"type\":\"abc\", \"ccode\":\"15\", \"code\":\"2243\" }, {\"name\":\"CHIEF EXECUTIVE\", \"type\":\"abc\", \"ccode\":\"15\", \"code\":\"2833\" }, {\"name\":\"CIO Korea\", \"type\":\"abc\", \"ccode\":\"15\", \"code\":\"2177\" }, {\"name\":\"CJB청주방송\", \"type\":\"abc\", \"ccode\":\"15\", \"code\":\"1655\" }, {\"name\":\"CMB광주방송\", \"type\":\"abc\", \"ccode\":\"15\", \"code\":\"2508\" }, {\"name\":\"CMB대전방송\", \"type\":\"abc\", \"ccode\":\"15\", \"code\":\"2450\" }, {\"name\":\"CNB뉴스\", \"type\":\"abc\", \"ccode\":\"15\", \"code\":\"2293\" }, {\"name\":\"CNB저널(문화경제)\", \"type\":\"abc\", \"ccode\":\"15\", \"code\":\"2127\" }, {\"name\":\"CTS\", \"type\":\"abc\", \"ccode\":\"15\", \"code\":\"2558\" }, {\"name\":\"EBN\", \"type\":\"abc\", \"ccode\":\"15\", \"code\":\"2093\" }, {\"name\":\"EBS\", \"type\":\"abc\", \"ccode\":\"15\", \"code\":\"2099\" }, {\"name\":\"ESG경제\", \"type\":\"abc\", \"ccode\":\"15\", \"code\":\"2913\" }, {\"name\":\"EV라운지\", \"type\":\"abc\", \"ccode\":\"15\", \"code\":\"2257\" }, {\"name\":\"e의료정보\", \"type\":\"abc\", \"ccode\":\"15\", \"code\":\"2740\" }, {\"name\":\"FETV\", \"type\":\"abc\", \"ccode\":\"15\", \"code\":\"2484\" }, {\"name\":\"FPN\", \"type\":\"abc\", \"ccode\":\"15\", \"code\":\"2070\" }, {\"name\":\"FT스포츠\", \"type\":\"abc\", \"ccode\":\"15\", \"code\":\"2838\" }, {\"name\":\"G1방송\", \"type\":\"abc\", \"ccode\":\"15\", \"code\":\"2402\" }, {\"name\":\"GQ\", \"type\":\"abc\", \"ccode\":\"15\", \"code\":\"2302\" }, {\"name\":\"G밸리뉴스\", \"type\":\"abc\", \"ccode\":\"15\", \"code\":\"2206\" }, {\"name\":\"HCN 새로넷방송\", \"type\":\"abc\", \"ccode\":\"15\", \"code\":\"2708\" }, {\"name\":\"ifspost\", \"type\":\"abc\", \"ccode\":\"15\", \"code\":\"2625\" }, {\"name\":\"ITWorld\", \"type\":\"abc\", \"ccode\":\"15\", \"code\":\"2110\" }, {\"name\":\"IT동아\", \"type\":\"abc\", \"ccode\":\"15\", \"code\":\"2313\" }, {\"name\":\"IT비즈뉴스\", \"type\":\"abc\", \"ccode\":\"15\", \"code\":\"2795\" }, {\"name\":\"IT조선\", \"type\":\"abc\", \"ccode\":\"15\", \"code\":\"2242\" }, {\"name\":\"JIBS\", \"type\":\"abc\", \"ccode\":\"15\", \"code\":\"1661\" }, {\"name\":\"JTBC\", \"type\":\"abc\", \"ccode\":\"15\", \"code\":\"1437\" }, {\"name\":\"JTBC GOLF\", \"type\":\"abc\", \"ccode\":\"15\", \"code\":\"1470\" }, {\"name\":\"JTV전주방송\", \"type\":\"abc\", \"ccode\":\"15\", \"code\":\"2847\" }, {\"name\":\"K STAR\", \"type\":\"abc\", \"ccode\":\"15\", \"code\":\"2245\" }, {\"name\":\"kbc광주방송\", \"type\":\"abc\", \"ccode\":\"15\", \"code\":\"1660\" }, {\"name\":\"KBR\", \"type\":\"abc\", \"ccode\":\"15\", \"code\":\"2694\" }, {\"name\":\"KBS\", \"type\":\"abc\", \"ccode\":\"15\", \"code\":\"1056\" }, {\"name\":\"KBS 연예\", \"type\":\"abc\", \"ccode\":\"15\", \"code\":\"1438\" }, {\"name\":\"KBSN 스포츠\", \"type\":\"abc\", \"ccode\":\"15\", \"code\":\"1451\" }, {\"name\":\"KGC인삼공사프로배구단\", \"type\":\"abc\", \"ccode\":\"15\", \"code\":\"1611\" }, {\"name\":\"KNN\", \"type\":\"abc\", \"ccode\":\"15\", \"code\":\"2167\" }, {\"name\":\"Korea IT Times\", \"type\":\"abc\", \"ccode\":\"15\", \"code\":\"2187\" }, {\"name\":\"KOTRA해외시장뉴스\", \"type\":\"abc\", \"ccode\":\"15\", \"code\":\"2834\" }, {\"name\":\"kt 롤스터\", \"type\":\"abc\", \"ccode\":\"15\", \"code\":\"1537\" }, {\"name\":\"KTV국민방송\", \"type\":\"abc\", \"ccode\":\"15\", \"code\":\"2108\" }, {\"name\":\"K스피릿\", \"type\":\"abc\", \"ccode\":\"15\", \"code\":\"2856\" }, {\"name\":\"LG헬로비전\", \"type\":\"abc\", \"ccode\":\"15\", \"code\":\"2698\" }, {\"name\":\"MBC\", \"type\":\"abc\", \"ccode\":\"15\", \"code\":\"1214\" }, {\"name\":\"MBC SPORTS+\", \"type\":\"abc\", \"ccode\":\"15\", \"code\":\"1049\" }, {\"name\":\"MBC강원영동\", \"type\":\"abc\", \"ccode\":\"15\", \"code\":\"2477\" }, {\"name\":\"MBC경남\", \"type\":\"abc\", \"ccode\":\"15\", \"code\":\"2805\" }, {\"name\":\"MBC연예\", \"type\":\"abc\", \"ccode\":\"15\", \"code\":\"1408\" }, {\"name\":\"MBC충북\", \"type\":\"abc\", \"ccode\":\"15\", \"code\":\"2490\" }, {\"name\":\"MBN\", \"type\":\"abc\", \"ccode\":\"15\", \"code\":\"1019\" }, {\"name\":\"MHN스포츠\", \"type\":\"abc\", \"ccode\":\"15\", \"code\":\"1445\" }, {\"name\":\"MK스포츠\", \"type\":\"abc\", \"ccode\":\"15\", \"code\":\"1410\" }, {\"name\":\"MS투데이\", \"type\":\"abc\", \"ccode\":\"15\", \"code\":\"2852\" }, {\"name\":\"MTN\", \"type\":\"abc\", \"ccode\":\"15\", \"code\":\"2151\" }, {\"name\":\"M이코노미\", \"type\":\"abc\", \"ccode\":\"15\", \"code\":\"2180\" }, {\"name\":\"NBNTV\", \"type\":\"abc\", \"ccode\":\"15\", \"code\":\"2140\" }, {\"name\":\"NSP통신\", \"type\":\"abc\", \"ccode\":\"15\", \"code\":\"2025\" }, {\"name\":\"OBS\", \"type\":\"abc\", \"ccode\":\"15\", \"code\":\"2155\" }, {\"name\":\"OBS TV\", \"type\":\"abc\", \"ccode\":\"15\", \"code\":\"1427\" }, {\"name\":\"OSEN\", \"type\":\"abc\", \"ccode\":\"15\", \"code\":\"1109\" }, {\"name\":\"PC사랑\", \"type\":\"abc\", \"ccode\":\"15\", \"code\":\"2198\" }, {\"name\":\"PD저널\", \"type\":\"abc\", \"ccode\":\"15\", \"code\":\"2042\" }, {\"name\":\"Queen\", \"type\":\"abc\", \"ccode\":\"15\", \"code\":\"2472\" }, {\"name\":\"RANK5\", \"type\":\"abc\", \"ccode\":\"15\", \"code\":\"2734\" }, {\"name\":\"RPM9\", \"type\":\"abc\", \"ccode\":\"15\", \"code\":\"2308\" }, {\"name\":\"S-저널\", \"type\":\"abc\", \"ccode\":\"15\", \"code\":\"2877\" }, {\"name\":\"SBS\", \"type\":\"abc\", \"ccode\":\"15\", \"code\":\"1055\" }, {\"name\":\"SBS Biz\", \"type\":\"abc\", \"ccode\":\"15\", \"code\":\"1374\" }, {\"name\":\"SBS Golf\", \"type\":\"abc\", \"ccode\":\"15\", \"code\":\"2314\" }, {\"name\":\"SBS SPORTS\", \"type\":\"abc\", \"ccode\":\"15\", \"code\":\"1464\" }, {\"name\":\"SBS연예뉴스\", \"type\":\"abc\", \"ccode\":\"15\", \"code\":\"1416\" }, {\"name\":\"SK브로드밴드\", \"type\":\"abc\", \"ccode\":\"15\", \"code\":\"2556\" }, {\"name\":\"SPACE(공간)\", \"type\":\"abc\", \"ccode\":\"15\", \"code\":\"2846\" }, {\"name\":\"SR타임스\", \"type\":\"abc\", \"ccode\":\"15\", \"code\":\"2589\" }, {\"name\":\"STAT 칼럼\", \"type\":\"abc\", \"ccode\":\"15\", \"code\":\"1564\" }, {\"name\":\"STN 스포츠\", \"type\":\"abc\", \"ccode\":\"15\", \"code\":\"1450\" }, {\"name\":\"TBC대구방송\", \"type\":\"abc\", \"ccode\":\"15\", \"code\":\"2375\" }, {\"name\":\"TBS\", \"type\":\"abc\", \"ccode\":\"15\", \"code\":\"2233\" }, {\"name\":\"Team LoL 칼럼\", \"type\":\"abc\", \"ccode\":\"15\", \"code\":\"1502\" }, {\"name\":\"The New York Times\", \"type\":\"abc\", \"ccode\":\"15\", \"code\":\"2747\" }, {\"name\":\"The PR Times\", \"type\":\"abc\", \"ccode\":\"15\", \"code\":\"2399\" }, {\"name\":\"The Sun\", \"type\":\"abc\", \"ccode\":\"15\", \"code\":\"1496\" }, {\"name\":\"TJB 대전방송\", \"type\":\"abc\", \"ccode\":\"15\", \"code\":\"2451\" }, {\"name\":\"Tomorrow\", \"type\":\"abc\", \"ccode\":\"15\", \"code\":\"2559\" }, {\"name\":\"topclass\", \"type\":\"abc\", \"ccode\":\"15\", \"code\":\"2265\" }, {\"name\":\"TV리포트\", \"type\":\"abc\", \"ccode\":\"15\", \"code\":\"1213\" }, {\"name\":\"TV조선\", \"type\":\"abc\", \"ccode\":\"15\", \"code\":\"1448\" }, {\"name\":\"ubc울산방송\", \"type\":\"abc\", \"ccode\":\"15\", \"code\":\"2794\" }, {\"name\":\"UPI뉴스\", \"type\":\"abc\", \"ccode\":\"15\", \"code\":\"2372\" }, {\"name\":\"VOA\", \"type\":\"abc\", \"ccode\":\"15\", \"code\":\"2087\" }, {\"name\":\"VOGUE\", \"type\":\"abc\", \"ccode\":\"15\", \"code\":\"2301\" }, {\"name\":\"VOGUE girl\", \"type\":\"abc\", \"ccode\":\"15\", \"code\":\"2303\" }, {\"name\":\"W\", \"type\":\"abc\", \"ccode\":\"15\", \"code\":\"2305\" }, {\"name\":\"YTN\", \"type\":\"abc\", \"ccode\":\"15\", \"code\":\"1052\" }, {\"name\":\"YTN라디오\", \"type\":\"abc\", \"ccode\":\"15\", \"code\":\"2251\" }, {\"name\":\"YTN사이언스\", \"type\":\"abc\", \"ccode\":\"15\", \"code\":\"2221\" }, {\"name\":\"ZDNet Korea\", \"type\":\"abc\", \"ccode\":\"15\", \"code\":\"1092\" }, {\"name\":\"中요한 기자들\", \"type\":\"abc\", \"ccode\":\"15\", \"code\":\"1531\" }, {\"name\":\"美스테리한 기자들\", \"type\":\"abc\", \"ccode\":\"15\", \"code\":\"1561\" }, ] } ] } ] }); oSearchOption.on({ \"selectCalendar\": function(e) { var param = e.param; var startDate = e.startDate; var endDate = e.endDate; var start = startDate.year + \".\" + startDate.month + \".\" + startDate.date; var end = endDate.year + \".\" + endDate.month + \".\" + endDate.date; news_submit_period_option_custom(start, end); }, \"selectCsb\": function(e) { var type = e.$item.data(\"type\"); var ccode = e.$item.data(\"ccode\"); var code = e.$item.data(\"code\"); news_submit_office_option(type, ccode, code); } }); }); }; var requirejs = naver.common.gv.REQUIRE_JS; naver.common.load_js(window.require ? null : requirejs, startApplication, true, 150); })(); </script> <section class=\"sc_new sp_nnews _prs_nws\"> <div class=\"api_subject_bx\"> <div class=\"news_pick_area\"> <a href=\"https://news.naver.com/main/static/channelPromotion.html\" class=\"spnew_af pick_link\" target=\"_blank\" onclick=\"return goOtherCR(this, \\'a=upr.pick&u=\\'+urlencode(this.href));\"> <i class=\"spnew ico_pick\">언론사 선정</i>언론사가 선정한 주요기사 혹은 심층기획 기사입니다. </a> </div><div class=\"group_news\"> <ul class=\"list_news\"> <li class=\"bx\" id=\"sp_nws1\"> <div class=\"news_wrap api_ani_send\"> <div class=\"news_area\"> <div class=\"news_info\"> <div class=\"api_save_group _keep_wrap\"> <a href=\"#\" role=\"button\" class=\"btn_save _keep_trigger\" data-url=\"https://zdnet.co.kr/view/?no=20230313092957\" onclick=\"tCR(\\'a=nws*e.kep&r=1&i=8800011E_000000000000000002285218&u=javascript\\'); return false;\" aria-pressed=\"false\"><i class=\"spnew ico_save\">문서 저장하기</i></a> <div class=\"api_ly_save _keep_save_layer\"> <a href=\"#\" role=\"button\" class=\"spnew_af item item_save _keep_save\" data-cr-on=\"a=nws*e.kepon&r=1&i=8800011E_000000000000000002285218&u=javascript\" data-cr-off=\"a=nws*e.kepoff&r=1&i=8800011E_000000000000000002285218&u=javascript\">Keep에 저장</a> <a href=\"https://keep.naver.com/\" class=\"spnew_af item item_quick\" target=\"_blank\" onClick=\"return goOtherCR(this,\\'a=nws*e.kephome&r=1&i=8800011E_000000000000000002285218&u=\\'+urlencode(this.href));\">Keep 바로가기</a> </div></div><div class=\"info_group\"> <a href=\"https://zdnet.co.kr/\" class=\"info press\" target=\"_blank\" onclick=\"return goOtherCR(this, \\'a=nws*e.prof&r=1&i=8800011E_000000000000000002285218&g=092.0002285218&u=\\'+urlencode(this.href));\"><span class=\"thumb_box\"><img src=\"data:image/gif;base64,R0lGODlhAQABAIAAAAAAAP///yH5BAEAAAAALAAAAAABAAEAAAIBRAA7\" data-lazysrc=\"https://search.pstatic.net/common/?src=https%3A%2F%2Fmimgnews.pstatic.net%2Fimage%2Fupload%2Foffice_logo%2F092%2F2022%2F09%2F05%2Flogo_092_18_20220905090445.png&type=f54_54&expire=24&refresh=true\" alt=\"\" width=\"20\" height=\"20\" class=\"thumb\" onError=\"this.src=\\'data:image/gif;base64,R0lGODlhAQABAIAAAAAAAP///yH5BAEAAAAALAAAAAABAAEAAAIBRAA7\\';this.className=\\'thumb bg_default_press\\'\"></span>ZDNet Korea</a><span class=\"info\">5분 전</span><a href=\"https://n.news.naver.com/mnews/article/092/0002285218?sid=105\" class=\"info\" target=\"_blank\" onclick=\"return goOtherCR(this, \\'a=nws*e.nav&r=1&i=8800011E_000000000000000002285218&u=\\'+urlencode(this.href));\">네이버뉴스</a> </div></div><a href=\"https://zdnet.co.kr/view/?no=20230313092957\" class=\"news_tit\" target=\"_blank\" onclick=\"return goOtherCR(this, \\'a=nws*e.tit&r=1&i=8800011E_000000000000000002285218&g=092.0002285218&u=\\'+urlencode(this.href));\" title=\"권영수 LG엔솔 부회장, 中 공장 첫 출장\">권영수 LG엔솔 부회장, 中 공장 첫 출장</a> <div class=\"news_dsc\"> <div class=\"dsc_wrap\"> <a href=\"https://zdnet.co.kr/view/?no=20230313092957\" class=\"api_txt_lines dsc_txt_wrap\" target=\"_blank\" onclick=\"return goOtherCR(this, \\'a=nws*e.body&r=1&i=8800011E_000000000000000002285218&g=092.0002285218&u=\\'+urlencode(this.href));\">이번 출장은 LFP(<mark>리튬</mark>인산철)배터리와 원통형 배터리 생산 라인을 점검하기 위한 것으로 전해졌다. 권영수 LG에너지솔루션 부회장 난징 공장은 테슬라의 중국 상하이 공장에 배터리를 공급하는 전진 기지이기도 하다....</a> </div></div></div><a href=\"https://zdnet.co.kr/view/?no=20230313092957\" class=\"dsc_thumb \" target=\"_blank\" onclick=\"return goOtherCR(this, \\'a=nws*e.img&r=1&i=8800011E_000000000000000002285218&g=092.0002285218&u=\\'+urlencode(this.href));\"><img src=\"data:image/gif;base64,R0lGODlhAQABAIAAAAAAAP///yH5BAEAAAAALAAAAAABAAEAAAIBRAA7\" data-lazysrc=\"https://search.pstatic.net/common/?src=https%3A%2F%2Fimgnews.pstatic.net%2Fimage%2Forigin%2F092%2F2023%2F03%2F13%2F2285218.jpg&type=ff264_180&expire=2&refresh=true\" width=\"132\" height=\"90\" alt=\"권영수 LG엔솔 부회장\" class=\"thumb api_get\" onerror=\"this.parentNode.style.display=\\'none\\';\"></a> </div></li> <li class=\"bx\" id=\"sp_nws2\"> <div class=\"news_wrap api_ani_send\"> <div class=\"news_area\"> <div class=\"news_info\"> <div class=\"api_save_group _keep_wrap\"> <a href=\"#\" role=\"button\" class=\"btn_save _keep_trigger\" data-url=\"https://it.chosun.com/site/data/html_dir/2023/03/13/2023031300708.html\" onclick=\"tCR(\\'a=nws*f.kep&r=2&i=88135207_000000000000000000174402&u=javascript\\'); return false;\" aria-pressed=\"false\"><i class=\"spnew ico_save\">문서 저장하기</i></a> <div class=\"api_ly_save _keep_save_layer\"> <a href=\"#\" role=\"button\" class=\"spnew_af item item_save _keep_save\" data-cr-on=\"a=nws*f.kepon&r=2&i=88135207_000000000000000000174402&u=javascript\" data-cr-off=\"a=nws*f.kepoff&r=2&i=88135207_000000000000000000174402&u=javascript\">Keep에 저장</a> <a href=\"https://keep.naver.com/\" class=\"spnew_af item item_quick\" target=\"_blank\" onClick=\"return goOtherCR(this,\\'a=nws*f.kephome&r=2&i=88135207_000000000000000000174402&u=\\'+urlencode(this.href));\">Keep 바로가기</a> </div></div><div class=\"info_group\"> <a href=\"http://it.chosun.com/\" class=\"info press\" target=\"_blank\" onclick=\"return goOtherCR(this, \\'a=nws*f.prof&r=2&i=88135207_000000000000000000174402&g=5242.0000174402&u=\\'+urlencode(this.href));\"><span class=\"thumb_box\"><img src=\"data:image/gif;base64,R0lGODlhAQABAIAAAAAAAP///yH5BAEAAAAALAAAAAABAAEAAAIBRAA7\" data-lazysrc=\"https://search.pstatic.net/common/?src=https%3A%2F%2Fit.chosun.com%2Fitchosun2022%2Fimg%2F%2Fshortcut-icon.png&type=f54_54&expire=24&refresh=true\" alt=\"\" width=\"20\" height=\"20\" class=\"thumb\" onError=\"this.src=\\'data:image/gif;base64,R0lGODlhAQABAIAAAAAAAP///yH5BAEAAAAALAAAAAABAAEAAAIBRAA7\\';this.className=\\'thumb bg_default_press\\'\"></span>IT조선</a><span class=\"info\">8분 전</span> </div></div><a href=\"https://it.chosun.com/site/data/html_dir/2023/03/13/2023031300708.html\" class=\"news_tit\" target=\"_blank\" onclick=\"return goOtherCR(this, \\'a=nws*f.tit&r=2&i=88135207_000000000000000000174402&g=5242.0000174402&u=\\'+urlencode(this.href));\" title=\"권영수 LG엔솔 부회장, 테슬라 공급 배터리 점검차 中 출장\">권영수 LG엔솔 부회장, 테슬라 공급 배터리 점검차 中 출장</a> <div class=\"news_dsc\"> <div class=\"dsc_wrap\"> <a href=\"https://it.chosun.com/site/data/html_dir/2023/03/13/2023031300708.html\" class=\"api_txt_lines dsc_txt_wrap\" target=\"_blank\" onclick=\"return goOtherCR(this, \\'a=nws*f.body&r=2&i=88135207_000000000000000000174402&g=5242.0000174402&u=\\'+urlencode(this.href));\">권 부회장은 난징 공장에서 테슬라에 공급되는 원통형 배터리 생산라인을 둘러보고, <mark>리튬</mark>인산철(LFP) 배터리 생산 라인 전환 상황을 점검할 것으로 알려졌다. 난징 공장은 테슬라 중국 상하이 공장에 배터리를...</a> </div></div></div><a href=\"https://it.chosun.com/site/data/html_dir/2023/03/13/2023031300708.html\" class=\"dsc_thumb \" target=\"_blank\" onclick=\"return goOtherCR(this, \\'a=nws*f.img&r=2&i=88135207_000000000000000000174402&g=5242.0000174402&u=\\'+urlencode(this.href));\"><img src=\"data:image/gif;base64,R0lGODlhAQABAIAAAAAAAP///yH5BAEAAAAALAAAAAABAAEAAAIBRAA7\" data-lazysrc=\"https://search.pstatic.net/common/?src=https%3A%2F%2Fimgnews.pstatic.net%2Fimage%2Forigin%2F5242%2F2023%2F03%2F13%2F174402.jpg&type=ff264_180&expire=2&refresh=true\" width=\"132\" height=\"90\" alt=\"권영수 LG엔솔 부회장\" class=\"thumb api_get\" onerror=\"this.parentNode.style.display=\\'none\\';\"></a> </div></li> <li class=\"bx\" id=\"sp_nws3\"> <div class=\"news_wrap api_ani_send\"> <div class=\"news_area\"> <div class=\"news_info\"> <div class=\"api_save_group _keep_wrap\"> <a href=\"#\" role=\"button\" class=\"btn_save _keep_trigger\" data-url=\"http://www.snmnews.com/news/articleView.html?idxno=513818\" onclick=\"tCR(\\'a=nws*f.kep&r=3&i=88155e79_000000000000000000056060&u=javascript\\'); return false;\" aria-pressed=\"false\"><i class=\"spnew ico_save\">문서 저장하기</i></a> <div class=\"api_ly_save _keep_save_layer\"> <a href=\"#\" role=\"button\" class=\"spnew_af item item_save _keep_save\" data-cr-on=\"a=nws*f.kepon&r=3&i=88155e79_000000000000000000056060&u=javascript\" data-cr-off=\"a=nws*f.kepoff&r=3&i=88155e79_000000000000000000056060&u=javascript\">Keep에 저장</a> <a href=\"https://keep.naver.com/\" class=\"spnew_af item item_quick\" target=\"_blank\" onClick=\"return goOtherCR(this,\\'a=nws*f.kephome&r=3&i=88155e79_000000000000000000056060&u=\\'+urlencode(this.href));\">Keep 바로가기</a> </div></div><div class=\"info_group\"> <a href=\"http://www.snmnews.com/main.html\" class=\"info press\" target=\"_blank\" onclick=\"return goOtherCR(this, \\'a=nws*f.prof&r=3&i=88155e79_000000000000000000056060&g=5343.0000056060&u=\\'+urlencode(this.href));\"><span class=\"thumb_box\"><img src=\"data:image/gif;base64,R0lGODlhAQABAIAAAAAAAP///yH5BAEAAAAALAAAAAABAAEAAAIBRAA7\" data-lazysrc=\"https://search.pstatic.net/common/?src=https%3A%2F%2Fwww.snmnews.com%2Fimage%2Flogo%2Ffavicon_20180330090546.ico&type=f54_54&expire=24&refresh=true\" alt=\"\" width=\"20\" height=\"20\" class=\"thumb\" onError=\"this.src=\\'data:image/gif;base64,R0lGODlhAQABAIAAAAAAAP///yH5BAEAAAAALAAAAAABAAEAAAIBRAA7\\';this.className=\\'thumb bg_default_press\\'\"></span>철강금속신문</a><span class=\"info\">12분 전</span> </div></div><a href=\"http://www.snmnews.com/news/articleView.html?idxno=513818\" class=\"news_tit\" target=\"_blank\" onclick=\"return goOtherCR(this, \\'a=nws*f.tit&r=3&i=88155e79_000000000000000000056060&g=5343.0000056060&u=\\'+urlencode(this.href));\" title=\"美·EU 핵심광물 확보 위해 &#39;구매자 클럽&#39; 결성 추진\">美·EU 핵심광물 확보 위해 \\'구매자 클럽\\' 결성 추진</a> <div class=\"news_dsc\"> <div class=\"dsc_wrap\"> <a href=\"http://www.snmnews.com/news/articleView.html?idxno=513818\" class=\"api_txt_lines dsc_txt_wrap\" target=\"_blank\" onclick=\"return goOtherCR(this, \\'a=nws*f.body&r=3&i=88155e79_000000000000000000056060&g=5343.0000056060&u=\\'+urlencode(this.href));\">미국은 최근 EU와 함께 <mark>리튬</mark>이나 니켈 등 핵심 광물 생산 과정의 환경·노동 기준을 마련하는 협상을 시작했다고 WSJ은 전했다. 이를 통해 미국의 IRA와 관련한 논란도 해결할 수 있을 것으로 양측은 기대하고 있다....</a> </div></div></div></div></li> <li class=\"bx\" id=\"sp_nws4\"> <div class=\"news_wrap api_ani_send\"> <div class=\"news_area\"> <div class=\"news_info\"> <div class=\"api_save_group _keep_wrap\"> <a href=\"#\" role=\"button\" class=\"btn_save _keep_trigger\" data-url=\"http://www.nspna.com/news/?mode=view&newsid=625010\" onclick=\"tCR(\\'a=nws*f.kep&r=4&i=880003F1_000000000000000000597263&u=javascript\\'); return false;\" aria-pressed=\"false\"><i class=\"spnew ico_save\">문서 저장하기</i></a> <div class=\"api_ly_save _keep_save_layer\"> <a href=\"#\" role=\"button\" class=\"spnew_af item item_save _keep_save\" data-cr-on=\"a=nws*f.kepon&r=4&i=880003F1_000000000000000000597263&u=javascript\" data-cr-off=\"a=nws*f.kepoff&r=4&i=880003F1_000000000000000000597263&u=javascript\">Keep에 저장</a> <a href=\"https://keep.naver.com/\" class=\"spnew_af item item_quick\" target=\"_blank\" onClick=\"return goOtherCR(this,\\'a=nws*f.kephome&r=4&i=880003F1_000000000000000000597263&u=\\'+urlencode(this.href));\">Keep 바로가기</a> </div></div><div class=\"info_group\"> <a href=\"http://www.nspna.com/\" class=\"info press\" target=\"_blank\" onclick=\"return goOtherCR(this, \\'a=nws*f.prof&r=4&i=880003F1_000000000000000000597263&g=5025.0000597263&u=\\'+urlencode(this.href));\"><span class=\"thumb_box\"><img src=\"data:image/gif;base64,R0lGODlhAQABAIAAAAAAAP///yH5BAEAAAAALAAAAAABAAEAAAIBRAA7\" data-lazysrc=\"https://search.pstatic.net/common/?src=http%3A%2F%2Fwww.nspna.com%2Ffavicon.ico&type=f54_54&expire=24&refresh=true\" alt=\"\" width=\"20\" height=\"20\" class=\"thumb\" onError=\"this.src=\\'data:image/gif;base64,R0lGODlhAQABAIAAAAAAAP///yH5BAEAAAAALAAAAAABAAEAAAIBRAA7\\';this.className=\\'thumb bg_default_press\\'\"></span>NSP통신</a><span class=\"info\">16분 전</span> </div></div><a href=\"http://www.nspna.com/news/?mode=view&newsid=625010\" class=\"news_tit\" target=\"_blank\" onclick=\"return goOtherCR(this, \\'a=nws*f.tit&r=4&i=880003F1_000000000000000000597263&g=5025.0000597263&u=\\'+urlencode(this.href));\" title=\"케이피에스, 세기리텍 인수 폐배터리 리사이클링 산업 본격 진출…4월부터 실적반영\">케이피에스, 세기리텍 인수 폐배터리 리사이클링 산업 본격 진출…4월부터 실...</a> <div class=\"news_dsc\"> <div class=\"dsc_wrap\"> <a href=\"http://www.nspna.com/news/?mode=view&newsid=625010\" class=\"api_txt_lines dsc_txt_wrap\" target=\"_blank\" onclick=\"return goOtherCR(this, \\'a=nws*f.body&r=4&i=880003F1_000000000000000000597263&g=5025.0000597263&u=\\'+urlencode(this.href));\">향후 <mark>리튬</mark> 전지 재활용으로의 확장이 유력하다. 세기리텍은 폐배터리 파쇄, 열처리하는 전처리 공정에 대한 기술력을 보유하고 있다. 확보하지 못한 <mark>리튬</mark> 전지 전·후처리 공정 기술들은 지질자원연구원과의 긴밀한...</a> </div></div></div></div></li> <li class=\"bx\" id=\"sp_nws5\"> <div class=\"news_wrap api_ani_send\"> <div class=\"news_area\"> <div class=\"news_info\"> <div class=\"api_save_group _keep_wrap\"> <a href=\"#\" role=\"button\" class=\"btn_save _keep_trigger\" data-url=\"http://www.seoulwire.com/news/articleView.html?idxno=496212\" onclick=\"tCR(\\'a=nws*f.kep&r=5&i=8817ca73_000000000000000000324869&u=javascript\\'); return false;\" aria-pressed=\"false\"><i class=\"spnew ico_save\">문서 저장하기</i></a> <div class=\"api_ly_save _keep_save_layer\"> <a href=\"#\" role=\"button\" class=\"spnew_af item item_save _keep_save\" data-cr-on=\"a=nws*f.kepon&r=5&i=8817ca73_000000000000000000324869&u=javascript\" data-cr-off=\"a=nws*f.kepoff&r=5&i=8817ca73_000000000000000000324869&u=javascript\">Keep에 저장</a> <a href=\"https://keep.naver.com/\" class=\"spnew_af item item_quick\" target=\"_blank\" onClick=\"return goOtherCR(this,\\'a=nws*f.kephome&r=5&i=8817ca73_000000000000000000324869&u=\\'+urlencode(this.href));\">Keep 바로가기</a> </div></div><div class=\"info_group\"> <a href=\"http://www.seoulwire.com\" class=\"info press\" target=\"_blank\" onclick=\"return goOtherCR(this, \\'a=nws*f.prof&r=5&i=8817ca73_000000000000000000324869&g=5526.0000324869&u=\\'+urlencode(this.href));\"><span class=\"thumb_box\"><img src=\"data:image/gif;base64,R0lGODlhAQABAIAAAAAAAP///yH5BAEAAAAALAAAAAABAAEAAAIBRAA7\" data-lazysrc=\"https://search.pstatic.net/common/?src=http%3A%2F%2Fwww.seoulwire.com%2Fimage%2Flogo%2Ffavicon_20200213025212.ico&type=f54_54&expire=24&refresh=true\" alt=\"\" width=\"20\" height=\"20\" class=\"thumb\" onError=\"this.src=\\'data:image/gif;base64,R0lGODlhAQABAIAAAAAAAP///yH5BAEAAAAALAAAAAABAAEAAAIBRAA7\\';this.className=\\'thumb bg_default_press\\'\"></span>서울와이어</a><span class=\"info\">20분 전</span> </div></div><a href=\"http://www.seoulwire.com/news/articleView.html?idxno=496212\" class=\"news_tit\" target=\"_blank\" onclick=\"return goOtherCR(this, \\'a=nws*f.tit&r=5&i=8817ca73_000000000000000000324869&g=5526.0000324869&u=\\'+urlencode(this.href));\" title=\"권영수 LG엔솔 부회장, &#39;배터리 전쟁&#39; 상대 중국 출장...세계 1위 공략\">권영수 LG엔솔 부회장, \\'배터리 전쟁\\' 상대 중국 출장...세계 1위 공략</a> <div class=\"news_dsc\"> <div class=\"dsc_wrap\"> <a href=\"http://www.seoulwire.com/news/articleView.html?idxno=496212\" class=\"api_txt_lines dsc_txt_wrap\" target=\"_blank\" onclick=\"return goOtherCR(this, \\'a=nws*f.body&r=5&i=8817ca73_000000000000000000324869&g=5526.0000324869&u=\\'+urlencode(this.href));\">13일 업계에 따르면 권 부회장은 전날 중국으로 떠나 오는 16일까지 난징 공장의 원통형 배터리 생산라인을 둘러보고, <mark>리튬</mark>인산철(LFP) 배터리 생산라인 전환 상황을 점검할 예정이다. 앞서 권 부회장은 지난해 미국에서...</a> </div></div></div><a href=\"http://www.seoulwire.com/news/articleView.html?idxno=496212\" class=\"dsc_thumb \" target=\"_blank\" onclick=\"return goOtherCR(this, \\'a=nws*f.img&r=5&i=8817ca73_000000000000000000324869&g=5526.0000324869&u=\\'+urlencode(this.href));\"><img src=\"data:image/gif;base64,R0lGODlhAQABAIAAAAAAAP///yH5BAEAAAAALAAAAAABAAEAAAIBRAA7\" data-lazysrc=\"https://search.pstatic.net/common/?src=https%3A%2F%2Fimgnews.pstatic.net%2Fimage%2Forigin%2F5526%2F2023%2F03%2F13%2F324869.jpg&type=ofullfill264_180_gray&expire=2&refresh=true\" width=\"132\" height=\"90\" alt=\"권영수 LG엔솔 부회장\" class=\"thumb api_get\" onerror=\"this.parentNode.style.display=\\'none\\';\"></a> </div></li> <li class=\"bx\" id=\"sp_nws6\"> <div class=\"news_wrap api_ani_send\"> <div class=\"news_area\"> <div class=\"news_info\"> <div class=\"api_save_group _keep_wrap\"> <a href=\"#\" role=\"button\" class=\"btn_save _keep_trigger\" data-url=\"http://news.heraldcorp.com/view.php?ud=20230313000120\" onclick=\"tCR(\\'a=nws*e.kep&r=6&i=8800010E_000000000000000002115341&u=javascript\\'); return false;\" aria-pressed=\"false\"><i class=\"spnew ico_save\">문서 저장하기</i></a> <div class=\"api_ly_save _keep_save_layer\"> <a href=\"#\" role=\"button\" class=\"spnew_af item item_save _keep_save\" data-cr-on=\"a=nws*e.kepon&r=6&i=8800010E_000000000000000002115341&u=javascript\" data-cr-off=\"a=nws*e.kepoff&r=6&i=8800010E_000000000000000002115341&u=javascript\">Keep에 저장</a> <a href=\"https://keep.naver.com/\" class=\"spnew_af item item_quick\" target=\"_blank\" onClick=\"return goOtherCR(this,\\'a=nws*e.kephome&r=6&i=8800010E_000000000000000002115341&u=\\'+urlencode(this.href));\">Keep 바로가기</a> </div></div><div class=\"info_group\"> <a href=\"http://www.heraldbiz.com/\" class=\"info press\" target=\"_blank\" onclick=\"return goOtherCR(this, \\'a=nws*e.prof&r=6&i=8800010E_000000000000000002115341&g=016.0002115341&u=\\'+urlencode(this.href));\"><span class=\"thumb_box\"><img src=\"data:image/gif;base64,R0lGODlhAQABAIAAAAAAAP///yH5BAEAAAAALAAAAAABAAEAAAIBRAA7\" data-lazysrc=\"https://search.pstatic.net/common/?src=https%3A%2F%2Fmimgnews.pstatic.net%2Fimage%2Fupload%2Foffice_logo%2F016%2F2017%2F01%2F05%2Flogo_016_18_20170105111205.png&type=f54_54&expire=24&refresh=true\" alt=\"\" width=\"20\" height=\"20\" class=\"thumb\" onError=\"this.src=\\'data:image/gif;base64,R0lGODlhAQABAIAAAAAAAP///yH5BAEAAAAALAAAAAABAAEAAAIBRAA7\\';this.className=\\'thumb bg_default_press\\'\"></span>헤럴드경제</a><span class=\"info\">26분 전</span><a href=\"https://n.news.naver.com/mnews/article/016/0002115341?sid=105\" class=\"info\" target=\"_blank\" onclick=\"return goOtherCR(this, \\'a=nws*e.nav&r=6&i=8800010E_000000000000000002115341&u=\\'+urlencode(this.href));\">네이버뉴스</a> </div></div><a href=\"http://news.heraldcorp.com/view.php?ud=20230313000120\" class=\"news_tit\" target=\"_blank\" onclick=\"return goOtherCR(this, \\'a=nws*e.tit&r=6&i=8800010E_000000000000000002115341&g=016.0002115341&u=\\'+urlencode(this.href));\" title=\"[르포] “데이터센터 이중화 철저” 삼성SDS, 클라우드 핵심기지 첫 공개\">[르포] “데이터센터 이중화 철저” 삼성SDS, 클라우드 핵심기지 첫 공개</a> <div class=\"news_dsc\"> <div class=\"dsc_wrap\"> <a href=\"http://news.heraldcorp.com/view.php?ud=20230313000120\" class=\"api_txt_lines dsc_txt_wrap\" target=\"_blank\" onclick=\"return goOtherCR(this, \\'a=nws*e.body&r=6&i=8800010E_000000000000000002115341&g=016.0002115341&u=\\'+urlencode(this.href));\">동탄 데이터센터는 삼성SDI의 4세대 <mark>리튬</mark>이온 배터리를 적용했다. 셀과 셀 사이에 단열 시트와 소화 시트가 장착돼 화재의 위험으로부터 안전하다는 설명이다. 삼성SDS 이날 동탄 데이터센터 공개를 계기로 기업용...</a> </div></div></div><a href=\"http://news.heraldcorp.com/view.php?ud=20230313000120\" class=\"dsc_thumb \" target=\"_blank\" onclick=\"return goOtherCR(this, \\'a=nws*e.img&r=6&i=8800010E_000000000000000002115341&g=016.0002115341&u=\\'+urlencode(this.href));\"><img src=\"data:image/gif;base64,R0lGODlhAQABAIAAAAAAAP///yH5BAEAAAAALAAAAAABAAEAAAIBRAA7\" data-lazysrc=\"https://search.pstatic.net/common/?src=https%3A%2F%2Fimgnews.pstatic.net%2Fimage%2Forigin%2F016%2F2023%2F03%2F13%2F2115341.jpg&type=ff264_180&expire=2&refresh=true\" width=\"132\" height=\"90\" alt=\"[르포] “데이터센터 \" class=\"thumb api_get\" onerror=\"this.parentNode.style.display=\\'none\\';\"></a> </div></li> <li class=\"bx\" id=\"sp_nws7\"> <div class=\"news_wrap api_ani_send\"> <div class=\"news_area\"> <div class=\"news_info\"> <div class=\"api_save_group _keep_wrap\"> <a href=\"#\" role=\"button\" class=\"btn_save _keep_trigger\" data-url=\"http://www.g-enews.com/ko-kr/news/article/news_all/2023031300210639817bdb7041ec_1/article.html\" onclick=\"tCR(\\'a=nws*f.kep&r=7&i=88155e63_000000000000000000552846&u=javascript\\'); return false;\" aria-pressed=\"false\"><i class=\"spnew ico_save\">문서 저장하기</i></a> <div class=\"api_ly_save _keep_save_layer\"> <a href=\"#\" role=\"button\" class=\"spnew_af item item_save _keep_save\" data-cr-on=\"a=nws*f.kepon&r=7&i=88155e63_000000000000000000552846&u=javascript\" data-cr-off=\"a=nws*f.kepoff&r=7&i=88155e63_000000000000000000552846&u=javascript\">Keep에 저장</a> <a href=\"https://keep.naver.com/\" class=\"spnew_af item item_quick\" target=\"_blank\" onClick=\"return goOtherCR(this,\\'a=nws*f.kephome&r=7&i=88155e63_000000000000000000552846&u=\\'+urlencode(this.href));\">Keep 바로가기</a> </div></div><div class=\"info_group\"> <a href=\"http://www.g-enews.com/\" class=\"info press\" target=\"_blank\" onclick=\"return goOtherCR(this, \\'a=nws*f.prof&r=7&i=88155e63_000000000000000000552846&g=5366.0000552846&u=\\'+urlencode(this.href));\"><span class=\"thumb_box\"><img src=\"data:image/gif;base64,R0lGODlhAQABAIAAAAAAAP///yH5BAEAAAAALAAAAAABAAEAAAIBRAA7\" data-lazysrc=\"https://search.pstatic.net/common/?src=http%3A%2F%2Fwww.egreennews.com%2Ffavicon.ico&type=f54_54&expire=24&refresh=true\" alt=\"\" width=\"20\" height=\"20\" class=\"thumb\" onError=\"this.src=\\'data:image/gif;base64,R0lGODlhAQABAIAAAAAAAP///yH5BAEAAAAALAAAAAABAAEAAAIBRAA7\\';this.className=\\'thumb bg_default_press\\'\"></span>글로벌이코노믹</a><span class=\"info\">26분 전</span> </div></div><a href=\"http://www.g-enews.com/ko-kr/news/article/news_all/2023031300210639817bdb7041ec_1/article.html\" class=\"news_tit\" target=\"_blank\" onclick=\"return goOtherCR(this, \\'a=nws*f.tit&r=7&i=88155e63_000000000000000000552846&g=5366.0000552846&u=\\'+urlencode(this.href));\" title=\"권영수 LG엔솔 부회장, 中 출장길 올라…LFP 배터리 생산라인 점검\">권영수 LG엔솔 부회장, 中 출장길 올라…LFP 배터리 생산라인 점검</a> <div class=\"news_dsc\"> <div class=\"dsc_wrap\"> <a href=\"http://www.g-enews.com/ko-kr/news/article/news_all/2023031300210639817bdb7041ec_1/article.html\" class=\"api_txt_lines dsc_txt_wrap\" target=\"_blank\" onclick=\"return goOtherCR(this, \\'a=nws*f.body&r=7&i=88155e63_000000000000000000552846&g=5366.0000552846&u=\\'+urlencode(this.href));\">권 부회장은 난징 공장에서 테슬라에 공급되는 원통형 배터리 생산라인을 둘러보고 <mark>리튬</mark>인산철(LFP) 배터리 생산 라인 전환 상황을 점검할 것으로 알려졌다. 권 부회장의 중국 출장은 2021년 최고경영자(CEO) 취임 이후...</a> </div></div></div><a href=\"http://www.g-enews.com/ko-kr/news/article/news_all/2023031300210639817bdb7041ec_1/article.html\" class=\"dsc_thumb \" target=\"_blank\" onclick=\"return goOtherCR(this, \\'a=nws*f.img&r=7&i=88155e63_000000000000000000552846&g=5366.0000552846&u=\\'+urlencode(this.href));\"><img src=\"data:image/gif;base64,R0lGODlhAQABAIAAAAAAAP///yH5BAEAAAAALAAAAAABAAEAAAIBRAA7\" data-lazysrc=\"https://search.pstatic.net/common/?src=https%3A%2F%2Fimgnews.pstatic.net%2Fimage%2Forigin%2F5366%2F2023%2F03%2F13%2F552846.jpg&type=ofullfill264_180_gray&expire=2&refresh=true\" width=\"132\" height=\"90\" alt=\"권영수 LG엔솔 부회장\" class=\"thumb api_get\" onerror=\"this.parentNode.style.display=\\'none\\';\"></a> </div></li> <li class=\"bx\" id=\"sp_nws8\"> <div class=\"news_wrap api_ani_send\"> <div class=\"news_area\"> <div class=\"news_info\"> <div class=\"api_save_group _keep_wrap\"> <a href=\"#\" role=\"button\" class=\"btn_save _keep_trigger\" data-url=\"http://www.shinailbo.co.kr/news/articleView.html?idxno=1672926\" onclick=\"tCR(\\'a=nws*f.kep&r=8&i=88155e65_000000000000000000724400&u=javascript\\'); return false;\" aria-pressed=\"false\"><i class=\"spnew ico_save\">문서 저장하기</i></a> <div class=\"api_ly_save _keep_save_layer\"> <a href=\"#\" role=\"button\" class=\"spnew_af item item_save _keep_save\" data-cr-on=\"a=nws*f.kepon&r=8&i=88155e65_000000000000000000724400&u=javascript\" data-cr-off=\"a=nws*f.kepoff&r=8&i=88155e65_000000000000000000724400&u=javascript\">Keep에 저장</a> <a href=\"https://keep.naver.com/\" class=\"spnew_af item item_quick\" target=\"_blank\" onClick=\"return goOtherCR(this,\\'a=nws*f.kephome&r=8&i=88155e65_000000000000000000724400&u=\\'+urlencode(this.href));\">Keep 바로가기</a> </div></div><div class=\"info_group\"> <a href=\"http://www.shinailbo.co.kr/\" class=\"info press\" target=\"_blank\" onclick=\"return goOtherCR(this, \\'a=nws*f.prof&r=8&i=88155e65_000000000000000000724400&g=5364.0000724400&u=\\'+urlencode(this.href));\"><span class=\"thumb_box\"><img src=\"data:image/gif;base64,R0lGODlhAQABAIAAAAAAAP///yH5BAEAAAAALAAAAAABAAEAAAIBRAA7\" data-lazysrc=\"https://search.pstatic.net/common/?src=http%3A%2F%2Fwww.shinailbo.co.kr%2Fimage%2Flogo%2Ffavicon.png&type=f54_54&expire=24&refresh=true\" alt=\"\" width=\"20\" height=\"20\" class=\"thumb\" onError=\"this.src=\\'data:image/gif;base64,R0lGODlhAQABAIAAAAAAAP///yH5BAEAAAAALAAAAAABAAEAAAIBRAA7\\';this.className=\\'thumb bg_default_press\\'\"></span>신아일보</a><span class=\"info\">28분 전</span> </div></div><a href=\"http://www.shinailbo.co.kr/news/articleView.html?idxno=1672926\" class=\"news_tit\" target=\"_blank\" onclick=\"return goOtherCR(this, \\'a=nws*f.tit&r=8&i=88155e65_000000000000000000724400&g=5364.0000724400&u=\\'+urlencode(this.href));\" title=\"LG엔솔 권영수, 취임 후 첫 중국 출장…생산라인 점검\">LG엔솔 권영수, 취임 후 첫 중국 출장…생산라인 점검</a> <div class=\"news_dsc\"> <div class=\"dsc_wrap\"> <a href=\"http://www.shinailbo.co.kr/news/articleView.html?idxno=1672926\" class=\"api_txt_lines dsc_txt_wrap\" target=\"_blank\" onclick=\"return goOtherCR(this, \\'a=nws*f.body&r=8&i=88155e65_000000000000000000724400&g=5364.0000724400&u=\\'+urlencode(this.href));\">권 부회장은 난징 공장에서 테슬라에 공급되는 원통형 배터리 생산라인을 둘러보고 <mark>리튬</mark>인산철(LFP) 배터리 생산라인 전환 상황도 점검한다. LG에너지솔루션은 중국 난징 공장 일부를 LFP 배터리 생산라인으로...</a> </div></div></div><a href=\"http://www.shinailbo.co.kr/news/articleView.html?idxno=1672926\" class=\"dsc_thumb \" target=\"_blank\" onclick=\"return goOtherCR(this, \\'a=nws*f.img&r=8&i=88155e65_000000000000000000724400&g=5364.0000724400&u=\\'+urlencode(this.href));\"><img src=\"data:image/gif;base64,R0lGODlhAQABAIAAAAAAAP///yH5BAEAAAAALAAAAAABAAEAAAIBRAA7\" data-lazysrc=\"https://search.pstatic.net/common/?src=https%3A%2F%2Fimgnews.pstatic.net%2Fimage%2Forigin%2F5364%2F2023%2F03%2F13%2F724400.jpg&type=ofullfill264_180_gray&expire=2&refresh=true\" width=\"132\" height=\"90\" alt=\"LG엔솔 권영수, 취임 \" class=\"thumb api_get\" onerror=\"this.parentNode.style.display=\\'none\\';\"></a> </div></li> <li class=\"bx\" id=\"sp_nws9\"> <div class=\"news_wrap api_ani_send\"> <div class=\"news_area\"> <div class=\"news_info\"> <div class=\"api_save_group _keep_wrap\"> <a href=\"#\" role=\"button\" class=\"btn_save _keep_trigger\" data-url=\"https://www.autodaily.co.kr/news/articleView.html?idxno=504413\" onclick=\"tCR(\\'a=nws*f.kep&r=9&i=881844a9_000000000000000000029581&u=javascript\\'); return false;\" aria-pressed=\"false\"><i class=\"spnew ico_save\">문서 저장하기</i></a> <div class=\"api_ly_save _keep_save_layer\"> <a href=\"#\" role=\"button\" class=\"spnew_af item item_save _keep_save\" data-cr-on=\"a=nws*f.kepon&r=9&i=881844a9_000000000000000000029581&u=javascript\" data-cr-off=\"a=nws*f.kepoff&r=9&i=881844a9_000000000000000000029581&u=javascript\">Keep에 저장</a> <a href=\"https://keep.naver.com/\" class=\"spnew_af item item_quick\" target=\"_blank\" onClick=\"return goOtherCR(this,\\'a=nws*f.kephome&r=9&i=881844a9_000000000000000000029581&u=\\'+urlencode(this.href));\">Keep 바로가기</a> </div></div><div class=\"info_group\"> <a href=\"http://www.autodaily.co.kr\" class=\"info press\" target=\"_blank\" onclick=\"return goOtherCR(this, \\'a=nws*f.prof&r=9&i=881844a9_000000000000000000029581&g=5598.0000029581&u=\\'+urlencode(this.href));\"><span class=\"thumb_box\"><img src=\"data:image/gif;base64,R0lGODlhAQABAIAAAAAAAP///yH5BAEAAAAALAAAAAABAAEAAAIBRAA7\" data-lazysrc=\"https://search.pstatic.net/common/?src=https%3A%2F%2Fwww.autodaily.co.kr%2Fimage%2Flogo%2Ffavicon.png&type=f54_54&expire=24&refresh=true\" alt=\"\" width=\"20\" height=\"20\" class=\"thumb\" onError=\"this.src=\\'data:image/gif;base64,R0lGODlhAQABAIAAAAAAAP///yH5BAEAAAAALAAAAAABAAEAAAIBRAA7\\';this.className=\\'thumb bg_default_press\\'\"></span>엠투데이</a><span class=\"info\">30분 전</span> </div></div><a href=\"https://www.autodaily.co.kr/news/articleView.html?idxno=504413\" class=\"news_tit\" target=\"_blank\" onclick=\"return goOtherCR(this, \\'a=nws*f.tit&r=9&i=881844a9_000000000000000000029581&g=5598.0000029581&u=\\'+urlencode(this.href));\" title=\"&quot;테슬라용 배터리 생산라인 점검&quot; 권영수 LG엔솔 부회장, 中 난징 공장 첫 방문\">&quot;테슬라용 배터리 생산라인 점검&quot; 권영수 LG엔솔 부회장, 中 난징 공장 첫 방...</a> <div class=\"news_dsc\"> <div class=\"dsc_wrap\"> <a href=\"https://www.autodaily.co.kr/news/articleView.html?idxno=504413\" class=\"api_txt_lines dsc_txt_wrap\" target=\"_blank\" onclick=\"return goOtherCR(this, \\'a=nws*f.body&r=9&i=881844a9_000000000000000000029581&g=5598.0000029581&u=\\'+urlencode(this.href));\">권 부회장은 난징 공장에서 테슬라에 공급되는 원통형 배터리 생산라인을 둘러보고, <mark>리튬</mark>인산철(LFP) 배터리 생산 라인 전환 상황도 점검할 것으로 알려졌다. LG에너지솔루션은 중국 난징 공장 일부를 <mark>리튬</mark>인산철(LFP)...</a> </div></div></div><a href=\"https://www.autodaily.co.kr/news/articleView.html?idxno=504413\" class=\"dsc_thumb \" target=\"_blank\" onclick=\"return goOtherCR(this, \\'a=nws*f.img&r=9&i=881844a9_000000000000000000029581&g=5598.0000029581&u=\\'+urlencode(this.href));\"><img src=\"data:image/gif;base64,R0lGODlhAQABAIAAAAAAAP///yH5BAEAAAAALAAAAAABAAEAAAIBRAA7\" data-lazysrc=\"https://search.pstatic.net/common/?src=https%3A%2F%2Fimgnews.pstatic.net%2Fimage%2Forigin%2F5598%2F2023%2F03%2F13%2F29581.jpg&type=ofullfill264_180_gray&expire=2&refresh=true\" width=\"132\" height=\"90\" alt=\"&quot;테슬라용 배터리 생산\" class=\"thumb api_get\" onerror=\"this.parentNode.style.display=\\'none\\';\"></a> </div></li> <li class=\"bx\" id=\"sp_nws10\"> <div class=\"news_wrap api_ani_send\"> <div class=\"news_area\"> <div class=\"news_info\"> <div class=\"api_save_group _keep_wrap\"> <a href=\"#\" role=\"button\" class=\"btn_save _keep_trigger\" data-url=\"https://weekly.hankooki.com/news/articleView.html?idxno=7077401\" onclick=\"tCR(\\'a=nws*f.kep&r=10&i=88193db0_000000000000000000009309&u=javascript\\'); return false;\" aria-pressed=\"false\"><i class=\"spnew ico_save\">문서 저장하기</i></a> <div class=\"api_ly_save _keep_save_layer\"> <a href=\"#\" role=\"button\" class=\"spnew_af item item_save _keep_save\" data-cr-on=\"a=nws*f.kepon&r=10&i=88193db0_000000000000000000009309&u=javascript\" data-cr-off=\"a=nws*f.kepoff&r=10&i=88193db0_000000000000000000009309&u=javascript\">Keep에 저장</a> <a href=\"https://keep.naver.com/\" class=\"spnew_af item item_quick\" target=\"_blank\" onClick=\"return goOtherCR(this,\\'a=nws*f.kephome&r=10&i=88193db0_000000000000000000009309&u=\\'+urlencode(this.href));\">Keep 바로가기</a> </div></div><div class=\"info_group\"> <a href=\"http://weekly.hankooki.com\" class=\"info press\" target=\"_blank\" onclick=\"return goOtherCR(this, \\'a=nws*f.prof&r=10&i=88193db0_000000000000000000009309&g=5723.0000009309&u=\\'+urlencode(this.href));\"><span class=\"thumb_box\"><img src=\"data:image/gif;base64,R0lGODlhAQABAIAAAAAAAP///yH5BAEAAAAALAAAAAABAAEAAAIBRAA7\" data-lazysrc=\"https://search.pstatic.net/common/?src=http%3A%2F%2Fimg.hankooki.com%2Ficon%2Fweekly%2Ffavicon.ico&type=f54_54&expire=24&refresh=true\" alt=\"\" width=\"20\" height=\"20\" class=\"thumb\" onError=\"this.src=\\'data:image/gif;base64,R0lGODlhAQABAIAAAAAAAP///yH5BAEAAAAALAAAAAABAAEAAAIBRAA7\\';this.className=\\'thumb bg_default_press\\'\"></span>주간한국</a><span class=\"info\">32분 전</span> </div></div><a href=\"https://weekly.hankooki.com/news/articleView.html?idxno=7077401\" class=\"news_tit\" target=\"_blank\" onclick=\"return goOtherCR(this, \\'a=nws*f.tit&r=10&i=88193db0_000000000000000000009309&g=5723.0000009309&u=\\'+urlencode(this.href));\" title=\"4년 만에 화이트리스트 해제 물꼬... 국산 &#39;소부장&#39; 전선은?\">4년 만에 화이트리스트 해제 물꼬... 국산 \\'소부장\\' 전선은?</a> <div class=\"news_dsc\"> <div class=\"dsc_wrap\"> <a href=\"https://weekly.hankooki.com/news/articleView.html?idxno=7077401\" class=\"api_txt_lines dsc_txt_wrap\" target=\"_blank\" onclick=\"return goOtherCR(this, \\'a=nws*f.body&r=10&i=88193db0_000000000000000000009309&g=5723.0000009309&u=\\'+urlencode(this.href));\">다만 중국산 수입은 <mark>리튬</mark>, 니켈 등 광물 수입 비중이 높아 첨단 소부장 위주인 일본산과 단순 비중을 비교하기는 어렵다. 국내에서는 일본 기업들과의 교류 필요성을 강조하면서도 업종별 협동조합 활성화 등 국내...</a> </div></div></div><a href=\"https://weekly.hankooki.com/news/articleView.html?idxno=7077401\" class=\"dsc_thumb \" target=\"_blank\" onclick=\"return goOtherCR(this, \\'a=nws*f.img&r=10&i=88193db0_000000000000000000009309&g=5723.0000009309&u=\\'+urlencode(this.href));\"><img src=\"data:image/gif;base64,R0lGODlhAQABAIAAAAAAAP///yH5BAEAAAAALAAAAAABAAEAAAIBRAA7\" data-lazysrc=\"https://search.pstatic.net/common/?src=https%3A%2F%2Fimgnews.pstatic.net%2Fimage%2Forigin%2F5723%2F2023%2F03%2F13%2F9309.jpg&type=ff264_180&expire=2&refresh=true\" width=\"132\" height=\"90\" alt=\"4년 만에 화이트리스트\" class=\"thumb api_get\" onerror=\"this.parentNode.style.display=\\'none\\';\"></a> </div></li> </ul> </div><div class=\"banner_area\"> <a href=\"https://help.naver.com/alias/news/news_21.naver\" class=\"banner_nmessage\" target=\"_blank\" onclick=\"return goOtherCR(this, \\'a=nws.noti&u=\\'+urlencode(this.href));\"> <div class=\"info\">뉴스 기사와 댓글로 인한 문제 발생시 <span class=\"txt\">24시간 센터로 접수해주세요.</span><i class=\"spnew api_ico_help\"></i></div> </a> </div></div></section><div class=\"api_sc_page_wrap\"> <div class=\"sc_page\"> <a role=\"button\" class=\"btn_prev\" aria-disabled=\"true\"><i class=\"spnew ico_page_arr\">이전</i></a><div class=\"sc_page_inner\"><a href=\"?where=news&sm=tab_pge&query=%EB%A6%AC%ED%8A%AC&sort=1&photo=0&field=0&pd=0&ds=&de=&mynews=0&office_type=0&office_section_code=0&news_office_checked=&nso=so:dd,p:all,a:all&start=1\" onclick=\"return goOtherCR(this, \\'a=nws.paging&r=1&u=\\'+urlencode(urlexpand(this.href)));\" role=\"button\" class=\"btn\" aria-pressed=\"true\">1</a><a href=\"?where=news&sm=tab_pge&query=%EB%A6%AC%ED%8A%AC&sort=1&photo=0&field=0&pd=0&ds=&de=&mynews=0&office_type=0&office_section_code=0&news_office_checked=&nso=so:dd,p:all,a:all&start=11\" onclick=\"return goOtherCR(this, \\'a=nws.paging&r=2&u=\\'+urlencode(urlexpand(this.href)));\" role=\"button\" class=\"btn\" aria-pressed=\"false\">2</a><a href=\"?where=news&sm=tab_pge&query=%EB%A6%AC%ED%8A%AC&sort=1&photo=0&field=0&pd=0&ds=&de=&mynews=0&office_type=0&office_section_code=0&news_office_checked=&nso=so:dd,p:all,a:all&start=21\" onclick=\"return goOtherCR(this, \\'a=nws.paging&r=3&u=\\'+urlencode(urlexpand(this.href)));\" role=\"button\" class=\"btn\" aria-pressed=\"false\">3</a><a href=\"?where=news&sm=tab_pge&query=%EB%A6%AC%ED%8A%AC&sort=1&photo=0&field=0&pd=0&ds=&de=&mynews=0&office_type=0&office_section_code=0&news_office_checked=&nso=so:dd,p:all,a:all&start=31\" onclick=\"return goOtherCR(this, \\'a=nws.paging&r=4&u=\\'+urlencode(urlexpand(this.href)));\" role=\"button\" class=\"btn\" aria-pressed=\"false\">4</a><a href=\"?where=news&sm=tab_pge&query=%EB%A6%AC%ED%8A%AC&sort=1&photo=0&field=0&pd=0&ds=&de=&mynews=0&office_type=0&office_section_code=0&news_office_checked=&nso=so:dd,p:all,a:all&start=41\" onclick=\"return goOtherCR(this, \\'a=nws.paging&r=5&u=\\'+urlencode(urlexpand(this.href)));\" role=\"button\" class=\"btn\" aria-pressed=\"false\">5</a><a href=\"?where=news&sm=tab_pge&query=%EB%A6%AC%ED%8A%AC&sort=1&photo=0&field=0&pd=0&ds=&de=&mynews=0&office_type=0&office_section_code=0&news_office_checked=&nso=so:dd,p:all,a:all&start=51\" onclick=\"return goOtherCR(this, \\'a=nws.paging&r=6&u=\\'+urlencode(urlexpand(this.href)));\" role=\"button\" class=\"btn\" aria-pressed=\"false\">6</a><a href=\"?where=news&sm=tab_pge&query=%EB%A6%AC%ED%8A%AC&sort=1&photo=0&field=0&pd=0&ds=&de=&mynews=0&office_type=0&office_section_code=0&news_office_checked=&nso=so:dd,p:all,a:all&start=61\" onclick=\"return goOtherCR(this, \\'a=nws.paging&r=7&u=\\'+urlencode(urlexpand(this.href)));\" role=\"button\" class=\"btn\" aria-pressed=\"false\">7</a><a href=\"?where=news&sm=tab_pge&query=%EB%A6%AC%ED%8A%AC&sort=1&photo=0&field=0&pd=0&ds=&de=&mynews=0&office_type=0&office_section_code=0&news_office_checked=&nso=so:dd,p:all,a:all&start=71\" onclick=\"return goOtherCR(this, \\'a=nws.paging&r=8&u=\\'+urlencode(urlexpand(this.href)));\" role=\"button\" class=\"btn\" aria-pressed=\"false\">8</a><a href=\"?where=news&sm=tab_pge&query=%EB%A6%AC%ED%8A%AC&sort=1&photo=0&field=0&pd=0&ds=&de=&mynews=0&office_type=0&office_section_code=0&news_office_checked=&nso=so:dd,p:all,a:all&start=81\" onclick=\"return goOtherCR(this, \\'a=nws.paging&r=9&u=\\'+urlencode(urlexpand(this.href)));\" role=\"button\" class=\"btn\" aria-pressed=\"false\">9</a><a href=\"?where=news&sm=tab_pge&query=%EB%A6%AC%ED%8A%AC&sort=1&photo=0&field=0&pd=0&ds=&de=&mynews=0&office_type=0&office_section_code=0&news_office_checked=&nso=so:dd,p:all,a:all&start=91\" onclick=\"return goOtherCR(this, \\'a=nws.paging&r=10&u=\\'+urlencode(urlexpand(this.href)));\" role=\"button\" class=\"btn\" aria-pressed=\"false\">10</a></div><a href=\"?where=news&sm=tab_pge&query=%EB%A6%AC%ED%8A%AC&sort=1&photo=0&field=0&pd=0&ds=&de=&mynews=0&office_type=0&office_section_code=0&news_office_checked=&nso=so:dd,p:all,a:all&start=11\" role=\"button\" class=\"btn_next\" aria-disabled=\"false\" onclick=\"return goOtherCR(this, \\'a=nws.paging&r=2&u=\\'+urlencode(urlexpand(this.href)));\"><i class=\"spnew ico_page_arr\">다음</i></a> </div></div> </div><div id=\"sub_pack\" class=\"sub_pack\"><section class=\"sc_new sp_nkeyword\" id=\"nx_right_related_keywords\"> <div class=\"api_subject_bx _related_box\"> <div class=\"api_title_area\"> <h2 class=\"api_title\">연관 검색어<a href=\"https://help.naver.com/alias/search/word/word_1.naver\" class=\"api_link_help\" onclick=\"return goOtherCR(this, \\'a=rsk_top.guide&amp;r=&amp;i=&amp;u=\\'+urlencode(urlexpand(this.href)));\" target=\"_blank\"><i class=\"spnew api_ico_help\">도움말</i></a></h2> <div class=\"api_title_sub\"> <a href=\"https://help.naver.com/support/alias/search/word/word_2.naver\" class=\"btn_report\" onclick=\"return goOtherCR(this, \\'a=rsk_top.report&amp;r=&amp;i=&amp;u=\\'+urlencode(urlexpand(this.href)));\" target=\"_blank\"><span class=\"txt\">신고</span></a><a href=\"#\" onclick=\"return tCR(\\'a=rsk_top.1fold&amp;r=1&amp;i=\\');\" class=\"btn_close _close\"><i class=\"spnew api_ico_close4\">검색어제안 기능 닫기</i></a> </div> </div> <div class=\"related_srch\"> <ul class=\"lst_related_srch _list_box\"> <li class=\"item\"> <a class=\"keyword\" href=\"?where=news&amp;query=%EB%A6%AC%ED%8A%AC+%EB%B0%B0%ED%84%B0%EB%A6%AC&amp;ie=utf8&amp;sm=tab_she&amp;qdt=0\" onclick=\"return goOtherCR(this, \\'a=rsk_top*q.list1&amp;r=1&amp;u=\\' + urlencode(this.href))\"> <div class=\"tit\">리튬 배터리</div> </a> </li> <li class=\"item\"> <a class=\"keyword\" href=\"?where=news&amp;query=%EB%A6%AC%ED%8A%AC+%EA%B0%80%EA%B2%A9&amp;ie=utf8&amp;sm=tab_she&amp;qdt=0\" onclick=\"return goOtherCR(this, \\'a=rsk_top*q.list1&amp;r=2&amp;u=\\' + urlencode(this.href))\"> <div class=\"tit\">리튬 가격</div> </a> </li> <li class=\"item\"> <a class=\"keyword\" href=\"?where=news&amp;query=%ED%8F%AC%EC%8A%A4%EC%BD%94+%EB%A6%AC%ED%8A%AC+%EA%B4%80%EB%A0%A8%EC%A3%BC&amp;ie=utf8&amp;sm=tab_she&amp;qdt=0\" onclick=\"return goOtherCR(this, \\'a=rsk_top*q.list1&amp;r=3&amp;u=\\' + urlencode(this.href))\"> <div class=\"tit\">포스코 리튬 관련주</div> </a> </li> <li class=\"item\"> <a class=\"keyword\" href=\"?where=news&amp;query=%EB%A6%AC%ED%8A%AC+%EC%95%BD&amp;ie=utf8&amp;sm=tab_she&amp;qdt=0\" onclick=\"return goOtherCR(this, \\'a=rsk_top*q.list1&amp;r=4&amp;u=\\' + urlencode(this.href))\"> <div class=\"tit\">리튬 약</div> </a> </li> <li class=\"item\"> <a class=\"keyword\" href=\"?where=news&amp;query=%EC%95%84%EB%A5%B4%ED%97%A8%ED%8B%B0%EB%82%98+%EB%A6%AC%ED%8A%AC&amp;ie=utf8&amp;sm=tab_she&amp;qdt=0\" onclick=\"return goOtherCR(this, \\'a=rsk_top*q.list1&amp;r=5&amp;u=\\' + urlencode(this.href))\"> <div class=\"tit\">아르헨티나 리튬</div> </a> </li> <li class=\"item\"> <a class=\"keyword\" href=\"?where=news&amp;query=%EB%A6%AC%ED%8A%AC+%EB%A7%A4%EC%9E%A5%EB%9F%89&amp;ie=utf8&amp;sm=tab_she&amp;qdt=0\" onclick=\"return goOtherCR(this, \\'a=rsk_top*q.list1&amp;r=6&amp;u=\\' + urlencode(this.href))\"> <div class=\"tit\">리튬 매장량</div> </a> </li> <li class=\"item\"> <a class=\"keyword\" href=\"?where=news&amp;query=%EB%A6%AC%ED%8A%AC+%EA%B4%91%EC%82%B0+%EA%B4%80%EB%A0%A8%EC%A3%BC&amp;ie=utf8&amp;sm=tab_she&amp;qdt=0\" onclick=\"return goOtherCR(this, \\'a=rsk_top*q.list1&amp;r=7&amp;u=\\' + urlencode(this.href))\"> <div class=\"tit\">리튬 광산 관련주</div> </a> </li> <li class=\"item\"> <a class=\"keyword\" href=\"?where=news&amp;query=%EC%A4%91%EA%B5%AD+%EB%A6%AC%ED%8A%AC&amp;ie=utf8&amp;sm=tab_she&amp;qdt=0\" onclick=\"return goOtherCR(this, \\'a=rsk_top*q.list1&amp;r=8&amp;u=\\' + urlencode(this.href))\"> <div class=\"tit\">중국 리튬</div> </a> </li> <li class=\"item\"> <a class=\"keyword\" href=\"?where=news&amp;query=%EC%B9%A0%EB%A0%88+%EB%A6%AC%ED%8A%AC&amp;ie=utf8&amp;sm=tab_she&amp;qdt=0\" onclick=\"return goOtherCR(this, \\'a=rsk_top*q.list1&amp;r=9&amp;u=\\' + urlencode(this.href))\"> <div class=\"tit\">칠레 리튬</div> </a> </li> <li class=\"item\"> <a class=\"keyword\" href=\"?where=news&amp;query=%EB%AF%B8%EA%B5%AD+%EB%A6%AC%ED%8A%AC&amp;ie=utf8&amp;sm=tab_she&amp;qdt=0\" onclick=\"return goOtherCR(this, \\'a=rsk_top*q.list1&amp;r=10&amp;u=\\' + urlencode(this.href))\"> <div class=\"tit\">미국 리튬</div> </a> </li> </ul> <div class=\"btn_area\"> <a href=\"#\" role=\"button\" class=\"btn_more _more\" style=\"display:none\" onclick=\"return tCR(\\'a=rsk_top.open\\');\"><i class=\"spnew api_ico_open\">더보기</i></a> </div> <div class=\"closed\">1주일간 닫힘 상태가 유지됩니다. 다시 보시겠습니까?<a href=\"#\" onclick=\"return tCR(\\'a=rsk_top.1unfold&amp;r=1&amp;i=\\');\" class=\"btn_open _open\">열기</a></div> </div> </div> </section> <script> (function() { var startApplication = function() { var jsFile = \"https://ssl.pstatic.net/sstatic/au/pc/related_keyword/Controller_210623.js\"; var require = window.require.config({ \"context\": \"_au_related_keyword\", \"paths\": { /* Controller.js의 경로 지정. */ \"Controller\": jsFile.replace(/\\\\.js$/, \"\"), } }); /* module define은 require의 context별로 호출해야함. */ define(\"jquery\", [], function() { return jQuery; }); require([\"Controller\"], function(Controller) { var ck = \"qre\"; new Controller(jQuery(\"#nx_right_related_keywords\"), { /* 초기 닫힘 상태 설정 */ isClosed: !!nx_get_cookie(ck) }) /* 열기 이벤트 */ .on(\"open\", function(e){ /* 쿠키 제거 */ nx_set_cookie(ck, \"\", -1, nx_au_cookie_domain); }) /* 닫기 이벤트 */ .on(\"close\", function(e){ var date = new Date(); date.setDate(date.getDate() + 7); /* 쿠키 저장 */ nx_set_cookie(ck, 1, date, nx_au_cookie_domain); }) }); }; var requirejs = naver.common.gv.REQUIRE_JS; naver.common.load_js(window.require ? null : requirejs, startApplication, true, 50); })(); </script> <section class=\"sc_new\"> <div class=\"api_subject_bx\"> <div class=\"api_common_banner\"> <a href=\"https://m.news.naver.com/covid19/index.nhn\" class=\"spnew_bf item\" target=\"_blank\" onclick=\"return goOtherCR(this, \\'a=bnr.link1&r=1&i=&u=\\'+urlencode(this.href));\"> <div class=\"ico_area\"><img src=\"https://ssl.pstatic.net/sstatic/search/mobile/img/ico_common_ban1_40ceb762.png\" width=\"29\" height=\"29\" alt=\"\" class=\"ico\"></div> <div class=\"dsc_area\"> <strong class=\"elss tit\">코로나19 현황</strong> <p class=\"elss dsc\">확진 현황 및 백신 접종 정보 안내</p> </div> </a> <a href=\"?query=%EC%8B%A0%EC%86%8D%ED%95%AD%EC%9B%90%EA%B2%80%EC%82%AC%EA%B8%B0%EA%B4%80&sm=tab_etc&where=nexearch\" class=\"spnew_bf item\" onclick=\"return goOtherCR(this, \\'a=bnr.link2&r=2&i=&u=\\'+urlencode(this.href));\"> <div class=\"ico_area\"><img src=\"https://ssl.pstatic.net/sstatic/search/mobile/img/ico_common_ban2_cdf26fbe.png\" width=\"29\" height=\"29\" alt=\"\" class=\"ico\"></div> <div class=\"dsc_area\"> <strong class=\"elss tit\">신속항원검사</strong> <p class=\"elss dsc\">내 주변에서 신속하게 검사 받기</p> </div> </a> </div> </div> <div class=\"api_subject_bx\" style=\"margin-top: 20px;\"> <div class=\"api_common_banner\"> <a href=\"?mra=UlJUX1RJTQ%3D%3D&query=%EA%B5%AD%EB%82%B4%EC%97%AC%ED%96%89%EC%A7%80%EC%B6%94%EC%B2%9C&sm=tab_etc&where=nexearch\" class=\"spnew_bf item\" onclick=\"return goOtherCR(this, \\'a=bnr.link3&r=3&i=&u=\\'+urlencode(this.href));\"> <div class=\"ico_area\"><img src=\"https://ssl.pstatic.net/sstatic/search/mobile/img/ico_common_ban3_70e31626.png\" width=\"29\" height=\"29\" alt=\"\" class=\"ico\"></div> <div class=\"dsc_area\"> <strong class=\"elss tit\">당장 떠나고 싶다면, 국내 여행부터!</strong> <p class=\"elss dsc\">지금 가장 핫한 국내 여행지로 떠나보세요</p> </div> </a> <a href=\"?mra=UlJUX1RJTQ%3D%3D&query=%EC%97%AC%ED%96%89%EA%B0%80%EB%8A%A5%EA%B5%AD%EA%B0%80&sm=tab_etc&where=nexearch\" class=\"spnew_bf item\" onclick=\"return goOtherCR(this, \\'a=bnr.link4&r=4&i=&u=\\'+urlencode(this.href));\"> <div class=\"ico_area\"><img src=\"https://ssl.pstatic.net/sstatic/search/mobile/img/ico_common_ban4_b8f1dad2.png\" width=\"29\" height=\"29\" alt=\"\" class=\"ico\"></div> <div class=\"dsc_area\"> <strong class=\"elss tit\">2023년 첫 해외여행 어디로?</strong> <p class=\"elss dsc\">지금 가장 인기있는 해외 여행지 알아보기</p> </div> </a> <a href=\"https://campaign.naver.com/collect_v2/?pcode=pcsearchmktbanner_issue5_service&event_id=channelsearch&target=https%3A%2F%2Fchannelsearch.naver.com%2Fservice%2Fissue05_2%2F\" class=\"spnew_bf item\" target=\"_blank\" onclick=\"return goOtherCR(this, \\'a=bnr.link5&r=5&i=&u=\\'+urlencode(this.href));\"> <div class=\"ico_area\"><img src=\"https://ssl.pstatic.net/sstatic/search/mobile/img/ico_common_ban5_b94af7b8.png\" width=\"29\" height=\"29\" alt=\"\" class=\"ico\"></div> <div class=\"dsc_area\"> <strong class=\"elss tit\">너와 나의 검색 결과가 다른 이유</strong> <p class=\"elss dsc\">네이버 스마트블록 이야기</p> </div> </a> <a href=\"https://campaign.naver.com/collect_v2/?pcode=naver_pcserp&event_id=naverlogistics&target=https%3A%2F%2Fshopping.naver.com%2Flogistics%2Fhome%3Fdtm_source%3Dnaver_pcserp%26dtm_medium%3Dsearch%26dtm_campaign%3Dnaverlogistics\" class=\"spnew_bf item\" target=\"_blank\" onclick=\"return goOtherCR(this, \\'a=bnr.link6&r=6&i=&u=\\'+urlencode(this.href));\"> <div class=\"ico_area\"><img src=\"https://ssl.pstatic.net/sstatic/search/mobile/img/ico_common_ban6_4e63f4fc.png\" width=\"29\" height=\"29\" alt=\"\" class=\"ico\"></div> <div class=\"dsc_area\"> <strong class=\"elss tit\">네이버도착보장</strong> <p class=\"elss dsc\">약속한 날에 착! 정확하게 도착해요</p> </div> </a> </div> </div> </section> <script type=\"text/javascript\"> var nx_cr_right_area_info = [{\"n\": \"rsk_top\", \"r\": 1},{\"n\": \"bnr\", \"r\": 2}]; </script></div><div class=\"ly_dimmed\"></div> </div> </div><div id=\"footer\"> <div class=\"sub_pack_btm\"> <a href=\"#\" class=\"top\" onclick=\"window.scrollTo(0,0); document.querySelector(\\'#wrap a\\').focus(); return false;\"><i class=\"spnew ico_top\">맨위로</i></a> </div> <div class=\"footer_group\"> <div class=\"footer_menu\"> <span class=\"inner\"><a href=\"https://www.naver.com/more.html\" target=\"_blank\" onclick=\"return goOtherCR(this, \\'u=\\'+urlencode(this.href)+\\'&amp;a=fot.sitemap&amp;r=&amp;i=\\');\" class=\"link\">전체서비스</a></span> <span class=\"inner\"><a href=\"https://policy.naver.com/policy/service.html\" target=\"_blank\" onclick=\"return goOtherCR(this, \\'u=\\'+urlencode(this.href)+\\'&amp;a=fot.policy&amp;r=&amp;i=\\');\" class=\"link\">이용약관</a></span> <span class=\"inner\"><a href=\"https://policy.naver.com/policy/privacy.html\" target=\"_blank\" onclick=\"return goOtherCR(this, \\'u=\\'+urlencode(this.href)+\\'&amp;a=fot.privacy&amp;r=&amp;i=\\');\" class=\"link\"><strong>개인정보처리방침</strong></a></span> <span class=\"inner\"><a class=\"link\" href=\"https://help.naver.com/support/alias/search/integration/integration_1.naver\" target=\"_blank\" onclick=\"return goOtherCR(this, \\'u=\\'+urlencode(this.href)+\\'&amp;a=fot.help&amp;r=&amp;i=\\');\">통합검색 고객센터</a></span> <span class=\"inner\"><a href=\"https://www.navercorp.com/\" target=\"_blank\" onclick=\"return goOtherCR(this, \\'u=\\'+urlencode(this.href)+\\'&amp;a=fot.nhn&amp;r=&amp;i=\\');\" class=\"link\"><i class=\"ico_footer_logo\">© NAVER Corp.</i></a></span> </div> </div>  </div> <script type=\"text/javascript\"> /* [PR] 서비스에서 사용하는 클릭로그함수 설정 */ window.__atcmpCR = function(we, el, name, order, areaCode, rank) { var htAreaCode = __ghtAutoCompleteConfig[\"htAreaCode\"]; if (typeof htAreaCode[name] !== \"undefined\") { var areaCode = htAreaCode[name][0]; var rank = htAreaCode[name][1]; if (areaCode !== \"\") { tCR(\"a=\"+areaCode+\"&u=\"+urlencode(el.href)); /* clickcr(el, areaCode, rank, \\'\\', we); */ /* console.log(areaCode + rank); */ } } return false; }; /* [PR] 서비스별로 form submit 전에 처리해야하는 내용은 이곳에 작성해주세요. */ window.__atcmpSubmitBefore = function(elForm) { try { top.nx_form_submit(elForm); } catch (e) { try { nx_form_submit(elForm); } catch (e) {} } }; /* [PR] 각 서비스별 옵션 : 로그인여부는 pr에서 정의필요합니다. */ window.__ghtAutoCompleteConfig = { /* 자동완성 설정 (Top&Bottom) */ \"bLogin\" : false, /* 로그인 여부 */ \"sFromWhere\" : \"nx\", /* 검색 출처 (폼전송시 함께 전송) */ \"htApiUrl\" : { /* 자동완성 API 정보 */ \"sMyKeyword\" : \\'https://s.search.naver.com/n/mykeyword/search\\', \"sAcKeyword\" : \"//ac.search.naver.com/nx/ac\", \"sAcAnsType\" : \"2\" /* 1 : 기존정답형만 lookup (탭검인 경우 1로 설정) */ }, \"ahtOption\": [ { \"sOrder\": \"asc\", /* 정렬방식 (asc/desc) */ \"sFormId\": \"nx_search_form\", /* 폼엘리먼트 ID */ \"sInputId\": \"nx_query\", /* 입력창 엘리먼트 ID */ \"sViewId\": \"nx_autoframe_top\", /* 자동완성 레이어 ID */ \"sViewToggleButtonId\": \"nautocomplete\" /* 레이어토글 버튼 ID */ } ], /* 서비스별 클릭영역코드 매핑정보 (sch.xxx: 검색창영역, sug.xxx: 자동완성 영역, sly.xxx: 최근 검색어 영역)*/ \"htAreaCode\": { \"expand\": [\\'sch.expand\\', \\'0\\'], /* 우측 역삼각형 펼침 */ \"close\": [\\'sch.close\\', \\'0\\'], /* 우측 역삼각형 접힘 */ \"ansdirect\": [\\'sug.ansdirect\\', \\'\\'], /* 정답형 바로가기 (엔터/클릭) */ \"sugoff\": [\\'sug.sugoff\\', \\'\\'], /* 자동완성 끄기 클릭 */ \"sugon\": [\\'sug.sugon\\', \\'\\'], /* 자동완성 켜기 클릭 */ \"plus.use\": [\\'sug.cxon\\', \\'\\'], /* 자동완성 플러스 사용 */ \"plus.unuse\": [\\'sug.cxoff\\', \\'\\'], /* 자동완성 플러스 사용안함 */ \"saveoff\": [\\'sug.saveoff\\', \\'\\'], /* 검색어저장 끄기 클릭 */ \"saveon\": [\\'sug.saveon\\', \\'\\'], /* 검색어저장 켜기 클릭 */ \"rx\": [\\'sly.rx\\', \\'\\'], /* 최근검색어 개별삭제 클릭 */ \"ralldel\": [\\'sly.ralldel\\', \\'\\'], /* 최근검색어 전체삭제 클릭 */ \"kwd.expand\": [\\'sug.plus\\', \\'\\'] /* ↖︎ 버튼 클릭 */ }, /* 서비스별 SM파라미터 매핑정보 * sm파라미터 추가시 https://oss.navercorp.com/sau-pc/naver_autocomplete/issues/19 확인 필요 */ \"htSmParam\" : { \"hty\" : \\'tab_hty.top\\', /* sm 파라미터 초기값 */ \"htyb\" : \\'tab_hty.btm\\', /* sm 파라미터 초기값(검색창 하단) */ \"hst\" : \\'tab_sly.hst\\', /* 최근검색키워드 */ \"prefix\" : \\'tab_sug\\', /* sm 파라미터 서비스별 prefix */ \"top\" : \\'tab_sug.top\\', /* 자동완성키워드 */ \"btm\" : \\'tab_sug.btm\\', /* 자동완성키워드 (역순) */ \"pat\" : \\'tab_sug.pat\\', /* 자동완성키워드 (부분자동완성) */ \"mbk\" : \\'tab_sug.mbk\\', /* 자동완성키워드 (오타교정자동완성) */ \"nlq\" : \\'tab_sug.nlq\\', /* 자연어검색 */ \"asgl\" : \\'tab_sug.asgl\\', /* 1국가번호 (한국 국가번호) */ \"asga\" : \\'tab_sug.asga\\', /* 1국가번호 다른중복지역 */ \"aslt\" : \\'tab_sug.aslt\\', /* 3로또당첨번호 */ \"aspl\" : \\'tab_sug.aspl\\', /* 6연금복권당첨번호 */ \"astm\" : \\'tab_sug.astm\\', /* 7영업시간 (신한은행 영업시간) */ \"ast\" : \\'tab_sug.ast\\', /* 8전화번호 (국세청 전화번호) */ \"ase\" : \\'tab_sug.ase\\', /* 9환율 (엔화환율) */ \"aswt\" : \\'tab_sug.aswt\\', /* 10해외날씨 (일본날씨) */ \"asiw\" : \"tab_sug.asiw\", /* 11국내날씨 (서울날씨) */ \"asis\" : \\'tab_sug.asis\\', /* 12올림픽순위 */ \"extension\" : \\'tab_sug.search\\', /* 검색기반 자동완성 */ \"asct\" : \"tab_sug.asct\" /* 문맥검색키워드 */ } }; </script> <script type=\"text/javascript\"> /* 자동완성 객체 생성 (Top) */ new naver.common.atcmp.naver_web.Controller(__ghtAutoCompleteConfig).attach({ \"onOpen\": function(){ jQuery(\"#header_wrap .search_area\").addClass(\"type_write\"); }, \"onClose\": function(){ jQuery(\"#header_wrap .search_area\").removeClass(\"type_write\"); }, \"onSelect\": function(oCustomEvent) { __atcmpSubmitBefore(oCustomEvent.elForm); }, \"onClickLog\": function(oCustomEvent) { __atcmpCR(oCustomEvent.event, oCustomEvent.element, oCustomEvent.name, oCustomEvent.order, \"\", \"\"); } }); </script> <script> (function () { var startApplication = function () { var url = \"https://s.search.naver.com/n/responsive/v1?u=\" + encodeURIComponent(location.href) + \"&q=\" + window.headerfooter_query_encoded + \"&p=\" + encodeURIComponent(window.g_puid) + \"&sscode=\" + encodeURIComponent(window.g_ssc); naver.common.responsiveLog = new window.naver.common.ResponsiveLog(); naver.common.responsiveLog.init(url); }; startApplication(); })(); </script> <script> (function() { var startApplication = function () { var jsFile = \"https://ssl.pstatic.net/sstatic/fe/sfe/keep/Controller_230209.js\"; var require = window.require.config({ \"context\": \"search_common_module\", \"paths\": { \"Keep\": jsFile.replace(/\\\\.js$/, \"\") } }); define(\"jquery\", [], function () { return jQuery; }); require([\"Keep\"], function (Controller) { var oSearchKeep = new Controller({ \"api\": { \"token\": \"https://apis.naver.com/naverSearchFe/naver_keep/naver_keep\", \"check\": \"https://apis.naver.com/naverSearchFe/naver_keep/v1_web_keep_check?type=bookmark&key={=url}\", \"create\": \"https://apis.naver.com/naverSearchFe/naver_keep/v1_web_bookmark_create\", \"delete\": \"https://apis.naver.com/naverSearchFe/naver_keep/v1_web_keep_delete\" }, \"fanApi\": { \"check\": \"https://gw.in.naver.com/delivery/api/v1/subscribes?spaceIds={=spaceIds}\", \"subscribe\": \"https://gw.in.naver.com/home/api/v4/spaces/{=spaceId}/subscribes\", \"unsubscribe\": \"https://gw.in.naver.com/home/api/v4/spaces/{=spaceId}/unsubscribes\" }, \"captchaApi\": { \"image\": \"https://captcha.nid.naver.com/nhncaptchav4.gif?key={=key}\", \"voice\": \"https://soundcaptcha.nid.naver.com/soundCaptcha.wav?key={=key}\", \"token\": \"https://gw.in.naver.com/identity-access/api/v1/captcha?type={=type}\", \"refresh\": \"https://gw.in.naver.com/identity-access/api/v1/refresh-captcha?key={=key}&type={=type}\", \"check\": \"https://gw.in.naver.com/identity-access/api/v1/captcha\" }, \"loginUrl\": \"https://nid.naver.com/nidlogin.login?url={=location}\" }); oSearchKeep.on({ \"create\": function (we) { var crLog = we.data(\"cr-on\"); if (crLog) tCR(crLog); }, \"delete\": function (we) { var crLog = we.data(\"cr-off\"); if (crLog) tCR(crLog); }, \"showLayer\": function (we) { var crLog = we.data(\"cr-on\"); if (crLog) tCR(crLog); }, \"hideLayer\": function (we) { var crLog = we.data(\"cr-off\"); if (crLog) tCR(crLog); }, \"fan.subscribe\": function (we) { var crLog = we.data(\"cr-on\"); if (crLog) tCR(crLog); }, \"fan.unsubscribe\": function (we) { var crLog = we.data(\"cr-off\"); if (crLog) tCR(crLog); } }); window.naver.common.gv.searchKeep = oSearchKeep; }); }; naver.common.load_js(window.require ? null : naver.common.gv.REQUIRE_JS, startApplication, true, 150); })(); </script> <script> (function() { var jsFileURL = \"https://ssl.pstatic.net/sstatic/fe/sfe/search_video_player2/PcVideoPlayer2_220727.js\"; var jsLoadCallback = function() { var require = window.require.config({ \"context\": \"search_common_modules\", \"paths\": { \"VideoPlayer2\": jsFileURL.replace(/\\\\.js$/, \"\") } }); require([\"VideoPlayer2\"], function() { naver.common.VideoPlayer2.AD_SDK_JS = \"https://ssl.pstatic.net/tveta/libs/ssp-video/prod/ssp.web.sdk_2.3.0.js\"; }); }; var requirejs = naver.common.gv.REQUIRE_JS; naver.common.load_js(window.require ? null : requirejs, jsLoadCallback, true, 50); })(); </script> <script> (function() { var requirejs = naver.common.gv.REQUIRE_JS; var jsFileURL = \"https://ssl.pstatic.net/sstatic/fe/sfe/search_audio_player2/AudioPlayer2_230201.js\"; var jsLoadCallback = function() { var require = window.require.config({ \"context\": \"search_common_modules\", \"paths\": { \"AudioPlayer2\": jsFileURL.replace(/\\\\.js$/, \"\") } }); require([\"AudioPlayer2\"], function() { naver.common.AudioPlayer2.WEB_PLAYER_JS = \"https://static-audiop.pstatic.net/audiocloud-webplayercore/1.1.7.0/js/audiocloud_webplayer_core.js\"; }); }; naver.common.load_js(window.require ? null : requirejs, jsLoadCallback, true, 50); })(); </script> <script> (function() { var jsControllerUrl = \"https://ssl.pstatic.net/sstatic/fe/sfe/responsiveBlock/pc/Controller_221103.js\"; var startApplication = function() { var require = window.require.config({ \"context\": \"search_common_modules\", \"paths\": { \"ResponsiveBlock\": jsControllerUrl.replace(/\\\\.js$/, \"\") } }); define(\"jquery\", [], function() { return jQuery; }); require([\"ResponsiveBlock\"], function(ResponsiveBlock) { new ResponsiveBlock(); }); }; naver.common.load_js(null, startApplication, true, 50); })(); </script> </div> <script type=\"text/javascript\"> (function() { var needFix = navigator.userAgent.toLowerCase().indexOf(\\'webkit\\') > -1; d = document; if (!needFix || !d.querySelectorAll) return; var toArray = function(list){ var armap=[]; i=0; for(;i<list.length;++i){ armap.push(list[i]); } return Array.prototype.slice.call(armap, 0); } ; window.addEventListener(\\'load\\', function() { toArray(d.querySelectorAll(\\'#u_skip a\\')).forEach(function(el) { el.addEventListener(\\'click\\', function() { var target = d.getElementById(this.href.split(\\'#\\')[1]); oldTabIndex = target.getAttribute(\\'tabindex\\'); oldOutlineWidth = d.defaultView.getComputedStyle(target, null).getPropertyValue(\\'outline-width\\'); target.setAttribute(\\'tabindex\\', 0); target.style.outlineWidth = 0; target.focus(); if (oldTabIndex === null) target.removeAttribute(\\'tabindex\\'); else target.setAttribute(\\'tabindex\\', oldTabIndex); }, false); }); }, false); })(); </script><script type=\"text/javascript\"> if(typeof nx_usain_beacon !== \\'undefined\\') { nx_usain_beacon.add_tag(\"conn_._TLSv1.3_.:alpn.http/1.1\") ; $Fn(function () { nx_usain_beacon.send(); }).attach(window, \"load\") ; } </script></body> </html>'"
            ],
            "application/vnd.google.colaboratory.intrinsic+json": {
              "type": "string"
            }
          },
          "metadata": {},
          "execution_count": 68
        }
      ]
    },
    {
      "cell_type": "code",
      "source": [
        "from bs4 import BeautifulSoup # 텍스트 -> HTML 파싱(분석)"
      ],
      "metadata": {
        "id": "vMjcowuBh3kA"
      },
      "execution_count": null,
      "outputs": []
    },
    {
      "cell_type": "code",
      "source": [
        "soup = BeautifulSoup(response.text)\n",
        "soup"
      ],
      "metadata": {
        "id": "sCIbFHSciAL5"
      },
      "execution_count": null,
      "outputs": []
    },
    {
      "cell_type": "code",
      "source": [
        "title_tags = soup.select(\"div > div > a.news_tit\")\n",
        "title_tags"
      ],
      "metadata": {
        "colab": {
          "base_uri": "https://localhost:8080/"
        },
        "id": "kXSq2tZmiDYY",
        "outputId": "ff702dc4-e069-4244-d6c1-53d47750d4ad"
      },
      "execution_count": null,
      "outputs": [
        {
          "output_type": "execute_result",
          "data": {
            "text/plain": [
              "[<a class=\"news_tit\" href=\"https://zdnet.co.kr/view/?no=20230313092957\" onclick=\"return goOtherCR(this, 'a=nws*e.tit&amp;r=1&amp;i=8800011E_000000000000000002285218&amp;g=092.0002285218&amp;u='+urlencode(this.href));\" target=\"_blank\" title=\"권영수 LG엔솔 부회장, 中 공장 첫 출장\">권영수 LG엔솔 부회장, 中 공장 첫 출장</a>,\n",
              " <a class=\"news_tit\" href=\"https://it.chosun.com/site/data/html_dir/2023/03/13/2023031300708.html\" onclick=\"return goOtherCR(this, 'a=nws*f.tit&amp;r=2&amp;i=88135207_000000000000000000174402&amp;g=5242.0000174402&amp;u='+urlencode(this.href));\" target=\"_blank\" title=\"권영수 LG엔솔 부회장, 테슬라 공급 배터리 점검차 中 출장\">권영수 LG엔솔 부회장, 테슬라 공급 배터리 점검차 中 출장</a>,\n",
              " <a class=\"news_tit\" href=\"http://www.snmnews.com/news/articleView.html?idxno=513818\" onclick=\"return goOtherCR(this, 'a=nws*f.tit&amp;r=3&amp;i=88155e79_000000000000000000056060&amp;g=5343.0000056060&amp;u='+urlencode(this.href));\" target=\"_blank\" title=\"美·EU 핵심광물 확보 위해 '구매자 클럽' 결성 추진\">美·EU 핵심광물 확보 위해 '구매자 클럽' 결성 추진</a>,\n",
              " <a class=\"news_tit\" href=\"http://www.nspna.com/news/?mode=view&amp;newsid=625010\" onclick=\"return goOtherCR(this, 'a=nws*f.tit&amp;r=4&amp;i=880003F1_000000000000000000597263&amp;g=5025.0000597263&amp;u='+urlencode(this.href));\" target=\"_blank\" title=\"케이피에스, 세기리텍 인수 폐배터리 리사이클링 산업 본격 진출…4월부터 실적반영\">케이피에스, 세기리텍 인수 폐배터리 리사이클링 산업 본격 진출…4월부터 실...</a>,\n",
              " <a class=\"news_tit\" href=\"http://www.seoulwire.com/news/articleView.html?idxno=496212\" onclick=\"return goOtherCR(this, 'a=nws*f.tit&amp;r=5&amp;i=8817ca73_000000000000000000324869&amp;g=5526.0000324869&amp;u='+urlencode(this.href));\" target=\"_blank\" title=\"권영수 LG엔솔 부회장, '배터리 전쟁' 상대 중국 출장...세계 1위 공략\">권영수 LG엔솔 부회장, '배터리 전쟁' 상대 중국 출장...세계 1위 공략</a>,\n",
              " <a class=\"news_tit\" href=\"http://news.heraldcorp.com/view.php?ud=20230313000120\" onclick=\"return goOtherCR(this, 'a=nws*e.tit&amp;r=6&amp;i=8800010E_000000000000000002115341&amp;g=016.0002115341&amp;u='+urlencode(this.href));\" target=\"_blank\" title=\"[르포] “데이터센터 이중화 철저” 삼성SDS, 클라우드 핵심기지 첫 공개\">[르포] “데이터센터 이중화 철저” 삼성SDS, 클라우드 핵심기지 첫 공개</a>,\n",
              " <a class=\"news_tit\" href=\"http://www.g-enews.com/ko-kr/news/article/news_all/2023031300210639817bdb7041ec_1/article.html\" onclick=\"return goOtherCR(this, 'a=nws*f.tit&amp;r=7&amp;i=88155e63_000000000000000000552846&amp;g=5366.0000552846&amp;u='+urlencode(this.href));\" target=\"_blank\" title=\"권영수 LG엔솔 부회장, 中 출장길 올라…LFP 배터리 생산라인 점검\">권영수 LG엔솔 부회장, 中 출장길 올라…LFP 배터리 생산라인 점검</a>,\n",
              " <a class=\"news_tit\" href=\"http://www.shinailbo.co.kr/news/articleView.html?idxno=1672926\" onclick=\"return goOtherCR(this, 'a=nws*f.tit&amp;r=8&amp;i=88155e65_000000000000000000724400&amp;g=5364.0000724400&amp;u='+urlencode(this.href));\" target=\"_blank\" title=\"LG엔솔 권영수, 취임 후 첫 중국 출장…생산라인 점검\">LG엔솔 권영수, 취임 후 첫 중국 출장…생산라인 점검</a>,\n",
              " <a class=\"news_tit\" href=\"https://www.autodaily.co.kr/news/articleView.html?idxno=504413\" onclick=\"return goOtherCR(this, 'a=nws*f.tit&amp;r=9&amp;i=881844a9_000000000000000000029581&amp;g=5598.0000029581&amp;u='+urlencode(this.href));\" target=\"_blank\" title='\"테슬라용 배터리 생산라인 점검\" 권영수 LG엔솔 부회장, 中 난징 공장 첫 방문'>\"테슬라용 배터리 생산라인 점검\" 권영수 LG엔솔 부회장, 中 난징 공장 첫 방...</a>,\n",
              " <a class=\"news_tit\" href=\"https://weekly.hankooki.com/news/articleView.html?idxno=7077401\" onclick=\"return goOtherCR(this, 'a=nws*f.tit&amp;r=10&amp;i=88193db0_000000000000000000009309&amp;g=5723.0000009309&amp;u='+urlencode(this.href));\" target=\"_blank\" title=\"4년 만에 화이트리스트 해제 물꼬... 국산 '소부장' 전선은?\">4년 만에 화이트리스트 해제 물꼬... 국산 '소부장' 전선은?</a>]"
            ]
          },
          "metadata": {},
          "execution_count": 81
        }
      ]
    },
    {
      "cell_type": "code",
      "source": [
        "title_tags[0]['title']"
      ],
      "metadata": {
        "colab": {
          "base_uri": "https://localhost:8080/",
          "height": 35
        },
        "id": "wI7zIiqdi23G",
        "outputId": "4f3b8fa6-914d-44ef-cd3a-4918ae247840"
      },
      "execution_count": null,
      "outputs": [
        {
          "output_type": "execute_result",
          "data": {
            "text/plain": [
              "'권영수 LG엔솔 부회장, 中 공장 첫 출장'"
            ],
            "application/vnd.google.colaboratory.intrinsic+json": {
              "type": "string"
            }
          },
          "metadata": {},
          "execution_count": 84
        }
      ]
    },
    {
      "cell_type": "code",
      "source": [
        "title_tags[0]['href']"
      ],
      "metadata": {
        "colab": {
          "base_uri": "https://localhost:8080/",
          "height": 35
        },
        "id": "9S583uEHjDvI",
        "outputId": "fd7e2b63-50a9-4b68-f11f-bc857a3d95d2"
      },
      "execution_count": null,
      "outputs": [
        {
          "output_type": "execute_result",
          "data": {
            "text/plain": [
              "'https://zdnet.co.kr/view/?no=20230313092957'"
            ],
            "application/vnd.google.colaboratory.intrinsic+json": {
              "type": "string"
            }
          },
          "metadata": {},
          "execution_count": 85
        }
      ]
    },
    {
      "cell_type": "code",
      "source": [
        "data = [(t['title'], t['href']) for t in title_tags]\n",
        "data"
      ],
      "metadata": {
        "colab": {
          "base_uri": "https://localhost:8080/"
        },
        "id": "kKqX_YjKjKRa",
        "outputId": "bb26f1b4-2956-498d-8967-6b9b2629b3d1"
      },
      "execution_count": null,
      "outputs": [
        {
          "output_type": "execute_result",
          "data": {
            "text/plain": [
              "[('권영수 LG엔솔 부회장, 中 공장 첫 출장', 'https://zdnet.co.kr/view/?no=20230313092957'),\n",
              " ('권영수 LG엔솔 부회장, 테슬라 공급 배터리 점검차 中 출장',\n",
              "  'https://it.chosun.com/site/data/html_dir/2023/03/13/2023031300708.html'),\n",
              " (\"美·EU 핵심광물 확보 위해 '구매자 클럽' 결성 추진\",\n",
              "  'http://www.snmnews.com/news/articleView.html?idxno=513818'),\n",
              " ('케이피에스, 세기리텍 인수 폐배터리 리사이클링 산업 본격 진출…4월부터 실적반영',\n",
              "  'http://www.nspna.com/news/?mode=view&newsid=625010'),\n",
              " (\"권영수 LG엔솔 부회장, '배터리 전쟁' 상대 중국 출장...세계 1위 공략\",\n",
              "  'http://www.seoulwire.com/news/articleView.html?idxno=496212'),\n",
              " ('[르포] “데이터센터 이중화 철저” 삼성SDS, 클라우드 핵심기지 첫 공개',\n",
              "  'http://news.heraldcorp.com/view.php?ud=20230313000120'),\n",
              " ('권영수 LG엔솔 부회장, 中 출장길 올라…LFP 배터리 생산라인 점검',\n",
              "  'http://www.g-enews.com/ko-kr/news/article/news_all/2023031300210639817bdb7041ec_1/article.html'),\n",
              " ('LG엔솔 권영수, 취임 후 첫 중국 출장…생산라인 점검',\n",
              "  'http://www.shinailbo.co.kr/news/articleView.html?idxno=1672926'),\n",
              " ('\"테슬라용 배터리 생산라인 점검\" 권영수 LG엔솔 부회장, 中 난징 공장 첫 방문',\n",
              "  'https://www.autodaily.co.kr/news/articleView.html?idxno=504413'),\n",
              " (\"4년 만에 화이트리스트 해제 물꼬... 국산 '소부장' 전선은?\",\n",
              "  'https://weekly.hankooki.com/news/articleView.html?idxno=7077401')]"
            ]
          },
          "metadata": {},
          "execution_count": 86
        }
      ]
    },
    {
      "cell_type": "code",
      "source": [
        "df = pd.DataFrame(data)\n",
        "df"
      ],
      "metadata": {
        "colab": {
          "base_uri": "https://localhost:8080/",
          "height": 363
        },
        "id": "Pd-pf0uUjaxa",
        "outputId": "e3d86e25-3165-48cb-f6f8-1b231927eb1c"
      },
      "execution_count": null,
      "outputs": [
        {
          "output_type": "execute_result",
          "data": {
            "text/plain": [
              "                                               0  \\\n",
              "0                        권영수 LG엔솔 부회장, 中 공장 첫 출장   \n",
              "1              권영수 LG엔솔 부회장, 테슬라 공급 배터리 점검차 中 출장   \n",
              "2                 美·EU 핵심광물 확보 위해 '구매자 클럽' 결성 추진   \n",
              "3   케이피에스, 세기리텍 인수 폐배터리 리사이클링 산업 본격 진출…4월부터 실적반영   \n",
              "4     권영수 LG엔솔 부회장, '배터리 전쟁' 상대 중국 출장...세계 1위 공략   \n",
              "5      [르포] “데이터센터 이중화 철저” 삼성SDS, 클라우드 핵심기지 첫 공개   \n",
              "6         권영수 LG엔솔 부회장, 中 출장길 올라…LFP 배터리 생산라인 점검   \n",
              "7                 LG엔솔 권영수, 취임 후 첫 중국 출장…생산라인 점검   \n",
              "8  \"테슬라용 배터리 생산라인 점검\" 권영수 LG엔솔 부회장, 中 난징 공장 첫 방문   \n",
              "9            4년 만에 화이트리스트 해제 물꼬... 국산 '소부장' 전선은?   \n",
              "\n",
              "                                                   1  \n",
              "0        https://zdnet.co.kr/view/?no=20230313092957  \n",
              "1  https://it.chosun.com/site/data/html_dir/2023/...  \n",
              "2  http://www.snmnews.com/news/articleView.html?i...  \n",
              "3  http://www.nspna.com/news/?mode=view&newsid=62...  \n",
              "4  http://www.seoulwire.com/news/articleView.html...  \n",
              "5  http://news.heraldcorp.com/view.php?ud=2023031...  \n",
              "6  http://www.g-enews.com/ko-kr/news/article/news...  \n",
              "7  http://www.shinailbo.co.kr/news/articleView.ht...  \n",
              "8  https://www.autodaily.co.kr/news/articleView.h...  \n",
              "9  https://weekly.hankooki.com/news/articleView.h...  "
            ],
            "text/html": [
              "\n",
              "  <div id=\"df-e685cfa6-7535-4263-992b-2fe2c5655576\">\n",
              "    <div class=\"colab-df-container\">\n",
              "      <div>\n",
              "<style scoped>\n",
              "    .dataframe tbody tr th:only-of-type {\n",
              "        vertical-align: middle;\n",
              "    }\n",
              "\n",
              "    .dataframe tbody tr th {\n",
              "        vertical-align: top;\n",
              "    }\n",
              "\n",
              "    .dataframe thead th {\n",
              "        text-align: right;\n",
              "    }\n",
              "</style>\n",
              "<table border=\"1\" class=\"dataframe\">\n",
              "  <thead>\n",
              "    <tr style=\"text-align: right;\">\n",
              "      <th></th>\n",
              "      <th>0</th>\n",
              "      <th>1</th>\n",
              "    </tr>\n",
              "  </thead>\n",
              "  <tbody>\n",
              "    <tr>\n",
              "      <th>0</th>\n",
              "      <td>권영수 LG엔솔 부회장, 中 공장 첫 출장</td>\n",
              "      <td>https://zdnet.co.kr/view/?no=20230313092957</td>\n",
              "    </tr>\n",
              "    <tr>\n",
              "      <th>1</th>\n",
              "      <td>권영수 LG엔솔 부회장, 테슬라 공급 배터리 점검차 中 출장</td>\n",
              "      <td>https://it.chosun.com/site/data/html_dir/2023/...</td>\n",
              "    </tr>\n",
              "    <tr>\n",
              "      <th>2</th>\n",
              "      <td>美·EU 핵심광물 확보 위해 '구매자 클럽' 결성 추진</td>\n",
              "      <td>http://www.snmnews.com/news/articleView.html?i...</td>\n",
              "    </tr>\n",
              "    <tr>\n",
              "      <th>3</th>\n",
              "      <td>케이피에스, 세기리텍 인수 폐배터리 리사이클링 산업 본격 진출…4월부터 실적반영</td>\n",
              "      <td>http://www.nspna.com/news/?mode=view&amp;newsid=62...</td>\n",
              "    </tr>\n",
              "    <tr>\n",
              "      <th>4</th>\n",
              "      <td>권영수 LG엔솔 부회장, '배터리 전쟁' 상대 중국 출장...세계 1위 공략</td>\n",
              "      <td>http://www.seoulwire.com/news/articleView.html...</td>\n",
              "    </tr>\n",
              "    <tr>\n",
              "      <th>5</th>\n",
              "      <td>[르포] “데이터센터 이중화 철저” 삼성SDS, 클라우드 핵심기지 첫 공개</td>\n",
              "      <td>http://news.heraldcorp.com/view.php?ud=2023031...</td>\n",
              "    </tr>\n",
              "    <tr>\n",
              "      <th>6</th>\n",
              "      <td>권영수 LG엔솔 부회장, 中 출장길 올라…LFP 배터리 생산라인 점검</td>\n",
              "      <td>http://www.g-enews.com/ko-kr/news/article/news...</td>\n",
              "    </tr>\n",
              "    <tr>\n",
              "      <th>7</th>\n",
              "      <td>LG엔솔 권영수, 취임 후 첫 중국 출장…생산라인 점검</td>\n",
              "      <td>http://www.shinailbo.co.kr/news/articleView.ht...</td>\n",
              "    </tr>\n",
              "    <tr>\n",
              "      <th>8</th>\n",
              "      <td>\"테슬라용 배터리 생산라인 점검\" 권영수 LG엔솔 부회장, 中 난징 공장 첫 방문</td>\n",
              "      <td>https://www.autodaily.co.kr/news/articleView.h...</td>\n",
              "    </tr>\n",
              "    <tr>\n",
              "      <th>9</th>\n",
              "      <td>4년 만에 화이트리스트 해제 물꼬... 국산 '소부장' 전선은?</td>\n",
              "      <td>https://weekly.hankooki.com/news/articleView.h...</td>\n",
              "    </tr>\n",
              "  </tbody>\n",
              "</table>\n",
              "</div>\n",
              "      <button class=\"colab-df-convert\" onclick=\"convertToInteractive('df-e685cfa6-7535-4263-992b-2fe2c5655576')\"\n",
              "              title=\"Convert this dataframe to an interactive table.\"\n",
              "              style=\"display:none;\">\n",
              "        \n",
              "  <svg xmlns=\"http://www.w3.org/2000/svg\" height=\"24px\"viewBox=\"0 0 24 24\"\n",
              "       width=\"24px\">\n",
              "    <path d=\"M0 0h24v24H0V0z\" fill=\"none\"/>\n",
              "    <path d=\"M18.56 5.44l.94 2.06.94-2.06 2.06-.94-2.06-.94-.94-2.06-.94 2.06-2.06.94zm-11 1L8.5 8.5l.94-2.06 2.06-.94-2.06-.94L8.5 2.5l-.94 2.06-2.06.94zm10 10l.94 2.06.94-2.06 2.06-.94-2.06-.94-.94-2.06-.94 2.06-2.06.94z\"/><path d=\"M17.41 7.96l-1.37-1.37c-.4-.4-.92-.59-1.43-.59-.52 0-1.04.2-1.43.59L10.3 9.45l-7.72 7.72c-.78.78-.78 2.05 0 2.83L4 21.41c.39.39.9.59 1.41.59.51 0 1.02-.2 1.41-.59l7.78-7.78 2.81-2.81c.8-.78.8-2.07 0-2.86zM5.41 20L4 18.59l7.72-7.72 1.47 1.35L5.41 20z\"/>\n",
              "  </svg>\n",
              "      </button>\n",
              "      \n",
              "  <style>\n",
              "    .colab-df-container {\n",
              "      display:flex;\n",
              "      flex-wrap:wrap;\n",
              "      gap: 12px;\n",
              "    }\n",
              "\n",
              "    .colab-df-convert {\n",
              "      background-color: #E8F0FE;\n",
              "      border: none;\n",
              "      border-radius: 50%;\n",
              "      cursor: pointer;\n",
              "      display: none;\n",
              "      fill: #1967D2;\n",
              "      height: 32px;\n",
              "      padding: 0 0 0 0;\n",
              "      width: 32px;\n",
              "    }\n",
              "\n",
              "    .colab-df-convert:hover {\n",
              "      background-color: #E2EBFA;\n",
              "      box-shadow: 0px 1px 2px rgba(60, 64, 67, 0.3), 0px 1px 3px 1px rgba(60, 64, 67, 0.15);\n",
              "      fill: #174EA6;\n",
              "    }\n",
              "\n",
              "    [theme=dark] .colab-df-convert {\n",
              "      background-color: #3B4455;\n",
              "      fill: #D2E3FC;\n",
              "    }\n",
              "\n",
              "    [theme=dark] .colab-df-convert:hover {\n",
              "      background-color: #434B5C;\n",
              "      box-shadow: 0px 1px 3px 1px rgba(0, 0, 0, 0.15);\n",
              "      filter: drop-shadow(0px 1px 2px rgba(0, 0, 0, 0.3));\n",
              "      fill: #FFFFFF;\n",
              "    }\n",
              "  </style>\n",
              "\n",
              "      <script>\n",
              "        const buttonEl =\n",
              "          document.querySelector('#df-e685cfa6-7535-4263-992b-2fe2c5655576 button.colab-df-convert');\n",
              "        buttonEl.style.display =\n",
              "          google.colab.kernel.accessAllowed ? 'block' : 'none';\n",
              "\n",
              "        async function convertToInteractive(key) {\n",
              "          const element = document.querySelector('#df-e685cfa6-7535-4263-992b-2fe2c5655576');\n",
              "          const dataTable =\n",
              "            await google.colab.kernel.invokeFunction('convertToInteractive',\n",
              "                                                     [key], {});\n",
              "          if (!dataTable) return;\n",
              "\n",
              "          const docLinkHtml = 'Like what you see? Visit the ' +\n",
              "            '<a target=\"_blank\" href=https://colab.research.google.com/notebooks/data_table.ipynb>data table notebook</a>'\n",
              "            + ' to learn more about interactive tables.';\n",
              "          element.innerHTML = '';\n",
              "          dataTable['output_type'] = 'display_data';\n",
              "          await google.colab.output.renderOutput(dataTable, element);\n",
              "          const docLink = document.createElement('div');\n",
              "          docLink.innerHTML = docLinkHtml;\n",
              "          element.appendChild(docLink);\n",
              "        }\n",
              "      </script>\n",
              "    </div>\n",
              "  </div>\n",
              "  "
            ]
          },
          "metadata": {},
          "execution_count": 88
        }
      ]
    },
    {
      "cell_type": "code",
      "source": [
        "df = pd.DataFrame(data, columns=['title', 'link'])\n",
        "df"
      ],
      "metadata": {
        "colab": {
          "base_uri": "https://localhost:8080/",
          "height": 363
        },
        "id": "AwRtO6gFjokL",
        "outputId": "8227d6d6-6e9b-437c-fcdc-659f2449211f"
      },
      "execution_count": null,
      "outputs": [
        {
          "output_type": "execute_result",
          "data": {
            "text/plain": [
              "                                           title  \\\n",
              "0                        권영수 LG엔솔 부회장, 中 공장 첫 출장   \n",
              "1              권영수 LG엔솔 부회장, 테슬라 공급 배터리 점검차 中 출장   \n",
              "2                 美·EU 핵심광물 확보 위해 '구매자 클럽' 결성 추진   \n",
              "3   케이피에스, 세기리텍 인수 폐배터리 리사이클링 산업 본격 진출…4월부터 실적반영   \n",
              "4     권영수 LG엔솔 부회장, '배터리 전쟁' 상대 중국 출장...세계 1위 공략   \n",
              "5      [르포] “데이터센터 이중화 철저” 삼성SDS, 클라우드 핵심기지 첫 공개   \n",
              "6         권영수 LG엔솔 부회장, 中 출장길 올라…LFP 배터리 생산라인 점검   \n",
              "7                 LG엔솔 권영수, 취임 후 첫 중국 출장…생산라인 점검   \n",
              "8  \"테슬라용 배터리 생산라인 점검\" 권영수 LG엔솔 부회장, 中 난징 공장 첫 방문   \n",
              "9            4년 만에 화이트리스트 해제 물꼬... 국산 '소부장' 전선은?   \n",
              "\n",
              "                                                link  \n",
              "0        https://zdnet.co.kr/view/?no=20230313092957  \n",
              "1  https://it.chosun.com/site/data/html_dir/2023/...  \n",
              "2  http://www.snmnews.com/news/articleView.html?i...  \n",
              "3  http://www.nspna.com/news/?mode=view&newsid=62...  \n",
              "4  http://www.seoulwire.com/news/articleView.html...  \n",
              "5  http://news.heraldcorp.com/view.php?ud=2023031...  \n",
              "6  http://www.g-enews.com/ko-kr/news/article/news...  \n",
              "7  http://www.shinailbo.co.kr/news/articleView.ht...  \n",
              "8  https://www.autodaily.co.kr/news/articleView.h...  \n",
              "9  https://weekly.hankooki.com/news/articleView.h...  "
            ],
            "text/html": [
              "\n",
              "  <div id=\"df-125946cb-c12a-4b52-acd7-e8c9ce3d6fb5\">\n",
              "    <div class=\"colab-df-container\">\n",
              "      <div>\n",
              "<style scoped>\n",
              "    .dataframe tbody tr th:only-of-type {\n",
              "        vertical-align: middle;\n",
              "    }\n",
              "\n",
              "    .dataframe tbody tr th {\n",
              "        vertical-align: top;\n",
              "    }\n",
              "\n",
              "    .dataframe thead th {\n",
              "        text-align: right;\n",
              "    }\n",
              "</style>\n",
              "<table border=\"1\" class=\"dataframe\">\n",
              "  <thead>\n",
              "    <tr style=\"text-align: right;\">\n",
              "      <th></th>\n",
              "      <th>title</th>\n",
              "      <th>link</th>\n",
              "    </tr>\n",
              "  </thead>\n",
              "  <tbody>\n",
              "    <tr>\n",
              "      <th>0</th>\n",
              "      <td>권영수 LG엔솔 부회장, 中 공장 첫 출장</td>\n",
              "      <td>https://zdnet.co.kr/view/?no=20230313092957</td>\n",
              "    </tr>\n",
              "    <tr>\n",
              "      <th>1</th>\n",
              "      <td>권영수 LG엔솔 부회장, 테슬라 공급 배터리 점검차 中 출장</td>\n",
              "      <td>https://it.chosun.com/site/data/html_dir/2023/...</td>\n",
              "    </tr>\n",
              "    <tr>\n",
              "      <th>2</th>\n",
              "      <td>美·EU 핵심광물 확보 위해 '구매자 클럽' 결성 추진</td>\n",
              "      <td>http://www.snmnews.com/news/articleView.html?i...</td>\n",
              "    </tr>\n",
              "    <tr>\n",
              "      <th>3</th>\n",
              "      <td>케이피에스, 세기리텍 인수 폐배터리 리사이클링 산업 본격 진출…4월부터 실적반영</td>\n",
              "      <td>http://www.nspna.com/news/?mode=view&amp;newsid=62...</td>\n",
              "    </tr>\n",
              "    <tr>\n",
              "      <th>4</th>\n",
              "      <td>권영수 LG엔솔 부회장, '배터리 전쟁' 상대 중국 출장...세계 1위 공략</td>\n",
              "      <td>http://www.seoulwire.com/news/articleView.html...</td>\n",
              "    </tr>\n",
              "    <tr>\n",
              "      <th>5</th>\n",
              "      <td>[르포] “데이터센터 이중화 철저” 삼성SDS, 클라우드 핵심기지 첫 공개</td>\n",
              "      <td>http://news.heraldcorp.com/view.php?ud=2023031...</td>\n",
              "    </tr>\n",
              "    <tr>\n",
              "      <th>6</th>\n",
              "      <td>권영수 LG엔솔 부회장, 中 출장길 올라…LFP 배터리 생산라인 점검</td>\n",
              "      <td>http://www.g-enews.com/ko-kr/news/article/news...</td>\n",
              "    </tr>\n",
              "    <tr>\n",
              "      <th>7</th>\n",
              "      <td>LG엔솔 권영수, 취임 후 첫 중국 출장…생산라인 점검</td>\n",
              "      <td>http://www.shinailbo.co.kr/news/articleView.ht...</td>\n",
              "    </tr>\n",
              "    <tr>\n",
              "      <th>8</th>\n",
              "      <td>\"테슬라용 배터리 생산라인 점검\" 권영수 LG엔솔 부회장, 中 난징 공장 첫 방문</td>\n",
              "      <td>https://www.autodaily.co.kr/news/articleView.h...</td>\n",
              "    </tr>\n",
              "    <tr>\n",
              "      <th>9</th>\n",
              "      <td>4년 만에 화이트리스트 해제 물꼬... 국산 '소부장' 전선은?</td>\n",
              "      <td>https://weekly.hankooki.com/news/articleView.h...</td>\n",
              "    </tr>\n",
              "  </tbody>\n",
              "</table>\n",
              "</div>\n",
              "      <button class=\"colab-df-convert\" onclick=\"convertToInteractive('df-125946cb-c12a-4b52-acd7-e8c9ce3d6fb5')\"\n",
              "              title=\"Convert this dataframe to an interactive table.\"\n",
              "              style=\"display:none;\">\n",
              "        \n",
              "  <svg xmlns=\"http://www.w3.org/2000/svg\" height=\"24px\"viewBox=\"0 0 24 24\"\n",
              "       width=\"24px\">\n",
              "    <path d=\"M0 0h24v24H0V0z\" fill=\"none\"/>\n",
              "    <path d=\"M18.56 5.44l.94 2.06.94-2.06 2.06-.94-2.06-.94-.94-2.06-.94 2.06-2.06.94zm-11 1L8.5 8.5l.94-2.06 2.06-.94-2.06-.94L8.5 2.5l-.94 2.06-2.06.94zm10 10l.94 2.06.94-2.06 2.06-.94-2.06-.94-.94-2.06-.94 2.06-2.06.94z\"/><path d=\"M17.41 7.96l-1.37-1.37c-.4-.4-.92-.59-1.43-.59-.52 0-1.04.2-1.43.59L10.3 9.45l-7.72 7.72c-.78.78-.78 2.05 0 2.83L4 21.41c.39.39.9.59 1.41.59.51 0 1.02-.2 1.41-.59l7.78-7.78 2.81-2.81c.8-.78.8-2.07 0-2.86zM5.41 20L4 18.59l7.72-7.72 1.47 1.35L5.41 20z\"/>\n",
              "  </svg>\n",
              "      </button>\n",
              "      \n",
              "  <style>\n",
              "    .colab-df-container {\n",
              "      display:flex;\n",
              "      flex-wrap:wrap;\n",
              "      gap: 12px;\n",
              "    }\n",
              "\n",
              "    .colab-df-convert {\n",
              "      background-color: #E8F0FE;\n",
              "      border: none;\n",
              "      border-radius: 50%;\n",
              "      cursor: pointer;\n",
              "      display: none;\n",
              "      fill: #1967D2;\n",
              "      height: 32px;\n",
              "      padding: 0 0 0 0;\n",
              "      width: 32px;\n",
              "    }\n",
              "\n",
              "    .colab-df-convert:hover {\n",
              "      background-color: #E2EBFA;\n",
              "      box-shadow: 0px 1px 2px rgba(60, 64, 67, 0.3), 0px 1px 3px 1px rgba(60, 64, 67, 0.15);\n",
              "      fill: #174EA6;\n",
              "    }\n",
              "\n",
              "    [theme=dark] .colab-df-convert {\n",
              "      background-color: #3B4455;\n",
              "      fill: #D2E3FC;\n",
              "    }\n",
              "\n",
              "    [theme=dark] .colab-df-convert:hover {\n",
              "      background-color: #434B5C;\n",
              "      box-shadow: 0px 1px 3px 1px rgba(0, 0, 0, 0.15);\n",
              "      filter: drop-shadow(0px 1px 2px rgba(0, 0, 0, 0.3));\n",
              "      fill: #FFFFFF;\n",
              "    }\n",
              "  </style>\n",
              "\n",
              "      <script>\n",
              "        const buttonEl =\n",
              "          document.querySelector('#df-125946cb-c12a-4b52-acd7-e8c9ce3d6fb5 button.colab-df-convert');\n",
              "        buttonEl.style.display =\n",
              "          google.colab.kernel.accessAllowed ? 'block' : 'none';\n",
              "\n",
              "        async function convertToInteractive(key) {\n",
              "          const element = document.querySelector('#df-125946cb-c12a-4b52-acd7-e8c9ce3d6fb5');\n",
              "          const dataTable =\n",
              "            await google.colab.kernel.invokeFunction('convertToInteractive',\n",
              "                                                     [key], {});\n",
              "          if (!dataTable) return;\n",
              "\n",
              "          const docLinkHtml = 'Like what you see? Visit the ' +\n",
              "            '<a target=\"_blank\" href=https://colab.research.google.com/notebooks/data_table.ipynb>data table notebook</a>'\n",
              "            + ' to learn more about interactive tables.';\n",
              "          element.innerHTML = '';\n",
              "          dataTable['output_type'] = 'display_data';\n",
              "          await google.colab.output.renderOutput(dataTable, element);\n",
              "          const docLink = document.createElement('div');\n",
              "          docLink.innerHTML = docLinkHtml;\n",
              "          element.appendChild(docLink);\n",
              "        }\n",
              "      </script>\n",
              "    </div>\n",
              "  </div>\n",
              "  "
            ]
          },
          "metadata": {},
          "execution_count": 90
        }
      ]
    },
    {
      "cell_type": "code",
      "source": [
        "df.title"
      ],
      "metadata": {
        "colab": {
          "base_uri": "https://localhost:8080/"
        },
        "id": "bhADyxxVjwyZ",
        "outputId": "b8031689-e504-43e4-86a9-5853db2e2636"
      },
      "execution_count": null,
      "outputs": [
        {
          "output_type": "execute_result",
          "data": {
            "text/plain": [
              "0                          권영수 LG엔솔 부회장, 中 공장 첫 출장\n",
              "1                권영수 LG엔솔 부회장, 테슬라 공급 배터리 점검차 中 출장\n",
              "2                   美·EU 핵심광물 확보 위해 '구매자 클럽' 결성 추진\n",
              "3     케이피에스, 세기리텍 인수 폐배터리 리사이클링 산업 본격 진출…4월부터 실적반영\n",
              "4       권영수 LG엔솔 부회장, '배터리 전쟁' 상대 중국 출장...세계 1위 공략\n",
              "5        [르포] “데이터센터 이중화 철저” 삼성SDS, 클라우드 핵심기지 첫 공개\n",
              "6           권영수 LG엔솔 부회장, 中 출장길 올라…LFP 배터리 생산라인 점검\n",
              "7                   LG엔솔 권영수, 취임 후 첫 중국 출장…생산라인 점검\n",
              "8    \"테슬라용 배터리 생산라인 점검\" 권영수 LG엔솔 부회장, 中 난징 공장 첫 방문\n",
              "9              4년 만에 화이트리스트 해제 물꼬... 국산 '소부장' 전선은?\n",
              "Name: title, dtype: object"
            ]
          },
          "metadata": {},
          "execution_count": 91
        }
      ]
    },
    {
      "cell_type": "code",
      "source": [
        "index = [f\"2023_리튬_{i+1:02d}\"for i in range(len(df))]\n",
        "index"
      ],
      "metadata": {
        "colab": {
          "base_uri": "https://localhost:8080/"
        },
        "id": "7FopmqpCj1-p",
        "outputId": "d7145b82-07f3-441c-b39e-29802116b669"
      },
      "execution_count": null,
      "outputs": [
        {
          "output_type": "execute_result",
          "data": {
            "text/plain": [
              "['2023_리튬_01',\n",
              " '2023_리튬_02',\n",
              " '2023_리튬_03',\n",
              " '2023_리튬_04',\n",
              " '2023_리튬_05',\n",
              " '2023_리튬_06',\n",
              " '2023_리튬_07',\n",
              " '2023_리튬_08',\n",
              " '2023_리튬_09',\n",
              " '2023_리튬_10']"
            ]
          },
          "metadata": {},
          "execution_count": 95
        }
      ]
    },
    {
      "cell_type": "code",
      "source": [
        "df = pd.DataFrame(data, columns=['title', 'link'], index=index)\n",
        "df"
      ],
      "metadata": {
        "colab": {
          "base_uri": "https://localhost:8080/",
          "height": 363
        },
        "id": "YpqXo6d5kETJ",
        "outputId": "2d30a561-9274-43d3-b0bf-f4225c4ba7b7"
      },
      "execution_count": null,
      "outputs": [
        {
          "output_type": "execute_result",
          "data": {
            "text/plain": [
              "                                                    title  \\\n",
              "2023_리튬_01                        권영수 LG엔솔 부회장, 中 공장 첫 출장   \n",
              "2023_리튬_02              권영수 LG엔솔 부회장, 테슬라 공급 배터리 점검차 中 출장   \n",
              "2023_리튬_03                 美·EU 핵심광물 확보 위해 '구매자 클럽' 결성 추진   \n",
              "2023_리튬_04   케이피에스, 세기리텍 인수 폐배터리 리사이클링 산업 본격 진출…4월부터 실적반영   \n",
              "2023_리튬_05     권영수 LG엔솔 부회장, '배터리 전쟁' 상대 중국 출장...세계 1위 공략   \n",
              "2023_리튬_06      [르포] “데이터센터 이중화 철저” 삼성SDS, 클라우드 핵심기지 첫 공개   \n",
              "2023_리튬_07         권영수 LG엔솔 부회장, 中 출장길 올라…LFP 배터리 생산라인 점검   \n",
              "2023_리튬_08                 LG엔솔 권영수, 취임 후 첫 중국 출장…생산라인 점검   \n",
              "2023_리튬_09  \"테슬라용 배터리 생산라인 점검\" 권영수 LG엔솔 부회장, 中 난징 공장 첫 방문   \n",
              "2023_리튬_10            4년 만에 화이트리스트 해제 물꼬... 국산 '소부장' 전선은?   \n",
              "\n",
              "                                                         link  \n",
              "2023_리튬_01        https://zdnet.co.kr/view/?no=20230313092957  \n",
              "2023_리튬_02  https://it.chosun.com/site/data/html_dir/2023/...  \n",
              "2023_리튬_03  http://www.snmnews.com/news/articleView.html?i...  \n",
              "2023_리튬_04  http://www.nspna.com/news/?mode=view&newsid=62...  \n",
              "2023_리튬_05  http://www.seoulwire.com/news/articleView.html...  \n",
              "2023_리튬_06  http://news.heraldcorp.com/view.php?ud=2023031...  \n",
              "2023_리튬_07  http://www.g-enews.com/ko-kr/news/article/news...  \n",
              "2023_리튬_08  http://www.shinailbo.co.kr/news/articleView.ht...  \n",
              "2023_리튬_09  https://www.autodaily.co.kr/news/articleView.h...  \n",
              "2023_리튬_10  https://weekly.hankooki.com/news/articleView.h...  "
            ],
            "text/html": [
              "\n",
              "  <div id=\"df-43867926-bf20-4d14-bf77-e77d5d2afb3a\">\n",
              "    <div class=\"colab-df-container\">\n",
              "      <div>\n",
              "<style scoped>\n",
              "    .dataframe tbody tr th:only-of-type {\n",
              "        vertical-align: middle;\n",
              "    }\n",
              "\n",
              "    .dataframe tbody tr th {\n",
              "        vertical-align: top;\n",
              "    }\n",
              "\n",
              "    .dataframe thead th {\n",
              "        text-align: right;\n",
              "    }\n",
              "</style>\n",
              "<table border=\"1\" class=\"dataframe\">\n",
              "  <thead>\n",
              "    <tr style=\"text-align: right;\">\n",
              "      <th></th>\n",
              "      <th>title</th>\n",
              "      <th>link</th>\n",
              "    </tr>\n",
              "  </thead>\n",
              "  <tbody>\n",
              "    <tr>\n",
              "      <th>2023_리튬_01</th>\n",
              "      <td>권영수 LG엔솔 부회장, 中 공장 첫 출장</td>\n",
              "      <td>https://zdnet.co.kr/view/?no=20230313092957</td>\n",
              "    </tr>\n",
              "    <tr>\n",
              "      <th>2023_리튬_02</th>\n",
              "      <td>권영수 LG엔솔 부회장, 테슬라 공급 배터리 점검차 中 출장</td>\n",
              "      <td>https://it.chosun.com/site/data/html_dir/2023/...</td>\n",
              "    </tr>\n",
              "    <tr>\n",
              "      <th>2023_리튬_03</th>\n",
              "      <td>美·EU 핵심광물 확보 위해 '구매자 클럽' 결성 추진</td>\n",
              "      <td>http://www.snmnews.com/news/articleView.html?i...</td>\n",
              "    </tr>\n",
              "    <tr>\n",
              "      <th>2023_리튬_04</th>\n",
              "      <td>케이피에스, 세기리텍 인수 폐배터리 리사이클링 산업 본격 진출…4월부터 실적반영</td>\n",
              "      <td>http://www.nspna.com/news/?mode=view&amp;newsid=62...</td>\n",
              "    </tr>\n",
              "    <tr>\n",
              "      <th>2023_리튬_05</th>\n",
              "      <td>권영수 LG엔솔 부회장, '배터리 전쟁' 상대 중국 출장...세계 1위 공략</td>\n",
              "      <td>http://www.seoulwire.com/news/articleView.html...</td>\n",
              "    </tr>\n",
              "    <tr>\n",
              "      <th>2023_리튬_06</th>\n",
              "      <td>[르포] “데이터센터 이중화 철저” 삼성SDS, 클라우드 핵심기지 첫 공개</td>\n",
              "      <td>http://news.heraldcorp.com/view.php?ud=2023031...</td>\n",
              "    </tr>\n",
              "    <tr>\n",
              "      <th>2023_리튬_07</th>\n",
              "      <td>권영수 LG엔솔 부회장, 中 출장길 올라…LFP 배터리 생산라인 점검</td>\n",
              "      <td>http://www.g-enews.com/ko-kr/news/article/news...</td>\n",
              "    </tr>\n",
              "    <tr>\n",
              "      <th>2023_리튬_08</th>\n",
              "      <td>LG엔솔 권영수, 취임 후 첫 중국 출장…생산라인 점검</td>\n",
              "      <td>http://www.shinailbo.co.kr/news/articleView.ht...</td>\n",
              "    </tr>\n",
              "    <tr>\n",
              "      <th>2023_리튬_09</th>\n",
              "      <td>\"테슬라용 배터리 생산라인 점검\" 권영수 LG엔솔 부회장, 中 난징 공장 첫 방문</td>\n",
              "      <td>https://www.autodaily.co.kr/news/articleView.h...</td>\n",
              "    </tr>\n",
              "    <tr>\n",
              "      <th>2023_리튬_10</th>\n",
              "      <td>4년 만에 화이트리스트 해제 물꼬... 국산 '소부장' 전선은?</td>\n",
              "      <td>https://weekly.hankooki.com/news/articleView.h...</td>\n",
              "    </tr>\n",
              "  </tbody>\n",
              "</table>\n",
              "</div>\n",
              "      <button class=\"colab-df-convert\" onclick=\"convertToInteractive('df-43867926-bf20-4d14-bf77-e77d5d2afb3a')\"\n",
              "              title=\"Convert this dataframe to an interactive table.\"\n",
              "              style=\"display:none;\">\n",
              "        \n",
              "  <svg xmlns=\"http://www.w3.org/2000/svg\" height=\"24px\"viewBox=\"0 0 24 24\"\n",
              "       width=\"24px\">\n",
              "    <path d=\"M0 0h24v24H0V0z\" fill=\"none\"/>\n",
              "    <path d=\"M18.56 5.44l.94 2.06.94-2.06 2.06-.94-2.06-.94-.94-2.06-.94 2.06-2.06.94zm-11 1L8.5 8.5l.94-2.06 2.06-.94-2.06-.94L8.5 2.5l-.94 2.06-2.06.94zm10 10l.94 2.06.94-2.06 2.06-.94-2.06-.94-.94-2.06-.94 2.06-2.06.94z\"/><path d=\"M17.41 7.96l-1.37-1.37c-.4-.4-.92-.59-1.43-.59-.52 0-1.04.2-1.43.59L10.3 9.45l-7.72 7.72c-.78.78-.78 2.05 0 2.83L4 21.41c.39.39.9.59 1.41.59.51 0 1.02-.2 1.41-.59l7.78-7.78 2.81-2.81c.8-.78.8-2.07 0-2.86zM5.41 20L4 18.59l7.72-7.72 1.47 1.35L5.41 20z\"/>\n",
              "  </svg>\n",
              "      </button>\n",
              "      \n",
              "  <style>\n",
              "    .colab-df-container {\n",
              "      display:flex;\n",
              "      flex-wrap:wrap;\n",
              "      gap: 12px;\n",
              "    }\n",
              "\n",
              "    .colab-df-convert {\n",
              "      background-color: #E8F0FE;\n",
              "      border: none;\n",
              "      border-radius: 50%;\n",
              "      cursor: pointer;\n",
              "      display: none;\n",
              "      fill: #1967D2;\n",
              "      height: 32px;\n",
              "      padding: 0 0 0 0;\n",
              "      width: 32px;\n",
              "    }\n",
              "\n",
              "    .colab-df-convert:hover {\n",
              "      background-color: #E2EBFA;\n",
              "      box-shadow: 0px 1px 2px rgba(60, 64, 67, 0.3), 0px 1px 3px 1px rgba(60, 64, 67, 0.15);\n",
              "      fill: #174EA6;\n",
              "    }\n",
              "\n",
              "    [theme=dark] .colab-df-convert {\n",
              "      background-color: #3B4455;\n",
              "      fill: #D2E3FC;\n",
              "    }\n",
              "\n",
              "    [theme=dark] .colab-df-convert:hover {\n",
              "      background-color: #434B5C;\n",
              "      box-shadow: 0px 1px 3px 1px rgba(0, 0, 0, 0.15);\n",
              "      filter: drop-shadow(0px 1px 2px rgba(0, 0, 0, 0.3));\n",
              "      fill: #FFFFFF;\n",
              "    }\n",
              "  </style>\n",
              "\n",
              "      <script>\n",
              "        const buttonEl =\n",
              "          document.querySelector('#df-43867926-bf20-4d14-bf77-e77d5d2afb3a button.colab-df-convert');\n",
              "        buttonEl.style.display =\n",
              "          google.colab.kernel.accessAllowed ? 'block' : 'none';\n",
              "\n",
              "        async function convertToInteractive(key) {\n",
              "          const element = document.querySelector('#df-43867926-bf20-4d14-bf77-e77d5d2afb3a');\n",
              "          const dataTable =\n",
              "            await google.colab.kernel.invokeFunction('convertToInteractive',\n",
              "                                                     [key], {});\n",
              "          if (!dataTable) return;\n",
              "\n",
              "          const docLinkHtml = 'Like what you see? Visit the ' +\n",
              "            '<a target=\"_blank\" href=https://colab.research.google.com/notebooks/data_table.ipynb>data table notebook</a>'\n",
              "            + ' to learn more about interactive tables.';\n",
              "          element.innerHTML = '';\n",
              "          dataTable['output_type'] = 'display_data';\n",
              "          await google.colab.output.renderOutput(dataTable, element);\n",
              "          const docLink = document.createElement('div');\n",
              "          docLink.innerHTML = docLinkHtml;\n",
              "          element.appendChild(docLink);\n",
              "        }\n",
              "      </script>\n",
              "    </div>\n",
              "  </div>\n",
              "  "
            ]
          },
          "metadata": {},
          "execution_count": 96
        }
      ]
    },
    {
      "cell_type": "code",
      "source": [
        "df['2023_리튬_01':'2023_리튬_01']"
      ],
      "metadata": {
        "colab": {
          "base_uri": "https://localhost:8080/",
          "height": 81
        },
        "id": "v_wRvFPPkShH",
        "outputId": "3611059b-e5ca-418c-eb7a-ee76d55c1f41"
      },
      "execution_count": null,
      "outputs": [
        {
          "output_type": "execute_result",
          "data": {
            "text/plain": [
              "                              title  \\\n",
              "2023_리튬_01  권영수 LG엔솔 부회장, 中 공장 첫 출장   \n",
              "\n",
              "                                                   link  \n",
              "2023_리튬_01  https://zdnet.co.kr/view/?no=20230313092957  "
            ],
            "text/html": [
              "\n",
              "  <div id=\"df-c7415ead-0916-4850-ad43-16e23e05b65e\">\n",
              "    <div class=\"colab-df-container\">\n",
              "      <div>\n",
              "<style scoped>\n",
              "    .dataframe tbody tr th:only-of-type {\n",
              "        vertical-align: middle;\n",
              "    }\n",
              "\n",
              "    .dataframe tbody tr th {\n",
              "        vertical-align: top;\n",
              "    }\n",
              "\n",
              "    .dataframe thead th {\n",
              "        text-align: right;\n",
              "    }\n",
              "</style>\n",
              "<table border=\"1\" class=\"dataframe\">\n",
              "  <thead>\n",
              "    <tr style=\"text-align: right;\">\n",
              "      <th></th>\n",
              "      <th>title</th>\n",
              "      <th>link</th>\n",
              "    </tr>\n",
              "  </thead>\n",
              "  <tbody>\n",
              "    <tr>\n",
              "      <th>2023_리튬_01</th>\n",
              "      <td>권영수 LG엔솔 부회장, 中 공장 첫 출장</td>\n",
              "      <td>https://zdnet.co.kr/view/?no=20230313092957</td>\n",
              "    </tr>\n",
              "  </tbody>\n",
              "</table>\n",
              "</div>\n",
              "      <button class=\"colab-df-convert\" onclick=\"convertToInteractive('df-c7415ead-0916-4850-ad43-16e23e05b65e')\"\n",
              "              title=\"Convert this dataframe to an interactive table.\"\n",
              "              style=\"display:none;\">\n",
              "        \n",
              "  <svg xmlns=\"http://www.w3.org/2000/svg\" height=\"24px\"viewBox=\"0 0 24 24\"\n",
              "       width=\"24px\">\n",
              "    <path d=\"M0 0h24v24H0V0z\" fill=\"none\"/>\n",
              "    <path d=\"M18.56 5.44l.94 2.06.94-2.06 2.06-.94-2.06-.94-.94-2.06-.94 2.06-2.06.94zm-11 1L8.5 8.5l.94-2.06 2.06-.94-2.06-.94L8.5 2.5l-.94 2.06-2.06.94zm10 10l.94 2.06.94-2.06 2.06-.94-2.06-.94-.94-2.06-.94 2.06-2.06.94z\"/><path d=\"M17.41 7.96l-1.37-1.37c-.4-.4-.92-.59-1.43-.59-.52 0-1.04.2-1.43.59L10.3 9.45l-7.72 7.72c-.78.78-.78 2.05 0 2.83L4 21.41c.39.39.9.59 1.41.59.51 0 1.02-.2 1.41-.59l7.78-7.78 2.81-2.81c.8-.78.8-2.07 0-2.86zM5.41 20L4 18.59l7.72-7.72 1.47 1.35L5.41 20z\"/>\n",
              "  </svg>\n",
              "      </button>\n",
              "      \n",
              "  <style>\n",
              "    .colab-df-container {\n",
              "      display:flex;\n",
              "      flex-wrap:wrap;\n",
              "      gap: 12px;\n",
              "    }\n",
              "\n",
              "    .colab-df-convert {\n",
              "      background-color: #E8F0FE;\n",
              "      border: none;\n",
              "      border-radius: 50%;\n",
              "      cursor: pointer;\n",
              "      display: none;\n",
              "      fill: #1967D2;\n",
              "      height: 32px;\n",
              "      padding: 0 0 0 0;\n",
              "      width: 32px;\n",
              "    }\n",
              "\n",
              "    .colab-df-convert:hover {\n",
              "      background-color: #E2EBFA;\n",
              "      box-shadow: 0px 1px 2px rgba(60, 64, 67, 0.3), 0px 1px 3px 1px rgba(60, 64, 67, 0.15);\n",
              "      fill: #174EA6;\n",
              "    }\n",
              "\n",
              "    [theme=dark] .colab-df-convert {\n",
              "      background-color: #3B4455;\n",
              "      fill: #D2E3FC;\n",
              "    }\n",
              "\n",
              "    [theme=dark] .colab-df-convert:hover {\n",
              "      background-color: #434B5C;\n",
              "      box-shadow: 0px 1px 3px 1px rgba(0, 0, 0, 0.15);\n",
              "      filter: drop-shadow(0px 1px 2px rgba(0, 0, 0, 0.3));\n",
              "      fill: #FFFFFF;\n",
              "    }\n",
              "  </style>\n",
              "\n",
              "      <script>\n",
              "        const buttonEl =\n",
              "          document.querySelector('#df-c7415ead-0916-4850-ad43-16e23e05b65e button.colab-df-convert');\n",
              "        buttonEl.style.display =\n",
              "          google.colab.kernel.accessAllowed ? 'block' : 'none';\n",
              "\n",
              "        async function convertToInteractive(key) {\n",
              "          const element = document.querySelector('#df-c7415ead-0916-4850-ad43-16e23e05b65e');\n",
              "          const dataTable =\n",
              "            await google.colab.kernel.invokeFunction('convertToInteractive',\n",
              "                                                     [key], {});\n",
              "          if (!dataTable) return;\n",
              "\n",
              "          const docLinkHtml = 'Like what you see? Visit the ' +\n",
              "            '<a target=\"_blank\" href=https://colab.research.google.com/notebooks/data_table.ipynb>data table notebook</a>'\n",
              "            + ' to learn more about interactive tables.';\n",
              "          element.innerHTML = '';\n",
              "          dataTable['output_type'] = 'display_data';\n",
              "          await google.colab.output.renderOutput(dataTable, element);\n",
              "          const docLink = document.createElement('div');\n",
              "          docLink.innerHTML = docLinkHtml;\n",
              "          element.appendChild(docLink);\n",
              "        }\n",
              "      </script>\n",
              "    </div>\n",
              "  </div>\n",
              "  "
            ]
          },
          "metadata": {},
          "execution_count": 97
        }
      ]
    },
    {
      "cell_type": "code",
      "source": [
        "df['2023_리튬_01':'2023_리튬_05']"
      ],
      "metadata": {
        "colab": {
          "base_uri": "https://localhost:8080/",
          "height": 206
        },
        "id": "fH-E296-kWAR",
        "outputId": "33d9ad63-702e-451f-efbf-cf62283de6a1"
      },
      "execution_count": null,
      "outputs": [
        {
          "output_type": "execute_result",
          "data": {
            "text/plain": [
              "                                                   title  \\\n",
              "2023_리튬_01                       권영수 LG엔솔 부회장, 中 공장 첫 출장   \n",
              "2023_리튬_02             권영수 LG엔솔 부회장, 테슬라 공급 배터리 점검차 中 출장   \n",
              "2023_리튬_03                美·EU 핵심광물 확보 위해 '구매자 클럽' 결성 추진   \n",
              "2023_리튬_04  케이피에스, 세기리텍 인수 폐배터리 리사이클링 산업 본격 진출…4월부터 실적반영   \n",
              "2023_리튬_05    권영수 LG엔솔 부회장, '배터리 전쟁' 상대 중국 출장...세계 1위 공략   \n",
              "\n",
              "                                                         link  \n",
              "2023_리튬_01        https://zdnet.co.kr/view/?no=20230313092957  \n",
              "2023_리튬_02  https://it.chosun.com/site/data/html_dir/2023/...  \n",
              "2023_리튬_03  http://www.snmnews.com/news/articleView.html?i...  \n",
              "2023_리튬_04  http://www.nspna.com/news/?mode=view&newsid=62...  \n",
              "2023_리튬_05  http://www.seoulwire.com/news/articleView.html...  "
            ],
            "text/html": [
              "\n",
              "  <div id=\"df-544a94ab-5144-4e45-a08e-682756f16d62\">\n",
              "    <div class=\"colab-df-container\">\n",
              "      <div>\n",
              "<style scoped>\n",
              "    .dataframe tbody tr th:only-of-type {\n",
              "        vertical-align: middle;\n",
              "    }\n",
              "\n",
              "    .dataframe tbody tr th {\n",
              "        vertical-align: top;\n",
              "    }\n",
              "\n",
              "    .dataframe thead th {\n",
              "        text-align: right;\n",
              "    }\n",
              "</style>\n",
              "<table border=\"1\" class=\"dataframe\">\n",
              "  <thead>\n",
              "    <tr style=\"text-align: right;\">\n",
              "      <th></th>\n",
              "      <th>title</th>\n",
              "      <th>link</th>\n",
              "    </tr>\n",
              "  </thead>\n",
              "  <tbody>\n",
              "    <tr>\n",
              "      <th>2023_리튬_01</th>\n",
              "      <td>권영수 LG엔솔 부회장, 中 공장 첫 출장</td>\n",
              "      <td>https://zdnet.co.kr/view/?no=20230313092957</td>\n",
              "    </tr>\n",
              "    <tr>\n",
              "      <th>2023_리튬_02</th>\n",
              "      <td>권영수 LG엔솔 부회장, 테슬라 공급 배터리 점검차 中 출장</td>\n",
              "      <td>https://it.chosun.com/site/data/html_dir/2023/...</td>\n",
              "    </tr>\n",
              "    <tr>\n",
              "      <th>2023_리튬_03</th>\n",
              "      <td>美·EU 핵심광물 확보 위해 '구매자 클럽' 결성 추진</td>\n",
              "      <td>http://www.snmnews.com/news/articleView.html?i...</td>\n",
              "    </tr>\n",
              "    <tr>\n",
              "      <th>2023_리튬_04</th>\n",
              "      <td>케이피에스, 세기리텍 인수 폐배터리 리사이클링 산업 본격 진출…4월부터 실적반영</td>\n",
              "      <td>http://www.nspna.com/news/?mode=view&amp;newsid=62...</td>\n",
              "    </tr>\n",
              "    <tr>\n",
              "      <th>2023_리튬_05</th>\n",
              "      <td>권영수 LG엔솔 부회장, '배터리 전쟁' 상대 중국 출장...세계 1위 공략</td>\n",
              "      <td>http://www.seoulwire.com/news/articleView.html...</td>\n",
              "    </tr>\n",
              "  </tbody>\n",
              "</table>\n",
              "</div>\n",
              "      <button class=\"colab-df-convert\" onclick=\"convertToInteractive('df-544a94ab-5144-4e45-a08e-682756f16d62')\"\n",
              "              title=\"Convert this dataframe to an interactive table.\"\n",
              "              style=\"display:none;\">\n",
              "        \n",
              "  <svg xmlns=\"http://www.w3.org/2000/svg\" height=\"24px\"viewBox=\"0 0 24 24\"\n",
              "       width=\"24px\">\n",
              "    <path d=\"M0 0h24v24H0V0z\" fill=\"none\"/>\n",
              "    <path d=\"M18.56 5.44l.94 2.06.94-2.06 2.06-.94-2.06-.94-.94-2.06-.94 2.06-2.06.94zm-11 1L8.5 8.5l.94-2.06 2.06-.94-2.06-.94L8.5 2.5l-.94 2.06-2.06.94zm10 10l.94 2.06.94-2.06 2.06-.94-2.06-.94-.94-2.06-.94 2.06-2.06.94z\"/><path d=\"M17.41 7.96l-1.37-1.37c-.4-.4-.92-.59-1.43-.59-.52 0-1.04.2-1.43.59L10.3 9.45l-7.72 7.72c-.78.78-.78 2.05 0 2.83L4 21.41c.39.39.9.59 1.41.59.51 0 1.02-.2 1.41-.59l7.78-7.78 2.81-2.81c.8-.78.8-2.07 0-2.86zM5.41 20L4 18.59l7.72-7.72 1.47 1.35L5.41 20z\"/>\n",
              "  </svg>\n",
              "      </button>\n",
              "      \n",
              "  <style>\n",
              "    .colab-df-container {\n",
              "      display:flex;\n",
              "      flex-wrap:wrap;\n",
              "      gap: 12px;\n",
              "    }\n",
              "\n",
              "    .colab-df-convert {\n",
              "      background-color: #E8F0FE;\n",
              "      border: none;\n",
              "      border-radius: 50%;\n",
              "      cursor: pointer;\n",
              "      display: none;\n",
              "      fill: #1967D2;\n",
              "      height: 32px;\n",
              "      padding: 0 0 0 0;\n",
              "      width: 32px;\n",
              "    }\n",
              "\n",
              "    .colab-df-convert:hover {\n",
              "      background-color: #E2EBFA;\n",
              "      box-shadow: 0px 1px 2px rgba(60, 64, 67, 0.3), 0px 1px 3px 1px rgba(60, 64, 67, 0.15);\n",
              "      fill: #174EA6;\n",
              "    }\n",
              "\n",
              "    [theme=dark] .colab-df-convert {\n",
              "      background-color: #3B4455;\n",
              "      fill: #D2E3FC;\n",
              "    }\n",
              "\n",
              "    [theme=dark] .colab-df-convert:hover {\n",
              "      background-color: #434B5C;\n",
              "      box-shadow: 0px 1px 3px 1px rgba(0, 0, 0, 0.15);\n",
              "      filter: drop-shadow(0px 1px 2px rgba(0, 0, 0, 0.3));\n",
              "      fill: #FFFFFF;\n",
              "    }\n",
              "  </style>\n",
              "\n",
              "      <script>\n",
              "        const buttonEl =\n",
              "          document.querySelector('#df-544a94ab-5144-4e45-a08e-682756f16d62 button.colab-df-convert');\n",
              "        buttonEl.style.display =\n",
              "          google.colab.kernel.accessAllowed ? 'block' : 'none';\n",
              "\n",
              "        async function convertToInteractive(key) {\n",
              "          const element = document.querySelector('#df-544a94ab-5144-4e45-a08e-682756f16d62');\n",
              "          const dataTable =\n",
              "            await google.colab.kernel.invokeFunction('convertToInteractive',\n",
              "                                                     [key], {});\n",
              "          if (!dataTable) return;\n",
              "\n",
              "          const docLinkHtml = 'Like what you see? Visit the ' +\n",
              "            '<a target=\"_blank\" href=https://colab.research.google.com/notebooks/data_table.ipynb>data table notebook</a>'\n",
              "            + ' to learn more about interactive tables.';\n",
              "          element.innerHTML = '';\n",
              "          dataTable['output_type'] = 'display_data';\n",
              "          await google.colab.output.renderOutput(dataTable, element);\n",
              "          const docLink = document.createElement('div');\n",
              "          docLink.innerHTML = docLinkHtml;\n",
              "          element.appendChild(docLink);\n",
              "        }\n",
              "      </script>\n",
              "    </div>\n",
              "  </div>\n",
              "  "
            ]
          },
          "metadata": {},
          "execution_count": 98
        }
      ]
    },
    {
      "cell_type": "code",
      "source": [
        "df[0:5]"
      ],
      "metadata": {
        "colab": {
          "base_uri": "https://localhost:8080/",
          "height": 206
        },
        "id": "loTgbrU_kZ-j",
        "outputId": "0322793d-7625-469e-efd4-53f59ab3c951"
      },
      "execution_count": null,
      "outputs": [
        {
          "output_type": "execute_result",
          "data": {
            "text/plain": [
              "                                                   title  \\\n",
              "2023_리튬_01                       권영수 LG엔솔 부회장, 中 공장 첫 출장   \n",
              "2023_리튬_02             권영수 LG엔솔 부회장, 테슬라 공급 배터리 점검차 中 출장   \n",
              "2023_리튬_03                美·EU 핵심광물 확보 위해 '구매자 클럽' 결성 추진   \n",
              "2023_리튬_04  케이피에스, 세기리텍 인수 폐배터리 리사이클링 산업 본격 진출…4월부터 실적반영   \n",
              "2023_리튬_05    권영수 LG엔솔 부회장, '배터리 전쟁' 상대 중국 출장...세계 1위 공략   \n",
              "\n",
              "                                                         link  \n",
              "2023_리튬_01        https://zdnet.co.kr/view/?no=20230313092957  \n",
              "2023_리튬_02  https://it.chosun.com/site/data/html_dir/2023/...  \n",
              "2023_리튬_03  http://www.snmnews.com/news/articleView.html?i...  \n",
              "2023_리튬_04  http://www.nspna.com/news/?mode=view&newsid=62...  \n",
              "2023_리튬_05  http://www.seoulwire.com/news/articleView.html...  "
            ],
            "text/html": [
              "\n",
              "  <div id=\"df-3b998860-5645-4692-b710-1cfcf3d61706\">\n",
              "    <div class=\"colab-df-container\">\n",
              "      <div>\n",
              "<style scoped>\n",
              "    .dataframe tbody tr th:only-of-type {\n",
              "        vertical-align: middle;\n",
              "    }\n",
              "\n",
              "    .dataframe tbody tr th {\n",
              "        vertical-align: top;\n",
              "    }\n",
              "\n",
              "    .dataframe thead th {\n",
              "        text-align: right;\n",
              "    }\n",
              "</style>\n",
              "<table border=\"1\" class=\"dataframe\">\n",
              "  <thead>\n",
              "    <tr style=\"text-align: right;\">\n",
              "      <th></th>\n",
              "      <th>title</th>\n",
              "      <th>link</th>\n",
              "    </tr>\n",
              "  </thead>\n",
              "  <tbody>\n",
              "    <tr>\n",
              "      <th>2023_리튬_01</th>\n",
              "      <td>권영수 LG엔솔 부회장, 中 공장 첫 출장</td>\n",
              "      <td>https://zdnet.co.kr/view/?no=20230313092957</td>\n",
              "    </tr>\n",
              "    <tr>\n",
              "      <th>2023_리튬_02</th>\n",
              "      <td>권영수 LG엔솔 부회장, 테슬라 공급 배터리 점검차 中 출장</td>\n",
              "      <td>https://it.chosun.com/site/data/html_dir/2023/...</td>\n",
              "    </tr>\n",
              "    <tr>\n",
              "      <th>2023_리튬_03</th>\n",
              "      <td>美·EU 핵심광물 확보 위해 '구매자 클럽' 결성 추진</td>\n",
              "      <td>http://www.snmnews.com/news/articleView.html?i...</td>\n",
              "    </tr>\n",
              "    <tr>\n",
              "      <th>2023_리튬_04</th>\n",
              "      <td>케이피에스, 세기리텍 인수 폐배터리 리사이클링 산업 본격 진출…4월부터 실적반영</td>\n",
              "      <td>http://www.nspna.com/news/?mode=view&amp;newsid=62...</td>\n",
              "    </tr>\n",
              "    <tr>\n",
              "      <th>2023_리튬_05</th>\n",
              "      <td>권영수 LG엔솔 부회장, '배터리 전쟁' 상대 중국 출장...세계 1위 공략</td>\n",
              "      <td>http://www.seoulwire.com/news/articleView.html...</td>\n",
              "    </tr>\n",
              "  </tbody>\n",
              "</table>\n",
              "</div>\n",
              "      <button class=\"colab-df-convert\" onclick=\"convertToInteractive('df-3b998860-5645-4692-b710-1cfcf3d61706')\"\n",
              "              title=\"Convert this dataframe to an interactive table.\"\n",
              "              style=\"display:none;\">\n",
              "        \n",
              "  <svg xmlns=\"http://www.w3.org/2000/svg\" height=\"24px\"viewBox=\"0 0 24 24\"\n",
              "       width=\"24px\">\n",
              "    <path d=\"M0 0h24v24H0V0z\" fill=\"none\"/>\n",
              "    <path d=\"M18.56 5.44l.94 2.06.94-2.06 2.06-.94-2.06-.94-.94-2.06-.94 2.06-2.06.94zm-11 1L8.5 8.5l.94-2.06 2.06-.94-2.06-.94L8.5 2.5l-.94 2.06-2.06.94zm10 10l.94 2.06.94-2.06 2.06-.94-2.06-.94-.94-2.06-.94 2.06-2.06.94z\"/><path d=\"M17.41 7.96l-1.37-1.37c-.4-.4-.92-.59-1.43-.59-.52 0-1.04.2-1.43.59L10.3 9.45l-7.72 7.72c-.78.78-.78 2.05 0 2.83L4 21.41c.39.39.9.59 1.41.59.51 0 1.02-.2 1.41-.59l7.78-7.78 2.81-2.81c.8-.78.8-2.07 0-2.86zM5.41 20L4 18.59l7.72-7.72 1.47 1.35L5.41 20z\"/>\n",
              "  </svg>\n",
              "      </button>\n",
              "      \n",
              "  <style>\n",
              "    .colab-df-container {\n",
              "      display:flex;\n",
              "      flex-wrap:wrap;\n",
              "      gap: 12px;\n",
              "    }\n",
              "\n",
              "    .colab-df-convert {\n",
              "      background-color: #E8F0FE;\n",
              "      border: none;\n",
              "      border-radius: 50%;\n",
              "      cursor: pointer;\n",
              "      display: none;\n",
              "      fill: #1967D2;\n",
              "      height: 32px;\n",
              "      padding: 0 0 0 0;\n",
              "      width: 32px;\n",
              "    }\n",
              "\n",
              "    .colab-df-convert:hover {\n",
              "      background-color: #E2EBFA;\n",
              "      box-shadow: 0px 1px 2px rgba(60, 64, 67, 0.3), 0px 1px 3px 1px rgba(60, 64, 67, 0.15);\n",
              "      fill: #174EA6;\n",
              "    }\n",
              "\n",
              "    [theme=dark] .colab-df-convert {\n",
              "      background-color: #3B4455;\n",
              "      fill: #D2E3FC;\n",
              "    }\n",
              "\n",
              "    [theme=dark] .colab-df-convert:hover {\n",
              "      background-color: #434B5C;\n",
              "      box-shadow: 0px 1px 3px 1px rgba(0, 0, 0, 0.15);\n",
              "      filter: drop-shadow(0px 1px 2px rgba(0, 0, 0, 0.3));\n",
              "      fill: #FFFFFF;\n",
              "    }\n",
              "  </style>\n",
              "\n",
              "      <script>\n",
              "        const buttonEl =\n",
              "          document.querySelector('#df-3b998860-5645-4692-b710-1cfcf3d61706 button.colab-df-convert');\n",
              "        buttonEl.style.display =\n",
              "          google.colab.kernel.accessAllowed ? 'block' : 'none';\n",
              "\n",
              "        async function convertToInteractive(key) {\n",
              "          const element = document.querySelector('#df-3b998860-5645-4692-b710-1cfcf3d61706');\n",
              "          const dataTable =\n",
              "            await google.colab.kernel.invokeFunction('convertToInteractive',\n",
              "                                                     [key], {});\n",
              "          if (!dataTable) return;\n",
              "\n",
              "          const docLinkHtml = 'Like what you see? Visit the ' +\n",
              "            '<a target=\"_blank\" href=https://colab.research.google.com/notebooks/data_table.ipynb>data table notebook</a>'\n",
              "            + ' to learn more about interactive tables.';\n",
              "          element.innerHTML = '';\n",
              "          dataTable['output_type'] = 'display_data';\n",
              "          await google.colab.output.renderOutput(dataTable, element);\n",
              "          const docLink = document.createElement('div');\n",
              "          docLink.innerHTML = docLinkHtml;\n",
              "          element.appendChild(docLink);\n",
              "        }\n",
              "      </script>\n",
              "    </div>\n",
              "  </div>\n",
              "  "
            ]
          },
          "metadata": {},
          "execution_count": 100
        }
      ]
    },
    {
      "cell_type": "code",
      "source": [
        "df[['link', 'title']]"
      ],
      "metadata": {
        "colab": {
          "base_uri": "https://localhost:8080/",
          "height": 363
        },
        "id": "ZE-lC1-pkhCy",
        "outputId": "303fe7e5-cd58-43ed-d10c-013464eca09d"
      },
      "execution_count": null,
      "outputs": [
        {
          "output_type": "execute_result",
          "data": {
            "text/plain": [
              "                                                         link  \\\n",
              "2023_리튬_01        https://zdnet.co.kr/view/?no=20230313092957   \n",
              "2023_리튬_02  https://it.chosun.com/site/data/html_dir/2023/...   \n",
              "2023_리튬_03  http://www.snmnews.com/news/articleView.html?i...   \n",
              "2023_리튬_04  http://www.nspna.com/news/?mode=view&newsid=62...   \n",
              "2023_리튬_05  http://www.seoulwire.com/news/articleView.html...   \n",
              "2023_리튬_06  http://news.heraldcorp.com/view.php?ud=2023031...   \n",
              "2023_리튬_07  http://www.g-enews.com/ko-kr/news/article/news...   \n",
              "2023_리튬_08  http://www.shinailbo.co.kr/news/articleView.ht...   \n",
              "2023_리튬_09  https://www.autodaily.co.kr/news/articleView.h...   \n",
              "2023_리튬_10  https://weekly.hankooki.com/news/articleView.h...   \n",
              "\n",
              "                                                    title  \n",
              "2023_리튬_01                        권영수 LG엔솔 부회장, 中 공장 첫 출장  \n",
              "2023_리튬_02              권영수 LG엔솔 부회장, 테슬라 공급 배터리 점검차 中 출장  \n",
              "2023_리튬_03                 美·EU 핵심광물 확보 위해 '구매자 클럽' 결성 추진  \n",
              "2023_리튬_04   케이피에스, 세기리텍 인수 폐배터리 리사이클링 산업 본격 진출…4월부터 실적반영  \n",
              "2023_리튬_05     권영수 LG엔솔 부회장, '배터리 전쟁' 상대 중국 출장...세계 1위 공략  \n",
              "2023_리튬_06      [르포] “데이터센터 이중화 철저” 삼성SDS, 클라우드 핵심기지 첫 공개  \n",
              "2023_리튬_07         권영수 LG엔솔 부회장, 中 출장길 올라…LFP 배터리 생산라인 점검  \n",
              "2023_리튬_08                 LG엔솔 권영수, 취임 후 첫 중국 출장…생산라인 점검  \n",
              "2023_리튬_09  \"테슬라용 배터리 생산라인 점검\" 권영수 LG엔솔 부회장, 中 난징 공장 첫 방문  \n",
              "2023_리튬_10            4년 만에 화이트리스트 해제 물꼬... 국산 '소부장' 전선은?  "
            ],
            "text/html": [
              "\n",
              "  <div id=\"df-ea23e85d-b86f-4e51-94ee-69cdfe6bf2d3\">\n",
              "    <div class=\"colab-df-container\">\n",
              "      <div>\n",
              "<style scoped>\n",
              "    .dataframe tbody tr th:only-of-type {\n",
              "        vertical-align: middle;\n",
              "    }\n",
              "\n",
              "    .dataframe tbody tr th {\n",
              "        vertical-align: top;\n",
              "    }\n",
              "\n",
              "    .dataframe thead th {\n",
              "        text-align: right;\n",
              "    }\n",
              "</style>\n",
              "<table border=\"1\" class=\"dataframe\">\n",
              "  <thead>\n",
              "    <tr style=\"text-align: right;\">\n",
              "      <th></th>\n",
              "      <th>link</th>\n",
              "      <th>title</th>\n",
              "    </tr>\n",
              "  </thead>\n",
              "  <tbody>\n",
              "    <tr>\n",
              "      <th>2023_리튬_01</th>\n",
              "      <td>https://zdnet.co.kr/view/?no=20230313092957</td>\n",
              "      <td>권영수 LG엔솔 부회장, 中 공장 첫 출장</td>\n",
              "    </tr>\n",
              "    <tr>\n",
              "      <th>2023_리튬_02</th>\n",
              "      <td>https://it.chosun.com/site/data/html_dir/2023/...</td>\n",
              "      <td>권영수 LG엔솔 부회장, 테슬라 공급 배터리 점검차 中 출장</td>\n",
              "    </tr>\n",
              "    <tr>\n",
              "      <th>2023_리튬_03</th>\n",
              "      <td>http://www.snmnews.com/news/articleView.html?i...</td>\n",
              "      <td>美·EU 핵심광물 확보 위해 '구매자 클럽' 결성 추진</td>\n",
              "    </tr>\n",
              "    <tr>\n",
              "      <th>2023_리튬_04</th>\n",
              "      <td>http://www.nspna.com/news/?mode=view&amp;newsid=62...</td>\n",
              "      <td>케이피에스, 세기리텍 인수 폐배터리 리사이클링 산업 본격 진출…4월부터 실적반영</td>\n",
              "    </tr>\n",
              "    <tr>\n",
              "      <th>2023_리튬_05</th>\n",
              "      <td>http://www.seoulwire.com/news/articleView.html...</td>\n",
              "      <td>권영수 LG엔솔 부회장, '배터리 전쟁' 상대 중국 출장...세계 1위 공략</td>\n",
              "    </tr>\n",
              "    <tr>\n",
              "      <th>2023_리튬_06</th>\n",
              "      <td>http://news.heraldcorp.com/view.php?ud=2023031...</td>\n",
              "      <td>[르포] “데이터센터 이중화 철저” 삼성SDS, 클라우드 핵심기지 첫 공개</td>\n",
              "    </tr>\n",
              "    <tr>\n",
              "      <th>2023_리튬_07</th>\n",
              "      <td>http://www.g-enews.com/ko-kr/news/article/news...</td>\n",
              "      <td>권영수 LG엔솔 부회장, 中 출장길 올라…LFP 배터리 생산라인 점검</td>\n",
              "    </tr>\n",
              "    <tr>\n",
              "      <th>2023_리튬_08</th>\n",
              "      <td>http://www.shinailbo.co.kr/news/articleView.ht...</td>\n",
              "      <td>LG엔솔 권영수, 취임 후 첫 중국 출장…생산라인 점검</td>\n",
              "    </tr>\n",
              "    <tr>\n",
              "      <th>2023_리튬_09</th>\n",
              "      <td>https://www.autodaily.co.kr/news/articleView.h...</td>\n",
              "      <td>\"테슬라용 배터리 생산라인 점검\" 권영수 LG엔솔 부회장, 中 난징 공장 첫 방문</td>\n",
              "    </tr>\n",
              "    <tr>\n",
              "      <th>2023_리튬_10</th>\n",
              "      <td>https://weekly.hankooki.com/news/articleView.h...</td>\n",
              "      <td>4년 만에 화이트리스트 해제 물꼬... 국산 '소부장' 전선은?</td>\n",
              "    </tr>\n",
              "  </tbody>\n",
              "</table>\n",
              "</div>\n",
              "      <button class=\"colab-df-convert\" onclick=\"convertToInteractive('df-ea23e85d-b86f-4e51-94ee-69cdfe6bf2d3')\"\n",
              "              title=\"Convert this dataframe to an interactive table.\"\n",
              "              style=\"display:none;\">\n",
              "        \n",
              "  <svg xmlns=\"http://www.w3.org/2000/svg\" height=\"24px\"viewBox=\"0 0 24 24\"\n",
              "       width=\"24px\">\n",
              "    <path d=\"M0 0h24v24H0V0z\" fill=\"none\"/>\n",
              "    <path d=\"M18.56 5.44l.94 2.06.94-2.06 2.06-.94-2.06-.94-.94-2.06-.94 2.06-2.06.94zm-11 1L8.5 8.5l.94-2.06 2.06-.94-2.06-.94L8.5 2.5l-.94 2.06-2.06.94zm10 10l.94 2.06.94-2.06 2.06-.94-2.06-.94-.94-2.06-.94 2.06-2.06.94z\"/><path d=\"M17.41 7.96l-1.37-1.37c-.4-.4-.92-.59-1.43-.59-.52 0-1.04.2-1.43.59L10.3 9.45l-7.72 7.72c-.78.78-.78 2.05 0 2.83L4 21.41c.39.39.9.59 1.41.59.51 0 1.02-.2 1.41-.59l7.78-7.78 2.81-2.81c.8-.78.8-2.07 0-2.86zM5.41 20L4 18.59l7.72-7.72 1.47 1.35L5.41 20z\"/>\n",
              "  </svg>\n",
              "      </button>\n",
              "      \n",
              "  <style>\n",
              "    .colab-df-container {\n",
              "      display:flex;\n",
              "      flex-wrap:wrap;\n",
              "      gap: 12px;\n",
              "    }\n",
              "\n",
              "    .colab-df-convert {\n",
              "      background-color: #E8F0FE;\n",
              "      border: none;\n",
              "      border-radius: 50%;\n",
              "      cursor: pointer;\n",
              "      display: none;\n",
              "      fill: #1967D2;\n",
              "      height: 32px;\n",
              "      padding: 0 0 0 0;\n",
              "      width: 32px;\n",
              "    }\n",
              "\n",
              "    .colab-df-convert:hover {\n",
              "      background-color: #E2EBFA;\n",
              "      box-shadow: 0px 1px 2px rgba(60, 64, 67, 0.3), 0px 1px 3px 1px rgba(60, 64, 67, 0.15);\n",
              "      fill: #174EA6;\n",
              "    }\n",
              "\n",
              "    [theme=dark] .colab-df-convert {\n",
              "      background-color: #3B4455;\n",
              "      fill: #D2E3FC;\n",
              "    }\n",
              "\n",
              "    [theme=dark] .colab-df-convert:hover {\n",
              "      background-color: #434B5C;\n",
              "      box-shadow: 0px 1px 3px 1px rgba(0, 0, 0, 0.15);\n",
              "      filter: drop-shadow(0px 1px 2px rgba(0, 0, 0, 0.3));\n",
              "      fill: #FFFFFF;\n",
              "    }\n",
              "  </style>\n",
              "\n",
              "      <script>\n",
              "        const buttonEl =\n",
              "          document.querySelector('#df-ea23e85d-b86f-4e51-94ee-69cdfe6bf2d3 button.colab-df-convert');\n",
              "        buttonEl.style.display =\n",
              "          google.colab.kernel.accessAllowed ? 'block' : 'none';\n",
              "\n",
              "        async function convertToInteractive(key) {\n",
              "          const element = document.querySelector('#df-ea23e85d-b86f-4e51-94ee-69cdfe6bf2d3');\n",
              "          const dataTable =\n",
              "            await google.colab.kernel.invokeFunction('convertToInteractive',\n",
              "                                                     [key], {});\n",
              "          if (!dataTable) return;\n",
              "\n",
              "          const docLinkHtml = 'Like what you see? Visit the ' +\n",
              "            '<a target=\"_blank\" href=https://colab.research.google.com/notebooks/data_table.ipynb>data table notebook</a>'\n",
              "            + ' to learn more about interactive tables.';\n",
              "          element.innerHTML = '';\n",
              "          dataTable['output_type'] = 'display_data';\n",
              "          await google.colab.output.renderOutput(dataTable, element);\n",
              "          const docLink = document.createElement('div');\n",
              "          docLink.innerHTML = docLinkHtml;\n",
              "          element.appendChild(docLink);\n",
              "        }\n",
              "      </script>\n",
              "    </div>\n",
              "  </div>\n",
              "  "
            ]
          },
          "metadata": {},
          "execution_count": 102
        }
      ]
    },
    {
      "cell_type": "code",
      "source": [
        "df"
      ],
      "metadata": {
        "colab": {
          "base_uri": "https://localhost:8080/",
          "height": 363
        },
        "id": "fLpqUUenkzZP",
        "outputId": "51acdb31-a83d-48d1-c0cf-2fb1f470d18b"
      },
      "execution_count": null,
      "outputs": [
        {
          "output_type": "execute_result",
          "data": {
            "text/plain": [
              "                                                    title  \\\n",
              "2023_리튬_01                        권영수 LG엔솔 부회장, 中 공장 첫 출장   \n",
              "2023_리튬_02              권영수 LG엔솔 부회장, 테슬라 공급 배터리 점검차 中 출장   \n",
              "2023_리튬_03                 美·EU 핵심광물 확보 위해 '구매자 클럽' 결성 추진   \n",
              "2023_리튬_04   케이피에스, 세기리텍 인수 폐배터리 리사이클링 산업 본격 진출…4월부터 실적반영   \n",
              "2023_리튬_05     권영수 LG엔솔 부회장, '배터리 전쟁' 상대 중국 출장...세계 1위 공략   \n",
              "2023_리튬_06      [르포] “데이터센터 이중화 철저” 삼성SDS, 클라우드 핵심기지 첫 공개   \n",
              "2023_리튬_07         권영수 LG엔솔 부회장, 中 출장길 올라…LFP 배터리 생산라인 점검   \n",
              "2023_리튬_08                 LG엔솔 권영수, 취임 후 첫 중국 출장…생산라인 점검   \n",
              "2023_리튬_09  \"테슬라용 배터리 생산라인 점검\" 권영수 LG엔솔 부회장, 中 난징 공장 첫 방문   \n",
              "2023_리튬_10            4년 만에 화이트리스트 해제 물꼬... 국산 '소부장' 전선은?   \n",
              "\n",
              "                                                         link  \n",
              "2023_리튬_01        https://zdnet.co.kr/view/?no=20230313092957  \n",
              "2023_리튬_02  https://it.chosun.com/site/data/html_dir/2023/...  \n",
              "2023_리튬_03  http://www.snmnews.com/news/articleView.html?i...  \n",
              "2023_리튬_04  http://www.nspna.com/news/?mode=view&newsid=62...  \n",
              "2023_리튬_05  http://www.seoulwire.com/news/articleView.html...  \n",
              "2023_리튬_06  http://news.heraldcorp.com/view.php?ud=2023031...  \n",
              "2023_리튬_07  http://www.g-enews.com/ko-kr/news/article/news...  \n",
              "2023_리튬_08  http://www.shinailbo.co.kr/news/articleView.ht...  \n",
              "2023_리튬_09  https://www.autodaily.co.kr/news/articleView.h...  \n",
              "2023_리튬_10  https://weekly.hankooki.com/news/articleView.h...  "
            ],
            "text/html": [
              "\n",
              "  <div id=\"df-e7eabe82-c7ba-4bb1-b151-0e0f3c7e8252\">\n",
              "    <div class=\"colab-df-container\">\n",
              "      <div>\n",
              "<style scoped>\n",
              "    .dataframe tbody tr th:only-of-type {\n",
              "        vertical-align: middle;\n",
              "    }\n",
              "\n",
              "    .dataframe tbody tr th {\n",
              "        vertical-align: top;\n",
              "    }\n",
              "\n",
              "    .dataframe thead th {\n",
              "        text-align: right;\n",
              "    }\n",
              "</style>\n",
              "<table border=\"1\" class=\"dataframe\">\n",
              "  <thead>\n",
              "    <tr style=\"text-align: right;\">\n",
              "      <th></th>\n",
              "      <th>title</th>\n",
              "      <th>link</th>\n",
              "    </tr>\n",
              "  </thead>\n",
              "  <tbody>\n",
              "    <tr>\n",
              "      <th>2023_리튬_01</th>\n",
              "      <td>권영수 LG엔솔 부회장, 中 공장 첫 출장</td>\n",
              "      <td>https://zdnet.co.kr/view/?no=20230313092957</td>\n",
              "    </tr>\n",
              "    <tr>\n",
              "      <th>2023_리튬_02</th>\n",
              "      <td>권영수 LG엔솔 부회장, 테슬라 공급 배터리 점검차 中 출장</td>\n",
              "      <td>https://it.chosun.com/site/data/html_dir/2023/...</td>\n",
              "    </tr>\n",
              "    <tr>\n",
              "      <th>2023_리튬_03</th>\n",
              "      <td>美·EU 핵심광물 확보 위해 '구매자 클럽' 결성 추진</td>\n",
              "      <td>http://www.snmnews.com/news/articleView.html?i...</td>\n",
              "    </tr>\n",
              "    <tr>\n",
              "      <th>2023_리튬_04</th>\n",
              "      <td>케이피에스, 세기리텍 인수 폐배터리 리사이클링 산업 본격 진출…4월부터 실적반영</td>\n",
              "      <td>http://www.nspna.com/news/?mode=view&amp;newsid=62...</td>\n",
              "    </tr>\n",
              "    <tr>\n",
              "      <th>2023_리튬_05</th>\n",
              "      <td>권영수 LG엔솔 부회장, '배터리 전쟁' 상대 중국 출장...세계 1위 공략</td>\n",
              "      <td>http://www.seoulwire.com/news/articleView.html...</td>\n",
              "    </tr>\n",
              "    <tr>\n",
              "      <th>2023_리튬_06</th>\n",
              "      <td>[르포] “데이터센터 이중화 철저” 삼성SDS, 클라우드 핵심기지 첫 공개</td>\n",
              "      <td>http://news.heraldcorp.com/view.php?ud=2023031...</td>\n",
              "    </tr>\n",
              "    <tr>\n",
              "      <th>2023_리튬_07</th>\n",
              "      <td>권영수 LG엔솔 부회장, 中 출장길 올라…LFP 배터리 생산라인 점검</td>\n",
              "      <td>http://www.g-enews.com/ko-kr/news/article/news...</td>\n",
              "    </tr>\n",
              "    <tr>\n",
              "      <th>2023_리튬_08</th>\n",
              "      <td>LG엔솔 권영수, 취임 후 첫 중국 출장…생산라인 점검</td>\n",
              "      <td>http://www.shinailbo.co.kr/news/articleView.ht...</td>\n",
              "    </tr>\n",
              "    <tr>\n",
              "      <th>2023_리튬_09</th>\n",
              "      <td>\"테슬라용 배터리 생산라인 점검\" 권영수 LG엔솔 부회장, 中 난징 공장 첫 방문</td>\n",
              "      <td>https://www.autodaily.co.kr/news/articleView.h...</td>\n",
              "    </tr>\n",
              "    <tr>\n",
              "      <th>2023_리튬_10</th>\n",
              "      <td>4년 만에 화이트리스트 해제 물꼬... 국산 '소부장' 전선은?</td>\n",
              "      <td>https://weekly.hankooki.com/news/articleView.h...</td>\n",
              "    </tr>\n",
              "  </tbody>\n",
              "</table>\n",
              "</div>\n",
              "      <button class=\"colab-df-convert\" onclick=\"convertToInteractive('df-e7eabe82-c7ba-4bb1-b151-0e0f3c7e8252')\"\n",
              "              title=\"Convert this dataframe to an interactive table.\"\n",
              "              style=\"display:none;\">\n",
              "        \n",
              "  <svg xmlns=\"http://www.w3.org/2000/svg\" height=\"24px\"viewBox=\"0 0 24 24\"\n",
              "       width=\"24px\">\n",
              "    <path d=\"M0 0h24v24H0V0z\" fill=\"none\"/>\n",
              "    <path d=\"M18.56 5.44l.94 2.06.94-2.06 2.06-.94-2.06-.94-.94-2.06-.94 2.06-2.06.94zm-11 1L8.5 8.5l.94-2.06 2.06-.94-2.06-.94L8.5 2.5l-.94 2.06-2.06.94zm10 10l.94 2.06.94-2.06 2.06-.94-2.06-.94-.94-2.06-.94 2.06-2.06.94z\"/><path d=\"M17.41 7.96l-1.37-1.37c-.4-.4-.92-.59-1.43-.59-.52 0-1.04.2-1.43.59L10.3 9.45l-7.72 7.72c-.78.78-.78 2.05 0 2.83L4 21.41c.39.39.9.59 1.41.59.51 0 1.02-.2 1.41-.59l7.78-7.78 2.81-2.81c.8-.78.8-2.07 0-2.86zM5.41 20L4 18.59l7.72-7.72 1.47 1.35L5.41 20z\"/>\n",
              "  </svg>\n",
              "      </button>\n",
              "      \n",
              "  <style>\n",
              "    .colab-df-container {\n",
              "      display:flex;\n",
              "      flex-wrap:wrap;\n",
              "      gap: 12px;\n",
              "    }\n",
              "\n",
              "    .colab-df-convert {\n",
              "      background-color: #E8F0FE;\n",
              "      border: none;\n",
              "      border-radius: 50%;\n",
              "      cursor: pointer;\n",
              "      display: none;\n",
              "      fill: #1967D2;\n",
              "      height: 32px;\n",
              "      padding: 0 0 0 0;\n",
              "      width: 32px;\n",
              "    }\n",
              "\n",
              "    .colab-df-convert:hover {\n",
              "      background-color: #E2EBFA;\n",
              "      box-shadow: 0px 1px 2px rgba(60, 64, 67, 0.3), 0px 1px 3px 1px rgba(60, 64, 67, 0.15);\n",
              "      fill: #174EA6;\n",
              "    }\n",
              "\n",
              "    [theme=dark] .colab-df-convert {\n",
              "      background-color: #3B4455;\n",
              "      fill: #D2E3FC;\n",
              "    }\n",
              "\n",
              "    [theme=dark] .colab-df-convert:hover {\n",
              "      background-color: #434B5C;\n",
              "      box-shadow: 0px 1px 3px 1px rgba(0, 0, 0, 0.15);\n",
              "      filter: drop-shadow(0px 1px 2px rgba(0, 0, 0, 0.3));\n",
              "      fill: #FFFFFF;\n",
              "    }\n",
              "  </style>\n",
              "\n",
              "      <script>\n",
              "        const buttonEl =\n",
              "          document.querySelector('#df-e7eabe82-c7ba-4bb1-b151-0e0f3c7e8252 button.colab-df-convert');\n",
              "        buttonEl.style.display =\n",
              "          google.colab.kernel.accessAllowed ? 'block' : 'none';\n",
              "\n",
              "        async function convertToInteractive(key) {\n",
              "          const element = document.querySelector('#df-e7eabe82-c7ba-4bb1-b151-0e0f3c7e8252');\n",
              "          const dataTable =\n",
              "            await google.colab.kernel.invokeFunction('convertToInteractive',\n",
              "                                                     [key], {});\n",
              "          if (!dataTable) return;\n",
              "\n",
              "          const docLinkHtml = 'Like what you see? Visit the ' +\n",
              "            '<a target=\"_blank\" href=https://colab.research.google.com/notebooks/data_table.ipynb>data table notebook</a>'\n",
              "            + ' to learn more about interactive tables.';\n",
              "          element.innerHTML = '';\n",
              "          dataTable['output_type'] = 'display_data';\n",
              "          await google.colab.output.renderOutput(dataTable, element);\n",
              "          const docLink = document.createElement('div');\n",
              "          docLink.innerHTML = docLinkHtml;\n",
              "          element.appendChild(docLink);\n",
              "        }\n",
              "      </script>\n",
              "    </div>\n",
              "  </div>\n",
              "  "
            ]
          },
          "metadata": {},
          "execution_count": 105
        }
      ]
    },
    {
      "cell_type": "code",
      "source": [
        "# df.to_csv('lit.csv')\n",
        "df.to_excel('lit.xlsx')"
      ],
      "metadata": {
        "id": "S_ky4o0Hk0dk"
      },
      "execution_count": null,
      "outputs": []
    },
    {
      "cell_type": "code",
      "source": [
        "from google.colab import files\n",
        "\n",
        "files.download('lit.xlsx')\n",
        "files.download('lit.csv')"
      ],
      "metadata": {
        "colab": {
          "base_uri": "https://localhost:8080/",
          "height": 17
        },
        "id": "H0CnECBck-yD",
        "outputId": "d12aa31e-7472-40d8-fd18-c6f907dac5a2"
      },
      "execution_count": null,
      "outputs": [
        {
          "output_type": "display_data",
          "data": {
            "text/plain": [
              "<IPython.core.display.Javascript object>"
            ],
            "application/javascript": [
              "\n",
              "    async function download(id, filename, size) {\n",
              "      if (!google.colab.kernel.accessAllowed) {\n",
              "        return;\n",
              "      }\n",
              "      const div = document.createElement('div');\n",
              "      const label = document.createElement('label');\n",
              "      label.textContent = `Downloading \"${filename}\": `;\n",
              "      div.appendChild(label);\n",
              "      const progress = document.createElement('progress');\n",
              "      progress.max = size;\n",
              "      div.appendChild(progress);\n",
              "      document.body.appendChild(div);\n",
              "\n",
              "      const buffers = [];\n",
              "      let downloaded = 0;\n",
              "\n",
              "      const channel = await google.colab.kernel.comms.open(id);\n",
              "      // Send a message to notify the kernel that we're ready.\n",
              "      channel.send({})\n",
              "\n",
              "      for await (const message of channel.messages) {\n",
              "        // Send a message to notify the kernel that we're ready.\n",
              "        channel.send({})\n",
              "        if (message.buffers) {\n",
              "          for (const buffer of message.buffers) {\n",
              "            buffers.push(buffer);\n",
              "            downloaded += buffer.byteLength;\n",
              "            progress.value = downloaded;\n",
              "          }\n",
              "        }\n",
              "      }\n",
              "      const blob = new Blob(buffers, {type: 'application/binary'});\n",
              "      const a = document.createElement('a');\n",
              "      a.href = window.URL.createObjectURL(blob);\n",
              "      a.download = filename;\n",
              "      div.appendChild(a);\n",
              "      a.click();\n",
              "      div.remove();\n",
              "    }\n",
              "  "
            ]
          },
          "metadata": {}
        },
        {
          "output_type": "display_data",
          "data": {
            "text/plain": [
              "<IPython.core.display.Javascript object>"
            ],
            "application/javascript": [
              "download(\"download_508b4790-4960-4f69-9889-b4f560ba38c7\", \"lit.xlsx\", 5999)"
            ]
          },
          "metadata": {}
        },
        {
          "output_type": "display_data",
          "data": {
            "text/plain": [
              "<IPython.core.display.Javascript object>"
            ],
            "application/javascript": [
              "\n",
              "    async function download(id, filename, size) {\n",
              "      if (!google.colab.kernel.accessAllowed) {\n",
              "        return;\n",
              "      }\n",
              "      const div = document.createElement('div');\n",
              "      const label = document.createElement('label');\n",
              "      label.textContent = `Downloading \"${filename}\": `;\n",
              "      div.appendChild(label);\n",
              "      const progress = document.createElement('progress');\n",
              "      progress.max = size;\n",
              "      div.appendChild(progress);\n",
              "      document.body.appendChild(div);\n",
              "\n",
              "      const buffers = [];\n",
              "      let downloaded = 0;\n",
              "\n",
              "      const channel = await google.colab.kernel.comms.open(id);\n",
              "      // Send a message to notify the kernel that we're ready.\n",
              "      channel.send({})\n",
              "\n",
              "      for await (const message of channel.messages) {\n",
              "        // Send a message to notify the kernel that we're ready.\n",
              "        channel.send({})\n",
              "        if (message.buffers) {\n",
              "          for (const buffer of message.buffers) {\n",
              "            buffers.push(buffer);\n",
              "            downloaded += buffer.byteLength;\n",
              "            progress.value = downloaded;\n",
              "          }\n",
              "        }\n",
              "      }\n",
              "      const blob = new Blob(buffers, {type: 'application/binary'});\n",
              "      const a = document.createElement('a');\n",
              "      a.href = window.URL.createObjectURL(blob);\n",
              "      a.download = filename;\n",
              "      div.appendChild(a);\n",
              "      a.click();\n",
              "      div.remove();\n",
              "    }\n",
              "  "
            ]
          },
          "metadata": {}
        },
        {
          "output_type": "display_data",
          "data": {
            "text/plain": [
              "<IPython.core.display.Javascript object>"
            ],
            "application/javascript": [
              "download(\"download_5f8726c6-7069-43b3-a4bf-560c5b50c0d3\", \"lit.csv\", 1641)"
            ]
          },
          "metadata": {}
        }
      ]
    },
    {
      "cell_type": "code",
      "source": [
        "df2 = pd.read_csv('lit.csv')\n",
        "df2"
      ],
      "metadata": {
        "colab": {
          "base_uri": "https://localhost:8080/",
          "height": 363
        },
        "id": "GsOozDvllUFt",
        "outputId": "5462587d-dfe4-4a13-d1c5-7e0f3e8d0a74"
      },
      "execution_count": null,
      "outputs": [
        {
          "output_type": "execute_result",
          "data": {
            "text/plain": [
              "   Unnamed: 0                                          title  \\\n",
              "0  2023_리튬_01                        권영수 LG엔솔 부회장, 中 공장 첫 출장   \n",
              "1  2023_리튬_02              권영수 LG엔솔 부회장, 테슬라 공급 배터리 점검차 中 출장   \n",
              "2  2023_리튬_03                 美·EU 핵심광물 확보 위해 '구매자 클럽' 결성 추진   \n",
              "3  2023_리튬_04   케이피에스, 세기리텍 인수 폐배터리 리사이클링 산업 본격 진출…4월부터 실적반영   \n",
              "4  2023_리튬_05     권영수 LG엔솔 부회장, '배터리 전쟁' 상대 중국 출장...세계 1위 공략   \n",
              "5  2023_리튬_06      [르포] “데이터센터 이중화 철저” 삼성SDS, 클라우드 핵심기지 첫 공개   \n",
              "6  2023_리튬_07         권영수 LG엔솔 부회장, 中 출장길 올라…LFP 배터리 생산라인 점검   \n",
              "7  2023_리튬_08                 LG엔솔 권영수, 취임 후 첫 중국 출장…생산라인 점검   \n",
              "8  2023_리튬_09  \"테슬라용 배터리 생산라인 점검\" 권영수 LG엔솔 부회장, 中 난징 공장 첫 방문   \n",
              "9  2023_리튬_10            4년 만에 화이트리스트 해제 물꼬... 국산 '소부장' 전선은?   \n",
              "\n",
              "                                                link  \n",
              "0        https://zdnet.co.kr/view/?no=20230313092957  \n",
              "1  https://it.chosun.com/site/data/html_dir/2023/...  \n",
              "2  http://www.snmnews.com/news/articleView.html?i...  \n",
              "3  http://www.nspna.com/news/?mode=view&newsid=62...  \n",
              "4  http://www.seoulwire.com/news/articleView.html...  \n",
              "5  http://news.heraldcorp.com/view.php?ud=2023031...  \n",
              "6  http://www.g-enews.com/ko-kr/news/article/news...  \n",
              "7  http://www.shinailbo.co.kr/news/articleView.ht...  \n",
              "8  https://www.autodaily.co.kr/news/articleView.h...  \n",
              "9  https://weekly.hankooki.com/news/articleView.h...  "
            ],
            "text/html": [
              "\n",
              "  <div id=\"df-7bb6e2b4-9c60-4653-9b08-7415d75a7b64\">\n",
              "    <div class=\"colab-df-container\">\n",
              "      <div>\n",
              "<style scoped>\n",
              "    .dataframe tbody tr th:only-of-type {\n",
              "        vertical-align: middle;\n",
              "    }\n",
              "\n",
              "    .dataframe tbody tr th {\n",
              "        vertical-align: top;\n",
              "    }\n",
              "\n",
              "    .dataframe thead th {\n",
              "        text-align: right;\n",
              "    }\n",
              "</style>\n",
              "<table border=\"1\" class=\"dataframe\">\n",
              "  <thead>\n",
              "    <tr style=\"text-align: right;\">\n",
              "      <th></th>\n",
              "      <th>Unnamed: 0</th>\n",
              "      <th>title</th>\n",
              "      <th>link</th>\n",
              "    </tr>\n",
              "  </thead>\n",
              "  <tbody>\n",
              "    <tr>\n",
              "      <th>0</th>\n",
              "      <td>2023_리튬_01</td>\n",
              "      <td>권영수 LG엔솔 부회장, 中 공장 첫 출장</td>\n",
              "      <td>https://zdnet.co.kr/view/?no=20230313092957</td>\n",
              "    </tr>\n",
              "    <tr>\n",
              "      <th>1</th>\n",
              "      <td>2023_리튬_02</td>\n",
              "      <td>권영수 LG엔솔 부회장, 테슬라 공급 배터리 점검차 中 출장</td>\n",
              "      <td>https://it.chosun.com/site/data/html_dir/2023/...</td>\n",
              "    </tr>\n",
              "    <tr>\n",
              "      <th>2</th>\n",
              "      <td>2023_리튬_03</td>\n",
              "      <td>美·EU 핵심광물 확보 위해 '구매자 클럽' 결성 추진</td>\n",
              "      <td>http://www.snmnews.com/news/articleView.html?i...</td>\n",
              "    </tr>\n",
              "    <tr>\n",
              "      <th>3</th>\n",
              "      <td>2023_리튬_04</td>\n",
              "      <td>케이피에스, 세기리텍 인수 폐배터리 리사이클링 산업 본격 진출…4월부터 실적반영</td>\n",
              "      <td>http://www.nspna.com/news/?mode=view&amp;newsid=62...</td>\n",
              "    </tr>\n",
              "    <tr>\n",
              "      <th>4</th>\n",
              "      <td>2023_리튬_05</td>\n",
              "      <td>권영수 LG엔솔 부회장, '배터리 전쟁' 상대 중국 출장...세계 1위 공략</td>\n",
              "      <td>http://www.seoulwire.com/news/articleView.html...</td>\n",
              "    </tr>\n",
              "    <tr>\n",
              "      <th>5</th>\n",
              "      <td>2023_리튬_06</td>\n",
              "      <td>[르포] “데이터센터 이중화 철저” 삼성SDS, 클라우드 핵심기지 첫 공개</td>\n",
              "      <td>http://news.heraldcorp.com/view.php?ud=2023031...</td>\n",
              "    </tr>\n",
              "    <tr>\n",
              "      <th>6</th>\n",
              "      <td>2023_리튬_07</td>\n",
              "      <td>권영수 LG엔솔 부회장, 中 출장길 올라…LFP 배터리 생산라인 점검</td>\n",
              "      <td>http://www.g-enews.com/ko-kr/news/article/news...</td>\n",
              "    </tr>\n",
              "    <tr>\n",
              "      <th>7</th>\n",
              "      <td>2023_리튬_08</td>\n",
              "      <td>LG엔솔 권영수, 취임 후 첫 중국 출장…생산라인 점검</td>\n",
              "      <td>http://www.shinailbo.co.kr/news/articleView.ht...</td>\n",
              "    </tr>\n",
              "    <tr>\n",
              "      <th>8</th>\n",
              "      <td>2023_리튬_09</td>\n",
              "      <td>\"테슬라용 배터리 생산라인 점검\" 권영수 LG엔솔 부회장, 中 난징 공장 첫 방문</td>\n",
              "      <td>https://www.autodaily.co.kr/news/articleView.h...</td>\n",
              "    </tr>\n",
              "    <tr>\n",
              "      <th>9</th>\n",
              "      <td>2023_리튬_10</td>\n",
              "      <td>4년 만에 화이트리스트 해제 물꼬... 국산 '소부장' 전선은?</td>\n",
              "      <td>https://weekly.hankooki.com/news/articleView.h...</td>\n",
              "    </tr>\n",
              "  </tbody>\n",
              "</table>\n",
              "</div>\n",
              "      <button class=\"colab-df-convert\" onclick=\"convertToInteractive('df-7bb6e2b4-9c60-4653-9b08-7415d75a7b64')\"\n",
              "              title=\"Convert this dataframe to an interactive table.\"\n",
              "              style=\"display:none;\">\n",
              "        \n",
              "  <svg xmlns=\"http://www.w3.org/2000/svg\" height=\"24px\"viewBox=\"0 0 24 24\"\n",
              "       width=\"24px\">\n",
              "    <path d=\"M0 0h24v24H0V0z\" fill=\"none\"/>\n",
              "    <path d=\"M18.56 5.44l.94 2.06.94-2.06 2.06-.94-2.06-.94-.94-2.06-.94 2.06-2.06.94zm-11 1L8.5 8.5l.94-2.06 2.06-.94-2.06-.94L8.5 2.5l-.94 2.06-2.06.94zm10 10l.94 2.06.94-2.06 2.06-.94-2.06-.94-.94-2.06-.94 2.06-2.06.94z\"/><path d=\"M17.41 7.96l-1.37-1.37c-.4-.4-.92-.59-1.43-.59-.52 0-1.04.2-1.43.59L10.3 9.45l-7.72 7.72c-.78.78-.78 2.05 0 2.83L4 21.41c.39.39.9.59 1.41.59.51 0 1.02-.2 1.41-.59l7.78-7.78 2.81-2.81c.8-.78.8-2.07 0-2.86zM5.41 20L4 18.59l7.72-7.72 1.47 1.35L5.41 20z\"/>\n",
              "  </svg>\n",
              "      </button>\n",
              "      \n",
              "  <style>\n",
              "    .colab-df-container {\n",
              "      display:flex;\n",
              "      flex-wrap:wrap;\n",
              "      gap: 12px;\n",
              "    }\n",
              "\n",
              "    .colab-df-convert {\n",
              "      background-color: #E8F0FE;\n",
              "      border: none;\n",
              "      border-radius: 50%;\n",
              "      cursor: pointer;\n",
              "      display: none;\n",
              "      fill: #1967D2;\n",
              "      height: 32px;\n",
              "      padding: 0 0 0 0;\n",
              "      width: 32px;\n",
              "    }\n",
              "\n",
              "    .colab-df-convert:hover {\n",
              "      background-color: #E2EBFA;\n",
              "      box-shadow: 0px 1px 2px rgba(60, 64, 67, 0.3), 0px 1px 3px 1px rgba(60, 64, 67, 0.15);\n",
              "      fill: #174EA6;\n",
              "    }\n",
              "\n",
              "    [theme=dark] .colab-df-convert {\n",
              "      background-color: #3B4455;\n",
              "      fill: #D2E3FC;\n",
              "    }\n",
              "\n",
              "    [theme=dark] .colab-df-convert:hover {\n",
              "      background-color: #434B5C;\n",
              "      box-shadow: 0px 1px 3px 1px rgba(0, 0, 0, 0.15);\n",
              "      filter: drop-shadow(0px 1px 2px rgba(0, 0, 0, 0.3));\n",
              "      fill: #FFFFFF;\n",
              "    }\n",
              "  </style>\n",
              "\n",
              "      <script>\n",
              "        const buttonEl =\n",
              "          document.querySelector('#df-7bb6e2b4-9c60-4653-9b08-7415d75a7b64 button.colab-df-convert');\n",
              "        buttonEl.style.display =\n",
              "          google.colab.kernel.accessAllowed ? 'block' : 'none';\n",
              "\n",
              "        async function convertToInteractive(key) {\n",
              "          const element = document.querySelector('#df-7bb6e2b4-9c60-4653-9b08-7415d75a7b64');\n",
              "          const dataTable =\n",
              "            await google.colab.kernel.invokeFunction('convertToInteractive',\n",
              "                                                     [key], {});\n",
              "          if (!dataTable) return;\n",
              "\n",
              "          const docLinkHtml = 'Like what you see? Visit the ' +\n",
              "            '<a target=\"_blank\" href=https://colab.research.google.com/notebooks/data_table.ipynb>data table notebook</a>'\n",
              "            + ' to learn more about interactive tables.';\n",
              "          element.innerHTML = '';\n",
              "          dataTable['output_type'] = 'display_data';\n",
              "          await google.colab.output.renderOutput(dataTable, element);\n",
              "          const docLink = document.createElement('div');\n",
              "          docLink.innerHTML = docLinkHtml;\n",
              "          element.appendChild(docLink);\n",
              "        }\n",
              "      </script>\n",
              "    </div>\n",
              "  </div>\n",
              "  "
            ]
          },
          "metadata": {},
          "execution_count": 110
        }
      ]
    },
    {
      "cell_type": "code",
      "source": [
        "df2 = pd.read_csv('lit.csv', index_col=0)\n",
        "df2"
      ],
      "metadata": {
        "colab": {
          "base_uri": "https://localhost:8080/",
          "height": 363
        },
        "id": "jcot6c_alZh5",
        "outputId": "c0fee693-f428-4946-ebbb-7236d72aeb5a"
      },
      "execution_count": null,
      "outputs": [
        {
          "output_type": "execute_result",
          "data": {
            "text/plain": [
              "                                                    title  \\\n",
              "2023_리튬_01                        권영수 LG엔솔 부회장, 中 공장 첫 출장   \n",
              "2023_리튬_02              권영수 LG엔솔 부회장, 테슬라 공급 배터리 점검차 中 출장   \n",
              "2023_리튬_03                 美·EU 핵심광물 확보 위해 '구매자 클럽' 결성 추진   \n",
              "2023_리튬_04   케이피에스, 세기리텍 인수 폐배터리 리사이클링 산업 본격 진출…4월부터 실적반영   \n",
              "2023_리튬_05     권영수 LG엔솔 부회장, '배터리 전쟁' 상대 중국 출장...세계 1위 공략   \n",
              "2023_리튬_06      [르포] “데이터센터 이중화 철저” 삼성SDS, 클라우드 핵심기지 첫 공개   \n",
              "2023_리튬_07         권영수 LG엔솔 부회장, 中 출장길 올라…LFP 배터리 생산라인 점검   \n",
              "2023_리튬_08                 LG엔솔 권영수, 취임 후 첫 중국 출장…생산라인 점검   \n",
              "2023_리튬_09  \"테슬라용 배터리 생산라인 점검\" 권영수 LG엔솔 부회장, 中 난징 공장 첫 방문   \n",
              "2023_리튬_10            4년 만에 화이트리스트 해제 물꼬... 국산 '소부장' 전선은?   \n",
              "\n",
              "                                                         link  \n",
              "2023_리튬_01        https://zdnet.co.kr/view/?no=20230313092957  \n",
              "2023_리튬_02  https://it.chosun.com/site/data/html_dir/2023/...  \n",
              "2023_리튬_03  http://www.snmnews.com/news/articleView.html?i...  \n",
              "2023_리튬_04  http://www.nspna.com/news/?mode=view&newsid=62...  \n",
              "2023_리튬_05  http://www.seoulwire.com/news/articleView.html...  \n",
              "2023_리튬_06  http://news.heraldcorp.com/view.php?ud=2023031...  \n",
              "2023_리튬_07  http://www.g-enews.com/ko-kr/news/article/news...  \n",
              "2023_리튬_08  http://www.shinailbo.co.kr/news/articleView.ht...  \n",
              "2023_리튬_09  https://www.autodaily.co.kr/news/articleView.h...  \n",
              "2023_리튬_10  https://weekly.hankooki.com/news/articleView.h...  "
            ],
            "text/html": [
              "\n",
              "  <div id=\"df-9ba2cf31-5249-498f-9753-0d510bc9c5d4\">\n",
              "    <div class=\"colab-df-container\">\n",
              "      <div>\n",
              "<style scoped>\n",
              "    .dataframe tbody tr th:only-of-type {\n",
              "        vertical-align: middle;\n",
              "    }\n",
              "\n",
              "    .dataframe tbody tr th {\n",
              "        vertical-align: top;\n",
              "    }\n",
              "\n",
              "    .dataframe thead th {\n",
              "        text-align: right;\n",
              "    }\n",
              "</style>\n",
              "<table border=\"1\" class=\"dataframe\">\n",
              "  <thead>\n",
              "    <tr style=\"text-align: right;\">\n",
              "      <th></th>\n",
              "      <th>title</th>\n",
              "      <th>link</th>\n",
              "    </tr>\n",
              "  </thead>\n",
              "  <tbody>\n",
              "    <tr>\n",
              "      <th>2023_리튬_01</th>\n",
              "      <td>권영수 LG엔솔 부회장, 中 공장 첫 출장</td>\n",
              "      <td>https://zdnet.co.kr/view/?no=20230313092957</td>\n",
              "    </tr>\n",
              "    <tr>\n",
              "      <th>2023_리튬_02</th>\n",
              "      <td>권영수 LG엔솔 부회장, 테슬라 공급 배터리 점검차 中 출장</td>\n",
              "      <td>https://it.chosun.com/site/data/html_dir/2023/...</td>\n",
              "    </tr>\n",
              "    <tr>\n",
              "      <th>2023_리튬_03</th>\n",
              "      <td>美·EU 핵심광물 확보 위해 '구매자 클럽' 결성 추진</td>\n",
              "      <td>http://www.snmnews.com/news/articleView.html?i...</td>\n",
              "    </tr>\n",
              "    <tr>\n",
              "      <th>2023_리튬_04</th>\n",
              "      <td>케이피에스, 세기리텍 인수 폐배터리 리사이클링 산업 본격 진출…4월부터 실적반영</td>\n",
              "      <td>http://www.nspna.com/news/?mode=view&amp;newsid=62...</td>\n",
              "    </tr>\n",
              "    <tr>\n",
              "      <th>2023_리튬_05</th>\n",
              "      <td>권영수 LG엔솔 부회장, '배터리 전쟁' 상대 중국 출장...세계 1위 공략</td>\n",
              "      <td>http://www.seoulwire.com/news/articleView.html...</td>\n",
              "    </tr>\n",
              "    <tr>\n",
              "      <th>2023_리튬_06</th>\n",
              "      <td>[르포] “데이터센터 이중화 철저” 삼성SDS, 클라우드 핵심기지 첫 공개</td>\n",
              "      <td>http://news.heraldcorp.com/view.php?ud=2023031...</td>\n",
              "    </tr>\n",
              "    <tr>\n",
              "      <th>2023_리튬_07</th>\n",
              "      <td>권영수 LG엔솔 부회장, 中 출장길 올라…LFP 배터리 생산라인 점검</td>\n",
              "      <td>http://www.g-enews.com/ko-kr/news/article/news...</td>\n",
              "    </tr>\n",
              "    <tr>\n",
              "      <th>2023_리튬_08</th>\n",
              "      <td>LG엔솔 권영수, 취임 후 첫 중국 출장…생산라인 점검</td>\n",
              "      <td>http://www.shinailbo.co.kr/news/articleView.ht...</td>\n",
              "    </tr>\n",
              "    <tr>\n",
              "      <th>2023_리튬_09</th>\n",
              "      <td>\"테슬라용 배터리 생산라인 점검\" 권영수 LG엔솔 부회장, 中 난징 공장 첫 방문</td>\n",
              "      <td>https://www.autodaily.co.kr/news/articleView.h...</td>\n",
              "    </tr>\n",
              "    <tr>\n",
              "      <th>2023_리튬_10</th>\n",
              "      <td>4년 만에 화이트리스트 해제 물꼬... 국산 '소부장' 전선은?</td>\n",
              "      <td>https://weekly.hankooki.com/news/articleView.h...</td>\n",
              "    </tr>\n",
              "  </tbody>\n",
              "</table>\n",
              "</div>\n",
              "      <button class=\"colab-df-convert\" onclick=\"convertToInteractive('df-9ba2cf31-5249-498f-9753-0d510bc9c5d4')\"\n",
              "              title=\"Convert this dataframe to an interactive table.\"\n",
              "              style=\"display:none;\">\n",
              "        \n",
              "  <svg xmlns=\"http://www.w3.org/2000/svg\" height=\"24px\"viewBox=\"0 0 24 24\"\n",
              "       width=\"24px\">\n",
              "    <path d=\"M0 0h24v24H0V0z\" fill=\"none\"/>\n",
              "    <path d=\"M18.56 5.44l.94 2.06.94-2.06 2.06-.94-2.06-.94-.94-2.06-.94 2.06-2.06.94zm-11 1L8.5 8.5l.94-2.06 2.06-.94-2.06-.94L8.5 2.5l-.94 2.06-2.06.94zm10 10l.94 2.06.94-2.06 2.06-.94-2.06-.94-.94-2.06-.94 2.06-2.06.94z\"/><path d=\"M17.41 7.96l-1.37-1.37c-.4-.4-.92-.59-1.43-.59-.52 0-1.04.2-1.43.59L10.3 9.45l-7.72 7.72c-.78.78-.78 2.05 0 2.83L4 21.41c.39.39.9.59 1.41.59.51 0 1.02-.2 1.41-.59l7.78-7.78 2.81-2.81c.8-.78.8-2.07 0-2.86zM5.41 20L4 18.59l7.72-7.72 1.47 1.35L5.41 20z\"/>\n",
              "  </svg>\n",
              "      </button>\n",
              "      \n",
              "  <style>\n",
              "    .colab-df-container {\n",
              "      display:flex;\n",
              "      flex-wrap:wrap;\n",
              "      gap: 12px;\n",
              "    }\n",
              "\n",
              "    .colab-df-convert {\n",
              "      background-color: #E8F0FE;\n",
              "      border: none;\n",
              "      border-radius: 50%;\n",
              "      cursor: pointer;\n",
              "      display: none;\n",
              "      fill: #1967D2;\n",
              "      height: 32px;\n",
              "      padding: 0 0 0 0;\n",
              "      width: 32px;\n",
              "    }\n",
              "\n",
              "    .colab-df-convert:hover {\n",
              "      background-color: #E2EBFA;\n",
              "      box-shadow: 0px 1px 2px rgba(60, 64, 67, 0.3), 0px 1px 3px 1px rgba(60, 64, 67, 0.15);\n",
              "      fill: #174EA6;\n",
              "    }\n",
              "\n",
              "    [theme=dark] .colab-df-convert {\n",
              "      background-color: #3B4455;\n",
              "      fill: #D2E3FC;\n",
              "    }\n",
              "\n",
              "    [theme=dark] .colab-df-convert:hover {\n",
              "      background-color: #434B5C;\n",
              "      box-shadow: 0px 1px 3px 1px rgba(0, 0, 0, 0.15);\n",
              "      filter: drop-shadow(0px 1px 2px rgba(0, 0, 0, 0.3));\n",
              "      fill: #FFFFFF;\n",
              "    }\n",
              "  </style>\n",
              "\n",
              "      <script>\n",
              "        const buttonEl =\n",
              "          document.querySelector('#df-9ba2cf31-5249-498f-9753-0d510bc9c5d4 button.colab-df-convert');\n",
              "        buttonEl.style.display =\n",
              "          google.colab.kernel.accessAllowed ? 'block' : 'none';\n",
              "\n",
              "        async function convertToInteractive(key) {\n",
              "          const element = document.querySelector('#df-9ba2cf31-5249-498f-9753-0d510bc9c5d4');\n",
              "          const dataTable =\n",
              "            await google.colab.kernel.invokeFunction('convertToInteractive',\n",
              "                                                     [key], {});\n",
              "          if (!dataTable) return;\n",
              "\n",
              "          const docLinkHtml = 'Like what you see? Visit the ' +\n",
              "            '<a target=\"_blank\" href=https://colab.research.google.com/notebooks/data_table.ipynb>data table notebook</a>'\n",
              "            + ' to learn more about interactive tables.';\n",
              "          element.innerHTML = '';\n",
              "          dataTable['output_type'] = 'display_data';\n",
              "          await google.colab.output.renderOutput(dataTable, element);\n",
              "          const docLink = document.createElement('div');\n",
              "          docLink.innerHTML = docLinkHtml;\n",
              "          element.appendChild(docLink);\n",
              "        }\n",
              "      </script>\n",
              "    </div>\n",
              "  </div>\n",
              "  "
            ]
          },
          "metadata": {},
          "execution_count": 111
        }
      ]
    },
    {
      "cell_type": "code",
      "source": [
        "from google.colab import files\n",
        "\n",
        "files.upload()"
      ],
      "metadata": {
        "colab": {
          "base_uri": "https://localhost:8080/",
          "height": 512
        },
        "id": "St8hO3Telp2_",
        "outputId": "653dc03b-5850-4129-d1ee-235643b0589a"
      },
      "execution_count": null,
      "outputs": [
        {
          "output_type": "display_data",
          "data": {
            "text/plain": [
              "<IPython.core.display.HTML object>"
            ],
            "text/html": [
              "\n",
              "     <input type=\"file\" id=\"files-c8bf9278-80d6-4175-9ea6-8919d3f7f36d\" name=\"files[]\" multiple disabled\n",
              "        style=\"border:none\" />\n",
              "     <output id=\"result-c8bf9278-80d6-4175-9ea6-8919d3f7f36d\">\n",
              "      Upload widget is only available when the cell has been executed in the\n",
              "      current browser session. Please rerun this cell to enable.\n",
              "      </output>\n",
              "      <script>// Copyright 2017 Google LLC\n",
              "//\n",
              "// Licensed under the Apache License, Version 2.0 (the \"License\");\n",
              "// you may not use this file except in compliance with the License.\n",
              "// You may obtain a copy of the License at\n",
              "//\n",
              "//      http://www.apache.org/licenses/LICENSE-2.0\n",
              "//\n",
              "// Unless required by applicable law or agreed to in writing, software\n",
              "// distributed under the License is distributed on an \"AS IS\" BASIS,\n",
              "// WITHOUT WARRANTIES OR CONDITIONS OF ANY KIND, either express or implied.\n",
              "// See the License for the specific language governing permissions and\n",
              "// limitations under the License.\n",
              "\n",
              "/**\n",
              " * @fileoverview Helpers for google.colab Python module.\n",
              " */\n",
              "(function(scope) {\n",
              "function span(text, styleAttributes = {}) {\n",
              "  const element = document.createElement('span');\n",
              "  element.textContent = text;\n",
              "  for (const key of Object.keys(styleAttributes)) {\n",
              "    element.style[key] = styleAttributes[key];\n",
              "  }\n",
              "  return element;\n",
              "}\n",
              "\n",
              "// Max number of bytes which will be uploaded at a time.\n",
              "const MAX_PAYLOAD_SIZE = 100 * 1024;\n",
              "\n",
              "function _uploadFiles(inputId, outputId) {\n",
              "  const steps = uploadFilesStep(inputId, outputId);\n",
              "  const outputElement = document.getElementById(outputId);\n",
              "  // Cache steps on the outputElement to make it available for the next call\n",
              "  // to uploadFilesContinue from Python.\n",
              "  outputElement.steps = steps;\n",
              "\n",
              "  return _uploadFilesContinue(outputId);\n",
              "}\n",
              "\n",
              "// This is roughly an async generator (not supported in the browser yet),\n",
              "// where there are multiple asynchronous steps and the Python side is going\n",
              "// to poll for completion of each step.\n",
              "// This uses a Promise to block the python side on completion of each step,\n",
              "// then passes the result of the previous step as the input to the next step.\n",
              "function _uploadFilesContinue(outputId) {\n",
              "  const outputElement = document.getElementById(outputId);\n",
              "  const steps = outputElement.steps;\n",
              "\n",
              "  const next = steps.next(outputElement.lastPromiseValue);\n",
              "  return Promise.resolve(next.value.promise).then((value) => {\n",
              "    // Cache the last promise value to make it available to the next\n",
              "    // step of the generator.\n",
              "    outputElement.lastPromiseValue = value;\n",
              "    return next.value.response;\n",
              "  });\n",
              "}\n",
              "\n",
              "/**\n",
              " * Generator function which is called between each async step of the upload\n",
              " * process.\n",
              " * @param {string} inputId Element ID of the input file picker element.\n",
              " * @param {string} outputId Element ID of the output display.\n",
              " * @return {!Iterable<!Object>} Iterable of next steps.\n",
              " */\n",
              "function* uploadFilesStep(inputId, outputId) {\n",
              "  const inputElement = document.getElementById(inputId);\n",
              "  inputElement.disabled = false;\n",
              "\n",
              "  const outputElement = document.getElementById(outputId);\n",
              "  outputElement.innerHTML = '';\n",
              "\n",
              "  const pickedPromise = new Promise((resolve) => {\n",
              "    inputElement.addEventListener('change', (e) => {\n",
              "      resolve(e.target.files);\n",
              "    });\n",
              "  });\n",
              "\n",
              "  const cancel = document.createElement('button');\n",
              "  inputElement.parentElement.appendChild(cancel);\n",
              "  cancel.textContent = 'Cancel upload';\n",
              "  const cancelPromise = new Promise((resolve) => {\n",
              "    cancel.onclick = () => {\n",
              "      resolve(null);\n",
              "    };\n",
              "  });\n",
              "\n",
              "  // Wait for the user to pick the files.\n",
              "  const files = yield {\n",
              "    promise: Promise.race([pickedPromise, cancelPromise]),\n",
              "    response: {\n",
              "      action: 'starting',\n",
              "    }\n",
              "  };\n",
              "\n",
              "  cancel.remove();\n",
              "\n",
              "  // Disable the input element since further picks are not allowed.\n",
              "  inputElement.disabled = true;\n",
              "\n",
              "  if (!files) {\n",
              "    return {\n",
              "      response: {\n",
              "        action: 'complete',\n",
              "      }\n",
              "    };\n",
              "  }\n",
              "\n",
              "  for (const file of files) {\n",
              "    const li = document.createElement('li');\n",
              "    li.append(span(file.name, {fontWeight: 'bold'}));\n",
              "    li.append(span(\n",
              "        `(${file.type || 'n/a'}) - ${file.size} bytes, ` +\n",
              "        `last modified: ${\n",
              "            file.lastModifiedDate ? file.lastModifiedDate.toLocaleDateString() :\n",
              "                                    'n/a'} - `));\n",
              "    const percent = span('0% done');\n",
              "    li.appendChild(percent);\n",
              "\n",
              "    outputElement.appendChild(li);\n",
              "\n",
              "    const fileDataPromise = new Promise((resolve) => {\n",
              "      const reader = new FileReader();\n",
              "      reader.onload = (e) => {\n",
              "        resolve(e.target.result);\n",
              "      };\n",
              "      reader.readAsArrayBuffer(file);\n",
              "    });\n",
              "    // Wait for the data to be ready.\n",
              "    let fileData = yield {\n",
              "      promise: fileDataPromise,\n",
              "      response: {\n",
              "        action: 'continue',\n",
              "      }\n",
              "    };\n",
              "\n",
              "    // Use a chunked sending to avoid message size limits. See b/62115660.\n",
              "    let position = 0;\n",
              "    do {\n",
              "      const length = Math.min(fileData.byteLength - position, MAX_PAYLOAD_SIZE);\n",
              "      const chunk = new Uint8Array(fileData, position, length);\n",
              "      position += length;\n",
              "\n",
              "      const base64 = btoa(String.fromCharCode.apply(null, chunk));\n",
              "      yield {\n",
              "        response: {\n",
              "          action: 'append',\n",
              "          file: file.name,\n",
              "          data: base64,\n",
              "        },\n",
              "      };\n",
              "\n",
              "      let percentDone = fileData.byteLength === 0 ?\n",
              "          100 :\n",
              "          Math.round((position / fileData.byteLength) * 100);\n",
              "      percent.textContent = `${percentDone}% done`;\n",
              "\n",
              "    } while (position < fileData.byteLength);\n",
              "  }\n",
              "\n",
              "  // All done.\n",
              "  yield {\n",
              "    response: {\n",
              "      action: 'complete',\n",
              "    }\n",
              "  };\n",
              "}\n",
              "\n",
              "scope.google = scope.google || {};\n",
              "scope.google.colab = scope.google.colab || {};\n",
              "scope.google.colab._files = {\n",
              "  _uploadFiles,\n",
              "  _uploadFilesContinue,\n",
              "};\n",
              "})(self);\n",
              "</script> "
            ]
          },
          "metadata": {}
        },
        {
          "output_type": "stream",
          "name": "stdout",
          "text": [
            "Saving lit2.csv to lit2.csv\n"
          ]
        },
        {
          "output_type": "execute_result",
          "data": {
            "text/plain": [
              "{'lit2.csv': b'2023_\\xeb\\xa6\\xac\\xed\\x8a\\xac_01,\"\\xea\\xb6\\x8c\\xec\\x98\\x81\\xec\\x88\\x98 LG\\xec\\x97\\x94\\xec\\x86\\x94 \\xeb\\xb6\\x80\\xed\\x9a\\x8c\\xec\\x9e\\xa5, \\xe4\\xb8\\xad \\xea\\xb3\\xb5\\xec\\x9e\\xa5 \\xec\\xb2\\xab \\xec\\xb6\\x9c\\xec\\x9e\\xa5\",https://zdnet.co.kr/view/?no=20230313092957\\n2023_\\xeb\\xa6\\xac\\xed\\x8a\\xac_02,\"\\xea\\xb6\\x8c\\xec\\x98\\x81\\xec\\x88\\x98 LG\\xec\\x97\\x94\\xec\\x86\\x94 \\xeb\\xb6\\x80\\xed\\x9a\\x8c\\xec\\x9e\\xa5, \\xed\\x85\\x8c\\xec\\x8a\\xac\\xeb\\x9d\\xbc \\xea\\xb3\\xb5\\xea\\xb8\\x89 \\xeb\\xb0\\xb0\\xed\\x84\\xb0\\xeb\\xa6\\xac \\xec\\xa0\\x90\\xea\\xb2\\x80\\xec\\xb0\\xa8 \\xe4\\xb8\\xad \\xec\\xb6\\x9c\\xec\\x9e\\xa5\",https://it.chosun.com/site/data/html_dir/2023/03/13/2023031300708.html\\n2023_\\xeb\\xa6\\xac\\xed\\x8a\\xac_03,\\xe7\\xbe\\x8e\\xc2\\xb7EU \\xed\\x95\\xb5\\xec\\x8b\\xac\\xea\\xb4\\x91\\xeb\\xac\\xbc \\xed\\x99\\x95\\xeb\\xb3\\xb4 \\xec\\x9c\\x84\\xed\\x95\\xb4 \\'\\xea\\xb5\\xac\\xeb\\xa7\\xa4\\xec\\x9e\\x90 \\xed\\x81\\xb4\\xeb\\x9f\\xbd\\' \\xea\\xb2\\xb0\\xec\\x84\\xb1 \\xec\\xb6\\x94\\xec\\xa7\\x84,http://www.snmnews.com/news/articleView.html?idxno=513818\\n2023_\\xeb\\xa6\\xac\\xed\\x8a\\xac_04,\"\\xec\\xbc\\x80\\xec\\x9d\\xb4\\xed\\x94\\xbc\\xec\\x97\\x90\\xec\\x8a\\xa4, \\xec\\x84\\xb8\\xea\\xb8\\xb0\\xeb\\xa6\\xac\\xed\\x85\\x8d \\xec\\x9d\\xb8\\xec\\x88\\x98 \\xed\\x8f\\x90\\xeb\\xb0\\xb0\\xed\\x84\\xb0\\xeb\\xa6\\xac \\xeb\\xa6\\xac\\xec\\x82\\xac\\xec\\x9d\\xb4\\xed\\x81\\xb4\\xeb\\xa7\\x81 \\xec\\x82\\xb0\\xec\\x97\\x85 \\xeb\\xb3\\xb8\\xea\\xb2\\xa9 \\xec\\xa7\\x84\\xec\\xb6\\x9c\\xe2\\x80\\xa64\\xec\\x9b\\x94\\xeb\\xb6\\x80\\xed\\x84\\xb0 \\xec\\x8b\\xa4\\xec\\xa0\\x81\\xeb\\xb0\\x98\\xec\\x98\\x81\",http://www.nspna.com/news/?mode=view&newsid=625010\\n2023_\\xeb\\xa6\\xac\\xed\\x8a\\xac_05,\"\\xea\\xb6\\x8c\\xec\\x98\\x81\\xec\\x88\\x98 LG\\xec\\x97\\x94\\xec\\x86\\x94 \\xeb\\xb6\\x80\\xed\\x9a\\x8c\\xec\\x9e\\xa5, \\'\\xeb\\xb0\\xb0\\xed\\x84\\xb0\\xeb\\xa6\\xac \\xec\\xa0\\x84\\xec\\x9f\\x81\\' \\xec\\x83\\x81\\xeb\\x8c\\x80 \\xec\\xa4\\x91\\xea\\xb5\\xad \\xec\\xb6\\x9c\\xec\\x9e\\xa5...\\xec\\x84\\xb8\\xea\\xb3\\x84 1\\xec\\x9c\\x84 \\xea\\xb3\\xb5\\xeb\\x9e\\xb5\",http://www.seoulwire.com/news/articleView.html?idxno=496212\\n2023_\\xeb\\xa6\\xac\\xed\\x8a\\xac_06,\"[\\xeb\\xa5\\xb4\\xed\\x8f\\xac] \\xe2\\x80\\x9c\\xeb\\x8d\\xb0\\xec\\x9d\\xb4\\xed\\x84\\xb0\\xec\\x84\\xbc\\xed\\x84\\xb0 \\xec\\x9d\\xb4\\xec\\xa4\\x91\\xed\\x99\\x94 \\xec\\xb2\\xa0\\xec\\xa0\\x80\\xe2\\x80\\x9d \\xec\\x82\\xbc\\xec\\x84\\xb1SDS, \\xed\\x81\\xb4\\xeb\\x9d\\xbc\\xec\\x9a\\xb0\\xeb\\x93\\x9c \\xed\\x95\\xb5\\xec\\x8b\\xac\\xea\\xb8\\xb0\\xec\\xa7\\x80 \\xec\\xb2\\xab \\xea\\xb3\\xb5\\xea\\xb0\\x9c\",http://news.heraldcorp.com/view.php?ud=20230313000120\\n2023_\\xeb\\xa6\\xac\\xed\\x8a\\xac_07,\"\\xea\\xb6\\x8c\\xec\\x98\\x81\\xec\\x88\\x98 LG\\xec\\x97\\x94\\xec\\x86\\x94 \\xeb\\xb6\\x80\\xed\\x9a\\x8c\\xec\\x9e\\xa5, \\xe4\\xb8\\xad \\xec\\xb6\\x9c\\xec\\x9e\\xa5\\xea\\xb8\\xb8 \\xec\\x98\\xac\\xeb\\x9d\\xbc\\xe2\\x80\\xa6LFP \\xeb\\xb0\\xb0\\xed\\x84\\xb0\\xeb\\xa6\\xac \\xec\\x83\\x9d\\xec\\x82\\xb0\\xeb\\x9d\\xbc\\xec\\x9d\\xb8 \\xec\\xa0\\x90\\xea\\xb2\\x80\",http://www.g-enews.com/ko-kr/news/article/news_all/2023031300210639817bdb7041ec_1/article.html\\n2023_\\xeb\\xa6\\xac\\xed\\x8a\\xac_08,\"LG\\xec\\x97\\x94\\xec\\x86\\x94 \\xea\\xb6\\x8c\\xec\\x98\\x81\\xec\\x88\\x98, \\xec\\xb7\\xa8\\xec\\x9e\\x84 \\xed\\x9b\\x84 \\xec\\xb2\\xab \\xec\\xa4\\x91\\xea\\xb5\\xad \\xec\\xb6\\x9c\\xec\\x9e\\xa5\\xe2\\x80\\xa6\\xec\\x83\\x9d\\xec\\x82\\xb0\\xeb\\x9d\\xbc\\xec\\x9d\\xb8 \\xec\\xa0\\x90\\xea\\xb2\\x80\",http://www.shinailbo.co.kr/news/articleView.html?idxno=1672926\\n2023_\\xeb\\xa6\\xac\\xed\\x8a\\xac_09,\"\"\"\\xed\\x85\\x8c\\xec\\x8a\\xac\\xeb\\x9d\\xbc\\xec\\x9a\\xa9 \\xeb\\xb0\\xb0\\xed\\x84\\xb0\\xeb\\xa6\\xac \\xec\\x83\\x9d\\xec\\x82\\xb0\\xeb\\x9d\\xbc\\xec\\x9d\\xb8 \\xec\\xa0\\x90\\xea\\xb2\\x80\"\" \\xea\\xb6\\x8c\\xec\\x98\\x81\\xec\\x88\\x98 LG\\xec\\x97\\x94\\xec\\x86\\x94 \\xeb\\xb6\\x80\\xed\\x9a\\x8c\\xec\\x9e\\xa5, \\xe4\\xb8\\xad \\xeb\\x82\\x9c\\xec\\xa7\\x95 \\xea\\xb3\\xb5\\xec\\x9e\\xa5 \\xec\\xb2\\xab \\xeb\\xb0\\xa9\\xeb\\xac\\xb8\",https://www.autodaily.co.kr/news/articleView.html?idxno=504413\\n2023_\\xeb\\xa6\\xac\\xed\\x8a\\xac_10,4\\xeb\\x85\\x84 \\xeb\\xa7\\x8c\\xec\\x97\\x90 \\xed\\x99\\x94\\xec\\x9d\\xb4\\xed\\x8a\\xb8\\xeb\\xa6\\xac\\xec\\x8a\\xa4\\xed\\x8a\\xb8 \\xed\\x95\\xb4\\xec\\xa0\\x9c \\xeb\\xac\\xbc\\xea\\xbc\\xac... \\xea\\xb5\\xad\\xec\\x82\\xb0 \\'\\xec\\x86\\x8c\\xeb\\xb6\\x80\\xec\\x9e\\xa5\\' \\xec\\xa0\\x84\\xec\\x84\\xa0\\xec\\x9d\\x80?,https://weekly.hankooki.com/news/articleView.html?idxno=7077401\\n'}"
            ]
          },
          "metadata": {},
          "execution_count": 113
        }
      ]
    },
    {
      "cell_type": "code",
      "source": [
        "df3 = pd.read_csv('lit2.csv', index_col=0, names=['title', 'link'])\n",
        "df3"
      ],
      "metadata": {
        "colab": {
          "base_uri": "https://localhost:8080/",
          "height": 363
        },
        "id": "e3Obmo2yly9f",
        "outputId": "b12a8d6b-d60d-429b-88cb-dcc69bfaa1bf"
      },
      "execution_count": null,
      "outputs": [
        {
          "output_type": "execute_result",
          "data": {
            "text/plain": [
              "                                                    title  \\\n",
              "2023_리튬_01                        권영수 LG엔솔 부회장, 中 공장 첫 출장   \n",
              "2023_리튬_02              권영수 LG엔솔 부회장, 테슬라 공급 배터리 점검차 中 출장   \n",
              "2023_리튬_03                 美·EU 핵심광물 확보 위해 '구매자 클럽' 결성 추진   \n",
              "2023_리튬_04   케이피에스, 세기리텍 인수 폐배터리 리사이클링 산업 본격 진출…4월부터 실적반영   \n",
              "2023_리튬_05     권영수 LG엔솔 부회장, '배터리 전쟁' 상대 중국 출장...세계 1위 공략   \n",
              "2023_리튬_06      [르포] “데이터센터 이중화 철저” 삼성SDS, 클라우드 핵심기지 첫 공개   \n",
              "2023_리튬_07         권영수 LG엔솔 부회장, 中 출장길 올라…LFP 배터리 생산라인 점검   \n",
              "2023_리튬_08                 LG엔솔 권영수, 취임 후 첫 중국 출장…생산라인 점검   \n",
              "2023_리튬_09  \"테슬라용 배터리 생산라인 점검\" 권영수 LG엔솔 부회장, 中 난징 공장 첫 방문   \n",
              "2023_리튬_10            4년 만에 화이트리스트 해제 물꼬... 국산 '소부장' 전선은?   \n",
              "\n",
              "                                                         link  \n",
              "2023_리튬_01        https://zdnet.co.kr/view/?no=20230313092957  \n",
              "2023_리튬_02  https://it.chosun.com/site/data/html_dir/2023/...  \n",
              "2023_리튬_03  http://www.snmnews.com/news/articleView.html?i...  \n",
              "2023_리튬_04  http://www.nspna.com/news/?mode=view&newsid=62...  \n",
              "2023_리튬_05  http://www.seoulwire.com/news/articleView.html...  \n",
              "2023_리튬_06  http://news.heraldcorp.com/view.php?ud=2023031...  \n",
              "2023_리튬_07  http://www.g-enews.com/ko-kr/news/article/news...  \n",
              "2023_리튬_08  http://www.shinailbo.co.kr/news/articleView.ht...  \n",
              "2023_리튬_09  https://www.autodaily.co.kr/news/articleView.h...  \n",
              "2023_리튬_10  https://weekly.hankooki.com/news/articleView.h...  "
            ],
            "text/html": [
              "\n",
              "  <div id=\"df-9f5be3d4-7592-43a8-a719-c76a0e83b67b\">\n",
              "    <div class=\"colab-df-container\">\n",
              "      <div>\n",
              "<style scoped>\n",
              "    .dataframe tbody tr th:only-of-type {\n",
              "        vertical-align: middle;\n",
              "    }\n",
              "\n",
              "    .dataframe tbody tr th {\n",
              "        vertical-align: top;\n",
              "    }\n",
              "\n",
              "    .dataframe thead th {\n",
              "        text-align: right;\n",
              "    }\n",
              "</style>\n",
              "<table border=\"1\" class=\"dataframe\">\n",
              "  <thead>\n",
              "    <tr style=\"text-align: right;\">\n",
              "      <th></th>\n",
              "      <th>title</th>\n",
              "      <th>link</th>\n",
              "    </tr>\n",
              "  </thead>\n",
              "  <tbody>\n",
              "    <tr>\n",
              "      <th>2023_리튬_01</th>\n",
              "      <td>권영수 LG엔솔 부회장, 中 공장 첫 출장</td>\n",
              "      <td>https://zdnet.co.kr/view/?no=20230313092957</td>\n",
              "    </tr>\n",
              "    <tr>\n",
              "      <th>2023_리튬_02</th>\n",
              "      <td>권영수 LG엔솔 부회장, 테슬라 공급 배터리 점검차 中 출장</td>\n",
              "      <td>https://it.chosun.com/site/data/html_dir/2023/...</td>\n",
              "    </tr>\n",
              "    <tr>\n",
              "      <th>2023_리튬_03</th>\n",
              "      <td>美·EU 핵심광물 확보 위해 '구매자 클럽' 결성 추진</td>\n",
              "      <td>http://www.snmnews.com/news/articleView.html?i...</td>\n",
              "    </tr>\n",
              "    <tr>\n",
              "      <th>2023_리튬_04</th>\n",
              "      <td>케이피에스, 세기리텍 인수 폐배터리 리사이클링 산업 본격 진출…4월부터 실적반영</td>\n",
              "      <td>http://www.nspna.com/news/?mode=view&amp;newsid=62...</td>\n",
              "    </tr>\n",
              "    <tr>\n",
              "      <th>2023_리튬_05</th>\n",
              "      <td>권영수 LG엔솔 부회장, '배터리 전쟁' 상대 중국 출장...세계 1위 공략</td>\n",
              "      <td>http://www.seoulwire.com/news/articleView.html...</td>\n",
              "    </tr>\n",
              "    <tr>\n",
              "      <th>2023_리튬_06</th>\n",
              "      <td>[르포] “데이터센터 이중화 철저” 삼성SDS, 클라우드 핵심기지 첫 공개</td>\n",
              "      <td>http://news.heraldcorp.com/view.php?ud=2023031...</td>\n",
              "    </tr>\n",
              "    <tr>\n",
              "      <th>2023_리튬_07</th>\n",
              "      <td>권영수 LG엔솔 부회장, 中 출장길 올라…LFP 배터리 생산라인 점검</td>\n",
              "      <td>http://www.g-enews.com/ko-kr/news/article/news...</td>\n",
              "    </tr>\n",
              "    <tr>\n",
              "      <th>2023_리튬_08</th>\n",
              "      <td>LG엔솔 권영수, 취임 후 첫 중국 출장…생산라인 점검</td>\n",
              "      <td>http://www.shinailbo.co.kr/news/articleView.ht...</td>\n",
              "    </tr>\n",
              "    <tr>\n",
              "      <th>2023_리튬_09</th>\n",
              "      <td>\"테슬라용 배터리 생산라인 점검\" 권영수 LG엔솔 부회장, 中 난징 공장 첫 방문</td>\n",
              "      <td>https://www.autodaily.co.kr/news/articleView.h...</td>\n",
              "    </tr>\n",
              "    <tr>\n",
              "      <th>2023_리튬_10</th>\n",
              "      <td>4년 만에 화이트리스트 해제 물꼬... 국산 '소부장' 전선은?</td>\n",
              "      <td>https://weekly.hankooki.com/news/articleView.h...</td>\n",
              "    </tr>\n",
              "  </tbody>\n",
              "</table>\n",
              "</div>\n",
              "      <button class=\"colab-df-convert\" onclick=\"convertToInteractive('df-9f5be3d4-7592-43a8-a719-c76a0e83b67b')\"\n",
              "              title=\"Convert this dataframe to an interactive table.\"\n",
              "              style=\"display:none;\">\n",
              "        \n",
              "  <svg xmlns=\"http://www.w3.org/2000/svg\" height=\"24px\"viewBox=\"0 0 24 24\"\n",
              "       width=\"24px\">\n",
              "    <path d=\"M0 0h24v24H0V0z\" fill=\"none\"/>\n",
              "    <path d=\"M18.56 5.44l.94 2.06.94-2.06 2.06-.94-2.06-.94-.94-2.06-.94 2.06-2.06.94zm-11 1L8.5 8.5l.94-2.06 2.06-.94-2.06-.94L8.5 2.5l-.94 2.06-2.06.94zm10 10l.94 2.06.94-2.06 2.06-.94-2.06-.94-.94-2.06-.94 2.06-2.06.94z\"/><path d=\"M17.41 7.96l-1.37-1.37c-.4-.4-.92-.59-1.43-.59-.52 0-1.04.2-1.43.59L10.3 9.45l-7.72 7.72c-.78.78-.78 2.05 0 2.83L4 21.41c.39.39.9.59 1.41.59.51 0 1.02-.2 1.41-.59l7.78-7.78 2.81-2.81c.8-.78.8-2.07 0-2.86zM5.41 20L4 18.59l7.72-7.72 1.47 1.35L5.41 20z\"/>\n",
              "  </svg>\n",
              "      </button>\n",
              "      \n",
              "  <style>\n",
              "    .colab-df-container {\n",
              "      display:flex;\n",
              "      flex-wrap:wrap;\n",
              "      gap: 12px;\n",
              "    }\n",
              "\n",
              "    .colab-df-convert {\n",
              "      background-color: #E8F0FE;\n",
              "      border: none;\n",
              "      border-radius: 50%;\n",
              "      cursor: pointer;\n",
              "      display: none;\n",
              "      fill: #1967D2;\n",
              "      height: 32px;\n",
              "      padding: 0 0 0 0;\n",
              "      width: 32px;\n",
              "    }\n",
              "\n",
              "    .colab-df-convert:hover {\n",
              "      background-color: #E2EBFA;\n",
              "      box-shadow: 0px 1px 2px rgba(60, 64, 67, 0.3), 0px 1px 3px 1px rgba(60, 64, 67, 0.15);\n",
              "      fill: #174EA6;\n",
              "    }\n",
              "\n",
              "    [theme=dark] .colab-df-convert {\n",
              "      background-color: #3B4455;\n",
              "      fill: #D2E3FC;\n",
              "    }\n",
              "\n",
              "    [theme=dark] .colab-df-convert:hover {\n",
              "      background-color: #434B5C;\n",
              "      box-shadow: 0px 1px 3px 1px rgba(0, 0, 0, 0.15);\n",
              "      filter: drop-shadow(0px 1px 2px rgba(0, 0, 0, 0.3));\n",
              "      fill: #FFFFFF;\n",
              "    }\n",
              "  </style>\n",
              "\n",
              "      <script>\n",
              "        const buttonEl =\n",
              "          document.querySelector('#df-9f5be3d4-7592-43a8-a719-c76a0e83b67b button.colab-df-convert');\n",
              "        buttonEl.style.display =\n",
              "          google.colab.kernel.accessAllowed ? 'block' : 'none';\n",
              "\n",
              "        async function convertToInteractive(key) {\n",
              "          const element = document.querySelector('#df-9f5be3d4-7592-43a8-a719-c76a0e83b67b');\n",
              "          const dataTable =\n",
              "            await google.colab.kernel.invokeFunction('convertToInteractive',\n",
              "                                                     [key], {});\n",
              "          if (!dataTable) return;\n",
              "\n",
              "          const docLinkHtml = 'Like what you see? Visit the ' +\n",
              "            '<a target=\"_blank\" href=https://colab.research.google.com/notebooks/data_table.ipynb>data table notebook</a>'\n",
              "            + ' to learn more about interactive tables.';\n",
              "          element.innerHTML = '';\n",
              "          dataTable['output_type'] = 'display_data';\n",
              "          await google.colab.output.renderOutput(dataTable, element);\n",
              "          const docLink = document.createElement('div');\n",
              "          docLink.innerHTML = docLinkHtml;\n",
              "          element.appendChild(docLink);\n",
              "        }\n",
              "      </script>\n",
              "    </div>\n",
              "  </div>\n",
              "  "
            ]
          },
          "metadata": {},
          "execution_count": 115
        }
      ]
    }
  ]
}