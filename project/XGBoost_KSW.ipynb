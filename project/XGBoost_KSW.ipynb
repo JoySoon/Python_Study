{
  "nbformat": 4,
  "nbformat_minor": 0,
  "metadata": {
    "colab": {
      "provenance": [],
      "authorship_tag": "ABX9TyOiuRkfi45qO76BJDfC5svJ",
      "include_colab_link": true
    },
    "kernelspec": {
      "name": "python3",
      "display_name": "Python 3"
    },
    "language_info": {
      "name": "python"
    }
  },
  "cells": [
    {
      "cell_type": "markdown",
      "metadata": {
        "id": "view-in-github",
        "colab_type": "text"
      },
      "source": [
        "<a href=\"https://colab.research.google.com/github/JoySoon/Python_Study/blob/main/%EA%B3%BC%EC%A0%9C/XGBoost_KSW.ipynb\" target=\"_parent\"><img src=\"https://colab.research.google.com/assets/colab-badge.svg\" alt=\"Open In Colab\"/></a>"
      ]
    },
    {
      "cell_type": "code",
      "source": [
        "import numpy as np\n",
        "import pandas as pd\n",
        "import matplotlib.pyplot as plt\n",
        "import seaborn as sns"
      ],
      "metadata": {
        "id": "Gba2p5mOz42y"
      },
      "execution_count": 2,
      "outputs": []
    },
    {
      "cell_type": "code",
      "source": [
        "from google.colab import files\n",
        "\n",
        "files.upload()"
      ],
      "metadata": {
        "id": "Y8hmta2Sz85x"
      },
      "execution_count": null,
      "outputs": []
    },
    {
      "cell_type": "code",
      "source": [
        "bd=pd.read_csv('cbb.csv')\n",
        "bd"
      ],
      "metadata": {
        "colab": {
          "base_uri": "https://localhost:8080/",
          "height": 423
        },
        "id": "AAC9oqyy0EEJ",
        "outputId": "6098c5c8-ad79-4fc8-be35-8c0571542c84"
      },
      "execution_count": 8,
      "outputs": [
        {
          "output_type": "execute_result",
          "data": {
            "text/plain": [
              "                    TEAM  CONF   G   W  ADJOE  ADJDE  BARTHAG  EFG_O  EFG_D  \\\n",
              "0         North Carolina   ACC  40  33  123.3   94.9   0.9531   52.6   48.1   \n",
              "1              Wisconsin   B10  40  36  129.1   93.6   0.9758   54.8   47.7   \n",
              "2               Michigan   B10  40  33  114.4   90.4   0.9375   53.9   47.7   \n",
              "3             Texas Tech   B12  38  31  115.2   85.2   0.9696   53.5   43.0   \n",
              "4                Gonzaga   WCC  39  37  117.8   86.3   0.9728   56.6   41.1   \n",
              "...                  ...   ...  ..  ..    ...    ...      ...    ...    ...   \n",
              "2450        Michigan St.   B10  35  26  111.4   87.8   0.9392   50.6   44.5   \n",
              "2451             Arizona   P12  35  27  114.4   92.2   0.9229   52.5   46.6   \n",
              "2452              Oregon   P12  37  28  104.8   88.6   0.8728   49.3   46.4   \n",
              "2453            La Salle   A10  34  24  112.0   96.2   0.8516   51.9   49.3   \n",
              "2454  Florida Gulf Coast  ASun  35  24  103.4   96.3   0.6952   51.6   46.9   \n",
              "\n",
              "       TOR  ...  FTRD  2P_O  2P_D  3P_O  3P_D  ADJ_T   WAB  POSTSEASON  SEED  \\\n",
              "0     15.4  ...  30.4  53.9  44.6  32.7  36.2   71.7   8.6         2ND   1.0   \n",
              "1     12.4  ...  22.4  54.8  44.7  36.5  37.5   59.3  11.3         2ND   1.0   \n",
              "2     14.0  ...  30.0  54.7  46.8  35.2  33.2   65.9   6.9         2ND   3.0   \n",
              "3     17.7  ...  36.6  52.8  41.9  36.5  29.7   67.5   7.0         2ND   3.0   \n",
              "4     16.2  ...  26.9  56.3  40.0  38.2  29.0   71.5   7.7         2ND   1.0   \n",
              "...    ...  ...   ...   ...   ...   ...   ...    ...   ...         ...   ...   \n",
              "2450  20.8  ...  32.4  50.4  44.3  34.1  30.1   64.4   6.7         S16   3.0   \n",
              "2451  19.5  ...  32.9  50.6  43.4  37.1  35.8   66.8   4.6         S16   6.0   \n",
              "2452  21.4  ...  33.3  49.1  44.9  33.3  33.4   69.2   2.9         S16  12.0   \n",
              "2453  17.1  ...  28.5  49.3  50.6  37.7  30.2   66.0   0.3         S16  13.0   \n",
              "2454  21.0  ...  32.7  52.3  46.9  33.4  31.3   69.1  -4.0         S16  15.0   \n",
              "\n",
              "      YEAR  \n",
              "0     2016  \n",
              "1     2015  \n",
              "2     2018  \n",
              "3     2019  \n",
              "4     2017  \n",
              "...    ...  \n",
              "2450  2013  \n",
              "2451  2013  \n",
              "2452  2013  \n",
              "2453  2013  \n",
              "2454  2013  \n",
              "\n",
              "[2455 rows x 24 columns]"
            ],
            "text/html": [
              "\n",
              "  <div id=\"df-7a916973-2a83-47c7-afbd-bbbb7cbacf17\">\n",
              "    <div class=\"colab-df-container\">\n",
              "      <div>\n",
              "<style scoped>\n",
              "    .dataframe tbody tr th:only-of-type {\n",
              "        vertical-align: middle;\n",
              "    }\n",
              "\n",
              "    .dataframe tbody tr th {\n",
              "        vertical-align: top;\n",
              "    }\n",
              "\n",
              "    .dataframe thead th {\n",
              "        text-align: right;\n",
              "    }\n",
              "</style>\n",
              "<table border=\"1\" class=\"dataframe\">\n",
              "  <thead>\n",
              "    <tr style=\"text-align: right;\">\n",
              "      <th></th>\n",
              "      <th>TEAM</th>\n",
              "      <th>CONF</th>\n",
              "      <th>G</th>\n",
              "      <th>W</th>\n",
              "      <th>ADJOE</th>\n",
              "      <th>ADJDE</th>\n",
              "      <th>BARTHAG</th>\n",
              "      <th>EFG_O</th>\n",
              "      <th>EFG_D</th>\n",
              "      <th>TOR</th>\n",
              "      <th>...</th>\n",
              "      <th>FTRD</th>\n",
              "      <th>2P_O</th>\n",
              "      <th>2P_D</th>\n",
              "      <th>3P_O</th>\n",
              "      <th>3P_D</th>\n",
              "      <th>ADJ_T</th>\n",
              "      <th>WAB</th>\n",
              "      <th>POSTSEASON</th>\n",
              "      <th>SEED</th>\n",
              "      <th>YEAR</th>\n",
              "    </tr>\n",
              "  </thead>\n",
              "  <tbody>\n",
              "    <tr>\n",
              "      <th>0</th>\n",
              "      <td>North Carolina</td>\n",
              "      <td>ACC</td>\n",
              "      <td>40</td>\n",
              "      <td>33</td>\n",
              "      <td>123.3</td>\n",
              "      <td>94.9</td>\n",
              "      <td>0.9531</td>\n",
              "      <td>52.6</td>\n",
              "      <td>48.1</td>\n",
              "      <td>15.4</td>\n",
              "      <td>...</td>\n",
              "      <td>30.4</td>\n",
              "      <td>53.9</td>\n",
              "      <td>44.6</td>\n",
              "      <td>32.7</td>\n",
              "      <td>36.2</td>\n",
              "      <td>71.7</td>\n",
              "      <td>8.6</td>\n",
              "      <td>2ND</td>\n",
              "      <td>1.0</td>\n",
              "      <td>2016</td>\n",
              "    </tr>\n",
              "    <tr>\n",
              "      <th>1</th>\n",
              "      <td>Wisconsin</td>\n",
              "      <td>B10</td>\n",
              "      <td>40</td>\n",
              "      <td>36</td>\n",
              "      <td>129.1</td>\n",
              "      <td>93.6</td>\n",
              "      <td>0.9758</td>\n",
              "      <td>54.8</td>\n",
              "      <td>47.7</td>\n",
              "      <td>12.4</td>\n",
              "      <td>...</td>\n",
              "      <td>22.4</td>\n",
              "      <td>54.8</td>\n",
              "      <td>44.7</td>\n",
              "      <td>36.5</td>\n",
              "      <td>37.5</td>\n",
              "      <td>59.3</td>\n",
              "      <td>11.3</td>\n",
              "      <td>2ND</td>\n",
              "      <td>1.0</td>\n",
              "      <td>2015</td>\n",
              "    </tr>\n",
              "    <tr>\n",
              "      <th>2</th>\n",
              "      <td>Michigan</td>\n",
              "      <td>B10</td>\n",
              "      <td>40</td>\n",
              "      <td>33</td>\n",
              "      <td>114.4</td>\n",
              "      <td>90.4</td>\n",
              "      <td>0.9375</td>\n",
              "      <td>53.9</td>\n",
              "      <td>47.7</td>\n",
              "      <td>14.0</td>\n",
              "      <td>...</td>\n",
              "      <td>30.0</td>\n",
              "      <td>54.7</td>\n",
              "      <td>46.8</td>\n",
              "      <td>35.2</td>\n",
              "      <td>33.2</td>\n",
              "      <td>65.9</td>\n",
              "      <td>6.9</td>\n",
              "      <td>2ND</td>\n",
              "      <td>3.0</td>\n",
              "      <td>2018</td>\n",
              "    </tr>\n",
              "    <tr>\n",
              "      <th>3</th>\n",
              "      <td>Texas Tech</td>\n",
              "      <td>B12</td>\n",
              "      <td>38</td>\n",
              "      <td>31</td>\n",
              "      <td>115.2</td>\n",
              "      <td>85.2</td>\n",
              "      <td>0.9696</td>\n",
              "      <td>53.5</td>\n",
              "      <td>43.0</td>\n",
              "      <td>17.7</td>\n",
              "      <td>...</td>\n",
              "      <td>36.6</td>\n",
              "      <td>52.8</td>\n",
              "      <td>41.9</td>\n",
              "      <td>36.5</td>\n",
              "      <td>29.7</td>\n",
              "      <td>67.5</td>\n",
              "      <td>7.0</td>\n",
              "      <td>2ND</td>\n",
              "      <td>3.0</td>\n",
              "      <td>2019</td>\n",
              "    </tr>\n",
              "    <tr>\n",
              "      <th>4</th>\n",
              "      <td>Gonzaga</td>\n",
              "      <td>WCC</td>\n",
              "      <td>39</td>\n",
              "      <td>37</td>\n",
              "      <td>117.8</td>\n",
              "      <td>86.3</td>\n",
              "      <td>0.9728</td>\n",
              "      <td>56.6</td>\n",
              "      <td>41.1</td>\n",
              "      <td>16.2</td>\n",
              "      <td>...</td>\n",
              "      <td>26.9</td>\n",
              "      <td>56.3</td>\n",
              "      <td>40.0</td>\n",
              "      <td>38.2</td>\n",
              "      <td>29.0</td>\n",
              "      <td>71.5</td>\n",
              "      <td>7.7</td>\n",
              "      <td>2ND</td>\n",
              "      <td>1.0</td>\n",
              "      <td>2017</td>\n",
              "    </tr>\n",
              "    <tr>\n",
              "      <th>...</th>\n",
              "      <td>...</td>\n",
              "      <td>...</td>\n",
              "      <td>...</td>\n",
              "      <td>...</td>\n",
              "      <td>...</td>\n",
              "      <td>...</td>\n",
              "      <td>...</td>\n",
              "      <td>...</td>\n",
              "      <td>...</td>\n",
              "      <td>...</td>\n",
              "      <td>...</td>\n",
              "      <td>...</td>\n",
              "      <td>...</td>\n",
              "      <td>...</td>\n",
              "      <td>...</td>\n",
              "      <td>...</td>\n",
              "      <td>...</td>\n",
              "      <td>...</td>\n",
              "      <td>...</td>\n",
              "      <td>...</td>\n",
              "      <td>...</td>\n",
              "    </tr>\n",
              "    <tr>\n",
              "      <th>2450</th>\n",
              "      <td>Michigan St.</td>\n",
              "      <td>B10</td>\n",
              "      <td>35</td>\n",
              "      <td>26</td>\n",
              "      <td>111.4</td>\n",
              "      <td>87.8</td>\n",
              "      <td>0.9392</td>\n",
              "      <td>50.6</td>\n",
              "      <td>44.5</td>\n",
              "      <td>20.8</td>\n",
              "      <td>...</td>\n",
              "      <td>32.4</td>\n",
              "      <td>50.4</td>\n",
              "      <td>44.3</td>\n",
              "      <td>34.1</td>\n",
              "      <td>30.1</td>\n",
              "      <td>64.4</td>\n",
              "      <td>6.7</td>\n",
              "      <td>S16</td>\n",
              "      <td>3.0</td>\n",
              "      <td>2013</td>\n",
              "    </tr>\n",
              "    <tr>\n",
              "      <th>2451</th>\n",
              "      <td>Arizona</td>\n",
              "      <td>P12</td>\n",
              "      <td>35</td>\n",
              "      <td>27</td>\n",
              "      <td>114.4</td>\n",
              "      <td>92.2</td>\n",
              "      <td>0.9229</td>\n",
              "      <td>52.5</td>\n",
              "      <td>46.6</td>\n",
              "      <td>19.5</td>\n",
              "      <td>...</td>\n",
              "      <td>32.9</td>\n",
              "      <td>50.6</td>\n",
              "      <td>43.4</td>\n",
              "      <td>37.1</td>\n",
              "      <td>35.8</td>\n",
              "      <td>66.8</td>\n",
              "      <td>4.6</td>\n",
              "      <td>S16</td>\n",
              "      <td>6.0</td>\n",
              "      <td>2013</td>\n",
              "    </tr>\n",
              "    <tr>\n",
              "      <th>2452</th>\n",
              "      <td>Oregon</td>\n",
              "      <td>P12</td>\n",
              "      <td>37</td>\n",
              "      <td>28</td>\n",
              "      <td>104.8</td>\n",
              "      <td>88.6</td>\n",
              "      <td>0.8728</td>\n",
              "      <td>49.3</td>\n",
              "      <td>46.4</td>\n",
              "      <td>21.4</td>\n",
              "      <td>...</td>\n",
              "      <td>33.3</td>\n",
              "      <td>49.1</td>\n",
              "      <td>44.9</td>\n",
              "      <td>33.3</td>\n",
              "      <td>33.4</td>\n",
              "      <td>69.2</td>\n",
              "      <td>2.9</td>\n",
              "      <td>S16</td>\n",
              "      <td>12.0</td>\n",
              "      <td>2013</td>\n",
              "    </tr>\n",
              "    <tr>\n",
              "      <th>2453</th>\n",
              "      <td>La Salle</td>\n",
              "      <td>A10</td>\n",
              "      <td>34</td>\n",
              "      <td>24</td>\n",
              "      <td>112.0</td>\n",
              "      <td>96.2</td>\n",
              "      <td>0.8516</td>\n",
              "      <td>51.9</td>\n",
              "      <td>49.3</td>\n",
              "      <td>17.1</td>\n",
              "      <td>...</td>\n",
              "      <td>28.5</td>\n",
              "      <td>49.3</td>\n",
              "      <td>50.6</td>\n",
              "      <td>37.7</td>\n",
              "      <td>30.2</td>\n",
              "      <td>66.0</td>\n",
              "      <td>0.3</td>\n",
              "      <td>S16</td>\n",
              "      <td>13.0</td>\n",
              "      <td>2013</td>\n",
              "    </tr>\n",
              "    <tr>\n",
              "      <th>2454</th>\n",
              "      <td>Florida Gulf Coast</td>\n",
              "      <td>ASun</td>\n",
              "      <td>35</td>\n",
              "      <td>24</td>\n",
              "      <td>103.4</td>\n",
              "      <td>96.3</td>\n",
              "      <td>0.6952</td>\n",
              "      <td>51.6</td>\n",
              "      <td>46.9</td>\n",
              "      <td>21.0</td>\n",
              "      <td>...</td>\n",
              "      <td>32.7</td>\n",
              "      <td>52.3</td>\n",
              "      <td>46.9</td>\n",
              "      <td>33.4</td>\n",
              "      <td>31.3</td>\n",
              "      <td>69.1</td>\n",
              "      <td>-4.0</td>\n",
              "      <td>S16</td>\n",
              "      <td>15.0</td>\n",
              "      <td>2013</td>\n",
              "    </tr>\n",
              "  </tbody>\n",
              "</table>\n",
              "<p>2455 rows × 24 columns</p>\n",
              "</div>\n",
              "      <button class=\"colab-df-convert\" onclick=\"convertToInteractive('df-7a916973-2a83-47c7-afbd-bbbb7cbacf17')\"\n",
              "              title=\"Convert this dataframe to an interactive table.\"\n",
              "              style=\"display:none;\">\n",
              "        \n",
              "  <svg xmlns=\"http://www.w3.org/2000/svg\" height=\"24px\"viewBox=\"0 0 24 24\"\n",
              "       width=\"24px\">\n",
              "    <path d=\"M0 0h24v24H0V0z\" fill=\"none\"/>\n",
              "    <path d=\"M18.56 5.44l.94 2.06.94-2.06 2.06-.94-2.06-.94-.94-2.06-.94 2.06-2.06.94zm-11 1L8.5 8.5l.94-2.06 2.06-.94-2.06-.94L8.5 2.5l-.94 2.06-2.06.94zm10 10l.94 2.06.94-2.06 2.06-.94-2.06-.94-.94-2.06-.94 2.06-2.06.94z\"/><path d=\"M17.41 7.96l-1.37-1.37c-.4-.4-.92-.59-1.43-.59-.52 0-1.04.2-1.43.59L10.3 9.45l-7.72 7.72c-.78.78-.78 2.05 0 2.83L4 21.41c.39.39.9.59 1.41.59.51 0 1.02-.2 1.41-.59l7.78-7.78 2.81-2.81c.8-.78.8-2.07 0-2.86zM5.41 20L4 18.59l7.72-7.72 1.47 1.35L5.41 20z\"/>\n",
              "  </svg>\n",
              "      </button>\n",
              "      \n",
              "  <style>\n",
              "    .colab-df-container {\n",
              "      display:flex;\n",
              "      flex-wrap:wrap;\n",
              "      gap: 12px;\n",
              "    }\n",
              "\n",
              "    .colab-df-convert {\n",
              "      background-color: #E8F0FE;\n",
              "      border: none;\n",
              "      border-radius: 50%;\n",
              "      cursor: pointer;\n",
              "      display: none;\n",
              "      fill: #1967D2;\n",
              "      height: 32px;\n",
              "      padding: 0 0 0 0;\n",
              "      width: 32px;\n",
              "    }\n",
              "\n",
              "    .colab-df-convert:hover {\n",
              "      background-color: #E2EBFA;\n",
              "      box-shadow: 0px 1px 2px rgba(60, 64, 67, 0.3), 0px 1px 3px 1px rgba(60, 64, 67, 0.15);\n",
              "      fill: #174EA6;\n",
              "    }\n",
              "\n",
              "    [theme=dark] .colab-df-convert {\n",
              "      background-color: #3B4455;\n",
              "      fill: #D2E3FC;\n",
              "    }\n",
              "\n",
              "    [theme=dark] .colab-df-convert:hover {\n",
              "      background-color: #434B5C;\n",
              "      box-shadow: 0px 1px 3px 1px rgba(0, 0, 0, 0.15);\n",
              "      filter: drop-shadow(0px 1px 2px rgba(0, 0, 0, 0.3));\n",
              "      fill: #FFFFFF;\n",
              "    }\n",
              "  </style>\n",
              "\n",
              "      <script>\n",
              "        const buttonEl =\n",
              "          document.querySelector('#df-7a916973-2a83-47c7-afbd-bbbb7cbacf17 button.colab-df-convert');\n",
              "        buttonEl.style.display =\n",
              "          google.colab.kernel.accessAllowed ? 'block' : 'none';\n",
              "\n",
              "        async function convertToInteractive(key) {\n",
              "          const element = document.querySelector('#df-7a916973-2a83-47c7-afbd-bbbb7cbacf17');\n",
              "          const dataTable =\n",
              "            await google.colab.kernel.invokeFunction('convertToInteractive',\n",
              "                                                     [key], {});\n",
              "          if (!dataTable) return;\n",
              "\n",
              "          const docLinkHtml = 'Like what you see? Visit the ' +\n",
              "            '<a target=\"_blank\" href=https://colab.research.google.com/notebooks/data_table.ipynb>data table notebook</a>'\n",
              "            + ' to learn more about interactive tables.';\n",
              "          element.innerHTML = '';\n",
              "          dataTable['output_type'] = 'display_data';\n",
              "          await google.colab.output.renderOutput(dataTable, element);\n",
              "          const docLink = document.createElement('div');\n",
              "          docLink.innerHTML = docLinkHtml;\n",
              "          element.appendChild(docLink);\n",
              "        }\n",
              "      </script>\n",
              "    </div>\n",
              "  </div>\n",
              "  "
            ]
          },
          "metadata": {},
          "execution_count": 8
        }
      ]
    },
    {
      "cell_type": "code",
      "source": [
        "'''\n",
        "TEAM : 참여하는 학교의 이름\n",
        "CONF : 소속 지역\n",
        "G : 게임수\n",
        "W : 승리한 게임수\n",
        "ADJOE : 조정된 공격 효율성(평균 디비전 I 방어에 대해 팀이 가질 공격 효율성(점유율당 득점)의 추정치)\n",
        "ADJDE : 수정된 방어 효율성(평균 디비전 I 공격에 대해 팀이 가질 방어 효율성(점유율당 실점)의 추정치)\n",
        "BARTHAG : 전력 등급(평균 디비전 I 팀을 이길 가능성)\n",
        "EFG_O : 유효슛 비율\n",
        "EFG_D : 유효슛 허용 비율\n",
        "TOR : 턴오버 비율(흐름 끊은 비율)\n",
        "TORD : 턴오버 허용 비율(흐름 끊긴 비율)\n",
        "ORB : 리바운드 차지 횟수\n",
        "DRB : 리바운드 허용 횟수\n",
        "FTR : 자유투 비율\n",
        "FTRD : 자유투 허용 비율\n",
        "2P_O : 2점 슛 성공 비율\n",
        "2P_D : 2점 슛 허용 비율\n",
        "3P_O : 3점 슛 성공 비율\n",
        "3P_D : 3점 슛 허용 비율\n",
        "ADJ_T : 조정된 템포(팀이 평균 디비전 I 템포로 플레이하려는 팀을 상대로 가질 템포(40분당 점유)의 추정치)\n",
        "WAB : \"Wins Above Bubble\"은 NCAA 농구 대회의 예선 라운드에 참가하는 팀을 결정하는 데 사용되는 \"버블\"(일정 선) 기준에서 얼마나 높은 승리를 거두었는지를 나타내는 지표입니다.\n",
        "POSTSEASON : 팀이 시즌을 마무리한 등수\n",
        "SEED : NCAA 토너먼트에 참가하는 시드(등수)\n",
        "YEAR : 시즌\n",
        "\n",
        "'''"
      ],
      "metadata": {
        "id": "0S74HO-L0JeR"
      },
      "execution_count": null,
      "outputs": []
    },
    {
      "cell_type": "code",
      "source": [
        "bd[\"Winning_rate\"] = bd['W']/bd['G']\n",
        "\n",
        "#R68 = 퍼스트 포, R64 = 64강, R32 = 32강, S16 = 스위트 16, E8 = 엘리트 에이트, F4 = 파이널 포, 2ND = 러너 -up, Champion = 해당 연도의 NCAA March Madness Tournament 우승자\n",
        "ps={\n",
        "    \"R68\":68,\n",
        "    \"R64\":64,\n",
        "    \"R32\":32,\n",
        "    \"S16\":16,\n",
        "    \"E8\":8,\n",
        "    \"F4\":4,\n",
        "    \"2ND\":2,\n",
        "    \"Champion\":1\n",
        "}\n",
        "\n",
        "#postseason의 결측치 처리\n",
        "bd['POSTSEASON'] = bd['POSTSEASON'].map(ps)"
      ],
      "metadata": {
        "id": "N1C21Ivj0ri7"
      },
      "execution_count": 9,
      "outputs": []
    },
    {
      "cell_type": "code",
      "source": [
        "bd.fillna({'POSTSEASON':'Missed Tournament'}, inplace = True)\n",
        "bd.fillna({'SEED':'Missed Tournament'}, inplace = True)"
      ],
      "metadata": {
        "id": "cXobAN680vkZ"
      },
      "execution_count": 12,
      "outputs": []
    },
    {
      "cell_type": "code",
      "source": [
        "bd=pd.get_dummies(bd, columns=['CONF','SEED','POSTSEASON'])  "
      ],
      "metadata": {
        "id": "eMeDpW8Z1GsP"
      },
      "execution_count": 11,
      "outputs": []
    },
    {
      "cell_type": "code",
      "source": [
        "bd.drop(['TEAM', 'YEAR','W','G'], axis=1, inplace=True)"
      ],
      "metadata": {
        "id": "dtQyXpNX1I95"
      },
      "execution_count": 13,
      "outputs": []
    },
    {
      "cell_type": "code",
      "source": [
        "for i in bd:\n",
        "\n",
        "  sns.scatterplot(bd[i])\n",
        "  plt.show()"
      ],
      "metadata": {
        "id": "yBcZXAKZ1ViS"
      },
      "execution_count": null,
      "outputs": []
    },
    {
      "cell_type": "code",
      "source": [
        "bd.corr()['Winning_rate'].sort_values()[:]"
      ],
      "metadata": {
        "colab": {
          "base_uri": "https://localhost:8080/"
        },
        "id": "hN2WU7Hs1YO7",
        "outputId": "3a4734b2-9c40-4fc2-d1fd-6e86277e2192"
      },
      "execution_count": 15,
      "outputs": [
        {
          "output_type": "execute_result",
          "data": {
            "text/plain": [
              "ADJDE                          -0.652915\n",
              "EFG_D                          -0.571571\n",
              "SEED_Missed Tournament         -0.570116\n",
              "POSTSEASON_Missed Tournament   -0.558596\n",
              "2P_D                           -0.500915\n",
              "                                  ...   \n",
              "EFG_O                           0.625103\n",
              "ADJOE                           0.718785\n",
              "BARTHAG                         0.788895\n",
              "WAB                             0.888216\n",
              "Winning_rate                    1.000000\n",
              "Name: Winning_rate, Length: 78, dtype: float64"
            ]
          },
          "metadata": {},
          "execution_count": 15
        }
      ]
    },
    {
      "cell_type": "markdown",
      "source": [
        "# 학습/시험 셋 분리 및 스케일링"
      ],
      "metadata": {
        "id": "Vp1xsFBO2Bix"
      }
    },
    {
      "cell_type": "code",
      "source": [
        "from sklearn.model_selection import train_test_split\n",
        "\n",
        "X_xgb = bd.drop('Winning_rate', axis=1)\n",
        "y_xgb = bd['Winning_rate']\n",
        "\n",
        "X_train_xgb, X_test_xgb, y_train_xgb, y_test_xgb = train_test_split(\n",
        "     X_xgb, y_xgb, test_size=0.2, random_state=325 \n",
        ")"
      ],
      "metadata": {
        "id": "OatS_dsd118Z"
      },
      "execution_count": 16,
      "outputs": []
    },
    {
      "cell_type": "code",
      "execution_count": 17,
      "metadata": {
        "id": "3PtCXPzazl88"
      },
      "outputs": [],
      "source": [
        "# min-max 스케일링\n",
        "from sklearn.preprocessing import MinMaxScaler\n",
        "mm_scaler = MinMaxScaler()\n",
        "X_train_scaled = mm_scaler.fit_transform(X_train_xgb)\n",
        "X_test_scaled = mm_scaler.transform(X_test_xgb)"
      ]
    },
    {
      "cell_type": "markdown",
      "source": [
        "# XGBoost"
      ],
      "metadata": {
        "id": "GcAYrRLB2yKR"
      }
    },
    {
      "cell_type": "code",
      "source": [
        "import xgboost as xgb\n",
        "from sklearn.metrics import mean_squared_error"
      ],
      "metadata": {
        "id": "oz9Xqhpszyja"
      },
      "execution_count": 18,
      "outputs": []
    },
    {
      "cell_type": "code",
      "source": [
        "xg_reg = xgb.XGBRegressor(\n",
        "    objective ='reg:squarederror', \n",
        "    max_depth = 3, \n",
        "    learning_rate = 0.1, \n",
        "    n_estimators = 10,\n",
        "    subsample = 0.5, \n",
        "    colsample_bytree = 0.3, \n",
        ")\n",
        "\n",
        "# Train the model on the training data\n",
        "xg_reg.fit(X_train_xgb, y_train_xgb)"
      ],
      "metadata": {
        "colab": {
          "base_uri": "https://localhost:8080/",
          "height": 248
        },
        "id": "kPOHytX323YF",
        "outputId": "df1db314-d256-42ea-8780-9548b13e0768"
      },
      "execution_count": 23,
      "outputs": [
        {
          "output_type": "execute_result",
          "data": {
            "text/plain": [
              "XGBRegressor(base_score=None, booster=None, callbacks=None,\n",
              "             colsample_bylevel=None, colsample_bynode=None,\n",
              "             colsample_bytree=0.3, early_stopping_rounds=None,\n",
              "             enable_categorical=False, eval_metric=None, feature_types=None,\n",
              "             gamma=None, gpu_id=None, grow_policy=None, importance_type=None,\n",
              "             interaction_constraints=None, learning_rate=0.1, max_bin=None,\n",
              "             max_cat_threshold=None, max_cat_to_onehot=None,\n",
              "             max_delta_step=None, max_depth=3, max_leaves=None,\n",
              "             min_child_weight=None, missing=nan, monotone_constraints=None,\n",
              "             n_estimators=10, n_jobs=None, num_parallel_tree=None,\n",
              "             predictor=None, random_state=None, ...)"
            ],
            "text/html": [
              "<style>#sk-container-id-2 {color: black;background-color: white;}#sk-container-id-2 pre{padding: 0;}#sk-container-id-2 div.sk-toggleable {background-color: white;}#sk-container-id-2 label.sk-toggleable__label {cursor: pointer;display: block;width: 100%;margin-bottom: 0;padding: 0.3em;box-sizing: border-box;text-align: center;}#sk-container-id-2 label.sk-toggleable__label-arrow:before {content: \"▸\";float: left;margin-right: 0.25em;color: #696969;}#sk-container-id-2 label.sk-toggleable__label-arrow:hover:before {color: black;}#sk-container-id-2 div.sk-estimator:hover label.sk-toggleable__label-arrow:before {color: black;}#sk-container-id-2 div.sk-toggleable__content {max-height: 0;max-width: 0;overflow: hidden;text-align: left;background-color: #f0f8ff;}#sk-container-id-2 div.sk-toggleable__content pre {margin: 0.2em;color: black;border-radius: 0.25em;background-color: #f0f8ff;}#sk-container-id-2 input.sk-toggleable__control:checked~div.sk-toggleable__content {max-height: 200px;max-width: 100%;overflow: auto;}#sk-container-id-2 input.sk-toggleable__control:checked~label.sk-toggleable__label-arrow:before {content: \"▾\";}#sk-container-id-2 div.sk-estimator input.sk-toggleable__control:checked~label.sk-toggleable__label {background-color: #d4ebff;}#sk-container-id-2 div.sk-label input.sk-toggleable__control:checked~label.sk-toggleable__label {background-color: #d4ebff;}#sk-container-id-2 input.sk-hidden--visually {border: 0;clip: rect(1px 1px 1px 1px);clip: rect(1px, 1px, 1px, 1px);height: 1px;margin: -1px;overflow: hidden;padding: 0;position: absolute;width: 1px;}#sk-container-id-2 div.sk-estimator {font-family: monospace;background-color: #f0f8ff;border: 1px dotted black;border-radius: 0.25em;box-sizing: border-box;margin-bottom: 0.5em;}#sk-container-id-2 div.sk-estimator:hover {background-color: #d4ebff;}#sk-container-id-2 div.sk-parallel-item::after {content: \"\";width: 100%;border-bottom: 1px solid gray;flex-grow: 1;}#sk-container-id-2 div.sk-label:hover label.sk-toggleable__label {background-color: #d4ebff;}#sk-container-id-2 div.sk-serial::before {content: \"\";position: absolute;border-left: 1px solid gray;box-sizing: border-box;top: 0;bottom: 0;left: 50%;z-index: 0;}#sk-container-id-2 div.sk-serial {display: flex;flex-direction: column;align-items: center;background-color: white;padding-right: 0.2em;padding-left: 0.2em;position: relative;}#sk-container-id-2 div.sk-item {position: relative;z-index: 1;}#sk-container-id-2 div.sk-parallel {display: flex;align-items: stretch;justify-content: center;background-color: white;position: relative;}#sk-container-id-2 div.sk-item::before, #sk-container-id-2 div.sk-parallel-item::before {content: \"\";position: absolute;border-left: 1px solid gray;box-sizing: border-box;top: 0;bottom: 0;left: 50%;z-index: -1;}#sk-container-id-2 div.sk-parallel-item {display: flex;flex-direction: column;z-index: 1;position: relative;background-color: white;}#sk-container-id-2 div.sk-parallel-item:first-child::after {align-self: flex-end;width: 50%;}#sk-container-id-2 div.sk-parallel-item:last-child::after {align-self: flex-start;width: 50%;}#sk-container-id-2 div.sk-parallel-item:only-child::after {width: 0;}#sk-container-id-2 div.sk-dashed-wrapped {border: 1px dashed gray;margin: 0 0.4em 0.5em 0.4em;box-sizing: border-box;padding-bottom: 0.4em;background-color: white;}#sk-container-id-2 div.sk-label label {font-family: monospace;font-weight: bold;display: inline-block;line-height: 1.2em;}#sk-container-id-2 div.sk-label-container {text-align: center;}#sk-container-id-2 div.sk-container {/* jupyter's `normalize.less` sets `[hidden] { display: none; }` but bootstrap.min.css set `[hidden] { display: none !important; }` so we also need the `!important` here to be able to override the default hidden behavior on the sphinx rendered scikit-learn.org. See: https://github.com/scikit-learn/scikit-learn/issues/21755 */display: inline-block !important;position: relative;}#sk-container-id-2 div.sk-text-repr-fallback {display: none;}</style><div id=\"sk-container-id-2\" class=\"sk-top-container\"><div class=\"sk-text-repr-fallback\"><pre>XGBRegressor(base_score=None, booster=None, callbacks=None,\n",
              "             colsample_bylevel=None, colsample_bynode=None,\n",
              "             colsample_bytree=0.3, early_stopping_rounds=None,\n",
              "             enable_categorical=False, eval_metric=None, feature_types=None,\n",
              "             gamma=None, gpu_id=None, grow_policy=None, importance_type=None,\n",
              "             interaction_constraints=None, learning_rate=0.1, max_bin=None,\n",
              "             max_cat_threshold=None, max_cat_to_onehot=None,\n",
              "             max_delta_step=None, max_depth=3, max_leaves=None,\n",
              "             min_child_weight=None, missing=nan, monotone_constraints=None,\n",
              "             n_estimators=10, n_jobs=None, num_parallel_tree=None,\n",
              "             predictor=None, random_state=None, ...)</pre><b>In a Jupyter environment, please rerun this cell to show the HTML representation or trust the notebook. <br />On GitHub, the HTML representation is unable to render, please try loading this page with nbviewer.org.</b></div><div class=\"sk-container\" hidden><div class=\"sk-item\"><div class=\"sk-estimator sk-toggleable\"><input class=\"sk-toggleable__control sk-hidden--visually\" id=\"sk-estimator-id-2\" type=\"checkbox\" checked><label for=\"sk-estimator-id-2\" class=\"sk-toggleable__label sk-toggleable__label-arrow\">XGBRegressor</label><div class=\"sk-toggleable__content\"><pre>XGBRegressor(base_score=None, booster=None, callbacks=None,\n",
              "             colsample_bylevel=None, colsample_bynode=None,\n",
              "             colsample_bytree=0.3, early_stopping_rounds=None,\n",
              "             enable_categorical=False, eval_metric=None, feature_types=None,\n",
              "             gamma=None, gpu_id=None, grow_policy=None, importance_type=None,\n",
              "             interaction_constraints=None, learning_rate=0.1, max_bin=None,\n",
              "             max_cat_threshold=None, max_cat_to_onehot=None,\n",
              "             max_delta_step=None, max_depth=3, max_leaves=None,\n",
              "             min_child_weight=None, missing=nan, monotone_constraints=None,\n",
              "             n_estimators=10, n_jobs=None, num_parallel_tree=None,\n",
              "             predictor=None, random_state=None, ...)</pre></div></div></div></div></div>"
            ]
          },
          "metadata": {},
          "execution_count": 23
        }
      ]
    },
    {
      "cell_type": "code",
      "source": [
        "y_pred_xgb = xg_reg.predict(X_test_xgb)\n",
        "\n",
        "rmse = np.sqrt(mean_squared_error(y_test_xgb, y_pred_xgb))\n",
        "print(\"RMSE: %f\" % (rmse))"
      ],
      "metadata": {
        "colab": {
          "base_uri": "https://localhost:8080/"
        },
        "id": "sVJIyDHZ3Zhj",
        "outputId": "220701d8-7fd1-4fa9-e4cc-a48ef825842c"
      },
      "execution_count": 28,
      "outputs": [
        {
          "output_type": "stream",
          "name": "stdout",
          "text": [
            "RMSE: 0.119270\n"
          ]
        }
      ]
    },
    {
      "cell_type": "code",
      "source": [
        "xg_reg.score(X_test_xgb, y_test_xgb)\n",
        "\n",
        "# XGBRegressor 모델이 비교적 잘 수행되고 있지만 개선의 여지가 있음을 나타냅니다."
      ],
      "metadata": {
        "colab": {
          "base_uri": "https://localhost:8080/"
        },
        "id": "i0RfWrbe47YC",
        "outputId": "1a80e5f3-e3ed-4fc3-ae19-839a732b15e5"
      },
      "execution_count": 25,
      "outputs": [
        {
          "output_type": "execute_result",
          "data": {
            "text/plain": [
              "0.6018204222637287"
            ]
          },
          "metadata": {},
          "execution_count": 25
        }
      ]
    },
    {
      "cell_type": "markdown",
      "source": [
        "# 하이퍼 파라미터 적용"
      ],
      "metadata": {
        "id": "hCW14MUn6NLx"
      }
    },
    {
      "cell_type": "code",
      "source": [
        "from sklearn.model_selection import GridSearchCV"
      ],
      "metadata": {
        "id": "7wvAMSyr6MzC"
      },
      "execution_count": 22,
      "outputs": []
    },
    {
      "cell_type": "code",
      "source": [
        "param_grid = {\n",
        "    'max_depth': [3, 5, 7],\n",
        "    'learning_rate': [0.1, 0.01, 0.001],\n",
        "    'n_estimators': [10, 50, 100],\n",
        "    'subsample': [0.5, 0.8, 1.0],\n",
        "    'colsample_bytree': [0.3, 0.5, 1.0]\n",
        "}\n",
        "\n",
        "grid_search = GridSearchCV(xg_reg, param_grid=param_grid, cv=5, n_jobs=-1)\n",
        "\n",
        "grid_search.fit(X_xgb, y_xgb)\n",
        "\n",
        "# Print the best hyperparameters and corresponding score\n",
        "print(\"Best hyperparameters:\", grid_search.best_params_)\n",
        "print(\"Best score:\", grid_search.best_score_)"
      ],
      "metadata": {
        "colab": {
          "base_uri": "https://localhost:8080/"
        },
        "id": "WubzDFj76co9",
        "outputId": "ea7be08f-c531-4448-b581-885f3b2d1bdc"
      },
      "execution_count": 27,
      "outputs": [
        {
          "output_type": "stream",
          "name": "stdout",
          "text": [
            "Best hyperparameters: {'colsample_bytree': 1.0, 'learning_rate': 0.1, 'max_depth': 5, 'n_estimators': 100, 'subsample': 0.5}\n",
            "Best score: 0.889459752872298\n"
          ]
        }
      ]
    },
    {
      "cell_type": "markdown",
      "source": [
        "# 최고의 점수값 적용"
      ],
      "metadata": {
        "id": "hhtx2pXr-On-"
      }
    },
    {
      "cell_type": "code",
      "source": [
        "xg_reg_hp = xgb.XGBRegressor(\n",
        "    colsample_bytree = 1.0,\n",
        "    learning_rate=0.1,\n",
        "    max_depth=5,\n",
        "    n_estimators=100,\n",
        "    subsample=0.5,\n",
        "    n_jobs=-1,\n",
        "    random_state=325\n",
        ")\n",
        "\n",
        "xg_reg_hp.fit(X_train_xgb, y_train_xgb)\n",
        "train_pred_xgb = xg_reg_hp.predict(X_train_xgb)\n",
        "test_pred_xgb = xg_reg_hp.predict(X_test_xgb)\n",
        "\n",
        "xg_reg_hp.score(X_test_xgb, y_test_xgb)"
      ],
      "metadata": {
        "colab": {
          "base_uri": "https://localhost:8080/"
        },
        "id": "d5rOJzSS-N6B",
        "outputId": "43bb81b1-5313-41d3-c0a2-f2c253a5c686"
      },
      "execution_count": 33,
      "outputs": [
        {
          "output_type": "execute_result",
          "data": {
            "text/plain": [
              "0.9354254445716658"
            ]
          },
          "metadata": {},
          "execution_count": 33
        }
      ]
    },
    {
      "cell_type": "markdown",
      "source": [
        "# pkl파일"
      ],
      "metadata": {
        "id": "1S9ka1HF3Hwy"
      }
    },
    {
      "cell_type": "code",
      "source": [
        "!pip install mlxtend -q"
      ],
      "metadata": {
        "id": "6UA4f_6V4Y2j"
      },
      "execution_count": 34,
      "outputs": []
    },
    {
      "cell_type": "code",
      "source": [
        "import joblib"
      ],
      "metadata": {
        "id": "dFX_COeE9Ci7"
      },
      "execution_count": 35,
      "outputs": []
    },
    {
      "cell_type": "code",
      "source": [
        "joblib.dump(xg_reg, 'XGBoost.pkl')"
      ],
      "metadata": {
        "colab": {
          "base_uri": "https://localhost:8080/"
        },
        "id": "D8SVpzvw9Ebj",
        "outputId": "64077fb7-f7ca-41e8-ba70-7e57bbb9d39a"
      },
      "execution_count": 36,
      "outputs": [
        {
          "output_type": "execute_result",
          "data": {
            "text/plain": [
              "['XGBoost.pkl']"
            ]
          },
          "metadata": {},
          "execution_count": 36
        }
      ]
    },
    {
      "cell_type": "code",
      "source": [
        "files.download('XGBoost.pkl')"
      ],
      "metadata": {
        "colab": {
          "base_uri": "https://localhost:8080/",
          "height": 17
        },
        "id": "78unPift9PXJ",
        "outputId": "bdcc1547-28f7-4e8f-d2a6-5e88760b1e40"
      },
      "execution_count": 37,
      "outputs": [
        {
          "output_type": "display_data",
          "data": {
            "text/plain": [
              "<IPython.core.display.Javascript object>"
            ],
            "application/javascript": [
              "\n",
              "    async function download(id, filename, size) {\n",
              "      if (!google.colab.kernel.accessAllowed) {\n",
              "        return;\n",
              "      }\n",
              "      const div = document.createElement('div');\n",
              "      const label = document.createElement('label');\n",
              "      label.textContent = `Downloading \"${filename}\": `;\n",
              "      div.appendChild(label);\n",
              "      const progress = document.createElement('progress');\n",
              "      progress.max = size;\n",
              "      div.appendChild(progress);\n",
              "      document.body.appendChild(div);\n",
              "\n",
              "      const buffers = [];\n",
              "      let downloaded = 0;\n",
              "\n",
              "      const channel = await google.colab.kernel.comms.open(id);\n",
              "      // Send a message to notify the kernel that we're ready.\n",
              "      channel.send({})\n",
              "\n",
              "      for await (const message of channel.messages) {\n",
              "        // Send a message to notify the kernel that we're ready.\n",
              "        channel.send({})\n",
              "        if (message.buffers) {\n",
              "          for (const buffer of message.buffers) {\n",
              "            buffers.push(buffer);\n",
              "            downloaded += buffer.byteLength;\n",
              "            progress.value = downloaded;\n",
              "          }\n",
              "        }\n",
              "      }\n",
              "      const blob = new Blob(buffers, {type: 'application/binary'});\n",
              "      const a = document.createElement('a');\n",
              "      a.href = window.URL.createObjectURL(blob);\n",
              "      a.download = filename;\n",
              "      div.appendChild(a);\n",
              "      a.click();\n",
              "      div.remove();\n",
              "    }\n",
              "  "
            ]
          },
          "metadata": {}
        },
        {
          "output_type": "display_data",
          "data": {
            "text/plain": [
              "<IPython.core.display.Javascript object>"
            ],
            "application/javascript": [
              "download(\"download_4aa3ceba-e626-4c92-afc7-45fd13c6f075\", \"XGBoost.pkl\", 19212)"
            ]
          },
          "metadata": {}
        }
      ]
    },
    {
      "cell_type": "code",
      "source": [
        "model_from_joblib = joblib.load('XGBoost.pkl')\n",
        "model_from_joblib"
      ],
      "metadata": {
        "colab": {
          "base_uri": "https://localhost:8080/",
          "height": 248
        },
        "id": "1Vm3KXCz9WP8",
        "outputId": "59129916-439b-4705-9952-a9d75f576723"
      },
      "execution_count": 38,
      "outputs": [
        {
          "output_type": "execute_result",
          "data": {
            "text/plain": [
              "XGBRegressor(base_score=None, booster=None, callbacks=None,\n",
              "             colsample_bylevel=None, colsample_bynode=None,\n",
              "             colsample_bytree=0.3, early_stopping_rounds=None,\n",
              "             enable_categorical=False, eval_metric=None, feature_types=None,\n",
              "             gamma=None, gpu_id=None, grow_policy=None, importance_type=None,\n",
              "             interaction_constraints=None, learning_rate=0.1, max_bin=None,\n",
              "             max_cat_threshold=None, max_cat_to_onehot=None,\n",
              "             max_delta_step=None, max_depth=3, max_leaves=None,\n",
              "             min_child_weight=None, missing=nan, monotone_constraints=None,\n",
              "             n_estimators=10, n_jobs=None, num_parallel_tree=None,\n",
              "             predictor=None, random_state=None, ...)"
            ],
            "text/html": [
              "<style>#sk-container-id-3 {color: black;background-color: white;}#sk-container-id-3 pre{padding: 0;}#sk-container-id-3 div.sk-toggleable {background-color: white;}#sk-container-id-3 label.sk-toggleable__label {cursor: pointer;display: block;width: 100%;margin-bottom: 0;padding: 0.3em;box-sizing: border-box;text-align: center;}#sk-container-id-3 label.sk-toggleable__label-arrow:before {content: \"▸\";float: left;margin-right: 0.25em;color: #696969;}#sk-container-id-3 label.sk-toggleable__label-arrow:hover:before {color: black;}#sk-container-id-3 div.sk-estimator:hover label.sk-toggleable__label-arrow:before {color: black;}#sk-container-id-3 div.sk-toggleable__content {max-height: 0;max-width: 0;overflow: hidden;text-align: left;background-color: #f0f8ff;}#sk-container-id-3 div.sk-toggleable__content pre {margin: 0.2em;color: black;border-radius: 0.25em;background-color: #f0f8ff;}#sk-container-id-3 input.sk-toggleable__control:checked~div.sk-toggleable__content {max-height: 200px;max-width: 100%;overflow: auto;}#sk-container-id-3 input.sk-toggleable__control:checked~label.sk-toggleable__label-arrow:before {content: \"▾\";}#sk-container-id-3 div.sk-estimator input.sk-toggleable__control:checked~label.sk-toggleable__label {background-color: #d4ebff;}#sk-container-id-3 div.sk-label input.sk-toggleable__control:checked~label.sk-toggleable__label {background-color: #d4ebff;}#sk-container-id-3 input.sk-hidden--visually {border: 0;clip: rect(1px 1px 1px 1px);clip: rect(1px, 1px, 1px, 1px);height: 1px;margin: -1px;overflow: hidden;padding: 0;position: absolute;width: 1px;}#sk-container-id-3 div.sk-estimator {font-family: monospace;background-color: #f0f8ff;border: 1px dotted black;border-radius: 0.25em;box-sizing: border-box;margin-bottom: 0.5em;}#sk-container-id-3 div.sk-estimator:hover {background-color: #d4ebff;}#sk-container-id-3 div.sk-parallel-item::after {content: \"\";width: 100%;border-bottom: 1px solid gray;flex-grow: 1;}#sk-container-id-3 div.sk-label:hover label.sk-toggleable__label {background-color: #d4ebff;}#sk-container-id-3 div.sk-serial::before {content: \"\";position: absolute;border-left: 1px solid gray;box-sizing: border-box;top: 0;bottom: 0;left: 50%;z-index: 0;}#sk-container-id-3 div.sk-serial {display: flex;flex-direction: column;align-items: center;background-color: white;padding-right: 0.2em;padding-left: 0.2em;position: relative;}#sk-container-id-3 div.sk-item {position: relative;z-index: 1;}#sk-container-id-3 div.sk-parallel {display: flex;align-items: stretch;justify-content: center;background-color: white;position: relative;}#sk-container-id-3 div.sk-item::before, #sk-container-id-3 div.sk-parallel-item::before {content: \"\";position: absolute;border-left: 1px solid gray;box-sizing: border-box;top: 0;bottom: 0;left: 50%;z-index: -1;}#sk-container-id-3 div.sk-parallel-item {display: flex;flex-direction: column;z-index: 1;position: relative;background-color: white;}#sk-container-id-3 div.sk-parallel-item:first-child::after {align-self: flex-end;width: 50%;}#sk-container-id-3 div.sk-parallel-item:last-child::after {align-self: flex-start;width: 50%;}#sk-container-id-3 div.sk-parallel-item:only-child::after {width: 0;}#sk-container-id-3 div.sk-dashed-wrapped {border: 1px dashed gray;margin: 0 0.4em 0.5em 0.4em;box-sizing: border-box;padding-bottom: 0.4em;background-color: white;}#sk-container-id-3 div.sk-label label {font-family: monospace;font-weight: bold;display: inline-block;line-height: 1.2em;}#sk-container-id-3 div.sk-label-container {text-align: center;}#sk-container-id-3 div.sk-container {/* jupyter's `normalize.less` sets `[hidden] { display: none; }` but bootstrap.min.css set `[hidden] { display: none !important; }` so we also need the `!important` here to be able to override the default hidden behavior on the sphinx rendered scikit-learn.org. See: https://github.com/scikit-learn/scikit-learn/issues/21755 */display: inline-block !important;position: relative;}#sk-container-id-3 div.sk-text-repr-fallback {display: none;}</style><div id=\"sk-container-id-3\" class=\"sk-top-container\"><div class=\"sk-text-repr-fallback\"><pre>XGBRegressor(base_score=None, booster=None, callbacks=None,\n",
              "             colsample_bylevel=None, colsample_bynode=None,\n",
              "             colsample_bytree=0.3, early_stopping_rounds=None,\n",
              "             enable_categorical=False, eval_metric=None, feature_types=None,\n",
              "             gamma=None, gpu_id=None, grow_policy=None, importance_type=None,\n",
              "             interaction_constraints=None, learning_rate=0.1, max_bin=None,\n",
              "             max_cat_threshold=None, max_cat_to_onehot=None,\n",
              "             max_delta_step=None, max_depth=3, max_leaves=None,\n",
              "             min_child_weight=None, missing=nan, monotone_constraints=None,\n",
              "             n_estimators=10, n_jobs=None, num_parallel_tree=None,\n",
              "             predictor=None, random_state=None, ...)</pre><b>In a Jupyter environment, please rerun this cell to show the HTML representation or trust the notebook. <br />On GitHub, the HTML representation is unable to render, please try loading this page with nbviewer.org.</b></div><div class=\"sk-container\" hidden><div class=\"sk-item\"><div class=\"sk-estimator sk-toggleable\"><input class=\"sk-toggleable__control sk-hidden--visually\" id=\"sk-estimator-id-3\" type=\"checkbox\" checked><label for=\"sk-estimator-id-3\" class=\"sk-toggleable__label sk-toggleable__label-arrow\">XGBRegressor</label><div class=\"sk-toggleable__content\"><pre>XGBRegressor(base_score=None, booster=None, callbacks=None,\n",
              "             colsample_bylevel=None, colsample_bynode=None,\n",
              "             colsample_bytree=0.3, early_stopping_rounds=None,\n",
              "             enable_categorical=False, eval_metric=None, feature_types=None,\n",
              "             gamma=None, gpu_id=None, grow_policy=None, importance_type=None,\n",
              "             interaction_constraints=None, learning_rate=0.1, max_bin=None,\n",
              "             max_cat_threshold=None, max_cat_to_onehot=None,\n",
              "             max_delta_step=None, max_depth=3, max_leaves=None,\n",
              "             min_child_weight=None, missing=nan, monotone_constraints=None,\n",
              "             n_estimators=10, n_jobs=None, num_parallel_tree=None,\n",
              "             predictor=None, random_state=None, ...)</pre></div></div></div></div></div>"
            ]
          },
          "metadata": {},
          "execution_count": 38
        }
      ]
    }
  ]
}